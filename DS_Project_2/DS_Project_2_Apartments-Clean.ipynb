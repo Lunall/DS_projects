{
 "cells": [
  {
   "cell_type": "markdown",
   "metadata": {},
   "source": [
    "# Исследование объявлений о продаже квартир <a class=\"tocSkip\">\n",
    "\n",
    "### Вводная:<a class=\"tocSkip\">"
   ]
  },
  {
   "cell_type": "markdown",
   "metadata": {},
   "source": [
    "  Онлайн сервис по продаже недвижимости \"Топаз\" хочет построить систему для отслеживания аномалий и мошеннической деятельности при продаже квартир. \n",
    "\n",
    "  Вам предоставлен архив объявлений о продаже квартир в Санкт-Петербурге и соседних населённых пунктов за несколько лет. Для каждого объявления доступны два вида данных: заполненные пользователем и полученные автоматически на основе картографических данных. (Например, расстояние до центра, аэропорта, ближайшего парка и водоёма) "
   ]
  },
  {
   "cell_type": "markdown",
   "metadata": {},
   "source": [
    "### Цель <a class=\"tocSkip\">\n",
    "    \n",
    "Установить параметры, характерные для рыночной стоимости объектов недвижимости. Определить, какие факторы больше всего влияют на стоимость квартиры."
   ]
  },
  {
   "cell_type": "markdown",
   "metadata": {},
   "source": [
    "### План проекта: <a class=\"tocSkip\">\n",
    "\n",
    "[1. Открыть файл с данными и изучить общую информацию](#step1)  \n",
    "[2. Предобработка данных](#step2)\n",
    "    - определить и изучить пропущенные значения;\n",
    "    - привести данные к нужным типам.\n",
    "[3. Посчитать и добавить в таблицу:](#step3)\n",
    "    - цену квадратного метра;\n",
    "    - день недели, месяц и год публикации объявления;\n",
    "    - этаж квартиры; варианты — первый, последний, другой;\n",
    "    - соотношение жилой и общей площади, а также отношение площади кухни к общей.\n",
    "[4. Провести исследовательский анализ данных:](#step4)\n",
    "    - Изучить следующие параметры: площадь, цена, число комнат, высота потолков.\n",
    "    - Изучить время продажи квартиры. \n",
    "    - Убрать редкие и выбивающиеся значения. \n",
    "    - Определить, какие факторы больше всего влияют на стоимость квартиры.\n",
    "    - Выбрать 10 населённых пунктов с наибольшим числом объявлений. Посчитайте среднюю цену квадратного метра в этих населённых пунктах. \n",
    "    - Изучить предложения квартир в центре Санкт-Петербурга.\n",
    "    - Сравнить выводы по центру Санкт-Петербурга с общими выводами по всему городу.\n",
    "[5. Общий вывод](#step5)"
   ]
  },
  {
   "cell_type": "markdown",
   "metadata": {},
   "source": [
    "#### Описание данных <a class=\"tocSkip\">\n",
    "<p align=left>\n",
    "\n",
    "| Признак | Описание |\n",
    ":---|:---\n",
    "airports_nearest | расстояние до ближайшего аэропорта в метрах (м)\n",
    "balcony | число балконов\n",
    "ceiling_height | высота потолков (м)\n",
    "cityCenters_nearest | расстояние до центра города (м)\n",
    "days_exposition | сколько дней было размещено объявление (от публикации до снятия)\n",
    "first_day_exposition | дата публикации\n",
    "floor | этаж\n",
    "floors_total | всего этажей в доме\n",
    "is_apartment | апартаменты (булев тип)\n",
    "kitchen_area | площадь кухни в квадратных метрах (м²)\n",
    "last_price | цена на момент снятия с публикации\n",
    "living_area | жилая площадь в квадратных метрах(м²)\n",
    "locality_name | название населённого пункта\n",
    "open_plan | свободная планировка (булев тип)\n",
    "parks_around3000 | число парков в радиусе 3 км\n",
    "parks_nearest | расстояние до ближайшего парка (м)\n",
    "ponds_around3000 | число водоёмов в радиусе 3 км\n",
    "ponds_nearest | расстояние до ближайшего водоёма (м)\n",
    "rooms | число комнат\n",
    "studio | квартира-студия (булев тип)\n",
    "total_area | площадь квартиры в квадратных метрах (м²)\n",
    "total_images | число фотографий квартиры в объявлении\n",
    "    \n",
    "</p>"
   ]
  },
  {
   "cell_type": "markdown",
   "metadata": {},
   "source": [
    "### 0. Установка библиотек"
   ]
  },
  {
   "cell_type": "code",
   "execution_count": null,
   "metadata": {},
   "outputs": [],
   "source": [
    "%pip install dill\n",
    "import dill\n",
    "import pandas as pd\n",
    "import sklearn.linear_model as lm\n",
    "import matplotlib.pyplot as plt\n",
    "import seaborn as sns"
   ]
  },
  {
   "cell_type": "markdown",
   "metadata": {},
   "source": [
    "### Шаг 1. Открытие файла с данными и изучение общей информации.  <a id='step1'></a>"
   ]
  },
  {
   "cell_type": "code",
   "execution_count": 1,
   "metadata": {},
   "outputs": [
    {
     "data": {
      "text/html": [
       "<div>\n",
       "<style scoped>\n",
       "    .dataframe tbody tr th:only-of-type {\n",
       "        vertical-align: middle;\n",
       "    }\n",
       "\n",
       "    .dataframe tbody tr th {\n",
       "        vertical-align: top;\n",
       "    }\n",
       "\n",
       "    .dataframe thead th {\n",
       "        text-align: right;\n",
       "    }\n",
       "</style>\n",
       "<table border=\"1\" class=\"dataframe\">\n",
       "  <thead>\n",
       "    <tr style=\"text-align: right;\">\n",
       "      <th></th>\n",
       "      <th>total_images</th>\n",
       "      <th>last_price</th>\n",
       "      <th>total_area</th>\n",
       "      <th>first_day_exposition</th>\n",
       "      <th>rooms</th>\n",
       "      <th>ceiling_height</th>\n",
       "      <th>floors_total</th>\n",
       "      <th>living_area</th>\n",
       "      <th>floor</th>\n",
       "      <th>is_apartment</th>\n",
       "      <th>studio</th>\n",
       "      <th>open_plan</th>\n",
       "      <th>kitchen_area</th>\n",
       "      <th>balcony</th>\n",
       "      <th>locality_name</th>\n",
       "      <th>airports_nearest</th>\n",
       "      <th>cityCenters_nearest</th>\n",
       "      <th>parks_around3000</th>\n",
       "      <th>parks_nearest</th>\n",
       "      <th>ponds_around3000</th>\n",
       "      <th>ponds_nearest</th>\n",
       "      <th>days_exposition</th>\n",
       "    </tr>\n",
       "  </thead>\n",
       "  <tbody>\n",
       "    <tr>\n",
       "      <td>0</td>\n",
       "      <td>20</td>\n",
       "      <td>13000000.0</td>\n",
       "      <td>108.00</td>\n",
       "      <td>2019-03-07T00:00:00</td>\n",
       "      <td>3</td>\n",
       "      <td>2.70</td>\n",
       "      <td>16.0</td>\n",
       "      <td>51.00</td>\n",
       "      <td>8</td>\n",
       "      <td>NaN</td>\n",
       "      <td>False</td>\n",
       "      <td>False</td>\n",
       "      <td>25.00</td>\n",
       "      <td>NaN</td>\n",
       "      <td>Санкт-Петербург</td>\n",
       "      <td>18863.0</td>\n",
       "      <td>16028.0</td>\n",
       "      <td>1.0</td>\n",
       "      <td>482.0</td>\n",
       "      <td>2.0</td>\n",
       "      <td>755.0</td>\n",
       "      <td>NaN</td>\n",
       "    </tr>\n",
       "    <tr>\n",
       "      <td>1</td>\n",
       "      <td>7</td>\n",
       "      <td>3350000.0</td>\n",
       "      <td>40.40</td>\n",
       "      <td>2018-12-04T00:00:00</td>\n",
       "      <td>1</td>\n",
       "      <td>NaN</td>\n",
       "      <td>11.0</td>\n",
       "      <td>18.60</td>\n",
       "      <td>1</td>\n",
       "      <td>NaN</td>\n",
       "      <td>False</td>\n",
       "      <td>False</td>\n",
       "      <td>11.00</td>\n",
       "      <td>2.0</td>\n",
       "      <td>посёлок Шушары</td>\n",
       "      <td>12817.0</td>\n",
       "      <td>18603.0</td>\n",
       "      <td>0.0</td>\n",
       "      <td>NaN</td>\n",
       "      <td>0.0</td>\n",
       "      <td>NaN</td>\n",
       "      <td>81.0</td>\n",
       "    </tr>\n",
       "    <tr>\n",
       "      <td>2</td>\n",
       "      <td>10</td>\n",
       "      <td>5196000.0</td>\n",
       "      <td>56.00</td>\n",
       "      <td>2015-08-20T00:00:00</td>\n",
       "      <td>2</td>\n",
       "      <td>NaN</td>\n",
       "      <td>5.0</td>\n",
       "      <td>34.30</td>\n",
       "      <td>4</td>\n",
       "      <td>NaN</td>\n",
       "      <td>False</td>\n",
       "      <td>False</td>\n",
       "      <td>8.30</td>\n",
       "      <td>0.0</td>\n",
       "      <td>Санкт-Петербург</td>\n",
       "      <td>21741.0</td>\n",
       "      <td>13933.0</td>\n",
       "      <td>1.0</td>\n",
       "      <td>90.0</td>\n",
       "      <td>2.0</td>\n",
       "      <td>574.0</td>\n",
       "      <td>558.0</td>\n",
       "    </tr>\n",
       "    <tr>\n",
       "      <td>3</td>\n",
       "      <td>0</td>\n",
       "      <td>64900000.0</td>\n",
       "      <td>159.00</td>\n",
       "      <td>2015-07-24T00:00:00</td>\n",
       "      <td>3</td>\n",
       "      <td>NaN</td>\n",
       "      <td>14.0</td>\n",
       "      <td>NaN</td>\n",
       "      <td>9</td>\n",
       "      <td>NaN</td>\n",
       "      <td>False</td>\n",
       "      <td>False</td>\n",
       "      <td>NaN</td>\n",
       "      <td>0.0</td>\n",
       "      <td>Санкт-Петербург</td>\n",
       "      <td>28098.0</td>\n",
       "      <td>6800.0</td>\n",
       "      <td>2.0</td>\n",
       "      <td>84.0</td>\n",
       "      <td>3.0</td>\n",
       "      <td>234.0</td>\n",
       "      <td>424.0</td>\n",
       "    </tr>\n",
       "    <tr>\n",
       "      <td>4</td>\n",
       "      <td>2</td>\n",
       "      <td>10000000.0</td>\n",
       "      <td>100.00</td>\n",
       "      <td>2018-06-19T00:00:00</td>\n",
       "      <td>2</td>\n",
       "      <td>3.03</td>\n",
       "      <td>14.0</td>\n",
       "      <td>32.00</td>\n",
       "      <td>13</td>\n",
       "      <td>NaN</td>\n",
       "      <td>False</td>\n",
       "      <td>False</td>\n",
       "      <td>41.00</td>\n",
       "      <td>NaN</td>\n",
       "      <td>Санкт-Петербург</td>\n",
       "      <td>31856.0</td>\n",
       "      <td>8098.0</td>\n",
       "      <td>2.0</td>\n",
       "      <td>112.0</td>\n",
       "      <td>1.0</td>\n",
       "      <td>48.0</td>\n",
       "      <td>121.0</td>\n",
       "    </tr>\n",
       "    <tr>\n",
       "      <td>5</td>\n",
       "      <td>10</td>\n",
       "      <td>2890000.0</td>\n",
       "      <td>30.40</td>\n",
       "      <td>2018-09-10T00:00:00</td>\n",
       "      <td>1</td>\n",
       "      <td>NaN</td>\n",
       "      <td>12.0</td>\n",
       "      <td>14.40</td>\n",
       "      <td>5</td>\n",
       "      <td>NaN</td>\n",
       "      <td>False</td>\n",
       "      <td>False</td>\n",
       "      <td>9.10</td>\n",
       "      <td>NaN</td>\n",
       "      <td>городской посёлок Янино-1</td>\n",
       "      <td>NaN</td>\n",
       "      <td>NaN</td>\n",
       "      <td>NaN</td>\n",
       "      <td>NaN</td>\n",
       "      <td>NaN</td>\n",
       "      <td>NaN</td>\n",
       "      <td>55.0</td>\n",
       "    </tr>\n",
       "    <tr>\n",
       "      <td>6</td>\n",
       "      <td>6</td>\n",
       "      <td>3700000.0</td>\n",
       "      <td>37.30</td>\n",
       "      <td>2017-11-02T00:00:00</td>\n",
       "      <td>1</td>\n",
       "      <td>NaN</td>\n",
       "      <td>26.0</td>\n",
       "      <td>10.60</td>\n",
       "      <td>6</td>\n",
       "      <td>NaN</td>\n",
       "      <td>False</td>\n",
       "      <td>False</td>\n",
       "      <td>14.40</td>\n",
       "      <td>1.0</td>\n",
       "      <td>посёлок Парголово</td>\n",
       "      <td>52996.0</td>\n",
       "      <td>19143.0</td>\n",
       "      <td>0.0</td>\n",
       "      <td>NaN</td>\n",
       "      <td>0.0</td>\n",
       "      <td>NaN</td>\n",
       "      <td>155.0</td>\n",
       "    </tr>\n",
       "    <tr>\n",
       "      <td>7</td>\n",
       "      <td>5</td>\n",
       "      <td>7915000.0</td>\n",
       "      <td>71.60</td>\n",
       "      <td>2019-04-18T00:00:00</td>\n",
       "      <td>2</td>\n",
       "      <td>NaN</td>\n",
       "      <td>24.0</td>\n",
       "      <td>NaN</td>\n",
       "      <td>22</td>\n",
       "      <td>NaN</td>\n",
       "      <td>False</td>\n",
       "      <td>False</td>\n",
       "      <td>18.90</td>\n",
       "      <td>2.0</td>\n",
       "      <td>Санкт-Петербург</td>\n",
       "      <td>23982.0</td>\n",
       "      <td>11634.0</td>\n",
       "      <td>0.0</td>\n",
       "      <td>NaN</td>\n",
       "      <td>0.0</td>\n",
       "      <td>NaN</td>\n",
       "      <td>NaN</td>\n",
       "    </tr>\n",
       "    <tr>\n",
       "      <td>8</td>\n",
       "      <td>20</td>\n",
       "      <td>2900000.0</td>\n",
       "      <td>33.16</td>\n",
       "      <td>2018-05-23T00:00:00</td>\n",
       "      <td>1</td>\n",
       "      <td>NaN</td>\n",
       "      <td>27.0</td>\n",
       "      <td>15.43</td>\n",
       "      <td>26</td>\n",
       "      <td>NaN</td>\n",
       "      <td>False</td>\n",
       "      <td>False</td>\n",
       "      <td>8.81</td>\n",
       "      <td>NaN</td>\n",
       "      <td>посёлок Мурино</td>\n",
       "      <td>NaN</td>\n",
       "      <td>NaN</td>\n",
       "      <td>NaN</td>\n",
       "      <td>NaN</td>\n",
       "      <td>NaN</td>\n",
       "      <td>NaN</td>\n",
       "      <td>189.0</td>\n",
       "    </tr>\n",
       "    <tr>\n",
       "      <td>9</td>\n",
       "      <td>18</td>\n",
       "      <td>5400000.0</td>\n",
       "      <td>61.00</td>\n",
       "      <td>2017-02-26T00:00:00</td>\n",
       "      <td>3</td>\n",
       "      <td>2.50</td>\n",
       "      <td>9.0</td>\n",
       "      <td>43.60</td>\n",
       "      <td>7</td>\n",
       "      <td>NaN</td>\n",
       "      <td>False</td>\n",
       "      <td>False</td>\n",
       "      <td>6.50</td>\n",
       "      <td>2.0</td>\n",
       "      <td>Санкт-Петербург</td>\n",
       "      <td>50898.0</td>\n",
       "      <td>15008.0</td>\n",
       "      <td>0.0</td>\n",
       "      <td>NaN</td>\n",
       "      <td>0.0</td>\n",
       "      <td>NaN</td>\n",
       "      <td>289.0</td>\n",
       "    </tr>\n",
       "  </tbody>\n",
       "</table>\n",
       "</div>"
      ],
      "text/plain": [
       "   total_images  last_price  total_area first_day_exposition  rooms  \\\n",
       "0            20  13000000.0      108.00  2019-03-07T00:00:00      3   \n",
       "1             7   3350000.0       40.40  2018-12-04T00:00:00      1   \n",
       "2            10   5196000.0       56.00  2015-08-20T00:00:00      2   \n",
       "3             0  64900000.0      159.00  2015-07-24T00:00:00      3   \n",
       "4             2  10000000.0      100.00  2018-06-19T00:00:00      2   \n",
       "5            10   2890000.0       30.40  2018-09-10T00:00:00      1   \n",
       "6             6   3700000.0       37.30  2017-11-02T00:00:00      1   \n",
       "7             5   7915000.0       71.60  2019-04-18T00:00:00      2   \n",
       "8            20   2900000.0       33.16  2018-05-23T00:00:00      1   \n",
       "9            18   5400000.0       61.00  2017-02-26T00:00:00      3   \n",
       "\n",
       "   ceiling_height  floors_total  living_area  floor is_apartment  studio  \\\n",
       "0            2.70          16.0        51.00      8          NaN   False   \n",
       "1             NaN          11.0        18.60      1          NaN   False   \n",
       "2             NaN           5.0        34.30      4          NaN   False   \n",
       "3             NaN          14.0          NaN      9          NaN   False   \n",
       "4            3.03          14.0        32.00     13          NaN   False   \n",
       "5             NaN          12.0        14.40      5          NaN   False   \n",
       "6             NaN          26.0        10.60      6          NaN   False   \n",
       "7             NaN          24.0          NaN     22          NaN   False   \n",
       "8             NaN          27.0        15.43     26          NaN   False   \n",
       "9            2.50           9.0        43.60      7          NaN   False   \n",
       "\n",
       "   open_plan  kitchen_area  balcony              locality_name  \\\n",
       "0      False         25.00      NaN            Санкт-Петербург   \n",
       "1      False         11.00      2.0             посёлок Шушары   \n",
       "2      False          8.30      0.0            Санкт-Петербург   \n",
       "3      False           NaN      0.0            Санкт-Петербург   \n",
       "4      False         41.00      NaN            Санкт-Петербург   \n",
       "5      False          9.10      NaN  городской посёлок Янино-1   \n",
       "6      False         14.40      1.0          посёлок Парголово   \n",
       "7      False         18.90      2.0            Санкт-Петербург   \n",
       "8      False          8.81      NaN             посёлок Мурино   \n",
       "9      False          6.50      2.0            Санкт-Петербург   \n",
       "\n",
       "   airports_nearest  cityCenters_nearest  parks_around3000  parks_nearest  \\\n",
       "0           18863.0              16028.0               1.0          482.0   \n",
       "1           12817.0              18603.0               0.0            NaN   \n",
       "2           21741.0              13933.0               1.0           90.0   \n",
       "3           28098.0               6800.0               2.0           84.0   \n",
       "4           31856.0               8098.0               2.0          112.0   \n",
       "5               NaN                  NaN               NaN            NaN   \n",
       "6           52996.0              19143.0               0.0            NaN   \n",
       "7           23982.0              11634.0               0.0            NaN   \n",
       "8               NaN                  NaN               NaN            NaN   \n",
       "9           50898.0              15008.0               0.0            NaN   \n",
       "\n",
       "   ponds_around3000  ponds_nearest  days_exposition  \n",
       "0               2.0          755.0              NaN  \n",
       "1               0.0            NaN             81.0  \n",
       "2               2.0          574.0            558.0  \n",
       "3               3.0          234.0            424.0  \n",
       "4               1.0           48.0            121.0  \n",
       "5               NaN            NaN             55.0  \n",
       "6               0.0            NaN            155.0  \n",
       "7               0.0            NaN              NaN  \n",
       "8               NaN            NaN            189.0  \n",
       "9               0.0            NaN            289.0  "
      ]
     },
     "execution_count": 1,
     "metadata": {},
     "output_type": "execute_result"
    }
   ],
   "source": [
    "#прочтем датафрейм, указав разделитель '\\t'\n",
    "data = pd.read_csv('/datasets/real_estate_data.csv', sep='\\t')\n",
    "\n",
    "#включим отображение всех столбцов\n",
    "pd.set_option('display.max_columns', None)\n",
    "\n",
    "data.head(10)"
   ]
  },
  {
   "cell_type": "code",
   "execution_count": 2,
   "metadata": {},
   "outputs": [
    {
     "name": "stdout",
     "output_type": "stream",
     "text": [
      "<class 'pandas.core.frame.DataFrame'>\n",
      "RangeIndex: 23699 entries, 0 to 23698\n",
      "Data columns (total 22 columns):\n",
      "total_images            23699 non-null int64\n",
      "last_price              23699 non-null float64\n",
      "total_area              23699 non-null float64\n",
      "first_day_exposition    23699 non-null object\n",
      "rooms                   23699 non-null int64\n",
      "ceiling_height          14504 non-null float64\n",
      "floors_total            23613 non-null float64\n",
      "living_area             21796 non-null float64\n",
      "floor                   23699 non-null int64\n",
      "is_apartment            2775 non-null object\n",
      "studio                  23699 non-null bool\n",
      "open_plan               23699 non-null bool\n",
      "kitchen_area            21421 non-null float64\n",
      "balcony                 12180 non-null float64\n",
      "locality_name           23650 non-null object\n",
      "airports_nearest        18157 non-null float64\n",
      "cityCenters_nearest     18180 non-null float64\n",
      "parks_around3000        18181 non-null float64\n",
      "parks_nearest           8079 non-null float64\n",
      "ponds_around3000        18181 non-null float64\n",
      "ponds_nearest           9110 non-null float64\n",
      "days_exposition         20518 non-null float64\n",
      "dtypes: bool(2), float64(14), int64(3), object(3)\n",
      "memory usage: 3.7+ MB\n"
     ]
    }
   ],
   "source": [
    "data.info()"
   ]
  },
  {
   "cell_type": "code",
   "execution_count": 3,
   "metadata": {},
   "outputs": [
    {
     "data": {
      "text/html": [
       "<div>\n",
       "<style scoped>\n",
       "    .dataframe tbody tr th:only-of-type {\n",
       "        vertical-align: middle;\n",
       "    }\n",
       "\n",
       "    .dataframe tbody tr th {\n",
       "        vertical-align: top;\n",
       "    }\n",
       "\n",
       "    .dataframe thead th {\n",
       "        text-align: right;\n",
       "    }\n",
       "</style>\n",
       "<table border=\"1\" class=\"dataframe\">\n",
       "  <thead>\n",
       "    <tr style=\"text-align: right;\">\n",
       "      <th></th>\n",
       "      <th>total_images</th>\n",
       "      <th>last_price</th>\n",
       "      <th>total_area</th>\n",
       "      <th>rooms</th>\n",
       "      <th>ceiling_height</th>\n",
       "      <th>floors_total</th>\n",
       "      <th>living_area</th>\n",
       "      <th>floor</th>\n",
       "      <th>kitchen_area</th>\n",
       "      <th>balcony</th>\n",
       "      <th>airports_nearest</th>\n",
       "      <th>cityCenters_nearest</th>\n",
       "      <th>parks_around3000</th>\n",
       "      <th>parks_nearest</th>\n",
       "      <th>ponds_around3000</th>\n",
       "      <th>ponds_nearest</th>\n",
       "      <th>days_exposition</th>\n",
       "    </tr>\n",
       "  </thead>\n",
       "  <tbody>\n",
       "    <tr>\n",
       "      <td>count</td>\n",
       "      <td>23699.0</td>\n",
       "      <td>2.4e+04</td>\n",
       "      <td>23699.0</td>\n",
       "      <td>23699.0</td>\n",
       "      <td>14504.0</td>\n",
       "      <td>23613.0</td>\n",
       "      <td>21796.0</td>\n",
       "      <td>23699.0</td>\n",
       "      <td>21421.0</td>\n",
       "      <td>12180.0</td>\n",
       "      <td>18157.0</td>\n",
       "      <td>18180.0</td>\n",
       "      <td>18181.0</td>\n",
       "      <td>8079.0</td>\n",
       "      <td>18181.0</td>\n",
       "      <td>9110.0</td>\n",
       "      <td>20518.0</td>\n",
       "    </tr>\n",
       "    <tr>\n",
       "      <td>mean</td>\n",
       "      <td>9.9</td>\n",
       "      <td>6.5e+06</td>\n",
       "      <td>60.3</td>\n",
       "      <td>2.1</td>\n",
       "      <td>2.8</td>\n",
       "      <td>10.7</td>\n",
       "      <td>34.5</td>\n",
       "      <td>5.9</td>\n",
       "      <td>10.6</td>\n",
       "      <td>1.2</td>\n",
       "      <td>28793.7</td>\n",
       "      <td>14191.3</td>\n",
       "      <td>0.6</td>\n",
       "      <td>490.8</td>\n",
       "      <td>0.8</td>\n",
       "      <td>518.0</td>\n",
       "      <td>180.9</td>\n",
       "    </tr>\n",
       "    <tr>\n",
       "      <td>std</td>\n",
       "      <td>5.7</td>\n",
       "      <td>1.1e+07</td>\n",
       "      <td>35.7</td>\n",
       "      <td>1.1</td>\n",
       "      <td>1.3</td>\n",
       "      <td>6.6</td>\n",
       "      <td>22.0</td>\n",
       "      <td>4.9</td>\n",
       "      <td>5.9</td>\n",
       "      <td>1.1</td>\n",
       "      <td>12630.9</td>\n",
       "      <td>8608.4</td>\n",
       "      <td>0.8</td>\n",
       "      <td>342.3</td>\n",
       "      <td>0.9</td>\n",
       "      <td>277.7</td>\n",
       "      <td>219.7</td>\n",
       "    </tr>\n",
       "    <tr>\n",
       "      <td>min</td>\n",
       "      <td>0.0</td>\n",
       "      <td>1.2e+04</td>\n",
       "      <td>12.0</td>\n",
       "      <td>0.0</td>\n",
       "      <td>1.0</td>\n",
       "      <td>1.0</td>\n",
       "      <td>2.0</td>\n",
       "      <td>1.0</td>\n",
       "      <td>1.3</td>\n",
       "      <td>0.0</td>\n",
       "      <td>0.0</td>\n",
       "      <td>181.0</td>\n",
       "      <td>0.0</td>\n",
       "      <td>1.0</td>\n",
       "      <td>0.0</td>\n",
       "      <td>13.0</td>\n",
       "      <td>1.0</td>\n",
       "    </tr>\n",
       "    <tr>\n",
       "      <td>25%</td>\n",
       "      <td>6.0</td>\n",
       "      <td>3.4e+06</td>\n",
       "      <td>40.0</td>\n",
       "      <td>1.0</td>\n",
       "      <td>2.5</td>\n",
       "      <td>5.0</td>\n",
       "      <td>18.6</td>\n",
       "      <td>2.0</td>\n",
       "      <td>7.0</td>\n",
       "      <td>0.0</td>\n",
       "      <td>18585.0</td>\n",
       "      <td>9238.0</td>\n",
       "      <td>0.0</td>\n",
       "      <td>288.0</td>\n",
       "      <td>0.0</td>\n",
       "      <td>294.0</td>\n",
       "      <td>45.0</td>\n",
       "    </tr>\n",
       "    <tr>\n",
       "      <td>50%</td>\n",
       "      <td>9.0</td>\n",
       "      <td>4.6e+06</td>\n",
       "      <td>52.0</td>\n",
       "      <td>2.0</td>\n",
       "      <td>2.6</td>\n",
       "      <td>9.0</td>\n",
       "      <td>30.0</td>\n",
       "      <td>4.0</td>\n",
       "      <td>9.1</td>\n",
       "      <td>1.0</td>\n",
       "      <td>26726.0</td>\n",
       "      <td>13098.5</td>\n",
       "      <td>0.0</td>\n",
       "      <td>455.0</td>\n",
       "      <td>1.0</td>\n",
       "      <td>502.0</td>\n",
       "      <td>95.0</td>\n",
       "    </tr>\n",
       "    <tr>\n",
       "      <td>75%</td>\n",
       "      <td>14.0</td>\n",
       "      <td>6.8e+06</td>\n",
       "      <td>69.9</td>\n",
       "      <td>3.0</td>\n",
       "      <td>2.8</td>\n",
       "      <td>16.0</td>\n",
       "      <td>42.3</td>\n",
       "      <td>8.0</td>\n",
       "      <td>12.0</td>\n",
       "      <td>2.0</td>\n",
       "      <td>37273.0</td>\n",
       "      <td>16293.0</td>\n",
       "      <td>1.0</td>\n",
       "      <td>612.0</td>\n",
       "      <td>1.0</td>\n",
       "      <td>729.0</td>\n",
       "      <td>232.0</td>\n",
       "    </tr>\n",
       "    <tr>\n",
       "      <td>max</td>\n",
       "      <td>50.0</td>\n",
       "      <td>7.6e+08</td>\n",
       "      <td>900.0</td>\n",
       "      <td>19.0</td>\n",
       "      <td>100.0</td>\n",
       "      <td>60.0</td>\n",
       "      <td>409.7</td>\n",
       "      <td>33.0</td>\n",
       "      <td>112.0</td>\n",
       "      <td>5.0</td>\n",
       "      <td>84869.0</td>\n",
       "      <td>65968.0</td>\n",
       "      <td>3.0</td>\n",
       "      <td>3190.0</td>\n",
       "      <td>3.0</td>\n",
       "      <td>1344.0</td>\n",
       "      <td>1580.0</td>\n",
       "    </tr>\n",
       "  </tbody>\n",
       "</table>\n",
       "</div>"
      ],
      "text/plain": [
       "       total_images  last_price  total_area    rooms  ceiling_height  \\\n",
       "count       23699.0     2.4e+04     23699.0  23699.0         14504.0   \n",
       "mean            9.9     6.5e+06        60.3      2.1             2.8   \n",
       "std             5.7     1.1e+07        35.7      1.1             1.3   \n",
       "min             0.0     1.2e+04        12.0      0.0             1.0   \n",
       "25%             6.0     3.4e+06        40.0      1.0             2.5   \n",
       "50%             9.0     4.6e+06        52.0      2.0             2.6   \n",
       "75%            14.0     6.8e+06        69.9      3.0             2.8   \n",
       "max            50.0     7.6e+08       900.0     19.0           100.0   \n",
       "\n",
       "       floors_total  living_area    floor  kitchen_area  balcony  \\\n",
       "count       23613.0      21796.0  23699.0       21421.0  12180.0   \n",
       "mean           10.7         34.5      5.9          10.6      1.2   \n",
       "std             6.6         22.0      4.9           5.9      1.1   \n",
       "min             1.0          2.0      1.0           1.3      0.0   \n",
       "25%             5.0         18.6      2.0           7.0      0.0   \n",
       "50%             9.0         30.0      4.0           9.1      1.0   \n",
       "75%            16.0         42.3      8.0          12.0      2.0   \n",
       "max            60.0        409.7     33.0         112.0      5.0   \n",
       "\n",
       "       airports_nearest  cityCenters_nearest  parks_around3000  parks_nearest  \\\n",
       "count           18157.0              18180.0           18181.0         8079.0   \n",
       "mean            28793.7              14191.3               0.6          490.8   \n",
       "std             12630.9               8608.4               0.8          342.3   \n",
       "min                 0.0                181.0               0.0            1.0   \n",
       "25%             18585.0               9238.0               0.0          288.0   \n",
       "50%             26726.0              13098.5               0.0          455.0   \n",
       "75%             37273.0              16293.0               1.0          612.0   \n",
       "max             84869.0              65968.0               3.0         3190.0   \n",
       "\n",
       "       ponds_around3000  ponds_nearest  days_exposition  \n",
       "count           18181.0         9110.0          20518.0  \n",
       "mean                0.8          518.0            180.9  \n",
       "std                 0.9          277.7            219.7  \n",
       "min                 0.0           13.0              1.0  \n",
       "25%                 0.0          294.0             45.0  \n",
       "50%                 1.0          502.0             95.0  \n",
       "75%                 1.0          729.0            232.0  \n",
       "max                 3.0         1344.0           1580.0  "
      ]
     },
     "execution_count": 3,
     "metadata": {},
     "output_type": "execute_result"
    }
   ],
   "source": [
    "#для наглядности установим отображение 1 знака после запятой\n",
    "pd.set_option('precision', 1)\n",
    "\n",
    "data.describe()"
   ]
  },
  {
   "cell_type": "markdown",
   "metadata": {},
   "source": [
    "### Вывод"
   ]
  },
  {
   "cell_type": "markdown",
   "metadata": {},
   "source": [
    "После получения данных мы имеем информацию о 23699 объявлениях с 22 возможными признаками. Названия столбцов (признаков) соответствуют документации.\n",
    "Первичный взгляд на данные позволяет выявить следующие проблемы:\n",
    "1. Признак `first_day_exposition` (дата публикации) имеет тип object, его необходимо заменить на формат datetime.\n",
    "2. `is_apartment` (апартаменты) имеет тип object, хотя должен иметь булев тип данных.\n",
    "3. В данных большое количство пропущенных значений (в 15 столбцах), их можно обработать.       \n",
    "4. В столбце `ceiling_height` (высота потолка) есть аномально большие (100м) значения. \n",
    "5. Также необходимо обратить на странный разброс `living_area` (жил. площадь) - 2м минимальная и 409м максимальная площадь.\n",
    "6. В значениях `kitchen_area` (площадь кухни) минимальная площадь 1.3м - \n",
    "7. `airports_nearest` минимальное значение 0 метров - что это означает? Здание на территории аэропорта? или человек имелл ввиду что их нет рядом?\n",
    "\n",
    "Попробуем решить эти задачи – перейдем к предобработке данных."
   ]
  },
  {
   "cell_type": "markdown",
   "metadata": {},
   "source": [
    "### Шаг 2. Предобработка данных"
   ]
  },
  {
   "cell_type": "markdown",
   "metadata": {},
   "source": [
    "#### 2.1. Обработка пропусков"
   ]
  },
  {
   "cell_type": "code",
   "execution_count": 4,
   "metadata": {
    "scrolled": true
   },
   "outputs": [
    {
     "data": {
      "text/plain": [
       "total_images                0\n",
       "last_price                  0\n",
       "total_area                  0\n",
       "first_day_exposition        0\n",
       "rooms                       0\n",
       "ceiling_height           9195\n",
       "floors_total               86\n",
       "living_area              1903\n",
       "floor                       0\n",
       "is_apartment            20924\n",
       "studio                      0\n",
       "open_plan                   0\n",
       "kitchen_area             2278\n",
       "balcony                 11519\n",
       "locality_name              49\n",
       "airports_nearest         5542\n",
       "cityCenters_nearest      5519\n",
       "parks_around3000         5518\n",
       "parks_nearest           15620\n",
       "ponds_around3000         5518\n",
       "ponds_nearest           14589\n",
       "days_exposition          3181\n",
       "dtype: int64"
      ]
     },
     "execution_count": 4,
     "metadata": {},
     "output_type": "execute_result"
    }
   ],
   "source": [
    "data.isna().sum()"
   ]
  },
  {
   "cell_type": "code",
   "execution_count": 5,
   "metadata": {},
   "outputs": [],
   "source": [
    "#соберем всю статистику в одну функцию\n",
    "def stats_for_missing(column_name):\n",
    "    print(missing_values(column_name))\n",
    "    print()\n",
    "    print(data.corr().loc[column_name].sort_values(ascending= False))\n",
    "    \n",
    "\n",
    "#создадим фунцию, подсчитывающую процент пропусков\n",
    "def missing_values(column_name):\n",
    "    return 'Доля пропущеных значений: {:.1%}'.format(data[column_name].isna().sum() / len(data[column_name]))"
   ]
  },
  {
   "cell_type": "markdown",
   "metadata": {},
   "source": [
    "##### 2.1.1. Высота потолков\n",
    "Начнем по порядку - с высоты потолков. "
   ]
  },
  {
   "cell_type": "code",
   "execution_count": 6,
   "metadata": {},
   "outputs": [
    {
     "data": {
      "text/plain": [
       "'Доля пропущеных значений: 38.8%'"
      ]
     },
     "execution_count": 6,
     "metadata": {},
     "output_type": "execute_result"
    }
   ],
   "source": [
    "missing_values('ceiling_height')"
   ]
  },
  {
   "cell_type": "markdown",
   "metadata": {},
   "source": [
    "Доля довольно велика, поэтому оценим как эти значения восстановить:<a id='ceiling0'></a>"
   ]
  },
  {
   "cell_type": "code",
   "execution_count": 7,
   "metadata": {},
   "outputs": [
    {
     "data": {
      "text/plain": [
       "<matplotlib.axes._subplots.AxesSubplot at 0x7f144e0b01d0>"
      ]
     },
     "execution_count": 7,
     "metadata": {},
     "output_type": "execute_result"
    },
    {
     "data": {
      "image/png": "[encoded data removed]",
      "text/plain": [
       "<Figure size 432x432 with 1 Axes>"
      ]
     },
     "metadata": {
      "needs_background": "light"
     },
     "output_type": "display_data"
    }
   ],
   "source": [
    "data.plot(y = 'ceiling_height', \n",
    "          kind= 'hist',\n",
    "          xlim= (2, 5),\n",
    "          bins= 1000,\n",
    "          figsize=(6, 6),\n",
    "          grid= True)"
   ]
  },
  {
   "cell_type": "code",
   "execution_count": 8,
   "metadata": {},
   "outputs": [
    {
     "data": {
      "text/plain": [
       "total_images          -0.0020\n",
       "last_price             0.0854\n",
       "total_area             0.0955\n",
       "rooms                  0.0545\n",
       "ceiling_height         1.0000\n",
       "floors_total          -0.0287\n",
       "living_area            0.0906\n",
       "floor                 -0.0118\n",
       "studio                 0.0017\n",
       "open_plan              0.0428\n",
       "kitchen_area           0.0876\n",
       "balcony                0.0405\n",
       "airports_nearest      -0.0239\n",
       "cityCenters_nearest   -0.0917\n",
       "parks_around3000       0.0659\n",
       "parks_nearest         -0.0192\n",
       "ponds_around3000       0.0782\n",
       "ponds_nearest         -0.0591\n",
       "days_exposition        0.0191\n",
       "Name: ceiling_height, dtype: float64"
      ]
     },
     "execution_count": 8,
     "metadata": {},
     "output_type": "execute_result"
    }
   ],
   "source": [
    "pd.set_option('precision', 4)\n",
    "\n",
    "data.corr().ceiling_height"
   ]
  },
  {
   "cell_type": "markdown",
   "metadata": {},
   "source": [
    "Значимой связи высоты потолков с другими переменными не выявлено, поэтому будем заполнять пропуски на основе самой переменной – основная часть значений лежит около медианы, поэтому мы можем использовать для заполнения медианное значение."
   ]
  },
  {
   "cell_type": "code",
   "execution_count": 9,
   "metadata": {},
   "outputs": [
    {
     "data": {
      "text/plain": [
       "0"
      ]
     },
     "execution_count": 9,
     "metadata": {},
     "output_type": "execute_result"
    }
   ],
   "source": [
    "data['ceiling_height'] = data['ceiling_height'].fillna(data['ceiling_height'].median())\n",
    "data['ceiling_height'].isna().sum()"
   ]
  },
  {
   "cell_type": "markdown",
   "metadata": {},
   "source": [
    "Возможной $причиной$ возникновения пропусков является простое незнание высоты потолков людьми, выставляющими квартиру на продажу."
   ]
  },
  {
   "cell_type": "markdown",
   "metadata": {},
   "source": [
    "##### 2.1.2. Количество этажей в доме"
   ]
  },
  {
   "cell_type": "code",
   "execution_count": 10,
   "metadata": {},
   "outputs": [
    {
     "data": {
      "text/plain": [
       "'Доля пропущеных значений: 0.4%'"
      ]
     },
     "execution_count": 10,
     "metadata": {},
     "output_type": "execute_result"
    }
   ],
   "source": [
    "missing_values('floors_total')"
   ]
  },
  {
   "cell_type": "code",
   "execution_count": 11,
   "metadata": {},
   "outputs": [
    {
     "data": {
      "text/html": [
       "<div>\n",
       "<style scoped>\n",
       "    .dataframe tbody tr th:only-of-type {\n",
       "        vertical-align: middle;\n",
       "    }\n",
       "\n",
       "    .dataframe tbody tr th {\n",
       "        vertical-align: top;\n",
       "    }\n",
       "\n",
       "    .dataframe thead th {\n",
       "        text-align: right;\n",
       "    }\n",
       "</style>\n",
       "<table border=\"1\" class=\"dataframe\">\n",
       "  <thead>\n",
       "    <tr style=\"text-align: right;\">\n",
       "      <th></th>\n",
       "      <th>total_images</th>\n",
       "      <th>last_price</th>\n",
       "      <th>total_area</th>\n",
       "      <th>first_day_exposition</th>\n",
       "      <th>rooms</th>\n",
       "      <th>ceiling_height</th>\n",
       "      <th>floors_total</th>\n",
       "      <th>living_area</th>\n",
       "      <th>floor</th>\n",
       "      <th>is_apartment</th>\n",
       "      <th>studio</th>\n",
       "      <th>open_plan</th>\n",
       "      <th>kitchen_area</th>\n",
       "      <th>balcony</th>\n",
       "      <th>locality_name</th>\n",
       "      <th>airports_nearest</th>\n",
       "      <th>cityCenters_nearest</th>\n",
       "      <th>parks_around3000</th>\n",
       "      <th>parks_nearest</th>\n",
       "      <th>ponds_around3000</th>\n",
       "      <th>ponds_nearest</th>\n",
       "      <th>days_exposition</th>\n",
       "    </tr>\n",
       "  </thead>\n",
       "  <tbody>\n",
       "    <tr>\n",
       "      <td>186</td>\n",
       "      <td>12</td>\n",
       "      <td>1.1640e+07</td>\n",
       "      <td>65.2</td>\n",
       "      <td>2018-10-02T00:00:00</td>\n",
       "      <td>2</td>\n",
       "      <td>2.65</td>\n",
       "      <td>NaN</td>\n",
       "      <td>30.80</td>\n",
       "      <td>4</td>\n",
       "      <td>NaN</td>\n",
       "      <td>False</td>\n",
       "      <td>False</td>\n",
       "      <td>12.00</td>\n",
       "      <td>NaN</td>\n",
       "      <td>Санкт-Петербург</td>\n",
       "      <td>39197.0</td>\n",
       "      <td>12373.0</td>\n",
       "      <td>1.0</td>\n",
       "      <td>123.0</td>\n",
       "      <td>0.0</td>\n",
       "      <td>NaN</td>\n",
       "      <td>49.0</td>\n",
       "    </tr>\n",
       "    <tr>\n",
       "      <td>237</td>\n",
       "      <td>4</td>\n",
       "      <td>2.4380e+06</td>\n",
       "      <td>28.1</td>\n",
       "      <td>2016-11-23T00:00:00</td>\n",
       "      <td>1</td>\n",
       "      <td>2.65</td>\n",
       "      <td>NaN</td>\n",
       "      <td>20.75</td>\n",
       "      <td>1</td>\n",
       "      <td>NaN</td>\n",
       "      <td>False</td>\n",
       "      <td>False</td>\n",
       "      <td>NaN</td>\n",
       "      <td>0.0</td>\n",
       "      <td>Санкт-Петербург</td>\n",
       "      <td>22041.0</td>\n",
       "      <td>17369.0</td>\n",
       "      <td>0.0</td>\n",
       "      <td>NaN</td>\n",
       "      <td>1.0</td>\n",
       "      <td>374.0</td>\n",
       "      <td>251.0</td>\n",
       "    </tr>\n",
       "    <tr>\n",
       "      <td>457</td>\n",
       "      <td>4</td>\n",
       "      <td>9.7883e+06</td>\n",
       "      <td>70.8</td>\n",
       "      <td>2015-08-01T00:00:00</td>\n",
       "      <td>2</td>\n",
       "      <td>2.65</td>\n",
       "      <td>NaN</td>\n",
       "      <td>38.40</td>\n",
       "      <td>12</td>\n",
       "      <td>NaN</td>\n",
       "      <td>False</td>\n",
       "      <td>False</td>\n",
       "      <td>10.63</td>\n",
       "      <td>0.0</td>\n",
       "      <td>Санкт-Петербург</td>\n",
       "      <td>37364.0</td>\n",
       "      <td>8322.0</td>\n",
       "      <td>2.0</td>\n",
       "      <td>309.0</td>\n",
       "      <td>2.0</td>\n",
       "      <td>706.0</td>\n",
       "      <td>727.0</td>\n",
       "    </tr>\n",
       "    <tr>\n",
       "      <td>671</td>\n",
       "      <td>4</td>\n",
       "      <td>6.0512e+06</td>\n",
       "      <td>93.6</td>\n",
       "      <td>2017-04-06T00:00:00</td>\n",
       "      <td>3</td>\n",
       "      <td>2.65</td>\n",
       "      <td>NaN</td>\n",
       "      <td>47.10</td>\n",
       "      <td>8</td>\n",
       "      <td>NaN</td>\n",
       "      <td>False</td>\n",
       "      <td>False</td>\n",
       "      <td>16.80</td>\n",
       "      <td>0.0</td>\n",
       "      <td>Санкт-Петербург</td>\n",
       "      <td>22041.0</td>\n",
       "      <td>17369.0</td>\n",
       "      <td>0.0</td>\n",
       "      <td>NaN</td>\n",
       "      <td>1.0</td>\n",
       "      <td>374.0</td>\n",
       "      <td>123.0</td>\n",
       "    </tr>\n",
       "    <tr>\n",
       "      <td>1757</td>\n",
       "      <td>5</td>\n",
       "      <td>3.6000e+06</td>\n",
       "      <td>39.0</td>\n",
       "      <td>2017-04-22T00:00:00</td>\n",
       "      <td>1</td>\n",
       "      <td>2.65</td>\n",
       "      <td>NaN</td>\n",
       "      <td>NaN</td>\n",
       "      <td>9</td>\n",
       "      <td>NaN</td>\n",
       "      <td>False</td>\n",
       "      <td>False</td>\n",
       "      <td>NaN</td>\n",
       "      <td>0.0</td>\n",
       "      <td>Санкт-Петербург</td>\n",
       "      <td>22735.0</td>\n",
       "      <td>11618.0</td>\n",
       "      <td>1.0</td>\n",
       "      <td>835.0</td>\n",
       "      <td>1.0</td>\n",
       "      <td>652.0</td>\n",
       "      <td>77.0</td>\n",
       "    </tr>\n",
       "  </tbody>\n",
       "</table>\n",
       "</div>"
      ],
      "text/plain": [
       "      total_images  last_price  total_area first_day_exposition  rooms  \\\n",
       "186             12  1.1640e+07        65.2  2018-10-02T00:00:00      2   \n",
       "237              4  2.4380e+06        28.1  2016-11-23T00:00:00      1   \n",
       "457              4  9.7883e+06        70.8  2015-08-01T00:00:00      2   \n",
       "671              4  6.0512e+06        93.6  2017-04-06T00:00:00      3   \n",
       "1757             5  3.6000e+06        39.0  2017-04-22T00:00:00      1   \n",
       "\n",
       "      ceiling_height  floors_total  living_area  floor is_apartment  studio  \\\n",
       "186             2.65           NaN        30.80      4          NaN   False   \n",
       "237             2.65           NaN        20.75      1          NaN   False   \n",
       "457             2.65           NaN        38.40     12          NaN   False   \n",
       "671             2.65           NaN        47.10      8          NaN   False   \n",
       "1757            2.65           NaN          NaN      9          NaN   False   \n",
       "\n",
       "      open_plan  kitchen_area  balcony    locality_name  airports_nearest  \\\n",
       "186       False         12.00      NaN  Санкт-Петербург           39197.0   \n",
       "237       False           NaN      0.0  Санкт-Петербург           22041.0   \n",
       "457       False         10.63      0.0  Санкт-Петербург           37364.0   \n",
       "671       False         16.80      0.0  Санкт-Петербург           22041.0   \n",
       "1757      False           NaN      0.0  Санкт-Петербург           22735.0   \n",
       "\n",
       "      cityCenters_nearest  parks_around3000  parks_nearest  ponds_around3000  \\\n",
       "186               12373.0               1.0          123.0               0.0   \n",
       "237               17369.0               0.0            NaN               1.0   \n",
       "457                8322.0               2.0          309.0               2.0   \n",
       "671               17369.0               0.0            NaN               1.0   \n",
       "1757              11618.0               1.0          835.0               1.0   \n",
       "\n",
       "      ponds_nearest  days_exposition  \n",
       "186             NaN             49.0  \n",
       "237           374.0            251.0  \n",
       "457           706.0            727.0  \n",
       "671           374.0            123.0  \n",
       "1757          652.0             77.0  "
      ]
     },
     "execution_count": 11,
     "metadata": {},
     "output_type": "execute_result"
    }
   ],
   "source": [
    "data[data['floors_total'].isna() == True].head()"
   ]
  },
  {
   "cell_type": "code",
   "execution_count": 12,
   "metadata": {},
   "outputs": [
    {
     "data": {
      "text/plain": [
       "floors_total           1.0000\n",
       "floor                  0.6781\n",
       "balcony                0.1941\n",
       "kitchen_area           0.1639\n",
       "airports_nearest       0.1083\n",
       "parks_nearest          0.0975\n",
       "studio                 0.0702\n",
       "open_plan              0.0508\n",
       "ponds_nearest          0.0389\n",
       "cityCenters_nearest    0.0198\n",
       "total_images           0.0104\n",
       "last_price            -0.0070\n",
       "ceiling_height        -0.0268\n",
       "days_exposition       -0.0522\n",
       "total_area            -0.0758\n",
       "ponds_around3000      -0.1227\n",
       "living_area           -0.1693\n",
       "rooms                 -0.2282\n",
       "parks_around3000      -0.2528\n",
       "Name: floors_total, dtype: float64"
      ]
     },
     "execution_count": 12,
     "metadata": {},
     "output_type": "execute_result"
    }
   ],
   "source": [
    "data.corr().floors_total.sort_values(ascending= False)"
   ]
  },
  {
   "cell_type": "markdown",
   "metadata": {},
   "source": [
    "Видим что корелляция проявляется в основном только с этажом квартиры."
   ]
  },
  {
   "cell_type": "code",
   "execution_count": 13,
   "metadata": {},
   "outputs": [
    {
     "data": {
      "text/plain": [
       "<matplotlib.axes._subplots.AxesSubplot at 0x7f144b2beed0>"
      ]
     },
     "execution_count": 13,
     "metadata": {},
     "output_type": "execute_result"
    },
    {
     "data": {
      "image/png": "[encoded data removed]",
      "text/plain": [
       "<Figure size 648x648 with 1 Axes>"
      ]
     },
     "metadata": {
      "needs_background": "light"
     },
     "output_type": "display_data"
    }
   ],
   "source": [
    "data.plot(y = 'floors_total', \n",
    "          figsize=(9, 9),\n",
    "          kind= 'hist',\n",
    "          bins= 60,\n",
    "          grid= True)"
   ]
  },
  {
   "cell_type": "markdown",
   "metadata": {},
   "source": [
    "Из-за особенностей архитектуры города мы видим неравномерное распределение - очень много пяти- и девяти- этажек. Также мы знаем что в доме не может быть меньше этажей чем номер этажа на котором находится квартира.\n",
    "\n",
    "Поэтому используем следующую логику заполнения: если квартира на 1 - 5 этаже - предположим что это пятиэтажка, если на 6 - 9, то это девятиэтажное здание; 10 - 12, 12 этажей; 13 - 16, 16 этажей; 17 - 25, 25 этажей. \n",
    "\n",
    "Так как доля пропущенных значений мала, то сдвиг к превалирующим значениям не должен сильно повлиять на дальнейший анализ.\n",
    "\n",
    "Одной из задач исследования является анализ стоимости квартиры в зависимости от того, последний это этаж или нет. Для того, чтобы сильно не влиять на эту статистику (скорее всего доля квартир на последнем этаже гораздо меньше чем доля остальных) для остальных квартир укажем что это предпоследний этаж. "
   ]
  },
  {
   "cell_type": "code",
   "execution_count": 14,
   "metadata": {},
   "outputs": [
    {
     "data": {
      "text/plain": [
       "0"
      ]
     },
     "execution_count": 14,
     "metadata": {},
     "output_type": "execute_result"
    }
   ],
   "source": [
    "def calculate_floors_total(row):\n",
    "    if row['floors_total'] != row['floors_total']:\n",
    "        if row['floor'] <= 5:\n",
    "            return 5\n",
    "        if row['floor'] <= 9:\n",
    "            return 9\n",
    "        if row['floor'] <= 12:\n",
    "            return 12\n",
    "        if row['floor'] <= 16:\n",
    "            return 16\n",
    "        else:\n",
    "            return row['floor'] + 1\n",
    "        \n",
    "    else:\n",
    "        return row['floors_total']\n",
    "    \n",
    "data['floors_total'] = data.apply(calculate_floors_total, axis=1)\n",
    "# восстанавливаем значения и проверяем что все заполнилось\n",
    "data['floors_total'].isna().sum()"
   ]
  },
  {
   "cell_type": "markdown",
   "metadata": {},
   "source": [
    "##### 2.1.3. Жилая площадь"
   ]
  },
  {
   "cell_type": "code",
   "execution_count": 15,
   "metadata": {},
   "outputs": [
    {
     "name": "stdout",
     "output_type": "stream",
     "text": [
      "Доля пропущеных значений: 8.0%\n",
      "\n",
      "living_area            1.0000\n",
      "total_area             0.9395\n",
      "rooms                  0.8460\n",
      "last_price             0.5665\n",
      "kitchen_area           0.4287\n",
      "parks_around3000       0.1845\n",
      "ponds_around3000       0.1489\n",
      "days_exposition        0.1425\n",
      "total_images           0.1048\n",
      "ceiling_height         0.0786\n",
      "balcony                0.0188\n",
      "open_plan             -0.0337\n",
      "parks_nearest         -0.0502\n",
      "studio                -0.0562\n",
      "airports_nearest      -0.0579\n",
      "ponds_nearest         -0.0817\n",
      "floor                 -0.0972\n",
      "floors_total          -0.1693\n",
      "cityCenters_nearest   -0.2314\n",
      "Name: living_area, dtype: float64\n"
     ]
    }
   ],
   "source": [
    "stats_for_missing('living_area')         "
   ]
  },
  {
   "cell_type": "markdown",
   "metadata": {},
   "source": [
    "Видим что доля пропусков 8%. Так как нам предстоит посчитать соотношение жилой и общей площади, постараемся восстановить пропущенные значения как можно точнее. Для этого построим модель линейной регрессии по факторам, имеющим сильную корреляцию с жил. площадью - `total_area` и `rooms`."
   ]
  },
  {
   "cell_type": "code",
   "execution_count": 16,
   "metadata": {},
   "outputs": [],
   "source": [
    "filled_data = data[data['living_area'] == data['living_area']]"
   ]
  },
  {
   "cell_type": "code",
   "execution_count": 87,
   "metadata": {},
   "outputs": [
    {
     "data": {
      "text/html": [
       "<div>\n",
       "<style scoped>\n",
       "    .dataframe tbody tr th:only-of-type {\n",
       "        vertical-align: middle;\n",
       "    }\n",
       "\n",
       "    .dataframe tbody tr th {\n",
       "        vertical-align: top;\n",
       "    }\n",
       "\n",
       "    .dataframe thead th {\n",
       "        text-align: right;\n",
       "    }\n",
       "</style>\n",
       "<table border=\"1\" class=\"dataframe\">\n",
       "  <thead>\n",
       "    <tr style=\"text-align: right;\">\n",
       "      <th></th>\n",
       "      <th>total_images</th>\n",
       "      <th>last_price</th>\n",
       "      <th>total_area</th>\n",
       "      <th>first_day_exposition</th>\n",
       "      <th>rooms</th>\n",
       "      <th>ceiling_height</th>\n",
       "      <th>floors_total</th>\n",
       "      <th>living_area</th>\n",
       "      <th>floor</th>\n",
       "      <th>is_apartment</th>\n",
       "      <th>studio</th>\n",
       "      <th>open_plan</th>\n",
       "      <th>kitchen_area</th>\n",
       "      <th>balcony</th>\n",
       "      <th>locality_name</th>\n",
       "      <th>airports_nearest</th>\n",
       "      <th>cityCenters_nearest</th>\n",
       "      <th>parks_around3000</th>\n",
       "      <th>parks_nearest</th>\n",
       "      <th>ponds_around3000</th>\n",
       "      <th>ponds_nearest</th>\n",
       "      <th>days_exposition</th>\n",
       "      <th>m2_price</th>\n",
       "      <th>exposition_weekday</th>\n",
       "      <th>exposition_month</th>\n",
       "      <th>exposition_year</th>\n",
       "      <th>floor_category</th>\n",
       "      <th>living_to_total</th>\n",
       "      <th>kitchen_to_total</th>\n",
       "    </tr>\n",
       "  </thead>\n",
       "  <tbody>\n",
       "    <tr>\n",
       "      <td>0</td>\n",
       "      <td>20</td>\n",
       "      <td>13000.0</td>\n",
       "      <td>108.00</td>\n",
       "      <td>2019-03-07T00:00:00</td>\n",
       "      <td>3</td>\n",
       "      <td>2.70</td>\n",
       "      <td>16.0</td>\n",
       "      <td>51.0000</td>\n",
       "      <td>8</td>\n",
       "      <td>False</td>\n",
       "      <td>False</td>\n",
       "      <td>False</td>\n",
       "      <td>25.00</td>\n",
       "      <td>0.0</td>\n",
       "      <td>Санкт-Петербург</td>\n",
       "      <td>18863.0</td>\n",
       "      <td>16.0</td>\n",
       "      <td>1.0</td>\n",
       "      <td>482.0</td>\n",
       "      <td>2.0</td>\n",
       "      <td>755.0</td>\n",
       "      <td>open</td>\n",
       "      <td>120370.3704</td>\n",
       "      <td>3</td>\n",
       "      <td>3</td>\n",
       "      <td>2019</td>\n",
       "      <td>another</td>\n",
       "      <td>0.4722</td>\n",
       "      <td>0.2315</td>\n",
       "    </tr>\n",
       "    <tr>\n",
       "      <td>1</td>\n",
       "      <td>7</td>\n",
       "      <td>3350.0</td>\n",
       "      <td>40.40</td>\n",
       "      <td>2018-12-04T00:00:00</td>\n",
       "      <td>1</td>\n",
       "      <td>2.65</td>\n",
       "      <td>11.0</td>\n",
       "      <td>18.6000</td>\n",
       "      <td>1</td>\n",
       "      <td>False</td>\n",
       "      <td>False</td>\n",
       "      <td>False</td>\n",
       "      <td>11.00</td>\n",
       "      <td>2.0</td>\n",
       "      <td>посёлок Шушары</td>\n",
       "      <td>12817.0</td>\n",
       "      <td>19.0</td>\n",
       "      <td>0.0</td>\n",
       "      <td>NaN</td>\n",
       "      <td>0.0</td>\n",
       "      <td>NaN</td>\n",
       "      <td>81</td>\n",
       "      <td>82920.7921</td>\n",
       "      <td>1</td>\n",
       "      <td>12</td>\n",
       "      <td>2018</td>\n",
       "      <td>first</td>\n",
       "      <td>0.4604</td>\n",
       "      <td>0.2723</td>\n",
       "    </tr>\n",
       "    <tr>\n",
       "      <td>2</td>\n",
       "      <td>10</td>\n",
       "      <td>5196.0</td>\n",
       "      <td>56.00</td>\n",
       "      <td>2015-08-20T00:00:00</td>\n",
       "      <td>2</td>\n",
       "      <td>2.65</td>\n",
       "      <td>5.0</td>\n",
       "      <td>34.3000</td>\n",
       "      <td>4</td>\n",
       "      <td>False</td>\n",
       "      <td>False</td>\n",
       "      <td>False</td>\n",
       "      <td>8.30</td>\n",
       "      <td>0.0</td>\n",
       "      <td>Санкт-Петербург</td>\n",
       "      <td>21741.0</td>\n",
       "      <td>14.0</td>\n",
       "      <td>1.0</td>\n",
       "      <td>90.0</td>\n",
       "      <td>2.0</td>\n",
       "      <td>574.0</td>\n",
       "      <td>558</td>\n",
       "      <td>92785.7143</td>\n",
       "      <td>3</td>\n",
       "      <td>8</td>\n",
       "      <td>2015</td>\n",
       "      <td>another</td>\n",
       "      <td>0.6125</td>\n",
       "      <td>0.1482</td>\n",
       "    </tr>\n",
       "    <tr>\n",
       "      <td>4</td>\n",
       "      <td>2</td>\n",
       "      <td>10000.0</td>\n",
       "      <td>100.00</td>\n",
       "      <td>2018-06-19T00:00:00</td>\n",
       "      <td>2</td>\n",
       "      <td>3.03</td>\n",
       "      <td>14.0</td>\n",
       "      <td>32.0000</td>\n",
       "      <td>13</td>\n",
       "      <td>False</td>\n",
       "      <td>False</td>\n",
       "      <td>False</td>\n",
       "      <td>41.00</td>\n",
       "      <td>0.0</td>\n",
       "      <td>Санкт-Петербург</td>\n",
       "      <td>31856.0</td>\n",
       "      <td>8.0</td>\n",
       "      <td>2.0</td>\n",
       "      <td>112.0</td>\n",
       "      <td>1.0</td>\n",
       "      <td>48.0</td>\n",
       "      <td>121</td>\n",
       "      <td>100000.0000</td>\n",
       "      <td>1</td>\n",
       "      <td>6</td>\n",
       "      <td>2018</td>\n",
       "      <td>another</td>\n",
       "      <td>0.3200</td>\n",
       "      <td>0.4100</td>\n",
       "    </tr>\n",
       "    <tr>\n",
       "      <td>5</td>\n",
       "      <td>10</td>\n",
       "      <td>2890.0</td>\n",
       "      <td>30.40</td>\n",
       "      <td>2018-09-10T00:00:00</td>\n",
       "      <td>1</td>\n",
       "      <td>2.65</td>\n",
       "      <td>12.0</td>\n",
       "      <td>14.4000</td>\n",
       "      <td>5</td>\n",
       "      <td>False</td>\n",
       "      <td>False</td>\n",
       "      <td>False</td>\n",
       "      <td>9.10</td>\n",
       "      <td>0.0</td>\n",
       "      <td>городской посёлок Янино-1</td>\n",
       "      <td>NaN</td>\n",
       "      <td>NaN</td>\n",
       "      <td>NaN</td>\n",
       "      <td>NaN</td>\n",
       "      <td>NaN</td>\n",
       "      <td>NaN</td>\n",
       "      <td>55</td>\n",
       "      <td>95065.7895</td>\n",
       "      <td>0</td>\n",
       "      <td>9</td>\n",
       "      <td>2018</td>\n",
       "      <td>another</td>\n",
       "      <td>0.4737</td>\n",
       "      <td>0.2993</td>\n",
       "    </tr>\n",
       "    <tr>\n",
       "      <td>...</td>\n",
       "      <td>...</td>\n",
       "      <td>...</td>\n",
       "      <td>...</td>\n",
       "      <td>...</td>\n",
       "      <td>...</td>\n",
       "      <td>...</td>\n",
       "      <td>...</td>\n",
       "      <td>...</td>\n",
       "      <td>...</td>\n",
       "      <td>...</td>\n",
       "      <td>...</td>\n",
       "      <td>...</td>\n",
       "      <td>...</td>\n",
       "      <td>...</td>\n",
       "      <td>...</td>\n",
       "      <td>...</td>\n",
       "      <td>...</td>\n",
       "      <td>...</td>\n",
       "      <td>...</td>\n",
       "      <td>...</td>\n",
       "      <td>...</td>\n",
       "      <td>...</td>\n",
       "      <td>...</td>\n",
       "      <td>...</td>\n",
       "      <td>...</td>\n",
       "      <td>...</td>\n",
       "      <td>...</td>\n",
       "      <td>...</td>\n",
       "      <td>...</td>\n",
       "    </tr>\n",
       "    <tr>\n",
       "      <td>23694</td>\n",
       "      <td>9</td>\n",
       "      <td>9700.0</td>\n",
       "      <td>133.81</td>\n",
       "      <td>2017-03-21T00:00:00</td>\n",
       "      <td>3</td>\n",
       "      <td>3.70</td>\n",
       "      <td>5.0</td>\n",
       "      <td>73.3000</td>\n",
       "      <td>3</td>\n",
       "      <td>False</td>\n",
       "      <td>False</td>\n",
       "      <td>False</td>\n",
       "      <td>13.83</td>\n",
       "      <td>0.0</td>\n",
       "      <td>Санкт-Петербург</td>\n",
       "      <td>24665.0</td>\n",
       "      <td>4.0</td>\n",
       "      <td>1.0</td>\n",
       "      <td>796.0</td>\n",
       "      <td>3.0</td>\n",
       "      <td>381.0</td>\n",
       "      <td>open</td>\n",
       "      <td>72490.8452</td>\n",
       "      <td>1</td>\n",
       "      <td>3</td>\n",
       "      <td>2017</td>\n",
       "      <td>another</td>\n",
       "      <td>0.5478</td>\n",
       "      <td>0.1034</td>\n",
       "    </tr>\n",
       "    <tr>\n",
       "      <td>23695</td>\n",
       "      <td>14</td>\n",
       "      <td>3100.0</td>\n",
       "      <td>59.00</td>\n",
       "      <td>2018-01-15T00:00:00</td>\n",
       "      <td>3</td>\n",
       "      <td>2.65</td>\n",
       "      <td>5.0</td>\n",
       "      <td>38.0000</td>\n",
       "      <td>4</td>\n",
       "      <td>False</td>\n",
       "      <td>False</td>\n",
       "      <td>False</td>\n",
       "      <td>8.50</td>\n",
       "      <td>0.0</td>\n",
       "      <td>Тосно</td>\n",
       "      <td>NaN</td>\n",
       "      <td>NaN</td>\n",
       "      <td>NaN</td>\n",
       "      <td>NaN</td>\n",
       "      <td>NaN</td>\n",
       "      <td>NaN</td>\n",
       "      <td>45</td>\n",
       "      <td>52542.3729</td>\n",
       "      <td>0</td>\n",
       "      <td>1</td>\n",
       "      <td>2018</td>\n",
       "      <td>another</td>\n",
       "      <td>0.6441</td>\n",
       "      <td>0.1441</td>\n",
       "    </tr>\n",
       "    <tr>\n",
       "      <td>23696</td>\n",
       "      <td>18</td>\n",
       "      <td>2500.0</td>\n",
       "      <td>56.70</td>\n",
       "      <td>2018-02-11T00:00:00</td>\n",
       "      <td>2</td>\n",
       "      <td>2.65</td>\n",
       "      <td>3.0</td>\n",
       "      <td>29.7000</td>\n",
       "      <td>1</td>\n",
       "      <td>False</td>\n",
       "      <td>False</td>\n",
       "      <td>False</td>\n",
       "      <td>27.00</td>\n",
       "      <td>0.0</td>\n",
       "      <td>село Рождествено</td>\n",
       "      <td>NaN</td>\n",
       "      <td>NaN</td>\n",
       "      <td>NaN</td>\n",
       "      <td>NaN</td>\n",
       "      <td>NaN</td>\n",
       "      <td>NaN</td>\n",
       "      <td>open</td>\n",
       "      <td>44091.7108</td>\n",
       "      <td>6</td>\n",
       "      <td>2</td>\n",
       "      <td>2018</td>\n",
       "      <td>first</td>\n",
       "      <td>0.5238</td>\n",
       "      <td>0.4762</td>\n",
       "    </tr>\n",
       "    <tr>\n",
       "      <td>23697</td>\n",
       "      <td>13</td>\n",
       "      <td>11475.0</td>\n",
       "      <td>76.75</td>\n",
       "      <td>2017-03-28T00:00:00</td>\n",
       "      <td>2</td>\n",
       "      <td>3.00</td>\n",
       "      <td>17.0</td>\n",
       "      <td>41.5553</td>\n",
       "      <td>12</td>\n",
       "      <td>False</td>\n",
       "      <td>False</td>\n",
       "      <td>False</td>\n",
       "      <td>23.30</td>\n",
       "      <td>2.0</td>\n",
       "      <td>Санкт-Петербург</td>\n",
       "      <td>39140.0</td>\n",
       "      <td>10.0</td>\n",
       "      <td>2.0</td>\n",
       "      <td>173.0</td>\n",
       "      <td>3.0</td>\n",
       "      <td>196.0</td>\n",
       "      <td>602</td>\n",
       "      <td>149511.4007</td>\n",
       "      <td>1</td>\n",
       "      <td>3</td>\n",
       "      <td>2017</td>\n",
       "      <td>another</td>\n",
       "      <td>0.5414</td>\n",
       "      <td>0.3036</td>\n",
       "    </tr>\n",
       "    <tr>\n",
       "      <td>23698</td>\n",
       "      <td>4</td>\n",
       "      <td>1350.0</td>\n",
       "      <td>32.30</td>\n",
       "      <td>2017-07-21T00:00:00</td>\n",
       "      <td>1</td>\n",
       "      <td>2.50</td>\n",
       "      <td>5.0</td>\n",
       "      <td>12.3000</td>\n",
       "      <td>1</td>\n",
       "      <td>False</td>\n",
       "      <td>False</td>\n",
       "      <td>False</td>\n",
       "      <td>9.00</td>\n",
       "      <td>0.0</td>\n",
       "      <td>поселок Новый Учхоз</td>\n",
       "      <td>NaN</td>\n",
       "      <td>NaN</td>\n",
       "      <td>NaN</td>\n",
       "      <td>NaN</td>\n",
       "      <td>NaN</td>\n",
       "      <td>NaN</td>\n",
       "      <td>open</td>\n",
       "      <td>41795.6656</td>\n",
       "      <td>4</td>\n",
       "      <td>7</td>\n",
       "      <td>2017</td>\n",
       "      <td>first</td>\n",
       "      <td>0.3808</td>\n",
       "      <td>0.2786</td>\n",
       "    </tr>\n",
       "  </tbody>\n",
       "</table>\n",
       "<p>23228 rows × 29 columns</p>\n",
       "</div>"
      ],
      "text/plain": [
       "       total_images  last_price  total_area first_day_exposition  rooms  \\\n",
       "0                20     13000.0      108.00  2019-03-07T00:00:00      3   \n",
       "1                 7      3350.0       40.40  2018-12-04T00:00:00      1   \n",
       "2                10      5196.0       56.00  2015-08-20T00:00:00      2   \n",
       "4                 2     10000.0      100.00  2018-06-19T00:00:00      2   \n",
       "5                10      2890.0       30.40  2018-09-10T00:00:00      1   \n",
       "...             ...         ...         ...                  ...    ...   \n",
       "23694             9      9700.0      133.81  2017-03-21T00:00:00      3   \n",
       "23695            14      3100.0       59.00  2018-01-15T00:00:00      3   \n",
       "23696            18      2500.0       56.70  2018-02-11T00:00:00      2   \n",
       "23697            13     11475.0       76.75  2017-03-28T00:00:00      2   \n",
       "23698             4      1350.0       32.30  2017-07-21T00:00:00      1   \n",
       "\n",
       "       ceiling_height  floors_total  living_area  floor is_apartment studio  \\\n",
       "0                2.70          16.0      51.0000      8        False  False   \n",
       "1                2.65          11.0      18.6000      1        False  False   \n",
       "2                2.65           5.0      34.3000      4        False  False   \n",
       "4                3.03          14.0      32.0000     13        False  False   \n",
       "5                2.65          12.0      14.4000      5        False  False   \n",
       "...               ...           ...          ...    ...          ...    ...   \n",
       "23694            3.70           5.0      73.3000      3        False  False   \n",
       "23695            2.65           5.0      38.0000      4        False  False   \n",
       "23696            2.65           3.0      29.7000      1        False  False   \n",
       "23697            3.00          17.0      41.5553     12        False  False   \n",
       "23698            2.50           5.0      12.3000      1        False  False   \n",
       "\n",
       "      open_plan  kitchen_area  balcony              locality_name  \\\n",
       "0         False         25.00      0.0            Санкт-Петербург   \n",
       "1         False         11.00      2.0             посёлок Шушары   \n",
       "2         False          8.30      0.0            Санкт-Петербург   \n",
       "4         False         41.00      0.0            Санкт-Петербург   \n",
       "5         False          9.10      0.0  городской посёлок Янино-1   \n",
       "...         ...           ...      ...                        ...   \n",
       "23694     False         13.83      0.0            Санкт-Петербург   \n",
       "23695     False          8.50      0.0                      Тосно   \n",
       "23696     False         27.00      0.0           село Рождествено   \n",
       "23697     False         23.30      2.0            Санкт-Петербург   \n",
       "23698     False          9.00      0.0        поселок Новый Учхоз   \n",
       "\n",
       "       airports_nearest  cityCenters_nearest  parks_around3000  parks_nearest  \\\n",
       "0               18863.0                 16.0               1.0          482.0   \n",
       "1               12817.0                 19.0               0.0            NaN   \n",
       "2               21741.0                 14.0               1.0           90.0   \n",
       "4               31856.0                  8.0               2.0          112.0   \n",
       "5                   NaN                  NaN               NaN            NaN   \n",
       "...                 ...                  ...               ...            ...   \n",
       "23694           24665.0                  4.0               1.0          796.0   \n",
       "23695               NaN                  NaN               NaN            NaN   \n",
       "23696               NaN                  NaN               NaN            NaN   \n",
       "23697           39140.0                 10.0               2.0          173.0   \n",
       "23698               NaN                  NaN               NaN            NaN   \n",
       "\n",
       "       ponds_around3000  ponds_nearest days_exposition     m2_price  \\\n",
       "0                   2.0          755.0            open  120370.3704   \n",
       "1                   0.0            NaN              81   82920.7921   \n",
       "2                   2.0          574.0             558   92785.7143   \n",
       "4                   1.0           48.0             121  100000.0000   \n",
       "5                   NaN            NaN              55   95065.7895   \n",
       "...                 ...            ...             ...          ...   \n",
       "23694               3.0          381.0            open   72490.8452   \n",
       "23695               NaN            NaN              45   52542.3729   \n",
       "23696               NaN            NaN            open   44091.7108   \n",
       "23697               3.0          196.0             602  149511.4007   \n",
       "23698               NaN            NaN            open   41795.6656   \n",
       "\n",
       "       exposition_weekday  exposition_month  exposition_year floor_category  \\\n",
       "0                       3                 3             2019        another   \n",
       "1                       1                12             2018          first   \n",
       "2                       3                 8             2015        another   \n",
       "4                       1                 6             2018        another   \n",
       "5                       0                 9             2018        another   \n",
       "...                   ...               ...              ...            ...   \n",
       "23694                   1                 3             2017        another   \n",
       "23695                   0                 1             2018        another   \n",
       "23696                   6                 2             2018          first   \n",
       "23697                   1                 3             2017        another   \n",
       "23698                   4                 7             2017          first   \n",
       "\n",
       "       living_to_total  kitchen_to_total  \n",
       "0               0.4722            0.2315  \n",
       "1               0.4604            0.2723  \n",
       "2               0.6125            0.1482  \n",
       "4               0.3200            0.4100  \n",
       "5               0.4737            0.2993  \n",
       "...                ...               ...  \n",
       "23694           0.5478            0.1034  \n",
       "23695           0.6441            0.1441  \n",
       "23696           0.5238            0.4762  \n",
       "23697           0.5414            0.3036  \n",
       "23698           0.3808            0.2786  \n",
       "\n",
       "[23228 rows x 29 columns]"
      ]
     },
     "execution_count": 87,
     "metadata": {},
     "output_type": "execute_result"
    }
   ],
   "source": [
    "data['living_area'] == data['living_area']"
   ]
  },
  {
   "cell_type": "code",
   "execution_count": 86,
   "metadata": {},
   "outputs": [
    {
     "data": {
      "text/html": [
       "<div>\n",
       "<style scoped>\n",
       "    .dataframe tbody tr th:only-of-type {\n",
       "        vertical-align: middle;\n",
       "    }\n",
       "\n",
       "    .dataframe tbody tr th {\n",
       "        vertical-align: top;\n",
       "    }\n",
       "\n",
       "    .dataframe thead th {\n",
       "        text-align: right;\n",
       "    }\n",
       "</style>\n",
       "<table border=\"1\" class=\"dataframe\">\n",
       "  <thead>\n",
       "    <tr style=\"text-align: right;\">\n",
       "      <th></th>\n",
       "      <th>total_images</th>\n",
       "      <th>last_price</th>\n",
       "      <th>total_area</th>\n",
       "      <th>first_day_exposition</th>\n",
       "      <th>rooms</th>\n",
       "      <th>ceiling_height</th>\n",
       "      <th>floors_total</th>\n",
       "      <th>living_area</th>\n",
       "      <th>floor</th>\n",
       "      <th>is_apartment</th>\n",
       "      <th>studio</th>\n",
       "      <th>open_plan</th>\n",
       "      <th>kitchen_area</th>\n",
       "      <th>balcony</th>\n",
       "      <th>locality_name</th>\n",
       "      <th>airports_nearest</th>\n",
       "      <th>cityCenters_nearest</th>\n",
       "      <th>parks_around3000</th>\n",
       "      <th>parks_nearest</th>\n",
       "      <th>ponds_around3000</th>\n",
       "      <th>ponds_nearest</th>\n",
       "      <th>days_exposition</th>\n",
       "    </tr>\n",
       "  </thead>\n",
       "  <tbody>\n",
       "    <tr>\n",
       "      <td>0</td>\n",
       "      <td>20</td>\n",
       "      <td>1.3000e+07</td>\n",
       "      <td>108.00</td>\n",
       "      <td>2019-03-07T00:00:00</td>\n",
       "      <td>3</td>\n",
       "      <td>2.70</td>\n",
       "      <td>16.0</td>\n",
       "      <td>51.0</td>\n",
       "      <td>8</td>\n",
       "      <td>NaN</td>\n",
       "      <td>False</td>\n",
       "      <td>False</td>\n",
       "      <td>25.00</td>\n",
       "      <td>NaN</td>\n",
       "      <td>Санкт-Петербург</td>\n",
       "      <td>18863.0</td>\n",
       "      <td>16028.0</td>\n",
       "      <td>1.0</td>\n",
       "      <td>482.0</td>\n",
       "      <td>2.0</td>\n",
       "      <td>755.0</td>\n",
       "      <td>NaN</td>\n",
       "    </tr>\n",
       "    <tr>\n",
       "      <td>1</td>\n",
       "      <td>7</td>\n",
       "      <td>3.3500e+06</td>\n",
       "      <td>40.40</td>\n",
       "      <td>2018-12-04T00:00:00</td>\n",
       "      <td>1</td>\n",
       "      <td>2.65</td>\n",
       "      <td>11.0</td>\n",
       "      <td>18.6</td>\n",
       "      <td>1</td>\n",
       "      <td>NaN</td>\n",
       "      <td>False</td>\n",
       "      <td>False</td>\n",
       "      <td>11.00</td>\n",
       "      <td>2.0</td>\n",
       "      <td>посёлок Шушары</td>\n",
       "      <td>12817.0</td>\n",
       "      <td>18603.0</td>\n",
       "      <td>0.0</td>\n",
       "      <td>NaN</td>\n",
       "      <td>0.0</td>\n",
       "      <td>NaN</td>\n",
       "      <td>81.0</td>\n",
       "    </tr>\n",
       "    <tr>\n",
       "      <td>2</td>\n",
       "      <td>10</td>\n",
       "      <td>5.1960e+06</td>\n",
       "      <td>56.00</td>\n",
       "      <td>2015-08-20T00:00:00</td>\n",
       "      <td>2</td>\n",
       "      <td>2.65</td>\n",
       "      <td>5.0</td>\n",
       "      <td>34.3</td>\n",
       "      <td>4</td>\n",
       "      <td>NaN</td>\n",
       "      <td>False</td>\n",
       "      <td>False</td>\n",
       "      <td>8.30</td>\n",
       "      <td>0.0</td>\n",
       "      <td>Санкт-Петербург</td>\n",
       "      <td>21741.0</td>\n",
       "      <td>13933.0</td>\n",
       "      <td>1.0</td>\n",
       "      <td>90.0</td>\n",
       "      <td>2.0</td>\n",
       "      <td>574.0</td>\n",
       "      <td>558.0</td>\n",
       "    </tr>\n",
       "    <tr>\n",
       "      <td>4</td>\n",
       "      <td>2</td>\n",
       "      <td>1.0000e+07</td>\n",
       "      <td>100.00</td>\n",
       "      <td>2018-06-19T00:00:00</td>\n",
       "      <td>2</td>\n",
       "      <td>3.03</td>\n",
       "      <td>14.0</td>\n",
       "      <td>32.0</td>\n",
       "      <td>13</td>\n",
       "      <td>NaN</td>\n",
       "      <td>False</td>\n",
       "      <td>False</td>\n",
       "      <td>41.00</td>\n",
       "      <td>NaN</td>\n",
       "      <td>Санкт-Петербург</td>\n",
       "      <td>31856.0</td>\n",
       "      <td>8098.0</td>\n",
       "      <td>2.0</td>\n",
       "      <td>112.0</td>\n",
       "      <td>1.0</td>\n",
       "      <td>48.0</td>\n",
       "      <td>121.0</td>\n",
       "    </tr>\n",
       "    <tr>\n",
       "      <td>5</td>\n",
       "      <td>10</td>\n",
       "      <td>2.8900e+06</td>\n",
       "      <td>30.40</td>\n",
       "      <td>2018-09-10T00:00:00</td>\n",
       "      <td>1</td>\n",
       "      <td>2.65</td>\n",
       "      <td>12.0</td>\n",
       "      <td>14.4</td>\n",
       "      <td>5</td>\n",
       "      <td>NaN</td>\n",
       "      <td>False</td>\n",
       "      <td>False</td>\n",
       "      <td>9.10</td>\n",
       "      <td>NaN</td>\n",
       "      <td>городской посёлок Янино-1</td>\n",
       "      <td>NaN</td>\n",
       "      <td>NaN</td>\n",
       "      <td>NaN</td>\n",
       "      <td>NaN</td>\n",
       "      <td>NaN</td>\n",
       "      <td>NaN</td>\n",
       "      <td>55.0</td>\n",
       "    </tr>\n",
       "    <tr>\n",
       "      <td>...</td>\n",
       "      <td>...</td>\n",
       "      <td>...</td>\n",
       "      <td>...</td>\n",
       "      <td>...</td>\n",
       "      <td>...</td>\n",
       "      <td>...</td>\n",
       "      <td>...</td>\n",
       "      <td>...</td>\n",
       "      <td>...</td>\n",
       "      <td>...</td>\n",
       "      <td>...</td>\n",
       "      <td>...</td>\n",
       "      <td>...</td>\n",
       "      <td>...</td>\n",
       "      <td>...</td>\n",
       "      <td>...</td>\n",
       "      <td>...</td>\n",
       "      <td>...</td>\n",
       "      <td>...</td>\n",
       "      <td>...</td>\n",
       "      <td>...</td>\n",
       "      <td>...</td>\n",
       "    </tr>\n",
       "    <tr>\n",
       "      <td>23693</td>\n",
       "      <td>9</td>\n",
       "      <td>4.6000e+06</td>\n",
       "      <td>62.40</td>\n",
       "      <td>2016-08-05T00:00:00</td>\n",
       "      <td>3</td>\n",
       "      <td>2.60</td>\n",
       "      <td>9.0</td>\n",
       "      <td>40.0</td>\n",
       "      <td>8</td>\n",
       "      <td>NaN</td>\n",
       "      <td>False</td>\n",
       "      <td>False</td>\n",
       "      <td>8.00</td>\n",
       "      <td>0.0</td>\n",
       "      <td>Петергоф</td>\n",
       "      <td>45602.0</td>\n",
       "      <td>34104.0</td>\n",
       "      <td>1.0</td>\n",
       "      <td>352.0</td>\n",
       "      <td>1.0</td>\n",
       "      <td>675.0</td>\n",
       "      <td>239.0</td>\n",
       "    </tr>\n",
       "    <tr>\n",
       "      <td>23694</td>\n",
       "      <td>9</td>\n",
       "      <td>9.7000e+06</td>\n",
       "      <td>133.81</td>\n",
       "      <td>2017-03-21T00:00:00</td>\n",
       "      <td>3</td>\n",
       "      <td>3.70</td>\n",
       "      <td>5.0</td>\n",
       "      <td>73.3</td>\n",
       "      <td>3</td>\n",
       "      <td>NaN</td>\n",
       "      <td>False</td>\n",
       "      <td>False</td>\n",
       "      <td>13.83</td>\n",
       "      <td>NaN</td>\n",
       "      <td>Санкт-Петербург</td>\n",
       "      <td>24665.0</td>\n",
       "      <td>4232.0</td>\n",
       "      <td>1.0</td>\n",
       "      <td>796.0</td>\n",
       "      <td>3.0</td>\n",
       "      <td>381.0</td>\n",
       "      <td>NaN</td>\n",
       "    </tr>\n",
       "    <tr>\n",
       "      <td>23695</td>\n",
       "      <td>14</td>\n",
       "      <td>3.1000e+06</td>\n",
       "      <td>59.00</td>\n",
       "      <td>2018-01-15T00:00:00</td>\n",
       "      <td>3</td>\n",
       "      <td>2.65</td>\n",
       "      <td>5.0</td>\n",
       "      <td>38.0</td>\n",
       "      <td>4</td>\n",
       "      <td>NaN</td>\n",
       "      <td>False</td>\n",
       "      <td>False</td>\n",
       "      <td>8.50</td>\n",
       "      <td>NaN</td>\n",
       "      <td>Тосно</td>\n",
       "      <td>NaN</td>\n",
       "      <td>NaN</td>\n",
       "      <td>NaN</td>\n",
       "      <td>NaN</td>\n",
       "      <td>NaN</td>\n",
       "      <td>NaN</td>\n",
       "      <td>45.0</td>\n",
       "    </tr>\n",
       "    <tr>\n",
       "      <td>23696</td>\n",
       "      <td>18</td>\n",
       "      <td>2.5000e+06</td>\n",
       "      <td>56.70</td>\n",
       "      <td>2018-02-11T00:00:00</td>\n",
       "      <td>2</td>\n",
       "      <td>2.65</td>\n",
       "      <td>3.0</td>\n",
       "      <td>29.7</td>\n",
       "      <td>1</td>\n",
       "      <td>NaN</td>\n",
       "      <td>False</td>\n",
       "      <td>False</td>\n",
       "      <td>NaN</td>\n",
       "      <td>NaN</td>\n",
       "      <td>село Рождествено</td>\n",
       "      <td>NaN</td>\n",
       "      <td>NaN</td>\n",
       "      <td>NaN</td>\n",
       "      <td>NaN</td>\n",
       "      <td>NaN</td>\n",
       "      <td>NaN</td>\n",
       "      <td>NaN</td>\n",
       "    </tr>\n",
       "    <tr>\n",
       "      <td>23698</td>\n",
       "      <td>4</td>\n",
       "      <td>1.3500e+06</td>\n",
       "      <td>32.30</td>\n",
       "      <td>2017-07-21T00:00:00</td>\n",
       "      <td>1</td>\n",
       "      <td>2.50</td>\n",
       "      <td>5.0</td>\n",
       "      <td>12.3</td>\n",
       "      <td>1</td>\n",
       "      <td>NaN</td>\n",
       "      <td>False</td>\n",
       "      <td>False</td>\n",
       "      <td>9.00</td>\n",
       "      <td>NaN</td>\n",
       "      <td>поселок Новый Учхоз</td>\n",
       "      <td>NaN</td>\n",
       "      <td>NaN</td>\n",
       "      <td>NaN</td>\n",
       "      <td>NaN</td>\n",
       "      <td>NaN</td>\n",
       "      <td>NaN</td>\n",
       "      <td>NaN</td>\n",
       "    </tr>\n",
       "  </tbody>\n",
       "</table>\n",
       "<p>21796 rows × 22 columns</p>\n",
       "</div>"
      ],
      "text/plain": [
       "       total_images  last_price  total_area first_day_exposition  rooms  \\\n",
       "0                20  1.3000e+07      108.00  2019-03-07T00:00:00      3   \n",
       "1                 7  3.3500e+06       40.40  2018-12-04T00:00:00      1   \n",
       "2                10  5.1960e+06       56.00  2015-08-20T00:00:00      2   \n",
       "4                 2  1.0000e+07      100.00  2018-06-19T00:00:00      2   \n",
       "5                10  2.8900e+06       30.40  2018-09-10T00:00:00      1   \n",
       "...             ...         ...         ...                  ...    ...   \n",
       "23693             9  4.6000e+06       62.40  2016-08-05T00:00:00      3   \n",
       "23694             9  9.7000e+06      133.81  2017-03-21T00:00:00      3   \n",
       "23695            14  3.1000e+06       59.00  2018-01-15T00:00:00      3   \n",
       "23696            18  2.5000e+06       56.70  2018-02-11T00:00:00      2   \n",
       "23698             4  1.3500e+06       32.30  2017-07-21T00:00:00      1   \n",
       "\n",
       "       ceiling_height  floors_total  living_area  floor is_apartment  studio  \\\n",
       "0                2.70          16.0         51.0      8          NaN   False   \n",
       "1                2.65          11.0         18.6      1          NaN   False   \n",
       "2                2.65           5.0         34.3      4          NaN   False   \n",
       "4                3.03          14.0         32.0     13          NaN   False   \n",
       "5                2.65          12.0         14.4      5          NaN   False   \n",
       "...               ...           ...          ...    ...          ...     ...   \n",
       "23693            2.60           9.0         40.0      8          NaN   False   \n",
       "23694            3.70           5.0         73.3      3          NaN   False   \n",
       "23695            2.65           5.0         38.0      4          NaN   False   \n",
       "23696            2.65           3.0         29.7      1          NaN   False   \n",
       "23698            2.50           5.0         12.3      1          NaN   False   \n",
       "\n",
       "       open_plan  kitchen_area  balcony              locality_name  \\\n",
       "0          False         25.00      NaN            Санкт-Петербург   \n",
       "1          False         11.00      2.0             посёлок Шушары   \n",
       "2          False          8.30      0.0            Санкт-Петербург   \n",
       "4          False         41.00      NaN            Санкт-Петербург   \n",
       "5          False          9.10      NaN  городской посёлок Янино-1   \n",
       "...          ...           ...      ...                        ...   \n",
       "23693      False          8.00      0.0                   Петергоф   \n",
       "23694      False         13.83      NaN            Санкт-Петербург   \n",
       "23695      False          8.50      NaN                      Тосно   \n",
       "23696      False           NaN      NaN           село Рождествено   \n",
       "23698      False          9.00      NaN        поселок Новый Учхоз   \n",
       "\n",
       "       airports_nearest  cityCenters_nearest  parks_around3000  parks_nearest  \\\n",
       "0               18863.0              16028.0               1.0          482.0   \n",
       "1               12817.0              18603.0               0.0            NaN   \n",
       "2               21741.0              13933.0               1.0           90.0   \n",
       "4               31856.0               8098.0               2.0          112.0   \n",
       "5                   NaN                  NaN               NaN            NaN   \n",
       "...                 ...                  ...               ...            ...   \n",
       "23693           45602.0              34104.0               1.0          352.0   \n",
       "23694           24665.0               4232.0               1.0          796.0   \n",
       "23695               NaN                  NaN               NaN            NaN   \n",
       "23696               NaN                  NaN               NaN            NaN   \n",
       "23698               NaN                  NaN               NaN            NaN   \n",
       "\n",
       "       ponds_around3000  ponds_nearest  days_exposition  \n",
       "0                   2.0          755.0              NaN  \n",
       "1                   0.0            NaN             81.0  \n",
       "2                   2.0          574.0            558.0  \n",
       "4                   1.0           48.0            121.0  \n",
       "5                   NaN            NaN             55.0  \n",
       "...                 ...            ...              ...  \n",
       "23693               1.0          675.0            239.0  \n",
       "23694               3.0          381.0              NaN  \n",
       "23695               NaN            NaN             45.0  \n",
       "23696               NaN            NaN              NaN  \n",
       "23698               NaN            NaN              NaN  \n",
       "\n",
       "[21796 rows x 22 columns]"
      ]
     },
     "execution_count": 86,
     "metadata": {},
     "output_type": "execute_result"
    }
   ],
   "source": [
    "filled_data"
   ]
  },
  {
   "cell_type": "markdown",
   "metadata": {},
   "source": [
    "Посмотрим на то как связана жил. площадь с общей и количеством комнат:"
   ]
  },
  {
   "cell_type": "code",
   "execution_count": 17,
   "metadata": {},
   "outputs": [
    {
     "data": {
      "text/plain": [
       "<matplotlib.axes._subplots.AxesSubplot at 0x7f144aa85550>"
      ]
     },
     "execution_count": 17,
     "metadata": {},
     "output_type": "execute_result"
    },
    {
     "data": {
      "image/png": "[encoded data removed]",
      "text/plain": [
       "<Figure size 432x288 with 1 Axes>"
      ]
     },
     "metadata": {
      "needs_background": "light"
     },
     "output_type": "display_data"
    }
   ],
   "source": [
    "filled_data.plot(x='total_area', y='living_area', kind='scatter')"
   ]
  },
  {
   "cell_type": "code",
   "execution_count": 18,
   "metadata": {},
   "outputs": [
    {
     "data": {
      "text/plain": [
       "<matplotlib.axes._subplots.AxesSubplot at 0x7f144aa26c10>"
      ]
     },
     "execution_count": 18,
     "metadata": {},
     "output_type": "execute_result"
    },
    {
     "data": {
      "image/png": "[encoded data removed]",
      "text/plain": [
       "<Figure size 432x288 with 1 Axes>"
      ]
     },
     "metadata": {
      "needs_background": "light"
     },
     "output_type": "display_data"
    }
   ],
   "source": [
    "filled_data.plot(x='rooms', y='living_area', kind='scatter')"
   ]
  },
  {
   "cell_type": "code",
   "execution_count": 19,
   "metadata": {},
   "outputs": [],
   "source": [
    "#обозначим оси для нашей модели\n",
    "x = filled_data.loc[:, ['total_area', 'rooms']]\n",
    "y = filled_data.loc[:, 'living_area']\n",
    "# x1 = filled_data.loc[:, 'total_area']\n",
    "# x2 = filled_data.loc[:, 'rooms']"
   ]
  },
  {
   "cell_type": "code",
   "execution_count": 20,
   "metadata": {},
   "outputs": [
    {
     "name": "stdout",
     "output_type": "stream",
     "text": [
      "-5.171049938749874 [0.45066677 6.05648783]\n"
     ]
    }
   ],
   "source": [
    "# создаем пустую модель\n",
    "skm = lm.LinearRegression()\n",
    "# запускаем расчет параметров для указанных данных\n",
    "skm.fit(x, y)\n",
    "# и выведем параметры рассчитанной модели\n",
    "print(skm.intercept_, skm.coef_)"
   ]
  },
  {
   "cell_type": "markdown",
   "metadata": {},
   "source": [
    "Мы получили уравнение\n",
    "    `living_area = -5.171 + 0.451 * total_area + 6.056 * rooms`\n",
    "\n",
    "Теперь можем заполнить наши пропущенные данные:"
   ]
  },
  {
   "cell_type": "code",
   "execution_count": 21,
   "metadata": {},
   "outputs": [
    {
     "data": {
      "text/html": [
       "<div>\n",
       "<style scoped>\n",
       "    .dataframe tbody tr th:only-of-type {\n",
       "        vertical-align: middle;\n",
       "    }\n",
       "\n",
       "    .dataframe tbody tr th {\n",
       "        vertical-align: top;\n",
       "    }\n",
       "\n",
       "    .dataframe thead th {\n",
       "        text-align: right;\n",
       "    }\n",
       "</style>\n",
       "<table border=\"1\" class=\"dataframe\">\n",
       "  <thead>\n",
       "    <tr style=\"text-align: right;\">\n",
       "      <th></th>\n",
       "      <th>total_images</th>\n",
       "      <th>last_price</th>\n",
       "      <th>total_area</th>\n",
       "      <th>first_day_exposition</th>\n",
       "      <th>rooms</th>\n",
       "      <th>ceiling_height</th>\n",
       "      <th>floors_total</th>\n",
       "      <th>living_area</th>\n",
       "      <th>floor</th>\n",
       "      <th>is_apartment</th>\n",
       "      <th>studio</th>\n",
       "      <th>open_plan</th>\n",
       "      <th>kitchen_area</th>\n",
       "      <th>balcony</th>\n",
       "      <th>locality_name</th>\n",
       "      <th>airports_nearest</th>\n",
       "      <th>cityCenters_nearest</th>\n",
       "      <th>parks_around3000</th>\n",
       "      <th>parks_nearest</th>\n",
       "      <th>ponds_around3000</th>\n",
       "      <th>ponds_nearest</th>\n",
       "      <th>days_exposition</th>\n",
       "    </tr>\n",
       "  </thead>\n",
       "  <tbody>\n",
       "  </tbody>\n",
       "</table>\n",
       "</div>"
      ],
      "text/plain": [
       "Empty DataFrame\n",
       "Columns: [total_images, last_price, total_area, first_day_exposition, rooms, ceiling_height, floors_total, living_area, floor, is_apartment, studio, open_plan, kitchen_area, balcony, locality_name, airports_nearest, cityCenters_nearest, parks_around3000, parks_nearest, ponds_around3000, ponds_nearest, days_exposition]\n",
       "Index: []"
      ]
     },
     "execution_count": 21,
     "metadata": {},
     "output_type": "execute_result"
    }
   ],
   "source": [
    "def calculate_living_area(row):\n",
    "    # проверяем что значение NaN    \n",
    "    if row['living_area'] != row['living_area']:\n",
    "        calc_area = (-5.171 + 0.451 * row['total_area'] + 6.056 * row['rooms'])\n",
    "        return calc_area\n",
    "    else:\n",
    "        return row['living_area']\n",
    "    \n",
    "\n",
    "data['living_area'] = data.apply(calculate_living_area, axis=1)\n",
    "\n",
    "data[data['living_area'].isna()].head()"
   ]
  },
  {
   "cell_type": "markdown",
   "metadata": {},
   "source": [
    "Пропущенные значения скорее всего опять возникают из-за того, что владельцы просто не знают значений жилой площади."
   ]
  },
  {
   "cell_type": "markdown",
   "metadata": {},
   "source": [
    "##### 2.1.4. Апартаменты"
   ]
  },
  {
   "cell_type": "markdown",
   "metadata": {},
   "source": [
    "Перейдем к столбцу `is_apartment`"
   ]
  },
  {
   "cell_type": "code",
   "execution_count": 22,
   "metadata": {},
   "outputs": [
    {
     "data": {
      "text/plain": [
       "'Доля пропущеных значений: 88.3%'"
      ]
     },
     "execution_count": 22,
     "metadata": {},
     "output_type": "execute_result"
    }
   ],
   "source": [
    "missing_values('is_apartment')"
   ]
  },
  {
   "cell_type": "code",
   "execution_count": 23,
   "metadata": {},
   "outputs": [
    {
     "data": {
      "text/html": [
       "<div>\n",
       "<style scoped>\n",
       "    .dataframe tbody tr th:only-of-type {\n",
       "        vertical-align: middle;\n",
       "    }\n",
       "\n",
       "    .dataframe tbody tr th {\n",
       "        vertical-align: top;\n",
       "    }\n",
       "\n",
       "    .dataframe thead th {\n",
       "        text-align: right;\n",
       "    }\n",
       "</style>\n",
       "<table border=\"1\" class=\"dataframe\">\n",
       "  <thead>\n",
       "    <tr style=\"text-align: right;\">\n",
       "      <th></th>\n",
       "      <th>total_images</th>\n",
       "      <th>last_price</th>\n",
       "      <th>total_area</th>\n",
       "      <th>first_day_exposition</th>\n",
       "      <th>rooms</th>\n",
       "      <th>ceiling_height</th>\n",
       "      <th>floors_total</th>\n",
       "      <th>living_area</th>\n",
       "      <th>floor</th>\n",
       "      <th>studio</th>\n",
       "      <th>open_plan</th>\n",
       "      <th>kitchen_area</th>\n",
       "      <th>balcony</th>\n",
       "      <th>locality_name</th>\n",
       "      <th>airports_nearest</th>\n",
       "      <th>cityCenters_nearest</th>\n",
       "      <th>parks_around3000</th>\n",
       "      <th>parks_nearest</th>\n",
       "      <th>ponds_around3000</th>\n",
       "      <th>ponds_nearest</th>\n",
       "      <th>days_exposition</th>\n",
       "    </tr>\n",
       "    <tr>\n",
       "      <th>is_apartment</th>\n",
       "      <th></th>\n",
       "      <th></th>\n",
       "      <th></th>\n",
       "      <th></th>\n",
       "      <th></th>\n",
       "      <th></th>\n",
       "      <th></th>\n",
       "      <th></th>\n",
       "      <th></th>\n",
       "      <th></th>\n",
       "      <th></th>\n",
       "      <th></th>\n",
       "      <th></th>\n",
       "      <th></th>\n",
       "      <th></th>\n",
       "      <th></th>\n",
       "      <th></th>\n",
       "      <th></th>\n",
       "      <th></th>\n",
       "      <th></th>\n",
       "      <th></th>\n",
       "    </tr>\n",
       "  </thead>\n",
       "  <tbody>\n",
       "    <tr>\n",
       "      <td>False</td>\n",
       "      <td>2725</td>\n",
       "      <td>2725</td>\n",
       "      <td>2725</td>\n",
       "      <td>2725</td>\n",
       "      <td>2725</td>\n",
       "      <td>2725</td>\n",
       "      <td>2725</td>\n",
       "      <td>2725</td>\n",
       "      <td>2725</td>\n",
       "      <td>2725</td>\n",
       "      <td>2725</td>\n",
       "      <td>2550</td>\n",
       "      <td>2267</td>\n",
       "      <td>2710</td>\n",
       "      <td>2103</td>\n",
       "      <td>2104</td>\n",
       "      <td>2104</td>\n",
       "      <td>928</td>\n",
       "      <td>2104</td>\n",
       "      <td>1046</td>\n",
       "      <td>2462</td>\n",
       "    </tr>\n",
       "    <tr>\n",
       "      <td>True</td>\n",
       "      <td>50</td>\n",
       "      <td>50</td>\n",
       "      <td>50</td>\n",
       "      <td>50</td>\n",
       "      <td>50</td>\n",
       "      <td>50</td>\n",
       "      <td>50</td>\n",
       "      <td>50</td>\n",
       "      <td>50</td>\n",
       "      <td>50</td>\n",
       "      <td>50</td>\n",
       "      <td>35</td>\n",
       "      <td>31</td>\n",
       "      <td>50</td>\n",
       "      <td>41</td>\n",
       "      <td>43</td>\n",
       "      <td>43</td>\n",
       "      <td>19</td>\n",
       "      <td>43</td>\n",
       "      <td>30</td>\n",
       "      <td>38</td>\n",
       "    </tr>\n",
       "  </tbody>\n",
       "</table>\n",
       "</div>"
      ],
      "text/plain": [
       "              total_images  last_price  total_area  first_day_exposition  \\\n",
       "is_apartment                                                               \n",
       "False                 2725        2725        2725                  2725   \n",
       "True                    50          50          50                    50   \n",
       "\n",
       "              rooms  ceiling_height  floors_total  living_area  floor  studio  \\\n",
       "is_apartment                                                                    \n",
       "False          2725            2725          2725         2725   2725    2725   \n",
       "True             50              50            50           50     50      50   \n",
       "\n",
       "              open_plan  kitchen_area  balcony  locality_name  \\\n",
       "is_apartment                                                    \n",
       "False              2725          2550     2267           2710   \n",
       "True                 50            35       31             50   \n",
       "\n",
       "              airports_nearest  cityCenters_nearest  parks_around3000  \\\n",
       "is_apartment                                                            \n",
       "False                     2103                 2104              2104   \n",
       "True                        41                   43                43   \n",
       "\n",
       "              parks_nearest  ponds_around3000  ponds_nearest  days_exposition  \n",
       "is_apartment                                                                   \n",
       "False                   928              2104           1046             2462  \n",
       "True                     19                43             30               38  "
      ]
     },
     "execution_count": 23,
     "metadata": {},
     "output_type": "execute_result"
    }
   ],
   "source": [
    "data.groupby('is_apartment').count()"
   ]
  },
  {
   "cell_type": "markdown",
   "metadata": {},
   "source": [
    "Природа пропущенных значений до конца не ясна. Cкорее всего этот пункт – \"радио\" кнопка на сайте, и нажать её не должно быть сложно. Однако мы видим что доля пропущенных значений целых 88.3 процентов. \n",
    "Либо люди сомневаются в значении слова \"аппартаменты\" и не выбирают ничего, \n",
    "либо есть проблемы в дизайне сайта и люди просто не видят эту кнопку - это необходимо проверить.\n",
    "\n",
    "Пока мы будем считать что кнопку видно и люди просто не знают что это за тип жилья. А раз не знают, то, скорее всего у них обычная квартира. Поэтому будем заменять пропущенные значения на `False`."
   ]
  },
  {
   "cell_type": "code",
   "execution_count": 24,
   "metadata": {},
   "outputs": [
    {
     "data": {
      "text/plain": [
       "0"
      ]
     },
     "execution_count": 24,
     "metadata": {},
     "output_type": "execute_result"
    }
   ],
   "source": [
    "data['is_apartment'] = data['is_apartment'].fillna(False)\n",
    "data['is_apartment'].isna().sum()"
   ]
  },
  {
   "cell_type": "markdown",
   "metadata": {},
   "source": [
    "##### 2.1.5.  Площадь кухни"
   ]
  },
  {
   "cell_type": "code",
   "execution_count": 25,
   "metadata": {},
   "outputs": [
    {
     "name": "stdout",
     "output_type": "stream",
     "text": [
      "Доля пропущеных значений: 9.6%\n",
      "\n",
      "kitchen_area           1.0000\n",
      "total_area             0.6091\n",
      "last_price             0.5199\n",
      "living_area            0.4346\n",
      "rooms                  0.2699\n",
      "floors_total           0.1636\n",
      "ponds_around3000       0.1501\n",
      "floor                  0.1355\n",
      "total_images           0.1048\n",
      "days_exposition        0.1006\n",
      "balcony                0.0986\n",
      "parks_around3000       0.0875\n",
      "ceiling_height         0.0714\n",
      "is_apartment           0.0490\n",
      "parks_nearest          0.0296\n",
      "airports_nearest       0.0082\n",
      "ponds_nearest         -0.1052\n",
      "cityCenters_nearest   -0.1900\n",
      "studio                    NaN\n",
      "open_plan                 NaN\n",
      "Name: kitchen_area, dtype: float64\n"
     ]
    }
   ],
   "source": [
    "stats_for_missing('kitchen_area')"
   ]
  },
  {
   "cell_type": "code",
   "execution_count": 26,
   "metadata": {},
   "outputs": [
    {
     "data": {
      "text/plain": [
       "<matplotlib.axes._subplots.AxesSubplot at 0x7f14281bb450>"
      ]
     },
     "execution_count": 26,
     "metadata": {},
     "output_type": "execute_result"
    },
    {
     "data": {
      "image/png": "[encoded data removed]",
      "text/plain": [
       "<Figure size 432x432 with 1 Axes>"
      ]
     },
     "metadata": {
      "needs_background": "light"
     },
     "output_type": "display_data"
    }
   ],
   "source": [
    "data.plot(y = 'kitchen_area', \n",
    "          figsize=(6, 6),\n",
    "          kind= 'hist',\n",
    "          bins= 60,\n",
    "          grid= True)"
   ]
  },
  {
   "cell_type": "code",
   "execution_count": 27,
   "metadata": {},
   "outputs": [
    {
     "data": {
      "text/plain": [
       "<matplotlib.axes._subplots.AxesSubplot at 0x7f1428118990>"
      ]
     },
     "execution_count": 27,
     "metadata": {},
     "output_type": "execute_result"
    },
    {
     "data": {
      "image/png": "[encoded data removed]",
      "text/plain": [
       "<Figure size 432x288 with 1 Axes>"
      ]
     },
     "metadata": {
      "needs_background": "light"
     },
     "output_type": "display_data"
    }
   ],
   "source": [
    "data.plot(x='total_area', y='kitchen_area', kind='scatter')"
   ]
  },
  {
   "cell_type": "markdown",
   "metadata": {},
   "source": [
    "Видим что разброс уже более широкий по сравнению с `living_area`. Нам кажется что обращаться к линейной регрессии излишне - мы уже посчитали площадь всех жилых помещений и можем использовать её.\n",
    "\n",
    "Согласно жилищному кодексу общая площадь квартиры – это сумма площадей всех комнат в квартире, в том числе подсобных помещений (сюда относятся кухни), кроме лоджий, балконов, веранд и террас. Для балконов и т.д. используются коеффициенты 0.5 и меньше. Чтобы восстановить данные о площади кухни принебрежем значениями площади балконов (включив её в площадь кухни) и используем формулу\n",
    "\n",
    "    Площадь кухни = Общая площадь - Жилая площадь. "
   ]
  },
  {
   "cell_type": "code",
   "execution_count": 28,
   "metadata": {},
   "outputs": [
    {
     "data": {
      "text/plain": [
       "0"
      ]
     },
     "execution_count": 28,
     "metadata": {},
     "output_type": "execute_result"
    }
   ],
   "source": [
    "def calculate_kitchen_area(row):\n",
    "    # проверяем что значение NaN    \n",
    "    if row['kitchen_area'] != row['kitchen_area']:\n",
    "        calc_area = row['total_area'] - row['living_area']\n",
    "        return calc_area\n",
    "    else:\n",
    "        return row['kitchen_area']\n",
    "    \n",
    "\n",
    "data['kitchen_area'] = data.apply(calculate_kitchen_area, axis=1)\n",
    "data['kitchen_area'].isna().sum()"
   ]
  },
  {
   "cell_type": "markdown",
   "metadata": {},
   "source": [
    "##### 2.1.6. Балконы"
   ]
  },
  {
   "cell_type": "code",
   "execution_count": 29,
   "metadata": {},
   "outputs": [
    {
     "name": "stdout",
     "output_type": "stream",
     "text": [
      "Доля пропущеных значений: 48.6%\n",
      "\n",
      "balcony                1.0000\n",
      "floors_total           0.1930\n",
      "floor                  0.1688\n",
      "total_images           0.1217\n",
      "airports_nearest       0.0668\n",
      "parks_nearest          0.0523\n",
      "cityCenters_nearest    0.0511\n",
      "total_area             0.0479\n",
      "ceiling_height         0.0432\n",
      "is_apartment           0.0431\n",
      "studio                 0.0315\n",
      "last_price             0.0296\n",
      "kitchen_area           0.0203\n",
      "open_plan              0.0195\n",
      "living_area            0.0184\n",
      "rooms                  0.0180\n",
      "ponds_nearest          0.0108\n",
      "ponds_around3000      -0.0327\n",
      "days_exposition       -0.0329\n",
      "parks_around3000      -0.0829\n",
      "Name: balcony, dtype: float64\n"
     ]
    }
   ],
   "source": [
    "stats_for_missing('balcony')"
   ]
  },
  {
   "cell_type": "markdown",
   "metadata": {},
   "source": [
    "Здесь будем использовать следующую логику: если человек не указал число балконов — скорее всего, их нет. Такие пропуски будем заменять на 0."
   ]
  },
  {
   "cell_type": "code",
   "execution_count": 30,
   "metadata": {},
   "outputs": [
    {
     "data": {
      "text/plain": [
       "0"
      ]
     },
     "execution_count": 30,
     "metadata": {},
     "output_type": "execute_result"
    }
   ],
   "source": [
    "data['balcony'] = data['balcony'].fillna(0)\n",
    "data['balcony'].isna().sum()"
   ]
  },
  {
   "cell_type": "code",
   "execution_count": 31,
   "metadata": {},
   "outputs": [
    {
     "data": {
      "text/html": [
       "<div>\n",
       "<style scoped>\n",
       "    .dataframe tbody tr th:only-of-type {\n",
       "        vertical-align: middle;\n",
       "    }\n",
       "\n",
       "    .dataframe tbody tr th {\n",
       "        vertical-align: top;\n",
       "    }\n",
       "\n",
       "    .dataframe thead th {\n",
       "        text-align: right;\n",
       "    }\n",
       "</style>\n",
       "<table border=\"1\" class=\"dataframe\">\n",
       "  <thead>\n",
       "    <tr style=\"text-align: right;\">\n",
       "      <th></th>\n",
       "      <th>total_images</th>\n",
       "      <th>last_price</th>\n",
       "      <th>total_area</th>\n",
       "      <th>first_day_exposition</th>\n",
       "      <th>rooms</th>\n",
       "      <th>ceiling_height</th>\n",
       "      <th>floors_total</th>\n",
       "      <th>living_area</th>\n",
       "      <th>floor</th>\n",
       "      <th>is_apartment</th>\n",
       "      <th>studio</th>\n",
       "      <th>open_plan</th>\n",
       "      <th>kitchen_area</th>\n",
       "      <th>locality_name</th>\n",
       "      <th>airports_nearest</th>\n",
       "      <th>cityCenters_nearest</th>\n",
       "      <th>parks_around3000</th>\n",
       "      <th>parks_nearest</th>\n",
       "      <th>ponds_around3000</th>\n",
       "      <th>ponds_nearest</th>\n",
       "      <th>days_exposition</th>\n",
       "    </tr>\n",
       "    <tr>\n",
       "      <th>balcony</th>\n",
       "      <th></th>\n",
       "      <th></th>\n",
       "      <th></th>\n",
       "      <th></th>\n",
       "      <th></th>\n",
       "      <th></th>\n",
       "      <th></th>\n",
       "      <th></th>\n",
       "      <th></th>\n",
       "      <th></th>\n",
       "      <th></th>\n",
       "      <th></th>\n",
       "      <th></th>\n",
       "      <th></th>\n",
       "      <th></th>\n",
       "      <th></th>\n",
       "      <th></th>\n",
       "      <th></th>\n",
       "      <th></th>\n",
       "      <th></th>\n",
       "      <th></th>\n",
       "    </tr>\n",
       "  </thead>\n",
       "  <tbody>\n",
       "    <tr>\n",
       "      <td>0.0</td>\n",
       "      <td>15277</td>\n",
       "      <td>15277</td>\n",
       "      <td>15277</td>\n",
       "      <td>15277</td>\n",
       "      <td>15277</td>\n",
       "      <td>15277</td>\n",
       "      <td>15277</td>\n",
       "      <td>15277</td>\n",
       "      <td>15277</td>\n",
       "      <td>15277</td>\n",
       "      <td>15277</td>\n",
       "      <td>15277</td>\n",
       "      <td>15277</td>\n",
       "      <td>15238</td>\n",
       "      <td>11848</td>\n",
       "      <td>11862</td>\n",
       "      <td>11862</td>\n",
       "      <td>5537</td>\n",
       "      <td>11862</td>\n",
       "      <td>6102</td>\n",
       "      <td>13167</td>\n",
       "    </tr>\n",
       "    <tr>\n",
       "      <td>1.0</td>\n",
       "      <td>4195</td>\n",
       "      <td>4195</td>\n",
       "      <td>4195</td>\n",
       "      <td>4195</td>\n",
       "      <td>4195</td>\n",
       "      <td>4195</td>\n",
       "      <td>4195</td>\n",
       "      <td>4195</td>\n",
       "      <td>4195</td>\n",
       "      <td>4195</td>\n",
       "      <td>4195</td>\n",
       "      <td>4195</td>\n",
       "      <td>4195</td>\n",
       "      <td>4187</td>\n",
       "      <td>3120</td>\n",
       "      <td>3124</td>\n",
       "      <td>3125</td>\n",
       "      <td>1365</td>\n",
       "      <td>3125</td>\n",
       "      <td>1497</td>\n",
       "      <td>3657</td>\n",
       "    </tr>\n",
       "    <tr>\n",
       "      <td>2.0</td>\n",
       "      <td>3659</td>\n",
       "      <td>3659</td>\n",
       "      <td>3659</td>\n",
       "      <td>3659</td>\n",
       "      <td>3659</td>\n",
       "      <td>3659</td>\n",
       "      <td>3659</td>\n",
       "      <td>3659</td>\n",
       "      <td>3659</td>\n",
       "      <td>3659</td>\n",
       "      <td>3659</td>\n",
       "      <td>3659</td>\n",
       "      <td>3659</td>\n",
       "      <td>3658</td>\n",
       "      <td>2741</td>\n",
       "      <td>2746</td>\n",
       "      <td>2746</td>\n",
       "      <td>958</td>\n",
       "      <td>2746</td>\n",
       "      <td>1294</td>\n",
       "      <td>3235</td>\n",
       "    </tr>\n",
       "    <tr>\n",
       "      <td>3.0</td>\n",
       "      <td>81</td>\n",
       "      <td>81</td>\n",
       "      <td>81</td>\n",
       "      <td>81</td>\n",
       "      <td>81</td>\n",
       "      <td>81</td>\n",
       "      <td>81</td>\n",
       "      <td>81</td>\n",
       "      <td>81</td>\n",
       "      <td>81</td>\n",
       "      <td>81</td>\n",
       "      <td>81</td>\n",
       "      <td>81</td>\n",
       "      <td>81</td>\n",
       "      <td>61</td>\n",
       "      <td>61</td>\n",
       "      <td>61</td>\n",
       "      <td>34</td>\n",
       "      <td>61</td>\n",
       "      <td>36</td>\n",
       "      <td>67</td>\n",
       "    </tr>\n",
       "    <tr>\n",
       "      <td>4.0</td>\n",
       "      <td>183</td>\n",
       "      <td>183</td>\n",
       "      <td>183</td>\n",
       "      <td>183</td>\n",
       "      <td>183</td>\n",
       "      <td>183</td>\n",
       "      <td>183</td>\n",
       "      <td>183</td>\n",
       "      <td>183</td>\n",
       "      <td>183</td>\n",
       "      <td>183</td>\n",
       "      <td>183</td>\n",
       "      <td>183</td>\n",
       "      <td>182</td>\n",
       "      <td>144</td>\n",
       "      <td>144</td>\n",
       "      <td>144</td>\n",
       "      <td>82</td>\n",
       "      <td>144</td>\n",
       "      <td>75</td>\n",
       "      <td>149</td>\n",
       "    </tr>\n",
       "    <tr>\n",
       "      <td>5.0</td>\n",
       "      <td>304</td>\n",
       "      <td>304</td>\n",
       "      <td>304</td>\n",
       "      <td>304</td>\n",
       "      <td>304</td>\n",
       "      <td>304</td>\n",
       "      <td>304</td>\n",
       "      <td>304</td>\n",
       "      <td>304</td>\n",
       "      <td>304</td>\n",
       "      <td>304</td>\n",
       "      <td>304</td>\n",
       "      <td>304</td>\n",
       "      <td>304</td>\n",
       "      <td>243</td>\n",
       "      <td>243</td>\n",
       "      <td>243</td>\n",
       "      <td>103</td>\n",
       "      <td>243</td>\n",
       "      <td>106</td>\n",
       "      <td>243</td>\n",
       "    </tr>\n",
       "  </tbody>\n",
       "</table>\n",
       "</div>"
      ],
      "text/plain": [
       "         total_images  last_price  total_area  first_day_exposition  rooms  \\\n",
       "balcony                                                                      \n",
       "0.0             15277       15277       15277                 15277  15277   \n",
       "1.0              4195        4195        4195                  4195   4195   \n",
       "2.0              3659        3659        3659                  3659   3659   \n",
       "3.0                81          81          81                    81     81   \n",
       "4.0               183         183         183                   183    183   \n",
       "5.0               304         304         304                   304    304   \n",
       "\n",
       "         ceiling_height  floors_total  living_area  floor  is_apartment  \\\n",
       "balcony                                                                   \n",
       "0.0               15277         15277        15277  15277         15277   \n",
       "1.0                4195          4195         4195   4195          4195   \n",
       "2.0                3659          3659         3659   3659          3659   \n",
       "3.0                  81            81           81     81            81   \n",
       "4.0                 183           183          183    183           183   \n",
       "5.0                 304           304          304    304           304   \n",
       "\n",
       "         studio  open_plan  kitchen_area  locality_name  airports_nearest  \\\n",
       "balcony                                                                     \n",
       "0.0       15277      15277         15277          15238             11848   \n",
       "1.0        4195       4195          4195           4187              3120   \n",
       "2.0        3659       3659          3659           3658              2741   \n",
       "3.0          81         81            81             81                61   \n",
       "4.0         183        183           183            182               144   \n",
       "5.0         304        304           304            304               243   \n",
       "\n",
       "         cityCenters_nearest  parks_around3000  parks_nearest  \\\n",
       "balcony                                                         \n",
       "0.0                    11862             11862           5537   \n",
       "1.0                     3124              3125           1365   \n",
       "2.0                     2746              2746            958   \n",
       "3.0                       61                61             34   \n",
       "4.0                      144               144             82   \n",
       "5.0                      243               243            103   \n",
       "\n",
       "         ponds_around3000  ponds_nearest  days_exposition  \n",
       "balcony                                                    \n",
       "0.0                 11862           6102            13167  \n",
       "1.0                  3125           1497             3657  \n",
       "2.0                  2746           1294             3235  \n",
       "3.0                    61             36               67  \n",
       "4.0                   144             75              149  \n",
       "5.0                   243            106              243  "
      ]
     },
     "execution_count": 31,
     "metadata": {},
     "output_type": "execute_result"
    }
   ],
   "source": [
    "#вздлянем на статистику по балконам\n",
    "data.groupby('balcony').count()"
   ]
  },
  {
   "cell_type": "markdown",
   "metadata": {},
   "source": [
    "Если в дальнейшем потребуется более высокая точность площади кухни, можно будет добавить столбец с площадью балконов и на основе него попробовать скорректировать пропущенные значения площади кухни."
   ]
  },
  {
   "cell_type": "markdown",
   "metadata": {},
   "source": [
    "##### 2.1.7. Населенный пункт и аэропорты"
   ]
  },
  {
   "cell_type": "markdown",
   "metadata": {},
   "source": [
    "Далее у нас идут значения, которые заполняются автоматически, на основе геолокации. Это `locality_name\tairports_nearest\tcityCenters_nearest`. Их мы восстановить никак не можем, поэтому их можно будет заменять на `unknown` после проведения анализа. "
   ]
  },
  {
   "cell_type": "code",
   "execution_count": 32,
   "metadata": {},
   "outputs": [],
   "source": [
    "# data.loc[:, 'locality_name':'cityCenters_nearest'] = data.loc[:, 'locality_name':'cityCenters_nearest'].fillna('unknown')\n",
    "# data.loc[:, 'locality_name':'cityCenters_nearest'].isna().sum()"
   ]
  },
  {
   "cell_type": "markdown",
   "metadata": {},
   "source": [
    "Судя по данным, здесь пропуски возникают в тех случаях, когда квартиры расположены в поселках, деревнях, а иногда и, возможно, вне мест совместного обитания человека. Для таких мест просто нету достаточной информации у геолокационных сервисов."
   ]
  },
  {
   "cell_type": "markdown",
   "metadata": {},
   "source": [
    "##### 2.1.8. Парки и водоемы"
   ]
  },
  {
   "cell_type": "markdown",
   "metadata": {},
   "source": [
    "`parks_around3000\tparks_nearest\tponds_around3000\tponds_nearest` эти данные также собраны автоматически, но некоторые значения мы можем восстановить - например, если вокруг обьекта нет парков или водоемов, то в расстоянии можно указать `no_objects_near`."
   ]
  },
  {
   "cell_type": "code",
   "execution_count": 33,
   "metadata": {},
   "outputs": [],
   "source": [
    "# def calculate_parks_nearest(row):\n",
    "#     # проверяем что значение NaN    \n",
    "#     if ((row.loc['parks_nearest'] != row['parks_nearest']) and \n",
    "#         (row['parks_around3000'] == 0)):\n",
    "#         return 'no_parks_near'\n",
    "#     else:\n",
    "#         return row['parks_nearest']\n",
    "    \n",
    "# def calculate_ponds_nearest(row):\n",
    "#     # проверяем что значение NaN    \n",
    "#     if ((row.loc['ponds_nearest'] != row['ponds_nearest']) and \n",
    "#         (row['ponds_around3000'] == 0)):\n",
    "#         return 'no_ponds_near'\n",
    "#     else:\n",
    "#         return row['ponds_nearest']\n",
    "    \n",
    "# data['parks_nearest'] = data.apply(calculate_parks_nearest, axis=1)\n",
    "# data['ponds_nearest'] = data.apply(calculate_ponds_nearest, axis=1)\n",
    "\n",
    "# print(data['parks_nearest'].isna().sum())\n",
    "# print(data['ponds_nearest'].isna().sum())"
   ]
  },
  {
   "cell_type": "code",
   "execution_count": 34,
   "metadata": {},
   "outputs": [],
   "source": [
    "# #заполним остальные значения на unknown\n",
    "# data.loc[:, 'parks_around3000':'ponds_nearest'] = data.loc[:, 'parks_around3000':'ponds_nearest'].fillna('unknown')\n",
    "# data.loc[:, 'parks_around3000':'ponds_nearest'].isna().sum()"
   ]
  },
  {
   "cell_type": "markdown",
   "metadata": {},
   "source": [
    "На данном этапе закоментим код, поскольку смешение типов данных мешает дальнейшему анализу."
   ]
  },
  {
   "cell_type": "markdown",
   "metadata": {},
   "source": [
    "##### 2.1.8. Сколько дней было размещено объявление"
   ]
  },
  {
   "cell_type": "markdown",
   "metadata": {},
   "source": [
    "Последний столбец days_exposition"
   ]
  },
  {
   "cell_type": "code",
   "execution_count": 35,
   "metadata": {},
   "outputs": [
    {
     "data": {
      "text/plain": [
       "'Доля пропущеных значений: 13.4%'"
      ]
     },
     "execution_count": 35,
     "metadata": {},
     "output_type": "execute_result"
    }
   ],
   "source": [
    "missing_values('days_exposition')"
   ]
  },
  {
   "cell_type": "markdown",
   "metadata": {},
   "source": [
    "`days_exposition         20518 non-null float64` \n",
    "Видим что данные имеют тип float. Поэтому открытые объявления будут принимать либо значение 0, либо NaN: "
   ]
  },
  {
   "cell_type": "code",
   "execution_count": 36,
   "metadata": {},
   "outputs": [
    {
     "data": {
      "text/html": [
       "<div>\n",
       "<style scoped>\n",
       "    .dataframe tbody tr th:only-of-type {\n",
       "        vertical-align: middle;\n",
       "    }\n",
       "\n",
       "    .dataframe tbody tr th {\n",
       "        vertical-align: top;\n",
       "    }\n",
       "\n",
       "    .dataframe thead th {\n",
       "        text-align: right;\n",
       "    }\n",
       "</style>\n",
       "<table border=\"1\" class=\"dataframe\">\n",
       "  <thead>\n",
       "    <tr style=\"text-align: right;\">\n",
       "      <th></th>\n",
       "      <th>total_images</th>\n",
       "      <th>last_price</th>\n",
       "      <th>total_area</th>\n",
       "      <th>first_day_exposition</th>\n",
       "      <th>rooms</th>\n",
       "      <th>ceiling_height</th>\n",
       "      <th>floors_total</th>\n",
       "      <th>living_area</th>\n",
       "      <th>floor</th>\n",
       "      <th>is_apartment</th>\n",
       "      <th>studio</th>\n",
       "      <th>open_plan</th>\n",
       "      <th>kitchen_area</th>\n",
       "      <th>balcony</th>\n",
       "      <th>locality_name</th>\n",
       "      <th>airports_nearest</th>\n",
       "      <th>cityCenters_nearest</th>\n",
       "      <th>parks_around3000</th>\n",
       "      <th>parks_nearest</th>\n",
       "      <th>ponds_around3000</th>\n",
       "      <th>ponds_nearest</th>\n",
       "      <th>days_exposition</th>\n",
       "    </tr>\n",
       "  </thead>\n",
       "  <tbody>\n",
       "  </tbody>\n",
       "</table>\n",
       "</div>"
      ],
      "text/plain": [
       "Empty DataFrame\n",
       "Columns: [total_images, last_price, total_area, first_day_exposition, rooms, ceiling_height, floors_total, living_area, floor, is_apartment, studio, open_plan, kitchen_area, balcony, locality_name, airports_nearest, cityCenters_nearest, parks_around3000, parks_nearest, ponds_around3000, ponds_nearest, days_exposition]\n",
       "Index: []"
      ]
     },
     "execution_count": 36,
     "metadata": {},
     "output_type": "execute_result"
    }
   ],
   "source": [
    "data[data['days_exposition'] == 0].head()  "
   ]
  },
  {
   "cell_type": "markdown",
   "metadata": {},
   "source": [
    "Скорее всего NaN - открытые объявления. Укажем это"
   ]
  },
  {
   "cell_type": "code",
   "execution_count": 37,
   "metadata": {},
   "outputs": [
    {
     "data": {
      "text/plain": [
       "0"
      ]
     },
     "execution_count": 37,
     "metadata": {},
     "output_type": "execute_result"
    }
   ],
   "source": [
    "data['days_exposition'] = data['days_exposition'].fillna('open')\n",
    "data['days_exposition'].isna().sum()"
   ]
  },
  {
   "cell_type": "markdown",
   "metadata": {},
   "source": [
    "#### 2.2. Приведение данных к нужным типам"
   ]
  },
  {
   "cell_type": "markdown",
   "metadata": {},
   "source": [
    "Вспомим какие данные необходимо привести к правильному типу:"
   ]
  },
  {
   "cell_type": "code",
   "execution_count": 38,
   "metadata": {},
   "outputs": [
    {
     "name": "stdout",
     "output_type": "stream",
     "text": [
      "<class 'pandas.core.frame.DataFrame'>\n",
      "RangeIndex: 23699 entries, 0 to 23698\n",
      "Data columns (total 22 columns):\n",
      "total_images            23699 non-null int64\n",
      "last_price              23699 non-null float64\n",
      "total_area              23699 non-null float64\n",
      "first_day_exposition    23699 non-null object\n",
      "rooms                   23699 non-null int64\n",
      "ceiling_height          23699 non-null float64\n",
      "floors_total            23699 non-null float64\n",
      "living_area             23699 non-null float64\n",
      "floor                   23699 non-null int64\n",
      "is_apartment            23699 non-null bool\n",
      "studio                  23699 non-null bool\n",
      "open_plan               23699 non-null bool\n",
      "kitchen_area            23699 non-null float64\n",
      "balcony                 23699 non-null float64\n",
      "locality_name           23650 non-null object\n",
      "airports_nearest        18157 non-null float64\n",
      "cityCenters_nearest     18180 non-null float64\n",
      "parks_around3000        18181 non-null float64\n",
      "parks_nearest           8079 non-null float64\n",
      "ponds_around3000        18181 non-null float64\n",
      "ponds_nearest           9110 non-null float64\n",
      "days_exposition         23699 non-null object\n",
      "dtypes: bool(3), float64(13), int64(3), object(3)\n",
      "memory usage: 3.5+ MB\n"
     ]
    }
   ],
   "source": [
    "data.info()"
   ]
  },
  {
   "cell_type": "markdown",
   "metadata": {},
   "source": [
    "Видим что после обработки пропусков `is_apartment` стал boolean, как и должен был быть согласно документации. \n",
    "<br> Остался столбец `first_day_exposition`, который надо привести к формату datetime"
   ]
  },
  {
   "cell_type": "code",
   "execution_count": 39,
   "metadata": {},
   "outputs": [
    {
     "data": {
      "text/plain": [
       "0    2019-03-07T00:00:00\n",
       "1    2018-12-04T00:00:00\n",
       "2    2015-08-20T00:00:00\n",
       "3    2015-07-24T00:00:00\n",
       "4    2018-06-19T00:00:00\n",
       "Name: first_day_exposition, dtype: object"
      ]
     },
     "execution_count": 39,
     "metadata": {},
     "output_type": "execute_result"
    }
   ],
   "source": [
    "data.first_day_exposition.head()"
   ]
  },
  {
   "cell_type": "code",
   "execution_count": 40,
   "metadata": {},
   "outputs": [
    {
     "data": {
      "text/plain": [
       "0   2019-03-07\n",
       "1   2018-12-04\n",
       "2   2015-08-20\n",
       "3   2015-07-24\n",
       "4   2018-06-19\n",
       "Name: first_day_exposition, dtype: datetime64[ns]"
      ]
     },
     "execution_count": 40,
     "metadata": {},
     "output_type": "execute_result"
    }
   ],
   "source": [
    "pd.to_datetime(data['first_day_exposition'], format='%Y-%m-%dT%H:%M:%S').head()"
   ]
  },
  {
   "cell_type": "markdown",
   "metadata": {},
   "source": [
    "Как видим, точность временного значения - до дней."
   ]
  },
  {
   "cell_type": "markdown",
   "metadata": {},
   "source": [
    "### Вывод"
   ]
  },
  {
   "cell_type": "markdown",
   "metadata": {},
   "source": [
    "На данном этапе было выполнено заполнение пропусков. <br>\n",
    "\n",
    "**Высота потолков** была заполнена медианным значением. Возможной причиной возникновения пропусков является незнание высоты потолков людьми, выставляющими квартиру на продажу.\n",
    "\n",
    "Количество **этажей в здании** было заполнено на основе архитектуры городов России и информации о этаже квартиры.\n",
    "\n",
    "Доля пропусков для **жилой площади** квартир была 8%. Для восстановления пропущеных значений была построена модель линейной регрессии по факторам, имеющим сильную корреляцию с жил. площадью – общая площадь и количество комнат.\n",
    "Пропущенные значения скорее всего опять возникают из-за того, что владельцы просто не знают значений жилой площади.\n",
    "\n",
    "**Аппартаменты**<br>\n",
    "Природа пропущенных значений до конца не ясна. Cкорее всего этот пункт – \"радио\" кнопка на сайте, и нажать её не должно быть сложно. Однако мы видим что доля пропущенных значений целых 88.3 процентов. Либо люди сомневаются в значении слова \"аппартаменты\" и не выбирают ничего, либо есть проблемы в дизайне сайта и люди просто не видят эту кнопку - это необходимо проверить.  \n",
    "Мы приняли предположение о том, что кнопку видно и люди просто не знают что это за тип жилья. А раз не знают, то, скорее всего у них обычная квартира. Поэтому пропущенные значения были заменены на False.\n",
    "\n",
    "Чтобы восстановить данные о **площади кухни** мы использовали формулу Площадь кухни = Общая площадь - Жилая площадь. \n",
    "\n",
    "Для **количества балконов** мы использовали следующую логику: если человек не указал число балконов — скорее всего, их нет. Такие пропуски были заменены на 0.\n",
    "\n",
    "Далее у нас идут значения, которые заполняются автоматически, на основе геолокации. Это locality_name    airports_nearest    cityCenters_nearest. Их мы восстановить никак не можем, их можно заменять на `unknown`, но, для удобства дальнейшего анализа, на данном этапе мы этого делать не стали.\n",
    "Судя по данным, здесь пропуски возникают в тех случаях, когда квартиры расположены в поселках, деревнях, а иногда и, возможно, вне мест совместного обитания человека. Для таких мест просто нету достаточной информации у геолокационных сервисов.\n",
    "\n",
    "Сколько дней было размещено объявление. <br>\n",
    "Зафиксировали что данные имеют тип float, так как у нас не было нулевых значений, скорее всего `NaN` – были открытыми объявлениями. Им мы присвоили статус `open`.\n",
    "\n",
    "Приведение данных к нужным типам.  <br>\n",
    "Столбец `first_day_exposition` был привден к формату `datetime`, мы получили точность временного значения до дней."
   ]
  },
  {
   "cell_type": "markdown",
   "metadata": {},
   "source": [
    "### Шаг 3. Посчитайте и добавьте в таблицу<a id='step3'></a>"
   ]
  },
  {
   "cell_type": "markdown",
   "metadata": {},
   "source": [
    "#### 3.1. Cчитаем цену квадратного метра"
   ]
  },
  {
   "cell_type": "code",
   "execution_count": 41,
   "metadata": {},
   "outputs": [],
   "source": [
    "#считаем цену квадратного метра\n",
    "\n",
    "data['m2_price'] = data['last_price'] / data['total_area']"
   ]
  },
  {
   "cell_type": "markdown",
   "metadata": {},
   "source": [
    "#### 3.2. Cчитаем день недели, месяц и год публикации объявления"
   ]
  },
  {
   "cell_type": "code",
   "execution_count": 42,
   "metadata": {},
   "outputs": [],
   "source": [
    "#день недели, месяц и год публикации объявления\n",
    "\n",
    "data['exposition_weekday'] = pd.DatetimeIndex(data['first_day_exposition']).weekday\n",
    "data['exposition_month'] = pd.DatetimeIndex(data['first_day_exposition']).month\n",
    "data['exposition_year'] = pd.DatetimeIndex(data['first_day_exposition']).year"
   ]
  },
  {
   "cell_type": "markdown",
   "metadata": {},
   "source": [
    "#### 3.3. Этаж квартиры"
   ]
  },
  {
   "cell_type": "code",
   "execution_count": 43,
   "metadata": {},
   "outputs": [],
   "source": [
    "#этаж квартиры\n",
    "\n",
    "def floor_categorizer(row):\n",
    "    if row['floor'] == 1:\n",
    "        return 'first'\n",
    "    if row['floor'] == row['floors_total']:\n",
    "        return 'last'\n",
    "    return 'another'\n",
    "\n",
    "data['floor_category'] = data.apply(floor_categorizer, axis= 1)"
   ]
  },
  {
   "cell_type": "markdown",
   "metadata": {},
   "source": [
    "#### 3.4. Cоотношение жилой и общей площади, а также отношение площади кухни к общей"
   ]
  },
  {
   "cell_type": "code",
   "execution_count": 44,
   "metadata": {},
   "outputs": [],
   "source": [
    "data['living_to_total'] = data['living_area'] / data['total_area']\n",
    "data['kitchen_to_total'] = data['kitchen_area'] / data['total_area']"
   ]
  },
  {
   "cell_type": "code",
   "execution_count": 45,
   "metadata": {},
   "outputs": [
    {
     "data": {
      "text/html": [
       "<div>\n",
       "<style scoped>\n",
       "    .dataframe tbody tr th:only-of-type {\n",
       "        vertical-align: middle;\n",
       "    }\n",
       "\n",
       "    .dataframe tbody tr th {\n",
       "        vertical-align: top;\n",
       "    }\n",
       "\n",
       "    .dataframe thead th {\n",
       "        text-align: right;\n",
       "    }\n",
       "</style>\n",
       "<table border=\"1\" class=\"dataframe\">\n",
       "  <thead>\n",
       "    <tr style=\"text-align: right;\">\n",
       "      <th></th>\n",
       "      <th>total_images</th>\n",
       "      <th>last_price</th>\n",
       "      <th>total_area</th>\n",
       "      <th>first_day_exposition</th>\n",
       "      <th>rooms</th>\n",
       "      <th>ceiling_height</th>\n",
       "      <th>floors_total</th>\n",
       "      <th>living_area</th>\n",
       "      <th>floor</th>\n",
       "      <th>is_apartment</th>\n",
       "      <th>studio</th>\n",
       "      <th>open_plan</th>\n",
       "      <th>kitchen_area</th>\n",
       "      <th>balcony</th>\n",
       "      <th>locality_name</th>\n",
       "      <th>airports_nearest</th>\n",
       "      <th>cityCenters_nearest</th>\n",
       "      <th>parks_around3000</th>\n",
       "      <th>parks_nearest</th>\n",
       "      <th>ponds_around3000</th>\n",
       "      <th>ponds_nearest</th>\n",
       "      <th>days_exposition</th>\n",
       "      <th>m2_price</th>\n",
       "      <th>exposition_weekday</th>\n",
       "      <th>exposition_month</th>\n",
       "      <th>exposition_year</th>\n",
       "      <th>floor_category</th>\n",
       "      <th>living_to_total</th>\n",
       "      <th>kitchen_to_total</th>\n",
       "    </tr>\n",
       "  </thead>\n",
       "  <tbody>\n",
       "    <tr>\n",
       "      <td>0</td>\n",
       "      <td>20</td>\n",
       "      <td>1.3000e+07</td>\n",
       "      <td>108.00</td>\n",
       "      <td>2019-03-07T00:00:00</td>\n",
       "      <td>3</td>\n",
       "      <td>2.70</td>\n",
       "      <td>16.0</td>\n",
       "      <td>51.0000</td>\n",
       "      <td>8</td>\n",
       "      <td>False</td>\n",
       "      <td>False</td>\n",
       "      <td>False</td>\n",
       "      <td>25.000</td>\n",
       "      <td>0.0</td>\n",
       "      <td>Санкт-Петербург</td>\n",
       "      <td>18863.0</td>\n",
       "      <td>16028.0</td>\n",
       "      <td>1.0</td>\n",
       "      <td>482.0</td>\n",
       "      <td>2.0</td>\n",
       "      <td>755.0</td>\n",
       "      <td>open</td>\n",
       "      <td>120370.3704</td>\n",
       "      <td>3</td>\n",
       "      <td>3</td>\n",
       "      <td>2019</td>\n",
       "      <td>another</td>\n",
       "      <td>0.4722</td>\n",
       "      <td>0.2315</td>\n",
       "    </tr>\n",
       "    <tr>\n",
       "      <td>1</td>\n",
       "      <td>7</td>\n",
       "      <td>3.3500e+06</td>\n",
       "      <td>40.40</td>\n",
       "      <td>2018-12-04T00:00:00</td>\n",
       "      <td>1</td>\n",
       "      <td>2.65</td>\n",
       "      <td>11.0</td>\n",
       "      <td>18.6000</td>\n",
       "      <td>1</td>\n",
       "      <td>False</td>\n",
       "      <td>False</td>\n",
       "      <td>False</td>\n",
       "      <td>11.000</td>\n",
       "      <td>2.0</td>\n",
       "      <td>посёлок Шушары</td>\n",
       "      <td>12817.0</td>\n",
       "      <td>18603.0</td>\n",
       "      <td>0.0</td>\n",
       "      <td>NaN</td>\n",
       "      <td>0.0</td>\n",
       "      <td>NaN</td>\n",
       "      <td>81</td>\n",
       "      <td>82920.7921</td>\n",
       "      <td>1</td>\n",
       "      <td>12</td>\n",
       "      <td>2018</td>\n",
       "      <td>first</td>\n",
       "      <td>0.4604</td>\n",
       "      <td>0.2723</td>\n",
       "    </tr>\n",
       "    <tr>\n",
       "      <td>2</td>\n",
       "      <td>10</td>\n",
       "      <td>5.1960e+06</td>\n",
       "      <td>56.00</td>\n",
       "      <td>2015-08-20T00:00:00</td>\n",
       "      <td>2</td>\n",
       "      <td>2.65</td>\n",
       "      <td>5.0</td>\n",
       "      <td>34.3000</td>\n",
       "      <td>4</td>\n",
       "      <td>False</td>\n",
       "      <td>False</td>\n",
       "      <td>False</td>\n",
       "      <td>8.300</td>\n",
       "      <td>0.0</td>\n",
       "      <td>Санкт-Петербург</td>\n",
       "      <td>21741.0</td>\n",
       "      <td>13933.0</td>\n",
       "      <td>1.0</td>\n",
       "      <td>90.0</td>\n",
       "      <td>2.0</td>\n",
       "      <td>574.0</td>\n",
       "      <td>558</td>\n",
       "      <td>92785.7143</td>\n",
       "      <td>3</td>\n",
       "      <td>8</td>\n",
       "      <td>2015</td>\n",
       "      <td>another</td>\n",
       "      <td>0.6125</td>\n",
       "      <td>0.1482</td>\n",
       "    </tr>\n",
       "    <tr>\n",
       "      <td>3</td>\n",
       "      <td>0</td>\n",
       "      <td>6.4900e+07</td>\n",
       "      <td>159.00</td>\n",
       "      <td>2015-07-24T00:00:00</td>\n",
       "      <td>3</td>\n",
       "      <td>2.65</td>\n",
       "      <td>14.0</td>\n",
       "      <td>84.7060</td>\n",
       "      <td>9</td>\n",
       "      <td>False</td>\n",
       "      <td>False</td>\n",
       "      <td>False</td>\n",
       "      <td>74.294</td>\n",
       "      <td>0.0</td>\n",
       "      <td>Санкт-Петербург</td>\n",
       "      <td>28098.0</td>\n",
       "      <td>6800.0</td>\n",
       "      <td>2.0</td>\n",
       "      <td>84.0</td>\n",
       "      <td>3.0</td>\n",
       "      <td>234.0</td>\n",
       "      <td>424</td>\n",
       "      <td>408176.1006</td>\n",
       "      <td>4</td>\n",
       "      <td>7</td>\n",
       "      <td>2015</td>\n",
       "      <td>another</td>\n",
       "      <td>0.5327</td>\n",
       "      <td>0.4673</td>\n",
       "    </tr>\n",
       "    <tr>\n",
       "      <td>4</td>\n",
       "      <td>2</td>\n",
       "      <td>1.0000e+07</td>\n",
       "      <td>100.00</td>\n",
       "      <td>2018-06-19T00:00:00</td>\n",
       "      <td>2</td>\n",
       "      <td>3.03</td>\n",
       "      <td>14.0</td>\n",
       "      <td>32.0000</td>\n",
       "      <td>13</td>\n",
       "      <td>False</td>\n",
       "      <td>False</td>\n",
       "      <td>False</td>\n",
       "      <td>41.000</td>\n",
       "      <td>0.0</td>\n",
       "      <td>Санкт-Петербург</td>\n",
       "      <td>31856.0</td>\n",
       "      <td>8098.0</td>\n",
       "      <td>2.0</td>\n",
       "      <td>112.0</td>\n",
       "      <td>1.0</td>\n",
       "      <td>48.0</td>\n",
       "      <td>121</td>\n",
       "      <td>100000.0000</td>\n",
       "      <td>1</td>\n",
       "      <td>6</td>\n",
       "      <td>2018</td>\n",
       "      <td>another</td>\n",
       "      <td>0.3200</td>\n",
       "      <td>0.4100</td>\n",
       "    </tr>\n",
       "    <tr>\n",
       "      <td>5</td>\n",
       "      <td>10</td>\n",
       "      <td>2.8900e+06</td>\n",
       "      <td>30.40</td>\n",
       "      <td>2018-09-10T00:00:00</td>\n",
       "      <td>1</td>\n",
       "      <td>2.65</td>\n",
       "      <td>12.0</td>\n",
       "      <td>14.4000</td>\n",
       "      <td>5</td>\n",
       "      <td>False</td>\n",
       "      <td>False</td>\n",
       "      <td>False</td>\n",
       "      <td>9.100</td>\n",
       "      <td>0.0</td>\n",
       "      <td>городской посёлок Янино-1</td>\n",
       "      <td>NaN</td>\n",
       "      <td>NaN</td>\n",
       "      <td>NaN</td>\n",
       "      <td>NaN</td>\n",
       "      <td>NaN</td>\n",
       "      <td>NaN</td>\n",
       "      <td>55</td>\n",
       "      <td>95065.7895</td>\n",
       "      <td>0</td>\n",
       "      <td>9</td>\n",
       "      <td>2018</td>\n",
       "      <td>another</td>\n",
       "      <td>0.4737</td>\n",
       "      <td>0.2993</td>\n",
       "    </tr>\n",
       "    <tr>\n",
       "      <td>6</td>\n",
       "      <td>6</td>\n",
       "      <td>3.7000e+06</td>\n",
       "      <td>37.30</td>\n",
       "      <td>2017-11-02T00:00:00</td>\n",
       "      <td>1</td>\n",
       "      <td>2.65</td>\n",
       "      <td>26.0</td>\n",
       "      <td>10.6000</td>\n",
       "      <td>6</td>\n",
       "      <td>False</td>\n",
       "      <td>False</td>\n",
       "      <td>False</td>\n",
       "      <td>14.400</td>\n",
       "      <td>1.0</td>\n",
       "      <td>посёлок Парголово</td>\n",
       "      <td>52996.0</td>\n",
       "      <td>19143.0</td>\n",
       "      <td>0.0</td>\n",
       "      <td>NaN</td>\n",
       "      <td>0.0</td>\n",
       "      <td>NaN</td>\n",
       "      <td>155</td>\n",
       "      <td>99195.7105</td>\n",
       "      <td>3</td>\n",
       "      <td>11</td>\n",
       "      <td>2017</td>\n",
       "      <td>another</td>\n",
       "      <td>0.2842</td>\n",
       "      <td>0.3861</td>\n",
       "    </tr>\n",
       "    <tr>\n",
       "      <td>7</td>\n",
       "      <td>5</td>\n",
       "      <td>7.9150e+06</td>\n",
       "      <td>71.60</td>\n",
       "      <td>2019-04-18T00:00:00</td>\n",
       "      <td>2</td>\n",
       "      <td>2.65</td>\n",
       "      <td>24.0</td>\n",
       "      <td>39.2326</td>\n",
       "      <td>22</td>\n",
       "      <td>False</td>\n",
       "      <td>False</td>\n",
       "      <td>False</td>\n",
       "      <td>18.900</td>\n",
       "      <td>2.0</td>\n",
       "      <td>Санкт-Петербург</td>\n",
       "      <td>23982.0</td>\n",
       "      <td>11634.0</td>\n",
       "      <td>0.0</td>\n",
       "      <td>NaN</td>\n",
       "      <td>0.0</td>\n",
       "      <td>NaN</td>\n",
       "      <td>open</td>\n",
       "      <td>110544.6927</td>\n",
       "      <td>3</td>\n",
       "      <td>4</td>\n",
       "      <td>2019</td>\n",
       "      <td>another</td>\n",
       "      <td>0.5479</td>\n",
       "      <td>0.2640</td>\n",
       "    </tr>\n",
       "    <tr>\n",
       "      <td>8</td>\n",
       "      <td>20</td>\n",
       "      <td>2.9000e+06</td>\n",
       "      <td>33.16</td>\n",
       "      <td>2018-05-23T00:00:00</td>\n",
       "      <td>1</td>\n",
       "      <td>2.65</td>\n",
       "      <td>27.0</td>\n",
       "      <td>15.4300</td>\n",
       "      <td>26</td>\n",
       "      <td>False</td>\n",
       "      <td>False</td>\n",
       "      <td>False</td>\n",
       "      <td>8.810</td>\n",
       "      <td>0.0</td>\n",
       "      <td>посёлок Мурино</td>\n",
       "      <td>NaN</td>\n",
       "      <td>NaN</td>\n",
       "      <td>NaN</td>\n",
       "      <td>NaN</td>\n",
       "      <td>NaN</td>\n",
       "      <td>NaN</td>\n",
       "      <td>189</td>\n",
       "      <td>87454.7648</td>\n",
       "      <td>2</td>\n",
       "      <td>5</td>\n",
       "      <td>2018</td>\n",
       "      <td>another</td>\n",
       "      <td>0.4653</td>\n",
       "      <td>0.2657</td>\n",
       "    </tr>\n",
       "    <tr>\n",
       "      <td>9</td>\n",
       "      <td>18</td>\n",
       "      <td>5.4000e+06</td>\n",
       "      <td>61.00</td>\n",
       "      <td>2017-02-26T00:00:00</td>\n",
       "      <td>3</td>\n",
       "      <td>2.50</td>\n",
       "      <td>9.0</td>\n",
       "      <td>43.6000</td>\n",
       "      <td>7</td>\n",
       "      <td>False</td>\n",
       "      <td>False</td>\n",
       "      <td>False</td>\n",
       "      <td>6.500</td>\n",
       "      <td>2.0</td>\n",
       "      <td>Санкт-Петербург</td>\n",
       "      <td>50898.0</td>\n",
       "      <td>15008.0</td>\n",
       "      <td>0.0</td>\n",
       "      <td>NaN</td>\n",
       "      <td>0.0</td>\n",
       "      <td>NaN</td>\n",
       "      <td>289</td>\n",
       "      <td>88524.5902</td>\n",
       "      <td>6</td>\n",
       "      <td>2</td>\n",
       "      <td>2017</td>\n",
       "      <td>another</td>\n",
       "      <td>0.7148</td>\n",
       "      <td>0.1066</td>\n",
       "    </tr>\n",
       "  </tbody>\n",
       "</table>\n",
       "</div>"
      ],
      "text/plain": [
       "   total_images  last_price  total_area first_day_exposition  rooms  \\\n",
       "0            20  1.3000e+07      108.00  2019-03-07T00:00:00      3   \n",
       "1             7  3.3500e+06       40.40  2018-12-04T00:00:00      1   \n",
       "2            10  5.1960e+06       56.00  2015-08-20T00:00:00      2   \n",
       "3             0  6.4900e+07      159.00  2015-07-24T00:00:00      3   \n",
       "4             2  1.0000e+07      100.00  2018-06-19T00:00:00      2   \n",
       "5            10  2.8900e+06       30.40  2018-09-10T00:00:00      1   \n",
       "6             6  3.7000e+06       37.30  2017-11-02T00:00:00      1   \n",
       "7             5  7.9150e+06       71.60  2019-04-18T00:00:00      2   \n",
       "8            20  2.9000e+06       33.16  2018-05-23T00:00:00      1   \n",
       "9            18  5.4000e+06       61.00  2017-02-26T00:00:00      3   \n",
       "\n",
       "   ceiling_height  floors_total  living_area  floor  is_apartment  studio  \\\n",
       "0            2.70          16.0      51.0000      8         False   False   \n",
       "1            2.65          11.0      18.6000      1         False   False   \n",
       "2            2.65           5.0      34.3000      4         False   False   \n",
       "3            2.65          14.0      84.7060      9         False   False   \n",
       "4            3.03          14.0      32.0000     13         False   False   \n",
       "5            2.65          12.0      14.4000      5         False   False   \n",
       "6            2.65          26.0      10.6000      6         False   False   \n",
       "7            2.65          24.0      39.2326     22         False   False   \n",
       "8            2.65          27.0      15.4300     26         False   False   \n",
       "9            2.50           9.0      43.6000      7         False   False   \n",
       "\n",
       "   open_plan  kitchen_area  balcony              locality_name  \\\n",
       "0      False        25.000      0.0            Санкт-Петербург   \n",
       "1      False        11.000      2.0             посёлок Шушары   \n",
       "2      False         8.300      0.0            Санкт-Петербург   \n",
       "3      False        74.294      0.0            Санкт-Петербург   \n",
       "4      False        41.000      0.0            Санкт-Петербург   \n",
       "5      False         9.100      0.0  городской посёлок Янино-1   \n",
       "6      False        14.400      1.0          посёлок Парголово   \n",
       "7      False        18.900      2.0            Санкт-Петербург   \n",
       "8      False         8.810      0.0             посёлок Мурино   \n",
       "9      False         6.500      2.0            Санкт-Петербург   \n",
       "\n",
       "   airports_nearest  cityCenters_nearest  parks_around3000  parks_nearest  \\\n",
       "0           18863.0              16028.0               1.0          482.0   \n",
       "1           12817.0              18603.0               0.0            NaN   \n",
       "2           21741.0              13933.0               1.0           90.0   \n",
       "3           28098.0               6800.0               2.0           84.0   \n",
       "4           31856.0               8098.0               2.0          112.0   \n",
       "5               NaN                  NaN               NaN            NaN   \n",
       "6           52996.0              19143.0               0.0            NaN   \n",
       "7           23982.0              11634.0               0.0            NaN   \n",
       "8               NaN                  NaN               NaN            NaN   \n",
       "9           50898.0              15008.0               0.0            NaN   \n",
       "\n",
       "   ponds_around3000  ponds_nearest days_exposition     m2_price  \\\n",
       "0               2.0          755.0            open  120370.3704   \n",
       "1               0.0            NaN              81   82920.7921   \n",
       "2               2.0          574.0             558   92785.7143   \n",
       "3               3.0          234.0             424  408176.1006   \n",
       "4               1.0           48.0             121  100000.0000   \n",
       "5               NaN            NaN              55   95065.7895   \n",
       "6               0.0            NaN             155   99195.7105   \n",
       "7               0.0            NaN            open  110544.6927   \n",
       "8               NaN            NaN             189   87454.7648   \n",
       "9               0.0            NaN             289   88524.5902   \n",
       "\n",
       "   exposition_weekday  exposition_month  exposition_year floor_category  \\\n",
       "0                   3                 3             2019        another   \n",
       "1                   1                12             2018          first   \n",
       "2                   3                 8             2015        another   \n",
       "3                   4                 7             2015        another   \n",
       "4                   1                 6             2018        another   \n",
       "5                   0                 9             2018        another   \n",
       "6                   3                11             2017        another   \n",
       "7                   3                 4             2019        another   \n",
       "8                   2                 5             2018        another   \n",
       "9                   6                 2             2017        another   \n",
       "\n",
       "   living_to_total  kitchen_to_total  \n",
       "0           0.4722            0.2315  \n",
       "1           0.4604            0.2723  \n",
       "2           0.6125            0.1482  \n",
       "3           0.5327            0.4673  \n",
       "4           0.3200            0.4100  \n",
       "5           0.4737            0.2993  \n",
       "6           0.2842            0.3861  \n",
       "7           0.5479            0.2640  \n",
       "8           0.4653            0.2657  \n",
       "9           0.7148            0.1066  "
      ]
     },
     "execution_count": 45,
     "metadata": {},
     "output_type": "execute_result"
    }
   ],
   "source": [
    "#отобразим результаты\n",
    "data.head(10)"
   ]
  },
  {
   "cell_type": "markdown",
   "metadata": {},
   "source": [
    "### Вывод"
   ]
  },
  {
   "cell_type": "markdown",
   "metadata": {},
   "source": [
    "Мы посчитали и добавили в таблицу:\n",
    "\n",
    "- цену квадратного метра;\n",
    "- день недели, месяц и год публикации объявления;\n",
    "- этаж квартиры; варианты — первый, последний, другой;\n",
    "- соотношение жилой и общей площади, а также отношение площади кухни к общей.\n",
    "\n",
    "Перейдем к анализу данных."
   ]
  },
  {
   "cell_type": "markdown",
   "metadata": {},
   "source": [
    "### Шаг 4. Проведите исследовательский анализ данных и выполните инструкции:<a id='step4'></a>"
   ]
  },
  {
   "cell_type": "markdown",
   "metadata": {},
   "source": [
    "#### 4.1. Изучите следующие параметры: площадь, цена, число комнат, высота потолков. Постройте гистограммы для каждого параметра."
   ]
  },
  {
   "cell_type": "markdown",
   "metadata": {},
   "source": [
    "##### Общая площадь"
   ]
  },
  {
   "cell_type": "code",
   "execution_count": 46,
   "metadata": {},
   "outputs": [
    {
     "data": {
      "text/plain": [
       "<matplotlib.axes._subplots.AxesSubplot at 0x7f14280313d0>"
      ]
     },
     "execution_count": 46,
     "metadata": {},
     "output_type": "execute_result"
    },
    {
     "data": {
      "image/png": "[encoded data removed]",
      "text/plain": [
       "<Figure size 648x432 with 1 Axes>"
      ]
     },
     "metadata": {
      "needs_background": "light"
     },
     "output_type": "display_data"
    }
   ],
   "source": [
    "data.plot(y = 'total_area', \n",
    "          kind= 'hist',\n",
    "          bins=300,\n",
    "          xlim= (0,400),\n",
    "          grid= True,\n",
    "          figsize= (9,6))"
   ]
  },
  {
   "cell_type": "markdown",
   "metadata": {},
   "source": [
    "На гистограмме видно 3 пика. Первый, около 28 м2, скорее всего это самые маленькие \"однушки\". Второй пик – примерно 48 м2, скорее всего это уже средние двухкомнатные квартиры. И третий пик около 60 м2 - трехкомнатные. "
   ]
  },
  {
   "cell_type": "markdown",
   "metadata": {},
   "source": [
    "##### Цена квартиры"
   ]
  },
  {
   "cell_type": "code",
   "execution_count": 47,
   "metadata": {},
   "outputs": [],
   "source": [
    "#для удобства переведем рубли в тысячи рублей \n",
    "data['last_price'] = data['last_price'] / 1000"
   ]
  },
  {
   "cell_type": "code",
   "execution_count": 48,
   "metadata": {},
   "outputs": [
    {
     "data": {
      "text/plain": [
       "<matplotlib.axes._subplots.AxesSubplot at 0x7f1427ef0ed0>"
      ]
     },
     "execution_count": 48,
     "metadata": {},
     "output_type": "execute_result"
    },
    {
     "data": {
      "image/png": "[encoded data removed]",
      "text/plain": [
       "<Figure size 648x432 with 1 Axes>"
      ]
     },
     "metadata": {
      "needs_background": "light"
     },
     "output_type": "display_data"
    }
   ],
   "source": [
    "data.plot(y= 'last_price', \n",
    "          kind= 'hist',\n",
    "          bins= 2000,\n",
    "          xlim= (0, 20000),\n",
    "          grid= True,\n",
    "          figsize= (9, 6))"
   ]
  },
  {
   "cell_type": "markdown",
   "metadata": {},
   "source": [
    "Пик значений около 3.2 млн. рублей. Можно сказать что распределение стремится к нормальному, с длинным хвостом справа. "
   ]
  },
  {
   "cell_type": "markdown",
   "metadata": {},
   "source": [
    "##### Количество комнат"
   ]
  },
  {
   "cell_type": "code",
   "execution_count": 49,
   "metadata": {},
   "outputs": [
    {
     "data": {
      "text/plain": [
       "<matplotlib.axes._subplots.AxesSubplot at 0x7f1427c10a10>"
      ]
     },
     "execution_count": 49,
     "metadata": {},
     "output_type": "execute_result"
    },
    {
     "data": {
      "image/png": "[encoded data removed]",
      "text/plain": [
       "<Figure size 648x432 with 1 Axes>"
      ]
     },
     "metadata": {
      "needs_background": "light"
     },
     "output_type": "display_data"
    }
   ],
   "source": [
    "data.plot(y= 'rooms', \n",
    "          kind= 'hist',\n",
    "          bins= 20,\n",
    "          xlim= (0, 10),\n",
    "          grid= True,\n",
    "          figsize= (9, 6))"
   ]
  },
  {
   "cell_type": "markdown",
   "metadata": {},
   "source": [
    "На гистограмме видно, что самое большое количество квартир 1- и 2-х комнатные. Также видим что в данных есть несколько аномальных нулевых значений."
   ]
  },
  {
   "cell_type": "markdown",
   "metadata": {},
   "source": [
    "##### Высота потолков"
   ]
  },
  {
   "cell_type": "code",
   "execution_count": 50,
   "metadata": {},
   "outputs": [
    {
     "data": {
      "text/plain": [
       "<matplotlib.axes._subplots.AxesSubplot at 0x7f1426356990>"
      ]
     },
     "execution_count": 50,
     "metadata": {},
     "output_type": "execute_result"
    },
    {
     "data": {
      "image/png": "[encoded data removed]",
      "text/plain": [
       "<Figure size 648x432 with 1 Axes>"
      ]
     },
     "metadata": {
      "needs_background": "light"
     },
     "output_type": "display_data"
    }
   ],
   "source": [
    "data.plot(y= 'ceiling_height', \n",
    "          kind= 'hist',\n",
    "          bins= 1000,\n",
    "          xlim= (2, 5),\n",
    "          grid= True,\n",
    "          figsize= (9, 6))"
   ]
  },
  {
   "cell_type": "markdown",
   "metadata": {},
   "source": [
    "Видим пик на медианном значении (2.6 м), при этом помним о том, что пропущенные значения мы заполняли именно им (их было 38% от общего числа).\n",
    "Сейчас стало видно, что график изменился довольно сильно по сравению с [изначальным](#ceiling0). Пока неизвестно как это повлияет на дальнейший анализ, будем с этой величиной особенно внимательны. "
   ]
  },
  {
   "cell_type": "markdown",
   "metadata": {},
   "source": [
    "#### 4.2. Изучите время продажи квартиры. Постройте гистограмму. Посчитайте среднее и медиану. Опишите, сколько обычно занимает продажа. Когда можно считать, что продажи прошли очень быстро, а когда необычно долго?"
   ]
  },
  {
   "cell_type": "code",
   "execution_count": 51,
   "metadata": {},
   "outputs": [],
   "source": [
    "#отфильтруем данные по закрытым сделкам\n",
    "closed_deals = data.query('days_exposition != \"open\"')"
   ]
  },
  {
   "cell_type": "code",
   "execution_count": 52,
   "metadata": {},
   "outputs": [
    {
     "name": "stderr",
     "output_type": "stream",
     "text": [
      "/opt/conda/lib/python3.7/site-packages/ipykernel_launcher.py:1: SettingWithCopyWarning: \n",
      "A value is trying to be set on a copy of a slice from a DataFrame.\n",
      "Try using .loc[row_indexer,col_indexer] = value instead\n",
      "\n",
      "See the caveats in the documentation: http://pandas.pydata.org/pandas-docs/stable/user_guide/indexing.html#returning-a-view-versus-a-copy\n",
      "  \"\"\"Entry point for launching an IPython kernel.\n"
     ]
    },
    {
     "data": {
      "text/plain": [
       "count    20518.0000\n",
       "mean       180.8886\n",
       "std        219.7280\n",
       "min          1.0000\n",
       "25%         45.0000\n",
       "50%         95.0000\n",
       "75%        232.0000\n",
       "max       1580.0000\n",
       "Name: days_exposition, dtype: float64"
      ]
     },
     "execution_count": 52,
     "metadata": {},
     "output_type": "execute_result"
    }
   ],
   "source": [
    "closed_deals['days_exposition'] = closed_deals['days_exposition'].astype('int')\n",
    "closed_deals['days_exposition'].describe()"
   ]
  },
  {
   "cell_type": "code",
   "execution_count": 53,
   "metadata": {},
   "outputs": [
    {
     "data": {
      "text/plain": [
       "<matplotlib.axes._subplots.AxesSubplot at 0x7f14257dcb50>"
      ]
     },
     "execution_count": 53,
     "metadata": {},
     "output_type": "execute_result"
    },
    {
     "data": {
      "image/png": "[encoded data removed]",
      "text/plain": [
       "<Figure size 648x432 with 1 Axes>"
      ]
     },
     "metadata": {
      "needs_background": "light"
     },
     "output_type": "display_data"
    }
   ],
   "source": [
    "closed_deals.plot(y= 'days_exposition', \n",
    "          kind= 'hist',\n",
    "          bins= 100,\n",
    "          xlim= (0, 1580),\n",
    "          grid= True,\n",
    "          figsize= (9, 6))"
   ]
  },
  {
   "cell_type": "markdown",
   "metadata": {},
   "source": [
    "Видим пик около 0, приблизим разрешение"
   ]
  },
  {
   "cell_type": "code",
   "execution_count": 54,
   "metadata": {},
   "outputs": [
    {
     "data": {
      "text/plain": [
       "<matplotlib.axes._subplots.AxesSubplot at 0x7f1425673290>"
      ]
     },
     "execution_count": 54,
     "metadata": {},
     "output_type": "execute_result"
    },
    {
     "data": {
      "image/png": "[encoded data removed]",
      "text/plain": [
       "<Figure size 648x432 with 1 Axes>"
      ]
     },
     "metadata": {
      "needs_background": "light"
     },
     "output_type": "display_data"
    }
   ],
   "source": [
    "closed_deals.plot(y= 'days_exposition', \n",
    "          kind= 'hist',\n",
    "          bins= 1000,\n",
    "          xlim= (0, 100),\n",
    "          grid= True,\n",
    "          figsize= (9, 6))"
   ]
  },
  {
   "cell_type": "markdown",
   "metadata": {},
   "source": [
    "При приближении становится видно что пика как такового нет, аномальных значений около нуля нет. Распределение близко к Пуассоновскому. Можно наблюдать интересный пик на значении 45 и 60 дней. Возможно на этом сроке сервис автоматически закрывает определенный тип объявлений (например, неинтересные или плохо заполненные). "
   ]
  },
  {
   "cell_type": "code",
   "execution_count": 55,
   "metadata": {},
   "outputs": [
    {
     "data": {
      "image/png": "[encoded data removed]",
      "text/plain": [
       "<Figure size 432x288 with 1 Axes>"
      ]
     },
     "metadata": {
      "needs_background": "light"
     },
     "output_type": "display_data"
    }
   ],
   "source": [
    "closed_deals.boxplot(column=['days_exposition'])\n",
    "plt.ylim(0, 800)\n",
    "plt.show()"
   ]
  },
  {
   "cell_type": "markdown",
   "metadata": {},
   "source": [
    "Медианное значение 95 дней – половина объявлений закрывается за этот срок. \n",
    "Можно считать, что продажи прошли быстро, если квартира продана за 45 дней. Необычно долгие продажи начинаются от 232 и могут продолжаться аж до 1580 дней."
   ]
  },
  {
   "cell_type": "markdown",
   "metadata": {},
   "source": [
    "#### 4.3. Уберите редкие и выбивающиеся значения. Опишите, какие особенности обнаружили."
   ]
  },
  {
   "cell_type": "code",
   "execution_count": 56,
   "metadata": {},
   "outputs": [
    {
     "data": {
      "text/html": [
       "<div>\n",
       "<style scoped>\n",
       "    .dataframe tbody tr th:only-of-type {\n",
       "        vertical-align: middle;\n",
       "    }\n",
       "\n",
       "    .dataframe tbody tr th {\n",
       "        vertical-align: top;\n",
       "    }\n",
       "\n",
       "    .dataframe thead th {\n",
       "        text-align: right;\n",
       "    }\n",
       "</style>\n",
       "<table border=\"1\" class=\"dataframe\">\n",
       "  <thead>\n",
       "    <tr style=\"text-align: right;\">\n",
       "      <th></th>\n",
       "      <th>total_images</th>\n",
       "      <th>last_price</th>\n",
       "      <th>total_area</th>\n",
       "      <th>rooms</th>\n",
       "      <th>ceiling_height</th>\n",
       "      <th>floors_total</th>\n",
       "      <th>living_area</th>\n",
       "      <th>floor</th>\n",
       "      <th>kitchen_area</th>\n",
       "      <th>balcony</th>\n",
       "      <th>airports_nearest</th>\n",
       "      <th>cityCenters_nearest</th>\n",
       "      <th>parks_around3000</th>\n",
       "      <th>parks_nearest</th>\n",
       "      <th>ponds_around3000</th>\n",
       "      <th>ponds_nearest</th>\n",
       "      <th>m2_price</th>\n",
       "      <th>exposition_weekday</th>\n",
       "      <th>exposition_month</th>\n",
       "      <th>exposition_year</th>\n",
       "      <th>living_to_total</th>\n",
       "      <th>kitchen_to_total</th>\n",
       "    </tr>\n",
       "  </thead>\n",
       "  <tbody>\n",
       "    <tr>\n",
       "      <td>count</td>\n",
       "      <td>23699.0000</td>\n",
       "      <td>23699.0000</td>\n",
       "      <td>23699.0000</td>\n",
       "      <td>23699.0000</td>\n",
       "      <td>23699.0000</td>\n",
       "      <td>23699.0000</td>\n",
       "      <td>23699.0000</td>\n",
       "      <td>23699.0000</td>\n",
       "      <td>23699.0000</td>\n",
       "      <td>23699.0000</td>\n",
       "      <td>18157.0000</td>\n",
       "      <td>18180.0000</td>\n",
       "      <td>18181.0000</td>\n",
       "      <td>8079.0000</td>\n",
       "      <td>18181.0000</td>\n",
       "      <td>9110.0000</td>\n",
       "      <td>2.3699e+04</td>\n",
       "      <td>23699.0000</td>\n",
       "      <td>23699.0000</td>\n",
       "      <td>23699.0000</td>\n",
       "      <td>23699.0000</td>\n",
       "      <td>23699.0000</td>\n",
       "    </tr>\n",
       "    <tr>\n",
       "      <td>mean</td>\n",
       "      <td>9.8585</td>\n",
       "      <td>6541.5488</td>\n",
       "      <td>60.3487</td>\n",
       "      <td>2.0706</td>\n",
       "      <td>2.7244</td>\n",
       "      <td>10.6766</td>\n",
       "      <td>34.5685</td>\n",
       "      <td>5.8924</td>\n",
       "      <td>11.8233</td>\n",
       "      <td>0.5911</td>\n",
       "      <td>28793.6722</td>\n",
       "      <td>14191.2778</td>\n",
       "      <td>0.6114</td>\n",
       "      <td>490.8046</td>\n",
       "      <td>0.7703</td>\n",
       "      <td>517.9809</td>\n",
       "      <td>9.9422e+04</td>\n",
       "      <td>2.5693</td>\n",
       "      <td>6.4001</td>\n",
       "      <td>2017.3671</td>\n",
       "      <td>0.5641</td>\n",
       "      <td>0.2097</td>\n",
       "    </tr>\n",
       "    <tr>\n",
       "      <td>std</td>\n",
       "      <td>5.6825</td>\n",
       "      <td>10887.0133</td>\n",
       "      <td>35.6541</td>\n",
       "      <td>1.0784</td>\n",
       "      <td>0.9883</td>\n",
       "      <td>6.5950</td>\n",
       "      <td>22.2845</td>\n",
       "      <td>4.8852</td>\n",
       "      <td>8.9610</td>\n",
       "      <td>0.9593</td>\n",
       "      <td>12630.8806</td>\n",
       "      <td>8608.3862</td>\n",
       "      <td>0.8021</td>\n",
       "      <td>342.3180</td>\n",
       "      <td>0.9383</td>\n",
       "      <td>277.7206</td>\n",
       "      <td>5.0307e+04</td>\n",
       "      <td>1.7891</td>\n",
       "      <td>3.4916</td>\n",
       "      <td>1.0398</td>\n",
       "      <td>0.1034</td>\n",
       "      <td>0.1029</td>\n",
       "    </tr>\n",
       "    <tr>\n",
       "      <td>min</td>\n",
       "      <td>0.0000</td>\n",
       "      <td>12.1900</td>\n",
       "      <td>12.0000</td>\n",
       "      <td>0.0000</td>\n",
       "      <td>1.0000</td>\n",
       "      <td>1.0000</td>\n",
       "      <td>2.0000</td>\n",
       "      <td>1.0000</td>\n",
       "      <td>0.0000</td>\n",
       "      <td>0.0000</td>\n",
       "      <td>0.0000</td>\n",
       "      <td>181.0000</td>\n",
       "      <td>0.0000</td>\n",
       "      <td>1.0000</td>\n",
       "      <td>0.0000</td>\n",
       "      <td>13.0000</td>\n",
       "      <td>1.1183e+02</td>\n",
       "      <td>0.0000</td>\n",
       "      <td>1.0000</td>\n",
       "      <td>2014.0000</td>\n",
       "      <td>0.0216</td>\n",
       "      <td>0.0000</td>\n",
       "    </tr>\n",
       "    <tr>\n",
       "      <td>25%</td>\n",
       "      <td>6.0000</td>\n",
       "      <td>3400.0000</td>\n",
       "      <td>40.0000</td>\n",
       "      <td>1.0000</td>\n",
       "      <td>2.6000</td>\n",
       "      <td>5.0000</td>\n",
       "      <td>18.7000</td>\n",
       "      <td>2.0000</td>\n",
       "      <td>7.2000</td>\n",
       "      <td>0.0000</td>\n",
       "      <td>18585.0000</td>\n",
       "      <td>9238.0000</td>\n",
       "      <td>0.0000</td>\n",
       "      <td>288.0000</td>\n",
       "      <td>0.0000</td>\n",
       "      <td>294.0000</td>\n",
       "      <td>7.6585e+04</td>\n",
       "      <td>1.0000</td>\n",
       "      <td>3.0000</td>\n",
       "      <td>2017.0000</td>\n",
       "      <td>0.4913</td>\n",
       "      <td>0.1366</td>\n",
       "    </tr>\n",
       "    <tr>\n",
       "      <td>50%</td>\n",
       "      <td>9.0000</td>\n",
       "      <td>4650.0000</td>\n",
       "      <td>52.0000</td>\n",
       "      <td>2.0000</td>\n",
       "      <td>2.6500</td>\n",
       "      <td>9.0000</td>\n",
       "      <td>30.0000</td>\n",
       "      <td>4.0000</td>\n",
       "      <td>9.8000</td>\n",
       "      <td>0.0000</td>\n",
       "      <td>26726.0000</td>\n",
       "      <td>13098.5000</td>\n",
       "      <td>0.0000</td>\n",
       "      <td>455.0000</td>\n",
       "      <td>1.0000</td>\n",
       "      <td>502.0000</td>\n",
       "      <td>9.5000e+04</td>\n",
       "      <td>3.0000</td>\n",
       "      <td>6.0000</td>\n",
       "      <td>2017.0000</td>\n",
       "      <td>0.5678</td>\n",
       "      <td>0.1818</td>\n",
       "    </tr>\n",
       "    <tr>\n",
       "      <td>75%</td>\n",
       "      <td>14.0000</td>\n",
       "      <td>6800.0000</td>\n",
       "      <td>69.9000</td>\n",
       "      <td>3.0000</td>\n",
       "      <td>2.7000</td>\n",
       "      <td>16.0000</td>\n",
       "      <td>42.3458</td>\n",
       "      <td>8.0000</td>\n",
       "      <td>13.0000</td>\n",
       "      <td>1.0000</td>\n",
       "      <td>37273.0000</td>\n",
       "      <td>16293.0000</td>\n",
       "      <td>1.0000</td>\n",
       "      <td>612.0000</td>\n",
       "      <td>1.0000</td>\n",
       "      <td>729.0000</td>\n",
       "      <td>1.1426e+05</td>\n",
       "      <td>4.0000</td>\n",
       "      <td>10.0000</td>\n",
       "      <td>2018.0000</td>\n",
       "      <td>0.6350</td>\n",
       "      <td>0.2564</td>\n",
       "    </tr>\n",
       "    <tr>\n",
       "      <td>max</td>\n",
       "      <td>50.0000</td>\n",
       "      <td>763000.0000</td>\n",
       "      <td>900.0000</td>\n",
       "      <td>19.0000</td>\n",
       "      <td>100.0000</td>\n",
       "      <td>60.0000</td>\n",
       "      <td>409.7000</td>\n",
       "      <td>33.0000</td>\n",
       "      <td>270.3759</td>\n",
       "      <td>5.0000</td>\n",
       "      <td>84869.0000</td>\n",
       "      <td>65968.0000</td>\n",
       "      <td>3.0000</td>\n",
       "      <td>3190.0000</td>\n",
       "      <td>3.0000</td>\n",
       "      <td>1344.0000</td>\n",
       "      <td>1.9075e+06</td>\n",
       "      <td>6.0000</td>\n",
       "      <td>12.0000</td>\n",
       "      <td>2019.0000</td>\n",
       "      <td>1.0000</td>\n",
       "      <td>0.9130</td>\n",
       "    </tr>\n",
       "  </tbody>\n",
       "</table>\n",
       "</div>"
      ],
      "text/plain": [
       "       total_images   last_price  total_area       rooms  ceiling_height  \\\n",
       "count    23699.0000   23699.0000  23699.0000  23699.0000      23699.0000   \n",
       "mean         9.8585    6541.5488     60.3487      2.0706          2.7244   \n",
       "std          5.6825   10887.0133     35.6541      1.0784          0.9883   \n",
       "min          0.0000      12.1900     12.0000      0.0000          1.0000   \n",
       "25%          6.0000    3400.0000     40.0000      1.0000          2.6000   \n",
       "50%          9.0000    4650.0000     52.0000      2.0000          2.6500   \n",
       "75%         14.0000    6800.0000     69.9000      3.0000          2.7000   \n",
       "max         50.0000  763000.0000    900.0000     19.0000        100.0000   \n",
       "\n",
       "       floors_total  living_area       floor  kitchen_area     balcony  \\\n",
       "count    23699.0000   23699.0000  23699.0000    23699.0000  23699.0000   \n",
       "mean        10.6766      34.5685      5.8924       11.8233      0.5911   \n",
       "std          6.5950      22.2845      4.8852        8.9610      0.9593   \n",
       "min          1.0000       2.0000      1.0000        0.0000      0.0000   \n",
       "25%          5.0000      18.7000      2.0000        7.2000      0.0000   \n",
       "50%          9.0000      30.0000      4.0000        9.8000      0.0000   \n",
       "75%         16.0000      42.3458      8.0000       13.0000      1.0000   \n",
       "max         60.0000     409.7000     33.0000      270.3759      5.0000   \n",
       "\n",
       "       airports_nearest  cityCenters_nearest  parks_around3000  parks_nearest  \\\n",
       "count        18157.0000           18180.0000        18181.0000      8079.0000   \n",
       "mean         28793.6722           14191.2778            0.6114       490.8046   \n",
       "std          12630.8806            8608.3862            0.8021       342.3180   \n",
       "min              0.0000             181.0000            0.0000         1.0000   \n",
       "25%          18585.0000            9238.0000            0.0000       288.0000   \n",
       "50%          26726.0000           13098.5000            0.0000       455.0000   \n",
       "75%          37273.0000           16293.0000            1.0000       612.0000   \n",
       "max          84869.0000           65968.0000            3.0000      3190.0000   \n",
       "\n",
       "       ponds_around3000  ponds_nearest    m2_price  exposition_weekday  \\\n",
       "count        18181.0000      9110.0000  2.3699e+04          23699.0000   \n",
       "mean             0.7703       517.9809  9.9422e+04              2.5693   \n",
       "std              0.9383       277.7206  5.0307e+04              1.7891   \n",
       "min              0.0000        13.0000  1.1183e+02              0.0000   \n",
       "25%              0.0000       294.0000  7.6585e+04              1.0000   \n",
       "50%              1.0000       502.0000  9.5000e+04              3.0000   \n",
       "75%              1.0000       729.0000  1.1426e+05              4.0000   \n",
       "max              3.0000      1344.0000  1.9075e+06              6.0000   \n",
       "\n",
       "       exposition_month  exposition_year  living_to_total  kitchen_to_total  \n",
       "count        23699.0000       23699.0000       23699.0000        23699.0000  \n",
       "mean             6.4001        2017.3671           0.5641            0.2097  \n",
       "std              3.4916           1.0398           0.1034            0.1029  \n",
       "min              1.0000        2014.0000           0.0216            0.0000  \n",
       "25%              3.0000        2017.0000           0.4913            0.1366  \n",
       "50%              6.0000        2017.0000           0.5678            0.1818  \n",
       "75%             10.0000        2018.0000           0.6350            0.2564  \n",
       "max             12.0000        2019.0000           1.0000            0.9130  "
      ]
     },
     "execution_count": 56,
     "metadata": {},
     "output_type": "execute_result"
    }
   ],
   "source": [
    "data.describe()"
   ]
  },
  {
   "cell_type": "markdown",
   "metadata": {},
   "source": [
    "Обратим внимание на столбцы:\n",
    "`last_price, total_area, rooms, ceiling_height`. "
   ]
  },
  {
   "cell_type": "markdown",
   "metadata": {},
   "source": [
    "Помним о том, что цена у нас сейчас в тысячах рублей. \n",
    "Согласно данным, самая дешевая квартира была продана за 12 т.р, а самая дорогая – за 763 000 000 рублей."
   ]
  },
  {
   "cell_type": "code",
   "execution_count": 57,
   "metadata": {},
   "outputs": [
    {
     "data": {
      "text/plain": [
       "<matplotlib.axes._subplots.AxesSubplot at 0x7f1424a16cd0>"
      ]
     },
     "execution_count": 57,
     "metadata": {},
     "output_type": "execute_result"
    },
    {
     "data": {
      "image/png": "[encoded data removed]",
      "text/plain": [
       "<Figure size 432x288 with 1 Axes>"
      ]
     },
     "metadata": {
      "needs_background": "light"
     },
     "output_type": "display_data"
    }
   ],
   "source": [
    "data['last_price'].hist(bins=1000)"
   ]
  },
  {
   "cell_type": "markdown",
   "metadata": {},
   "source": [
    "Скорее всего, очень дорогие сделки являются не продажами квартир, а сделками с большими загородными домами, поэтому примем верхнюю границу в 50 млн. рублей - больше этого значения квартиры стоят редко.\n",
    "\n",
    "Теперь рассмотрим нижнюю границу – 12 т.р. явно слишком мало за целую квартиру."
   ]
  },
  {
   "cell_type": "code",
   "execution_count": 58,
   "metadata": {},
   "outputs": [
    {
     "data": {
      "text/plain": [
       "<matplotlib.axes._subplots.AxesSubplot at 0x7f1423ec7810>"
      ]
     },
     "execution_count": 58,
     "metadata": {},
     "output_type": "execute_result"
    },
    {
     "data": {
      "image/png": "[encoded data removed]",
      "text/plain": [
       "<Figure size 432x288 with 1 Axes>"
      ]
     },
     "metadata": {
      "needs_background": "light"
     },
     "output_type": "display_data"
    }
   ],
   "source": [
    "data = data.query('last_price < 50000')\n",
    "\n",
    "data['last_price'].hist(bins=30, range=(0, 1000))"
   ]
  },
  {
   "cell_type": "markdown",
   "metadata": {},
   "source": [
    "Видим выпадающее значение около 0. Вторая корзина начинается около 400 т.р. – это уже больше похоже на реальное значение, например столько может стоить однушка в небольшом городе и посёлке."
   ]
  },
  {
   "cell_type": "code",
   "execution_count": 59,
   "metadata": {},
   "outputs": [],
   "source": [
    "data = data.query('last_price >= 400')"
   ]
  },
  {
   "cell_type": "markdown",
   "metadata": {},
   "source": [
    "##### total_area"
   ]
  },
  {
   "cell_type": "code",
   "execution_count": 60,
   "metadata": {},
   "outputs": [
    {
     "data": {
      "text/plain": [
       "<matplotlib.axes._subplots.AxesSubplot at 0x7f1423d7e310>"
      ]
     },
     "execution_count": 60,
     "metadata": {},
     "output_type": "execute_result"
    },
    {
     "data": {
      "image/png": "[encoded data removed]",
      "text/plain": [
       "<Figure size 432x288 with 1 Axes>"
      ]
     },
     "metadata": {
      "needs_background": "light"
     },
     "output_type": "display_data"
    }
   ],
   "source": [
    "data['total_area'].hist(bins=100)"
   ]
  },
  {
   "cell_type": "markdown",
   "metadata": {},
   "source": [
    "Здесь опять мы видим длинный хвост справа, который, вероятно появляется из-за продаж загородных домов. Установим верхнюю границу в 250 м2."
   ]
  },
  {
   "cell_type": "code",
   "execution_count": 61,
   "metadata": {},
   "outputs": [
    {
     "data": {
      "text/plain": [
       "<matplotlib.axes._subplots.AxesSubplot at 0x7f1423c0dfd0>"
      ]
     },
     "execution_count": 61,
     "metadata": {},
     "output_type": "execute_result"
    },
    {
     "data": {
      "image/png": "[encoded data removed]",
      "text/plain": [
       "<Figure size 432x288 with 1 Axes>"
      ]
     },
     "metadata": {
      "needs_background": "light"
     },
     "output_type": "display_data"
    }
   ],
   "source": [
    "data = data.query('total_area < 250')\n",
    "\n",
    "data['total_area'].hist(bins=30, range=(0, 40))"
   ]
  },
  {
   "cell_type": "markdown",
   "metadata": {},
   "source": [
    "Изучив реальные предложения на сайтах объявлений, действительно можно найти квартиры от 10 м2, однако такие маленькие значения у нас очень редки и их можно убрать для того, чтобы в дальнейшем система проверяла подобные значения – вполне может быть, что комнаты выдаются за целые квартиры. Поэтому установим нижний порог в 20 м2."
   ]
  },
  {
   "cell_type": "code",
   "execution_count": 62,
   "metadata": {},
   "outputs": [],
   "source": [
    "data = data.query('total_area >= 20')"
   ]
  },
  {
   "cell_type": "markdown",
   "metadata": {},
   "source": [
    "##### rooms"
   ]
  },
  {
   "cell_type": "code",
   "execution_count": 63,
   "metadata": {},
   "outputs": [
    {
     "data": {
      "text/plain": [
       "<matplotlib.axes._subplots.AxesSubplot at 0x7f1423bb4c90>"
      ]
     },
     "execution_count": 63,
     "metadata": {},
     "output_type": "execute_result"
    },
    {
     "data": {
      "image/png": "[encoded data removed]",
      "text/plain": [
       "<Figure size 432x288 with 1 Axes>"
      ]
     },
     "metadata": {
      "needs_background": "light"
     },
     "output_type": "display_data"
    }
   ],
   "source": [
    "data['rooms'].hist(bins=19)"
   ]
  },
  {
   "cell_type": "code",
   "execution_count": 64,
   "metadata": {},
   "outputs": [
    {
     "data": {
      "text/plain": [
       "5776"
      ]
     },
     "execution_count": 64,
     "metadata": {},
     "output_type": "execute_result"
    }
   ],
   "source": [
    "#проверим что значения 3 есть в датасете\n",
    "data[data['rooms'] == 3]['rooms'].count()"
   ]
  },
  {
   "cell_type": "code",
   "execution_count": 65,
   "metadata": {},
   "outputs": [
    {
     "data": {
      "text/html": [
       "<div>\n",
       "<style scoped>\n",
       "    .dataframe tbody tr th:only-of-type {\n",
       "        vertical-align: middle;\n",
       "    }\n",
       "\n",
       "    .dataframe tbody tr th {\n",
       "        vertical-align: top;\n",
       "    }\n",
       "\n",
       "    .dataframe thead th {\n",
       "        text-align: right;\n",
       "    }\n",
       "</style>\n",
       "<table border=\"1\" class=\"dataframe\">\n",
       "  <thead>\n",
       "    <tr style=\"text-align: right;\">\n",
       "      <th></th>\n",
       "      <th>total_images</th>\n",
       "      <th>last_price</th>\n",
       "      <th>total_area</th>\n",
       "      <th>first_day_exposition</th>\n",
       "      <th>rooms</th>\n",
       "      <th>ceiling_height</th>\n",
       "      <th>floors_total</th>\n",
       "      <th>living_area</th>\n",
       "      <th>floor</th>\n",
       "      <th>is_apartment</th>\n",
       "      <th>studio</th>\n",
       "      <th>open_plan</th>\n",
       "      <th>kitchen_area</th>\n",
       "      <th>balcony</th>\n",
       "      <th>locality_name</th>\n",
       "      <th>airports_nearest</th>\n",
       "      <th>cityCenters_nearest</th>\n",
       "      <th>parks_around3000</th>\n",
       "      <th>parks_nearest</th>\n",
       "      <th>ponds_around3000</th>\n",
       "      <th>ponds_nearest</th>\n",
       "      <th>days_exposition</th>\n",
       "      <th>m2_price</th>\n",
       "      <th>exposition_weekday</th>\n",
       "      <th>exposition_month</th>\n",
       "      <th>exposition_year</th>\n",
       "      <th>floor_category</th>\n",
       "      <th>living_to_total</th>\n",
       "      <th>kitchen_to_total</th>\n",
       "    </tr>\n",
       "  </thead>\n",
       "  <tbody>\n",
       "  </tbody>\n",
       "</table>\n",
       "</div>"
      ],
      "text/plain": [
       "Empty DataFrame\n",
       "Columns: [total_images, last_price, total_area, first_day_exposition, rooms, ceiling_height, floors_total, living_area, floor, is_apartment, studio, open_plan, kitchen_area, balcony, locality_name, airports_nearest, cityCenters_nearest, parks_around3000, parks_nearest, ponds_around3000, ponds_nearest, days_exposition, m2_price, exposition_weekday, exposition_month, exposition_year, floor_category, living_to_total, kitchen_to_total]\n",
       "Index: []"
      ]
     },
     "execution_count": 65,
     "metadata": {},
     "output_type": "execute_result"
    }
   ],
   "source": [
    "# проверим где возникают 0\n",
    "data[(data['rooms'] == 0) &\n",
    "    (data['studio'] == False) &\n",
    "    (data['open_plan'] == False)\n",
    "    ].head()"
   ]
  },
  {
   "cell_type": "markdown",
   "metadata": {},
   "source": [
    "Таким образом значения 0 возникают когда продается либо студия, либо квартира с открытой планировкой. По техническим документам это однокомнатная квартира, поэтому такие значения можно заменить на 1."
   ]
  },
  {
   "cell_type": "code",
   "execution_count": 66,
   "metadata": {},
   "outputs": [
    {
     "data": {
      "text/plain": [
       "<matplotlib.axes._subplots.AxesSubplot at 0x7f1423af0b10>"
      ]
     },
     "execution_count": 66,
     "metadata": {},
     "output_type": "execute_result"
    },
    {
     "data": {
      "image/png": "[encoded data removed]",
      "text/plain": [
       "<Figure size 432x288 with 1 Axes>"
      ]
     },
     "metadata": {
      "needs_background": "light"
     },
     "output_type": "display_data"
    }
   ],
   "source": [
    "data.loc[data['rooms'] == 0] = 1\n",
    "\n",
    "data['rooms'].hist(bins=19)"
   ]
  },
  {
   "cell_type": "markdown",
   "metadata": {},
   "source": [
    "Что касается больших значений – установим верхнюю границу в 7 комнат, т.к. значения больше скорее всего у загородных домов."
   ]
  },
  {
   "cell_type": "code",
   "execution_count": 67,
   "metadata": {},
   "outputs": [],
   "source": [
    "data = data.query('rooms <= 7')"
   ]
  },
  {
   "cell_type": "markdown",
   "metadata": {},
   "source": [
    "##### ceiling_height"
   ]
  },
  {
   "cell_type": "code",
   "execution_count": 68,
   "metadata": {},
   "outputs": [
    {
     "data": {
      "text/plain": [
       "<matplotlib.axes._subplots.AxesSubplot at 0x7f1423e83350>"
      ]
     },
     "execution_count": 68,
     "metadata": {},
     "output_type": "execute_result"
    },
    {
     "data": {
      "image/png": "[encoded data removed]",
      "text/plain": [
       "<Figure size 432x288 with 1 Axes>"
      ]
     },
     "metadata": {
      "needs_background": "light"
     },
     "output_type": "display_data"
    }
   ],
   "source": [
    "data['ceiling_height'].hist(bins=100, range=(0,10))"
   ]
  },
  {
   "cell_type": "markdown",
   "metadata": {},
   "source": [
    "Ограничим значения высоты потолков 2мя метрами снизу и 5ю метрами сверху. "
   ]
  },
  {
   "cell_type": "code",
   "execution_count": 69,
   "metadata": {},
   "outputs": [],
   "source": [
    "data = data.query('2 < ceiling_height < 5')"
   ]
  },
  {
   "cell_type": "markdown",
   "metadata": {},
   "source": [
    "#### 4.4. Какие факторы больше всего влияют на стоимость квартиры?"
   ]
  },
  {
   "cell_type": "code",
   "execution_count": 70,
   "metadata": {},
   "outputs": [
    {
     "data": {
      "text/plain": [
       "cityCenters_nearest   -0.3370\n",
       "ponds_nearest         -0.1100\n",
       "kitchen_to_total      -0.0813\n",
       "exposition_year       -0.0442\n",
       "airports_nearest      -0.0383\n",
       "exposition_weekday    -0.0165\n",
       "exposition_month       0.0062\n",
       "parks_nearest          0.0101\n",
       "living_to_total        0.0167\n",
       "balcony                0.0380\n",
       "floors_total           0.0515\n",
       "floor                  0.0617\n",
       "total_images           0.1506\n",
       "parks_around3000       0.2008\n",
       "ponds_around3000       0.2066\n",
       "ceiling_height         0.4178\n",
       "rooms                  0.4863\n",
       "kitchen_area           0.5028\n",
       "living_area            0.6725\n",
       "m2_price               0.7122\n",
       "total_area             0.7771\n",
       "last_price             1.0000\n",
       "Name: last_price, dtype: float64"
      ]
     },
     "execution_count": 70,
     "metadata": {},
     "output_type": "execute_result"
    }
   ],
   "source": [
    "price_corr = data.corr().last_price.sort_values()\n",
    "price_corr"
   ]
  },
  {
   "cell_type": "code",
   "execution_count": 71,
   "metadata": {},
   "outputs": [
    {
     "data": {
      "image/png": "[encoded data removed]",
      "text/plain": [
       "<Figure size 432x432 with 1 Axes>"
      ]
     },
     "metadata": {
      "needs_background": "light"
     },
     "output_type": "display_data"
    },
    {
     "data": {
      "image/png": "[encoded data removed]",
      "text/plain": [
       "<Figure size 432x432 with 1 Axes>"
      ]
     },
     "metadata": {
      "needs_background": "light"
     },
     "output_type": "display_data"
    },
    {
     "data": {
      "image/png": "[encoded data removed]",
      "text/plain": [
       "<Figure size 432x432 with 1 Axes>"
      ]
     },
     "metadata": {
      "needs_background": "light"
     },
     "output_type": "display_data"
    },
    {
     "data": {
      "image/png": "[encoded data removed]",
      "text/plain": [
       "<Figure size 432x432 with 1 Axes>"
      ]
     },
     "metadata": {
      "needs_background": "light"
     },
     "output_type": "display_data"
    }
   ],
   "source": [
    "#построим графики для факторов, где коэф. корр. > 0.5\n",
    "for index in price_corr.index:\n",
    "    if  1 > price_corr[index] > 0.5:\n",
    "        data.plot(y = 'last_price', \n",
    "                    x = index,\n",
    "                    kind='scatter',\n",
    "                    figsize=(6, 6),\n",
    "                    alpha=0.3\n",
    "                    )"
   ]
  },
  {
   "cell_type": "markdown",
   "metadata": {},
   "source": [
    "Ярко выраженной линейной зависимости ни на одном из графиков нет, однако можно сказать что цена продажи наиболее сильно зависит от общей площади квартиры (коэффициент корреляции 0.78).  \n",
    "\n",
    "Высокая корреляция с ценой за м2 частично объясняется тем, что мы считали это значение на основе цены.\n",
    "\n",
    "Также отметим корреляцию факторов`kitchen_area` (0.50) и `living_area` (0.67).\n",
    "\n",
    "Теперь рассмотрим зависимость от числа комнат."
   ]
  },
  {
   "cell_type": "code",
   "execution_count": 72,
   "metadata": {},
   "outputs": [
    {
     "data": {
      "text/plain": [
       "<matplotlib.axes._subplots.AxesSubplot at 0x7f142372d450>"
      ]
     },
     "execution_count": 72,
     "metadata": {},
     "output_type": "execute_result"
    },
    {
     "data": {
      "image/png": "[encoded data removed]",
      "text/plain": [
       "<Figure size 432x432 with 1 Axes>"
      ]
     },
     "metadata": {
      "needs_background": "light"
     },
     "output_type": "display_data"
    }
   ],
   "source": [
    "data.plot(y = 'last_price', \n",
    "          x = 'rooms',\n",
    "          kind='scatter',\n",
    "          figsize=(6, 6),\n",
    "          )"
   ]
  },
  {
   "cell_type": "markdown",
   "metadata": {},
   "source": [
    "Видим также положительно направленную зависимость – чем больше комнат, тем больше может быть цена за квартиру.\n",
    "\n",
    "Удаленность от центра"
   ]
  },
  {
   "cell_type": "code",
   "execution_count": 73,
   "metadata": {},
   "outputs": [
    {
     "data": {
      "text/plain": [
       "<matplotlib.axes._subplots.AxesSubplot at 0x7f1421e9ad50>"
      ]
     },
     "execution_count": 73,
     "metadata": {},
     "output_type": "execute_result"
    },
    {
     "data": {
      "image/png": "[encoded data removed]",
      "text/plain": [
       "<Figure size 432x432 with 1 Axes>"
      ]
     },
     "metadata": {
      "needs_background": "light"
     },
     "output_type": "display_data"
    }
   ],
   "source": [
    "data.plot(y = 'last_price', \n",
    "          x = 'cityCenters_nearest',\n",
    "          kind='scatter',\n",
    "          figsize=(6, 6),\n",
    "          alpha=0.2\n",
    "          )"
   ]
  },
  {
   "cell_type": "markdown",
   "metadata": {},
   "source": [
    "На графике видно что линейной зависимости нет – график стремится к гиперболе. Самые дорогие квартиры чаще всего встречаются в городе/пригороде (до 20км от центра)."
   ]
  },
  {
   "cell_type": "markdown",
   "metadata": {},
   "source": [
    "#### Зависимость цены от того, на каком этаже расположена квартира"
   ]
  },
  {
   "cell_type": "code",
   "execution_count": 74,
   "metadata": {},
   "outputs": [
    {
     "data": {
      "image/png": "[encoded data removed]",
      "text/plain": [
       "<Figure size 432x288 with 1 Axes>"
      ]
     },
     "metadata": {
      "needs_background": "light"
     },
     "output_type": "display_data"
    },
    {
     "data": {
      "image/png": "[encoded data removed]",
      "text/plain": [
       "<Figure size 432x288 with 1 Axes>"
      ]
     },
     "metadata": {
      "needs_background": "light"
     },
     "output_type": "display_data"
    },
    {
     "data": {
      "image/png": "[encoded data removed]",
      "text/plain": [
       "<Figure size 432x288 with 1 Axes>"
      ]
     },
     "metadata": {
      "needs_background": "light"
     },
     "output_type": "display_data"
    }
   ],
   "source": [
    "for name, group_data in data.groupby('floor_category'):\n",
    "    group_data.plot(y = 'last_price', \n",
    "                  kind='hist',\n",
    "                  xlim=(0, 30000),  \n",
    "                  title= name,\n",
    "                  bins= 50,\n",
    "                  grid= True\n",
    "                  )"
   ]
  },
  {
   "cell_type": "markdown",
   "metadata": {},
   "source": [
    "На графиках видно, что цены для первого и последнего этажа особо не отличаются, а вот у \"остальных\" частота значений слева от пика уменьшилась, что значит такие квартиры в среднем дороже.\n",
    "\n",
    "#### Зависимость от даты размещения:"
   ]
  },
  {
   "cell_type": "markdown",
   "metadata": {},
   "source": [
    "##### Дня недели"
   ]
  },
  {
   "cell_type": "code",
   "execution_count": 75,
   "metadata": {},
   "outputs": [
    {
     "data": {
      "text/plain": [
       "<seaborn.axisgrid.FacetGrid at 0x7f1421c2c7d0>"
      ]
     },
     "execution_count": 75,
     "metadata": {},
     "output_type": "execute_result"
    },
    {
     "data": {
      "image/png": "[encoded data removed]",
      "text/plain": [
       "<Figure size 360x360 with 1 Axes>"
      ]
     },
     "metadata": {
      "needs_background": "light"
     },
     "output_type": "display_data"
    }
   ],
   "source": [
    "sns.catplot(x=\"exposition_weekday\", y=\"last_price\", kind=\"boxen\", data=data).set(ylim=(0, 10000))"
   ]
  },
  {
   "cell_type": "markdown",
   "metadata": {},
   "source": [
    "На графике видно, что самая высокая (медианная) цена наблюдается в понедельник (день 1), а самая низкая – в субботу."
   ]
  },
  {
   "cell_type": "markdown",
   "metadata": {},
   "source": [
    "##### Месяца"
   ]
  },
  {
   "cell_type": "code",
   "execution_count": 76,
   "metadata": {},
   "outputs": [
    {
     "data": {
      "text/plain": [
       "<seaborn.axisgrid.FacetGrid at 0x7f1420d5d350>"
      ]
     },
     "execution_count": 76,
     "metadata": {},
     "output_type": "execute_result"
    },
    {
     "data": {
      "image/png": "[encoded data removed]",
      "text/plain": [
       "<Figure size 360x360 with 1 Axes>"
      ]
     },
     "metadata": {
      "needs_background": "light"
     },
     "output_type": "display_data"
    }
   ],
   "source": [
    "sns.catplot(x=\"exposition_month\", y=\"last_price\", kind=\"boxen\", data=data).set(ylim=(0, 10000))"
   ]
  },
  {
   "cell_type": "markdown",
   "metadata": {},
   "source": [
    "Судя по графику, самая высокая цена на квартиры в апреле, а самая низкая – в июне."
   ]
  },
  {
   "cell_type": "markdown",
   "metadata": {},
   "source": [
    "##### Года"
   ]
  },
  {
   "cell_type": "code",
   "execution_count": 77,
   "metadata": {},
   "outputs": [
    {
     "data": {
      "text/plain": [
       "<seaborn.axisgrid.FacetGrid at 0x7f1420179710>"
      ]
     },
     "execution_count": 77,
     "metadata": {},
     "output_type": "execute_result"
    },
    {
     "data": {
      "image/png": "[encoded data removed]",
      "text/plain": [
       "<Figure size 360x360 with 1 Axes>"
      ]
     },
     "metadata": {
      "needs_background": "light"
     },
     "output_type": "display_data"
    }
   ],
   "source": [
    "sns.catplot(x=\"exposition_year\", y=\"last_price\", kind=\"boxen\", data=data).set(ylim=(0, 15000))"
   ]
  },
  {
   "cell_type": "markdown",
   "metadata": {},
   "source": [
    "Фиксируем что в 2014 году цена была самой высокой (медиана около 7.8 млн) и падала до 2017 года (4.4 млн). После этого цены начали медленно расти."
   ]
  },
  {
   "cell_type": "markdown",
   "metadata": {},
   "source": [
    "#### 4.5. Статистика для топ 10 населённых пунктов с наибольшим числом объявлений."
   ]
  },
  {
   "cell_type": "code",
   "execution_count": 78,
   "metadata": {},
   "outputs": [
    {
     "data": {
      "text/plain": [
       "<matplotlib.axes._subplots.AxesSubplot at 0x7f142005c610>"
      ]
     },
     "execution_count": 78,
     "metadata": {},
     "output_type": "execute_result"
    },
    {
     "data": {
      "image/png": "[encoded data removed]",
      "text/plain": [
       "<Figure size 432x288 with 1 Axes>"
      ]
     },
     "metadata": {
      "needs_background": "light"
     },
     "output_type": "display_data"
    }
   ],
   "source": [
    "localities_pivot = data.pivot_table(index='locality_name', values='m2_price', aggfunc=['count', 'mean'])\n",
    "localities_pivot.columns = ['count', 'm2_mean_price'] \n",
    "\n",
    "#получим список из 10\n",
    "top_10_localities = localities_pivot.sort_values(by='count', ascending= False).head(10)\n",
    "\n",
    "#упорядочим и построим график по средней цене за м2\n",
    "(top_10_localities.sort_values(by='m2_mean_price', ascending= False)\n",
    "                  .plot(y= 'm2_mean_price',\n",
    "                        kind='bar'\n",
    "                        )\n",
    ")"
   ]
  },
  {
   "cell_type": "markdown",
   "metadata": {},
   "source": [
    "На графике отображены 10 населённых пунктов с наибольшим числом объявлений. Самая высокая стоимость одного квадратного метра получилась в Санкт-Петербурге, а самая низкая – в Выборге."
   ]
  },
  {
   "cell_type": "markdown",
   "metadata": {},
   "source": [
    "#### 4.6. Санкт-Петербург. Как цена квартиры зависит от удалённости от центра."
   ]
  },
  {
   "cell_type": "code",
   "execution_count": 79,
   "metadata": {},
   "outputs": [],
   "source": [
    "# подсчет значений с нуля становится долгим, создадим возможность сохранять состояние\n",
    "\n",
    "# dill.dump_session('2nd_project_env.db')"
   ]
  },
  {
   "cell_type": "code",
   "execution_count": 80,
   "metadata": {},
   "outputs": [],
   "source": [
    "# dill.load_session('2nd_project_env.db')"
   ]
  },
  {
   "cell_type": "code",
   "execution_count": 81,
   "metadata": {},
   "outputs": [
    {
     "data": {
      "text/plain": [
       "0    16.0\n",
       "2    14.0\n",
       "4     8.0\n",
       "7    12.0\n",
       "9    15.0\n",
       "Name: cityCenters_nearest, dtype: float64"
      ]
     },
     "execution_count": 81,
     "metadata": {},
     "output_type": "execute_result"
    }
   ],
   "source": [
    "#переводим расстояние в километры\n",
    "data['cityCenters_nearest'] = data['cityCenters_nearest'] / 1000\n",
    "\n",
    "#округляем значения\n",
    "data['cityCenters_nearest'] = data['cityCenters_nearest'].round()\n",
    "\n",
    "piter_data = data.query('locality_name == \"Санкт-Петербург\"')\n",
    "piter_data.cityCenters_nearest.head()"
   ]
  },
  {
   "cell_type": "code",
   "execution_count": 82,
   "metadata": {},
   "outputs": [
    {
     "data": {
      "text/plain": [
       "<matplotlib.axes._subplots.AxesSubplot at 0x7f1420b59f10>"
      ]
     },
     "execution_count": 82,
     "metadata": {},
     "output_type": "execute_result"
    },
    {
     "data": {
      "image/png": "[encoded data removed]",
      "text/plain": [
       "<Figure size 432x288 with 1 Axes>"
      ]
     },
     "metadata": {
      "needs_background": "light"
     },
     "output_type": "display_data"
    }
   ],
   "source": [
    "#средняя цена для каждого километра и её график\n",
    "(piter_data.groupby('cityCenters_nearest')['last_price']\n",
    "            .mean()\n",
    "            .plot(y= 'cityCenters_nearest',\n",
    "                  kind='bar')\n",
    ")"
   ]
  },
  {
   "cell_type": "code",
   "execution_count": 92,
   "metadata": {},
   "outputs": [
    {
     "data": {
      "text/plain": [
       "Index(['total_images', 'last_price', 'total_area', 'first_day_exposition',\n",
       "       'rooms', 'ceiling_height', 'floors_total', 'living_area', 'floor',\n",
       "       'is_apartment', 'studio', 'open_plan', 'kitchen_area', 'balcony',\n",
       "       'locality_name', 'airports_nearest', 'cityCenters_nearest',\n",
       "       'parks_around3000', 'parks_nearest', 'ponds_around3000',\n",
       "       'ponds_nearest', 'days_exposition', 'm2_price', 'exposition_weekday',\n",
       "       'exposition_month', 'exposition_year', 'floor_category',\n",
       "       'living_to_total', 'kitchen_to_total'],\n",
       "      dtype='object')"
      ]
     },
     "execution_count": 92,
     "metadata": {},
     "output_type": "execute_result"
    }
   ],
   "source": [
    "data.columns"
   ]
  },
  {
   "cell_type": "markdown",
   "metadata": {},
   "source": [
    "На графике видно, что самая высокая цена на квартиры в диаметре 1 км от самого центра. После этого средняя цена падает до значения 3 км, после чего начинает расти. Второе падение можно наблюдать около значения 8 км. Скорее всего, цены немного падают когда мы отходим от самого центра, и немного возрастают когда мы подходим к границе центра. Поэтому примем за границу центра всё до значения в 8 км."
   ]
  },
  {
   "cell_type": "markdown",
   "metadata": {},
   "source": [
    "#### 4.7. Анализ сегмента квартир в центре Санкт-Петербурга.\n",
    "\n",
    "Проанализируйте эту территорию и изучите следующие параметры: площадь, цена, число комнат, высота потолков. Также выделите факторы, которые влияют на стоимость квартиры (число комнат, этаж, удалённость от центра, дата размещения объявления). Сделайте выводы. Отличаются ли они от общих выводов по всему городу?"
   ]
  },
  {
   "cell_type": "code",
   "execution_count": 95,
   "metadata": {},
   "outputs": [
    {
     "data": {
      "text/html": [
       "<div>\n",
       "<style scoped>\n",
       "    .dataframe tbody tr th:only-of-type {\n",
       "        vertical-align: middle;\n",
       "    }\n",
       "\n",
       "    .dataframe tbody tr th {\n",
       "        vertical-align: top;\n",
       "    }\n",
       "\n",
       "    .dataframe thead th {\n",
       "        text-align: right;\n",
       "    }\n",
       "</style>\n",
       "<table border=\"1\" class=\"dataframe\">\n",
       "  <thead>\n",
       "    <tr style=\"text-align: right;\">\n",
       "      <th></th>\n",
       "      <th>total_area</th>\n",
       "      <th>last_price</th>\n",
       "      <th>rooms</th>\n",
       "      <th>ceiling_height</th>\n",
       "    </tr>\n",
       "  </thead>\n",
       "  <tbody>\n",
       "    <tr>\n",
       "      <td>count</td>\n",
       "      <td>3322.0000</td>\n",
       "      <td>3322.0000</td>\n",
       "      <td>3322.0000</td>\n",
       "      <td>3322.0000</td>\n",
       "    </tr>\n",
       "    <tr>\n",
       "      <td>mean</td>\n",
       "      <td>84.7943</td>\n",
       "      <td>11426.2553</td>\n",
       "      <td>2.7282</td>\n",
       "      <td>2.9244</td>\n",
       "    </tr>\n",
       "    <tr>\n",
       "      <td>std</td>\n",
       "      <td>39.4868</td>\n",
       "      <td>7702.2351</td>\n",
       "      <td>1.2401</td>\n",
       "      <td>0.3434</td>\n",
       "    </tr>\n",
       "    <tr>\n",
       "      <td>min</td>\n",
       "      <td>20.0000</td>\n",
       "      <td>1600.0000</td>\n",
       "      <td>1.0000</td>\n",
       "      <td>2.4000</td>\n",
       "    </tr>\n",
       "    <tr>\n",
       "      <td>25%</td>\n",
       "      <td>56.0000</td>\n",
       "      <td>6590.0000</td>\n",
       "      <td>2.0000</td>\n",
       "      <td>2.6500</td>\n",
       "    </tr>\n",
       "    <tr>\n",
       "      <td>50%</td>\n",
       "      <td>76.3000</td>\n",
       "      <td>8950.0000</td>\n",
       "      <td>3.0000</td>\n",
       "      <td>2.8000</td>\n",
       "    </tr>\n",
       "    <tr>\n",
       "      <td>75%</td>\n",
       "      <td>104.0000</td>\n",
       "      <td>13287.5000</td>\n",
       "      <td>3.0000</td>\n",
       "      <td>3.1000</td>\n",
       "    </tr>\n",
       "    <tr>\n",
       "      <td>max</td>\n",
       "      <td>249.0000</td>\n",
       "      <td>49900.0000</td>\n",
       "      <td>7.0000</td>\n",
       "      <td>4.8000</td>\n",
       "    </tr>\n",
       "  </tbody>\n",
       "</table>\n",
       "</div>"
      ],
      "text/plain": [
       "       total_area  last_price      rooms  ceiling_height\n",
       "count   3322.0000   3322.0000  3322.0000       3322.0000\n",
       "mean      84.7943  11426.2553     2.7282          2.9244\n",
       "std       39.4868   7702.2351     1.2401          0.3434\n",
       "min       20.0000   1600.0000     1.0000          2.4000\n",
       "25%       56.0000   6590.0000     2.0000          2.6500\n",
       "50%       76.3000   8950.0000     3.0000          2.8000\n",
       "75%      104.0000  13287.5000     3.0000          3.1000\n",
       "max      249.0000  49900.0000     7.0000          4.8000"
      ]
     },
     "execution_count": 95,
     "metadata": {},
     "output_type": "execute_result"
    }
   ],
   "source": [
    "center_piter_data = piter_data.query('cityCenters_nearest < 8')\n",
    "#отобразим интересующие нас значения для центра\n",
    "center_piter_data.loc[:, ['total_area', 'last_price', 'rooms', 'ceiling_height']].describe()"
   ]
  },
  {
   "cell_type": "code",
   "execution_count": 84,
   "metadata": {},
   "outputs": [
    {
     "data": {
      "text/html": [
       "<div>\n",
       "<style scoped>\n",
       "    .dataframe tbody tr th:only-of-type {\n",
       "        vertical-align: middle;\n",
       "    }\n",
       "\n",
       "    .dataframe tbody tr th {\n",
       "        vertical-align: top;\n",
       "    }\n",
       "\n",
       "    .dataframe thead th {\n",
       "        text-align: right;\n",
       "    }\n",
       "</style>\n",
       "<table border=\"1\" class=\"dataframe\">\n",
       "  <thead>\n",
       "    <tr style=\"text-align: right;\">\n",
       "      <th></th>\n",
       "      <th>total_area</th>\n",
       "      <th>last_price</th>\n",
       "      <th>rooms</th>\n",
       "      <th>ceiling_height</th>\n",
       "    </tr>\n",
       "  </thead>\n",
       "  <tbody>\n",
       "    <tr>\n",
       "      <td>count</td>\n",
       "      <td>15369.0000</td>\n",
       "      <td>15369.0000</td>\n",
       "      <td>15369.0000</td>\n",
       "      <td>15369.0000</td>\n",
       "    </tr>\n",
       "    <tr>\n",
       "      <td>mean</td>\n",
       "      <td>62.3040</td>\n",
       "      <td>7174.1426</td>\n",
       "      <td>2.1456</td>\n",
       "      <td>2.7173</td>\n",
       "    </tr>\n",
       "    <tr>\n",
       "      <td>std</td>\n",
       "      <td>30.1973</td>\n",
       "      <td>5230.1734</td>\n",
       "      <td>1.0419</td>\n",
       "      <td>0.2320</td>\n",
       "    </tr>\n",
       "    <tr>\n",
       "      <td>min</td>\n",
       "      <td>20.0000</td>\n",
       "      <td>1200.0000</td>\n",
       "      <td>1.0000</td>\n",
       "      <td>2.3000</td>\n",
       "    </tr>\n",
       "    <tr>\n",
       "      <td>25%</td>\n",
       "      <td>42.0000</td>\n",
       "      <td>4200.0000</td>\n",
       "      <td>1.0000</td>\n",
       "      <td>2.6000</td>\n",
       "    </tr>\n",
       "    <tr>\n",
       "      <td>50%</td>\n",
       "      <td>55.0000</td>\n",
       "      <td>5500.0000</td>\n",
       "      <td>2.0000</td>\n",
       "      <td>2.6500</td>\n",
       "    </tr>\n",
       "    <tr>\n",
       "      <td>75%</td>\n",
       "      <td>73.9000</td>\n",
       "      <td>8000.0000</td>\n",
       "      <td>3.0000</td>\n",
       "      <td>2.7500</td>\n",
       "    </tr>\n",
       "    <tr>\n",
       "      <td>max</td>\n",
       "      <td>249.0000</td>\n",
       "      <td>49900.0000</td>\n",
       "      <td>7.0000</td>\n",
       "      <td>4.8000</td>\n",
       "    </tr>\n",
       "  </tbody>\n",
       "</table>\n",
       "</div>"
      ],
      "text/plain": [
       "       total_area  last_price       rooms  ceiling_height\n",
       "count  15369.0000  15369.0000  15369.0000      15369.0000\n",
       "mean      62.3040   7174.1426      2.1456          2.7173\n",
       "std       30.1973   5230.1734      1.0419          0.2320\n",
       "min       20.0000   1200.0000      1.0000          2.3000\n",
       "25%       42.0000   4200.0000      1.0000          2.6000\n",
       "50%       55.0000   5500.0000      2.0000          2.6500\n",
       "75%       73.9000   8000.0000      3.0000          2.7500\n",
       "max      249.0000  49900.0000      7.0000          4.8000"
      ]
     },
     "execution_count": 84,
     "metadata": {},
     "output_type": "execute_result"
    }
   ],
   "source": [
    "#отобразим интересующие нас значения для всего города\n",
    "piter_data.loc[:, ['total_area', 'last_price', 'rooms', 'ceiling_height']].describe()"
   ]
  },
  {
   "cell_type": "markdown",
   "metadata": {},
   "source": [
    "Сравнивая данные по двум таблицам, можно видеть что: в центре медианные значения и площади и цены больше чем в целом по городу.\n",
    "Это очень интересно, так как это противоречит стереотипу о том, что обычно квартиры в центре маленькие и дорогие. Согласно нашей статистике они и дороже и больше чем все квартиры в городе Санкт-Петербург.\n",
    "\n",
    "Что касается комнат, то здесь опять стереотип не работает – медианное значение для центра 3 комнаты, для всего города - 2.\n",
    "Про высоту потолков с уверенностью сказать нельзя. Так как мы заполняли большое количество пропущенных данных медианным значением – при увеличении размера выборки её медиана будет стремиться к общей по всем данным. "
   ]
  },
  {
   "cell_type": "code",
   "execution_count": 85,
   "metadata": {},
   "outputs": [
    {
     "data": {
      "text/plain": [
       "ponds_nearest         -0.0668\n",
       "kitchen_to_total      -0.0514\n",
       "parks_nearest         -0.0373\n",
       "exposition_year       -0.0331\n",
       "cityCenters_nearest   -0.0276\n",
       "exposition_weekday    -0.0181\n",
       "exposition_month      -0.0138\n",
       "living_to_total       -0.0043\n",
       "ponds_around3000       0.0654\n",
       "floors_total           0.1096\n",
       "parks_around3000       0.1353\n",
       "balcony                0.1438\n",
       "airports_nearest       0.1467\n",
       "floor                  0.1483\n",
       "total_images           0.1636\n",
       "ceiling_height         0.1686\n",
       "rooms                  0.4060\n",
       "kitchen_area           0.4521\n",
       "living_area            0.5791\n",
       "m2_price               0.6584\n",
       "total_area             0.6968\n",
       "last_price             1.0000\n",
       "Name: last_price, dtype: float64"
      ]
     },
     "execution_count": 85,
     "metadata": {},
     "output_type": "execute_result"
    }
   ],
   "source": [
    "center_piter_data.corr().last_price.sort_values()"
   ]
  },
  {
   "cell_type": "markdown",
   "metadata": {},
   "source": [
    "Здесь ситуация схожа с общей по всем данным - видим тот же набор коррелирующих факторов `living_area (0.58), m2_price (0.65), total_area (0.70)`. Немного уменьшилась корреляция с площадью кухни и стала меньше 0.5."
   ]
  },
  {
   "cell_type": "markdown",
   "metadata": {},
   "source": [
    "### Шаг 5. Общий вывод<a id='step5'></a>"
   ]
  },
  {
   "cell_type": "markdown",
   "metadata": {},
   "source": [
    "**1.** Мы обработали и проанализировали информацию о 23699 объявлениях с 22-я возможными признаками. В процессе работы были решены следующие проблемы:<br>"
   ]
  },
  {
   "cell_type": "markdown",
   "metadata": {},
   "source": [
    "**2.** Было выполнено заполнение пропусков. <br>\n",
    "\n",
    "**Высота потолков** была заполнена медианным значением. Возможной причиной возникновения пропусков является незнание высоты потолков людьми, выставляющими квартиру на продажу.\n",
    "\n",
    "Количество **этажей в здании** было заполнено на основе архитектуры городов России и информации о этаже квартиры.\n",
    "\n",
    "Доля пропусков для **жилой площади** квартир была 8%. Для восстановления пропущеных значений была построена модель линейной регрессии по факторам, имеющим сильную корреляцию с жил. площадью – общая площадь и количество комнат.\n",
    "Пропущенные значения скорее всего опять возникают из-за того, что владельцы просто не знают значений жилой площади.\n",
    "\n",
    "**Аппартаменты**<br>\n",
    "Природа пропущенных значений до конца не ясна. Cкорее всего этот пункт – \"радио\" кнопка на сайте, и нажать её не должно быть сложно. Однако мы видим что доля пропущенных значений целых 88.3 процентов. Либо люди сомневаются в значении слова \"аппартаменты\" и не выбирают ничего, либо есть проблемы в дизайне сайта и люди просто не видят эту кнопку - это необходимо проверить.  \n",
    "Мы приняли предположение о том, что кнопку видно и люди просто не знают что это за тип жилья. А раз не знают, то, скорее всего у них обычная квартира. Поэтому пропущенные значения были заменены на False.\n",
    "\n",
    "Чтобы восстановить данные о **площади кухни** мы использовали формулу Площадь кухни = Общая площадь - Жилая площадь. \n",
    "\n",
    "Для **количества балконов** мы использовали следующую логику: если человек не указал число балконов — скорее всего, их нет. Такие пропуски были заменены на 0.\n",
    "\n",
    "Далее у нас идут значения, которые заполняются автоматически, на основе геолокации. Это locality_name    airports_nearest    cityCenters_nearest. Их мы восстановить никак не можем, их можно заменять на `unknown`, но, для удобства дальнейшего анализа, на данном этапе мы этого делать не стали.\n",
    "Судя по данным, здесь пропуски возникают в тех случаях, когда квартиры расположены в поселках, деревнях, а иногда и, возможно, вне мест совместного обитания человека. Для таких мест просто нету достаточной информации у геолокационных сервисов.\n",
    "\n",
    "Сколько дней было размещено объявление. <br>\n",
    "Зафиксировали что данные имеют тип float, так как у нас не было нулевых значений, скорее всего `NaN` – были открытыми объявлениями. Им мы присвоили статус `open`.\n",
    "\n",
    "Произведено приведение данных к нужным типам.  <br>\n",
    "Столбец `first_day_exposition` был привден к формату `datetime`, мы получили точность временного значения до дней."
   ]
  },
  {
   "cell_type": "markdown",
   "metadata": {},
   "source": [
    "**3.** Мы посчитали и добавили в таблицу:\n",
    "- цену квадратного метра;\n",
    "- день недели, месяц и год публикации объявления;\n",
    "- этаж квартиры; варианты — первый, последний, другой;\n",
    "- соотношение жилой и общей площади, а также отношение площади кухни к общей."
   ]
  },
  {
   "cell_type": "markdown",
   "metadata": {},
   "source": [
    "**4.** Проведен исследовательский анализ данных.  \n",
    "<br>\n",
    "**4.1.** Мы изучили: площадь, цену, число комнат, высоту потолков. Построили гистограммы для каждого параметра.\n",
    "\n",
    "**Общая площадь**\n",
    "На гистограмме выявлено 3 пика. Первый, около 28 м2, соответствовал однокомнатным квартирам, второй пик – примерно 48 м2,  двухкомнатным квартирам, и третий пик около 60 м2 - трехкомнатным.\n",
    "\n",
    "**Цена квартиры**\n",
    "Пиковове значение около 3.2 млн. рублей. Можно сказать что распределение стремится к нормальному, с длинным хвостом справа.\n",
    "\n",
    "**Количество комнат**\n",
    "На гистограмме было видно, что самое большое количество квартир 1- и 2-х комнатные. Также видим что в данных есть несколько аномальных нулевых значений.\n",
    "\n",
    "Для **высоты потолков** пик находился на медианном значении (2.6 м), при этом помним о том, что пропущенные значения мы заполняли именно им (их было 38% от общего числа). \n",
    "\n",
    "**4.2.** Далее мы изучили время продажи квартиры. Распределение оказалось близко к Пуассоновскому. Можно наблюдать интересный пик на значениях 45 и 60 дней. Возможно на этом сроке сервис автоматически закрывает определенный тип объявлений (например, неинтересные или плохо заполненные).\n",
    "\n",
    "Медианное значение 95 дней – половина объявлений закрывается за этот срок. Можно считать, что продажи прошли быстро, если квартира продана за 45 дней. Необычно долгие продажи начинаются от 232 и могут продолжаться аж до 1580 дней.\n",
    "\n",
    "**4.3.** Редкие и выбивающиеся значения были убраны. \n",
    "Необходимо было обработать столбцы: `last_price, total_area, rooms, ceiling_height`.\n",
    "\n",
    "`last_price`\n",
    "Согласно данным, самая дешевая квартира была продана за 12 т.р, а самая дорогая – за 763 000 000 рублей.\n",
    "После анализа данных за верхнее значение было принято 50 млн. рублей, а за нижнее – 400 т.р. \n",
    "\n",
    "`total_area`\n",
    "Здесь опять мы видим длинный хвост справа, который, вероятно появляется из-за продаж загородных домов. Установим верхнюю границу в 250 м2, нижний порог в 20 м2.\n",
    "\n",
    "`rooms`\n",
    "Было обнаружено, что значения 0 возникают когда продается либо студия, либо квартира с открытой планировкой. По техническим документам это однокомнатная квартира, поэтому такие значения мы заменяли на 1.\n",
    "Что касается больших значений – была установлена верхняя граница в 7 комнат.\n",
    "\n",
    "`ceiling_height`\n",
    "Ограничили значения высоты потолков 2мя метрами снизу и 5ю метрами сверху.\n",
    "\n",
    "**4.4.** Какие факторы больше всего влияют на стоимость квартиры?\n",
    "\n",
    "* Ярко выраженной линейной зависимости не было найдено, однако можно сказать, что цена продажи наиболее сильно зависит от общей площади квартиры (коэффициент корреляции 0.78).  \n",
    "\n",
    "* Высокая корреляция с ценой за м2 частично объясняется тем, что мы считали это значение на основе цены.\n",
    "* Также отметим корреляцию факторов`kitchen_area` (0.50) и `living_area` (0.67).\n",
    "\n",
    "* Зависимость от числа комнат:\n",
    "    Видим положительно направленную зависимость – чем больше комнат, тем больше может быть цена за квартиру.\n",
    "\n",
    "* Удаленность от центра: \n",
    "    линейной зависимости нет – график стремится к гиперболе. Самые дорогие квартиры чаще всего встречаются в городе/пригороде (до 20км от центра).\n",
    "\n",
    "* Зависимость цены от того, на каком этаже расположена квартира: \n",
    "    На графиках видно, что цены для первого и последнего этажа особо не отличаются, а вот у \"остальных\" частота значений слева от пика уменьшилась, что значит такие квартиры в среднем дороже.\n",
    "\n",
    "**Зависимость от даты размещения:**\n",
    "- Для дня недели было найдено что самая высокая (медианная) цена наблюдается в понедельник (день 1), а самая низкая – в субботу.\n",
    "- Судя по месячному графику, самая высокая цена на квартиры в апреле, а самая низкая – в июне.\n",
    "- Мы отметили, что в 2014 году цена была самой высокой (медиана около 7.8 млн) и падала до 2017 года (4.4 млн). После этого цены начали медленно расти.\n",
    "\n",
    "**4.5.** Статистика для топ 10 населённых пунктов с наибольшим числом объявлений.\n",
    "Мы получили список из топ 10 населённых пунктов с наибольшим числом объявлений, после этого его упорядочли и построили график по средней цене за м2.\n",
    "\n",
    "Самая высокая стоимость одного квадратного метра получилась в Санкт-Петербурге, а самая низкая – в Выборге.\n",
    "\n",
    "**4.6.** Санкт-Петербург. Как цена квартиры зависит от удалённости от центра.\n",
    "Анализ показал, что самая высокая цена на квартиры в диаметре 1 км от самого центра. После этого средняя цена падает до значения 3 км, после чего начинает расти. Второе падение можно наблюдать около значения 8 км. Скорее всего, цены немного падают когда мы отходим от самого центра, и немного возрастают когда мы подходим к границе центра. Поэтому мы приняли за границу центра всё до значения в 8 км.\n",
    "\n",
    "**4.7.** Анализ сегмента квартир в центре Санкт-Петербурга.  \n",
    "Был проанализирован сегмента квартир в центре Санкт-Петербурга, изучены следующие параметры: площадь, цена, число комнат, высота потолков. Было проведено сравнение с общими выводами по всему городу.\n",
    "\n",
    "Сравнивая данные можно видеть, что: в центре медианные значения и площади и цены больше чем в целом по городу.\n",
    "Это очень интересно, так как это противоречит стереотипу о том, что обычно квартиры в центре маленькие и дорогие. Согласно нашей статистике, они и дороже, и больше, чем все квартиры в городе Санкт-Петербург.\n",
    "\n",
    "Что касается комнат, то здесь опять стереотип не работает – медианное значение для центра 3 комнаты, для всего города - 2.\n",
    "Про высоту потолков с уверенностью сказать нельзя. Так как мы заполняли большое количество пропущенных данных медианным значением – при увеличении размера выборки её медиана будет стремиться к общей по всем данным. \n",
    "\n",
    "Также мы выделили факторы, которые влияют на стоимость квартиры (число комнат, этаж, удалённость от центра, дата размещения объявления).\n",
    "Здесь ситуация оказалась схожа с общей по всем данным - мы наблюдали тот же набор коррелирующих факторов living_area (0.58), m2_price (0.65), total_area (0.70). Немного уменьшилась корреляция с площадью кухни и стала меньше 0.5.\n",
    "</br>"
   ]
  }
 ],
 "metadata": {
  "kernelspec": {
   "display_name": "Python 3",
   "language": "python",
   "name": "python3"
  },
  "language_info": {
   "codemirror_mode": {
    "name": "ipython",
    "version": 3
   },
   "file_extension": ".py",
   "mimetype": "text/x-python",
   "name": "python",
   "nbconvert_exporter": "python",
   "pygments_lexer": "ipython3",
   "version": "3.7.8"
  },
  "toc": {
   "base_numbering": 1,
   "nav_menu": {},
   "number_sections": true,
   "sideBar": true,
   "skip_h1_title": false,
   "title_cell": "Table of Contents",
   "title_sidebar": "Contents",
   "toc_cell": false,
   "toc_position": {},
   "toc_section_display": true,
   "toc_window_display": false
  }
 },
 "nbformat": 4,
 "nbformat_minor": 2
}
