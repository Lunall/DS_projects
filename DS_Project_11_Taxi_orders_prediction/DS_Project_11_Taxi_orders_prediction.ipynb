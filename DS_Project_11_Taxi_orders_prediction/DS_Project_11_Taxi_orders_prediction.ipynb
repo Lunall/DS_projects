{
 "cells": [
  {
   "cell_type": "markdown",
   "metadata": {
    "toc": true
   },
   "source": [
    "<h1>Содержание<span class=\"tocSkip\"></span></h1>\n",
    "<div class=\"toc\"><ul class=\"toc-item\"><li><span><a href=\"#Загрузка-файлов-и-получение-информации\" data-toc-modified-id=\"Загрузка-файлов-и-получение-информации-1\"><span class=\"toc-item-num\">1&nbsp;&nbsp;</span>Загрузка файлов и получение информации</a></span><ul class=\"toc-item\"><li><span><a href=\"#Подготовка-данных\" data-toc-modified-id=\"Подготовка-данных-1.1\"><span class=\"toc-item-num\">1.1&nbsp;&nbsp;</span>Подготовка данных</a></span><ul class=\"toc-item\"><li><span><a href=\"#Проверка-данных\" data-toc-modified-id=\"Проверка-данных-1.1.1\"><span class=\"toc-item-num\">1.1.1&nbsp;&nbsp;</span>Проверка данных</a></span></li><li><span><a href=\"#Ресемплирование-временного-ряда\" data-toc-modified-id=\"Ресемплирование-временного-ряда-1.1.2\"><span class=\"toc-item-num\">1.1.2&nbsp;&nbsp;</span>Ресемплирование временного ряда</a></span></li></ul></li><li><span><a href=\"#Создание-признаков\" data-toc-modified-id=\"Создание-признаков-1.2\"><span class=\"toc-item-num\">1.2&nbsp;&nbsp;</span>Создание признаков</a></span><ul class=\"toc-item\"><li><span><a href=\"#Календарные-признаки\" data-toc-modified-id=\"Календарные-признаки-1.2.1\"><span class=\"toc-item-num\">1.2.1&nbsp;&nbsp;</span>Календарные признаки</a></span></li><li><span><a href=\"#Lag-и-скользящее-среднее\" data-toc-modified-id=\"Lag-и-скользящее-среднее-1.2.2\"><span class=\"toc-item-num\">1.2.2&nbsp;&nbsp;</span>Lag и скользящее среднее</a></span></li></ul></li><li><span><a href=\"#Вывод\" data-toc-modified-id=\"Вывод-1.3\"><span class=\"toc-item-num\">1.3&nbsp;&nbsp;</span>Вывод</a></span></li></ul></li><li><span><a href=\"#Анализ-данных\" data-toc-modified-id=\"Анализ-данных-2\"><span class=\"toc-item-num\">2&nbsp;&nbsp;</span>Анализ данных</a></span><ul class=\"toc-item\"><li><span><a href=\"#Распределение-целевого-признака\" data-toc-modified-id=\"Распределение-целевого-признака-2.1\"><span class=\"toc-item-num\">2.1&nbsp;&nbsp;</span>Распределение целевого признака</a></span></li><li><span><a href=\"#Вывод\" data-toc-modified-id=\"Вывод-2.2\"><span class=\"toc-item-num\">2.2&nbsp;&nbsp;</span>Вывод</a></span></li></ul></li><li><span><a href=\"#Обучение-моделей\" data-toc-modified-id=\"Обучение-моделей-3\"><span class=\"toc-item-num\">3&nbsp;&nbsp;</span>Обучение моделей</a></span><ul class=\"toc-item\"><li><span><a href=\"#LinearRegression\" data-toc-modified-id=\"LinearRegression-3.1\"><span class=\"toc-item-num\">3.1&nbsp;&nbsp;</span>LinearRegression</a></span></li><li><span><a href=\"#Ridge\" data-toc-modified-id=\"Ridge-3.2\"><span class=\"toc-item-num\">3.2&nbsp;&nbsp;</span>Ridge</a></span></li><li><span><a href=\"#RandomForestRegressor\" data-toc-modified-id=\"RandomForestRegressor-3.3\"><span class=\"toc-item-num\">3.3&nbsp;&nbsp;</span>RandomForestRegressor</a></span></li><li><span><a href=\"#LGBM\" data-toc-modified-id=\"LGBM-3.4\"><span class=\"toc-item-num\">3.4&nbsp;&nbsp;</span>LGBM</a></span></li><li><span><a href=\"#Вывод\" data-toc-modified-id=\"Вывод-3.5\"><span class=\"toc-item-num\">3.5&nbsp;&nbsp;</span>Вывод</a></span></li></ul></li><li><span><a href=\"#Тестирование\" data-toc-modified-id=\"Тестирование-4\"><span class=\"toc-item-num\">4&nbsp;&nbsp;</span>Тестирование</a></span><ul class=\"toc-item\"><li><span><a href=\"#Проверка-модели-на-адеватность\" data-toc-modified-id=\"Проверка-модели-на-адеватность-4.1\"><span class=\"toc-item-num\">4.1&nbsp;&nbsp;</span>Проверка модели на адеватность</a></span></li><li><span><a href=\"#Вывод\" data-toc-modified-id=\"Вывод-4.2\"><span class=\"toc-item-num\">4.2&nbsp;&nbsp;</span>Вывод</a></span></li></ul></li><li><span><a href=\"#Общий-вывод\" data-toc-modified-id=\"Общий-вывод-5\"><span class=\"toc-item-num\">5&nbsp;&nbsp;</span>Общий вывод</a></span></li></ul></div>"
   ]
  },
  {
   "cell_type": "markdown",
   "metadata": {},
   "source": [
    "#  Прогнозирование заказов такси"
   ]
  },
  {
   "cell_type": "markdown",
   "metadata": {},
   "source": [
    "### Вводная<a class=\"tocSkip\">\n",
    "\n",
    "Компания, предоставляющая сервис заказов такси Clean Taxi собрала исторические данные о заказах такси в аэропортах.\n",
    "Для того, чтобы привлекать больше водителей в часы пик и управлять ценообразованием, вам как аналитику нужно построить модель, которая будет предсказывать количество заказов такси на следующий час."
   ]
  },
  {
   "cell_type": "markdown",
   "metadata": {},
   "source": [
    "### Цель<a class=\"tocSkip\">"
   ]
  },
  {
   "cell_type": "markdown",
   "metadata": {},
   "source": [
    "    Построить модель для предсказания количества заказов такси на следующий час. Значение метрики RMSE на тестовой выборке должно быть не больше 48."
   ]
  },
  {
   "cell_type": "markdown",
   "metadata": {},
   "source": [
    "### Описание данных<a class=\"tocSkip\">"
   ]
  },
  {
   "cell_type": "markdown",
   "metadata": {},
   "source": [
    "Данные лежат в файле `taxi.csv`. Количество заказов находится в столбце `num_orders` (от англ. *number of orders*, «число заказов»)."
   ]
  },
  {
   "cell_type": "markdown",
   "metadata": {},
   "source": [
    "### План<a class=\"tocSkip\">"
   ]
  },
  {
   "cell_type": "markdown",
   "metadata": {},
   "source": [
    "    1.  Загрузка файлов и получение информации\n",
    "    1.1.  Подготовка данных\n",
    "    1.1.1.  Проверка данных\n",
    "    1.1.2.  Ресемплирование временного ряда\n",
    "    1.2.  Создание признаков\n",
    "    1.2.1.  Календарные признаки\n",
    "    1.2.2.  Создание Lag-а и скользящего среднего\n",
    "    2  Анализ данных\n",
    "    2.1  Анализ трендов и сезонности\n",
    "    2.2  Распределение целевого признака\n",
    "    3.  Обучение моделей\n",
    "    4.  Тестирование\n",
    "    4.1.  Проверка модели на адеватность\n",
    "    5  Общий вывод"
   ]
  },
  {
   "cell_type": "markdown",
   "metadata": {},
   "source": [
    "## 0. Установка библиотек <a class=\"tocSkip\">"
   ]
  },
  {
   "cell_type": "code",
   "execution_count": 1,
   "metadata": {},
   "outputs": [],
   "source": [
    "%%capture\n",
    "\n",
    "%pip install --upgrade ipykernel\n",
    "%pip install seaborn>=0.11 -U\n",
    "%pip install scikit-learn -U\n",
    "%pip install dill"
   ]
  },
  {
   "cell_type": "code",
   "execution_count": 2,
   "metadata": {},
   "outputs": [],
   "source": [
    "import pandas as pd\n",
    "import numpy as np\n",
    "import dill\n",
    "\n",
    "from datetime import datetime\n",
    "\n",
    "from statsmodels.tsa.seasonal import seasonal_decompose\n",
    "\n",
    "from sklearn.model_selection import train_test_split, TimeSeriesSplit, GridSearchCV, RandomizedSearchCV\n",
    "\n",
    "from sklearn.linear_model import LinearRegression, Ridge\n",
    "from sklearn.ensemble import RandomForestRegressor\n",
    "from sklearn.dummy import DummyRegressor\n",
    "\n",
    "from sklearn.metrics import (make_scorer, \n",
    "                            mean_squared_error as mse,\n",
    "                            mean_absolute_error as mae)\n",
    "\n",
    "import lightgbm as lgb\n",
    "\n",
    "from tqdm import tqdm\n",
    "\n",
    "import matplotlib.pyplot as plt\n",
    "import seaborn as sns\n",
    "sns.set_theme(style=\"darkgrid\")\n",
    "\n",
    "#фильтр предупреждений\n",
    "import warnings\n",
    "warnings.simplefilter(\"ignore\")"
   ]
  },
  {
   "cell_type": "code",
   "execution_count": 3,
   "metadata": {},
   "outputs": [],
   "source": [
    "#зададим ramdom seed\n",
    "RS = 2021"
   ]
  },
  {
   "cell_type": "markdown",
   "metadata": {},
   "source": [
    "## Загрузка файлов и получение информации"
   ]
  },
  {
   "cell_type": "code",
   "execution_count": 4,
   "metadata": {},
   "outputs": [],
   "source": [
    "#парсер для дат\n",
    "my_date_parser = lambda x: datetime.strptime(x, \"%Y-%m-%d %H:%M:%S\")"
   ]
  },
  {
   "cell_type": "code",
   "execution_count": 5,
   "metadata": {},
   "outputs": [
    {
     "data": {
      "text/html": [
       "<div>\n",
       "<style scoped>\n",
       "    .dataframe tbody tr th:only-of-type {\n",
       "        vertical-align: middle;\n",
       "    }\n",
       "\n",
       "    .dataframe tbody tr th {\n",
       "        vertical-align: top;\n",
       "    }\n",
       "\n",
       "    .dataframe thead th {\n",
       "        text-align: right;\n",
       "    }\n",
       "</style>\n",
       "<table border=\"1\" class=\"dataframe\">\n",
       "  <thead>\n",
       "    <tr style=\"text-align: right;\">\n",
       "      <th></th>\n",
       "      <th>num_orders</th>\n",
       "    </tr>\n",
       "    <tr>\n",
       "      <th>datetime</th>\n",
       "      <th></th>\n",
       "    </tr>\n",
       "  </thead>\n",
       "  <tbody>\n",
       "    <tr>\n",
       "      <td>2018-03-01 00:00:00</td>\n",
       "      <td>9</td>\n",
       "    </tr>\n",
       "    <tr>\n",
       "      <td>2018-03-01 00:10:00</td>\n",
       "      <td>14</td>\n",
       "    </tr>\n",
       "    <tr>\n",
       "      <td>2018-03-01 00:20:00</td>\n",
       "      <td>28</td>\n",
       "    </tr>\n",
       "    <tr>\n",
       "      <td>2018-03-01 00:30:00</td>\n",
       "      <td>20</td>\n",
       "    </tr>\n",
       "    <tr>\n",
       "      <td>2018-03-01 00:40:00</td>\n",
       "      <td>32</td>\n",
       "    </tr>\n",
       "    <tr>\n",
       "      <td>...</td>\n",
       "      <td>...</td>\n",
       "    </tr>\n",
       "    <tr>\n",
       "      <td>2018-08-31 23:10:00</td>\n",
       "      <td>32</td>\n",
       "    </tr>\n",
       "    <tr>\n",
       "      <td>2018-08-31 23:20:00</td>\n",
       "      <td>24</td>\n",
       "    </tr>\n",
       "    <tr>\n",
       "      <td>2018-08-31 23:30:00</td>\n",
       "      <td>27</td>\n",
       "    </tr>\n",
       "    <tr>\n",
       "      <td>2018-08-31 23:40:00</td>\n",
       "      <td>39</td>\n",
       "    </tr>\n",
       "    <tr>\n",
       "      <td>2018-08-31 23:50:00</td>\n",
       "      <td>53</td>\n",
       "    </tr>\n",
       "  </tbody>\n",
       "</table>\n",
       "<p>26496 rows × 1 columns</p>\n",
       "</div>"
      ],
      "text/plain": [
       "                     num_orders\n",
       "datetime                       \n",
       "2018-03-01 00:00:00           9\n",
       "2018-03-01 00:10:00          14\n",
       "2018-03-01 00:20:00          28\n",
       "2018-03-01 00:30:00          20\n",
       "2018-03-01 00:40:00          32\n",
       "...                         ...\n",
       "2018-08-31 23:10:00          32\n",
       "2018-08-31 23:20:00          24\n",
       "2018-08-31 23:30:00          27\n",
       "2018-08-31 23:40:00          39\n",
       "2018-08-31 23:50:00          53\n",
       "\n",
       "[26496 rows x 1 columns]"
      ]
     },
     "execution_count": 5,
     "metadata": {},
     "output_type": "execute_result"
    }
   ],
   "source": [
    "data = pd.read_csv('/datasets/taxi.csv', \n",
    "                   index_col=[0],\n",
    "                   parse_dates=[0],\n",
    "                   date_parser=my_date_parser\n",
    "                  )\n",
    "\n",
    "data"
   ]
  },
  {
   "cell_type": "code",
   "execution_count": 6,
   "metadata": {},
   "outputs": [
    {
     "name": "stdout",
     "output_type": "stream",
     "text": [
      "<class 'pandas.core.frame.DataFrame'>\n",
      "DatetimeIndex: 26496 entries, 2018-03-01 00:00:00 to 2018-08-31 23:50:00\n",
      "Data columns (total 1 columns):\n",
      "num_orders    26496 non-null int64\n",
      "dtypes: int64(1)\n",
      "memory usage: 414.0 KB\n"
     ]
    }
   ],
   "source": [
    "data.info()"
   ]
  },
  {
   "cell_type": "markdown",
   "metadata": {},
   "source": [
    "В данных содержится 26496 наблюдений, записи идут за каждые 10 минут.  \n",
    "Период о котором есть информация:  \n",
    "с 2018-03-01 00:00:00   \n",
    "по 2018-08-31 23:50:00"
   ]
  },
  {
   "cell_type": "markdown",
   "metadata": {},
   "source": [
    "### Подготовка данных"
   ]
  },
  {
   "cell_type": "markdown",
   "metadata": {},
   "source": [
    "#### Проверка данных"
   ]
  },
  {
   "cell_type": "code",
   "execution_count": 21,
   "metadata": {},
   "outputs": [
    {
     "data": {
      "text/plain": [
       "0"
      ]
     },
     "execution_count": 21,
     "metadata": {},
     "output_type": "execute_result"
    }
   ],
   "source": [
    "data.index.duplicated().sum()"
   ]
  },
  {
   "cell_type": "markdown",
   "metadata": {},
   "source": [
    "Дубликатов нет."
   ]
  },
  {
   "cell_type": "code",
   "execution_count": 8,
   "metadata": {},
   "outputs": [
    {
     "data": {
      "text/plain": [
       "num_orders    0\n",
       "dtype: int64"
      ]
     },
     "execution_count": 8,
     "metadata": {},
     "output_type": "execute_result"
    }
   ],
   "source": [
    "data.isna().sum()"
   ]
  },
  {
   "cell_type": "code",
   "execution_count": 9,
   "metadata": {},
   "outputs": [
    {
     "data": {
      "text/plain": [
       "True"
      ]
     },
     "execution_count": 9,
     "metadata": {},
     "output_type": "execute_result"
    }
   ],
   "source": [
    "data.index.is_monotonic"
   ]
  },
  {
   "cell_type": "markdown",
   "metadata": {},
   "source": [
    "#### Ресемплирование временного ряда"
   ]
  },
  {
   "cell_type": "markdown",
   "metadata": {},
   "source": [
    "Поскольку наша задача – предсказать количество заказов на следующий час, ресемплирование будем проводить по одному часу."
   ]
  },
  {
   "cell_type": "code",
   "execution_count": 10,
   "metadata": {},
   "outputs": [],
   "source": [
    "data = data.resample('1H').sum()"
   ]
  },
  {
   "cell_type": "code",
   "execution_count": 11,
   "metadata": {
    "scrolled": true
   },
   "outputs": [
    {
     "data": {
      "image/png": "[encoded data removed]",
      "text/plain": [
       "<Figure size 576x360 with 1 Axes>"
      ]
     },
     "metadata": {},
     "output_type": "display_data"
    }
   ],
   "source": [
    "fig, ax = plt.subplots(figsize=(8, 5))\n",
    "sns.lineplot(data = data, ax=ax)\n",
    "\n",
    "plt.xlabel('Дата')\n",
    "plt.ylabel('Количество заказов')\n",
    "plt.title('Зависимость кол-ва заказов от времени');"
   ]
  },
  {
   "cell_type": "markdown",
   "metadata": {},
   "source": [
    "После ресемплирования график все ещё не очень репрезентативен. Дальнейший полный анализ значений мы будем проводить на следующем этапе."
   ]
  },
  {
   "cell_type": "markdown",
   "metadata": {},
   "source": [
    "### Создание признаков"
   ]
  },
  {
   "cell_type": "markdown",
   "metadata": {},
   "source": [
    "#### Календарные признаки"
   ]
  },
  {
   "cell_type": "markdown",
   "metadata": {},
   "source": [
    "Выделим календарные признаки:"
   ]
  },
  {
   "cell_type": "code",
   "execution_count": 12,
   "metadata": {},
   "outputs": [],
   "source": [
    "data['month'] = data.index.month\n",
    "data['day'] = data.index.day\n",
    "data['dayofweek'] = data.index.dayofweek\n",
    "data['hour'] = data.index.hour"
   ]
  },
  {
   "cell_type": "markdown",
   "metadata": {},
   "source": [
    "#### Lag и скользящее среднее"
   ]
  },
  {
   "cell_type": "markdown",
   "metadata": {},
   "source": [
    "Создадим функцию, которая позволяет задать длину лага и ширину окна для скользящего среднего."
   ]
  },
  {
   "cell_type": "code",
   "execution_count": 13,
   "metadata": {},
   "outputs": [],
   "source": [
    "def make_lag_n_rolling(data, max_lag, rolling_mean_size):  \n",
    "    df = data.copy()\n",
    "    \n",
    "    #здесь создаются отстающие значения\n",
    "    for lag in range(1, max_lag + 1):\n",
    "        df['lag_{}'.format(lag)] = df['num_orders'].shift(lag)\n",
    "    \n",
    "    #расчет скользящего среднего\n",
    "    df['rolling_mean'] = df['num_orders'].shift().rolling(rolling_mean_size).mean()\n",
    "    return df"
   ]
  },
  {
   "cell_type": "markdown",
   "metadata": {},
   "source": [
    "### Вывод"
   ]
  },
  {
   "cell_type": "markdown",
   "metadata": {},
   "source": [
    "На данном этапе мы полученили и обработали данные. Всего было 26496 наблюдений, записи шли каждые 10 минут.  \n",
    "Период наблюдения:  \n",
    "с 2018-03-01 по 2018-08-31\n",
    "\n",
    "1.1. Далее мы провели подготовку данных для дальнейшей работы:\n",
    "- Проверили данные на пропуски, дубликаты и монотонность.\n",
    "- Провели ресемплирование временного ряда. Поскольку наша задача – предсказать количество заказов на следующий час, ресемплирование мы проводили по одному часу.\n",
    "\n",
    "1.2. В конце мы добавили календарные признаки, а также создали функцию, которая позволяет задать длину лага и ширину окна для скользящего среднего."
   ]
  },
  {
   "cell_type": "markdown",
   "metadata": {},
   "source": [
    "## Анализ данных"
   ]
  },
  {
   "cell_type": "code",
   "execution_count": 16,
   "metadata": {},
   "outputs": [],
   "source": [
    "decomposed = seasonal_decompose(data.iloc[:, 0])"
   ]
  },
  {
   "cell_type": "code",
   "execution_count": 17,
   "metadata": {},
   "outputs": [
    {
     "data": {
      "image/png": "[encoded data removed]",
      "text/plain": [
       "<Figure size 648x288 with 1 Axes>"
      ]
     },
     "metadata": {},
     "output_type": "display_data"
    }
   ],
   "source": [
    "fig, ax = plt.subplots(figsize=(9, 4))\n",
    "sns.lineplot(data = decomposed.trend, ax=ax, legend=None)\n",
    "\n",
    "plt.title('Тренд')\n",
    "plt.ylabel('Кол-во заказов')\n",
    "plt.xlabel('Дата');"
   ]
  },
  {
   "cell_type": "markdown",
   "metadata": {},
   "source": [
    "График тренда показывает нам что количество заказов растёт со временем. Если в марте было около 60 заказов, то к концу августа их стало под 170. Единственная проблема заключается в том, что у нас нет сезонных данных о годах в целом – низвестно как будут вести себя значения с наступлением осени."
   ]
  },
  {
   "cell_type": "code",
   "execution_count": 18,
   "metadata": {},
   "outputs": [
    {
     "data": {
      "image/png": "[encoded data removed]",
      "text/plain": [
       "<Figure size 648x288 with 1 Axes>"
      ]
     },
     "metadata": {},
     "output_type": "display_data"
    }
   ],
   "source": [
    "fig, ax = plt.subplots(figsize=(9, 4))\n",
    "sns.lineplot(data = decomposed.seasonal, ax=ax, legend=None)\n",
    "\n",
    "plt.title('Сезонность')\n",
    "plt.ylabel('Кол-во заказов')\n",
    "plt.xlabel('Дата');"
   ]
  },
  {
   "cell_type": "markdown",
   "metadata": {},
   "source": [
    "Изменим масштаб:"
   ]
  },
  {
   "cell_type": "code",
   "execution_count": 19,
   "metadata": {
    "scrolled": false
   },
   "outputs": [
    {
     "data": {
      "image/png": "[encoded data removed]",
      "text/plain": [
       "<Figure size 648x288 with 1 Axes>"
      ]
     },
     "metadata": {},
     "output_type": "display_data"
    }
   ],
   "source": [
    "fig, ax = plt.subplots(figsize=(9, 4))\n",
    "sns.lineplot(data = decomposed.seasonal['2018-04-01':'2018-04-12'], ax=ax, legend=None)\n",
    "\n",
    "plt.title('Сезонность')\n",
    "plt.ylabel('Кол-во заказов')\n",
    "plt.xlabel('Дата');"
   ]
  },
  {
   "cell_type": "markdown",
   "metadata": {},
   "source": [
    "Сезонная составляющая показывает вот такой интересный рисунок. \"Провалы\" на графике скорее всего отображают ночной период, а пики – вечерний. "
   ]
  },
  {
   "cell_type": "code",
   "execution_count": 20,
   "metadata": {},
   "outputs": [
    {
     "data": {
      "image/png": "[encoded data removed]",
      "text/plain": [
       "<Figure size 648x288 with 1 Axes>"
      ]
     },
     "metadata": {},
     "output_type": "display_data"
    }
   ],
   "source": [
    "fig, ax = plt.subplots(figsize=(9, 4))\n",
    "sns.lineplot(data = decomposed.resid, ax=ax, legend=None)\n",
    "\n",
    "plt.title('Остаток декомпозиции')\n",
    "plt.ylabel('Кол-во заказов')\n",
    "plt.xlabel('Дата');"
   ]
  },
  {
   "cell_type": "markdown",
   "metadata": {},
   "source": [
    "Как видим, с увеличением количества заказов увеличивается и разброс значений остатков. "
   ]
  },
  {
   "cell_type": "markdown",
   "metadata": {},
   "source": [
    "### Распределение целевого признака"
   ]
  },
  {
   "cell_type": "code",
   "execution_count": 22,
   "metadata": {},
   "outputs": [
    {
     "data": {
      "text/plain": [
       "251"
      ]
     },
     "execution_count": 22,
     "metadata": {},
     "output_type": "execute_result"
    }
   ],
   "source": [
    "data['num_orders'].nunique()"
   ]
  },
  {
   "cell_type": "code",
   "execution_count": 24,
   "metadata": {},
   "outputs": [
    {
     "data": {
      "image/png": "[encoded data removed]",
      "text/plain": [
       "<Figure size 432x288 with 1 Axes>"
      ]
     },
     "metadata": {},
     "output_type": "display_data"
    }
   ],
   "source": [
    "data['num_orders'].plot(kind = 'hist', bins = 25);\n",
    "plt.xlabel('Количество заказов')\n",
    "plt.ylabel('Частота')\n",
    "plt.title('Распределение целевого признака');"
   ]
  },
  {
   "cell_type": "markdown",
   "metadata": {},
   "source": [
    "Распределение похоже на нормальное – видим пик значений около 60 заказов, смещение графика влево и небольшой хвост справа."
   ]
  },
  {
   "cell_type": "markdown",
   "metadata": {},
   "source": [
    "### Вывод"
   ]
  },
  {
   "cell_type": "markdown",
   "metadata": {},
   "source": [
    "На данном этапе мы проводили исследовательский анализ данных.\n",
    "\n",
    "Временной ряд был разобран на составляющие:\n",
    "\n",
    "- Тренд\n",
    "\n",
    "График тренда показывал нам, что количество заказов растёт со временем. Если в марте было около 60 заказов, то к концу августа их стало под 170. Единственная проблема заключается в том, что у нас нет сезонных данных о годах в целом – неизвестно как будут вести себя значения с наступлением осени.\n",
    "\n",
    "- Сезонность\n",
    "\n",
    "Сезонная составляющая отобразила рисунок спроса на такси в рамках 1-го дня. \"Провалы\" на графике скорее всего отображали ночной период, а пики – вечерний.\n",
    "\n",
    "- Остаток декомпозиции\n",
    "\n",
    "Мы наблюдали что с увеличением количества заказов увеличивался и разброс значений остатков.\n",
    "\n",
    "В конце мы построили распределение целевого признака.\n",
    "Его распределение было похоже на нормальное – с пиком значений около 60 заказов, смещением графика влево и небольшим хвостом значений справа."
   ]
  },
  {
   "cell_type": "markdown",
   "metadata": {},
   "source": [
    "## Обучение моделей"
   ]
  },
  {
   "cell_type": "code",
   "execution_count": 29,
   "metadata": {},
   "outputs": [],
   "source": [
    "#расчет RMSE\n",
    "def rmse(validation, predictions):\n",
    "    return mse(validation, predictions) ** 0.5"
   ]
  },
  {
   "cell_type": "markdown",
   "metadata": {},
   "source": [
    "Процесс обучения:  \n",
    "Тестовую выборку будем делать размером 10% от исходных данных.\n",
    "Отставание будем задавать до 10и дней.  \n",
    "Для кросс-валидации будем использовать TimeSeriesSplit (n_splits = 5)  \n",
    "Далее рассмотрим работу различных моделей в этой задаче и выберем наилучшую."
   ]
  },
  {
   "cell_type": "markdown",
   "metadata": {},
   "source": [
    "### LinearRegression"
   ]
  },
  {
   "cell_type": "code",
   "execution_count": 59,
   "metadata": {},
   "outputs": [
    {
     "name": "stderr",
     "output_type": "stream",
     "text": [
      "100%|██████████| 11/11 [03:14<00:00, 17.70s/it]"
     ]
    },
    {
     "name": "stdout",
     "output_type": "stream",
     "text": [
      "best_params: {'fit_intercept': False, 'normalize': True}\n",
      "best_score: 22.4567935835297\n",
      "best_lag: 168\n",
      "best_window_size: 12\n",
      "CPU times: user 1min 25s, sys: 1min 49s, total: 3min 14s\n",
      "Wall time: 3min 14s\n"
     ]
    },
    {
     "name": "stderr",
     "output_type": "stream",
     "text": [
      "\n"
     ]
    }
   ],
   "source": [
    "%%time\n",
    "#функция для визуализации результатов обучения\n",
    "def rmse_lag_plot(lag_row, best_score_4_lag):\n",
    "    g = plt.plot(lag_row, \n",
    "         best_score_4_lag,  \n",
    "         f'#DC143C'        \n",
    "         )     \n",
    "\n",
    "    plt.xlabel('lag')\n",
    "    plt.ylabel('rsme')\n",
    "    plt.title(f\"Зависимость rsme от величины lag-а (часы)\")\n",
    "    plt.show()\n",
    "\n",
    "\n",
    "best_params = {}\n",
    "best_score = 100\n",
    "best_lag = 0\n",
    "best_window_size = 0\n",
    "\n",
    "lag_row = []\n",
    "best_score_4_lag = []\n",
    "for lag in tqdm(range(0, 241, 24)):\n",
    "    for window_size in range(12, 13, 1):\n",
    "        #создадим df для предсказания\n",
    "        meta_data = make_lag_n_rolling(data, lag, window_size)\n",
    "        \n",
    "        #зададим выборки\n",
    "        train, test = train_test_split(meta_data, shuffle=False, test_size=0.1)\n",
    "        train = train.dropna()\n",
    "        \n",
    "        train_features = train.drop(['num_orders'], axis=1)\n",
    "        train_target = train['num_orders']\n",
    "       \n",
    "        #инициируем модель\n",
    "        model = LinearRegression()\n",
    "\n",
    "        parameters = {'fit_intercept': [True, False],\n",
    "                      'normalize':[True, False] \n",
    "                     }\n",
    "\n",
    "        tscv = TimeSeriesSplit(n_splits=5)\n",
    "\n",
    "        gsearch = GridSearchCV(model, parameters, cv=tscv, n_jobs = -1, \n",
    "                              scoring = make_scorer(rmse, greater_is_better=False), \n",
    "                              verbose = 0)\n",
    "\n",
    "        gsearch.fit(train_features, train_target)\n",
    "        \n",
    "        #сохраним результат\n",
    "        params = gsearch.best_params_\n",
    "        score = np.abs(gsearch.best_score_)\n",
    "        \n",
    "        if score < best_score:\n",
    "            best_params = params\n",
    "            best_score = score\n",
    "            best_lag = lag\n",
    "            best_window_size = window_size\n",
    "            \n",
    "    #добавим результат на график\n",
    "    lag_row.append(lag)\n",
    "    best_score_4_lag.append(score)\n",
    "   \n",
    "\n",
    "print('best_params:', best_params)\n",
    "print('best_score:', best_score)\n",
    "print('best_lag:', best_lag)\n",
    "print('best_window_size:', best_window_size)"
   ]
  },
  {
   "cell_type": "code",
   "execution_count": 60,
   "metadata": {},
   "outputs": [
    {
     "data": {
      "image/png": "[encoded data removed]",
      "text/plain": [
       "<Figure size 432x288 with 1 Axes>"
      ]
     },
     "metadata": {},
     "output_type": "display_data"
    }
   ],
   "source": [
    "rmse_lag_plot(lag_row, best_score_4_lag)"
   ]
  },
  {
   "cell_type": "markdown",
   "metadata": {},
   "source": [
    "На графике отображена зависимость RMSE от величины лага, который мы создаем для анализа. Как мы можем наблюдать, после значения в 72 часа rmse начинает колебаться в пределах 24 - 22, поэтому мы ограничемся отставанием в 168 часов.\n",
    "\n",
    "    Лучший результат на данном этапе:\n",
    "    best_params: {'fit_intercept': False, 'normalize': True}  \n",
    "    best_score: 22.45\n",
    "    best_lag: 168  \n",
    "    best_window_size: 12  \n",
    "    Wall time: 3min 14s\n",
    "\n",
    "Давайте попробуем добавить регуляризацию."
   ]
  },
  {
   "cell_type": "markdown",
   "metadata": {},
   "source": [
    "### Ridge\n",
    "\n",
    "Добавляя регуляризацию в нашу модель, возникает вопрос: какую регуляризацию использовать?\n",
    "\n",
    "Лассо имеет тенденцию преуспевать, если имеется небольшое количество значимых параметров, а значимость остальных близка к нулю (например, когда только несколько предикторов действительно влияют на предсказание). Ридж хорошо работает, если есть много значимых параметров примерно одного и того же веса (например, когда большинство предикторов влияет на предсказание).\n",
    "(источник: https://www.datacamp.com/community/tutorials/tutorial-ridge-lasso-elastic-net)\n",
    "\n",
    "Поскольку все наши признаки созданы из \"одного\", скорее всего значимость признаков будет распределена между всеми более-менее равномерно. Таким образом нам лучше использовать L2 (Ridge) регуляризацию."
   ]
  },
  {
   "cell_type": "code",
   "execution_count": 61,
   "metadata": {},
   "outputs": [
    {
     "name": "stdout",
     "output_type": "stream",
     "text": [
      "Fitting 5 folds for each of 40 candidates, totalling 200 fits\n",
      "best_params: {'alpha': 0.21000000000000002, 'fit_intercept': True, 'normalize': True}\n",
      "best_score: 22.136580626859676\n",
      "CPU times: user 30.5 s, sys: 41.6 s, total: 1min 12s\n",
      "Wall time: 1min 12s\n"
     ]
    }
   ],
   "source": [
    "%%time\n",
    "lag = 168\n",
    "window_size = 12\n",
    "\n",
    "#создадим df для предсказания\n",
    "meta_data = make_lag_n_rolling(data, lag, window_size)\n",
    "        \n",
    "#зададим выборки\n",
    "train, test = train_test_split(meta_data, shuffle=False, test_size=0.1)\n",
    "train = train.dropna()\n",
    "        \n",
    "train_features = train.drop(['num_orders'], axis=1)\n",
    "train_target = train['num_orders']\n",
    "       \n",
    "#инициируем модель\n",
    "model = Ridge()\n",
    "\n",
    "parameters = {'alpha': np.arange(0.01, 1, 0.1),\n",
    "            'fit_intercept': [True, False],\n",
    "            'normalize':[True, False] \n",
    "            }\n",
    "\n",
    "tscv = TimeSeriesSplit(n_splits=5)\n",
    "\n",
    "gsearch = GridSearchCV(model, parameters, cv=tscv, n_jobs = -1, \n",
    "                              scoring = make_scorer(rmse, greater_is_better=False), \n",
    "                              verbose = 1)\n",
    "\n",
    "gsearch.fit(train_features, train_target)\n",
    "        \n",
    "#сохраним результат\n",
    "params = gsearch.best_params_\n",
    "score = np.abs(gsearch.best_score_)        \n",
    "            \n",
    "print('best_params:', params)\n",
    "print('best_score:', score)"
   ]
  },
  {
   "cell_type": "markdown",
   "metadata": {},
   "source": [
    "Регуляризация помогла немного улучшить результат: RMSE на обучающей выборке уменьшилось до 22.13.\n",
    "\n",
    "    Лучший результат на данном этапе:\n",
    "    best_params: {'alpha': 0.21, 'fit_intercept': True, 'normalize': True}\n",
    "    best_score: 22.13\n",
    "    Wall time: 1min 12s"
   ]
  },
  {
   "cell_type": "markdown",
   "metadata": {},
   "source": [
    "### RandomForestRegressor"
   ]
  },
  {
   "cell_type": "markdown",
   "metadata": {},
   "source": [
    "Посмотрим как показывает себя модель Случайного леса в этой задаче. "
   ]
  },
  {
   "cell_type": "code",
   "execution_count": 66,
   "metadata": {},
   "outputs": [
    {
     "name": "stdout",
     "output_type": "stream",
     "text": [
      "Fitting 5 folds for each of 9 candidates, totalling 45 fits\n",
      "best_params: {'max_depth': 11, 'n_estimators': 50}\n",
      "best_score: 22.956359114944117\n",
      "CPU times: user 2min 15s, sys: 0 ns, total: 2min 15s\n",
      "Wall time: 2min 18s\n"
     ]
    }
   ],
   "source": [
    "%%time \n",
    "       \n",
    "#инициируем модель\n",
    "model = RandomForestRegressor(random_state = RS)\n",
    "\n",
    "parameters = {'n_estimators': range (10, 51, 20),\n",
    "              'max_depth': range (1, 12, 5),\n",
    "              }\n",
    "\n",
    "tscv = TimeSeriesSplit(n_splits=5)\n",
    "\n",
    "gsearch = GridSearchCV(model, parameters, cv=tscv, n_jobs = -1, \n",
    "                              scoring = make_scorer(rmse, greater_is_better=False), \n",
    "                              verbose = 1)\n",
    "\n",
    "gsearch.fit(train_features, train_target)\n",
    "        \n",
    "#сохраним результат\n",
    "params = gsearch.best_params_\n",
    "score = np.abs(gsearch.best_score_)        \n",
    "            \n",
    "print('best_params:', params)\n",
    "print('best_score:', score)"
   ]
  },
  {
   "cell_type": "markdown",
   "metadata": {},
   "source": [
    "Результат немного, но хуже чем у предыдущих моделей."
   ]
  },
  {
   "cell_type": "markdown",
   "metadata": {},
   "source": [
    "### LGBM"
   ]
  },
  {
   "cell_type": "markdown",
   "metadata": {},
   "source": [
    "Попробуем использовать Градиентный бустинг из модуля LightGBM."
   ]
  },
  {
   "cell_type": "code",
   "execution_count": 71,
   "metadata": {},
   "outputs": [
    {
     "name": "stdout",
     "output_type": "stream",
     "text": [
      "Fitting 5 folds for each of 1 candidates, totalling 5 fits\n"
     ]
    },
    {
     "name": "stderr",
     "output_type": "stream",
     "text": [
      "/opt/conda/lib/python3.7/site-packages/lightgbm/engine.py:148: UserWarning: Found `num_round` in params. Will use it instead of argument\n",
      "  warnings.warn(\"Found `{}` in params. Will use it instead of argument\".format(alias))\n",
      "/opt/conda/lib/python3.7/site-packages/lightgbm/engine.py:148: UserWarning: Found `num_round` in params. Will use it instead of argument\n",
      "  warnings.warn(\"Found `{}` in params. Will use it instead of argument\".format(alias))\n",
      "/opt/conda/lib/python3.7/site-packages/lightgbm/engine.py:148: UserWarning: Found `num_round` in params. Will use it instead of argument\n",
      "  warnings.warn(\"Found `{}` in params. Will use it instead of argument\".format(alias))\n",
      "/opt/conda/lib/python3.7/site-packages/lightgbm/engine.py:148: UserWarning: Found `num_round` in params. Will use it instead of argument\n",
      "  warnings.warn(\"Found `{}` in params. Will use it instead of argument\".format(alias))\n",
      "/opt/conda/lib/python3.7/site-packages/lightgbm/engine.py:148: UserWarning: Found `num_round` in params. Will use it instead of argument\n",
      "  warnings.warn(\"Found `{}` in params. Will use it instead of argument\".format(alias))\n",
      "/opt/conda/lib/python3.7/site-packages/lightgbm/engine.py:148: UserWarning: Found `num_round` in params. Will use it instead of argument\n",
      "  warnings.warn(\"Found `{}` in params. Will use it instead of argument\".format(alias))\n"
     ]
    },
    {
     "name": "stdout",
     "output_type": "stream",
     "text": [
      "best_params: {}\n",
      "best_score: 22.956359114944117\n",
      "CPU times: user 6min 30s, sys: 2.06 s, total: 6min 32s\n",
      "Wall time: 6min 34s\n"
     ]
    }
   ],
   "source": [
    "%%time\n",
    "model = lgb.LGBMRegressor(objective='regression', num_round = 100, random_state=RS)\n",
    "\n",
    "grid_params = {\n",
    "             #'learning_rate': [0.005, 0.01], #рейт обучения\n",
    "             #'num_leaves': range(10, 71, 20),  #макс. количество листьев\n",
    "             #'min_child_samples': [10, 20, 30], #минимальный размер для нового листа\n",
    "             #'max_depth': range(1, 21, 5), #максимальная глубина дерева\n",
    "             }\n",
    "        \n",
    "tscv = TimeSeriesSplit(n_splits=5)   \n",
    "\n",
    "grid = RandomizedSearchCV(model, grid_params, \n",
    "                    cv=tscv, n_jobs = -1, \n",
    "                    n_iter=1,\n",
    "                    scoring = make_scorer(rmse, greater_is_better=False), \n",
    "                    verbose=1)\n",
    "\n",
    "grid.fit(train_features, train_target)\n",
    "\n",
    "print('best_params:', grid.best_params_)\n",
    "print('best_score:', np.abs(gsearch.best_score_))"
   ]
  },
  {
   "cell_type": "markdown",
   "metadata": {},
   "source": [
    "Модель обучается очень долго. 6 минут на обучение с кросс-валидацией без перебора гиперпараметров. Результат такой же как и у модели случайного леса."
   ]
  },
  {
   "cell_type": "markdown",
   "metadata": {},
   "source": [
    "### Вывод"
   ]
  },
  {
   "cell_type": "markdown",
   "metadata": {},
   "source": [
    "Этот этап был посвящен обучению моделей.\n",
    "\n",
    "Процесс обучения был построен следующим образом: тестовую выборку мы задавали размером 10% от исходных данных. Отставание (lag) мы задавали от 0 до 10-и дней. Для кросс-валидации мы использовали TimeSeriesSplit()\n",
    "\n",
    "3.1. В начале мы рассмотрели работу модели Линейной регрессии.  \n",
    "\n",
    "Мы получили график зависимости RMSE от величины лага, который мы создаем для анализа. После значения в 72 часа rmse начинает колебаться в пределах 24 - 22, поэтому решили остановиться на отставании в 168 часов.\n",
    "Лучший результат на данном этапе: rmse = 22.45.\n",
    " \n",
    "3.2. Ridge  \n",
    "\n",
    "Далее мы решили добавить регуляризацию в нашу модель и выбрали тип регуляцизации наиболее подходящий для нашей задачи.\n",
    "Поскольку все наши признаки созданы из \"одного\", то скорее всего значимость признаков будет распределена между всеми более-менее равномерно, а в этой ситуации L2 должна показывать себя лучше. Таким образом мы пришли к выводу, что лучше использовать L2 (Ridge) регуляризацию.\n",
    "\n",
    "Регуляризация помогла немного улучшить результат: RMSE на обучающей выборке уменьшилось до 22.13.\n",
    "\n",
    "3.3. RandomForestRegressor  \n",
    "\n",
    "Потом мы решили рассмотреть как показывает себя модель Случайного леса в этой задаче.  \n",
    "Лучший результат на данном этапе: rmse = 22.95  \n",
    "Результат был немного, но хуже чем у предыдущих моделей.\n",
    "\n",
    "3.4. LGBM\n",
    "\n",
    "Далее мы попробовали использовать Градиентный бустинг из модуля LightGBM.\n",
    "Лучший результат на данном этапе: 22.95\n",
    "Модель обучалась очень долго. 6 минут на обучение с кросс-валидацией без перебора гиперпараметров. Результат такой же как и у модели случайного леса."
   ]
  },
  {
   "cell_type": "markdown",
   "metadata": {},
   "source": [
    "## Тестирование"
   ]
  },
  {
   "cell_type": "markdown",
   "metadata": {},
   "source": [
    "Тестируем модель Ridge регресии, поскольку она показала лучшие результаты."
   ]
  },
  {
   "cell_type": "code",
   "execution_count": 30,
   "metadata": {},
   "outputs": [],
   "source": [
    "meta_data = make_lag_n_rolling(data, 168, 12)"
   ]
  },
  {
   "cell_type": "code",
   "execution_count": 31,
   "metadata": {},
   "outputs": [],
   "source": [
    "train, test = train_test_split(meta_data, shuffle=False, test_size=0.1)\n",
    "train = train.dropna()\n",
    "\n",
    "train_features = train.drop(['num_orders'], axis=1)\n",
    "train_target = train['num_orders']\n",
    "\n",
    "test_features = test.drop(['num_orders'], axis=1)\n",
    "test_target = test['num_orders']"
   ]
  },
  {
   "cell_type": "code",
   "execution_count": 32,
   "metadata": {},
   "outputs": [
    {
     "name": "stdout",
     "output_type": "stream",
     "text": [
      "RMSE на тестовой выборке: 35.47\n",
      "МАЕ на тестовой выборке: 26.10\n",
      "CPU times: user 101 ms, sys: 120 ms, total: 222 ms\n",
      "Wall time: 146 ms\n"
     ]
    }
   ],
   "source": [
    "%%time\n",
    "model = Ridge(alpha = 0.21, fit_intercept= True, normalize= True)\n",
    "\n",
    "model.fit(train_features, train_target)\n",
    "precictions = model.predict(test_features)\n",
    "\n",
    "test_rmse = rmse(test_target, precictions)\n",
    "test_mae = mae(test_target, precictions)\n",
    "print('RMSE на тестовой выборке: {:.2f}'.format(test_rmse))\n",
    "print('МАЕ на тестовой выборке: {:.2f}'.format(test_mae))"
   ]
  },
  {
   "cell_type": "markdown",
   "metadata": {},
   "source": [
    "RMSE на тестовой выборке: 35.47. Изначальной цели удалось достичь.  \n",
    "МАЕ в 26.10 говорит о том, что наша модель в среднем ошибается на 26 заказов. В целом это неплохой результат: можно будет предсказывать необходимое количество таксистов с точностью около 15% в пиковое время заказов (когда их число достигает 200)."
   ]
  },
  {
   "cell_type": "markdown",
   "metadata": {},
   "source": [
    "### Проверка модели на адеватность"
   ]
  },
  {
   "cell_type": "code",
   "execution_count": 82,
   "metadata": {},
   "outputs": [
    {
     "name": "stdout",
     "output_type": "stream",
     "text": [
      "RMSE dummmy модели: 86.41\n",
      "MAE dummmy модели: 70.05\n"
     ]
    }
   ],
   "source": [
    "model = DummyRegressor(strategy = 'median')\n",
    "model.fit(train_features, train_target)\n",
    "dummy_predictions = model.predict(test_features)\n",
    "\n",
    "dummy_rmse = rmse(test_target, dummy_predictions)\n",
    "dummy_mae = mae(test_target, dummy_predictions)\n",
    "print('RMSE dummmy модели: {:.2f}'.format(dummy_rmse))\n",
    "print('MAE dummmy модели: {:.2f}'.format(dummy_mae))"
   ]
  },
  {
   "cell_type": "markdown",
   "metadata": {},
   "source": [
    "Итоговая RMSE dummy модели, не использующей машинное обучение, составила 86.41. Как видим, наша модель предсказывает гораздо точнее: её RMSE на тестовой выборке составляло 35.47."
   ]
  },
  {
   "cell_type": "markdown",
   "metadata": {},
   "source": [
    "### Вывод"
   ]
  },
  {
   "cell_type": "markdown",
   "metadata": {},
   "source": [
    "На данном этапе мы провели анализ лучшей модели.\n",
    "\n",
    "Мы протестировали модель Ridge регресии, поскольку она показала лучшие результаты.  \n",
    "Также, для лучшей интерпретируемости оценки, мы решили добавить расчет MAE.\n",
    "\n",
    "    RMSE на тестовой выборке: 35.47\n",
    "    МАЕ на тестовой выборке: 26.10\n",
    "    \n",
    "Изначальной цели в RMSE менее 48 нам удалось достичь.\n",
    "\n",
    "МАЕ в 26.10 говорит нам о том, что наша модель в среднем ошибается на 26 заказов. В целом это неплохой результат: можно будет предсказывать необходимое количество таксистов с точностью около 15% в пиковое время заказов (когда их число достигает 200).\n",
    "\n",
    "В конце мы проверили модель на адеватность.\n",
    "\n",
    "Итоговая RMSE dummy модели, не использующей машинное обучение, составила 86.41. Как видим, наша модель предсказывает гораздо точнее: её RMSE на тестовой выборке составляло 35.47."
   ]
  },
  {
   "cell_type": "markdown",
   "metadata": {},
   "source": [
    "## Общий вывод"
   ]
  },
  {
   "cell_type": "markdown",
   "metadata": {},
   "source": [
    "**1.** На первом этапе мы получили и обработали данные. Всего было 26496 наблюдений, записи шли каждые 10 минут.  \n",
    "Период наблюдения: (с 2018-03-01 по 2018-08-31)\n",
    "\n",
    "1.1. Была проведена подготовка данных для дальнейшей работы:\n",
    "- Проверили данные на пропуски, дубликаты и монотонность.\n",
    "- Провели ресемплирование временного ряда. Поскольку наша задача – предсказать количество заказов на следующий час, ресемплирование мы проводили по одному часу.\n",
    "\n",
    "1.2. В конце мы добавили календарные признаки, а также создали функцию, которая позволяет задать длину лага и ширину окна для скользящего среднего."
   ]
  },
  {
   "cell_type": "markdown",
   "metadata": {},
   "source": [
    "**2.** На данном этапе мы проводили исследовательский анализ данных.\n",
    "\n",
    "Временной ряд был разобран на составляющие:\n",
    "\n",
    "- `Тренд` График тренда показывал нам, что количество заказов растёт со временем. Если в марте было около 60 заказов, то к концу августа их стало под 170. Единственная проблема заключается в том, что у нас нет сезонных данных о годах в целом – неизвестно как будут вести себя значения с наступлением осени.\n",
    "\n",
    "- `Сезонность` Сезонная составляющая отобразила рисунок спроса на такси в рамках 1-го дня. \"Провалы\" на графике скорее всего отображали ночной период, а пики – вечерний.\n",
    "\n",
    "- `Остаток декомпозиции` Мы наблюдали что с увеличением количества заказов увеличивался и разброс значений остатков.\n",
    "\n",
    "В конце мы построили распределение целевого признака.\n",
    "Его распределение было похоже на нормальное – с пиком значений около 60 заказов, смещением графика влево и небольшим хвостом значений справа."
   ]
  },
  {
   "cell_type": "markdown",
   "metadata": {},
   "source": [
    "**3.** Третий этап был посвящен обучению моделей.\n",
    "\n",
    "Процесс обучения был построен следующим образом: тестовую выборку мы задавали размером 10% от исходных данных. Отставание (lag) мы задавали от 0 до 10-и дней. Для кросс-валидации мы использовали TimeSeriesSplit()\n",
    "\n",
    "3.1. В начале мы рассмотрели работу модели Линейной регрессии.  \n",
    "\n",
    "Мы получили график зависимости RMSE от величины лага, который мы создаем для анализа. После значения в 72 часа rmse начинает колебаться в пределах 24 - 22, поэтому решили остановиться на отставании в 168 часов.\n",
    "Лучший результат на данном этапе: rmse = 22.45.\n",
    " \n",
    "3.2. Ridge  \n",
    "\n",
    "Далее мы решили добавить регуляризацию в нашу модель и выбрали тип регуляцизации наиболее подходящий для нашей задачи.\n",
    "Поскольку все наши признаки созданы из \"одного\", то скорее всего значимость признаков будет распределена между всеми более-менее равномерно, а в этой ситуации L2 должна показывать себя лучше. Таким образом мы пришли к выводу, что лучше использовать L2 (Ridge) регуляризацию.\n",
    "\n",
    "Регуляризация помогла немного улучшить результат: RMSE на обучающей выборке уменьшилось до 22.13.\n",
    "\n",
    "3.3. RandomForestRegressor  \n",
    "\n",
    "Потом мы решили рассмотреть как показывает себя модель Случайного леса в этой задаче.  \n",
    "Лучший результат на данном этапе: rmse = 22.95  \n",
    "Результат был немного, но хуже чем у предыдущих моделей.\n",
    "\n",
    "3.4. LGBM\n",
    "\n",
    "Далее мы попробовали использовать Градиентный бустинг из модуля LightGBM.\n",
    "Лучший результат на данном этапе: 22.95\n",
    "Модель обучалась очень долго. 6 минут на обучение с кросс-валидацией без перебора гиперпараметров. Результат такой же как и у модели случайного леса.\n",
    "\n",
    "Итоговая таблица результатов:\n",
    "\n",
    "Модель | Лучшая **RMSE**\n",
    ":---|---\n",
    "**Линейная регрессия** | 22.45 \n",
    "**Ridge** | 22.13\n",
    "**Случайный лес** | 22.95\n",
    "**LightGBM** | 22.95 "
   ]
  },
  {
   "cell_type": "markdown",
   "metadata": {},
   "source": [
    "**4.** На последнем этапе мы провели анализ лучшей модели.\n",
    "\n",
    "Мы протестировали модель Ridge регрессии, поскольку она показала лучшие результаты.  \n",
    "Также, для лучшей интерпретируемости оценки, мы решили добавить расчет MAE.\n",
    "\n",
    "    RMSE на тестовой выборке: 35.47\n",
    "    МАЕ на тестовой выборке: 26.10\n",
    "    \n",
    "Изначальной цели в RMSE менее 48 нам удалось достичь.\n",
    "\n",
    "МАЕ в 26.10 говорит нам о том, что наша модель в среднем ошибается на 26 заказов. В целом это неплохой результат: можно будет предсказывать необходимое количество таксистов с точностью около 15% в пиковое время заказов (когда их число достигает 200).\n",
    "\n",
    "В конце мы проверили модель на адекватность.\n",
    "\n",
    "Итоговая RMSE dummy модели, не использующей машинное обучение, составила 86.41. Как видим, наша модель предсказывает гораздо точнее: её RMSE на тестовой выборке составляло 35.47."
   ]
  }
 ],
 "metadata": {
  "kernelspec": {
   "display_name": "Python 3",
   "language": "python",
   "name": "python3"
  },
  "language_info": {
   "codemirror_mode": {
    "name": "ipython",
    "version": 3
   },
   "file_extension": ".py",
   "mimetype": "text/x-python",
   "name": "python",
   "nbconvert_exporter": "python",
   "pygments_lexer": "ipython3",
   "version": "3.7.8"
  },
  "toc": {
   "base_numbering": 1,
   "nav_menu": {},
   "number_sections": true,
   "sideBar": true,
   "skip_h1_title": true,
   "title_cell": "Содержание",
   "title_sidebar": "Contents",
   "toc_cell": true,
   "toc_position": {},
   "toc_section_display": true,
   "toc_window_display": false
  }
 },
 "nbformat": 4,
 "nbformat_minor": 2
}
