{
 "cells": [
  {
   "cell_type": "markdown",
   "metadata": {},
   "source": [
    "# Проект 5. Рекомендация тарифов"
   ]
  },
  {
   "cell_type": "markdown",
   "metadata": {},
   "source": [
    "##### Вводная: <a class=\"tocSkip\">"
   ]
  },
  {
   "cell_type": "markdown",
   "metadata": {},
   "source": [
    "Вы продолжаете работать в компании сотового оператора «ВодаФон». Отдел аналитики выяснил, что многие клиенты используют невыгодные для компании устаревшие тарифы. Сегодня поступила задача начать переводить пользователей на новые тарифы, первая стадия – проанализировать поведение клиента и на его основе предложить рекомендуемый тариф.\n",
    "\n",
    "Для построения рекомендательной системы вам предоставлены уже обработанные данные (из `Проекта 3. Определение перспективного тарифа для телеком компании`) о поведении клиентов, которые уже пользуются тарифами «Смарт» и «Ультра».\n",
    "\n",
    "На данном этапе руководство хочет видеть как можно большее значение *accuracy* (доля правильных ответов), она должна быть по крайней мере 0.75. "
   ]
  },
  {
   "cell_type": "markdown",
   "metadata": {},
   "source": [
    "### Цель проекта <a class=\"tocSkip\">\n",
    "    \n",
    "    Нужно построить модель для задачи классификации, которая выберет подходящий тариф. Доля правильных ответов должна быть по крайней мере 0.75."
   ]
  },
  {
   "cell_type": "markdown",
   "metadata": {},
   "source": [
    "### Описание данных <a class=\"tocSkip\">\n"
   ]
  },
  {
   "cell_type": "markdown",
   "metadata": {},
   "source": [
    "Каждый объект в наборе данных — это информация о поведении одного пользователя за месяц. Известно:\n",
    "\n",
    "Обозначение | Признак\n",
    ":---|:---\n",
    "сalls | количество звонков,\n",
    "minutes | суммарная длительность звонков в минутах,\n",
    "messages | количество sms-сообщений,\n",
    "mb_used | израсходованный интернет-трафик в Мб,\n",
    "is_ultra | каким тарифом пользовался в течение месяца («Ультра» — 1, «Смарт» — 0)."
   ]
  },
  {
   "cell_type": "markdown",
   "metadata": {},
   "source": [
    "### План по выполнению проекта: <a class=\"tocSkip\">\n"
   ]
  },
  {
   "cell_type": "markdown",
   "metadata": {},
   "source": [
    "Шаг 1. [Открытие файла с данными и изучение общей информации](#step1)\n",
    "\n",
    "Шаг 2. [Разделение исходных данных на обучающую, валидационную и тестовую выборки](#step2)\n",
    "\n",
    "Шаг 3. [Применение моделей предсказания](#step3)\n",
    "   - Исследование качества разных моделей в зависимости от их гиперпараметртов. \n",
    "   - Промежуточные выводы исследования.\n",
    "    \n",
    "Шаг 4. [Проверка качества модели на тестовой выборке](#step4)\n",
    "\n",
    "Шаг 5. [Проверка моделей на адекватность](#step5)\n",
    "\n",
    "Шаг 6. [Общий вывод и рекомендации](#step6)"
   ]
  },
  {
   "cell_type": "markdown",
   "metadata": {},
   "source": [
    "## 0. Установка библиотек <a class=\"tocSkip\">"
   ]
  },
  {
   "cell_type": "code",
   "execution_count": 1,
   "metadata": {},
   "outputs": [
    {
     "name": "stdout",
     "output_type": "stream",
     "text": [
      "Note: you may need to restart the kernel to use updated packages.\n"
     ]
    }
   ],
   "source": [
    "%pip install seaborn>=0.11 -U\n",
    "\n",
    "import pandas as pd\n",
    "import numpy as np\n",
    "from sklearn.tree import DecisionTreeClassifier\n",
    "from sklearn.ensemble import RandomForestClassifier\n",
    "from sklearn.linear_model import LogisticRegression\n",
    "from sklearn.model_selection import train_test_split\n",
    "from sklearn.metrics import accuracy_score \n",
    "from sklearn.preprocessing import MinMaxScaler\n",
    "from tqdm import tqdm\n",
    "\n",
    "import matplotlib.pyplot as plt\n",
    "import seaborn as sns\n",
    "sns.set_style(\"darkgrid\")"
   ]
  },
  {
   "cell_type": "code",
   "execution_count": 2,
   "metadata": {},
   "outputs": [],
   "source": [
    "#зададим ramdom seed\n",
    "RS = 2021"
   ]
  },
  {
   "cell_type": "markdown",
   "metadata": {},
   "source": [
    "## Открытие файла с данными и изучение общей информации <a id='step1'></a>"
   ]
  },
  {
   "cell_type": "code",
   "execution_count": 3,
   "metadata": {},
   "outputs": [
    {
     "data": {
      "text/html": [
       "<div>\n",
       "<style scoped>\n",
       "    .dataframe tbody tr th:only-of-type {\n",
       "        vertical-align: middle;\n",
       "    }\n",
       "\n",
       "    .dataframe tbody tr th {\n",
       "        vertical-align: top;\n",
       "    }\n",
       "\n",
       "    .dataframe thead th {\n",
       "        text-align: right;\n",
       "    }\n",
       "</style>\n",
       "<table border=\"1\" class=\"dataframe\">\n",
       "  <thead>\n",
       "    <tr style=\"text-align: right;\">\n",
       "      <th></th>\n",
       "      <th>calls</th>\n",
       "      <th>minutes</th>\n",
       "      <th>messages</th>\n",
       "      <th>mb_used</th>\n",
       "      <th>is_ultra</th>\n",
       "    </tr>\n",
       "  </thead>\n",
       "  <tbody>\n",
       "    <tr>\n",
       "      <td>0</td>\n",
       "      <td>40.0</td>\n",
       "      <td>311.90</td>\n",
       "      <td>83.0</td>\n",
       "      <td>19915.42</td>\n",
       "      <td>0</td>\n",
       "    </tr>\n",
       "    <tr>\n",
       "      <td>1</td>\n",
       "      <td>85.0</td>\n",
       "      <td>516.75</td>\n",
       "      <td>56.0</td>\n",
       "      <td>22696.96</td>\n",
       "      <td>0</td>\n",
       "    </tr>\n",
       "    <tr>\n",
       "      <td>2</td>\n",
       "      <td>77.0</td>\n",
       "      <td>467.66</td>\n",
       "      <td>86.0</td>\n",
       "      <td>21060.45</td>\n",
       "      <td>0</td>\n",
       "    </tr>\n",
       "    <tr>\n",
       "      <td>3</td>\n",
       "      <td>106.0</td>\n",
       "      <td>745.53</td>\n",
       "      <td>81.0</td>\n",
       "      <td>8437.39</td>\n",
       "      <td>1</td>\n",
       "    </tr>\n",
       "    <tr>\n",
       "      <td>4</td>\n",
       "      <td>66.0</td>\n",
       "      <td>418.74</td>\n",
       "      <td>1.0</td>\n",
       "      <td>14502.75</td>\n",
       "      <td>0</td>\n",
       "    </tr>\n",
       "  </tbody>\n",
       "</table>\n",
       "</div>"
      ],
      "text/plain": [
       "   calls  minutes  messages   mb_used  is_ultra\n",
       "0   40.0   311.90      83.0  19915.42         0\n",
       "1   85.0   516.75      56.0  22696.96         0\n",
       "2   77.0   467.66      86.0  21060.45         0\n",
       "3  106.0   745.53      81.0   8437.39         1\n",
       "4   66.0   418.74       1.0  14502.75         0"
      ]
     },
     "execution_count": 3,
     "metadata": {},
     "output_type": "execute_result"
    }
   ],
   "source": [
    "data = pd.read_csv('https://code.s3.yandex.net/datasets/users_behavior.csv')\n",
    "data.head()"
   ]
  },
  {
   "cell_type": "code",
   "execution_count": 4,
   "metadata": {},
   "outputs": [
    {
     "name": "stdout",
     "output_type": "stream",
     "text": [
      "<class 'pandas.core.frame.DataFrame'>\n",
      "RangeIndex: 3214 entries, 0 to 3213\n",
      "Data columns (total 5 columns):\n",
      "calls       3214 non-null float64\n",
      "minutes     3214 non-null float64\n",
      "messages    3214 non-null float64\n",
      "mb_used     3214 non-null float64\n",
      "is_ultra    3214 non-null int64\n",
      "dtypes: float64(4), int64(1)\n",
      "memory usage: 125.7 KB\n"
     ]
    }
   ],
   "source": [
    "data.info()"
   ]
  },
  {
   "cell_type": "code",
   "execution_count": 5,
   "metadata": {},
   "outputs": [
    {
     "data": {
      "text/plain": [
       "0"
      ]
     },
     "execution_count": 5,
     "metadata": {},
     "output_type": "execute_result"
    }
   ],
   "source": [
    "data.duplicated().sum()"
   ]
  },
  {
   "cell_type": "markdown",
   "metadata": {},
   "source": [
    "Описательные статистики и разделение классов:"
   ]
  },
  {
   "cell_type": "code",
   "execution_count": 6,
   "metadata": {},
   "outputs": [
    {
     "data": {
      "text/html": [
       "<div>\n",
       "<style scoped>\n",
       "    .dataframe tbody tr th:only-of-type {\n",
       "        vertical-align: middle;\n",
       "    }\n",
       "\n",
       "    .dataframe tbody tr th {\n",
       "        vertical-align: top;\n",
       "    }\n",
       "\n",
       "    .dataframe thead th {\n",
       "        text-align: right;\n",
       "    }\n",
       "</style>\n",
       "<table border=\"1\" class=\"dataframe\">\n",
       "  <thead>\n",
       "    <tr style=\"text-align: right;\">\n",
       "      <th></th>\n",
       "      <th>calls</th>\n",
       "      <th>minutes</th>\n",
       "      <th>messages</th>\n",
       "      <th>mb_used</th>\n",
       "      <th>is_ultra</th>\n",
       "    </tr>\n",
       "  </thead>\n",
       "  <tbody>\n",
       "    <tr>\n",
       "      <td>count</td>\n",
       "      <td>3214.000000</td>\n",
       "      <td>3214.000000</td>\n",
       "      <td>3214.000000</td>\n",
       "      <td>3214.000000</td>\n",
       "      <td>3214.000000</td>\n",
       "    </tr>\n",
       "    <tr>\n",
       "      <td>mean</td>\n",
       "      <td>63.038892</td>\n",
       "      <td>438.208787</td>\n",
       "      <td>38.281269</td>\n",
       "      <td>17207.673836</td>\n",
       "      <td>0.306472</td>\n",
       "    </tr>\n",
       "    <tr>\n",
       "      <td>std</td>\n",
       "      <td>33.236368</td>\n",
       "      <td>234.569872</td>\n",
       "      <td>36.148326</td>\n",
       "      <td>7570.968246</td>\n",
       "      <td>0.461100</td>\n",
       "    </tr>\n",
       "    <tr>\n",
       "      <td>min</td>\n",
       "      <td>0.000000</td>\n",
       "      <td>0.000000</td>\n",
       "      <td>0.000000</td>\n",
       "      <td>0.000000</td>\n",
       "      <td>0.000000</td>\n",
       "    </tr>\n",
       "    <tr>\n",
       "      <td>25%</td>\n",
       "      <td>40.000000</td>\n",
       "      <td>274.575000</td>\n",
       "      <td>9.000000</td>\n",
       "      <td>12491.902500</td>\n",
       "      <td>0.000000</td>\n",
       "    </tr>\n",
       "    <tr>\n",
       "      <td>50%</td>\n",
       "      <td>62.000000</td>\n",
       "      <td>430.600000</td>\n",
       "      <td>30.000000</td>\n",
       "      <td>16943.235000</td>\n",
       "      <td>0.000000</td>\n",
       "    </tr>\n",
       "    <tr>\n",
       "      <td>75%</td>\n",
       "      <td>82.000000</td>\n",
       "      <td>571.927500</td>\n",
       "      <td>57.000000</td>\n",
       "      <td>21424.700000</td>\n",
       "      <td>1.000000</td>\n",
       "    </tr>\n",
       "    <tr>\n",
       "      <td>max</td>\n",
       "      <td>244.000000</td>\n",
       "      <td>1632.060000</td>\n",
       "      <td>224.000000</td>\n",
       "      <td>49745.730000</td>\n",
       "      <td>1.000000</td>\n",
       "    </tr>\n",
       "  </tbody>\n",
       "</table>\n",
       "</div>"
      ],
      "text/plain": [
       "             calls      minutes     messages       mb_used     is_ultra\n",
       "count  3214.000000  3214.000000  3214.000000   3214.000000  3214.000000\n",
       "mean     63.038892   438.208787    38.281269  17207.673836     0.306472\n",
       "std      33.236368   234.569872    36.148326   7570.968246     0.461100\n",
       "min       0.000000     0.000000     0.000000      0.000000     0.000000\n",
       "25%      40.000000   274.575000     9.000000  12491.902500     0.000000\n",
       "50%      62.000000   430.600000    30.000000  16943.235000     0.000000\n",
       "75%      82.000000   571.927500    57.000000  21424.700000     1.000000\n",
       "max     244.000000  1632.060000   224.000000  49745.730000     1.000000"
      ]
     },
     "execution_count": 6,
     "metadata": {},
     "output_type": "execute_result"
    }
   ],
   "source": [
    "data.describe()"
   ]
  },
  {
   "cell_type": "code",
   "execution_count": 7,
   "metadata": {},
   "outputs": [
    {
     "data": {
      "text/plain": [
       "0    2229\n",
       "1     985\n",
       "Name: is_ultra, dtype: int64"
      ]
     },
     "execution_count": 7,
     "metadata": {},
     "output_type": "execute_result"
    }
   ],
   "source": [
    "data['is_ultra'].value_counts()"
   ]
  },
  {
   "cell_type": "markdown",
   "metadata": {},
   "source": [
    "### Вывод"
   ]
  },
  {
   "cell_type": "markdown",
   "metadata": {},
   "source": [
    "Для дальнейшего анализа была получена таблица из 5 столбцов и 3214 строк. Названия всех столбцов соответствуют документации, однако написаны с заглавной буквы. Полных дубликатов нет. \n",
    "\n",
    "Таким образом у нас есть данные о 3214 клиентах. Для построения модели, предсказывающей тариф (целевой признак) по поведению пользователя есть 4 признака – количество звонков, суммарная длительность звонков в минутах, количество sms-сообщений, израсходованный интернет-трафик в Мб."
   ]
  },
  {
   "cell_type": "markdown",
   "metadata": {},
   "source": [
    "## Разделение исходных данных на обучающую, валидационную и тестовую выборки <a id='step2'></a>"
   ]
  },
  {
   "cell_type": "markdown",
   "metadata": {},
   "source": [
    "Для обучения модели, её валидации и проверки на тестовой выборке нам необходимы три типа выборок: обучающая, валидационная и тестовая. Исходные данные будем разбивать в соотношении 3:1:1.\n",
    "\n",
    "Перед разделением укажем целевой и остальные признаки: "
   ]
  },
  {
   "cell_type": "code",
   "execution_count": 8,
   "metadata": {},
   "outputs": [],
   "source": [
    "features = data.drop(['is_ultra'], axis=1)\n",
    "target = data['is_ultra']"
   ]
  },
  {
   "cell_type": "code",
   "execution_count": 9,
   "metadata": {},
   "outputs": [],
   "source": [
    "#сначала разделим на обучающую и временную части\n",
    "features_train, features_temp, target_train, target_temp = train_test_split(\n",
    "    features, target, test_size=0.4, stratify=target, random_state=RS)\n",
    "\n",
    "#поделим временную выборку на валидационную и тестовую\n",
    "features_validate, features_test, target_validate, target_test = train_test_split(\n",
    "    features_temp, target_temp, stratify=target_temp, test_size=0.5, random_state=RS)"
   ]
  },
  {
   "cell_type": "code",
   "execution_count": 10,
   "metadata": {},
   "outputs": [
    {
     "name": "stdout",
     "output_type": "stream",
     "text": [
      "(1928, 4)\n",
      "(1928,)\n",
      "(643, 4)\n",
      "(643,)\n",
      "(643, 4)\n",
      "(643,)\n"
     ]
    }
   ],
   "source": [
    "#проверим разделение\n",
    "print(features_train.shape)\n",
    "print(target_train.shape)\n",
    "\n",
    "print(features_validate.shape)\n",
    "print(target_validate.shape)\n",
    "\n",
    "print(features_test.shape)\n",
    "print(target_test.shape)"
   ]
  },
  {
   "cell_type": "markdown",
   "metadata": {},
   "source": [
    "### Вывод"
   ]
  },
  {
   "cell_type": "markdown",
   "metadata": {},
   "source": [
    "На данном шаге для обучения модели, её валидации и проверки на тестовой выборке мы разбили исходные данные в соотношении 3:1:1.\n",
    "\n",
    "Размеры получившихся выборок:  \n",
    "`train`  1928 объектов  \n",
    "`validate`  643 объектов  \n",
    "`test 643`  объектов"
   ]
  },
  {
   "cell_type": "markdown",
   "metadata": {},
   "source": [
    "## Применение моделей предсказания <a id='step3'></a>"
   ]
  },
  {
   "cell_type": "markdown",
   "metadata": {},
   "source": [
    "Поскольку наш целевой признак качественный, мы решаем задачу классификации. \n",
    "Для её решения рассмотрим следующие модели машинного обучения:\n",
    "1. Дерево решений\n",
    "2. Случайный лес\n",
    "3. Логистическая регрессия"
   ]
  },
  {
   "cell_type": "markdown",
   "metadata": {},
   "source": [
    "### 3.1. Дерево решений"
   ]
  },
  {
   "cell_type": "code",
   "execution_count": 11,
   "metadata": {},
   "outputs": [
    {
     "name": "stdout",
     "output_type": "stream",
     "text": [
      "Accuracy score модели дерева решений на валидационной выборке: 0.7169517884914464\n"
     ]
    }
   ],
   "source": [
    "#обучим модель не меняя гиперпараметры\n",
    "model = DecisionTreeClassifier(random_state=RS)\n",
    "\n",
    "model.fit(features_train, target_train)\n",
    "\n",
    "result = model.score(features_validate, target_validate)\n",
    "\n",
    "print(\"Accuracy score модели дерева решений на валидационной выборке:\", result)"
   ]
  },
  {
   "cell_type": "code",
   "execution_count": 12,
   "metadata": {},
   "outputs": [
    {
     "data": {
      "text/plain": [
       "DecisionTreeClassifier(class_weight=None, criterion='gini', max_depth=None,\n",
       "                       max_features=None, max_leaf_nodes=None,\n",
       "                       min_impurity_decrease=0.0, min_impurity_split=None,\n",
       "                       min_samples_leaf=1, min_samples_split=2,\n",
       "                       min_weight_fraction_leaf=0.0, presort=False,\n",
       "                       random_state=2021, splitter='best')"
      ]
     },
     "execution_count": 12,
     "metadata": {},
     "output_type": "execute_result"
    }
   ],
   "source": [
    "model"
   ]
  },
  {
   "cell_type": "markdown",
   "metadata": {},
   "source": [
    "Теперь будем обучать модель меняя гиперпараметр глубины дерева. Визуализируем полученные результаты."
   ]
  },
  {
   "cell_type": "code",
   "execution_count": 13,
   "metadata": {},
   "outputs": [
    {
     "name": "stdout",
     "output_type": "stream",
     "text": [
      "Accuracy score наилучшей модели на валидационной выборке: 0.8118195956454122 Лучшая глубина: 3\n"
     ]
    },
    {
     "data": {
      "image/png": "[encoded data removed]",
      "text/plain": [
       "<Figure size 432x288 with 1 Axes>"
      ]
     },
     "metadata": {},
     "output_type": "display_data"
    }
   ],
   "source": [
    "depth_row = []\n",
    "accuracy_scores = []\n",
    "best_depth=0\n",
    "best_result=0\n",
    "for depth in range(1, 20):\n",
    "    model = DecisionTreeClassifier(max_depth = depth, random_state=RS)\n",
    "    model.fit(features_train, target_train)\n",
    "    result = model.score(features_validate, target_validate)\n",
    "    depth_row.append(depth)\n",
    "    accuracy_scores.append(result)    \n",
    "    \n",
    "    if result > best_result:\n",
    "        best_result = result \n",
    "        best_depth = depth\n",
    "    \n",
    "    \n",
    "g = plt.plot(depth_row, \n",
    "         accuracy_scores, \n",
    "         color=\"g\", \n",
    "         )     \n",
    "\n",
    "plt.xlabel('depth')\n",
    "plt.ylabel('accuracy score')\n",
    "plt.title(\"accuracy_scores vs depth\")\n",
    "\n",
    "print(\"Accuracy score наилучшей модели на валидационной выборке:\", best_result, \n",
    "      \"Лучшая глубина:\", best_depth)"
   ]
  },
  {
   "cell_type": "markdown",
   "metadata": {},
   "source": [
    "На графике становится видно, что самую большую долю правильных отвветов мы получаем при глубине дерева равной 3. При такой глубине *accuracy* = 0.8118, это хороший результат, поскольу нам необходимо было добиться *accuracy* > 0.75."
   ]
  },
  {
   "cell_type": "markdown",
   "metadata": {},
   "source": [
    "### 3.2. Случайный лес"
   ]
  },
  {
   "cell_type": "markdown",
   "metadata": {},
   "source": [
    "Здесь сразу попробуем найти наилучшую модель. Переберём количество и максимальную глубину деревьев. "
   ]
  },
  {
   "cell_type": "code",
   "execution_count": 14,
   "metadata": {},
   "outputs": [
    {
     "data": {
      "image/png": "[encoded data removed]",
      "text/plain": [
       "<Figure size 432x288 with 1 Axes>"
      ]
     },
     "metadata": {},
     "output_type": "display_data"
    },
    {
     "data": {
      "image/png": "[encoded data removed]",
      "text/plain": [
       "<Figure size 432x288 with 1 Axes>"
      ]
     },
     "metadata": {},
     "output_type": "display_data"
    },
    {
     "data": {
      "image/png": "[encoded data removed]",
      "text/plain": [
       "<Figure size 432x288 with 1 Axes>"
      ]
     },
     "metadata": {},
     "output_type": "display_data"
    },
    {
     "name": "stdout",
     "output_type": "stream",
     "text": [
      "Accuracy score наилучшей модели на валидационной выборке: 0.8180404354587869 Лучшее количество деревьев: 20 Лучшая глубина: 3\n"
     ]
    }
   ],
   "source": [
    "#функция для визуализации результатов обучения\n",
    "def accuracy_plot(depth_row, accuracy_scores, n_est):\n",
    "    g = plt.plot(depth_row, \n",
    "         accuracy_scores,  \n",
    "         f'#DC143C'        \n",
    "         )     \n",
    "\n",
    "    plt.xlabel('depth')\n",
    "    plt.ylabel('accuracy score')\n",
    "    plt.title(f\"Зависимость аccuracy от глубины деревьев для {n_est} предсказателей\")\n",
    "    plt.show()\n",
    "\n",
    "\n",
    "best_model = None\n",
    "best_result = 0\n",
    "best_depth = 0\n",
    "best_est = 0\n",
    "for est in range(10, 31, 10):\n",
    "    depth_row = []\n",
    "    accuracy_scores = []\n",
    "    for depth in range (1, 16):    \n",
    "        model = RandomForestClassifier(random_state=RS, n_estimators=est, max_depth=depth) \n",
    "        model.fit(features_train, target_train)\n",
    "        result = model.score(features_validate, target_validate) \n",
    "        depth_row.append(depth)\n",
    "        accuracy_scores.append(result)\n",
    "        \n",
    "        if result > best_result:\n",
    "            best_model = model\n",
    "            best_result = result \n",
    "            best_est = est\n",
    "            best_depth = depth\n",
    "            \n",
    "    accuracy_plot(depth_row, accuracy_scores, est)\n",
    "    \n",
    "    \n",
    "print(\"Accuracy score наилучшей модели на валидационной выборке:\", best_result, \n",
    "      \"Лучшее количество деревьев:\", best_est, \n",
    "      \"Лучшая глубина:\", best_depth)"
   ]
  },
  {
   "cell_type": "markdown",
   "metadata": {},
   "source": [
    "Самый большой аccuracy score, который мы получили на валидационной выборке: 0.818. Это значение получено при 20 предсказателях и глубине деревьев равной 3. Результат немного лучше чем у предыдущей модели, поэтому пока будем считать эту модель наилучшей для решения нашей задачи."
   ]
  },
  {
   "cell_type": "markdown",
   "metadata": {},
   "source": [
    "### 3.3. Логистическая регрессия"
   ]
  },
  {
   "cell_type": "code",
   "execution_count": 15,
   "metadata": {},
   "outputs": [
    {
     "name": "stdout",
     "output_type": "stream",
     "text": [
      "Accuracy score модели логистической регрессии на валидационной выборке: 0.6905132192846034\n"
     ]
    },
    {
     "name": "stderr",
     "output_type": "stream",
     "text": [
      "/opt/conda/lib/python3.7/site-packages/sklearn/linear_model/logistic.py:432: FutureWarning: Default solver will be changed to 'lbfgs' in 0.22. Specify a solver to silence this warning.\n",
      "  FutureWarning)\n"
     ]
    }
   ],
   "source": [
    "model = LogisticRegression(random_state=RS) \n",
    "model.fit(features_train, target_train)\n",
    "result = model.score(features_validate, target_validate) \n",
    "\n",
    "print(\"Accuracy score модели логистической регрессии на валидационной выборке:\", result)"
   ]
  },
  {
   "cell_type": "markdown",
   "metadata": {},
   "source": [
    "Как видим, модель логистической регрессии показала долю правильных ответов всего 0.6905 на валидационной выборке. Это меньше чем требуемое значение в 0.75."
   ]
  },
  {
   "cell_type": "markdown",
   "metadata": {},
   "source": [
    "### Вывод"
   ]
  },
  {
   "cell_type": "markdown",
   "metadata": {},
   "source": [
    "На данном этапе мы применяли и исследовали три различные модели:\n",
    "\n",
    "1. Дерево решений  \n",
    "Самую большую долю правильных отвветов мы получаем при глубине дерева равной 3. При такой глубине *accuracy* = 0.8118, хороший результат, поскольу нам необходимо было добиться *accuracy* > 0.75.\n",
    "\n",
    "2. Случайный лес  \n",
    "Самый большой аccuracy score, который мы получили на валидационной выборке: 0.818. Это значение получено при 20 предсказателях и глубине деревьев равной 3. Результат немного лучше чем у предыдущей модели, поэтому пока будем считать эту модель наилучшей для решения нашей задачи.\n",
    "\n",
    "3. Логистическая регрессия  \n",
    "Как видим, модель логистической регрессии показала долю правильных ответов всего 0.6905 на валидационной выборке. Это меньше чем требуемое значение в 0.75.\n",
    "\n",
    "Таким образом у нас имеются две рабочие модели с хорошей долей ответов. Проверим их на тестовой выборке."
   ]
  },
  {
   "cell_type": "markdown",
   "metadata": {},
   "source": [
    "## Проверка качества модели на тестовой выборке <a id='step4'></a>"
   ]
  },
  {
   "cell_type": "markdown",
   "metadata": {},
   "source": [
    "Первой будем проверять модель Случайный лес с гиперпараметрами 20 предсказателей и глубина деревьев 3:"
   ]
  },
  {
   "cell_type": "code",
   "execution_count": 16,
   "metadata": {},
   "outputs": [
    {
     "name": "stdout",
     "output_type": "stream",
     "text": [
      "Accuracy score наилучшей модели на тестовой выборке: 0.8055987558320373 Количество деревьев: 20 Глубина: 3\n"
     ]
    }
   ],
   "source": [
    "model = RandomForestClassifier(random_state=RS, n_estimators=20, max_depth=3) \n",
    "model.fit(features_train, target_train)\n",
    "result = model.score(features_test, target_test) \n",
    "        \n",
    "print(\"Accuracy score наилучшей модели на тестовой выборке:\", result, \n",
    "      \"Количество деревьев:\", 20, \n",
    "      \"Глубина:\", 3)        "
   ]
  },
  {
   "cell_type": "markdown",
   "metadata": {},
   "source": [
    "Accuracy score практически не упал. Впринципе этот результат нас уже устраивает, однако можем посмотреть какой результат покажет модель дерева решений."
   ]
  },
  {
   "cell_type": "code",
   "execution_count": 17,
   "metadata": {},
   "outputs": [
    {
     "name": "stdout",
     "output_type": "stream",
     "text": [
      "Accuracy score наилучшей модели на тестовой выборке: 0.8009331259720062 Глубина: 3\n"
     ]
    }
   ],
   "source": [
    "model = DecisionTreeClassifier(max_depth = 3, random_state=RS) \n",
    "model.fit(features_train, target_train)\n",
    "result = model.score(features_test, target_test) \n",
    "        \n",
    "print(\"Accuracy score наилучшей модели на тестовой выборке:\", result, \n",
    "      \"Глубина:\", 3)        "
   ]
  },
  {
   "cell_type": "markdown",
   "metadata": {},
   "source": [
    "Доля правильных ответов опять немного упала по сравнению с валидационной выборкой, однако все ещё выше чем 0.75."
   ]
  },
  {
   "cell_type": "markdown",
   "metadata": {},
   "source": [
    "### Вывод"
   ]
  },
  {
   "cell_type": "markdown",
   "metadata": {},
   "source": [
    "Доля правильных ответов на тестовой выборке немного падает для всех принятых моделей. Несмотря на это модель **случайного леса** с 20 предсказателями и глубиной 3 показывает наилучшие результаты и рекомендована к использованию для решения нашей бизнес задачи."
   ]
  },
  {
   "cell_type": "markdown",
   "metadata": {},
   "source": [
    "## Проверка моделей на адекватность <a id='step5'></a>"
   ]
  },
  {
   "cell_type": "markdown",
   "metadata": {},
   "source": [
    "Для того, чтобы проверить модели на адекватность нам понадобится предложить такую модель предсказания тарифа, которая будет выдавать предполагаемый тариф в соответствии с кокой-то простой логикой, а также учитывать неравенство классов.\n",
    "\n",
    "Ещё раз взглянем на данные:"
   ]
  },
  {
   "cell_type": "code",
   "execution_count": 18,
   "metadata": {},
   "outputs": [
    {
     "data": {
      "text/html": [
       "<div>\n",
       "<style scoped>\n",
       "    .dataframe tbody tr th:only-of-type {\n",
       "        vertical-align: middle;\n",
       "    }\n",
       "\n",
       "    .dataframe tbody tr th {\n",
       "        vertical-align: top;\n",
       "    }\n",
       "\n",
       "    .dataframe thead th {\n",
       "        text-align: right;\n",
       "    }\n",
       "</style>\n",
       "<table border=\"1\" class=\"dataframe\">\n",
       "  <thead>\n",
       "    <tr style=\"text-align: right;\">\n",
       "      <th></th>\n",
       "      <th>calls</th>\n",
       "      <th>minutes</th>\n",
       "      <th>messages</th>\n",
       "      <th>mb_used</th>\n",
       "      <th>is_ultra</th>\n",
       "    </tr>\n",
       "  </thead>\n",
       "  <tbody>\n",
       "    <tr>\n",
       "      <td>0</td>\n",
       "      <td>40.0</td>\n",
       "      <td>311.90</td>\n",
       "      <td>83.0</td>\n",
       "      <td>19915.42</td>\n",
       "      <td>0</td>\n",
       "    </tr>\n",
       "    <tr>\n",
       "      <td>1</td>\n",
       "      <td>85.0</td>\n",
       "      <td>516.75</td>\n",
       "      <td>56.0</td>\n",
       "      <td>22696.96</td>\n",
       "      <td>0</td>\n",
       "    </tr>\n",
       "    <tr>\n",
       "      <td>2</td>\n",
       "      <td>77.0</td>\n",
       "      <td>467.66</td>\n",
       "      <td>86.0</td>\n",
       "      <td>21060.45</td>\n",
       "      <td>0</td>\n",
       "    </tr>\n",
       "    <tr>\n",
       "      <td>3</td>\n",
       "      <td>106.0</td>\n",
       "      <td>745.53</td>\n",
       "      <td>81.0</td>\n",
       "      <td>8437.39</td>\n",
       "      <td>1</td>\n",
       "    </tr>\n",
       "    <tr>\n",
       "      <td>4</td>\n",
       "      <td>66.0</td>\n",
       "      <td>418.74</td>\n",
       "      <td>1.0</td>\n",
       "      <td>14502.75</td>\n",
       "      <td>0</td>\n",
       "    </tr>\n",
       "    <tr>\n",
       "      <td>5</td>\n",
       "      <td>58.0</td>\n",
       "      <td>344.56</td>\n",
       "      <td>21.0</td>\n",
       "      <td>15823.37</td>\n",
       "      <td>0</td>\n",
       "    </tr>\n",
       "    <tr>\n",
       "      <td>6</td>\n",
       "      <td>57.0</td>\n",
       "      <td>431.64</td>\n",
       "      <td>20.0</td>\n",
       "      <td>3738.90</td>\n",
       "      <td>1</td>\n",
       "    </tr>\n",
       "    <tr>\n",
       "      <td>7</td>\n",
       "      <td>15.0</td>\n",
       "      <td>132.40</td>\n",
       "      <td>6.0</td>\n",
       "      <td>21911.60</td>\n",
       "      <td>0</td>\n",
       "    </tr>\n",
       "    <tr>\n",
       "      <td>8</td>\n",
       "      <td>7.0</td>\n",
       "      <td>43.39</td>\n",
       "      <td>3.0</td>\n",
       "      <td>2538.67</td>\n",
       "      <td>1</td>\n",
       "    </tr>\n",
       "    <tr>\n",
       "      <td>9</td>\n",
       "      <td>90.0</td>\n",
       "      <td>665.41</td>\n",
       "      <td>38.0</td>\n",
       "      <td>17358.61</td>\n",
       "      <td>0</td>\n",
       "    </tr>\n",
       "  </tbody>\n",
       "</table>\n",
       "</div>"
      ],
      "text/plain": [
       "   calls  minutes  messages   mb_used  is_ultra\n",
       "0   40.0   311.90      83.0  19915.42         0\n",
       "1   85.0   516.75      56.0  22696.96         0\n",
       "2   77.0   467.66      86.0  21060.45         0\n",
       "3  106.0   745.53      81.0   8437.39         1\n",
       "4   66.0   418.74       1.0  14502.75         0\n",
       "5   58.0   344.56      21.0  15823.37         0\n",
       "6   57.0   431.64      20.0   3738.90         1\n",
       "7   15.0   132.40       6.0  21911.60         0\n",
       "8    7.0    43.39       3.0   2538.67         1\n",
       "9   90.0   665.41      38.0  17358.61         0"
      ]
     },
     "execution_count": 18,
     "metadata": {},
     "output_type": "execute_result"
    }
   ],
   "source": [
    "data.head(10)"
   ]
  },
  {
   "cell_type": "code",
   "execution_count": 19,
   "metadata": {},
   "outputs": [
    {
     "data": {
      "text/plain": [
       "0    2229\n",
       "1     985\n",
       "Name: is_ultra, dtype: int64"
      ]
     },
     "execution_count": 19,
     "metadata": {},
     "output_type": "execute_result"
    }
   ],
   "source": [
    "data['is_ultra'].value_counts()"
   ]
  },
  {
   "cell_type": "markdown",
   "metadata": {},
   "source": [
    "Опишем модель для оценки адекватности:\n",
    "\n",
    "Для нашей проверочной модели предположим, что все пользователи экономически рациональны: будем считать, что если пользователь много пользуется телефоном (элементами тарифа), то он подключает тариф ультра, если мало – смарт.\n",
    "\n",
    "Далее оценим \"активность\" пользователей, упорядочим всех по ней и разделим полученный ряд в соответствии с нашим соотношением классов.\n",
    "\n",
    "Для оценки активности нормализируем все признаки и сложим их вместе:"
   ]
  },
  {
   "cell_type": "code",
   "execution_count": 20,
   "metadata": {},
   "outputs": [
    {
     "data": {
      "text/html": [
       "<div>\n",
       "<style scoped>\n",
       "    .dataframe tbody tr th:only-of-type {\n",
       "        vertical-align: middle;\n",
       "    }\n",
       "\n",
       "    .dataframe tbody tr th {\n",
       "        vertical-align: top;\n",
       "    }\n",
       "\n",
       "    .dataframe thead th {\n",
       "        text-align: right;\n",
       "    }\n",
       "</style>\n",
       "<table border=\"1\" class=\"dataframe\">\n",
       "  <thead>\n",
       "    <tr style=\"text-align: right;\">\n",
       "      <th></th>\n",
       "      <th>calls</th>\n",
       "      <th>minutes</th>\n",
       "      <th>messages</th>\n",
       "      <th>mb_used</th>\n",
       "      <th>activity</th>\n",
       "    </tr>\n",
       "  </thead>\n",
       "  <tbody>\n",
       "    <tr>\n",
       "      <td>0</td>\n",
       "      <td>0.163934</td>\n",
       "      <td>0.191108</td>\n",
       "      <td>0.370536</td>\n",
       "      <td>0.400344</td>\n",
       "      <td>1.125923</td>\n",
       "    </tr>\n",
       "    <tr>\n",
       "      <td>1</td>\n",
       "      <td>0.348361</td>\n",
       "      <td>0.316624</td>\n",
       "      <td>0.250000</td>\n",
       "      <td>0.456259</td>\n",
       "      <td>1.371245</td>\n",
       "    </tr>\n",
       "    <tr>\n",
       "      <td>2</td>\n",
       "      <td>0.315574</td>\n",
       "      <td>0.286546</td>\n",
       "      <td>0.383929</td>\n",
       "      <td>0.423362</td>\n",
       "      <td>1.409410</td>\n",
       "    </tr>\n",
       "    <tr>\n",
       "      <td>3</td>\n",
       "      <td>0.434426</td>\n",
       "      <td>0.456803</td>\n",
       "      <td>0.361607</td>\n",
       "      <td>0.169610</td>\n",
       "      <td>1.422447</td>\n",
       "    </tr>\n",
       "    <tr>\n",
       "      <td>4</td>\n",
       "      <td>0.270492</td>\n",
       "      <td>0.256571</td>\n",
       "      <td>0.004464</td>\n",
       "      <td>0.291538</td>\n",
       "      <td>0.823065</td>\n",
       "    </tr>\n",
       "  </tbody>\n",
       "</table>\n",
       "</div>"
      ],
      "text/plain": [
       "      calls   minutes  messages   mb_used  activity\n",
       "0  0.163934  0.191108  0.370536  0.400344  1.125923\n",
       "1  0.348361  0.316624  0.250000  0.456259  1.371245\n",
       "2  0.315574  0.286546  0.383929  0.423362  1.409410\n",
       "3  0.434426  0.456803  0.361607  0.169610  1.422447\n",
       "4  0.270492  0.256571  0.004464  0.291538  0.823065"
      ]
     },
     "execution_count": 20,
     "metadata": {},
     "output_type": "execute_result"
    }
   ],
   "source": [
    "scaler = MinMaxScaler(feature_range=(0, 1))\n",
    "scaler.fit(features)\n",
    "scaled_features = scaler.transform(features)\n",
    "\n",
    "#создадим DataFrame обьект\n",
    "norm_features = pd.DataFrame(data = scaled_features, \n",
    "                             columns = features.columns)\n",
    "\n",
    "norm_features['activity'] = (norm_features['calls'] + \n",
    "                             norm_features['minutes'] +\n",
    "                             norm_features['messages'] +\n",
    "                             norm_features['mb_used']\n",
    "                            )\n",
    "\n",
    "norm_features.head()"
   ]
  },
  {
   "cell_type": "code",
   "execution_count": 21,
   "metadata": {},
   "outputs": [
    {
     "data": {
      "text/html": [
       "<div>\n",
       "<style scoped>\n",
       "    .dataframe tbody tr th:only-of-type {\n",
       "        vertical-align: middle;\n",
       "    }\n",
       "\n",
       "    .dataframe tbody tr th {\n",
       "        vertical-align: top;\n",
       "    }\n",
       "\n",
       "    .dataframe thead th {\n",
       "        text-align: right;\n",
       "    }\n",
       "</style>\n",
       "<table border=\"1\" class=\"dataframe\">\n",
       "  <thead>\n",
       "    <tr style=\"text-align: right;\">\n",
       "      <th></th>\n",
       "      <th>index</th>\n",
       "      <th>calls</th>\n",
       "      <th>minutes</th>\n",
       "      <th>messages</th>\n",
       "      <th>mb_used</th>\n",
       "      <th>activity</th>\n",
       "    </tr>\n",
       "  </thead>\n",
       "  <tbody>\n",
       "    <tr>\n",
       "      <td>0</td>\n",
       "      <td>3107</td>\n",
       "      <td>0.000000</td>\n",
       "      <td>0.000000</td>\n",
       "      <td>0.0</td>\n",
       "      <td>0.010670</td>\n",
       "      <td>0.010670</td>\n",
       "    </tr>\n",
       "    <tr>\n",
       "      <td>1</td>\n",
       "      <td>2137</td>\n",
       "      <td>0.004098</td>\n",
       "      <td>0.000839</td>\n",
       "      <td>0.0</td>\n",
       "      <td>0.013464</td>\n",
       "      <td>0.018402</td>\n",
       "    </tr>\n",
       "    <tr>\n",
       "      <td>2</td>\n",
       "      <td>540</td>\n",
       "      <td>0.008197</td>\n",
       "      <td>0.001219</td>\n",
       "      <td>0.0</td>\n",
       "      <td>0.012396</td>\n",
       "      <td>0.021812</td>\n",
       "    </tr>\n",
       "    <tr>\n",
       "      <td>3</td>\n",
       "      <td>967</td>\n",
       "      <td>0.008197</td>\n",
       "      <td>0.005521</td>\n",
       "      <td>0.0</td>\n",
       "      <td>0.009628</td>\n",
       "      <td>0.023346</td>\n",
       "    </tr>\n",
       "    <tr>\n",
       "      <td>4</td>\n",
       "      <td>1065</td>\n",
       "      <td>0.008197</td>\n",
       "      <td>0.001225</td>\n",
       "      <td>0.0</td>\n",
       "      <td>0.019288</td>\n",
       "      <td>0.028710</td>\n",
       "    </tr>\n",
       "  </tbody>\n",
       "</table>\n",
       "</div>"
      ],
      "text/plain": [
       "   index     calls   minutes  messages   mb_used  activity\n",
       "0   3107  0.000000  0.000000       0.0  0.010670  0.010670\n",
       "1   2137  0.004098  0.000839       0.0  0.013464  0.018402\n",
       "2    540  0.008197  0.001219       0.0  0.012396  0.021812\n",
       "3    967  0.008197  0.005521       0.0  0.009628  0.023346\n",
       "4   1065  0.008197  0.001225       0.0  0.019288  0.028710"
      ]
     },
     "execution_count": 21,
     "metadata": {},
     "output_type": "execute_result"
    }
   ],
   "source": [
    "#отсортируем по активности:\n",
    "sorted_norm_features = norm_features.sort_values(by='activity').reset_index(drop=False)   \n",
    "sorted_norm_features.head()"
   ]
  },
  {
   "cell_type": "markdown",
   "metadata": {},
   "source": [
    "Мы получили наш показатель активности пользователя. Теперь пользователям с низкой акитвностью припишем значение 0 и наоборот."
   ]
  },
  {
   "cell_type": "code",
   "execution_count": 22,
   "metadata": {},
   "outputs": [
    {
     "data": {
      "text/html": [
       "<div>\n",
       "<style scoped>\n",
       "    .dataframe tbody tr th:only-of-type {\n",
       "        vertical-align: middle;\n",
       "    }\n",
       "\n",
       "    .dataframe tbody tr th {\n",
       "        vertical-align: top;\n",
       "    }\n",
       "\n",
       "    .dataframe thead th {\n",
       "        text-align: right;\n",
       "    }\n",
       "</style>\n",
       "<table border=\"1\" class=\"dataframe\">\n",
       "  <thead>\n",
       "    <tr style=\"text-align: right;\">\n",
       "      <th></th>\n",
       "      <th>calls</th>\n",
       "      <th>minutes</th>\n",
       "      <th>messages</th>\n",
       "      <th>mb_used</th>\n",
       "      <th>activity</th>\n",
       "      <th>predicted_tariff</th>\n",
       "    </tr>\n",
       "  </thead>\n",
       "  <tbody>\n",
       "    <tr>\n",
       "      <td>0</td>\n",
       "      <td>0.163934</td>\n",
       "      <td>0.191108</td>\n",
       "      <td>0.370536</td>\n",
       "      <td>0.400344</td>\n",
       "      <td>1.125923</td>\n",
       "      <td>0.0</td>\n",
       "    </tr>\n",
       "    <tr>\n",
       "      <td>1</td>\n",
       "      <td>0.348361</td>\n",
       "      <td>0.316624</td>\n",
       "      <td>0.250000</td>\n",
       "      <td>0.456259</td>\n",
       "      <td>1.371245</td>\n",
       "      <td>1.0</td>\n",
       "    </tr>\n",
       "    <tr>\n",
       "      <td>2</td>\n",
       "      <td>0.315574</td>\n",
       "      <td>0.286546</td>\n",
       "      <td>0.383929</td>\n",
       "      <td>0.423362</td>\n",
       "      <td>1.409410</td>\n",
       "      <td>1.0</td>\n",
       "    </tr>\n",
       "    <tr>\n",
       "      <td>3</td>\n",
       "      <td>0.434426</td>\n",
       "      <td>0.456803</td>\n",
       "      <td>0.361607</td>\n",
       "      <td>0.169610</td>\n",
       "      <td>1.422447</td>\n",
       "      <td>1.0</td>\n",
       "    </tr>\n",
       "    <tr>\n",
       "      <td>4</td>\n",
       "      <td>0.270492</td>\n",
       "      <td>0.256571</td>\n",
       "      <td>0.004464</td>\n",
       "      <td>0.291538</td>\n",
       "      <td>0.823065</td>\n",
       "      <td>0.0</td>\n",
       "    </tr>\n",
       "  </tbody>\n",
       "</table>\n",
       "</div>"
      ],
      "text/plain": [
       "      calls   minutes  messages   mb_used  activity  predicted_tariff\n",
       "0  0.163934  0.191108  0.370536  0.400344  1.125923               0.0\n",
       "1  0.348361  0.316624  0.250000  0.456259  1.371245               1.0\n",
       "2  0.315574  0.286546  0.383929  0.423362  1.409410               1.0\n",
       "3  0.434426  0.456803  0.361607  0.169610  1.422447               1.0\n",
       "4  0.270492  0.256571  0.004464  0.291538  0.823065               0.0"
      ]
     },
     "execution_count": 22,
     "metadata": {},
     "output_type": "execute_result"
    }
   ],
   "source": [
    "sorted_norm_features.loc[0 : 2229, 'predicted_tariff'] = 0 \n",
    "sorted_norm_features.loc[2230 : 3214, 'predicted_tariff'] = 1 \n",
    "\n",
    "#вернем старые индексы\n",
    "final_norm_features = sorted_norm_features.sort_values(by='index').reset_index(drop=True).drop(['index'], axis=1)\n",
    "final_norm_features.head()"
   ]
  },
  {
   "cell_type": "markdown",
   "metadata": {},
   "source": [
    "Наша модель готова, посчитаем с какой точностью она угадывает тариф:"
   ]
  },
  {
   "cell_type": "code",
   "execution_count": 23,
   "metadata": {},
   "outputs": [
    {
     "data": {
      "text/plain": [
       "0.6916614810205352"
      ]
     },
     "execution_count": 23,
     "metadata": {},
     "output_type": "execute_result"
    }
   ],
   "source": [
    "accuracy = accuracy_score(final_norm_features['predicted_tariff'], target) \n",
    "accuracy"
   ]
  },
  {
   "cell_type": "markdown",
   "metadata": {},
   "source": [
    "Доля правильных ответов нашей модели, не использующей машинное обучение, составила 0.69. Как видим, наши модели случайного леса и дерева решений построены не зря – они имеют большую точность (около 0.8). "
   ]
  },
  {
   "cell_type": "markdown",
   "metadata": {},
   "source": [
    "### Вывод"
   ]
  },
  {
   "cell_type": "markdown",
   "metadata": {},
   "source": [
    "На данном этапе мы проверяли полученные модели на адекватность.\n",
    "\n",
    "Поскольку классы были не равны между собой мы предложили следующую модель для сравнения:\n",
    "\n",
    "В начале мы редположили, что все пользователи экономически рациональны: если пользователь много пользуется телефоном (элементами тарифа), то он подключает тариф ультра, если мало – смарт. Далее оценили \"активность\" пользователей (получили сумму нормализованных признаков), упорядочили всех по ней и разделили полученный ряд в соответствии с нашим соотношением классов.\n",
    "\n",
    "Доля правильных ответов нашей модели, не использующей машинное обучение составила 0.69. Наши построенные модели машинного обучения имеют большую точность (около 0.8 правильных ответов)."
   ]
  },
  {
   "cell_type": "markdown",
   "metadata": {},
   "source": [
    "## Общий вывод<a id='step6'></a>"
   ]
  },
  {
   "cell_type": "markdown",
   "metadata": {},
   "source": [
    "**6.1.** Мы обработали и проанализировали информацию о 3214 клиентах. Для построения модели, предсказывающей тариф (целевой признак) по поведению пользователя использовалось 4 признака – количество звонков, суммарная длительность звонков в минутах, количество sms-сообщений, израсходованный интернет-трафик в Мб.\n",
    "\n",
    "Для обучения модели, её валидации и проверки на тестовой выборке мы разбили исходные данные в соотношении 3:1:1.\n",
    "\n",
    "Размеры получившихся выборок:  \n",
    "`train` 1928 объектов  \n",
    "`validate` 643 объектов  \n",
    "`test` 643 объектов  "
   ]
  },
  {
   "cell_type": "markdown",
   "metadata": {},
   "source": [
    "**6.2.** Далее мы применяли и исследовали три различные модели:\n",
    "\n",
    "1. Дерево решений  \n",
    "Самую большую долю правильных отвветов мы получили при глубине дерева равной 3. При такой глубине *accuracy* = 0.8118, хороший результат, поскольу нам необходимо было добиться *accuracy* > 0.75.\n",
    "\n",
    "2. Случайный лес  \n",
    "Самый большой аccuracy score, который мы получили на валидационной выборке: 0.818. Это значение получено при 20 предсказателях и глубине деревьев равной 3. Результат немного лучше чем у предыдущей модели, поэтому на данном этапе считаем эту модель наилучшей для решения нашей задачи.\n",
    "\n",
    "3. Логистическая регрессия  \n",
    "Как видим, модель логистической регрессии показала долю правильных ответов всего 0.6905 на валидационной выборке. Это меньше чем требуемое значение в 0.75.\n",
    "\n",
    "Модель | Наилучший *аccuracy score*\n",
    ":---|:---\n",
    "Дерево решений | 0.81\n",
    "Случайный лес | 0.82\n",
    "Логистическая регрессия | 0.69\n",
    "\n",
    "Таким образом мы получили две рабочие модели (Дерево решений и Случайный лес) с хорошей долей ответов. Модель случайного леса с 20 предсказателями и глубиной 3 показывает наилучшие результаты и рекомендована к использованию для решения нашей бизнес задачи."
   ]
  },
  {
   "cell_type": "markdown",
   "metadata": {},
   "source": [
    "**6.3.** Далее шла проверка моеделей на тестовой выборке. Как оказалось, доля правильных ответов на тестовой выборке немного падает для всех принятых моделей. Несмотря на это модель **случайного леса** с 10 предсказателями и глубиной 7 показывает наилучшие результаты и рекомендована к использованию для решения нашей бизнес задачи."
   ]
  },
  {
   "cell_type": "markdown",
   "metadata": {},
   "source": [
    "**6.4.** На данном этапе мы проверяли полученные модели на адекватность.\n",
    "\n",
    "Поскольку классы были не равны между собой мы предложили следующую модель для сравнения:\n",
    "\n",
    "В начале мы редположили, что все пользователи экономически рациональны: если пользователь много пользуется телефоном (элементами тарифа), то он подключает тариф ультра, если мало – смарт. Далее оценили \"активность\" пользователей (получили сумму нормализованных признаков), упорядочили всех по ней и разделили полученный ряд в соответствии с нашим соотношением классов.\n",
    "\n",
    "Доля правильных ответов нашей модели, не использующей машинное обучение составила 0.69. Наши построенные модели машинного обучения имеют большую точность (около 0.8 правильных ответов)."
   ]
  }
 ],
 "metadata": {
  "kernelspec": {
   "display_name": "Python 3",
   "language": "python",
   "name": "python3"
  },
  "language_info": {
   "codemirror_mode": {
    "name": "ipython",
    "version": 3
   },
   "file_extension": ".py",
   "mimetype": "text/x-python",
   "name": "python",
   "nbconvert_exporter": "python",
   "pygments_lexer": "ipython3",
   "version": "3.7.8"
  },
  "toc": {
   "base_numbering": 1,
   "nav_menu": {
    "height": "142px",
    "width": "326px"
   },
   "number_sections": true,
   "sideBar": true,
   "skip_h1_title": true,
   "title_cell": "Table of Contents",
   "title_sidebar": "Contents",
   "toc_cell": false,
   "toc_position": {},
   "toc_section_display": true,
   "toc_window_display": false
  }
 },
 "nbformat": 4,
 "nbformat_minor": 2
}
