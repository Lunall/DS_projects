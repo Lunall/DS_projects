{
 "cells": [
  {
   "cell_type": "markdown",
   "metadata": {},
   "source": [
    "# Проект 12. Классификация комментариев c BERT <a class=\"tocSkip\">"
   ]
  },
  {
   "cell_type": "markdown",
   "metadata": {},
   "source": [
    "### Вводная <a class=\"tocSkip\">\n",
    "    \n",
    "Интернет магазин Bombastic Games начал успешно продавать популярные игры и у них на сайте стало появляться большое количество отзывов. Как хороших, так и негативных. В ручную проверять все отзывы уже не получается, и магазин хочет создать инструмент, позволяющий определять негативные и токсичные комментарии автоматически. \n",
    "    \n",
    "Вам необходимо разработать модель, которая будет автоматически классифицировать комментарии на позитивные и негативные. Для этого вам предоставили набор данных с разметкой о токсичности комментариев.\n",
    "    \n",
    "Руководство хочет получить модель со значением метрики качества *F1* не меньше 0.75. "
   ]
  },
  {
   "cell_type": "markdown",
   "metadata": {},
   "source": [
    "### Цель <a class=\"tocSkip\">\n",
    "Обучить модель разделять комментарии на позитивные и негативные, её *F1* должен быть не меньше 0.75. "
   ]
  },
  {
   "cell_type": "markdown",
   "metadata": {},
   "source": [
    "### Описание данных <a class=\"tocSkip\">\n",
    "Данные находятся в файле `toxic_comments.csv`. Столбец *text* в нём содержит текст комментария, а *toxic* — целевой признак."
   ]
  },
  {
   "cell_type": "markdown",
   "metadata": {},
   "source": [
    "### План <a class=\"tocSkip\">\n",
    "\n",
    "    1. Загрузка и подготовка данных\n",
    "        1.1. Предобработка данных\n",
    "        1.2. Лемматизация текста\n",
    "        1.3. Векторизация текста\n",
    "        1.4. Создание эмбеддингов с BERT\n",
    "    2. Анализ\n",
    "        Оценка распределения целевого признака\n",
    "    3. Построение и оценка моделей\n",
    "        3.1. Выбор метрик для оценки качества\n",
    "        3.2. Обучение моделей\n",
    "            3.2.1. LogisticRegression\n",
    "            3.2.2. RandomForest\n",
    "            3.2.3. XGBoost\n",
    "            3.2.4. BERT + LogisticRegression\n",
    "        3.3. Проверка на тестовой выборке\n",
    "        3.4. Проверка моделей на адекватность\n",
    "    4. Общий вывод"
   ]
  },
  {
   "cell_type": "markdown",
   "metadata": {},
   "source": [
    "## 0. Установка библиотек "
   ]
  },
  {
   "cell_type": "code",
   "execution_count": 2,
   "metadata": {},
   "outputs": [],
   "source": [
    "import torch\n",
    "import transformers"
   ]
  },
  {
   "cell_type": "code",
   "execution_count": 31,
   "metadata": {},
   "outputs": [],
   "source": [
    "import dill\n",
    "import pandas as pd\n",
    "from multiprocessing import Pool\n",
    "import numpy as np\n",
    "import scipy.sparse as sp\n",
    "\n",
    "#лемматизация текста\n",
    "from pymystem3 import Mystem\n",
    "\n",
    "#библиотека стоп-слов\n",
    "import nltk\n",
    "from nltk.stem import PorterStemmer\n",
    "from nltk.tokenize import sent_tokenize, word_tokenize\n",
    "from nltk.corpus import stopwords\n",
    "from nltk.stem import WordNetLemmatizer\n",
    "from nltk.corpus import wordnet\n",
    "\n",
    "import re\n",
    "\n",
    "from sklearn.pipeline import Pipeline\n",
    "from sklearn.feature_extraction.text import TfidfVectorizer\n",
    "from sklearn.model_selection import (train_test_split, GridSearchCV, RandomizedSearchCV,\n",
    "                                    StratifiedKFold, cross_val_score, learning_curve)\n",
    "\n",
    "from sklearn.linear_model import LogisticRegression\n",
    "from sklearn.ensemble import RandomForestClassifier\n",
    "\n",
    "from xgboost import XGBClassifier\n",
    "\n",
    "from sklearn.metrics import f1_score\n",
    "from sklearn.dummy import DummyClassifier\n",
    "\n",
    "#from tqdm import tqdm\n",
    "\n",
    "import matplotlib.pyplot as plt\n",
    "import seaborn as sns\n",
    "sns.set_theme(style=\"darkgrid\")\n",
    "\n",
    "#фильтр предупреждений\n",
    "import warnings\n",
    "warnings.simplefilter(\"ignore\")"
   ]
  },
  {
   "cell_type": "code",
   "execution_count": 4,
   "metadata": {},
   "outputs": [],
   "source": [
    "#зададим ramdom seed\n",
    "RS = 2021"
   ]
  },
  {
   "cell_type": "markdown",
   "metadata": {},
   "source": [
    "## Подготовка данных"
   ]
  },
  {
   "cell_type": "markdown",
   "metadata": {},
   "source": [
    "### Загрузка файлов и получение информации"
   ]
  },
  {
   "cell_type": "code",
   "execution_count": 7,
   "metadata": {},
   "outputs": [
    {
     "data": {
      "text/html": [
       "<div>\n",
       "<style scoped>\n",
       "    .dataframe tbody tr th:only-of-type {\n",
       "        vertical-align: middle;\n",
       "    }\n",
       "\n",
       "    .dataframe tbody tr th {\n",
       "        vertical-align: top;\n",
       "    }\n",
       "\n",
       "    .dataframe thead th {\n",
       "        text-align: right;\n",
       "    }\n",
       "</style>\n",
       "<table border=\"1\" class=\"dataframe\">\n",
       "  <thead>\n",
       "    <tr style=\"text-align: right;\">\n",
       "      <th></th>\n",
       "      <th>text</th>\n",
       "      <th>toxic</th>\n",
       "    </tr>\n",
       "  </thead>\n",
       "  <tbody>\n",
       "    <tr>\n",
       "      <th>0</th>\n",
       "      <td>Explanation\\nWhy the edits made under my usern...</td>\n",
       "      <td>0</td>\n",
       "    </tr>\n",
       "    <tr>\n",
       "      <th>1</th>\n",
       "      <td>D'aww! He matches this background colour I'm s...</td>\n",
       "      <td>0</td>\n",
       "    </tr>\n",
       "    <tr>\n",
       "      <th>2</th>\n",
       "      <td>Hey man, I'm really not trying to edit war. It...</td>\n",
       "      <td>0</td>\n",
       "    </tr>\n",
       "    <tr>\n",
       "      <th>3</th>\n",
       "      <td>\"\\nMore\\nI can't make any real suggestions on ...</td>\n",
       "      <td>0</td>\n",
       "    </tr>\n",
       "    <tr>\n",
       "      <th>4</th>\n",
       "      <td>You, sir, are my hero. Any chance you remember...</td>\n",
       "      <td>0</td>\n",
       "    </tr>\n",
       "  </tbody>\n",
       "</table>\n",
       "</div>"
      ],
      "text/plain": [
       "                                                text  toxic\n",
       "0  Explanation\\nWhy the edits made under my usern...      0\n",
       "1  D'aww! He matches this background colour I'm s...      0\n",
       "2  Hey man, I'm really not trying to edit war. It...      0\n",
       "3  \"\\nMore\\nI can't make any real suggestions on ...      0\n",
       "4  You, sir, are my hero. Any chance you remember...      0"
      ]
     },
     "execution_count": 7,
     "metadata": {},
     "output_type": "execute_result"
    }
   ],
   "source": [
    "data = pd.read_csv('toxic_comments.csv')\n",
    "\n",
    "data.head()"
   ]
  },
  {
   "cell_type": "code",
   "execution_count": 8,
   "metadata": {},
   "outputs": [
    {
     "name": "stdout",
     "output_type": "stream",
     "text": [
      "<class 'pandas.core.frame.DataFrame'>\n",
      "RangeIndex: 159571 entries, 0 to 159570\n",
      "Data columns (total 2 columns):\n",
      " #   Column  Non-Null Count   Dtype \n",
      "---  ------  --------------   ----- \n",
      " 0   text    159571 non-null  object\n",
      " 1   toxic   159571 non-null  int64 \n",
      "dtypes: int64(1), object(1)\n",
      "memory usage: 2.4+ MB\n"
     ]
    }
   ],
   "source": [
    "data.info()"
   ]
  },
  {
   "cell_type": "markdown",
   "metadata": {},
   "source": [
    "Всего для анализа получено 159571 записей комментариев и их тональности. Пропусков в данных пока не наблюдается. Как видно из превью таблицы переносы строк указаны символом \"\\n\"."
   ]
  },
  {
   "cell_type": "markdown",
   "metadata": {},
   "source": [
    "### Предобработка данных"
   ]
  },
  {
   "cell_type": "markdown",
   "metadata": {},
   "source": [
    "#### Проверка дубликатов:"
   ]
  },
  {
   "cell_type": "code",
   "execution_count": 9,
   "metadata": {},
   "outputs": [
    {
     "data": {
      "text/plain": [
       "0"
      ]
     },
     "execution_count": 9,
     "metadata": {},
     "output_type": "execute_result"
    }
   ],
   "source": [
    "data.duplicated().sum()"
   ]
  },
  {
   "cell_type": "markdown",
   "metadata": {},
   "source": [
    "#### Проверка пустых строк:"
   ]
  },
  {
   "cell_type": "code",
   "execution_count": 10,
   "metadata": {},
   "outputs": [
    {
     "data": {
      "text/html": [
       "<div>\n",
       "<style scoped>\n",
       "    .dataframe tbody tr th:only-of-type {\n",
       "        vertical-align: middle;\n",
       "    }\n",
       "\n",
       "    .dataframe tbody tr th {\n",
       "        vertical-align: top;\n",
       "    }\n",
       "\n",
       "    .dataframe thead th {\n",
       "        text-align: right;\n",
       "    }\n",
       "</style>\n",
       "<table border=\"1\" class=\"dataframe\">\n",
       "  <thead>\n",
       "    <tr style=\"text-align: right;\">\n",
       "      <th></th>\n",
       "      <th>text</th>\n",
       "      <th>toxic</th>\n",
       "    </tr>\n",
       "  </thead>\n",
       "  <tbody>\n",
       "  </tbody>\n",
       "</table>\n",
       "</div>"
      ],
      "text/plain": [
       "Empty DataFrame\n",
       "Columns: [text, toxic]\n",
       "Index: []"
      ]
     },
     "execution_count": 10,
     "metadata": {},
     "output_type": "execute_result"
    }
   ],
   "source": [
    "data[data['text'] == ''].head()"
   ]
  },
  {
   "cell_type": "markdown",
   "metadata": {},
   "source": [
    "Пустых и дублирующихся комментариев нет. Можно переходить к векторизации текстов."
   ]
  },
  {
   "cell_type": "markdown",
   "metadata": {},
   "source": [
    "### Лемматизация текста"
   ]
  },
  {
   "cell_type": "markdown",
   "metadata": {},
   "source": [
    "Лемматизируем текст. Сначала проведем его очистку используя регулярные выражения."
   ]
  },
  {
   "cell_type": "code",
   "execution_count": 11,
   "metadata": {},
   "outputs": [],
   "source": [
    "def clear_text(text):\n",
    "    clear_text = re.sub(r'[^a-zA-Z ]', ' ', text) \n",
    "    clear_text = clear_text.split()\n",
    "    return \" \".join(clear_text) "
   ]
  },
  {
   "cell_type": "code",
   "execution_count": 13,
   "metadata": {},
   "outputs": [
    {
     "data": {
      "text/html": [
       "<div>\n",
       "<style scoped>\n",
       "    .dataframe tbody tr th:only-of-type {\n",
       "        vertical-align: middle;\n",
       "    }\n",
       "\n",
       "    .dataframe tbody tr th {\n",
       "        vertical-align: top;\n",
       "    }\n",
       "\n",
       "    .dataframe thead th {\n",
       "        text-align: right;\n",
       "    }\n",
       "</style>\n",
       "<table border=\"1\" class=\"dataframe\">\n",
       "  <thead>\n",
       "    <tr style=\"text-align: right;\">\n",
       "      <th></th>\n",
       "      <th>text</th>\n",
       "      <th>toxic</th>\n",
       "      <th>clear_text</th>\n",
       "    </tr>\n",
       "  </thead>\n",
       "  <tbody>\n",
       "    <tr>\n",
       "      <th>0</th>\n",
       "      <td>Explanation\\nWhy the edits made under my usern...</td>\n",
       "      <td>0</td>\n",
       "      <td>Explanation Why the edits made under my userna...</td>\n",
       "    </tr>\n",
       "    <tr>\n",
       "      <th>1</th>\n",
       "      <td>D'aww! He matches this background colour I'm s...</td>\n",
       "      <td>0</td>\n",
       "      <td>D aww He matches this background colour I m se...</td>\n",
       "    </tr>\n",
       "    <tr>\n",
       "      <th>2</th>\n",
       "      <td>Hey man, I'm really not trying to edit war. It...</td>\n",
       "      <td>0</td>\n",
       "      <td>Hey man I m really not trying to edit war It s...</td>\n",
       "    </tr>\n",
       "    <tr>\n",
       "      <th>3</th>\n",
       "      <td>\"\\nMore\\nI can't make any real suggestions on ...</td>\n",
       "      <td>0</td>\n",
       "      <td>More I can t make any real suggestions on impr...</td>\n",
       "    </tr>\n",
       "    <tr>\n",
       "      <th>4</th>\n",
       "      <td>You, sir, are my hero. Any chance you remember...</td>\n",
       "      <td>0</td>\n",
       "      <td>You sir are my hero Any chance you remember wh...</td>\n",
       "    </tr>\n",
       "  </tbody>\n",
       "</table>\n",
       "</div>"
      ],
      "text/plain": [
       "                                                text  toxic  \\\n",
       "0  Explanation\\nWhy the edits made under my usern...      0   \n",
       "1  D'aww! He matches this background colour I'm s...      0   \n",
       "2  Hey man, I'm really not trying to edit war. It...      0   \n",
       "3  \"\\nMore\\nI can't make any real suggestions on ...      0   \n",
       "4  You, sir, are my hero. Any chance you remember...      0   \n",
       "\n",
       "                                          clear_text  \n",
       "0  Explanation Why the edits made under my userna...  \n",
       "1  D aww He matches this background colour I m se...  \n",
       "2  Hey man I m really not trying to edit war It s...  \n",
       "3  More I can t make any real suggestions on impr...  \n",
       "4  You sir are my hero Any chance you remember wh...  "
      ]
     },
     "execution_count": 13,
     "metadata": {},
     "output_type": "execute_result"
    }
   ],
   "source": [
    "data['clear_text'] = data['text'].apply(lambda x: clear_text(x))  \n",
    "data.head()"
   ]
  },
  {
   "cell_type": "markdown",
   "metadata": {},
   "source": [
    "Теперь необходимо привести слова к начальной форме. Попробуем это сделать с помощью Wordnet Lemmatizer (with POS tag)"
   ]
  },
  {
   "cell_type": "code",
   "execution_count": 14,
   "metadata": {},
   "outputs": [],
   "source": [
    "nltk.download('punkt')"
   ]
  },
  {
   "cell_type": "code",
   "execution_count": 15,
   "metadata": {},
   "outputs": [
    {
     "name": "stderr",
     "output_type": "stream",
     "text": [
      "[nltk_data] Downloading package averaged_perceptron_tagger to\n",
      "[nltk_data]     C:\\Users\\alexf\\AppData\\Roaming\\nltk_data...\n",
      "[nltk_data]   Package averaged_perceptron_tagger is already up-to-\n",
      "[nltk_data]       date!\n",
      "[nltk_data] Downloading package wordnet to\n",
      "[nltk_data]     C:\\Users\\alexf\\AppData\\Roaming\\nltk_data...\n",
      "[nltk_data]   Package wordnet is already up-to-date!\n"
     ]
    }
   ],
   "source": [
    "nltk.download('averaged_perceptron_tagger')\n",
    "nltk.download('wordnet')\n",
    "  \n",
    "lemmatizer = WordNetLemmatizer()\n",
    "  \n",
    "# Define function to lemmatize each word with its POS tag\n",
    "  \n",
    "# POS определитель\n",
    "def pos_tagger(nltk_tag):\n",
    "    if nltk_tag.startswith('J'):\n",
    "        return wordnet.ADJ\n",
    "    elif nltk_tag.startswith('V'):\n",
    "        return wordnet.VERB\n",
    "    elif nltk_tag.startswith('N'):\n",
    "        return wordnet.NOUN\n",
    "    elif nltk_tag.startswith('R'):\n",
    "        return wordnet.ADV\n",
    "    else:          \n",
    "        return None\n",
    "    \n",
    "def my_lemmatizer(text):  \n",
    "    # токенизация и определение части языка\n",
    "    pos_tagged = nltk.pos_tag(nltk.word_tokenize(text))  \n",
    "    wordnet_tagged = list(map(lambda x: (x[0], pos_tagger(x[1])), pos_tagged))\n",
    "\n",
    "    lemmatized_sentence = []\n",
    "    for word, tag in wordnet_tagged:\n",
    "        if tag is None:\n",
    "            #лемма если нет тэга\n",
    "            lemmatized_sentence.append(lemmatizer.lemmatize(word))\n",
    "        else:        \n",
    "            #лемма если тэг есть\n",
    "            lemmatized_sentence.append(lemmatizer.lemmatize(word, tag))\n",
    "    lemmatized_sentence = \" \".join(lemmatized_sentence)\n",
    "\n",
    "    return lemmatized_sentence.lower()"
   ]
  },
  {
   "cell_type": "code",
   "execution_count": 16,
   "metadata": {},
   "outputs": [
    {
     "name": "stdout",
     "output_type": "stream",
     "text": [
      "Исходный текст: Explanation Why the edits made under my username Hardcore Metallica Fan were reverted They weren t vandalisms just closure on some GAs after I voted at New York Dolls FAC And please don t remove the template from the talk page since I m retired now\n",
      "Начальная форма: explanation why the edits make under my username hardcore metallica fan be revert they weren t vandalism just closure on some gas after i vote at new york dolls fac and please don t remove the template from the talk page since i m retire now\n"
     ]
    }
   ],
   "source": [
    "print(\"Исходный текст:\", data.loc[0, 'clear_text'])\n",
    "print(\"Начальная форма:\", my_lemmatizer(data.loc[0, 'clear_text']))"
   ]
  },
  {
   "cell_type": "markdown",
   "metadata": {},
   "source": [
    "В целом леммы выделены корректно. Единственный момент, на который нужно обратить внимание: у нас пропали знаки конца предложения, а значит при создании N-грамм у нас будут объединяться вместе разные предложения. Отметим это как возможную точку для дальшейшего улучшения качества работы моделей."
   ]
  },
  {
   "cell_type": "code",
   "execution_count": 17,
   "metadata": {},
   "outputs": [
    {
     "name": "stdout",
     "output_type": "stream",
     "text": [
      "Wall time: 9min 41s\n"
     ]
    },
    {
     "data": {
      "text/html": [
       "<div>\n",
       "<style scoped>\n",
       "    .dataframe tbody tr th:only-of-type {\n",
       "        vertical-align: middle;\n",
       "    }\n",
       "\n",
       "    .dataframe tbody tr th {\n",
       "        vertical-align: top;\n",
       "    }\n",
       "\n",
       "    .dataframe thead th {\n",
       "        text-align: right;\n",
       "    }\n",
       "</style>\n",
       "<table border=\"1\" class=\"dataframe\">\n",
       "  <thead>\n",
       "    <tr style=\"text-align: right;\">\n",
       "      <th></th>\n",
       "      <th>text</th>\n",
       "      <th>toxic</th>\n",
       "      <th>clear_text</th>\n",
       "      <th>lemmas</th>\n",
       "    </tr>\n",
       "  </thead>\n",
       "  <tbody>\n",
       "    <tr>\n",
       "      <th>0</th>\n",
       "      <td>Explanation\\nWhy the edits made under my usern...</td>\n",
       "      <td>0</td>\n",
       "      <td>Explanation Why the edits made under my userna...</td>\n",
       "      <td>explanation why the edits make under my userna...</td>\n",
       "    </tr>\n",
       "    <tr>\n",
       "      <th>1</th>\n",
       "      <td>D'aww! He matches this background colour I'm s...</td>\n",
       "      <td>0</td>\n",
       "      <td>D aww He matches this background colour I m se...</td>\n",
       "      <td>d aww he match this background colour i m seem...</td>\n",
       "    </tr>\n",
       "    <tr>\n",
       "      <th>2</th>\n",
       "      <td>Hey man, I'm really not trying to edit war. It...</td>\n",
       "      <td>0</td>\n",
       "      <td>Hey man I m really not trying to edit war It s...</td>\n",
       "      <td>hey man i m really not try to edit war it s ju...</td>\n",
       "    </tr>\n",
       "    <tr>\n",
       "      <th>3</th>\n",
       "      <td>\"\\nMore\\nI can't make any real suggestions on ...</td>\n",
       "      <td>0</td>\n",
       "      <td>More I can t make any real suggestions on impr...</td>\n",
       "      <td>more i can t make any real suggestion on impro...</td>\n",
       "    </tr>\n",
       "    <tr>\n",
       "      <th>4</th>\n",
       "      <td>You, sir, are my hero. Any chance you remember...</td>\n",
       "      <td>0</td>\n",
       "      <td>You sir are my hero Any chance you remember wh...</td>\n",
       "      <td>you sir be my hero any chance you remember wha...</td>\n",
       "    </tr>\n",
       "  </tbody>\n",
       "</table>\n",
       "</div>"
      ],
      "text/plain": [
       "                                                text  toxic  \\\n",
       "0  Explanation\\nWhy the edits made under my usern...      0   \n",
       "1  D'aww! He matches this background colour I'm s...      0   \n",
       "2  Hey man, I'm really not trying to edit war. It...      0   \n",
       "3  \"\\nMore\\nI can't make any real suggestions on ...      0   \n",
       "4  You, sir, are my hero. Any chance you remember...      0   \n",
       "\n",
       "                                          clear_text  \\\n",
       "0  Explanation Why the edits made under my userna...   \n",
       "1  D aww He matches this background colour I m se...   \n",
       "2  Hey man I m really not trying to edit war It s...   \n",
       "3  More I can t make any real suggestions on impr...   \n",
       "4  You sir are my hero Any chance you remember wh...   \n",
       "\n",
       "                                              lemmas  \n",
       "0  explanation why the edits make under my userna...  \n",
       "1  d aww he match this background colour i m seem...  \n",
       "2  hey man i m really not try to edit war it s ju...  \n",
       "3  more i can t make any real suggestion on impro...  \n",
       "4  you sir be my hero any chance you remember wha...  "
      ]
     },
     "execution_count": 17,
     "metadata": {},
     "output_type": "execute_result"
    }
   ],
   "source": [
    "%%time\n",
    "data['lemmas'] = data['clear_text'].apply(lambda x: my_lemmatizer(x))   \n",
    "data.head()"
   ]
  },
  {
   "cell_type": "code",
   "execution_count": 18,
   "metadata": {},
   "outputs": [
    {
     "name": "stdout",
     "output_type": "stream",
     "text": [
      "<class 'pandas.core.frame.DataFrame'>\n",
      "RangeIndex: 159571 entries, 0 to 159570\n",
      "Data columns (total 3 columns):\n",
      " #   Column  Non-Null Count   Dtype \n",
      "---  ------  --------------   ----- \n",
      " 0   text    159571 non-null  object\n",
      " 1   toxic   159571 non-null  int64 \n",
      " 2   lemmas  159571 non-null  object\n",
      "dtypes: int64(1), object(2)\n",
      "memory usage: 3.7+ MB\n"
     ]
    }
   ],
   "source": [
    "data.drop(['clear_text'], axis=1, inplace = True)\n",
    "data.info()"
   ]
  },
  {
   "cell_type": "markdown",
   "metadata": {},
   "source": [
    "Лемматизация завершена, можно переходить к векторизации."
   ]
  },
  {
   "cell_type": "markdown",
   "metadata": {},
   "source": [
    "#### Векторизация текста"
   ]
  },
  {
   "cell_type": "markdown",
   "metadata": {},
   "source": [
    "Векторное отображение текста будем задавать через TF-IDF для N-грамм слов. TF-IDF позволит нам придать вес словам в корпусе, а через N-граммы мы будем пытаться зафиксировать смысловую связь слов в словосочетаниях."
   ]
  },
  {
   "cell_type": "code",
   "execution_count": 15,
   "metadata": {},
   "outputs": [],
   "source": [
    "corpus = data['lemmas'].values.astype('U')"
   ]
  },
  {
   "cell_type": "code",
   "execution_count": 16,
   "metadata": {},
   "outputs": [
    {
     "name": "stderr",
     "output_type": "stream",
     "text": [
      "[nltk_data] Downloading package stopwords to\n",
      "[nltk_data]     C:\\Users\\alexf\\AppData\\Roaming\\nltk_data...\n",
      "[nltk_data]   Package stopwords is already up-to-date!\n"
     ]
    }
   ],
   "source": [
    "nltk.download('stopwords')\n",
    "swords = stopwords.words('english')\n",
    "stopwords_set = set(swords)"
   ]
  },
  {
   "cell_type": "code",
   "execution_count": 23,
   "metadata": {},
   "outputs": [
    {
     "name": "stdout",
     "output_type": "stream",
     "text": [
      "Wall time: 0 ns\n"
     ]
    }
   ],
   "source": [
    "%%time\n",
    "count_tf_idf = TfidfVectorizer(stop_words=stopwords_set, ngram_range=(1, 1))\n",
    "#tf_idf = count_tf_idf.fit_transform()"
   ]
  },
  {
   "cell_type": "markdown",
   "metadata": {},
   "source": [
    "Поскольку у нас довольно большой корпус, уже при N=2, создается более 2х миллионов признаков, что очень сильно осложняет работу моделей. Ограничемся значением в N=1, и, если потребуется большая точность, вернемся к этому этапу."
   ]
  },
  {
   "cell_type": "markdown",
   "metadata": {},
   "source": [
    "### Создание эмбеддингов"
   ]
  },
  {
   "cell_type": "markdown",
   "metadata": {},
   "source": [
    "На предыдущих шагах мы подготовили наши данные для обучения моделей на нашем корпусе с нуля. Однако существуют предобученные модели, использующие больший корпус. \n",
    "\n",
    "Рассмотрим одну из таких моделей – BERT (англ. Bidirectional Encoder Representations from Transformers). Для экономии ресурсов используем distilBERT. Поскольку BERT уже обучен на своем корпусе нам не потребуется большое количество данных из датасета. Для анализа возьмем 500 случайных комментариев, разделим их в соотношении 3:1:1 на трейн, валидацию и тест. При этом создадим баланс классов в обучающей выборке."
   ]
  },
  {
   "cell_type": "code",
   "execution_count": 54,
   "metadata": {},
   "outputs": [
    {
     "data": {
      "text/plain": [
       "((3000, 4), (200, 4))"
      ]
     },
     "execution_count": 54,
     "metadata": {},
     "output_type": "execute_result"
    }
   ],
   "source": [
    "data_4bert_train, data_4bert_val_ntest = train_test_split(data, train_size=3000, test_size = 200,\n",
    "                                                            stratify=data['toxic'], random_state=RS)\n",
    "\n",
    "data_4bert_train.shape, data_4bert_val_ntest.shape"
   ]
  },
  {
   "cell_type": "code",
   "execution_count": 55,
   "metadata": {},
   "outputs": [
    {
     "data": {
      "text/html": [
       "<div>\n",
       "<style scoped>\n",
       "    .dataframe tbody tr th:only-of-type {\n",
       "        vertical-align: middle;\n",
       "    }\n",
       "\n",
       "    .dataframe tbody tr th {\n",
       "        vertical-align: top;\n",
       "    }\n",
       "\n",
       "    .dataframe thead th {\n",
       "        text-align: right;\n",
       "    }\n",
       "</style>\n",
       "<table border=\"1\" class=\"dataframe\">\n",
       "  <thead>\n",
       "    <tr style=\"text-align: right;\">\n",
       "      <th></th>\n",
       "      <th>Unnamed: 0</th>\n",
       "      <th>text</th>\n",
       "      <th>toxic</th>\n",
       "      <th>lemmas</th>\n",
       "    </tr>\n",
       "  </thead>\n",
       "  <tbody>\n",
       "    <tr>\n",
       "      <th>0</th>\n",
       "      <td>78020</td>\n",
       "      <td>How do you characterize this as an attack?</td>\n",
       "      <td>0</td>\n",
       "      <td>how do you characterize this a an attack</td>\n",
       "    </tr>\n",
       "    <tr>\n",
       "      <th>1</th>\n",
       "      <td>10166</td>\n",
       "      <td>Please refrain from adding nonsense to Wikiped...</td>\n",
       "      <td>0</td>\n",
       "      <td>please refrain from add nonsense to wikipedia ...</td>\n",
       "    </tr>\n",
       "    <tr>\n",
       "      <th>2</th>\n",
       "      <td>65629</td>\n",
       "      <td>I know.  I'm paranoid.</td>\n",
       "      <td>0</td>\n",
       "      <td>i know i m paranoid</td>\n",
       "    </tr>\n",
       "    <tr>\n",
       "      <th>3</th>\n",
       "      <td>149468</td>\n",
       "      <td>\"\\n\\nI have read this entire section carefully...</td>\n",
       "      <td>0</td>\n",
       "      <td>i have read this entire section carefully the ...</td>\n",
       "    </tr>\n",
       "    <tr>\n",
       "      <th>4</th>\n",
       "      <td>104522</td>\n",
       "      <td>\"\\n\\n Nevermind. I found the statement dealing...</td>\n",
       "      <td>0</td>\n",
       "      <td>nevermind i find the statement deal with the i...</td>\n",
       "    </tr>\n",
       "    <tr>\n",
       "      <th>...</th>\n",
       "      <td>...</td>\n",
       "      <td>...</td>\n",
       "      <td>...</td>\n",
       "      <td>...</td>\n",
       "    </tr>\n",
       "    <tr>\n",
       "      <th>295</th>\n",
       "      <td>95991</td>\n",
       "      <td>Wow, you really take this stuff seriously?  Lo...</td>\n",
       "      <td>1</td>\n",
       "      <td>wow you really take this stuff seriously loser</td>\n",
       "    </tr>\n",
       "    <tr>\n",
       "      <th>296</th>\n",
       "      <td>63797</td>\n",
       "      <td>WikiTheClown\\nWelcome to Wikipedia. Although e...</td>\n",
       "      <td>1</td>\n",
       "      <td>wikitheclown welcome to wikipedia although eve...</td>\n",
       "    </tr>\n",
       "    <tr>\n",
       "      <th>297</th>\n",
       "      <td>88725</td>\n",
       "      <td>Seriously. \\n\\n.\\n\\nPoint, click, and block. \\...</td>\n",
       "      <td>1</td>\n",
       "      <td>seriously point click and block you don t inti...</td>\n",
       "    </tr>\n",
       "    <tr>\n",
       "      <th>298</th>\n",
       "      <td>3033</td>\n",
       "      <td>\"\\n\\noh i see, my comment is a personal attack...</td>\n",
       "      <td>1</td>\n",
       "      <td>oh i see my comment be a personal attack but o...</td>\n",
       "    </tr>\n",
       "    <tr>\n",
       "      <th>299</th>\n",
       "      <td>73107</td>\n",
       "      <td>hi \\n\\ni wanna suck ur cock )</td>\n",
       "      <td>1</td>\n",
       "      <td>hi i wan na suck ur cock</td>\n",
       "    </tr>\n",
       "  </tbody>\n",
       "</table>\n",
       "<p>300 rows × 4 columns</p>\n",
       "</div>"
      ],
      "text/plain": [
       "     Unnamed: 0                                               text  toxic  \\\n",
       "0         78020         How do you characterize this as an attack?      0   \n",
       "1         10166  Please refrain from adding nonsense to Wikiped...      0   \n",
       "2         65629                             I know.  I'm paranoid.      0   \n",
       "3        149468  \"\\n\\nI have read this entire section carefully...      0   \n",
       "4        104522  \"\\n\\n Nevermind. I found the statement dealing...      0   \n",
       "..          ...                                                ...    ...   \n",
       "295       95991  Wow, you really take this stuff seriously?  Lo...      1   \n",
       "296       63797  WikiTheClown\\nWelcome to Wikipedia. Although e...      1   \n",
       "297       88725  Seriously. \\n\\n.\\n\\nPoint, click, and block. \\...      1   \n",
       "298        3033  \"\\n\\noh i see, my comment is a personal attack...      1   \n",
       "299       73107                      hi \\n\\ni wanna suck ur cock )      1   \n",
       "\n",
       "                                                lemmas  \n",
       "0             how do you characterize this a an attack  \n",
       "1    please refrain from add nonsense to wikipedia ...  \n",
       "2                                  i know i m paranoid  \n",
       "3    i have read this entire section carefully the ...  \n",
       "4    nevermind i find the statement deal with the i...  \n",
       "..                                                 ...  \n",
       "295     wow you really take this stuff seriously loser  \n",
       "296  wikitheclown welcome to wikipedia although eve...  \n",
       "297  seriously point click and block you don t inti...  \n",
       "298  oh i see my comment be a personal attack but o...  \n",
       "299                           hi i wan na suck ur cock  \n",
       "\n",
       "[300 rows x 4 columns]"
      ]
     },
     "execution_count": 55,
     "metadata": {},
     "output_type": "execute_result"
    }
   ],
   "source": [
    "zeroes = data_4bert_train.query('toxic == 0').sample(n=150, random_state=RS)\n",
    "ones = data_4bert_train.query('toxic == 1').sample(n=150, random_state=RS)\n",
    "data_4bert_train = zeroes.append(ones, ignore_index=True)\n",
    "data_4bert_train"
   ]
  },
  {
   "cell_type": "markdown",
   "metadata": {},
   "source": [
    "Отметим что целевой признак распределен не случайно, при создании обучающей и тестовой подвыборок необходимо будет перемешать комментарии случайном образом.\n",
    "\n",
    "Загрузим предобученную модель.\n",
    "Будем использовать токенайзер, встроенный в BERT, он сам добавит воспомогательные токены, а также обрежет слишком длинные комментарии (максимальное количество токенов в BERT = 512)."
   ]
  },
  {
   "cell_type": "code",
   "execution_count": 56,
   "metadata": {},
   "outputs": [
    {
     "name": "stderr",
     "output_type": "stream",
     "text": [
      "Some weights of the model checkpoint at distilbert-base-uncased were not used when initializing DistilBertModel: ['vocab_projector.weight', 'vocab_transform.weight', 'vocab_projector.bias', 'vocab_transform.bias', 'vocab_layer_norm.bias', 'vocab_layer_norm.weight']\n",
      "- This IS expected if you are initializing DistilBertModel from the checkpoint of a model trained on another task or with another architecture (e.g. initializing a BertForSequenceClassification model from a BertForPreTraining model).\n",
      "- This IS NOT expected if you are initializing DistilBertModel from the checkpoint of a model that you expect to be exactly identical (initializing a BertForSequenceClassification model from a BertForSequenceClassification model).\n"
     ]
    }
   ],
   "source": [
    "model_class, tokenizer_class, pretrained_weights = (transformers.DistilBertModel, transformers.DistilBertTokenizer, 'distilbert-base-uncased')\n",
    "\n",
    "tokenizer = tokenizer_class.from_pretrained(pretrained_weights)\n",
    "model = model_class.from_pretrained(pretrained_weights)"
   ]
  },
  {
   "cell_type": "code",
   "execution_count": 57,
   "metadata": {},
   "outputs": [
    {
     "name": "stdout",
     "output_type": "stream",
     "text": [
      "Wall time: 725 ms\n"
     ]
    }
   ],
   "source": [
    "%%time\n",
    "tokenized_train = data_4bert_train['lemmas'].apply(\n",
    "    lambda x: tokenizer.encode(x, add_special_tokens=True, max_length=512, truncation=True))\n",
    "\n",
    "tokenized_val_test = data_4bert_val_ntest['lemmas'].apply(\n",
    "    lambda x: tokenizer.encode(x, add_special_tokens=True, max_length=512, truncation=True))\n"
   ]
  },
  {
   "cell_type": "markdown",
   "metadata": {},
   "source": [
    "Применим padding, чтобы после токенизации длины исходных текстов в корпусе были равными."
   ]
  },
  {
   "cell_type": "code",
   "execution_count": 58,
   "metadata": {},
   "outputs": [],
   "source": [
    "def padding(tokenized_data):\n",
    "    max_len = 0\n",
    "    for i in tokenized_data.values:\n",
    "        if len(i) > max_len:\n",
    "            max_len = len(i)\n",
    "\n",
    "    return np.array([i + [0]*(max_len - len(i)) for i in tokenized_data.values])\n",
    "    \n",
    "padded_train = padding(tokenized_train)\n",
    "padded_val_test = padding(tokenized_val_test)"
   ]
  },
  {
   "cell_type": "markdown",
   "metadata": {},
   "source": [
    "Зададим маску со значимой информацией."
   ]
  },
  {
   "cell_type": "code",
   "execution_count": 59,
   "metadata": {},
   "outputs": [],
   "source": [
    "attention_mask_train = np.where(padded_train != 0, 1, 0)\n",
    "attention_mask_val_test = np.where(padded_val_test != 0, 1, 0)"
   ]
  },
  {
   "cell_type": "markdown",
   "metadata": {},
   "source": [
    "Преходим к созданию эмбендингов.  \n",
    "Создавать будем батчами, по 100 элементов. Сначала преобразуем данные в формат тензоров — многомерных векторов в «длинном формате» LongTensor, то есть на каждое число будет выделено 64 бита."
   ]
  },
  {
   "cell_type": "code",
   "execution_count": 60,
   "metadata": {},
   "outputs": [],
   "source": [
    "\n",
    "def get_embeddings(padded, attention_mask):\n",
    "    batch_size = 100\n",
    "    embeddings = []\n",
    "    for i in range(padded.shape[0] // batch_size):\n",
    "            batch = torch.LongTensor(padded[batch_size*i:batch_size*(i+1)]) \n",
    "            attention_mask_batch = torch.LongTensor(attention_mask[batch_size*i:batch_size*(i+1)])\n",
    "\n",
    "            with torch.no_grad():\n",
    "                batch_embeddings = model(batch, attention_mask=attention_mask_batch)\n",
    "\n",
    "            embeddings.append(batch_embeddings[0][:,0,:].numpy())\n",
    "\n",
    "    return np.concatenate(embeddings)        "
   ]
  },
  {
   "cell_type": "code",
   "execution_count": 61,
   "metadata": {},
   "outputs": [
    {
     "name": "stdout",
     "output_type": "stream",
     "text": [
      "Wall time: 3min 17s\n"
     ]
    }
   ],
   "source": [
    "%%time\n",
    "embedded_features_train = get_embeddings(padded_train, attention_mask_train)\n",
    "embedded_features_val_test = get_embeddings(padded_val_test, attention_mask_val_test)"
   ]
  },
  {
   "cell_type": "markdown",
   "metadata": {},
   "source": [
    "Отметим, что для создания эмбеддингов для 500 комментариев нам потребовалось 3 минуты. Оценим вычислительную сложность модели и посмотрим как будет изменяться время при увеличении выборки: в начале каждому тексту сопоставляется матрица. Это уже O(n^2). Далее в каждом тексте отдельно для каждого токена проходятся еще по ряду слов и, в большом словаре, который есть у модели, ищут соответствие. Это еще добавляет сколько-то сложности. Таким образом, сложность как минимум квадратичная."
   ]
  },
  {
   "cell_type": "markdown",
   "metadata": {},
   "source": [
    "После создания эмбеддингов мы будем передавать их модели Логистической регрессии, она примет результат обработки DistilBERT и классифицирует предложение как положительное или отрицательное."
   ]
  },
  {
   "cell_type": "markdown",
   "metadata": {},
   "source": [
    "### Вывод"
   ]
  },
  {
   "cell_type": "markdown",
   "metadata": {},
   "source": [
    "На первом шаге мы подготовили наши данные для дальней работы. \n",
    "1. Загрузили данные. Всего для анализа было получено 159571 комментариев и их тональности.\n",
    "2. Проверили дубликаты и пропуски.\n",
    "3. Произвели лемматизацию текста с помощью Wordnet Lemmatizer (с тэггером части речи POS).\n",
    "4. Векторизовали тексты через TF-IDF для N-грамм слов.\n",
    "5. Создали эмбеддинги с помощью DistilBERT. Для анализа мы взяли 500 случайных текстов. Отметим, что для создания эмбеддингов для 500 текстов нам потребовалось 3 минуты. Мы оценили что вычислительная сложность модели как минимум квадратичная."
   ]
  },
  {
   "cell_type": "markdown",
   "metadata": {},
   "source": [
    "## Анализ"
   ]
  },
  {
   "cell_type": "markdown",
   "metadata": {},
   "source": [
    "Проверим распределение целевого признака."
   ]
  },
  {
   "cell_type": "code",
   "execution_count": 30,
   "metadata": {},
   "outputs": [
    {
     "data": {
      "text/plain": [
       "2"
      ]
     },
     "execution_count": 30,
     "metadata": {},
     "output_type": "execute_result"
    }
   ],
   "source": [
    "data['toxic'].nunique()"
   ]
  },
  {
   "cell_type": "markdown",
   "metadata": {},
   "source": [
    "Поскольку в целевом признаке есть только 2 исхода: токсичный текст (1) и нет (0), мы решаем задачу бинарной классификации."
   ]
  },
  {
   "cell_type": "code",
   "execution_count": 36,
   "metadata": {},
   "outputs": [
    {
     "data": {
      "image/png": "[encoded data removed]",
      "text/plain": [
       "<Figure size 432x288 with 1 Axes>"
      ]
     },
     "metadata": {},
     "output_type": "display_data"
    }
   ],
   "source": [
    "data['toxic'].plot(kind = 'hist', bins = 2)\n",
    "plt.xlabel('toxic: no / yes')\n",
    "plt.ylabel('Частота')\n",
    "plt.title('Распределение целевого признака');"
   ]
  },
  {
   "cell_type": "code",
   "execution_count": 37,
   "metadata": {},
   "outputs": [
    {
     "data": {
      "text/plain": [
       "8.83"
      ]
     },
     "execution_count": 37,
     "metadata": {},
     "output_type": "execute_result"
    }
   ],
   "source": [
    "diff = data['toxic'].value_counts()[0] / data['toxic'].value_counts()[1]\n",
    "diff = np.round(diff, decimals=2)\n",
    "diff"
   ]
  },
  {
   "cell_type": "markdown",
   "metadata": {},
   "source": [
    "Как становится видно, негативных текстов примерно в девять раз меньше чем положительных. "
   ]
  },
  {
   "cell_type": "markdown",
   "metadata": {},
   "source": [
    "## Построение моделей  "
   ]
  },
  {
   "cell_type": "markdown",
   "metadata": {},
   "source": [
    "### Выбор метрики для оценки качества моделей."
   ]
  },
  {
   "cell_type": "markdown",
   "metadata": {},
   "source": [
    "Для оценки моделей на этапе обучения будем использовать метрику F1. Она позволит более точно отследить ошибку в нашем случае с дисбалансом классов."
   ]
  },
  {
   "cell_type": "markdown",
   "metadata": {},
   "source": [
    "### Обучение моделей"
   ]
  },
  {
   "cell_type": "markdown",
   "metadata": {},
   "source": [
    "Разделим выборки на тестовую и обучающую."
   ]
  },
  {
   "cell_type": "code",
   "execution_count": 18,
   "metadata": {},
   "outputs": [],
   "source": [
    "features = corpus\n",
    "target = data['toxic']"
   ]
  },
  {
   "cell_type": "code",
   "execution_count": 19,
   "metadata": {},
   "outputs": [
    {
     "data": {
      "text/plain": [
       "((127656,), (127656,), (31915,), (31915,))"
      ]
     },
     "execution_count": 19,
     "metadata": {},
     "output_type": "execute_result"
    }
   ],
   "source": [
    "features_train, features_test, target_train, target_test = train_test_split(features, target, test_size=0.2, \n",
    "                                                                            stratify=target, random_state=RS)\n",
    "\n",
    "features_train.shape, target_train.shape, features_test.shape, target_test.shape"
   ]
  },
  {
   "cell_type": "markdown",
   "metadata": {},
   "source": [
    "### LogisticRegression"
   ]
  },
  {
   "cell_type": "markdown",
   "metadata": {},
   "source": [
    "Будем использовать кросс-валидацию и следующие гиперпараметры: вес классов - сбалансированный, сила регуляризации `С` от 0.0001 до 10."
   ]
  },
  {
   "cell_type": "code",
   "execution_count": 33,
   "metadata": {},
   "outputs": [
    {
     "name": "stdout",
     "output_type": "stream",
     "text": [
      "best parameters:  {'logistic__C': 10.0}\n",
      "best scrores:  0.7569391815432566\n",
      "Wall time: 4min 53s\n"
     ]
    }
   ],
   "source": [
    "%%time\n",
    "LR_model = LogisticRegression(class_weight = 'balanced', random_state=RS, max_iter = 300) \n",
    "pipe = Pipeline(steps=[('tf_idf', count_tf_idf), ('logistic', LR_model)])\n",
    "\n",
    "parameters = {'logistic__C': np.linspace(0.0001, 10, 7)\n",
    "             }\n",
    "\n",
    "grid_search = GridSearchCV(pipe, parameters, scoring='f1', cv=3)\n",
    "grid_search.fit(features_train, target_train)\n",
    "\n",
    "print('best parameters: ', grid_search.best_params_)\n",
    "print('best scrores: ', grid_search.best_score_)"
   ]
  },
  {
   "cell_type": "markdown",
   "metadata": {},
   "source": [
    "Средний F1 на обучающей выборке = 0.757, это уже чуть больше минимально требуемого значения в 0.75."
   ]
  },
  {
   "cell_type": "markdown",
   "metadata": {},
   "source": [
    "### RandomForestClassifier"
   ]
  },
  {
   "cell_type": "code",
   "execution_count": 34,
   "metadata": {},
   "outputs": [
    {
     "name": "stdout",
     "output_type": "stream",
     "text": [
      "best parameters:  {'RFClf__n_estimators': 70, 'RFClf__max_depth': 30.0}\n",
      "best mean F1:  0.4405602762165446\n",
      "Wall time: 1min 49s\n"
     ]
    }
   ],
   "source": [
    "%%time\n",
    "RFClf_model = RandomForestClassifier(class_weight = 'balanced', random_state = RS)\n",
    "pipe = Pipeline(steps=[('tf_idf', count_tf_idf), ('RFClf', RFClf_model)])\n",
    "\n",
    "parameters = {'RFClf__max_depth': np.linspace(20, 40, 3),\n",
    "             'RFClf__n_estimators': range(40, 100, 30)}\n",
    "\n",
    "grid_search = RandomizedSearchCV(pipe, parameters, \n",
    "                                 scoring= 'f1', \n",
    "                                 cv= 3, \n",
    "                                 n_iter= 2, \n",
    "                                 random_state= RS)\n",
    "\n",
    "grid_search.fit(features_train, target_train)\n",
    "\n",
    "print('best parameters: ', grid_search.best_params_)\n",
    "print('best mean F1: ', grid_search.best_score_)"
   ]
  },
  {
   "cell_type": "markdown",
   "metadata": {},
   "source": [
    "Модель случайного леса работает гораздо медленней логистической регрессии и показывает низкие результаты (лучший средний F1: 0.44). Скорее всего это связано с тем, что признаков очень много (161394), и для хорошего предсказания необходимо строить очень глубокие деревья. Однако это будет занимать очень много времени и вычислительных  ресурсов."
   ]
  },
  {
   "cell_type": "markdown",
   "metadata": {},
   "source": [
    "### XGBoost"
   ]
  },
  {
   "cell_type": "markdown",
   "metadata": {},
   "source": [
    "В данном проекте мы будем использовать Sklearn API для работы с XGBoost-ом. У XGB существует DMatrix - это внутренняя структура данных, которая оптимизирована для эффективности использования памяти и для скорости обучения. Сначала попробуем использовать уже созданные нами массивы `scipy sparse csr_matrix`, а если потребуется ускорить работу модели, то перейдем к DMatrix."
   ]
  },
  {
   "cell_type": "markdown",
   "metadata": {},
   "source": [
    "Гиперпараметры к XGB будем подбирать с помощью кривых обучения. Будем смотреть как влияет количество деревьев на качество предсказания, в зависимости от величины шага градиентного спуска (learning rate). Зададим логарифмическое пространство для перебора lr."
   ]
  },
  {
   "cell_type": "code",
   "execution_count": 49,
   "metadata": {},
   "outputs": [
    {
     "data": {
      "text/plain": [
       "array([0.05      , 0.09246556, 0.17099759, 0.31622777, 0.58480355,\n",
       "       1.08148375, 2.        ])"
      ]
     },
     "execution_count": 49,
     "metadata": {},
     "output_type": "execute_result"
    }
   ],
   "source": [
    "a = np.geomspace(0.05, 2, 7)\n",
    "a"
   ]
  },
  {
   "cell_type": "markdown",
   "metadata": {},
   "source": [
    "Обучение XGBoost с кросс-валидацией и pipline на преобразование векторов для каждого fold-a будет очень долго и ресурсоемко. Поскольку у нас большая выборка, мы можем ожидать адекватную валидацию моделей при обычном разделении всего корпуса на трейн, валидацию и тест.\n",
    "Разделим выборки в соотношении 3:1:1."
   ]
  },
  {
   "cell_type": "code",
   "execution_count": 88,
   "metadata": {},
   "outputs": [],
   "source": [
    "#сначала разделим на обучающую и временную части\n",
    "features_train, features_temp, target_train, target_temp = train_test_split(\n",
    "    features, target, test_size=0.4, stratify=target, random_state=RS)\n",
    "\n",
    "#поделим временную выборку на валидационную и тестовую\n",
    "features_valid, features_test, target_valid, target_test = train_test_split(\n",
    "    features_temp, target_temp, stratify=target_temp, test_size=0.5, random_state=RS)"
   ]
  },
  {
   "cell_type": "code",
   "execution_count": 89,
   "metadata": {},
   "outputs": [
    {
     "data": {
      "text/plain": [
       "((95742,), (95742,), (31914,), (31914,), (31915,), (31915,))"
      ]
     },
     "execution_count": 89,
     "metadata": {},
     "output_type": "execute_result"
    }
   ],
   "source": [
    "features_train.shape, target_train.shape, features_valid.shape,  target_valid.shape, features_test.shape, target_test.shape"
   ]
  },
  {
   "cell_type": "code",
   "execution_count": 90,
   "metadata": {},
   "outputs": [],
   "source": [
    "count_tf_idf = TfidfVectorizer(stop_words=stopwords_set, ngram_range=(1, 1))\n",
    "count_tf_idf.fit(features_train)\n",
    "\n",
    "tf_idf_features_train = count_tf_idf.transform(features_train)\n",
    "tf_idf_features_valid = count_tf_idf.transform(features_valid)\n",
    "tf_idf_features_test = count_tf_idf.transform(features_test)"
   ]
  },
  {
   "cell_type": "code",
   "execution_count": 51,
   "metadata": {
    "tags": []
   },
   "outputs": [
    {
     "data": {
      "image/png": "[encoded data removed]",
      "text/plain": [
       "<Figure size 432x288 with 1 Axes>"
      ]
     },
     "metadata": {},
     "output_type": "display_data"
    },
    {
     "data": {
      "image/png": "[encoded data removed]",
      "text/plain": [
       "<Figure size 432x288 with 1 Axes>"
      ]
     },
     "metadata": {},
     "output_type": "display_data"
    },
    {
     "data": {
      "image/png": "[encoded data removed]",
      "text/plain": [
       "<Figure size 432x288 with 1 Axes>"
      ]
     },
     "metadata": {},
     "output_type": "display_data"
    },
    {
     "data": {
      "image/png": "[encoded data removed]",
      "text/plain": [
       "<Figure size 432x288 with 1 Axes>"
      ]
     },
     "metadata": {},
     "output_type": "display_data"
    },
    {
     "data": {
      "image/png": "[encoded data removed]",
      "text/plain": [
       "<Figure size 432x288 with 1 Axes>"
      ]
     },
     "metadata": {},
     "output_type": "display_data"
    },
    {
     "data": {
      "image/png": "[encoded data removed]",
      "text/plain": [
       "<Figure size 432x288 with 1 Axes>"
      ]
     },
     "metadata": {},
     "output_type": "display_data"
    },
    {
     "data": {
      "image/png": "[encoded data removed]",
      "text/plain": [
       "<Figure size 432x288 with 1 Axes>"
      ]
     },
     "metadata": {},
     "output_type": "display_data"
    },
    {
     "name": "stdout",
     "output_type": "stream",
     "text": [
      "Средний F1 score наилучшей модели: 0.7616438356164384 Лучшее количество деревьев: 650 Лучший learning rate: 0.5848035476425731\n",
      "Wall time: 33min 50s\n"
     ]
    }
   ],
   "source": [
    "%%time\n",
    "#визуализация кривых обучения\n",
    "def f1_plot(n_est_row, f1_scores, learn_r):\n",
    "    lr = np.round(learn_r, decimals=2) \n",
    "    g = plt.plot(n_est_row, \n",
    "         f1_scores,  \n",
    "         f'#DC143C'        \n",
    "         )     \n",
    "\n",
    "    plt.xlabel('Количество предсказателей')\n",
    "    plt.ylabel('F1 score')\n",
    "    plt.title(f\"Зависимость f1 от количества деревьев для learn rate = {lr}\")\n",
    "    plt.show()\n",
    "\n",
    "    \n",
    "best_model = None\n",
    "best_result = 0\n",
    "best_lr = 0\n",
    "best_n_est = 0\n",
    "for lr in np.geomspace(0.05, 2, 7):\n",
    "    n_est_row = []\n",
    "    f1_scores = []\n",
    "    for n_est in range(50, 651, 200):    \n",
    "        XGBmodel = XGBClassifier(objective='binary:logistic', \n",
    "                      use_label_encoder=False,\n",
    "                      eval_metric='logloss',\n",
    "                      scale_pos_weight=diff,\n",
    "                      n_estimators= n_est, \n",
    "                      max_depth= 3, \n",
    "                      learning_rate= lr, \n",
    "                      n_jobs= -1,\n",
    "                      random_state = RS,\n",
    "                      verbosity = 1)\n",
    "        \n",
    "        XGBmodel.fit(tf_idf_features_train, target_train)\n",
    "        predictions = XGBmodel.predict(tf_idf_features_valid)\n",
    "        \n",
    "        result = f1_score(target_valid, predictions)\n",
    "        n_est_row.append(n_est)\n",
    "        f1_scores.append(result)\n",
    "        \n",
    "        if result > best_result:\n",
    "            best_model = XGBmodel\n",
    "            best_result = result \n",
    "            best_n_est = n_est\n",
    "            best_lr = lr\n",
    "            \n",
    "    f1_plot(n_est_row, f1_scores, lr)\n",
    "    \n",
    "    \n",
    "print(\"Средний F1 score наилучшей модели:\", best_result, \n",
    "      \"Лучшее количество деревьев:\", best_n_est, \n",
    "      \"Лучший learning rate:\", best_lr)    \n"
   ]
  },
  {
   "cell_type": "markdown",
   "metadata": {},
   "source": [
    "Графики показывают, что нужно большее количество предсказателей в нашей задаче. При lr=2 мы не спускаемся в точку минимума градиентным спуском, это слишком большой шаг. \n",
    "Зафиксируем lr = 0.58 и построим больше деревьев."
   ]
  },
  {
   "cell_type": "code",
   "execution_count": 52,
   "metadata": {},
   "outputs": [
    {
     "name": "stdout",
     "output_type": "stream",
     "text": [
      "[18:35:31] WARNING: C:/Users/Administrator/workspace/xgboost-win64_release_1.4.0/src/learner.cc:1095: Starting in XGBoost 1.3.0, the default evaluation metric used with the objective 'binary:logistic' was changed from 'error' to 'logloss'. Explicitly set eval_metric if you'd like to restore the old behavior.\n",
      "Validation F1: 0.7607843137254902\n"
     ]
    }
   ],
   "source": [
    "lr = 0.58\n",
    "n_est = 650    \n",
    "XGBmodel = XGBClassifier(objective='binary:logistic', \n",
    "                      scale_pos_weight=diff, \n",
    "                      use_label_encoder=False,\n",
    "                      n_estimators= n_est, \n",
    "                      max_depth= 3, \n",
    "                      learning_rate= lr, \n",
    "                      n_jobs= -1,\n",
    "                      random_state = RS,\n",
    "                      verbosity = 1)\n",
    "\n",
    "XGBmodel.fit(tf_idf_features_train, target_train)\n",
    "predictions = XGBmodel.predict(tf_idf_features_valid)\n",
    "        \n",
    "result = f1_score(target_valid, predictions)\n",
    "\n",
    "print('Validation F1:', result)"
   ]
  },
  {
   "cell_type": "markdown",
   "metadata": {},
   "source": [
    "Результат начал падать. В этом проекте мы остановимся на F1 = 0.762 c 650 деревьями и learning rate 0.58, однако можно изменять масштаб перебора значений (посмотреть 600 и 700 деревьев) и, скорее всего, её улучшить F1 score. "
   ]
  },
  {
   "cell_type": "markdown",
   "metadata": {},
   "source": [
    "### Модель Логистической регрессии на эмбеддингах BERT"
   ]
  },
  {
   "cell_type": "markdown",
   "metadata": {},
   "source": [
    "Разделим данные на обучающую и тестовую выборки, а также убедимся что комментарии перемешаны."
   ]
  },
  {
   "cell_type": "code",
   "execution_count": 79,
   "metadata": {},
   "outputs": [
    {
     "data": {
      "text/plain": [
       "((300, 768), (100, 768), (100, 768))"
      ]
     },
     "execution_count": 79,
     "metadata": {},
     "output_type": "execute_result"
    }
   ],
   "source": [
    "emb_target_train = data_4bert_train['toxic']\n",
    "emb_target_val_test = data_4bert_val_ntest['toxic']\n",
    "#признаки лежат в переменных embedded_features_train, embedded_features_val_test \n",
    "\n",
    "#разделим валидацию и тест\n",
    "emb_features_validate, emb_features_test, emb_target_validate, emb_target_test = train_test_split(embedded_features_val_test, emb_target_val_test, test_size=0.5, \n",
    "                                                                            stratify=emb_target_val_test, random_state=RS)\n",
    "\n",
    "embedded_features_train.shape, emb_features_validate.shape, emb_features_test.shape"
   ]
  },
  {
   "cell_type": "markdown",
   "metadata": {},
   "source": [
    "Выборки определены, переходим к обучению. Пройдемся по значаниям параметра `C` - силы регуляризации."
   ]
  },
  {
   "cell_type": "code",
   "execution_count": 80,
   "metadata": {},
   "outputs": [
    {
     "name": "stdout",
     "output_type": "stream",
     "text": [
      "best C parameter:  5.263252631578947\n",
      "best score:  0.4615384615384615\n",
      "Wall time: 3.1 s\n"
     ]
    }
   ],
   "source": [
    "%%time\n",
    "\n",
    "best_result = 0\n",
    "best_c = 0 \n",
    "for c in np.linspace(0.0001, 100, 20):\n",
    "    model = LogisticRegression(C = c, class_weight = 'balanced', random_state=RS, max_iter = 500) \n",
    "    \n",
    "    model.fit(embedded_features_train, emb_target_train)\n",
    "    predictions = model.predict(emb_features_validate)\n",
    "        \n",
    "    result = f1_score(emb_target_validate, predictions)\n",
    "    \n",
    "    if result > best_result:\n",
    "        best_model = model\n",
    "        best_result = result \n",
    "        best_c = c\n",
    "        \n",
    "print('best C parameter: ', best_c)\n",
    "print('best score: ', best_result)"
   ]
  },
  {
   "cell_type": "markdown",
   "metadata": {},
   "source": [
    "Лучший F1 на валидационной выборке = 0.4615, при С = 5.26. Результат далек от  F1 > 0.75. По всей видимости логистической регрессии не хватает данных для обучения – у нас длинна 1 комментария может достигать до 512 токенов, а обучающая выборка состоит из всего 300 элементов. "
   ]
  },
  {
   "cell_type": "markdown",
   "metadata": {},
   "source": [
    "Поскольку сложность создания эмбеддингов у нас как минимум квадратичная, то при увеличении количества текстов, время будет увеличиваться в квадрате. Для нашей задачи рекомендуется использовать более легкую модель – Логистическую регрессию на TF-IDF векторах."
   ]
  },
  {
   "cell_type": "markdown",
   "metadata": {},
   "source": [
    "### Проверка моделей на тестовой выборке"
   ]
  },
  {
   "cell_type": "markdown",
   "metadata": {},
   "source": [
    "`LogisticRegression с BERT`"
   ]
  },
  {
   "cell_type": "code",
   "execution_count": 92,
   "metadata": {},
   "outputs": [
    {
     "name": "stdout",
     "output_type": "stream",
     "text": [
      "F1 на тестовой выборке: 0.5455\n",
      "Wall time: 189 ms\n"
     ]
    }
   ],
   "source": [
    "%%time\n",
    "model = LogisticRegression(C=5.26, class_weight = 'balanced', random_state=RS, max_iter = 500) \n",
    "\n",
    "model.fit(embedded_features_train, emb_target_train)\n",
    "predictions = model.predict(emb_features_test)\n",
    "\n",
    "print('F1 на тестовой выборке: {:.4f}'.format(f1_score(emb_target_test, predictions)))"
   ]
  },
  {
   "cell_type": "markdown",
   "metadata": {},
   "source": [
    "F1 модели логистической регрессии на эмбеддингах на тестовой выборке = 0.5455."
   ]
  },
  {
   "cell_type": "markdown",
   "metadata": {},
   "source": [
    "`XGBClassifier`"
   ]
  },
  {
   "cell_type": "code",
   "execution_count": 93,
   "metadata": {},
   "outputs": [
    {
     "name": "stdout",
     "output_type": "stream",
     "text": [
      "Test F1: 0.7484627484627485\n",
      "Wall time: 2min 20s\n"
     ]
    }
   ],
   "source": [
    "%%time\n",
    "lr = 0.58\n",
    "n_est = 650    \n",
    "XGBmodel = XGBClassifier(objective='binary:logistic', \n",
    "                      scale_pos_weight=diff, \n",
    "                      use_label_encoder=False,\n",
    "                      eval_metric='logloss',\n",
    "                      n_estimators= n_est, \n",
    "                      max_depth= 3, \n",
    "                      learning_rate= lr, \n",
    "                      n_jobs= -1,\n",
    "                      random_state = RS,\n",
    "                      verbosity = 1)\n",
    "\n",
    "XGBmodel.fit(tf_idf_features_train, target_train)\n",
    "predictions = XGBmodel.predict(tf_idf_features_test)\n",
    "        \n",
    "result = f1_score(target_test, predictions)\n",
    "\n",
    "print('Test F1:', result)"
   ]
  },
  {
   "cell_type": "markdown",
   "metadata": {},
   "source": [
    "F1 модели XGBClassifier  на тестовой выборке = 0.748"
   ]
  },
  {
   "cell_type": "markdown",
   "metadata": {},
   "source": [
    "`LogisticRegression TF-IDF`"
   ]
  },
  {
   "cell_type": "code",
   "execution_count": 91,
   "metadata": {},
   "outputs": [
    {
     "name": "stdout",
     "output_type": "stream",
     "text": [
      "F1 на тестовой выборке: 0.7547\n",
      "Wall time: 8.71 s\n"
     ]
    }
   ],
   "source": [
    "%%time\n",
    "model = LogisticRegression(C=5.26, class_weight = 'balanced', random_state=RS, max_iter = 500) \n",
    "\n",
    "model.fit(tf_idf_features_train, target_train)\n",
    "predictions = model.predict(tf_idf_features_test)\n",
    "\n",
    "print('F1 на тестовой выборке: {:.4f}'.format(f1_score(target_test, predictions)))"
   ]
  },
  {
   "cell_type": "markdown",
   "metadata": {},
   "source": [
    "F1 модели LogisticRegression c TF-IDF на тестовой выборке = 0.7547"
   ]
  },
  {
   "cell_type": "markdown",
   "metadata": {},
   "source": [
    "### Проверка моделей на адекватность"
   ]
  },
  {
   "cell_type": "code",
   "execution_count": 94,
   "metadata": {},
   "outputs": [
    {
     "name": "stdout",
     "output_type": "stream",
     "text": [
      "F1 DummyClf на тестовой выборке: 0.1051\n"
     ]
    }
   ],
   "source": [
    "dummy_model = DummyClassifier(strategy = 'stratified')\n",
    "dummy_model.fit(tf_idf_features_train, target_train)\n",
    "dummy_model_predictions = dummy_model.predict(tf_idf_features_test)\n",
    "\n",
    "print('F1 DummyClf на тестовой выборке: {:.4f}'.format(f1_score(target_test, dummy_model_predictions)))"
   ]
  },
  {
   "cell_type": "markdown",
   "metadata": {},
   "source": [
    "Итоговый F1 dummy модели, не использующей машинное обучение, составила 0.1051. Как видим, наши модели построены не зря – они имеет большую точность (около 0.75)."
   ]
  },
  {
   "cell_type": "markdown",
   "metadata": {},
   "source": [
    "### Вывод"
   ]
  },
  {
   "cell_type": "markdown",
   "metadata": {},
   "source": [
    "На данном этапе мы строили различные модели и оценивали их работу.\n",
    "\n",
    "В начале вы выбрали метрику для оценки качества моделей. Для оценки моделей на этапе обучения было решено использовать метрику F1. \n",
    "Далее мы разделили выборки на тестовую и обучающую случайным образом, в соотношении 4:1.\n",
    "\n",
    "3.1. LogisticRegression  \n",
    "При обучении и подборе гиперпарметров мы использовали кросс-валидацию и следующие гиперпараметры: вес классов - сбалансированный, сила регуляризации от 0.0001 до 10.  \n",
    "Средний F1 на обучающей выборке был равен 0.758, это уже позволило достичь минимально требуемого значения в 0.75.\n",
    "\n",
    "3.2. RandomForestClassifier  \n",
    "Было обнаружено, что в данной задаче модель случайного леса работает гораздо медленней логистической регрессии и показывает низкие результаты (лучший средний F1: 0.42). Скорее всего это связано с тем, что признаков очень много (161394), и для хорошего предсказания необходимо строить очень глубокие деревья. Однако это будет занимать очень много времени и вычислительных ресурсов.\n",
    "\n",
    "3.3. XGBoost  \n",
    "В данном проекте мы использовали XGBoost sklearn API. \n",
    "Гиперпараметры к XGB было решено подбирать с помощью кривых обучения. Будем смотреть как влияет количество деревьев на качество предсказания, в зависимости от величины шага градиентного спуска (learning rate). Для перебора lr и использовали логарифмическое пространство от 0.05 до 1.\n",
    "На первой итерации мы получили лучший средний F1: 0.7295. После этого мы зафиксировали lr и построили больше деревьев. \n",
    "Мы получили средний F1: 0.747 при 700 деревьев, было решено остановиться на нем, однако можно было увеличивать learnning rate и ещё улучшить результат.\n",
    "\n",
    "3.4. Модель Логистической регрессии на эмбеддингах BERT  \n",
    "Лучший F1 на валидационной выборке = 0.4615, при С = 5.26. Результат далек от F1 > 0.75. По всей видимости логистической регрессии не хватает данных для обучения – у нас длинна 1 комментария может достигать до 512 токенов, а обучающая выборка состоит из всего 300 элементов.\n",
    "\n",
    "3.5. Далее мы проверили модель на тестовой выборке\n",
    "F1-score модели логистической регрессии на эмбеддингах на тестовой выборке = 0.8367.\n",
    "\n",
    "3.6. В конце была проведена проверка моделей на адекватность  \n",
    "Итоговый F1 dummy модели, не использующей машинное обучение, составила 0.57. Как видим, наша модель построена не зря – она имеет большую точность (около 0.8367).\n",
    "\n",
    "Если нам необходимо будет проверять сообщения в реальном времени, то пропускной способности обрабатывать 500 текстов за 3 минуты может быть не достаточно. Поскольку сложность у нас как минимум квадратичная, то при увеличении количества текстов, время будет увеличиваться в квадрате. В этом случае рекомендуется использовать более легкую модель – Логистическую регрессию на TF-IDF векторах."
   ]
  },
  {
   "cell_type": "markdown",
   "metadata": {},
   "source": [
    "## Общий вывод"
   ]
  },
  {
   "cell_type": "markdown",
   "metadata": {},
   "source": [
    "**1.** На первом шаге мы подготовили наши данные для дальней работы. \n",
    "1. Загрузили данные. Всего для анализа было получено 159571 комментариев и их тональности.\n",
    "2. Проверили дубликаты и пропуски.\n",
    "3. Произвели лемматизацию текста с помощью Wordnet Lemmatizer (с тэггером части речи POS).\n",
    "4. Векторизовали тексты через TF-IDF для N-грамм слов.\n",
    "5. Создали эмбеддинги с помощью DistilBERT. Для анализа мы взяли 500 случайных комментариев. Отметим, что для создания эмбеддингов для 500 текстов нам потребовалось 3 минуты. Мы оценили что вычислительная сложность модели как минимум квадратичная."
   ]
  },
  {
   "cell_type": "markdown",
   "metadata": {},
   "source": [
    "**2.** На втором этапе мы проанализировали наши данные.\n",
    "- Проверили распределение целевого признака, \n",
    "- уточнили задачу обучения – бинарная классификация, \n",
    "- а также создали переменную для придания веса классам в целевом признаке."
   ]
  },
  {
   "cell_type": "markdown",
   "metadata": {},
   "source": [
    "**3.** Третий этап был посвящен обучению моделей и их оценке.\n",
    "\n",
    "В начале вы выбрали метрику для оценки качества моделей. Для оценки моделей на этапе обучения было решено использовать метрику F1. \n",
    "Далее мы разделили выборки на тестовую и обучающую случайным образом, в соотношении 4:1.\n",
    "\n",
    "3.1. LogisticRegression  \n",
    "При обучении и подборе гиперпарметров мы использовали кросс-валидацию и следующие гиперпараметры: вес классов - сбалансированный, сила регуляризации от 0.0001 до 10.  \n",
    "Средний F1 на обучающей выборке был равен 0.758, это уже позволило достичь минимально требуемого значения в 0.75.\n",
    "\n",
    "3.2. RandomForestClassifier  \n",
    "Было обнаружено, что в данной задаче модель случайного леса работает гораздо медленней логистической регрессии и показывает низкие результаты (лучший средний F1: 0.42). Скорее всего это связано с тем, что признаков очень много (161394), и для хорошего предсказания необходимо строить очень глубокие деревья. Однако это будет занимать очень много времени и вычислительных ресурсов.\n",
    "\n",
    "3.3. XGBoost  \n",
    "В данном проекте мы использовали XGBoost sklearn API. \n",
    "Гиперпараметры к XGB было решено подбирать с помощью кривых обучения. Будем смотреть как влияет количество деревьев на качество предсказания, в зависимости от величины шага градиентного спуска (learning rate). Для перебора lr и использовали логарифмическое пространство от 0.05 до 1.\n",
    "На первой итерации мы получили лучший средний F1: 0.7295. После этого мы зафиксировали lr и построили больше деревьев. \n",
    "Мы получили средний F1: 0.747 при 700 деревьев, было решено остановиться на нем, однако можно было увеличивать learnning rate и ещё улучшить результат.\n",
    "\n",
    "3.4. Модель Логистической регрессии на эмбеддингах BERT  \n",
    "Лучший F1 на валидационной выборке = 0.4615, при С = 5.26. Результат далек от F1 > 0.75. По всей видимости логистической регрессии не хватает данных для обучения – у нас длинна 1 комментария может достигать до 512 токенов, а обучающая выборка состоит из всего 300 элементов.\n",
    "\n",
    "Если нам необходимо будет проверять сообщения в реальном времени, то пропускной способности обрабатывать 500 текстов за 3 минуты может быть не достаточно. Поскольку сложность у нас как минимум квадратичная, то при увеличении количества текстов, время будет увеличиваться в квадрате. В этом случае рекомендуется использовать более легкую модель – Логистическую регрессию на TF-IDF векторах.\n",
    "\n",
    "\n",
    "Таблица результатов:\n",
    "\n",
    "Модель | F1 score | Время предсказания\n",
    ":---|---|---\n",
    "**Логистическая регрессия** | 0.755  | 9 s   \n",
    "**Случайный лес** | 0.44  | 19 s\n",
    "**XGBoost** | 0.748  | 2 min\n",
    "**BERT + Лог. регрессия** | 0.545  | 3 min\n",
    "\n",
    "3.5. Далее мы проверили лучшую модель на тестовой выборке.  \n",
    "F1-score модели логистической регрессии на эмбеддингах на тестовой выборке = 0.8367.\n",
    "\n",
    "3.6. В конце была проведена проверка моделей на адекватность.  \n",
    "Итоговый F1 dummy модели, не использующей машинное обучение, составила  0.105. Как видим, наши модели построены не зря – они имеют большую точность (до 0.755).\n"
   ]
  },
  {
   "cell_type": "code",
   "execution_count": null,
   "metadata": {},
   "outputs": [],
   "source": []
  }
 ],
 "metadata": {
  "kernelspec": {
   "display_name": "Python 3",
   "language": "python",
   "name": "python3"
  },
  "language_info": {
   "codemirror_mode": {
    "name": "ipython",
    "version": 3
   },
   "file_extension": ".py",
   "mimetype": "text/x-python",
   "name": "python",
   "nbconvert_exporter": "python",
   "pygments_lexer": "ipython3",
   "version": "3.7.8"
  },
  "toc": {
   "base_numbering": 1,
   "nav_menu": {},
   "number_sections": true,
   "sideBar": true,
   "skip_h1_title": true,
   "title_cell": "Table of Contents",
   "title_sidebar": "Contents",
   "toc_cell": false,
   "toc_position": {},
   "toc_section_display": true,
   "toc_window_display": false
  },
  "toc-autonumbering": false,
  "toc-showcode": false,
  "toc-showmarkdowntxt": false,
  "toc-showtags": false
 },
 "nbformat": 4,
 "nbformat_minor": 5
}
