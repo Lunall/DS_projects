{
 "cells": [
  {
   "cell_type": "markdown",
   "metadata": {},
   "source": [
    "# Шифрование данных и работа ML моделей "
   ]
  },
  {
   "cell_type": "markdown",
   "metadata": {},
   "source": [
    "### Вводная <a class=\"tocSkip\">\n",
    "    \n",
    "Наша компания озаботилась защитой данных при использовании моделей машинного обучения. Необходимо предложить такой метод защиты данных, чтобы по ним было сложно восстановить изначалные данные. Также необходимо рассомтреть то, как шифрование влияет на результат работы модели линейной регрессии, которая используется в компании.\n",
    "    \n",
    "Для проверки алгоритма предоставлены данные клиентов страховой компании «С» (пол, возраст и зарплата, количество членов семьи, количество страховых выплат). "
   ]
  },
  {
   "cell_type": "markdown",
   "metadata": {},
   "source": [
    "### Цель<a class=\"tocSkip\">\n",
    " Предложить такой алгоритм защититы данных, при котором конечное качество моделей машинного обучения не ухудшится."
   ]
  },
  {
   "cell_type": "markdown",
   "metadata": {},
   "source": [
    "### Описание данных <a class=\"tocSkip\">\n",
    "\n",
    "- Признаки: пол, возраст и зарплата застрахованного, количество членов его семьи.\n",
    "- Целевой признак: количество страховых выплат клиенту за последние 5 лет."
   ]
  },
  {
   "cell_type": "markdown",
   "metadata": {},
   "source": [
    "### План <a class=\"tocSkip\">"
   ]
  },
  {
   "cell_type": "markdown",
   "metadata": {},
   "source": [
    "    1. Загрузка и изучение данных.\n",
    "    2. Ответ на вопрос: Признаки умножают на обратимую матрицу. Изменится ли качество линейной регрессии? \n",
    "         Разбор того, как связаны параметры линейной регрессии в исходной задаче и в преобразованной.\n",
    "    3. Алгоритм преобразования данных.\n",
    "    4. Применение алгоритма. Проверка метрикой R2, что качество линейной регрессии не отличается до и после преобразования."
   ]
  },
  {
   "cell_type": "markdown",
   "metadata": {},
   "source": [
    "## 0. Установка библиотек <a class=\"tocSkip\">"
   ]
  },
  {
   "cell_type": "code",
   "execution_count": 1,
   "metadata": {},
   "outputs": [],
   "source": [
    "import pandas as pd\n",
    "import numpy as np\n",
    "\n",
    "from sklearn.model_selection import train_test_split\n",
    "from sklearn.metrics import mean_squared_error, r2_score\n",
    "from sklearn.linear_model import LinearRegression\n",
    "\n",
    "import matplotlib.pyplot as plt\n",
    "\n",
    "#фильтр предупреждений\n",
    "import warnings\n",
    "warnings.simplefilter(\"ignore\")"
   ]
  },
  {
   "cell_type": "code",
   "execution_count": 1,
   "metadata": {},
   "outputs": [],
   "source": [
    "#ramdom seed\n",
    "RS = 2021"
   ]
  },
  {
   "cell_type": "markdown",
   "metadata": {},
   "source": [
    "## Загрузка данных"
   ]
  },
  {
   "cell_type": "code",
   "execution_count": 3,
   "metadata": {},
   "outputs": [
    {
     "data": {
      "text/html": [
       "<div>\n",
       "<style scoped>\n",
       "    .dataframe tbody tr th:only-of-type {\n",
       "        vertical-align: middle;\n",
       "    }\n",
       "\n",
       "    .dataframe tbody tr th {\n",
       "        vertical-align: top;\n",
       "    }\n",
       "\n",
       "    .dataframe thead th {\n",
       "        text-align: right;\n",
       "    }\n",
       "</style>\n",
       "<table border=\"1\" class=\"dataframe\">\n",
       "  <thead>\n",
       "    <tr style=\"text-align: right;\">\n",
       "      <th></th>\n",
       "      <th>Пол</th>\n",
       "      <th>Возраст</th>\n",
       "      <th>Зарплата</th>\n",
       "      <th>Члены семьи</th>\n",
       "      <th>Страховые выплаты</th>\n",
       "    </tr>\n",
       "  </thead>\n",
       "  <tbody>\n",
       "    <tr>\n",
       "      <td>0</td>\n",
       "      <td>1</td>\n",
       "      <td>41.0</td>\n",
       "      <td>49600.0</td>\n",
       "      <td>1</td>\n",
       "      <td>0</td>\n",
       "    </tr>\n",
       "    <tr>\n",
       "      <td>1</td>\n",
       "      <td>0</td>\n",
       "      <td>46.0</td>\n",
       "      <td>38000.0</td>\n",
       "      <td>1</td>\n",
       "      <td>1</td>\n",
       "    </tr>\n",
       "    <tr>\n",
       "      <td>2</td>\n",
       "      <td>0</td>\n",
       "      <td>29.0</td>\n",
       "      <td>21000.0</td>\n",
       "      <td>0</td>\n",
       "      <td>0</td>\n",
       "    </tr>\n",
       "    <tr>\n",
       "      <td>3</td>\n",
       "      <td>0</td>\n",
       "      <td>21.0</td>\n",
       "      <td>41700.0</td>\n",
       "      <td>2</td>\n",
       "      <td>0</td>\n",
       "    </tr>\n",
       "    <tr>\n",
       "      <td>4</td>\n",
       "      <td>1</td>\n",
       "      <td>28.0</td>\n",
       "      <td>26100.0</td>\n",
       "      <td>0</td>\n",
       "      <td>0</td>\n",
       "    </tr>\n",
       "  </tbody>\n",
       "</table>\n",
       "</div>"
      ],
      "text/plain": [
       "   Пол  Возраст  Зарплата  Члены семьи  Страховые выплаты\n",
       "0    1     41.0   49600.0            1                  0\n",
       "1    0     46.0   38000.0            1                  1\n",
       "2    0     29.0   21000.0            0                  0\n",
       "3    0     21.0   41700.0            2                  0\n",
       "4    1     28.0   26100.0            0                  0"
      ]
     },
     "execution_count": 3,
     "metadata": {},
     "output_type": "execute_result"
    }
   ],
   "source": [
    "data = pd.read_csv('/datasets/insurance.csv')\n",
    "data.head()"
   ]
  },
  {
   "cell_type": "code",
   "execution_count": 4,
   "metadata": {},
   "outputs": [
    {
     "name": "stdout",
     "output_type": "stream",
     "text": [
      "<class 'pandas.core.frame.DataFrame'>\n",
      "RangeIndex: 5000 entries, 0 to 4999\n",
      "Data columns (total 5 columns):\n",
      "Пол                  5000 non-null int64\n",
      "Возраст              5000 non-null float64\n",
      "Зарплата             5000 non-null float64\n",
      "Члены семьи          5000 non-null int64\n",
      "Страховые выплаты    5000 non-null int64\n",
      "dtypes: float64(2), int64(3)\n",
      "memory usage: 195.4 KB\n"
     ]
    }
   ],
   "source": [
    "data.info()"
   ]
  },
  {
   "cell_type": "code",
   "execution_count": 5,
   "metadata": {},
   "outputs": [
    {
     "data": {
      "text/plain": [
       "Text(0.5, 1.0, 'Распределение целевого признака')"
      ]
     },
     "execution_count": 5,
     "metadata": {},
     "output_type": "execute_result"
    },
    {
     "data": {
      "image/png": "[encoded data removed]",
      "text/plain": [
       "<Figure size 432x288 with 1 Axes>"
      ]
     },
     "metadata": {
      "needs_background": "light"
     },
     "output_type": "display_data"
    }
   ],
   "source": [
    "data.iloc[:, 4].plot(kind = 'hist')\n",
    "\n",
    "plt.xlabel('Количество страховых выплат')\n",
    "plt.ylabel('Частота')\n",
    "plt.title('Распределение целевого признака')"
   ]
  },
  {
   "cell_type": "markdown",
   "metadata": {},
   "source": [
    "Распределение целевого признака показывает что в основном клиенты не получают страховые выплаты (значение 0).  \n",
    "Максимальное количество выплат - 5.  \n",
    "Распределение похоже на распределение Пуассона."
   ]
  },
  {
   "cell_type": "code",
   "execution_count": 6,
   "metadata": {},
   "outputs": [
    {
     "data": {
      "text/plain": [
       "0"
      ]
     },
     "execution_count": 6,
     "metadata": {},
     "output_type": "execute_result"
    }
   ],
   "source": [
    "data.isna().sum().sum()"
   ]
  },
  {
   "cell_type": "markdown",
   "metadata": {},
   "source": [
    "Пропусков в данных нет."
   ]
  },
  {
   "cell_type": "code",
   "execution_count": 7,
   "metadata": {},
   "outputs": [
    {
     "data": {
      "text/plain": [
       "153"
      ]
     },
     "execution_count": 7,
     "metadata": {},
     "output_type": "execute_result"
    }
   ],
   "source": [
    "data.duplicated().sum()"
   ]
  },
  {
   "cell_type": "markdown",
   "metadata": {},
   "source": [
    "Наблюдаем 153 дубликата. Поскольку наша задача это создание аглоритма шифрования, а не обучение наилучшей модели, оставим их."
   ]
  },
  {
   "cell_type": "markdown",
   "metadata": {},
   "source": [
    "### Вывод:\n",
    "\n",
    "- Получены данные о 5000 клиентах. \n",
    "- Распределение целевого признака показывает что в основном клиенты не получают страховые выплаты (значение 0). Максимальное количество выплат - 5. Распределение похоже на распределение Пуассона.\n",
    "\n",
    "- Пропусков в данных нет.\n",
    "\n",
    "- Наблюдаем 153 дубликата. Их было решено оставить."
   ]
  },
  {
   "cell_type": "markdown",
   "metadata": {},
   "source": [
    "## Умножение матриц"
   ]
  },
  {
   "cell_type": "markdown",
   "metadata": {},
   "source": [
    "В этом задании вы можете записывать формулы в *Jupyter Notebook.*\n",
    "\n",
    "Чтобы записать формулу внутри текста, окружите её символами доллара \\\\$; если снаружи —  двойными символами \\\\$\\\\$. Эти формулы записываются на языке вёрстки *LaTeX.* \n",
    "\n",
    "Для примера мы записали формулы линейной регрессии. Можете их скопировать и отредактировать, чтобы решить задачу.\n",
    "\n",
    "Работать в *LaTeX* необязательно."
   ]
  },
  {
   "cell_type": "markdown",
   "metadata": {},
   "source": [
    "Обозначения:\n",
    "\n",
    "- $X$ — матрица признаков (нулевой столбец состоит из единиц)\n",
    "\n",
    "- $y$ — вектор целевого признака\n",
    "\n",
    "- $K$ — матрица, на которую умножаются признаки\n",
    "\n",
    "- $w$ — вектор весов линейной регрессии (нулевой элемент равен сдвигу)"
   ]
  },
  {
   "cell_type": "markdown",
   "metadata": {},
   "source": [
    "Предсказания:\n",
    "\n",
    "$$\n",
    "a = Xw\n",
    "$$\n",
    "\n",
    "Задача обучения:\n",
    "\n",
    "$$\n",
    "w = \\arg\\min_w MSE(Xw, y)\n",
    "$$\n",
    "\n",
    "Формула обучения:\n",
    "\n",
    "$$\n",
    "w = (X^T X)^{-1} X^T y\n",
    "$$\n",
    "или \n",
    "$$\n",
    "X^T X w = X^T y\n",
    "$$"
   ]
  },
  {
   "cell_type": "markdown",
   "metadata": {},
   "source": [
    "Вопрос:\n",
    "Признаки умножают на обратимую матрицу. Изменится ли качество линейной регрессии? (Её можно обучить заново.)  \n",
    "    a. Изменится. Приведите примеры матриц.  \n",
    "    b. Не изменится. Укажите, как связаны параметры линейной регрессии в исходной задаче и в преобразованной."
   ]
  },
  {
   "cell_type": "markdown",
   "metadata": {},
   "source": [
    "**Ответ:** b\n",
    "\n",
    "**Обоснование:** "
   ]
  },
  {
   "cell_type": "markdown",
   "metadata": {},
   "source": [
    "Рассмотрим что происходит с предсказаниями при переходе \\\\(  X -> XK \\\\):"
   ]
  },
  {
   "cell_type": "markdown",
   "metadata": {},
   "source": [
    "Уже обученная модель будет делать предсказания по следующей формуле:\n",
    "$$ a_1 = XKw_1 $$\n",
    "\n",
    "Формула обучения будет выглядеть как:\n",
    "\n",
    "$$\n",
    "(XK)^T XK w_1 = (XK)^T y\n",
    "$$\n",
    "\n",
    "Воспользуемся свойством \\\\((AB)^T=B^TA^T\\\\):\n",
    "\n",
    "$$\n",
    "K^T X^T X K w_1 = K^T X^T y\n",
    "$$\n",
    "\n",
    "Домножим обе части уравнения на \\\\( (K^T)^{-1} \\\\):\n",
    "\n",
    "$$\n",
    "X^T X K w_1 = X^T y\n",
    "$$\n",
    "\n",
    "$$\n",
    "K w_1 = (X^T X)^{-1} X^T y\n",
    "$$\n",
    "\n",
    "$$\n",
    "K w_1 = w\n",
    "$$\n",
    "\n",
    "Таким образом \\\\( a_1 = a\\\\)."
   ]
  },
  {
   "cell_type": "markdown",
   "metadata": {},
   "source": [
    "## Алгоритм преобразования"
   ]
  },
  {
   "cell_type": "markdown",
   "metadata": {},
   "source": [
    "**Алгоритм**\n",
    "\n",
    "1. Генерирация случайной матрицы, которая будет умножаться на матрицу признаков.\n",
    "2. Проверка сгенерированной матрицы на обратимость. \n",
    "3. Умножение матрицы-кодировщика на признаки.\n",
    "4. Проверка того, что результат не изменился."
   ]
  },
  {
   "cell_type": "markdown",
   "metadata": {},
   "source": [
    "**Обоснование**\n",
    "\n",
    "Какой будет размерность случайной матрицы и почему? Для того, чтобы мы могли умножить матрицу-кодировщик на признаки, количество её строк должно быть равно количеству столбцов в признаках. \n",
    "\n",
    "Почему матрица-кодировщик должна быть обратимой? Обратимой она должна быть чтобы мы могли вычислить значение \\\\((X^T X)^{-1}\\\\) при Х = ХK, а также выполнять с ней вышеперечисленные преобразования."
   ]
  },
  {
   "cell_type": "markdown",
   "metadata": {},
   "source": [
    "## Проверка алгоритма"
   ]
  },
  {
   "cell_type": "markdown",
   "metadata": {},
   "source": [
    "Сначала запустим модель без преобразований. Выделим целевой признак и разделим выборки на обучающую и валидационную."
   ]
  },
  {
   "cell_type": "code",
   "execution_count": 8,
   "metadata": {},
   "outputs": [],
   "source": [
    "features = data.drop(['Страховые выплаты'], axis=1)\n",
    "target = data['Страховые выплаты']\n",
    "\n",
    "features_train, features_valid, target_train, target_valid = train_test_split(\n",
    "    features, target, test_size=0.25, random_state=RS)"
   ]
  },
  {
   "cell_type": "code",
   "execution_count": 9,
   "metadata": {},
   "outputs": [
    {
     "name": "stdout",
     "output_type": "stream",
     "text": [
      "(3750, 4)\n",
      "(3750,)\n",
      "(1250, 4)\n",
      "(1250,)\n"
     ]
    }
   ],
   "source": [
    "#проверим разделение\n",
    "print(features_train.shape)\n",
    "print(target_train.shape)\n",
    "\n",
    "print(features_valid.shape)\n",
    "print(target_valid.shape)"
   ]
  },
  {
   "cell_type": "code",
   "execution_count": 10,
   "metadata": {},
   "outputs": [
    {
     "name": "stdout",
     "output_type": "stream",
     "text": [
      "MSE: 0.145304\n",
      "R2 score: 0.416359\n"
     ]
    }
   ],
   "source": [
    "model = LinearRegression()\n",
    "\n",
    "model.fit(features_train, target_train)\n",
    "predictions = model.predict(features_valid)\n",
    "\n",
    "mse = mean_squared_error(target_valid, predictions)\n",
    "r2 = r2_score(target_valid, predictions)\n",
    "\n",
    "print('MSE: {:.6f}'.format(mse))\n",
    "print('R2 score: {:.6f}'.format(r2))"
   ]
  },
  {
   "cell_type": "markdown",
   "metadata": {},
   "source": [
    "Зададим нашу матрицу-ключ K. Она должна умножаться на матрицу признаков и быть обратимой."
   ]
  },
  {
   "cell_type": "code",
   "execution_count": 11,
   "metadata": {},
   "outputs": [
    {
     "data": {
      "text/plain": [
       "array([[4, 5, 9, 0],\n",
       "       [6, 5, 8, 6],\n",
       "       [6, 6, 6, 1],\n",
       "       [5, 7, 1, 1]])"
      ]
     },
     "execution_count": 11,
     "metadata": {},
     "output_type": "execute_result"
    }
   ],
   "source": [
    "np.random.seed(RS)\n",
    "K = np.random.randint(10, size = (len(features.columns), len(features.columns)))\n",
    "\n",
    "K_inv = np.linalg.inv(K)\n",
    "K"
   ]
  },
  {
   "cell_type": "markdown",
   "metadata": {},
   "source": [
    "Умножим признаки на матрицу К"
   ]
  },
  {
   "cell_type": "code",
   "execution_count": 12,
   "metadata": {},
   "outputs": [
    {
     "data": {
      "text/plain": [
       "array([[153264., 153220., 153352.,  25764.],\n",
       "       [271341., 271322., 271386.,  45333.],\n",
       "       [195299., 195252., 195393.,  32795.],\n",
       "       ...,\n",
       "       [271973., 271947., 272025.,  45469.],\n",
       "       [197692., 197649., 197778.,  33184.],\n",
       "       [161608., 161575., 161681.,  27104.]])"
      ]
     },
     "execution_count": 12,
     "metadata": {},
     "output_type": "execute_result"
    }
   ],
   "source": [
    "features_train_encoded = features_train.values @ K\n",
    "features_valid_encoded = features_valid.values @ K\n",
    "\n",
    "features_train_encoded"
   ]
  },
  {
   "cell_type": "code",
   "execution_count": 13,
   "metadata": {},
   "outputs": [
    {
     "data": {
      "text/plain": [
       "(3750, 4)"
      ]
     },
     "execution_count": 13,
     "metadata": {},
     "output_type": "execute_result"
    }
   ],
   "source": [
    "features_train_encoded.shape"
   ]
  },
  {
   "cell_type": "code",
   "execution_count": 14,
   "metadata": {},
   "outputs": [
    {
     "name": "stdout",
     "output_type": "stream",
     "text": [
      "MSE: 0.145304\n",
      "R2 score: 0.416359\n"
     ]
    }
   ],
   "source": [
    "model = LinearRegression()\n",
    "\n",
    "model.fit(features_train_encoded, target_train)\n",
    "predictions = model.predict(features_valid_encoded)\n",
    "\n",
    "mse = mean_squared_error(target_valid, predictions)\n",
    "r2 = r2_score(target_valid, predictions)\n",
    "\n",
    "print('MSE: {:.6f}'.format(mse))\n",
    "print('R2 score: {:.6f}'.format(r2))"
   ]
  },
  {
   "cell_type": "markdown",
   "metadata": {},
   "source": [
    "## Вывод"
   ]
  },
  {
   "cell_type": "markdown",
   "metadata": {},
   "source": [
    "**1.** На первом этапе мы загрузили и изученили данные.\n",
    "- Для анализа были получены данные о 5000 клиентах. \n",
    "- Распределение целевого признака показывает что в основном клиенты не получают страховые выплаты (значение 0). Максимальное количество выплат - 5. Распределение похоже на распределение Пуассона.\n",
    "\n",
    "- Пропусков в данных не было.\n",
    "\n",
    "- Было найдено 153 дубликата. Их было решено оставить.\n",
    "\n",
    "**2.** Был дан ответ на вопрос: Признаки умножают на обратимую матрицу. Изменится ли качество линейной регрессии? \n",
    "     b. Не изменится. Мы в общем виде доказали что предсказания модели не поменяются. А также предоставили разбор того, как связаны параметры линейной регрессии в исходной задаче и в преобразованной.\n",
    "        \n",
    "**3.** Описали алгоритм преобразования данных и обосновали его.\n",
    "\n",
    "**4.** На последнем шаге мы применили предложенный алгоритм.  \n",
    "Сначала мы запустили модель без преобразований и посчитали R2. \n",
    "С помощью `np.random` задали нашу матрицу-кодировщик K с правильной размерностью и обратной матрицей. \n",
    "Умножили признаки на матрицу К.\n",
    "R2 score до и после преобразований не изменился и составлял: 0.416359."
   ]
  },
  {
   "cell_type": "code",
   "execution_count": null,
   "metadata": {},
   "outputs": [],
   "source": []
  }
 ],
 "metadata": {
  "kernelspec": {
   "display_name": "Python 3",
   "language": "python",
   "name": "python3"
  },
  "language_info": {
   "codemirror_mode": {
    "name": "ipython",
    "version": 3
   },
   "file_extension": ".py",
   "mimetype": "text/x-python",
   "name": "python",
   "nbconvert_exporter": "python",
   "pygments_lexer": "ipython3",
   "version": "3.7.8"
  },
  "toc": {
   "base_numbering": 1,
   "nav_menu": {},
   "number_sections": true,
   "sideBar": true,
   "skip_h1_title": true,
   "title_cell": "Содержание",
   "title_sidebar": "Contents",
   "toc_cell": false,
   "toc_position": {},
   "toc_section_display": true,
   "toc_window_display": true
  }
 },
 "nbformat": 4,
 "nbformat_minor": 2
}
