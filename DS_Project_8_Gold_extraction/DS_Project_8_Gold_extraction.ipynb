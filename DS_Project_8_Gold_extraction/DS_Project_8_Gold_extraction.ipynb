{
 "cells": [
  {
   "cell_type": "markdown",
   "metadata": {
    "toc": true
   },
   "source": [
    "<h1>Содержание<span class=\"tocSkip\"></span></h1>\n",
    "<div class=\"toc\"><ul class=\"toc-item\"><li><span><a href=\"#Подготовка-данных\" data-toc-modified-id=\"Подготовка-данных-1\"><span class=\"toc-item-num\">1&nbsp;&nbsp;</span>Подготовка данных</a></span><ul class=\"toc-item\"><li><span><a href=\"#1.1.-Загрузка-файлов-и-получение-информации\" data-toc-modified-id=\"1.1.-Загрузка-файлов-и-получение-информации-1.1\"><span class=\"toc-item-num\">1.1&nbsp;&nbsp;</span>1.1. Загрузка файлов и получение информации</a></span></li><li><span><a href=\"#1.2.-Проверка-правильности-рассчета-эффективности-обогащения.-Подсчет-MAE-между-расчётами-и-реальным-значением-признака.\" data-toc-modified-id=\"1.2.-Проверка-правильности-рассчета-эффективности-обогащения.-Подсчет-MAE-между-расчётами-и-реальным-значением-признака.-1.2\"><span class=\"toc-item-num\">1.2&nbsp;&nbsp;</span>1.2. Проверка правильности рассчета эффективности обогащения. Подсчет MAE между расчётами и реальным значением признака.</a></span></li><li><span><a href=\"#1.3.-Анализ-признаков,-недоступных-в-тестовой-выборке\" data-toc-modified-id=\"1.3.-Анализ-признаков,-недоступных-в-тестовой-выборке-1.3\"><span class=\"toc-item-num\">1.3&nbsp;&nbsp;</span>1.3. Анализ признаков, недоступных в тестовой выборке</a></span></li><li><span><a href=\"#1.4.-Предобработка-данных\" data-toc-modified-id=\"1.4.-Предобработка-данных-1.4\"><span class=\"toc-item-num\">1.4&nbsp;&nbsp;</span>1.4. Предобработка данных</a></span><ul class=\"toc-item\"><li><span><a href=\"#Формирование-обучающей-и-тестовой-выборок\" data-toc-modified-id=\"Формирование-обучающей-и-тестовой-выборок-1.4.1\"><span class=\"toc-item-num\">1.4.1&nbsp;&nbsp;</span>Формирование обучающей и тестовой выборок</a></span></li><li><span><a href=\"#Обработка-пропусков\" data-toc-modified-id=\"Обработка-пропусков-1.4.2\"><span class=\"toc-item-num\">1.4.2&nbsp;&nbsp;</span>Обработка пропусков</a></span></li><li><span><a href=\"#Восстановление-данных\" data-toc-modified-id=\"Восстановление-данных-1.4.3\"><span class=\"toc-item-num\">1.4.3&nbsp;&nbsp;</span>Восстановление данных</a></span></li><li><span><a href=\"#Проверка-дубликатов:\" data-toc-modified-id=\"Проверка-дубликатов:-1.4.4\"><span class=\"toc-item-num\">1.4.4&nbsp;&nbsp;</span>Проверка дубликатов:</a></span></li></ul></li><li><span><a href=\"#Вывод\" data-toc-modified-id=\"Вывод-1.5\"><span class=\"toc-item-num\">1.5&nbsp;&nbsp;</span>Вывод</a></span></li></ul></li><li><span><a href=\"#Исследовательский-анализ-данных\" data-toc-modified-id=\"Исследовательский-анализ-данных-2\"><span class=\"toc-item-num\">2&nbsp;&nbsp;</span>Исследовательский анализ данных</a></span><ul class=\"toc-item\"><li><span><a href=\"#2.1.-Оценка-изменения-концентрации-металлов-(Au,-Ag,-Pb)-на-различных-этапах-очистки.\" data-toc-modified-id=\"2.1.-Оценка-изменения-концентрации-металлов-(Au,-Ag,-Pb)-на-различных-этапах-очистки.-2.1\"><span class=\"toc-item-num\">2.1&nbsp;&nbsp;</span>2.1. Оценка изменения концентрации металлов (Au, Ag, Pb) на различных этапах очистки.</a></span><ul class=\"toc-item\"><li><span><a href=\"#Au-Злато\" data-toc-modified-id=\"Au-Злато-2.1.1\"><span class=\"toc-item-num\">2.1.1&nbsp;&nbsp;</span><code>Au</code> Злато</a></span></li><li><span><a href=\"#Ag-Серебро\" data-toc-modified-id=\"Ag-Серебро-2.1.2\"><span class=\"toc-item-num\">2.1.2&nbsp;&nbsp;</span><code>Ag</code> Серебро</a></span></li><li><span><a href=\"#Pb-Свинец\" data-toc-modified-id=\"Pb-Свинец-2.1.3\"><span class=\"toc-item-num\">2.1.3&nbsp;&nbsp;</span><code>Pb</code> Свинец</a></span></li></ul></li><li><span><a href=\"#2.2.-Сравнение-распределения-размеров-гранул-сырья-на-обучающей-и-тестовой-выборках.\" data-toc-modified-id=\"2.2.-Сравнение-распределения-размеров-гранул-сырья-на-обучающей-и-тестовой-выборках.-2.2\"><span class=\"toc-item-num\">2.2&nbsp;&nbsp;</span>2.2. Сравнение распределения размеров гранул сырья на обучающей и тестовой выборках.</a></span></li><li><span><a href=\"#2.3.-Исследование-суммарной-концентрации-всех-веществ-на-разных-стадиях:-в-сырье,-в-черновом-и-финальном-концентратах.-Оценка-аномальных-значений.\" data-toc-modified-id=\"2.3.-Исследование-суммарной-концентрации-всех-веществ-на-разных-стадиях:-в-сырье,-в-черновом-и-финальном-концентратах.-Оценка-аномальных-значений.-2.3\"><span class=\"toc-item-num\">2.3&nbsp;&nbsp;</span>2.3. Исследование суммарной концентрации всех веществ на разных стадиях: в сырье, в черновом и финальном концентратах. Оценка аномальных значений.</a></span><ul class=\"toc-item\"><li><ul class=\"toc-item\"><li><span><a href=\"#Сырьё\" data-toc-modified-id=\"Сырьё-2.3.0.1\"><span class=\"toc-item-num\">2.3.0.1&nbsp;&nbsp;</span>Сырьё</a></span></li><li><span><a href=\"#Черновой-концентрат\" data-toc-modified-id=\"Черновой-концентрат-2.3.0.2\"><span class=\"toc-item-num\">2.3.0.2&nbsp;&nbsp;</span>Черновой концентрат</a></span></li><li><span><a href=\"#Финальный-концентрат\" data-toc-modified-id=\"Финальный-концентрат-2.3.0.3\"><span class=\"toc-item-num\">2.3.0.3&nbsp;&nbsp;</span>Финальный концентрат</a></span></li></ul></li></ul></li><li><span><a href=\"#Корреляция-признаков\" data-toc-modified-id=\"Корреляция-признаков-2.4\"><span class=\"toc-item-num\">2.4&nbsp;&nbsp;</span>Корреляция признаков</a></span></li><li><span><a href=\"#Выводы\" data-toc-modified-id=\"Выводы-2.5\"><span class=\"toc-item-num\">2.5&nbsp;&nbsp;</span>Выводы</a></span></li></ul></li><li><span><a href=\"#Построение-модели\" data-toc-modified-id=\"Построение-модели-3\"><span class=\"toc-item-num\">3&nbsp;&nbsp;</span>Построение модели</a></span><ul class=\"toc-item\"><li><span><a href=\"#3.1.-Функция-для-вычисления-итоговой-метрики-sMAPE.\" data-toc-modified-id=\"3.1.-Функция-для-вычисления-итоговой-метрики-sMAPE.-3.1\"><span class=\"toc-item-num\">3.1&nbsp;&nbsp;</span>3.1. Функция для вычисления итоговой метрики sMAPE.</a></span></li><li><span><a href=\"#3.2.-Обучение-моделей-и-оценка-их-качества-кросс-валидацией.\" data-toc-modified-id=\"3.2.-Обучение-моделей-и-оценка-их-качества-кросс-валидацией.-3.2\"><span class=\"toc-item-num\">3.2&nbsp;&nbsp;</span>3.2. Обучение моделей и оценка их качества кросс-валидацией.</a></span><ul class=\"toc-item\"><li><span><a href=\"#3.2.1.-Линейная-регрессия\" data-toc-modified-id=\"3.2.1.-Линейная-регрессия-3.2.1\"><span class=\"toc-item-num\">3.2.1&nbsp;&nbsp;</span>3.2.1. Линейная регрессия</a></span></li><li><span><a href=\"#3.2.2.-Дерево-решений\" data-toc-modified-id=\"3.2.2.-Дерево-решений-3.2.2\"><span class=\"toc-item-num\">3.2.2&nbsp;&nbsp;</span>3.2.2. Дерево решений</a></span></li><li><span><a href=\"#3.2.3.-Случайный-лес\" data-toc-modified-id=\"3.2.3.-Случайный-лес-3.2.3\"><span class=\"toc-item-num\">3.2.3&nbsp;&nbsp;</span>3.2.3. Случайный лес</a></span></li><li><span><a href=\"#3.2.4.-Lasso-regression\" data-toc-modified-id=\"3.2.4.-Lasso-regression-3.2.4\"><span class=\"toc-item-num\">3.2.4&nbsp;&nbsp;</span>3.2.4. Lasso regression</a></span><ul class=\"toc-item\"><li><span><a href=\"#3.2.-Вывод\" data-toc-modified-id=\"3.2.-Вывод-3.2.4.1\"><span class=\"toc-item-num\">3.2.4.1&nbsp;&nbsp;</span>3.2. Вывод</a></span></li></ul></li></ul></li><li><span><a href=\"#Проверка-лучшей-модели-на-тестовой-выборке\" data-toc-modified-id=\"Проверка-лучшей-модели-на-тестовой-выборке-3.3\"><span class=\"toc-item-num\">3.3&nbsp;&nbsp;</span>Проверка лучшей модели на тестовой выборке</a></span></li><li><span><a href=\"#Проверка-лучшей-модели-на-адекватность\" data-toc-modified-id=\"Проверка-лучшей-модели-на-адекватность-3.4\"><span class=\"toc-item-num\">3.4&nbsp;&nbsp;</span>Проверка лучшей модели на адекватность</a></span></li><li><span><a href=\"#Вывод\" data-toc-modified-id=\"Вывод-3.5\"><span class=\"toc-item-num\">3.5&nbsp;&nbsp;</span>Вывод</a></span></li></ul></li><li><span><a href=\"#Общий-вывод\" data-toc-modified-id=\"Общий-вывод-4\"><span class=\"toc-item-num\">4&nbsp;&nbsp;</span>Общий вывод</a></span></li></ul></div>"
   ]
  },
  {
   "cell_type": "markdown",
   "metadata": {},
   "source": [
    "# Сколько золота будет восстановлено?"
   ]
  },
  {
   "cell_type": "markdown",
   "metadata": {},
   "source": [
    "### Вводная<a class=\"tocSkip\">\n",
    "    \n",
    "  После того как всю нефть мы успешно выкачали из земли, компания \"Vankor\" решила перепрофилироваться и начать обрабатывать  золотосодержащую руду для получения золота. Перед тем как запускать предприятие нам необходимо предсказать коэффициент восстановления золота в одной из золотоперерабатывающих систем – компания не хочет начинать убыточный проект.\n",
    "    \n",
    "  Для анализа и построения предсказаний вам предоставлены данные с параметрами добычи и очистки золота с очистительной системы которую хочет купить себе компания."
   ]
  },
  {
   "cell_type": "markdown",
   "metadata": {},
   "source": [
    "### Цель <a class=\"tocSkip\">"
   ]
  },
  {
   "cell_type": "markdown",
   "metadata": {},
   "source": [
    "Построить модель, которая будет предсказывать коэффициент восстановления золота из золотосодержащей руды."
   ]
  },
  {
   "cell_type": "markdown",
   "metadata": {},
   "source": [
    "### Описание данных <a class=\"tocSkip\">"
   ]
  },
  {
   "cell_type": "markdown",
   "metadata": {},
   "source": [
    "   **Технологический процесс**\n",
    "    \n",
    "    Rougher feed — исходное сырье\n",
    "    Rougher additions (или reagent additions) — флотационные реагенты: Xanthate, Sulphate, Depressant\n",
    "    Xanthate **— ксантогенат (промотер, или активатор флотации);\n",
    "    Sulphate — сульфат (на данном производстве сульфид натрия);\n",
    "    Depressant — депрессант (силикат натрия).\n",
    "    Rougher process (англ. «грубый процесс») — флотация\n",
    "    Rougher tails — отвальные хвосты\n",
    "    Float banks — флотационная установка\n",
    "    Cleaner process — очистка\n",
    "    Rougher Au — черновой концентрат золота\n",
    "    Final Au — финальный концентрат золота\n",
    "    \n",
    "   **Параметры этапов**\n",
    "   \n",
    "    air amount — объём воздуха\n",
    "    fluid levels — уровень жидкости\n",
    "    feed size — размер гранул сырья\n",
    "    feed rate — скорость подачи\n",
    "    \n",
    "   **Наименование признаков**\n",
    "   \n",
    "    Наименование признаков должно быть такое:\n",
    "   `[этап].[тип_параметра].[название_параметра]`\n",
    "    \n",
    "    Пример: rougher.input.feed_ag\n",
    "    Возможные значения для блока [этап]:\n",
    "    rougher — флотация\n",
    "    primary_cleaner — первичная очистка\n",
    "    secondary_cleaner — вторичная очистка\n",
    "    final — финальные характеристики\n",
    "    Возможные значения для блока [тип_параметра]:\n",
    "    input — параметры сырья\n",
    "    output — параметры продукта\n",
    "    state — параметры, характеризующие текущее состояние этапа\n",
    "    calculation — расчётные характеристики"
   ]
  },
  {
   "cell_type": "markdown",
   "metadata": {},
   "source": [
    "Данные индексируются датой и временем получения информации (признак date). Соседние по времени параметры часто похожи.\n",
    "Некоторые параметры недоступны, потому что замеряются и/или рассчитываются значительно позже. Из-за этого в тестовой выборке отсутствуют некоторые признаки, которые могут быть в обучающей. Также в тестовом наборе нет целевых признаков.\n",
    "Исходный датасет содержит обучающую и тестовую выборки со всеми признаками.\n",
    "В вашем распоряжении сырые данные: их просто выгрузили из хранилища. Прежде чем приступить к построению модели, их необходимо проверить на корректность.\n"
   ]
  },
  {
   "cell_type": "markdown",
   "metadata": {},
   "source": [
    "#### Расчет эффективности и Метрики качества<a class=\"tocSkip\">"
   ]
  },
  {
   "cell_type": "markdown",
   "metadata": {},
   "source": [
    "$$\n",
    "Recovery = \\frac{C * (F - T)}{ F * (C - T)} * 100\\%\n",
    "$$"
   ]
  },
  {
   "cell_type": "markdown",
   "metadata": {},
   "source": [
    "C — доля золота в концентрате после флотации/очистки;  \n",
    "F — доля золота в сырье/концентрате до флотации/очистки;  \n",
    "T — доля золота в отвальных хвостах после флотации/очистки.  \n",
    "Для прогноза коэффициента нужно найти долю золота в концентратах и хвостах. Причём важен не только финальный продукт, но и черновой концентрат.\n",
    "\n",
    "\n",
    "Метрика качества  \n",
    "**sMAPE** (англ. Symmetric Mean Absolute Percentage Error, «симметричное среднее абсолютное процентное отклонение»)."
   ]
  },
  {
   "cell_type": "markdown",
   "metadata": {},
   "source": [
    "Нужно спрогнозировать сразу две величины:  \n",
    "эффективность обогащения чернового концентрата `rougher.output.recovery`;  \n",
    "эффективность обогащения финального концентрата `final.output.recovery`.\n",
    "Итоговая метрика складывается из двух величин:  "
   ]
  },
  {
   "cell_type": "markdown",
   "metadata": {},
   "source": [
    "$$\n",
    "\\text{Итоговое sMAPE} = 25\\% * \\text{sMAPE (rougher)}  +  75\\% * \\text{sMAPE (final)}\n",
    "$$"
   ]
  },
  {
   "cell_type": "markdown",
   "metadata": {},
   "source": [
    "### План <a class=\"tocSkip\">"
   ]
  },
  {
   "cell_type": "markdown",
   "metadata": {},
   "source": [
    "    1. Подготовка данных  \n",
    "        1.1. Загрузка файлов и получение информации.  \n",
    "        1.2. Проверка правильности рассчета эффективности обогащения для признака `rougher.output.recovery`. Подсчет MAE между расчётами и реальным значением признака.  \n",
    "        1.3. Анализ признаков, недоступных в тестовой выборке.  \n",
    "        1.4. Предобработка данных.  \n",
    "    2. Исследовательский анализ данных  \n",
    "        2.1. Оценка изменения концентрации металлов (Au, Ag, Pb) на различных этапах очистки.  \n",
    "        2.2. Сравнение распределения размеров гранул сырья на обучающей и тестовой выборках.  \n",
    "        2.3. Исследование суммарной концентрации всех веществ на разных стадиях: в сырье, в черновом и финальном концентратах. Оценка аномальных значений.\n",
    "        2.4. Оценка корреляции признаков\n",
    "    3. Построение модели  \n",
    "        3.1. Функция для вычисления итоговой метрики sMAPE.\n",
    "        3.2. Обучение моделей и оценка их качества кросс-валидацией. Выбор лучшей модели и проверка её на тестовой выборке. \n",
    "    4. Общий вывод"
   ]
  },
  {
   "cell_type": "markdown",
   "metadata": {},
   "source": [
    "## 0. Установка библиотек <a class=\"tocSkip\">"
   ]
  },
  {
   "cell_type": "code",
   "execution_count": 1,
   "metadata": {},
   "outputs": [],
   "source": [
    "%%capture\n",
    "\n",
    "%pip install --upgrade ipykernel\n",
    "%pip install dill\n",
    "%pip install seaborn>=0.11 -U\n",
    "%pip install scikit-learn -U\n",
    "\n",
    "%pip install numpy scipy matplotlib\n",
    "%pip install mne h5py\n",
    "%pip install pactools"
   ]
  },
  {
   "cell_type": "code",
   "execution_count": 3,
   "metadata": {},
   "outputs": [
    {
     "name": "stderr",
     "output_type": "stream",
     "text": [
      "/opt/conda/lib/python3.7/importlib/_bootstrap.py:219: RuntimeWarning: numpy.ufunc size changed, may indicate binary incompatibility. Expected 192 from C header, got 216 from PyObject\n",
      "  return f(*args, **kwds)\n",
      "/opt/conda/lib/python3.7/site-packages/ipywidgets/widgets/widget_selection.py:9: DeprecationWarning: Using or importing the ABCs from 'collections' instead of from 'collections.abc' is deprecated since Python 3.3,and in 3.9 it will stop working\n",
      "  from collections import Mapping, Iterable\n"
     ]
    }
   ],
   "source": [
    "import dill \n",
    "\n",
    "import pandas as pd\n",
    "import numpy as np\n",
    "\n",
    "from datetime import datetime\n",
    "\n",
    "from sklearn.impute import KNNImputer\n",
    "\n",
    "from pactools.grid_search import GridSearchCVProgressBar\n",
    "from sklearn.model_selection import train_test_split, GridSearchCV, RandomizedSearchCV\n",
    "\n",
    "from sklearn.linear_model import LinearRegression, Lasso\n",
    "from sklearn.tree import DecisionTreeRegressor\n",
    "from sklearn.ensemble import RandomForestRegressor\n",
    "from sklearn.dummy import DummyRegressor\n",
    "\n",
    "from sklearn.metrics import (make_scorer, \n",
    "                            mean_absolute_error as mae)\n",
    "\n",
    "from tqdm import tqdm\n",
    "\n",
    "import matplotlib.pyplot as plt\n",
    "import seaborn as sns\n",
    "sns.set_theme(style=\"darkgrid\")\n",
    "\n",
    "#фильтр предупреждений\n",
    "import warnings\n",
    "warnings.simplefilter(\"ignore\")"
   ]
  },
  {
   "cell_type": "code",
   "execution_count": 4,
   "metadata": {},
   "outputs": [],
   "source": [
    "#ramdom seed\n",
    "RS = 2021"
   ]
  },
  {
   "cell_type": "markdown",
   "metadata": {},
   "source": [
    "## Подготовка данных"
   ]
  },
  {
   "cell_type": "markdown",
   "metadata": {},
   "source": [
    "### 1.1. Загрузка файлов и получение информации"
   ]
  },
  {
   "cell_type": "code",
   "execution_count": 5,
   "metadata": {},
   "outputs": [],
   "source": [
    "#сделаем парсер для колонки с датой\n",
    "my_date_parser = lambda x: datetime.strptime(x, \"%Y-%m-%d %H:%M:%S\")"
   ]
  },
  {
   "cell_type": "code",
   "execution_count": 6,
   "metadata": {},
   "outputs": [
    {
     "data": {
      "text/html": [
       "<div>\n",
       "<style scoped>\n",
       "    .dataframe tbody tr th:only-of-type {\n",
       "        vertical-align: middle;\n",
       "    }\n",
       "\n",
       "    .dataframe tbody tr th {\n",
       "        vertical-align: top;\n",
       "    }\n",
       "\n",
       "    .dataframe thead th {\n",
       "        text-align: right;\n",
       "    }\n",
       "</style>\n",
       "<table border=\"1\" class=\"dataframe\">\n",
       "  <thead>\n",
       "    <tr style=\"text-align: right;\">\n",
       "      <th></th>\n",
       "      <th>date</th>\n",
       "      <th>final.output.concentrate_ag</th>\n",
       "      <th>final.output.concentrate_pb</th>\n",
       "      <th>final.output.concentrate_sol</th>\n",
       "      <th>final.output.concentrate_au</th>\n",
       "      <th>final.output.recovery</th>\n",
       "      <th>final.output.tail_ag</th>\n",
       "      <th>final.output.tail_pb</th>\n",
       "      <th>final.output.tail_sol</th>\n",
       "      <th>final.output.tail_au</th>\n",
       "      <th>...</th>\n",
       "      <th>secondary_cleaner.state.floatbank4_a_air</th>\n",
       "      <th>secondary_cleaner.state.floatbank4_a_level</th>\n",
       "      <th>secondary_cleaner.state.floatbank4_b_air</th>\n",
       "      <th>secondary_cleaner.state.floatbank4_b_level</th>\n",
       "      <th>secondary_cleaner.state.floatbank5_a_air</th>\n",
       "      <th>secondary_cleaner.state.floatbank5_a_level</th>\n",
       "      <th>secondary_cleaner.state.floatbank5_b_air</th>\n",
       "      <th>secondary_cleaner.state.floatbank5_b_level</th>\n",
       "      <th>secondary_cleaner.state.floatbank6_a_air</th>\n",
       "      <th>secondary_cleaner.state.floatbank6_a_level</th>\n",
       "    </tr>\n",
       "  </thead>\n",
       "  <tbody>\n",
       "    <tr>\n",
       "      <td>0</td>\n",
       "      <td>2016-01-15 00:00:00</td>\n",
       "      <td>6.055403</td>\n",
       "      <td>9.889648</td>\n",
       "      <td>5.507324</td>\n",
       "      <td>42.192020</td>\n",
       "      <td>70.541216</td>\n",
       "      <td>10.411962</td>\n",
       "      <td>0.895447</td>\n",
       "      <td>16.904297</td>\n",
       "      <td>2.143149</td>\n",
       "      <td>...</td>\n",
       "      <td>14.016835</td>\n",
       "      <td>-502.488007</td>\n",
       "      <td>12.099931</td>\n",
       "      <td>-504.715942</td>\n",
       "      <td>9.925633</td>\n",
       "      <td>-498.310211</td>\n",
       "      <td>8.079666</td>\n",
       "      <td>-500.470978</td>\n",
       "      <td>14.151341</td>\n",
       "      <td>-605.841980</td>\n",
       "    </tr>\n",
       "    <tr>\n",
       "      <td>1</td>\n",
       "      <td>2016-01-15 01:00:00</td>\n",
       "      <td>6.029369</td>\n",
       "      <td>9.968944</td>\n",
       "      <td>5.257781</td>\n",
       "      <td>42.701629</td>\n",
       "      <td>69.266198</td>\n",
       "      <td>10.462676</td>\n",
       "      <td>0.927452</td>\n",
       "      <td>16.634514</td>\n",
       "      <td>2.224930</td>\n",
       "      <td>...</td>\n",
       "      <td>13.992281</td>\n",
       "      <td>-505.503262</td>\n",
       "      <td>11.950531</td>\n",
       "      <td>-501.331529</td>\n",
       "      <td>10.039245</td>\n",
       "      <td>-500.169983</td>\n",
       "      <td>7.984757</td>\n",
       "      <td>-500.582168</td>\n",
       "      <td>13.998353</td>\n",
       "      <td>-599.787184</td>\n",
       "    </tr>\n",
       "    <tr>\n",
       "      <td>2</td>\n",
       "      <td>2016-01-15 02:00:00</td>\n",
       "      <td>6.055926</td>\n",
       "      <td>10.213995</td>\n",
       "      <td>5.383759</td>\n",
       "      <td>42.657501</td>\n",
       "      <td>68.116445</td>\n",
       "      <td>10.507046</td>\n",
       "      <td>0.953716</td>\n",
       "      <td>16.208849</td>\n",
       "      <td>2.257889</td>\n",
       "      <td>...</td>\n",
       "      <td>14.015015</td>\n",
       "      <td>-502.520901</td>\n",
       "      <td>11.912783</td>\n",
       "      <td>-501.133383</td>\n",
       "      <td>10.070913</td>\n",
       "      <td>-500.129135</td>\n",
       "      <td>8.013877</td>\n",
       "      <td>-500.517572</td>\n",
       "      <td>14.028663</td>\n",
       "      <td>-601.427363</td>\n",
       "    </tr>\n",
       "  </tbody>\n",
       "</table>\n",
       "<p>3 rows × 87 columns</p>\n",
       "</div>"
      ],
      "text/plain": [
       "                 date  final.output.concentrate_ag  \\\n",
       "0 2016-01-15 00:00:00                     6.055403   \n",
       "1 2016-01-15 01:00:00                     6.029369   \n",
       "2 2016-01-15 02:00:00                     6.055926   \n",
       "\n",
       "   final.output.concentrate_pb  final.output.concentrate_sol  \\\n",
       "0                     9.889648                      5.507324   \n",
       "1                     9.968944                      5.257781   \n",
       "2                    10.213995                      5.383759   \n",
       "\n",
       "   final.output.concentrate_au  final.output.recovery  final.output.tail_ag  \\\n",
       "0                    42.192020              70.541216             10.411962   \n",
       "1                    42.701629              69.266198             10.462676   \n",
       "2                    42.657501              68.116445             10.507046   \n",
       "\n",
       "   final.output.tail_pb  final.output.tail_sol  final.output.tail_au  ...  \\\n",
       "0              0.895447              16.904297              2.143149  ...   \n",
       "1              0.927452              16.634514              2.224930  ...   \n",
       "2              0.953716              16.208849              2.257889  ...   \n",
       "\n",
       "   secondary_cleaner.state.floatbank4_a_air  \\\n",
       "0                                 14.016835   \n",
       "1                                 13.992281   \n",
       "2                                 14.015015   \n",
       "\n",
       "   secondary_cleaner.state.floatbank4_a_level  \\\n",
       "0                                 -502.488007   \n",
       "1                                 -505.503262   \n",
       "2                                 -502.520901   \n",
       "\n",
       "   secondary_cleaner.state.floatbank4_b_air  \\\n",
       "0                                 12.099931   \n",
       "1                                 11.950531   \n",
       "2                                 11.912783   \n",
       "\n",
       "   secondary_cleaner.state.floatbank4_b_level  \\\n",
       "0                                 -504.715942   \n",
       "1                                 -501.331529   \n",
       "2                                 -501.133383   \n",
       "\n",
       "   secondary_cleaner.state.floatbank5_a_air  \\\n",
       "0                                  9.925633   \n",
       "1                                 10.039245   \n",
       "2                                 10.070913   \n",
       "\n",
       "   secondary_cleaner.state.floatbank5_a_level  \\\n",
       "0                                 -498.310211   \n",
       "1                                 -500.169983   \n",
       "2                                 -500.129135   \n",
       "\n",
       "   secondary_cleaner.state.floatbank5_b_air  \\\n",
       "0                                  8.079666   \n",
       "1                                  7.984757   \n",
       "2                                  8.013877   \n",
       "\n",
       "   secondary_cleaner.state.floatbank5_b_level  \\\n",
       "0                                 -500.470978   \n",
       "1                                 -500.582168   \n",
       "2                                 -500.517572   \n",
       "\n",
       "   secondary_cleaner.state.floatbank6_a_air  \\\n",
       "0                                 14.151341   \n",
       "1                                 13.998353   \n",
       "2                                 14.028663   \n",
       "\n",
       "   secondary_cleaner.state.floatbank6_a_level  \n",
       "0                                 -605.841980  \n",
       "1                                 -599.787184  \n",
       "2                                 -601.427363  \n",
       "\n",
       "[3 rows x 87 columns]"
      ]
     },
     "execution_count": 6,
     "metadata": {},
     "output_type": "execute_result"
    }
   ],
   "source": [
    "gold_train = pd.read_csv('/datasets/gold_recovery_train.csv', parse_dates=['date'],\n",
    "                date_parser=my_date_parser)\n",
    "\n",
    "gold_train.head(3)"
   ]
  },
  {
   "cell_type": "code",
   "execution_count": 7,
   "metadata": {},
   "outputs": [
    {
     "data": {
      "text/html": [
       "<div>\n",
       "<style scoped>\n",
       "    .dataframe tbody tr th:only-of-type {\n",
       "        vertical-align: middle;\n",
       "    }\n",
       "\n",
       "    .dataframe tbody tr th {\n",
       "        vertical-align: top;\n",
       "    }\n",
       "\n",
       "    .dataframe thead th {\n",
       "        text-align: right;\n",
       "    }\n",
       "</style>\n",
       "<table border=\"1\" class=\"dataframe\">\n",
       "  <thead>\n",
       "    <tr style=\"text-align: right;\">\n",
       "      <th></th>\n",
       "      <th>date</th>\n",
       "      <th>primary_cleaner.input.sulfate</th>\n",
       "      <th>primary_cleaner.input.depressant</th>\n",
       "      <th>primary_cleaner.input.feed_size</th>\n",
       "      <th>primary_cleaner.input.xanthate</th>\n",
       "      <th>primary_cleaner.state.floatbank8_a_air</th>\n",
       "      <th>primary_cleaner.state.floatbank8_a_level</th>\n",
       "      <th>primary_cleaner.state.floatbank8_b_air</th>\n",
       "      <th>primary_cleaner.state.floatbank8_b_level</th>\n",
       "      <th>primary_cleaner.state.floatbank8_c_air</th>\n",
       "      <th>...</th>\n",
       "      <th>secondary_cleaner.state.floatbank4_a_air</th>\n",
       "      <th>secondary_cleaner.state.floatbank4_a_level</th>\n",
       "      <th>secondary_cleaner.state.floatbank4_b_air</th>\n",
       "      <th>secondary_cleaner.state.floatbank4_b_level</th>\n",
       "      <th>secondary_cleaner.state.floatbank5_a_air</th>\n",
       "      <th>secondary_cleaner.state.floatbank5_a_level</th>\n",
       "      <th>secondary_cleaner.state.floatbank5_b_air</th>\n",
       "      <th>secondary_cleaner.state.floatbank5_b_level</th>\n",
       "      <th>secondary_cleaner.state.floatbank6_a_air</th>\n",
       "      <th>secondary_cleaner.state.floatbank6_a_level</th>\n",
       "    </tr>\n",
       "  </thead>\n",
       "  <tbody>\n",
       "    <tr>\n",
       "      <td>0</td>\n",
       "      <td>2016-09-01 00:59:59</td>\n",
       "      <td>210.800909</td>\n",
       "      <td>14.993118</td>\n",
       "      <td>8.080000</td>\n",
       "      <td>1.005021</td>\n",
       "      <td>1398.981301</td>\n",
       "      <td>-500.225577</td>\n",
       "      <td>1399.144926</td>\n",
       "      <td>-499.919735</td>\n",
       "      <td>1400.102998</td>\n",
       "      <td>...</td>\n",
       "      <td>12.023554</td>\n",
       "      <td>-497.795834</td>\n",
       "      <td>8.016656</td>\n",
       "      <td>-501.289139</td>\n",
       "      <td>7.946562</td>\n",
       "      <td>-432.317850</td>\n",
       "      <td>4.872511</td>\n",
       "      <td>-500.037437</td>\n",
       "      <td>26.705889</td>\n",
       "      <td>-499.709414</td>\n",
       "    </tr>\n",
       "    <tr>\n",
       "      <td>1</td>\n",
       "      <td>2016-09-01 01:59:59</td>\n",
       "      <td>215.392455</td>\n",
       "      <td>14.987471</td>\n",
       "      <td>8.080000</td>\n",
       "      <td>0.990469</td>\n",
       "      <td>1398.777912</td>\n",
       "      <td>-500.057435</td>\n",
       "      <td>1398.055362</td>\n",
       "      <td>-499.778182</td>\n",
       "      <td>1396.151033</td>\n",
       "      <td>...</td>\n",
       "      <td>12.058140</td>\n",
       "      <td>-498.695773</td>\n",
       "      <td>8.130979</td>\n",
       "      <td>-499.634209</td>\n",
       "      <td>7.958270</td>\n",
       "      <td>-525.839648</td>\n",
       "      <td>4.878850</td>\n",
       "      <td>-500.162375</td>\n",
       "      <td>25.019940</td>\n",
       "      <td>-499.819438</td>\n",
       "    </tr>\n",
       "    <tr>\n",
       "      <td>2</td>\n",
       "      <td>2016-09-01 02:59:59</td>\n",
       "      <td>215.259946</td>\n",
       "      <td>12.884934</td>\n",
       "      <td>7.786667</td>\n",
       "      <td>0.996043</td>\n",
       "      <td>1398.493666</td>\n",
       "      <td>-500.868360</td>\n",
       "      <td>1398.860436</td>\n",
       "      <td>-499.764529</td>\n",
       "      <td>1398.075709</td>\n",
       "      <td>...</td>\n",
       "      <td>11.962366</td>\n",
       "      <td>-498.767484</td>\n",
       "      <td>8.096893</td>\n",
       "      <td>-500.827423</td>\n",
       "      <td>8.071056</td>\n",
       "      <td>-500.801673</td>\n",
       "      <td>4.905125</td>\n",
       "      <td>-499.828510</td>\n",
       "      <td>24.994862</td>\n",
       "      <td>-500.622559</td>\n",
       "    </tr>\n",
       "  </tbody>\n",
       "</table>\n",
       "<p>3 rows × 53 columns</p>\n",
       "</div>"
      ],
      "text/plain": [
       "                 date  primary_cleaner.input.sulfate  \\\n",
       "0 2016-09-01 00:59:59                     210.800909   \n",
       "1 2016-09-01 01:59:59                     215.392455   \n",
       "2 2016-09-01 02:59:59                     215.259946   \n",
       "\n",
       "   primary_cleaner.input.depressant  primary_cleaner.input.feed_size  \\\n",
       "0                         14.993118                         8.080000   \n",
       "1                         14.987471                         8.080000   \n",
       "2                         12.884934                         7.786667   \n",
       "\n",
       "   primary_cleaner.input.xanthate  primary_cleaner.state.floatbank8_a_air  \\\n",
       "0                        1.005021                             1398.981301   \n",
       "1                        0.990469                             1398.777912   \n",
       "2                        0.996043                             1398.493666   \n",
       "\n",
       "   primary_cleaner.state.floatbank8_a_level  \\\n",
       "0                               -500.225577   \n",
       "1                               -500.057435   \n",
       "2                               -500.868360   \n",
       "\n",
       "   primary_cleaner.state.floatbank8_b_air  \\\n",
       "0                             1399.144926   \n",
       "1                             1398.055362   \n",
       "2                             1398.860436   \n",
       "\n",
       "   primary_cleaner.state.floatbank8_b_level  \\\n",
       "0                               -499.919735   \n",
       "1                               -499.778182   \n",
       "2                               -499.764529   \n",
       "\n",
       "   primary_cleaner.state.floatbank8_c_air  ...  \\\n",
       "0                             1400.102998  ...   \n",
       "1                             1396.151033  ...   \n",
       "2                             1398.075709  ...   \n",
       "\n",
       "   secondary_cleaner.state.floatbank4_a_air  \\\n",
       "0                                 12.023554   \n",
       "1                                 12.058140   \n",
       "2                                 11.962366   \n",
       "\n",
       "   secondary_cleaner.state.floatbank4_a_level  \\\n",
       "0                                 -497.795834   \n",
       "1                                 -498.695773   \n",
       "2                                 -498.767484   \n",
       "\n",
       "   secondary_cleaner.state.floatbank4_b_air  \\\n",
       "0                                  8.016656   \n",
       "1                                  8.130979   \n",
       "2                                  8.096893   \n",
       "\n",
       "   secondary_cleaner.state.floatbank4_b_level  \\\n",
       "0                                 -501.289139   \n",
       "1                                 -499.634209   \n",
       "2                                 -500.827423   \n",
       "\n",
       "   secondary_cleaner.state.floatbank5_a_air  \\\n",
       "0                                  7.946562   \n",
       "1                                  7.958270   \n",
       "2                                  8.071056   \n",
       "\n",
       "   secondary_cleaner.state.floatbank5_a_level  \\\n",
       "0                                 -432.317850   \n",
       "1                                 -525.839648   \n",
       "2                                 -500.801673   \n",
       "\n",
       "   secondary_cleaner.state.floatbank5_b_air  \\\n",
       "0                                  4.872511   \n",
       "1                                  4.878850   \n",
       "2                                  4.905125   \n",
       "\n",
       "   secondary_cleaner.state.floatbank5_b_level  \\\n",
       "0                                 -500.037437   \n",
       "1                                 -500.162375   \n",
       "2                                 -499.828510   \n",
       "\n",
       "   secondary_cleaner.state.floatbank6_a_air  \\\n",
       "0                                 26.705889   \n",
       "1                                 25.019940   \n",
       "2                                 24.994862   \n",
       "\n",
       "   secondary_cleaner.state.floatbank6_a_level  \n",
       "0                                 -499.709414  \n",
       "1                                 -499.819438  \n",
       "2                                 -500.622559  \n",
       "\n",
       "[3 rows x 53 columns]"
      ]
     },
     "execution_count": 7,
     "metadata": {},
     "output_type": "execute_result"
    }
   ],
   "source": [
    "gold_test = pd.read_csv('/datasets/gold_recovery_test.csv', parse_dates=['date'],\n",
    "                date_parser=my_date_parser)\n",
    "\n",
    "gold_test.head(3)"
   ]
  },
  {
   "cell_type": "code",
   "execution_count": 8,
   "metadata": {},
   "outputs": [
    {
     "data": {
      "text/html": [
       "<div>\n",
       "<style scoped>\n",
       "    .dataframe tbody tr th:only-of-type {\n",
       "        vertical-align: middle;\n",
       "    }\n",
       "\n",
       "    .dataframe tbody tr th {\n",
       "        vertical-align: top;\n",
       "    }\n",
       "\n",
       "    .dataframe thead th {\n",
       "        text-align: right;\n",
       "    }\n",
       "</style>\n",
       "<table border=\"1\" class=\"dataframe\">\n",
       "  <thead>\n",
       "    <tr style=\"text-align: right;\">\n",
       "      <th></th>\n",
       "      <th>date</th>\n",
       "      <th>final.output.concentrate_ag</th>\n",
       "      <th>final.output.concentrate_pb</th>\n",
       "      <th>final.output.concentrate_sol</th>\n",
       "      <th>final.output.concentrate_au</th>\n",
       "      <th>final.output.recovery</th>\n",
       "      <th>final.output.tail_ag</th>\n",
       "      <th>final.output.tail_pb</th>\n",
       "      <th>final.output.tail_sol</th>\n",
       "      <th>final.output.tail_au</th>\n",
       "      <th>...</th>\n",
       "      <th>secondary_cleaner.state.floatbank4_a_air</th>\n",
       "      <th>secondary_cleaner.state.floatbank4_a_level</th>\n",
       "      <th>secondary_cleaner.state.floatbank4_b_air</th>\n",
       "      <th>secondary_cleaner.state.floatbank4_b_level</th>\n",
       "      <th>secondary_cleaner.state.floatbank5_a_air</th>\n",
       "      <th>secondary_cleaner.state.floatbank5_a_level</th>\n",
       "      <th>secondary_cleaner.state.floatbank5_b_air</th>\n",
       "      <th>secondary_cleaner.state.floatbank5_b_level</th>\n",
       "      <th>secondary_cleaner.state.floatbank6_a_air</th>\n",
       "      <th>secondary_cleaner.state.floatbank6_a_level</th>\n",
       "    </tr>\n",
       "  </thead>\n",
       "  <tbody>\n",
       "    <tr>\n",
       "      <td>0</td>\n",
       "      <td>2016-01-15 00:00:00</td>\n",
       "      <td>6.055403</td>\n",
       "      <td>9.889648</td>\n",
       "      <td>5.507324</td>\n",
       "      <td>42.192020</td>\n",
       "      <td>70.541216</td>\n",
       "      <td>10.411962</td>\n",
       "      <td>0.895447</td>\n",
       "      <td>16.904297</td>\n",
       "      <td>2.143149</td>\n",
       "      <td>...</td>\n",
       "      <td>14.016835</td>\n",
       "      <td>-502.488007</td>\n",
       "      <td>12.099931</td>\n",
       "      <td>-504.715942</td>\n",
       "      <td>9.925633</td>\n",
       "      <td>-498.310211</td>\n",
       "      <td>8.079666</td>\n",
       "      <td>-500.470978</td>\n",
       "      <td>14.151341</td>\n",
       "      <td>-605.841980</td>\n",
       "    </tr>\n",
       "    <tr>\n",
       "      <td>1</td>\n",
       "      <td>2016-01-15 01:00:00</td>\n",
       "      <td>6.029369</td>\n",
       "      <td>9.968944</td>\n",
       "      <td>5.257781</td>\n",
       "      <td>42.701629</td>\n",
       "      <td>69.266198</td>\n",
       "      <td>10.462676</td>\n",
       "      <td>0.927452</td>\n",
       "      <td>16.634514</td>\n",
       "      <td>2.224930</td>\n",
       "      <td>...</td>\n",
       "      <td>13.992281</td>\n",
       "      <td>-505.503262</td>\n",
       "      <td>11.950531</td>\n",
       "      <td>-501.331529</td>\n",
       "      <td>10.039245</td>\n",
       "      <td>-500.169983</td>\n",
       "      <td>7.984757</td>\n",
       "      <td>-500.582168</td>\n",
       "      <td>13.998353</td>\n",
       "      <td>-599.787184</td>\n",
       "    </tr>\n",
       "    <tr>\n",
       "      <td>2</td>\n",
       "      <td>2016-01-15 02:00:00</td>\n",
       "      <td>6.055926</td>\n",
       "      <td>10.213995</td>\n",
       "      <td>5.383759</td>\n",
       "      <td>42.657501</td>\n",
       "      <td>68.116445</td>\n",
       "      <td>10.507046</td>\n",
       "      <td>0.953716</td>\n",
       "      <td>16.208849</td>\n",
       "      <td>2.257889</td>\n",
       "      <td>...</td>\n",
       "      <td>14.015015</td>\n",
       "      <td>-502.520901</td>\n",
       "      <td>11.912783</td>\n",
       "      <td>-501.133383</td>\n",
       "      <td>10.070913</td>\n",
       "      <td>-500.129135</td>\n",
       "      <td>8.013877</td>\n",
       "      <td>-500.517572</td>\n",
       "      <td>14.028663</td>\n",
       "      <td>-601.427363</td>\n",
       "    </tr>\n",
       "  </tbody>\n",
       "</table>\n",
       "<p>3 rows × 87 columns</p>\n",
       "</div>"
      ],
      "text/plain": [
       "                 date  final.output.concentrate_ag  \\\n",
       "0 2016-01-15 00:00:00                     6.055403   \n",
       "1 2016-01-15 01:00:00                     6.029369   \n",
       "2 2016-01-15 02:00:00                     6.055926   \n",
       "\n",
       "   final.output.concentrate_pb  final.output.concentrate_sol  \\\n",
       "0                     9.889648                      5.507324   \n",
       "1                     9.968944                      5.257781   \n",
       "2                    10.213995                      5.383759   \n",
       "\n",
       "   final.output.concentrate_au  final.output.recovery  final.output.tail_ag  \\\n",
       "0                    42.192020              70.541216             10.411962   \n",
       "1                    42.701629              69.266198             10.462676   \n",
       "2                    42.657501              68.116445             10.507046   \n",
       "\n",
       "   final.output.tail_pb  final.output.tail_sol  final.output.tail_au  ...  \\\n",
       "0              0.895447              16.904297              2.143149  ...   \n",
       "1              0.927452              16.634514              2.224930  ...   \n",
       "2              0.953716              16.208849              2.257889  ...   \n",
       "\n",
       "   secondary_cleaner.state.floatbank4_a_air  \\\n",
       "0                                 14.016835   \n",
       "1                                 13.992281   \n",
       "2                                 14.015015   \n",
       "\n",
       "   secondary_cleaner.state.floatbank4_a_level  \\\n",
       "0                                 -502.488007   \n",
       "1                                 -505.503262   \n",
       "2                                 -502.520901   \n",
       "\n",
       "   secondary_cleaner.state.floatbank4_b_air  \\\n",
       "0                                 12.099931   \n",
       "1                                 11.950531   \n",
       "2                                 11.912783   \n",
       "\n",
       "   secondary_cleaner.state.floatbank4_b_level  \\\n",
       "0                                 -504.715942   \n",
       "1                                 -501.331529   \n",
       "2                                 -501.133383   \n",
       "\n",
       "   secondary_cleaner.state.floatbank5_a_air  \\\n",
       "0                                  9.925633   \n",
       "1                                 10.039245   \n",
       "2                                 10.070913   \n",
       "\n",
       "   secondary_cleaner.state.floatbank5_a_level  \\\n",
       "0                                 -498.310211   \n",
       "1                                 -500.169983   \n",
       "2                                 -500.129135   \n",
       "\n",
       "   secondary_cleaner.state.floatbank5_b_air  \\\n",
       "0                                  8.079666   \n",
       "1                                  7.984757   \n",
       "2                                  8.013877   \n",
       "\n",
       "   secondary_cleaner.state.floatbank5_b_level  \\\n",
       "0                                 -500.470978   \n",
       "1                                 -500.582168   \n",
       "2                                 -500.517572   \n",
       "\n",
       "   secondary_cleaner.state.floatbank6_a_air  \\\n",
       "0                                 14.151341   \n",
       "1                                 13.998353   \n",
       "2                                 14.028663   \n",
       "\n",
       "   secondary_cleaner.state.floatbank6_a_level  \n",
       "0                                 -605.841980  \n",
       "1                                 -599.787184  \n",
       "2                                 -601.427363  \n",
       "\n",
       "[3 rows x 87 columns]"
      ]
     },
     "execution_count": 8,
     "metadata": {},
     "output_type": "execute_result"
    }
   ],
   "source": [
    "gold_full = pd.read_csv('/datasets/gold_recovery_full.csv', parse_dates=['date'],\n",
    "                date_parser=my_date_parser)\n",
    "\n",
    "gold_full.head(3)"
   ]
  },
  {
   "cell_type": "code",
   "execution_count": 9,
   "metadata": {
    "scrolled": true
   },
   "outputs": [
    {
     "name": "stdout",
     "output_type": "stream",
     "text": [
      "<class 'pandas.core.frame.DataFrame'>\n",
      "RangeIndex: 16860 entries, 0 to 16859\n",
      "Data columns (total 87 columns):\n",
      "date                                                  16860 non-null datetime64[ns]\n",
      "final.output.concentrate_ag                           16788 non-null float64\n",
      "final.output.concentrate_pb                           16788 non-null float64\n",
      "final.output.concentrate_sol                          16490 non-null float64\n",
      "final.output.concentrate_au                           16789 non-null float64\n",
      "final.output.recovery                                 15339 non-null float64\n",
      "final.output.tail_ag                                  16794 non-null float64\n",
      "final.output.tail_pb                                  16677 non-null float64\n",
      "final.output.tail_sol                                 16715 non-null float64\n",
      "final.output.tail_au                                  16794 non-null float64\n",
      "primary_cleaner.input.sulfate                         15553 non-null float64\n",
      "primary_cleaner.input.depressant                      15598 non-null float64\n",
      "primary_cleaner.input.feed_size                       16860 non-null float64\n",
      "primary_cleaner.input.xanthate                        15875 non-null float64\n",
      "primary_cleaner.output.concentrate_ag                 16778 non-null float64\n",
      "primary_cleaner.output.concentrate_pb                 16502 non-null float64\n",
      "primary_cleaner.output.concentrate_sol                16224 non-null float64\n",
      "primary_cleaner.output.concentrate_au                 16778 non-null float64\n",
      "primary_cleaner.output.tail_ag                        16777 non-null float64\n",
      "primary_cleaner.output.tail_pb                        16761 non-null float64\n",
      "primary_cleaner.output.tail_sol                       16579 non-null float64\n",
      "primary_cleaner.output.tail_au                        16777 non-null float64\n",
      "primary_cleaner.state.floatbank8_a_air                16820 non-null float64\n",
      "primary_cleaner.state.floatbank8_a_level              16827 non-null float64\n",
      "primary_cleaner.state.floatbank8_b_air                16820 non-null float64\n",
      "primary_cleaner.state.floatbank8_b_level              16833 non-null float64\n",
      "primary_cleaner.state.floatbank8_c_air                16822 non-null float64\n",
      "primary_cleaner.state.floatbank8_c_level              16833 non-null float64\n",
      "primary_cleaner.state.floatbank8_d_air                16821 non-null float64\n",
      "primary_cleaner.state.floatbank8_d_level              16833 non-null float64\n",
      "rougher.calculation.sulfate_to_au_concentrate         16833 non-null float64\n",
      "rougher.calculation.floatbank10_sulfate_to_au_feed    16833 non-null float64\n",
      "rougher.calculation.floatbank11_sulfate_to_au_feed    16833 non-null float64\n",
      "rougher.calculation.au_pb_ratio                       15618 non-null float64\n",
      "rougher.input.feed_ag                                 16778 non-null float64\n",
      "rougher.input.feed_pb                                 16632 non-null float64\n",
      "rougher.input.feed_rate                               16347 non-null float64\n",
      "rougher.input.feed_size                               16443 non-null float64\n",
      "rougher.input.feed_sol                                16568 non-null float64\n",
      "rougher.input.feed_au                                 16777 non-null float64\n",
      "rougher.input.floatbank10_sulfate                     15816 non-null float64\n",
      "rougher.input.floatbank10_xanthate                    16514 non-null float64\n",
      "rougher.input.floatbank11_sulfate                     16237 non-null float64\n",
      "rougher.input.floatbank11_xanthate                    14956 non-null float64\n",
      "rougher.output.concentrate_ag                         16778 non-null float64\n",
      "rougher.output.concentrate_pb                         16778 non-null float64\n",
      "rougher.output.concentrate_sol                        16698 non-null float64\n",
      "rougher.output.concentrate_au                         16778 non-null float64\n",
      "rougher.output.recovery                               14287 non-null float64\n",
      "rougher.output.tail_ag                                14610 non-null float64\n",
      "rougher.output.tail_pb                                16778 non-null float64\n",
      "rougher.output.tail_sol                               14611 non-null float64\n",
      "rougher.output.tail_au                                14611 non-null float64\n",
      "rougher.state.floatbank10_a_air                       16807 non-null float64\n",
      "rougher.state.floatbank10_a_level                     16807 non-null float64\n",
      "rougher.state.floatbank10_b_air                       16807 non-null float64\n",
      "rougher.state.floatbank10_b_level                     16807 non-null float64\n",
      "rougher.state.floatbank10_c_air                       16807 non-null float64\n",
      "rougher.state.floatbank10_c_level                     16814 non-null float64\n",
      "rougher.state.floatbank10_d_air                       16802 non-null float64\n",
      "rougher.state.floatbank10_d_level                     16809 non-null float64\n",
      "rougher.state.floatbank10_e_air                       16257 non-null float64\n",
      "rougher.state.floatbank10_e_level                     16809 non-null float64\n",
      "rougher.state.floatbank10_f_air                       16802 non-null float64\n",
      "rougher.state.floatbank10_f_level                     16802 non-null float64\n",
      "secondary_cleaner.output.tail_ag                      16776 non-null float64\n",
      "secondary_cleaner.output.tail_pb                      16764 non-null float64\n",
      "secondary_cleaner.output.tail_sol                     14874 non-null float64\n",
      "secondary_cleaner.output.tail_au                      16778 non-null float64\n",
      "secondary_cleaner.state.floatbank2_a_air              16497 non-null float64\n",
      "secondary_cleaner.state.floatbank2_a_level            16751 non-null float64\n",
      "secondary_cleaner.state.floatbank2_b_air              16705 non-null float64\n",
      "secondary_cleaner.state.floatbank2_b_level            16748 non-null float64\n",
      "secondary_cleaner.state.floatbank3_a_air              16763 non-null float64\n",
      "secondary_cleaner.state.floatbank3_a_level            16747 non-null float64\n",
      "secondary_cleaner.state.floatbank3_b_air              16752 non-null float64\n",
      "secondary_cleaner.state.floatbank3_b_level            16750 non-null float64\n",
      "secondary_cleaner.state.floatbank4_a_air              16731 non-null float64\n",
      "secondary_cleaner.state.floatbank4_a_level            16747 non-null float64\n",
      "secondary_cleaner.state.floatbank4_b_air              16768 non-null float64\n",
      "secondary_cleaner.state.floatbank4_b_level            16767 non-null float64\n",
      "secondary_cleaner.state.floatbank5_a_air              16775 non-null float64\n",
      "secondary_cleaner.state.floatbank5_a_level            16775 non-null float64\n",
      "secondary_cleaner.state.floatbank5_b_air              16775 non-null float64\n",
      "secondary_cleaner.state.floatbank5_b_level            16776 non-null float64\n",
      "secondary_cleaner.state.floatbank6_a_air              16757 non-null float64\n",
      "secondary_cleaner.state.floatbank6_a_level            16775 non-null float64\n",
      "dtypes: datetime64[ns](1), float64(86)\n",
      "memory usage: 11.2 MB\n"
     ]
    }
   ],
   "source": [
    "gold_train.info(\n",
    "                #verbose=False\n",
    "               )"
   ]
  },
  {
   "cell_type": "markdown",
   "metadata": {},
   "source": [
    "Наблюдаем пропуски в данных, практически во всех столбцах."
   ]
  },
  {
   "cell_type": "code",
   "execution_count": 10,
   "metadata": {},
   "outputs": [
    {
     "name": "stdout",
     "output_type": "stream",
     "text": [
      "<class 'pandas.core.frame.DataFrame'>\n",
      "RangeIndex: 5856 entries, 0 to 5855\n",
      "Columns: 53 entries, date to secondary_cleaner.state.floatbank6_a_level\n",
      "dtypes: datetime64[ns](1), float64(52)\n",
      "memory usage: 2.4 MB\n"
     ]
    }
   ],
   "source": [
    "gold_test.info(verbose=False)"
   ]
  },
  {
   "cell_type": "code",
   "execution_count": 11,
   "metadata": {},
   "outputs": [
    {
     "name": "stdout",
     "output_type": "stream",
     "text": [
      "<class 'pandas.core.frame.DataFrame'>\n",
      "RangeIndex: 22716 entries, 0 to 22715\n",
      "Columns: 87 entries, date to secondary_cleaner.state.floatbank6_a_level\n",
      "dtypes: datetime64[ns](1), float64(86)\n",
      "memory usage: 15.1 MB\n"
     ]
    }
   ],
   "source": [
    "gold_full.info(verbose=False)"
   ]
  },
  {
   "cell_type": "markdown",
   "metadata": {},
   "source": [
    "В тестовой выборке 53 признака, в обучающей и общей 87.\n"
   ]
  },
  {
   "cell_type": "markdown",
   "metadata": {},
   "source": [
    "### 1.2. Проверка правильности рассчета эффективности обогащения. Подсчет MAE между расчётами и реальным значением признака.  "
   ]
  },
  {
   "cell_type": "markdown",
   "metadata": {},
   "source": [
    "Проверим, что эффективность обогащения рассчитана правильно. Вычислим её на обучающей выборке для признака `rougher.output.recovery`. После найдем MAE между расчётами и значением признака.\n",
    "\n",
    "Необходимые для расчета значения:\n",
    "C — доля золота в концентрате после флотации/очистки `rougher.output.concentrate_au`\n",
    "F — доля золота в сырье/концентрате до флотации/очистки `rougher.input.feed_au`\n",
    "T — доля золота в отвальных хвостах после флотации/очистки `rougher.output.tail_au`\n",
    "Подсчитанная эффективность обогащения `rougher.output.recovery`"
   ]
  },
  {
   "cell_type": "code",
   "execution_count": 12,
   "metadata": {},
   "outputs": [
    {
     "data": {
      "text/html": [
       "<div>\n",
       "<style scoped>\n",
       "    .dataframe tbody tr th:only-of-type {\n",
       "        vertical-align: middle;\n",
       "    }\n",
       "\n",
       "    .dataframe tbody tr th {\n",
       "        vertical-align: top;\n",
       "    }\n",
       "\n",
       "    .dataframe thead th {\n",
       "        text-align: right;\n",
       "    }\n",
       "</style>\n",
       "<table border=\"1\" class=\"dataframe\">\n",
       "  <thead>\n",
       "    <tr style=\"text-align: right;\">\n",
       "      <th></th>\n",
       "      <th>rougher.output.concentrate_au</th>\n",
       "      <th>rougher.input.feed_au</th>\n",
       "      <th>rougher.output.tail_au</th>\n",
       "      <th>rougher.output.recovery</th>\n",
       "    </tr>\n",
       "  </thead>\n",
       "  <tbody>\n",
       "    <tr>\n",
       "      <td>0</td>\n",
       "      <td>19.793808</td>\n",
       "      <td>6.486150</td>\n",
       "      <td>1.170244</td>\n",
       "      <td>87.107763</td>\n",
       "    </tr>\n",
       "    <tr>\n",
       "      <td>1</td>\n",
       "      <td>20.050975</td>\n",
       "      <td>6.478583</td>\n",
       "      <td>1.184827</td>\n",
       "      <td>86.843261</td>\n",
       "    </tr>\n",
       "    <tr>\n",
       "      <td>2</td>\n",
       "      <td>19.737170</td>\n",
       "      <td>6.362222</td>\n",
       "      <td>1.162562</td>\n",
       "      <td>86.842308</td>\n",
       "    </tr>\n",
       "    <tr>\n",
       "      <td>3</td>\n",
       "      <td>19.320810</td>\n",
       "      <td>6.118189</td>\n",
       "      <td>1.079755</td>\n",
       "      <td>87.226430</td>\n",
       "    </tr>\n",
       "    <tr>\n",
       "      <td>4</td>\n",
       "      <td>19.216101</td>\n",
       "      <td>5.663707</td>\n",
       "      <td>1.012642</td>\n",
       "      <td>86.688794</td>\n",
       "    </tr>\n",
       "  </tbody>\n",
       "</table>\n",
       "</div>"
      ],
      "text/plain": [
       "   rougher.output.concentrate_au  rougher.input.feed_au  \\\n",
       "0                      19.793808               6.486150   \n",
       "1                      20.050975               6.478583   \n",
       "2                      19.737170               6.362222   \n",
       "3                      19.320810               6.118189   \n",
       "4                      19.216101               5.663707   \n",
       "\n",
       "   rougher.output.tail_au  rougher.output.recovery  \n",
       "0                1.170244                87.107763  \n",
       "1                1.184827                86.843261  \n",
       "2                1.162562                86.842308  \n",
       "3                1.079755                87.226430  \n",
       "4                1.012642                86.688794  "
      ]
     },
     "execution_count": 12,
     "metadata": {},
     "output_type": "execute_result"
    }
   ],
   "source": [
    "gold_train[['rougher.output.concentrate_au', 'rougher.input.feed_au', \n",
    "            'rougher.output.tail_au', 'rougher.output.recovery']].head()"
   ]
  },
  {
   "cell_type": "code",
   "execution_count": 13,
   "metadata": {},
   "outputs": [],
   "source": [
    "def recovery_metric(row):\n",
    "    concentrate = row['rougher.output.concentrate_au']\n",
    "    feed = row['rougher.input.feed_au']\n",
    "    tailings = row['rougher.output.tail_au']\n",
    "    try:\n",
    "        recovery = 100 * (concentrate * (feed - tailings)) / (feed * (concentrate - tailings)) \n",
    "    except:\n",
    "        recovery = np.nan\n",
    "    \n",
    "    return recovery\n"
   ]
  },
  {
   "cell_type": "code",
   "execution_count": 14,
   "metadata": {},
   "outputs": [
    {
     "data": {
      "text/plain": [
       "0    87.107763\n",
       "1    86.843261\n",
       "2    86.842308\n",
       "3    87.226430\n",
       "4    86.688794\n",
       "Name: calculated_recovery, dtype: float64"
      ]
     },
     "execution_count": 14,
     "metadata": {},
     "output_type": "execute_result"
    }
   ],
   "source": [
    "gold_train['calculated_recovery'] = gold_train.apply(recovery_metric, axis = 1)\n",
    "gold_train['calculated_recovery'].head()"
   ]
  },
  {
   "cell_type": "markdown",
   "metadata": {},
   "source": [
    "Удалим пропущенные значения и посчитаем MAE"
   ]
  },
  {
   "cell_type": "code",
   "execution_count": 15,
   "metadata": {},
   "outputs": [
    {
     "data": {
      "text/plain": [
       "1.0898633667227423e-14"
      ]
     },
     "execution_count": 15,
     "metadata": {},
     "output_type": "execute_result"
    }
   ],
   "source": [
    "df_actual_calc_recovery = gold_train[['rougher.output.recovery', 'calculated_recovery']]\n",
    "df_actual_calc_recovery.dropna(inplace = True)\n",
    "\n",
    "mae_actual_calc_recovery = mae(df_actual_calc_recovery['rougher.output.recovery'], \n",
    "                               df_actual_calc_recovery['calculated_recovery'])\n",
    "mae_actual_calc_recovery"
   ]
  },
  {
   "cell_type": "markdown",
   "metadata": {},
   "source": [
    "MAE = 1.0898633667227423e-14. Расчеты проведены верно, хотя и не совпали полностью."
   ]
  },
  {
   "cell_type": "markdown",
   "metadata": {},
   "source": [
    "### 1.3. Анализ признаков, недоступных в тестовой выборке"
   ]
  },
  {
   "cell_type": "markdown",
   "metadata": {},
   "source": [
    "Рассмотрим признаки, отсутствующие в тестовой выборке:"
   ]
  },
  {
   "cell_type": "code",
   "execution_count": 16,
   "metadata": {},
   "outputs": [
    {
     "data": {
      "text/plain": [
       "{'calculated_recovery',\n",
       " 'final.output.concentrate_ag',\n",
       " 'final.output.concentrate_au',\n",
       " 'final.output.concentrate_pb',\n",
       " 'final.output.concentrate_sol',\n",
       " 'final.output.recovery',\n",
       " 'final.output.tail_ag',\n",
       " 'final.output.tail_au',\n",
       " 'final.output.tail_pb',\n",
       " 'final.output.tail_sol',\n",
       " 'primary_cleaner.output.concentrate_ag',\n",
       " 'primary_cleaner.output.concentrate_au',\n",
       " 'primary_cleaner.output.concentrate_pb',\n",
       " 'primary_cleaner.output.concentrate_sol',\n",
       " 'primary_cleaner.output.tail_ag',\n",
       " 'primary_cleaner.output.tail_au',\n",
       " 'primary_cleaner.output.tail_pb',\n",
       " 'primary_cleaner.output.tail_sol',\n",
       " 'rougher.calculation.au_pb_ratio',\n",
       " 'rougher.calculation.floatbank10_sulfate_to_au_feed',\n",
       " 'rougher.calculation.floatbank11_sulfate_to_au_feed',\n",
       " 'rougher.calculation.sulfate_to_au_concentrate',\n",
       " 'rougher.output.concentrate_ag',\n",
       " 'rougher.output.concentrate_au',\n",
       " 'rougher.output.concentrate_pb',\n",
       " 'rougher.output.concentrate_sol',\n",
       " 'rougher.output.recovery',\n",
       " 'rougher.output.tail_ag',\n",
       " 'rougher.output.tail_au',\n",
       " 'rougher.output.tail_pb',\n",
       " 'rougher.output.tail_sol',\n",
       " 'secondary_cleaner.output.tail_ag',\n",
       " 'secondary_cleaner.output.tail_au',\n",
       " 'secondary_cleaner.output.tail_pb',\n",
       " 'secondary_cleaner.output.tail_sol'}"
      ]
     },
     "execution_count": 16,
     "metadata": {},
     "output_type": "execute_result"
    }
   ],
   "source": [
    "secondary_data = set(gold_train.columns).difference(set(gold_test.columns))\n",
    "secondary_data"
   ]
  },
  {
   "cell_type": "markdown",
   "metadata": {},
   "source": [
    "Как становится видно, в тестовой выборке отсутствуют значения целевых признаков. Для того, чтобы иметь возможность проверить нашу модель, эти значения необходимо восстановить.\n",
    "\n",
    "Также в тестовой выборке отсутствуют промежуточные замеры состава сырья при обработке, а также его расчётные характеристики. Следует ли их восстанавливать из полных данных?"
   ]
  },
  {
   "cell_type": "markdown",
   "metadata": {},
   "source": [
    "Итак, с помощью машинного обучения мы можем решить две различные задачи:\n",
    "\n",
    "1. <ins>Предсказание значений финального продукта по исходным признакам.</ins> В данном случае:  \n",
    "\n",
    "    - Мы будем обучать модель на основе только таких данных, которые будут поступать в реальности; \n",
    "    - После обучения будет проводится оценка модели;\n",
    "    - Далее фокус исследований будет направлен на улучшенние точности предсказаний и их воспроизводимости.  \n",
    "\n",
    "\n",
    "2. <ins>Исследование и оптимизация процесса обработки руды.</ins> \n",
    "    - На основе всех* данных обучить модель, \n",
    "    - проанализировать её, \n",
    "    - выявить ниболее значимые признаки, влияющие на целевой признак; \n",
    "    - продумать как дальше с ними работать для максимизации целевых показателей. \n",
    "    \n",
    "    *для предсказания финального концентрата будут использоваться не только стартовые признаки, но и промежуточные значения.  \n",
    "\n",
    "Вернемся к нашей изначальной цели:\n",
    "\"Модель должна предсказать коэффициент восстановления золота из золотосодержащей руды. Модель поможет оптимизировать производство, чтобы не запускать предприятие с убыточными характеристиками.\"\n",
    "\n",
    "Соответсвенно перед нами стоит задача номер 1 – Предсказание значений финального продукта по исходным признакам.\n",
    "Таким образом далее мы будем обучать модель на основе только таких данных, которые будут поступать в реальности (набор таких данных предоставлен в тестовой выборке), фокус исследований будет направлен на улучшенние точности предсказаний и их воспроизводимости.\n"
   ]
  },
  {
   "cell_type": "markdown",
   "metadata": {},
   "source": [
    "### 1.4. Предобработка данных"
   ]
  },
  {
   "cell_type": "markdown",
   "metadata": {},
   "source": [
    "Перед нами стоит задача обработать данные из обучающей и тестовой выборок."
   ]
  },
  {
   "cell_type": "markdown",
   "metadata": {},
   "source": [
    "#### Формирование обучающей и тестовой выборок"
   ]
  },
  {
   "cell_type": "code",
   "execution_count": 17,
   "metadata": {},
   "outputs": [],
   "source": [
    "list_of_secondary_data = list(secondary_data)"
   ]
  },
  {
   "cell_type": "code",
   "execution_count": 18,
   "metadata": {},
   "outputs": [
    {
     "data": {
      "text/plain": [
       "(16860, 53)"
      ]
     },
     "execution_count": 18,
     "metadata": {},
     "output_type": "execute_result"
    }
   ],
   "source": [
    "gold_train.drop(list_of_secondary_data, axis = 1, inplace = True)\n",
    "gold_train.shape"
   ]
  },
  {
   "cell_type": "markdown",
   "metadata": {},
   "source": [
    "Для того, чтобы наблюдения не перемешивались, установим дату как индекс:"
   ]
  },
  {
   "cell_type": "code",
   "execution_count": 19,
   "metadata": {},
   "outputs": [],
   "source": [
    "%%capture\n",
    "gold_full.set_index('date')\n",
    "gold_train.set_index('date')\n",
    "gold_test.set_index('date')"
   ]
  },
  {
   "cell_type": "markdown",
   "metadata": {},
   "source": [
    "Добавим данные по целевым признакам:"
   ]
  },
  {
   "cell_type": "code",
   "execution_count": 20,
   "metadata": {},
   "outputs": [
    {
     "data": {
      "text/plain": [
       "(16860, 55)"
      ]
     },
     "execution_count": 20,
     "metadata": {},
     "output_type": "execute_result"
    }
   ],
   "source": [
    "gold_train['rougher.output.recovery'] = gold_full['rougher.output.recovery']\n",
    "gold_train['final.output.recovery'] = gold_full['final.output.recovery']\n",
    "gold_train.shape"
   ]
  },
  {
   "cell_type": "code",
   "execution_count": 21,
   "metadata": {},
   "outputs": [
    {
     "data": {
      "text/plain": [
       "(5856, 55)"
      ]
     },
     "execution_count": 21,
     "metadata": {},
     "output_type": "execute_result"
    }
   ],
   "source": [
    "gold_test['rougher.output.recovery'] = gold_full['rougher.output.recovery']\n",
    "gold_test['final.output.recovery'] = gold_full['final.output.recovery']\n",
    "gold_test.shape"
   ]
  },
  {
   "cell_type": "markdown",
   "metadata": {},
   "source": [
    "#### Обработка пропусков"
   ]
  },
  {
   "cell_type": "code",
   "execution_count": 22,
   "metadata": {},
   "outputs": [
    {
     "data": {
      "text/plain": [
       "16208"
      ]
     },
     "execution_count": 22,
     "metadata": {},
     "output_type": "execute_result"
    }
   ],
   "source": [
    "gold_train.isna().sum().sum()"
   ]
  },
  {
   "cell_type": "code",
   "execution_count": 23,
   "metadata": {},
   "outputs": [
    {
     "data": {
      "text/html": [
       "<div>\n",
       "<style scoped>\n",
       "    .dataframe tbody tr th:only-of-type {\n",
       "        vertical-align: middle;\n",
       "    }\n",
       "\n",
       "    .dataframe tbody tr th {\n",
       "        vertical-align: top;\n",
       "    }\n",
       "\n",
       "    .dataframe thead th {\n",
       "        text-align: right;\n",
       "    }\n",
       "</style>\n",
       "<table border=\"1\" class=\"dataframe\">\n",
       "  <thead>\n",
       "    <tr style=\"text-align: right;\">\n",
       "      <th></th>\n",
       "      <th>date</th>\n",
       "      <th>primary_cleaner.input.sulfate</th>\n",
       "      <th>primary_cleaner.input.depressant</th>\n",
       "      <th>primary_cleaner.input.feed_size</th>\n",
       "      <th>primary_cleaner.input.xanthate</th>\n",
       "      <th>primary_cleaner.state.floatbank8_a_air</th>\n",
       "      <th>primary_cleaner.state.floatbank8_a_level</th>\n",
       "      <th>primary_cleaner.state.floatbank8_b_air</th>\n",
       "      <th>primary_cleaner.state.floatbank8_b_level</th>\n",
       "      <th>primary_cleaner.state.floatbank8_c_air</th>\n",
       "      <th>...</th>\n",
       "      <th>secondary_cleaner.state.floatbank4_b_air</th>\n",
       "      <th>secondary_cleaner.state.floatbank4_b_level</th>\n",
       "      <th>secondary_cleaner.state.floatbank5_a_air</th>\n",
       "      <th>secondary_cleaner.state.floatbank5_a_level</th>\n",
       "      <th>secondary_cleaner.state.floatbank5_b_air</th>\n",
       "      <th>secondary_cleaner.state.floatbank5_b_level</th>\n",
       "      <th>secondary_cleaner.state.floatbank6_a_air</th>\n",
       "      <th>secondary_cleaner.state.floatbank6_a_level</th>\n",
       "      <th>rougher.output.recovery</th>\n",
       "      <th>final.output.recovery</th>\n",
       "    </tr>\n",
       "  </thead>\n",
       "  <tbody>\n",
       "    <tr>\n",
       "      <td>47</td>\n",
       "      <td>2016-01-16 23:00:00</td>\n",
       "      <td>126.397495</td>\n",
       "      <td>12.709727</td>\n",
       "      <td>7.25</td>\n",
       "      <td>1.229626</td>\n",
       "      <td>1601.301169</td>\n",
       "      <td>-498.725777</td>\n",
       "      <td>1605.370031</td>\n",
       "      <td>-500.644437</td>\n",
       "      <td>1598.360694</td>\n",
       "      <td>...</td>\n",
       "      <td>11.971272</td>\n",
       "      <td>-550.095619</td>\n",
       "      <td>9.981163</td>\n",
       "      <td>-502.869109</td>\n",
       "      <td>7.941184</td>\n",
       "      <td>-500.623610</td>\n",
       "      <td>12.018837</td>\n",
       "      <td>-600.916665</td>\n",
       "      <td>0.000000</td>\n",
       "      <td>55.088448</td>\n",
       "    </tr>\n",
       "    <tr>\n",
       "      <td>49</td>\n",
       "      <td>2016-01-17 01:00:00</td>\n",
       "      <td>48.760868</td>\n",
       "      <td>5.021841</td>\n",
       "      <td>7.25</td>\n",
       "      <td>0.595224</td>\n",
       "      <td>1601.022931</td>\n",
       "      <td>-498.647484</td>\n",
       "      <td>1602.901368</td>\n",
       "      <td>-501.137097</td>\n",
       "      <td>1600.572904</td>\n",
       "      <td>...</td>\n",
       "      <td>11.987133</td>\n",
       "      <td>-549.583570</td>\n",
       "      <td>10.094584</td>\n",
       "      <td>-492.041563</td>\n",
       "      <td>8.054770</td>\n",
       "      <td>-498.802262</td>\n",
       "      <td>11.961330</td>\n",
       "      <td>-597.272218</td>\n",
       "      <td>0.000000</td>\n",
       "      <td>NaN</td>\n",
       "    </tr>\n",
       "    <tr>\n",
       "      <td>53</td>\n",
       "      <td>2016-01-17 05:00:00</td>\n",
       "      <td>137.334448</td>\n",
       "      <td>13.944077</td>\n",
       "      <td>7.25</td>\n",
       "      <td>1.203816</td>\n",
       "      <td>1598.394630</td>\n",
       "      <td>-500.458080</td>\n",
       "      <td>1602.960131</td>\n",
       "      <td>-500.418604</td>\n",
       "      <td>1600.863989</td>\n",
       "      <td>...</td>\n",
       "      <td>12.042964</td>\n",
       "      <td>-550.430774</td>\n",
       "      <td>9.989624</td>\n",
       "      <td>-499.606754</td>\n",
       "      <td>7.950446</td>\n",
       "      <td>-500.352648</td>\n",
       "      <td>12.011728</td>\n",
       "      <td>-599.043399</td>\n",
       "      <td>NaN</td>\n",
       "      <td>71.308281</td>\n",
       "    </tr>\n",
       "    <tr>\n",
       "      <td>98</td>\n",
       "      <td>2016-01-19 02:00:00</td>\n",
       "      <td>15.273131</td>\n",
       "      <td>1.940663</td>\n",
       "      <td>7.25</td>\n",
       "      <td>0.180119</td>\n",
       "      <td>1546.951271</td>\n",
       "      <td>-501.138590</td>\n",
       "      <td>1550.530280</td>\n",
       "      <td>-500.130616</td>\n",
       "      <td>1551.535239</td>\n",
       "      <td>...</td>\n",
       "      <td>12.018188</td>\n",
       "      <td>-559.800324</td>\n",
       "      <td>9.999754</td>\n",
       "      <td>-512.673353</td>\n",
       "      <td>7.946763</td>\n",
       "      <td>-500.475471</td>\n",
       "      <td>11.963962</td>\n",
       "      <td>-607.847547</td>\n",
       "      <td>26.275908</td>\n",
       "      <td>58.017871</td>\n",
       "    </tr>\n",
       "    <tr>\n",
       "      <td>99</td>\n",
       "      <td>2016-01-19 03:00:00</td>\n",
       "      <td>2.116168</td>\n",
       "      <td>NaN</td>\n",
       "      <td>7.25</td>\n",
       "      <td>NaN</td>\n",
       "      <td>1549.052155</td>\n",
       "      <td>-500.274820</td>\n",
       "      <td>1548.147964</td>\n",
       "      <td>-500.140456</td>\n",
       "      <td>1551.246558</td>\n",
       "      <td>...</td>\n",
       "      <td>12.036072</td>\n",
       "      <td>-603.234250</td>\n",
       "      <td>9.974968</td>\n",
       "      <td>-497.092974</td>\n",
       "      <td>7.953962</td>\n",
       "      <td>-499.698442</td>\n",
       "      <td>11.941642</td>\n",
       "      <td>-598.541756</td>\n",
       "      <td>NaN</td>\n",
       "      <td>NaN</td>\n",
       "    </tr>\n",
       "  </tbody>\n",
       "</table>\n",
       "<p>5 rows × 55 columns</p>\n",
       "</div>"
      ],
      "text/plain": [
       "                  date  primary_cleaner.input.sulfate  \\\n",
       "47 2016-01-16 23:00:00                     126.397495   \n",
       "49 2016-01-17 01:00:00                      48.760868   \n",
       "53 2016-01-17 05:00:00                     137.334448   \n",
       "98 2016-01-19 02:00:00                      15.273131   \n",
       "99 2016-01-19 03:00:00                       2.116168   \n",
       "\n",
       "    primary_cleaner.input.depressant  primary_cleaner.input.feed_size  \\\n",
       "47                         12.709727                             7.25   \n",
       "49                          5.021841                             7.25   \n",
       "53                         13.944077                             7.25   \n",
       "98                          1.940663                             7.25   \n",
       "99                               NaN                             7.25   \n",
       "\n",
       "    primary_cleaner.input.xanthate  primary_cleaner.state.floatbank8_a_air  \\\n",
       "47                        1.229626                             1601.301169   \n",
       "49                        0.595224                             1601.022931   \n",
       "53                        1.203816                             1598.394630   \n",
       "98                        0.180119                             1546.951271   \n",
       "99                             NaN                             1549.052155   \n",
       "\n",
       "    primary_cleaner.state.floatbank8_a_level  \\\n",
       "47                               -498.725777   \n",
       "49                               -498.647484   \n",
       "53                               -500.458080   \n",
       "98                               -501.138590   \n",
       "99                               -500.274820   \n",
       "\n",
       "    primary_cleaner.state.floatbank8_b_air  \\\n",
       "47                             1605.370031   \n",
       "49                             1602.901368   \n",
       "53                             1602.960131   \n",
       "98                             1550.530280   \n",
       "99                             1548.147964   \n",
       "\n",
       "    primary_cleaner.state.floatbank8_b_level  \\\n",
       "47                               -500.644437   \n",
       "49                               -501.137097   \n",
       "53                               -500.418604   \n",
       "98                               -500.130616   \n",
       "99                               -500.140456   \n",
       "\n",
       "    primary_cleaner.state.floatbank8_c_air  ...  \\\n",
       "47                             1598.360694  ...   \n",
       "49                             1600.572904  ...   \n",
       "53                             1600.863989  ...   \n",
       "98                             1551.535239  ...   \n",
       "99                             1551.246558  ...   \n",
       "\n",
       "    secondary_cleaner.state.floatbank4_b_air  \\\n",
       "47                                 11.971272   \n",
       "49                                 11.987133   \n",
       "53                                 12.042964   \n",
       "98                                 12.018188   \n",
       "99                                 12.036072   \n",
       "\n",
       "    secondary_cleaner.state.floatbank4_b_level  \\\n",
       "47                                 -550.095619   \n",
       "49                                 -549.583570   \n",
       "53                                 -550.430774   \n",
       "98                                 -559.800324   \n",
       "99                                 -603.234250   \n",
       "\n",
       "    secondary_cleaner.state.floatbank5_a_air  \\\n",
       "47                                  9.981163   \n",
       "49                                 10.094584   \n",
       "53                                  9.989624   \n",
       "98                                  9.999754   \n",
       "99                                  9.974968   \n",
       "\n",
       "    secondary_cleaner.state.floatbank5_a_level  \\\n",
       "47                                 -502.869109   \n",
       "49                                 -492.041563   \n",
       "53                                 -499.606754   \n",
       "98                                 -512.673353   \n",
       "99                                 -497.092974   \n",
       "\n",
       "    secondary_cleaner.state.floatbank5_b_air  \\\n",
       "47                                  7.941184   \n",
       "49                                  8.054770   \n",
       "53                                  7.950446   \n",
       "98                                  7.946763   \n",
       "99                                  7.953962   \n",
       "\n",
       "    secondary_cleaner.state.floatbank5_b_level  \\\n",
       "47                                 -500.623610   \n",
       "49                                 -498.802262   \n",
       "53                                 -500.352648   \n",
       "98                                 -500.475471   \n",
       "99                                 -499.698442   \n",
       "\n",
       "    secondary_cleaner.state.floatbank6_a_air  \\\n",
       "47                                 12.018837   \n",
       "49                                 11.961330   \n",
       "53                                 12.011728   \n",
       "98                                 11.963962   \n",
       "99                                 11.941642   \n",
       "\n",
       "    secondary_cleaner.state.floatbank6_a_level  rougher.output.recovery  \\\n",
       "47                                 -600.916665                 0.000000   \n",
       "49                                 -597.272218                 0.000000   \n",
       "53                                 -599.043399                      NaN   \n",
       "98                                 -607.847547                26.275908   \n",
       "99                                 -598.541756                      NaN   \n",
       "\n",
       "    final.output.recovery  \n",
       "47              55.088448  \n",
       "49                    NaN  \n",
       "53              71.308281  \n",
       "98              58.017871  \n",
       "99                    NaN  \n",
       "\n",
       "[5 rows x 55 columns]"
      ]
     },
     "execution_count": 23,
     "metadata": {},
     "output_type": "execute_result"
    }
   ],
   "source": [
    "gold_train[gold_train.isna().any(axis=1)].head(5)"
   ]
  },
  {
   "cell_type": "markdown",
   "metadata": {},
   "source": [
    "Как видим, пропущенные значения могут встречаться в отдельных признаках.\n",
    "\n",
    "В обучающей выборке 16208 пропущенных значений. Их можно попытаться восстановить из полных данных. \n",
    "\n",
    "Узнаем одинаковые ли обучающая выборка и её часть в полных данных:"
   ]
  },
  {
   "cell_type": "code",
   "execution_count": 24,
   "metadata": {},
   "outputs": [
    {
     "data": {
      "text/plain": [
       "False"
      ]
     },
     "execution_count": 24,
     "metadata": {},
     "output_type": "execute_result"
    }
   ],
   "source": [
    "gold_full.loc[gold_train.index, gold_train.columns].equals(gold_train)"
   ]
  },
  {
   "cell_type": "code",
   "execution_count": 25,
   "metadata": {},
   "outputs": [
    {
     "name": "stdout",
     "output_type": "stream",
     "text": [
      "<class 'pandas.core.frame.DataFrame'>\n",
      "RangeIndex: 16860 entries, 0 to 16859\n",
      "Columns: 55 entries, date to final.output.recovery\n",
      "dtypes: datetime64[ns](1), float64(54)\n",
      "memory usage: 7.1 MB\n"
     ]
    }
   ],
   "source": [
    "gold_full.loc[gold_train.index, gold_train.columns].info(verbose=False)"
   ]
  },
  {
   "cell_type": "markdown",
   "metadata": {},
   "source": [
    "Посчитаем количество пропусков в полных данных:"
   ]
  },
  {
   "cell_type": "code",
   "execution_count": 26,
   "metadata": {},
   "outputs": [
    {
     "data": {
      "text/plain": [
       "13098"
      ]
     },
     "execution_count": 26,
     "metadata": {},
     "output_type": "execute_result"
    }
   ],
   "source": [
    "def na_counter(df):\n",
    "    return df.isna().sum().sum()\n",
    "\n",
    "na_counter(gold_full.loc[gold_train.index, gold_train.columns])"
   ]
  },
  {
   "cell_type": "markdown",
   "metadata": {},
   "source": [
    "В полных данных пропусков уже меньше. \n",
    "Возможная причина появления пропусков: датасеты формировались в разное время, в полный датасет успели занести больше данных."
   ]
  },
  {
   "cell_type": "markdown",
   "metadata": {},
   "source": [
    "Узнаем одинаковые ли записи у нас в полных данных и сформированных выборках.\n",
    "Вычтем значения одного датасета из другого и сложим остатки. Должен получиться 0, поскольку одинаковые станут нулями, а NaN-ы останутся NaN:"
   ]
  },
  {
   "cell_type": "code",
   "execution_count": 27,
   "metadata": {},
   "outputs": [
    {
     "name": "stdout",
     "output_type": "stream",
     "text": [
      "nan\n"
     ]
    }
   ],
   "source": [
    "print(np.nan - 10)"
   ]
  },
  {
   "cell_type": "code",
   "execution_count": 28,
   "metadata": {},
   "outputs": [
    {
     "data": {
      "text/plain": [
       "2992746.089773624"
      ]
     },
     "execution_count": 28,
     "metadata": {},
     "output_type": "execute_result"
    }
   ],
   "source": [
    "difference_df = gold_full.loc[gold_train.index, gold_train.columns] - gold_train\n",
    "difference_df.sum().sum()"
   ]
  },
  {
   "cell_type": "markdown",
   "metadata": {},
   "source": [
    "Таким образом мы выяснили что данные не совпадают. Значит отдельные значения из таблиц сливать вместе нельзя.\n",
    "\n",
    "Поскольку в полных данных меньше пропусков, будем брать данные для дальнейшей работы оттуда, сохранив индексы (дату наблюдения)."
   ]
  },
  {
   "cell_type": "markdown",
   "metadata": {},
   "source": [
    "#### Восстановление данных"
   ]
  },
  {
   "cell_type": "markdown",
   "metadata": {},
   "source": [
    "Создадим новые train и test из полных данных:"
   ]
  },
  {
   "cell_type": "code",
   "execution_count": 29,
   "metadata": {},
   "outputs": [
    {
     "data": {
      "text/plain": [
       "(16860, 55)"
      ]
     },
     "execution_count": 29,
     "metadata": {},
     "output_type": "execute_result"
    }
   ],
   "source": [
    "gold_train_new = gold_full.loc[gold_train.index, gold_train.columns]\n",
    "gold_test_new = gold_full.loc[gold_test.index, gold_test.columns]\n",
    "\n",
    "gold_train_new.shape"
   ]
  },
  {
   "cell_type": "code",
   "execution_count": 30,
   "metadata": {},
   "outputs": [
    {
     "data": {
      "text/plain": [
       "(5856, 55)"
      ]
     },
     "execution_count": 30,
     "metadata": {},
     "output_type": "execute_result"
    }
   ],
   "source": [
    "gold_test_new.shape"
   ]
  },
  {
   "cell_type": "code",
   "execution_count": 31,
   "metadata": {},
   "outputs": [
    {
     "name": "stdout",
     "output_type": "stream",
     "text": [
      "13098\n",
      "5547\n"
     ]
    }
   ],
   "source": [
    "print(na_counter(gold_train_new))\n",
    "print(na_counter(gold_test_new))"
   ]
  },
  {
   "cell_type": "markdown",
   "metadata": {},
   "source": [
    "Количество пропусков уменьшилось, однако у нас ещё остались пропуски в признаках. Для того, чтобы модели могли делать предсказания, нам необходимо обработать их все. \n",
    "\n",
    "Обратим внимание на то, что один замер (наша дата) это состояние всей системы:\n",
    "В одном баке у нас обрабатывается одно сырье, в другом второе, а на финальном этапе уже представлен обработанный результат, по которому может вообще нет информации или она в другом временном отрезке содержится.\n",
    "\n",
    "<ins>Пропущенные значения будут появляться</ins> на старте производства, когда сырьё поступило на обработку; в конце дня, когда сырьё уже не поступает, но некоторые из установок работают, и в схожих ситуациях.\n"
   ]
  },
  {
   "cell_type": "markdown",
   "metadata": {},
   "source": [
    "Попробуем заменить пропуски с помощью KNNImputer, который заполняет значения по n ближайшим соседям:"
   ]
  },
  {
   "cell_type": "markdown",
   "metadata": {},
   "source": [
    "Перед заполнением найдем столбец где больше всего пропущенных значений:"
   ]
  },
  {
   "cell_type": "code",
   "execution_count": 32,
   "metadata": {},
   "outputs": [
    {
     "data": {
      "text/plain": [
       "rougher.output.recovery               2015\n",
       "rougher.input.floatbank11_xanthate    1590\n",
       "final.output.recovery                 1525\n",
       "primary_cleaner.input.depressant      1101\n",
       "primary_cleaner.input.sulfate          987\n",
       "dtype: int64"
      ]
     },
     "execution_count": 32,
     "metadata": {},
     "output_type": "execute_result"
    }
   ],
   "source": [
    "gold_train_new.isna().sum().sort_values(ascending=False).head()"
   ]
  },
  {
   "cell_type": "markdown",
   "metadata": {},
   "source": [
    "Заполнение будем смотреть по `rougher.output.recovery`"
   ]
  },
  {
   "cell_type": "code",
   "execution_count": 33,
   "metadata": {},
   "outputs": [
    {
     "data": {
      "image/png": "[encoded data removed]",
      "text/plain": [
       "<Figure size 432x432 with 1 Axes>"
      ]
     },
     "metadata": {},
     "output_type": "display_data"
    }
   ],
   "source": [
    "#создадим график до замены\n",
    "ax = gold_train_new['rougher.output.recovery'].plot(kind = 'hist', bins = 100, label= 'before imputation')\n",
    "mean_before = gold_train_new['rougher.output.recovery'].mean()\n",
    "\n",
    "#проведем замену\n",
    "imputer = KNNImputer(n_neighbors=5)\n",
    "gold_train_new.loc[:, gold_train_new.columns != 'date'] = (\n",
    "    imputer.fit_transform(gold_train_new.loc[:, gold_train_new.columns != 'date'])\n",
    "    )\n",
    "\n",
    "#создадим график после замены\n",
    "gold_test_new['rougher.output.recovery'].plot(ax = ax, \n",
    "                                              kind = 'hist', \n",
    "                                              label= 'after imputation', \n",
    "                                              bins = 100,\n",
    "                                              figsize =(6, 6),\n",
    "                                              grid = True)\n",
    "plt.xlabel('Значение выбранного признака')\n",
    "plt.ylabel('Частота')\n",
    "plt.title('Распределения до и после замены')\n",
    "plt.legend(loc='upper right');"
   ]
  },
  {
   "cell_type": "code",
   "execution_count": 34,
   "metadata": {},
   "outputs": [
    {
     "data": {
      "text/plain": [
       "0"
      ]
     },
     "execution_count": 34,
     "metadata": {},
     "output_type": "execute_result"
    }
   ],
   "source": [
    "na_counter(gold_train_new)"
   ]
  },
  {
   "cell_type": "markdown",
   "metadata": {},
   "source": [
    "Все пропуски заменились, Визуально распределение немного изменилось. Посмотрим как изменилось среднее."
   ]
  },
  {
   "cell_type": "code",
   "execution_count": 35,
   "metadata": {},
   "outputs": [
    {
     "name": "stdout",
     "output_type": "stream",
     "text": [
      "81.64601112158371\n",
      "80.12418083236123\n"
     ]
    }
   ],
   "source": [
    "mean_after = gold_train_new['rougher.output.recovery'].mean()\n",
    "\n",
    "\n",
    "print(mean_before)\n",
    "print(mean_after)"
   ]
  },
  {
   "cell_type": "markdown",
   "metadata": {},
   "source": [
    "Срденее изменилось не сильно, можно сказать что замена проведена успешно. "
   ]
  },
  {
   "cell_type": "code",
   "execution_count": 36,
   "metadata": {},
   "outputs": [
    {
     "data": {
      "text/plain": [
       "(16860, 55)"
      ]
     },
     "execution_count": 36,
     "metadata": {},
     "output_type": "execute_result"
    }
   ],
   "source": [
    "gold_train_new.shape"
   ]
  },
  {
   "cell_type": "markdown",
   "metadata": {},
   "source": [
    "Хотя у нас и удалось заменить пропуски в train, в тестовой выборке мы не можем заполнять наши пропуски (в реальности мы не сможем посмотреть туда заранее). Поэтому здесь оставим удаление строк с пропущенными значениями."
   ]
  },
  {
   "cell_type": "code",
   "execution_count": 37,
   "metadata": {},
   "outputs": [
    {
     "data": {
      "text/plain": [
       "0"
      ]
     },
     "execution_count": 37,
     "metadata": {},
     "output_type": "execute_result"
    }
   ],
   "source": [
    "gold_test_new.dropna(axis=0, \n",
    "                      how='any', \n",
    "                      inplace=True)\n",
    "\n",
    "na_counter(gold_test_new)"
   ]
  },
  {
   "cell_type": "code",
   "execution_count": 38,
   "metadata": {},
   "outputs": [
    {
     "data": {
      "text/plain": [
       "(4773, 55)"
      ]
     },
     "execution_count": 38,
     "metadata": {},
     "output_type": "execute_result"
    }
   ],
   "source": [
    "gold_test_new.shape"
   ]
  },
  {
   "cell_type": "markdown",
   "metadata": {},
   "source": [
    "#### Проверка дубликатов:"
   ]
  },
  {
   "cell_type": "code",
   "execution_count": 39,
   "metadata": {},
   "outputs": [
    {
     "data": {
      "text/plain": [
       "0"
      ]
     },
     "execution_count": 39,
     "metadata": {},
     "output_type": "execute_result"
    }
   ],
   "source": [
    "gold_full.duplicated().sum()"
   ]
  },
  {
   "cell_type": "markdown",
   "metadata": {},
   "source": [
    "Полных дубликатов нет."
   ]
  },
  {
   "cell_type": "markdown",
   "metadata": {},
   "source": [
    "### Вывод"
   ]
  },
  {
   "cell_type": "markdown",
   "metadata": {},
   "source": [
    "На данном этапе мы подготовили данные к дальнейшему анализу.\n",
    "\n",
    "1.1. Загрузили файлы и получили информацию о них. В тестовой выборке было 53 признака, в обучающей и общей 87.\n",
    "\n",
    "1.2. Далее на обучающей выборке проверили, что эффективность обогащения рассчитана правильно. MAE между расчётами и значением признака составляло 1.09e-14, таким образом расчеты проведены верно, хотя и не совпали полностью.\n",
    "\n",
    "1.3. Провели анализ признаков, недоступных в тестовой выборке.\n",
    "Во-первых, в тестовой выборке отсутствовали значения целевых признаков. Эти значения были восстановлены.\n",
    "\n",
    "Во вторых, в тестовой выборке отсутствовали промежуточные замеры состава сырья при обработке. Их решено не восстанавливать, поскольку мы будем обучать модель на основе только таких данных, которые будут поступать в реальности.\n",
    "\n",
    "1.4. Проведена предобработка данных  \n",
    "1.4.1  Сформированы обучающая и тестовая выборки.\n",
    "\n",
    "1.4.2  Обработаны пропуски  \n",
    "В обучающей выборке было найдено 16208 пропущенных значений. \n",
    "В полных данных было обнаружено уже меньше пропусков (13098). При этом датасеты отличались друг от друга.\n",
    "Возможная причина различия: датасеты формировались в разное время, в полный датасет успели занести больше данных.\n",
    "\n",
    "Поскольку в полных данных меньше пропусков, было решено брать данные для дальнейшей работы оттуда, сохранив те же индексы (дату наблюдения).\n",
    "\n",
    "1.4.3  Восстановление данных  \n",
    "Были восстановлены новые `train` и `test` из полных данных.\n",
    "\n",
    "Возможная причина появления пропусков: \n",
    "Поскольку один замер (наша дата) это состояние всей очистительной системы, пропущенные значения могут появляться на старте производства, когда сырьё поступило на обработку; в конце дня, когда сырьё уже не поступает, но некоторые из установок работают, и в схожих ситуациях.\n",
    "\n",
    "Оставшиеся пропуски мы заменили с помощью KNNImputer, который заполняет значения по n ближайшим соседям.\n",
    "\n",
    "1.4.4  Проверка дубликатов показала что полных дубликатов нет."
   ]
  },
  {
   "cell_type": "markdown",
   "metadata": {},
   "source": [
    "## Исследовательский анализ данных"
   ]
  },
  {
   "cell_type": "markdown",
   "metadata": {},
   "source": [
    "### 2.1. Оценка изменения концентрации металлов (Au, Ag, Pb) на различных этапах очистки.  "
   ]
  },
  {
   "cell_type": "markdown",
   "metadata": {},
   "source": [
    "Согласно описанию технологического процесса, у нас есть 3 основных состояния:\n",
    "1. Первичное состояние руды (Rougher feed) `rougher.input.feed_au`\n",
    "(Флотация)\n",
    "2. Состояние после флотации `rougher.output.concentrate_au`\n",
    "(Очистка)\n",
    "3. Финальный концентрат `final.output.concentrate_au`"
   ]
  },
  {
   "cell_type": "markdown",
   "metadata": {},
   "source": [
    "#### `Au` Злато"
   ]
  },
  {
   "cell_type": "code",
   "execution_count": 40,
   "metadata": {},
   "outputs": [
    {
     "data": {
      "image/png": "[encoded data removed]",
      "text/plain": [
       "<Figure size 1076.33x432 with 1 Axes>"
      ]
     },
     "metadata": {},
     "output_type": "display_data"
    }
   ],
   "source": [
    "g = sns.displot(data= gold_full[['rougher.input.feed_au', 'rougher.output.concentrate_au', 'final.output.concentrate_au']], \n",
    "                kind='hist',\n",
    "                element=\"step\",\n",
    "                height= 6,          \n",
    "                aspect= 2,\n",
    "                legend= True\n",
    "                )\n",
    "\n",
    "g.set_axis_labels('Концентрация вещества', 'Частота')\n",
    "plt.title('Концентрация Au на этапах очистки');"
   ]
  },
  {
   "cell_type": "markdown",
   "metadata": {},
   "source": [
    "Судя по графикам, концентрация золота в сырье увеличивается с каждой очисткой.\n",
    "При этом наблюдаются пики возле 0, причем довольно большое количество – порядка 2000 наблюдений нулевые. \n",
    "Можно выдвинуть предположение о том, что для обработки иногда поступает сырье без золота, или не поступает самого сырья, и это регистрируется как 0."
   ]
  },
  {
   "cell_type": "code",
   "execution_count": 41,
   "metadata": {},
   "outputs": [
    {
     "data": {
      "text/plain": [
       "99     0.0\n",
       "100    0.0\n",
       "101    0.0\n",
       "102    0.0\n",
       "103    0.0\n",
       "Name: rougher.input.feed_au, dtype: float64"
      ]
     },
     "execution_count": 41,
     "metadata": {},
     "output_type": "execute_result"
    }
   ],
   "source": [
    "gold_full[gold_full['rougher.input.feed_au'] == 0]['rougher.input.feed_au'].head()"
   ]
  },
  {
   "cell_type": "markdown",
   "metadata": {},
   "source": [
    "#### `Ag` Серебро"
   ]
  },
  {
   "cell_type": "code",
   "execution_count": 42,
   "metadata": {},
   "outputs": [
    {
     "data": {
      "image/png": "[encoded data removed]",
      "text/plain": [
       "<Figure size 1076.46x432 with 1 Axes>"
      ]
     },
     "metadata": {},
     "output_type": "display_data"
    }
   ],
   "source": [
    "g = sns.displot(data= gold_full[['rougher.input.feed_ag', 'rougher.output.concentrate_ag', 'final.output.concentrate_ag']], \n",
    "                kind='hist',\n",
    "                element=\"step\",\n",
    "                height= 6,          \n",
    "                aspect= 2\n",
    "                )\n",
    "\n",
    "g.set_axis_labels('Концентрация вещества', 'Частота')\n",
    "plt.title('Концентрация Ag на этапах очистки');"
   ]
  },
  {
   "cell_type": "markdown",
   "metadata": {},
   "source": [
    "Серебро начинает вести себя совсем по-другому: после флотации (первой очистки) его концентрация повышается, но после 2 этапа очистки она падает ниже начального уровня. Что, конечно ожидаемо – целью всего процесса является получение концентрата золота.\n",
    "Также можем наблюдать большое количество нулевых значений для всех трех этапов, причем оно опять находится возле 2000."
   ]
  },
  {
   "cell_type": "markdown",
   "metadata": {},
   "source": [
    "#### `Pb` Свинец"
   ]
  },
  {
   "cell_type": "code",
   "execution_count": 43,
   "metadata": {},
   "outputs": [
    {
     "data": {
      "image/png": "[encoded data removed]",
      "text/plain": [
       "<Figure size 1076.71x432 with 1 Axes>"
      ]
     },
     "metadata": {},
     "output_type": "display_data"
    }
   ],
   "source": [
    "g = sns.displot(data= gold_full[['rougher.input.feed_pb', 'rougher.output.concentrate_pb', 'final.output.concentrate_pb']], \n",
    "                kind='hist',\n",
    "                element=\"step\",\n",
    "                height= 6,          \n",
    "                aspect= 2\n",
    "                )\n",
    "g.set_axis_labels('Концентрация вещества', 'Частота')\n",
    "plt.title('Концентрация Pb на этапах очистки');"
   ]
  },
  {
   "cell_type": "markdown",
   "metadata": {},
   "source": [
    "Концентрация свинца последовательно уменьшается на всех этапах обработки. Опять наблюдаем нулевые значения."
   ]
  },
  {
   "cell_type": "markdown",
   "metadata": {},
   "source": [
    "### 2.2. Сравнение распределения размеров гранул сырья на обучающей и тестовой выборках.  "
   ]
  },
  {
   "cell_type": "markdown",
   "metadata": {},
   "source": [
    "Если распределения сильно отличаются друг от друга, оценка модели будет неправильной.\n",
    "Информация о размерах гранул содержится в столбцах типа `этап.тип_параметра.feed_size`."
   ]
  },
  {
   "cell_type": "code",
   "execution_count": 44,
   "metadata": {},
   "outputs": [],
   "source": [
    "feed_size_features_list = ['primary_cleaner.input.feed_size', 'rougher.input.feed_size']"
   ]
  },
  {
   "cell_type": "code",
   "execution_count": 45,
   "metadata": {},
   "outputs": [
    {
     "data": {
      "text/html": [
       "<div>\n",
       "<style scoped>\n",
       "    .dataframe tbody tr th:only-of-type {\n",
       "        vertical-align: middle;\n",
       "    }\n",
       "\n",
       "    .dataframe tbody tr th {\n",
       "        vertical-align: top;\n",
       "    }\n",
       "\n",
       "    .dataframe thead th {\n",
       "        text-align: right;\n",
       "    }\n",
       "</style>\n",
       "<table border=\"1\" class=\"dataframe\">\n",
       "  <thead>\n",
       "    <tr style=\"text-align: right;\">\n",
       "      <th></th>\n",
       "      <th>primary_cleaner.input.feed_size</th>\n",
       "      <th>rougher.input.feed_size</th>\n",
       "    </tr>\n",
       "  </thead>\n",
       "  <tbody>\n",
       "    <tr>\n",
       "      <td>0</td>\n",
       "      <td>7.25</td>\n",
       "      <td>55.486599</td>\n",
       "    </tr>\n",
       "    <tr>\n",
       "      <td>1</td>\n",
       "      <td>7.25</td>\n",
       "      <td>57.278666</td>\n",
       "    </tr>\n",
       "    <tr>\n",
       "      <td>2</td>\n",
       "      <td>7.25</td>\n",
       "      <td>57.510649</td>\n",
       "    </tr>\n",
       "    <tr>\n",
       "      <td>3</td>\n",
       "      <td>7.25</td>\n",
       "      <td>57.792734</td>\n",
       "    </tr>\n",
       "    <tr>\n",
       "      <td>4</td>\n",
       "      <td>7.25</td>\n",
       "      <td>56.047189</td>\n",
       "    </tr>\n",
       "  </tbody>\n",
       "</table>\n",
       "</div>"
      ],
      "text/plain": [
       "   primary_cleaner.input.feed_size  rougher.input.feed_size\n",
       "0                             7.25                55.486599\n",
       "1                             7.25                57.278666\n",
       "2                             7.25                57.510649\n",
       "3                             7.25                57.792734\n",
       "4                             7.25                56.047189"
      ]
     },
     "execution_count": 45,
     "metadata": {},
     "output_type": "execute_result"
    }
   ],
   "source": [
    "gold_train_new[feed_size_features_list].head()"
   ]
  },
  {
   "cell_type": "code",
   "execution_count": 46,
   "metadata": {},
   "outputs": [
    {
     "data": {
      "image/png": "[encoded data removed]",
      "text/plain": [
       "<Figure size 432x432 with 1 Axes>"
      ]
     },
     "metadata": {},
     "output_type": "display_data"
    }
   ],
   "source": [
    "ax = gold_train_new['rougher.input.feed_size'].plot(kind = 'hist', bins = 100, label= 'train')\n",
    "\n",
    "\n",
    "\n",
    "\n",
    "gold_test_new['rougher.input.feed_size'].plot(ax = ax, \n",
    "                                              kind = 'hist', \n",
    "                                              label= 'test', \n",
    "                                              xlim = (0, 150),\n",
    "                                              bins = 100,\n",
    "                                              figsize =(6, 6),\n",
    "                                              grid = True)\n",
    "plt.xlabel('Размер гранул')\n",
    "plt.ylabel('Частота')\n",
    "plt.title('Распределение размеров гранул сырья в выборках')\n",
    "plt.legend(loc='upper right');"
   ]
  },
  {
   "cell_type": "markdown",
   "metadata": {},
   "source": [
    "На графике становится видно, что распределение размеров гранул в выборках примерно одинаково. Поскольку наблюдений в обучающей (train) больше, её график более высокий."
   ]
  },
  {
   "cell_type": "code",
   "execution_count": 47,
   "metadata": {},
   "outputs": [
    {
     "name": "stdout",
     "output_type": "stream",
     "text": [
      "Среднее для обучающей выборки: 55.3618\n",
      "Ст. отклонение обучающей выборки: 25.0463\n",
      "\n",
      "Среднее для тестовой выборки: 54.6182\n",
      "Ст. отклонение тестовой выборки: 11.4758\n"
     ]
    }
   ],
   "source": [
    "print('Среднее для обучающей выборки: {:.4f}'.format(gold_train_new['rougher.input.feed_size'].mean()))\n",
    "print('Ст. отклонение обучающей выборки: {:.4f}'.format(gold_train_new['rougher.input.feed_size'].std()))\n",
    "print()\n",
    "\n",
    "print('Среднее для тестовой выборки: {:.4f}'.format(gold_test_new['rougher.input.feed_size'].mean()))\n",
    "print('Ст. отклонение тестовой выборки: {:.4f}'.format(gold_test_new['rougher.input.feed_size'].std()))"
   ]
  },
  {
   "cell_type": "markdown",
   "metadata": {},
   "source": [
    "Как видим, средние выборок практически равны, стандартное отклонение у тестовой выборки чуть меньше чем у обучающей. "
   ]
  },
  {
   "cell_type": "code",
   "execution_count": 48,
   "metadata": {},
   "outputs": [
    {
     "data": {
      "image/png": "[encoded data removed]",
      "text/plain": [
       "<Figure size 432x432 with 1 Axes>"
      ]
     },
     "metadata": {},
     "output_type": "display_data"
    }
   ],
   "source": [
    "ax = gold_train_new['primary_cleaner.input.feed_size'].plot(kind = 'hist', bins = 100, label= 'train')\n",
    "\n",
    "gold_test_new['primary_cleaner.input.feed_size'].plot(ax = ax, \n",
    "                                              kind = 'hist', \n",
    "                                              label= 'test', \n",
    "                                              bins = 100,\n",
    "                                              figsize =(6, 6),\n",
    "                                              grid = True)\n",
    "plt.xlabel('Размер гранул')\n",
    "plt.ylabel('Частота')\n",
    "plt.title('Распределение размеров гранул чернового концентрата в выборках')\n",
    "plt.legend(loc='upper right');"
   ]
  },
  {
   "cell_type": "markdown",
   "metadata": {},
   "source": [
    "Для чернового концентрата у тестовой выборки видим небольшое смещение вправо, однако распределения все-таки сильно не отличаются. Можно переходить к дальнейшему анализу."
   ]
  },
  {
   "cell_type": "code",
   "execution_count": 49,
   "metadata": {},
   "outputs": [
    {
     "name": "stdout",
     "output_type": "stream",
     "text": [
      "Среднее для обучающей выборки: 7.3449\n",
      "Ст. отклонение обучающей выборки: 0.6095\n",
      "\n",
      "Среднее для тестовой выборки: 7.6430\n",
      "Ст. отклонение тестовой выборки: 0.5689\n"
     ]
    }
   ],
   "source": [
    "print('Среднее для обучающей выборки: {:.4f}'.format(gold_train_new['primary_cleaner.input.feed_size'].mean()))\n",
    "print('Ст. отклонение обучающей выборки: {:.4f}'.format(gold_train_new['primary_cleaner.input.feed_size'].std()))\n",
    "print()\n",
    "\n",
    "print('Среднее для тестовой выборки: {:.4f}'.format(gold_test_new['primary_cleaner.input.feed_size'].mean()))\n",
    "print('Ст. отклонение тестовой выборки: {:.4f}'.format(gold_test_new['primary_cleaner.input.feed_size'].std()))"
   ]
  },
  {
   "cell_type": "markdown",
   "metadata": {},
   "source": [
    "Как видим, и средние и стандартное отклонение выборок практически равны. "
   ]
  },
  {
   "cell_type": "markdown",
   "metadata": {},
   "source": [
    "### 2.3. Исследование суммарной концентрации всех веществ на разных стадиях: в сырье, в черновом и финальном концентратах. Оценка аномальных значений."
   ]
  },
  {
   "cell_type": "markdown",
   "metadata": {},
   "source": [
    "Логично предположить, что в очистительную установку можно поместить только определенное количество сырья. Посчитаем суммарную концентрацию веществ и посмотрим на распределения:"
   ]
  },
  {
   "cell_type": "markdown",
   "metadata": {},
   "source": [
    "##### Сырьё"
   ]
  },
  {
   "cell_type": "code",
   "execution_count": 50,
   "metadata": {},
   "outputs": [],
   "source": [
    "gold_train_new['summ_concentrate_rougher'] = (gold_train_new['rougher.input.feed_au'] + \n",
    "                                              gold_train_new['rougher.input.feed_ag'] +\n",
    "                                              gold_train_new['rougher.input.feed_pb'] +\n",
    "                                              gold_train_new['rougher.input.feed_sol'])"
   ]
  },
  {
   "cell_type": "code",
   "execution_count": 51,
   "metadata": {},
   "outputs": [
    {
     "data": {
      "image/png": "[encoded data removed]",
      "text/plain": [
       "<Figure size 648x432 with 1 Axes>"
      ]
     },
     "metadata": {},
     "output_type": "display_data"
    }
   ],
   "source": [
    "sns.set_theme(style=\"darkgrid\")\n",
    "\n",
    "g = sns.displot(data = gold_train_new, x = 'summ_concentrate_rougher', \n",
    "                kind = 'hist', bins=200, \n",
    "                height=6, aspect=1.5)\n",
    "\n",
    "plt.title('Концентрация веществ в сырье');"
   ]
  },
  {
   "cell_type": "markdown",
   "metadata": {},
   "source": [
    "Распределение близко к нормальному, со смещением вправо. Пик значений около 57. \n",
    "\n",
    "Для того, чтобы понять что перед нами представлено, разберем понятие концентрации, а также разберемся с тем, что такое `rougher.input.feed_sol`.\n",
    "\n",
    "Золь (также лиозоль, коллоидный раствор, англ. sol от лат. solutio — раствор) — высокодисперсная коллоидная система, используемая как воспомогательный раствор.\n",
    "\n",
    "К сожалению мы не имеем доступа к точному определению концентрации в этом проекте, поэтому до конца понять что представлено на графике нельзя (если бы это были доли, то в сумме мы бы имели 1, а если проценты - 100%).\n",
    "\n",
    "Таким образом мы можем судить только о относительных значениях. Непосредественно на графике аномально больших значений нет, однако слева у графика длинный хвост до значения 5. Что это означает? Возможно, в установку иногда загружаются остатки партий сырья, или же фиксируются значения под конец работы установки."
   ]
  },
  {
   "cell_type": "markdown",
   "metadata": {},
   "source": [
    "Поскольку мы заполняли пропуски с помощью KKNImputer, а не просто их удаляли, наблюдаем большое количество нулевых значений. Для корректного предсказания необходимо их удалить."
   ]
  },
  {
   "cell_type": "code",
   "execution_count": 52,
   "metadata": {},
   "outputs": [],
   "source": [
    "gold_train_new.drop(gold_train_new[gold_train_new['summ_concentrate_rougher'] == 0].index, inplace = True) "
   ]
  },
  {
   "cell_type": "code",
   "execution_count": 53,
   "metadata": {},
   "outputs": [
    {
     "data": {
      "text/plain": [
       "(15585, 55)"
      ]
     },
     "execution_count": 53,
     "metadata": {},
     "output_type": "execute_result"
    }
   ],
   "source": [
    "gold_train_new.drop('summ_concentrate_rougher', axis = 1, inplace = True) \n",
    "gold_train_new.shape"
   ]
  },
  {
   "cell_type": "markdown",
   "metadata": {},
   "source": [
    "##### Черновой концентрат"
   ]
  },
  {
   "cell_type": "markdown",
   "metadata": {},
   "source": [
    "На данном этапе мы сталкиваемся со следующей проблемой:  \n",
    "    Во время работы нашей модели в реальных условиях мы не будем иметь доступа к промежуточным данным о состоянии чернового и финального концентрата. Это значит то, что мы можем сейчас посмотреть существующие распределения, но обработать их мы не можем.\n",
    "За этими данными обратимся к полному датасету `gold_full`: "
   ]
  },
  {
   "cell_type": "code",
   "execution_count": 54,
   "metadata": {},
   "outputs": [
    {
     "data": {
      "image/png": "[encoded data removed]",
      "text/plain": [
       "<Figure size 540x360 with 1 Axes>"
      ]
     },
     "metadata": {},
     "output_type": "display_data"
    }
   ],
   "source": [
    "gold_full['summ_concentrate_primary_input'] = (gold_full['rougher.output.concentrate_au'] +\n",
    "                                           gold_full['rougher.output.concentrate_ag'] +\n",
    "                                           gold_full['rougher.output.concentrate_pb'] +\n",
    "                                           gold_full['rougher.output.concentrate_sol'])\n",
    "\n",
    "g = sns.displot(data = gold_full, x = 'summ_concentrate_primary_input', \n",
    "                kind = 'hist', bins=100, \n",
    "                height=5, aspect=1.5)\n",
    "\n",
    "plt.title('Концентрация веществ в черновом концентрате');                           "
   ]
  },
  {
   "cell_type": "markdown",
   "metadata": {},
   "source": [
    "Наблюдаем большое количество нулевых значений, остальное распределение близко к нормальному, со смещением вправо и длинным хвостом слева."
   ]
  },
  {
   "cell_type": "markdown",
   "metadata": {},
   "source": [
    "##### Финальный концентрат"
   ]
  },
  {
   "cell_type": "code",
   "execution_count": 55,
   "metadata": {},
   "outputs": [
    {
     "data": {
      "image/png": "[encoded data removed]",
      "text/plain": [
       "<Figure size 540x360 with 1 Axes>"
      ]
     },
     "metadata": {},
     "output_type": "display_data"
    }
   ],
   "source": [
    "gold_full['summ_concentrate_final'] = (gold_full['final.output.concentrate_au'] +\n",
    "                                       gold_full['final.output.concentrate_ag'] +\n",
    "                                       gold_full['final.output.concentrate_pb'] +\n",
    "                                       gold_full['final.output.concentrate_sol'])\n",
    "\n",
    "g = sns.displot(data = gold_full, x = 'summ_concentrate_final', \n",
    "                kind = 'hist', bins=100, \n",
    "                height=5, aspect=1.5)\n",
    "\n",
    "plt.title('Концентрация веществ на финальном этапе');"
   ]
  },
  {
   "cell_type": "markdown",
   "metadata": {},
   "source": [
    "Ситуация повторяется: можем видеть большое количество нулевых значений, остальное распределение близко к нормальному, со смещением вправо и длинным хвостом слева. При этом разброс значений сильно уменьшается и группируется около среднего значения в 69."
   ]
  },
  {
   "cell_type": "markdown",
   "metadata": {},
   "source": [
    "### Корреляция признаков"
   ]
  },
  {
   "cell_type": "code",
   "execution_count": 56,
   "metadata": {},
   "outputs": [],
   "source": [
    "corr_matrix = gold_train_new.corr()"
   ]
  },
  {
   "cell_type": "code",
   "execution_count": 57,
   "metadata": {},
   "outputs": [
    {
     "data": {
      "text/plain": [
       "Text(0.5, 1, 'Корреляция признаков в train')"
      ]
     },
     "execution_count": 57,
     "metadata": {},
     "output_type": "execute_result"
    },
    {
     "data": {
      "image/png": "[encoded data removed]",
      "text/plain": [
       "<Figure size 864x864 with 2 Axes>"
      ]
     },
     "metadata": {},
     "output_type": "display_data"
    }
   ],
   "source": [
    "sns.set_theme(style=\"white\")\n",
    "\n",
    "# Compute the correlation matrix\n",
    "corr = gold_train_new.corr()\n",
    "\n",
    "# Generate a mask for the upper triangle\n",
    "mask = np.triu(np.ones_like(corr, dtype=bool))\n",
    "\n",
    "# Set up the matplotlib figure\n",
    "f, ax = plt.subplots(figsize=(12, 12))\n",
    "\n",
    "# Generate a custom diverging colormap\n",
    "cmap = sns.diverging_palette(230, 20, as_cmap=True)\n",
    "\n",
    "# Draw the heatmap with the mask and correct aspect ratio\n",
    "sns.heatmap(corr, mask=mask, cmap=cmap, center=0,\n",
    "                square=True, linewidths=.5, cbar_kws={\"shrink\": .5})\n",
    "\n",
    "plt.title(f'Корреляция признаков в train')\n"
   ]
  },
  {
   "cell_type": "markdown",
   "metadata": {},
   "source": [
    "На карте становится видно, что между некоторыми признками есть сильная корреляция (больше 0.8). Для воспроизводимости результатов будем убирать коллинеарные признаки. \n",
    "\n",
    "Получим список коррелирующих признаков:"
   ]
  },
  {
   "cell_type": "code",
   "execution_count": 58,
   "metadata": {},
   "outputs": [
    {
     "data": {
      "text/html": [
       "<div>\n",
       "<style scoped>\n",
       "    .dataframe tbody tr th:only-of-type {\n",
       "        vertical-align: middle;\n",
       "    }\n",
       "\n",
       "    .dataframe tbody tr th {\n",
       "        vertical-align: top;\n",
       "    }\n",
       "\n",
       "    .dataframe thead th {\n",
       "        text-align: right;\n",
       "    }\n",
       "</style>\n",
       "<table border=\"1\" class=\"dataframe\">\n",
       "  <thead>\n",
       "    <tr style=\"text-align: right;\">\n",
       "      <th></th>\n",
       "      <th>feature_1</th>\n",
       "      <th>feature_2</th>\n",
       "      <th>correlation</th>\n",
       "    </tr>\n",
       "  </thead>\n",
       "  <tbody>\n",
       "    <tr>\n",
       "      <td>1</td>\n",
       "      <td>rougher.state.floatbank10_e_level</td>\n",
       "      <td>rougher.state.floatbank10_f_level</td>\n",
       "      <td>0.971302</td>\n",
       "    </tr>\n",
       "    <tr>\n",
       "      <td>2</td>\n",
       "      <td>primary_cleaner.state.floatbank8_b_air</td>\n",
       "      <td>primary_cleaner.state.floatbank8_a_air</td>\n",
       "      <td>0.970378</td>\n",
       "    </tr>\n",
       "    <tr>\n",
       "      <td>3</td>\n",
       "      <td>rougher.state.floatbank10_d_level</td>\n",
       "      <td>rougher.state.floatbank10_b_level</td>\n",
       "      <td>0.964893</td>\n",
       "    </tr>\n",
       "    <tr>\n",
       "      <td>4</td>\n",
       "      <td>rougher.state.floatbank10_c_level</td>\n",
       "      <td>rougher.state.floatbank10_b_level</td>\n",
       "      <td>0.963379</td>\n",
       "    </tr>\n",
       "    <tr>\n",
       "      <td>5</td>\n",
       "      <td>rougher.state.floatbank10_d_level</td>\n",
       "      <td>rougher.state.floatbank10_c_level</td>\n",
       "      <td>0.958448</td>\n",
       "    </tr>\n",
       "    <tr>\n",
       "      <td>...</td>\n",
       "      <td>...</td>\n",
       "      <td>...</td>\n",
       "      <td>...</td>\n",
       "    </tr>\n",
       "    <tr>\n",
       "      <td>1427</td>\n",
       "      <td>primary_cleaner.state.floatbank8_d_air</td>\n",
       "      <td>primary_cleaner.state.floatbank8_d_level</td>\n",
       "      <td>-0.390315</td>\n",
       "    </tr>\n",
       "    <tr>\n",
       "      <td>1428</td>\n",
       "      <td>primary_cleaner.state.floatbank8_b_level</td>\n",
       "      <td>primary_cleaner.state.floatbank8_d_air</td>\n",
       "      <td>-0.424007</td>\n",
       "    </tr>\n",
       "    <tr>\n",
       "      <td>1429</td>\n",
       "      <td>rougher.state.floatbank10_d_air</td>\n",
       "      <td>rougher.input.floatbank11_sulfate</td>\n",
       "      <td>-0.427421</td>\n",
       "    </tr>\n",
       "    <tr>\n",
       "      <td>1430</td>\n",
       "      <td>primary_cleaner.state.floatbank8_c_level</td>\n",
       "      <td>primary_cleaner.state.floatbank8_d_air</td>\n",
       "      <td>-0.430528</td>\n",
       "    </tr>\n",
       "    <tr>\n",
       "      <td>1431</td>\n",
       "      <td>primary_cleaner.state.floatbank8_d_air</td>\n",
       "      <td>primary_cleaner.state.floatbank8_a_level</td>\n",
       "      <td>-0.463439</td>\n",
       "    </tr>\n",
       "  </tbody>\n",
       "</table>\n",
       "<p>1431 rows × 3 columns</p>\n",
       "</div>"
      ],
      "text/plain": [
       "                                     feature_1  \\\n",
       "1            rougher.state.floatbank10_e_level   \n",
       "2       primary_cleaner.state.floatbank8_b_air   \n",
       "3            rougher.state.floatbank10_d_level   \n",
       "4            rougher.state.floatbank10_c_level   \n",
       "5            rougher.state.floatbank10_d_level   \n",
       "...                                        ...   \n",
       "1427    primary_cleaner.state.floatbank8_d_air   \n",
       "1428  primary_cleaner.state.floatbank8_b_level   \n",
       "1429           rougher.state.floatbank10_d_air   \n",
       "1430  primary_cleaner.state.floatbank8_c_level   \n",
       "1431    primary_cleaner.state.floatbank8_d_air   \n",
       "\n",
       "                                     feature_2  correlation  \n",
       "1            rougher.state.floatbank10_f_level     0.971302  \n",
       "2       primary_cleaner.state.floatbank8_a_air     0.970378  \n",
       "3            rougher.state.floatbank10_b_level     0.964893  \n",
       "4            rougher.state.floatbank10_b_level     0.963379  \n",
       "5            rougher.state.floatbank10_c_level     0.958448  \n",
       "...                                        ...          ...  \n",
       "1427  primary_cleaner.state.floatbank8_d_level    -0.390315  \n",
       "1428    primary_cleaner.state.floatbank8_d_air    -0.424007  \n",
       "1429         rougher.input.floatbank11_sulfate    -0.427421  \n",
       "1430    primary_cleaner.state.floatbank8_d_air    -0.430528  \n",
       "1431  primary_cleaner.state.floatbank8_a_level    -0.463439  \n",
       "\n",
       "[1431 rows x 3 columns]"
      ]
     },
     "execution_count": 58,
     "metadata": {},
     "output_type": "execute_result"
    }
   ],
   "source": [
    "corr_matrix_stacked = corr_matrix.stack().sort_values(ascending=False).drop_duplicates().reset_index()\n",
    "corr_matrix_stacked.columns = ['feature_1', 'feature_2', 'correlation']\n",
    "\n",
    "collinear_features = corr_matrix_stacked.query('correlation != 1')\n",
    "\n",
    "collinear_features"
   ]
  },
  {
   "cell_type": "markdown",
   "metadata": {},
   "source": [
    "Интересно что наибольшая корреляция наблюдается между различными `state.floatbank`. Из документации можно узнать что state — параметры, характеризующие текущее состояние этапа, а float bank — флотационная установка. \n",
    "\n",
    "Наибольшая положительная корреляция 0.9713\n",
    "Наибольшая отрицательная корреляция -0.4634\n",
    "\n",
    "Трешхолд при котором будем убирать один из признаков можно считать одним из наших гиперпараметров модели.\n",
    "Сделаем возможность его задать и получить список из коррелирующих признаков для удаления:"
   ]
  },
  {
   "cell_type": "code",
   "execution_count": 59,
   "metadata": {},
   "outputs": [],
   "source": [
    "def get_collinear(collinear_features, treshold):\n",
    "    one_collinear_feature = (\n",
    "        collinear_features.query(f'(correlation > {corr_treshold}) | (correlation < {-1 * corr_treshold})')['feature_2'])\n",
    "    return one_collinear_feature.drop_duplicates().reset_index(drop = True)"
   ]
  },
  {
   "cell_type": "code",
   "execution_count": 60,
   "metadata": {},
   "outputs": [
    {
     "data": {
      "text/plain": [
       "(43,)"
      ]
     },
     "execution_count": 60,
     "metadata": {},
     "output_type": "execute_result"
    }
   ],
   "source": [
    "corr_treshold = 0.5\n",
    "\n",
    "collinear_series = get_collinear(collinear_features, corr_treshold)\n",
    "collinear_series.shape"
   ]
  },
  {
   "cell_type": "markdown",
   "metadata": {},
   "source": [
    "### Выводы"
   ]
  },
  {
   "cell_type": "markdown",
   "metadata": {},
   "source": [
    "На данном этапе мы проводили исследовательский анализ данных.  \n",
    "\n",
    "2.1. В начале были рассмотрены процессы изменения концентрации металлов (Au, Ag, Pb) на различных этапах очистки.\n",
    "\n",
    "`Au Золото`\n",
    "Судя по графикам, концентрация золота в сырье увеличивается с каждой очисткой. При этом наблюдаются пики возле 0, причем довольно большое количество – порядка 2000 наблюдений нулевые. Было сделано предположение о том, что для обработки иногда поступает сырье без золота, или же не поступает самого сырья, и это регистрируется как 0.\n",
    "\n",
    "`Ag Серебро`\n",
    "Серебро начинает вести себя совсем по-другому: после флотации (первой очистки) его концентрация повышается, но после 2 этапа очистки она падает ниже начального уровня. Что, конечно ожидаемо – целью всего процесса является получение концентрата золота. Также можем наблюдать большое количество нулевых значений для всех трех этапов, причем оно опять находится возле 2000.\n",
    "\n",
    "`Pb Свинец`\n",
    "Концентрация свинца последовательно уменьшается на всех этапах обработки. Опять наблюдаем нулевые значения.\n",
    "\n",
    "2.2. Далее было проведено сравнение распределения размеров гранул сырья на обучающей и тестовой выборках.  \n",
    "После анализа графиков мы выявили что распределение размеров гранул в выборках примерно одинаково. Для чернового концентрата у тестовой выборки наблюдалось небольшое смещение вправо. \n",
    "\n",
    "2.3. В конце мы исследовали суммарную концентрацию всех веществ на разных стадиях. \n",
    "\n",
    "1) Сырьё.  \n",
    "Распределение близко к нормальному, со смещением вправо. Пик значений около 57. Было обнаружено что на графике аномально больших значений нет, однако слева у графика длинный хвост до значения 5. Что это означает? Возможно в установку иногда загружаются остатки партий сырья, или же иногда фиксируются значения под конец работы установки.\n",
    "\n",
    "2) Черновой концентрат  \n",
    "На данном этапе обработки мы наблюдали большое количество нулевых значений, остальное распределение близко к нормальному, со смещением вправо и длинным хвостом слева.\n",
    "\n",
    "3) Финальный концентрат  \n",
    "Для финального концентрата ситуация повторилась: большое количество нулевых значений, остальное распределение близко к нормальному, со смещением вправо и длинным хвостом слева. При этом разброс значений сильно уменьшается и группируется около среднего значения в 69.\n",
    "\n",
    "2.4. В конце была оценена корреляция признаков.\n",
    "\n",
    "После построения матрицы корреляции мы нашли что между некоторыми признками есть сильная корреляция (больше 0.8). \n",
    "Наибольшая положительная корреляция 0.9713, наибольшая отрицательная -0.4634.\n",
    "\n",
    "Была создана функция, позволяющая задать трешхолд и получить список из коррелирующих признаков для удаления."
   ]
  },
  {
   "cell_type": "markdown",
   "metadata": {},
   "source": [
    "## Построение модели"
   ]
  },
  {
   "cell_type": "markdown",
   "metadata": {},
   "source": [
    "### 3.1. Функция для вычисления итоговой метрики sMAPE."
   ]
  },
  {
   "cell_type": "code",
   "execution_count": 61,
   "metadata": {},
   "outputs": [],
   "source": [
    "def smape(validation, predictions):\n",
    "    return 100/len(validation) * np.sum(2 * np.abs(predictions - validation) /\n",
    "                                        (np.abs(validation) + np.abs(predictions)))"
   ]
  },
  {
   "cell_type": "markdown",
   "metadata": {},
   "source": [
    "### 3.2. Обучение моделей и оценка их качества кросс-валидацией."
   ]
  },
  {
   "cell_type": "markdown",
   "metadata": {},
   "source": [
    "Отделим признаки `features` и целевой признак `target`:"
   ]
  },
  {
   "cell_type": "code",
   "execution_count": 62,
   "metadata": {},
   "outputs": [
    {
     "data": {
      "text/plain": [
       "(15585, 52)"
      ]
     },
     "execution_count": 62,
     "metadata": {},
     "output_type": "execute_result"
    }
   ],
   "source": [
    "full_features_train = gold_train_new.drop(['date', 'rougher.output.recovery', 'final.output.recovery'], axis = 1)\n",
    "target_rougher_train = gold_train_new['rougher.output.recovery']\n",
    "target_final_train = gold_train_new['final.output.recovery']\n",
    "\n",
    "full_features_train.shape"
   ]
  },
  {
   "cell_type": "markdown",
   "metadata": {},
   "source": [
    "Поскольку у нас 2 целевых признака для каждого будем обучать и искать наилучшую модель отдельно."
   ]
  },
  {
   "cell_type": "markdown",
   "metadata": {},
   "source": [
    "#### 3.2.1. Линейная регрессия"
   ]
  },
  {
   "cell_type": "code",
   "execution_count": 63,
   "metadata": {},
   "outputs": [],
   "source": [
    "model = LinearRegression(copy_X = True)\n",
    "parameters = {'fit_intercept': [True, False],\n",
    "              'normalize':[True, False] \n",
    "             }\n",
    "              \n",
    "\n",
    "grid = GridSearchCVProgressBar(model, parameters, cv=5, n_jobs = -1, \n",
    "                    scoring = make_scorer(smape, greater_is_better=True), \n",
    "                    verbose = 0)\n",
    "\n",
    "def fit_and_get_best(features, target):\n",
    "    grid.fit(features, target)\n",
    "    \n",
    "    best_params = grid.best_params_\n",
    "    best_score = grid.best_score_\n",
    "    print_best(best_params, best_score, target.name)\n",
    "    return best_score\n",
    "\n",
    "def print_best(params, score, target_name):\n",
    "    print('Лучшие параметры для {}: {}'.format(target_name, params))\n",
    "    print('Лучшая средняя sMAPE для {}: {:.4f}'.format(target_name, score))\n",
    "    print()\n",
    "\n",
    "def smape_final_score():\n",
    "    smape_rougher = fit_and_get_best(features_train, target_rougher_train)\n",
    "    smape_final = fit_and_get_best(features_train, target_final_train)\n",
    "    \n",
    "    smape_final_score = 0.25 * smape_rougher + 0.75 * smape_final\n",
    "    \n",
    "    return \"\\033[1m\" + 'Лучшая итоговая sMAPE: {:.4f}'.format(smape_final_score) + \"\\033[0m\""
   ]
  },
  {
   "cell_type": "markdown",
   "metadata": {},
   "source": [
    "Запустим модель с перебором трешхолда корреляции и удалением коллинеарных признаков:"
   ]
  },
  {
   "cell_type": "code",
   "execution_count": 64,
   "metadata": {
    "scrolled": true
   },
   "outputs": [
    {
     "name": "stdout",
     "output_type": "stream",
     "text": [
      "\u001b[1mГраница корреляции:\u001b[0m 1.0\n",
      "\u001b[1mРазмерность признаков для предсказания:\u001b[0m (15585, 52)\n",
      "Лучшие параметры для rougher.output.recovery: {'fit_intercept': False, 'normalize': True}\n",
      "Лучшая средняя sMAPE для rougher.output.recovery: 12.2384\n",
      "\n",
      "Лучшие параметры для final.output.recovery: {'fit_intercept': True, 'normalize': False}\n",
      "Лучшая средняя sMAPE для final.output.recovery: 12.0316\n",
      "\n",
      "\u001b[1mЛучшая итоговая sMAPE: 12.0833\u001b[0m\n",
      "\n",
      "\u001b[1mГраница корреляции:\u001b[0m 0.9\n",
      "\u001b[1mРазмерность признаков для предсказания:\u001b[0m (15585, 42)\n",
      "Лучшие параметры для rougher.output.recovery: {'fit_intercept': True, 'normalize': True}\n",
      "Лучшая средняя sMAPE для rougher.output.recovery: 11.9949\n",
      "\n",
      "Лучшие параметры для final.output.recovery: {'fit_intercept': True, 'normalize': True}\n",
      "Лучшая средняя sMAPE для final.output.recovery: 12.1207\n",
      "\n",
      "\u001b[1mЛучшая итоговая sMAPE: 12.0892\u001b[0m\n",
      "\n",
      "\u001b[1mГраница корреляции:\u001b[0m 0.8\n",
      "\u001b[1mРазмерность признаков для предсказания:\u001b[0m (15585, 29)\n",
      "Лучшие параметры для rougher.output.recovery: {'fit_intercept': False, 'normalize': True}\n",
      "Лучшая средняя sMAPE для rougher.output.recovery: 12.1934\n",
      "\n",
      "Лучшие параметры для final.output.recovery: {'fit_intercept': False, 'normalize': True}\n",
      "Лучшая средняя sMAPE для final.output.recovery: 12.3885\n",
      "\n",
      "\u001b[1mЛучшая итоговая sMAPE: 12.3397\u001b[0m\n",
      "\n",
      "\u001b[1mГраница корреляции:\u001b[0m 0.7000000000000001\n",
      "\u001b[1mРазмерность признаков для предсказания:\u001b[0m (15585, 26)\n",
      "Лучшие параметры для rougher.output.recovery: {'fit_intercept': False, 'normalize': True}\n",
      "Лучшая средняя sMAPE для rougher.output.recovery: 11.8613\n",
      "\n",
      "Лучшие параметры для final.output.recovery: {'fit_intercept': False, 'normalize': True}\n",
      "Лучшая средняя sMAPE для final.output.recovery: 12.4833\n",
      "\n",
      "\u001b[1mЛучшая итоговая sMAPE: 12.3278\u001b[0m\n",
      "\n",
      "\u001b[1mГраница корреляции:\u001b[0m 0.6000000000000001\n",
      "\u001b[1mРазмерность признаков для предсказания:\u001b[0m (15585, 21)\n",
      "Лучшие параметры для rougher.output.recovery: {'fit_intercept': False, 'normalize': True}\n",
      "Лучшая средняя sMAPE для rougher.output.recovery: 11.7718\n",
      "\n",
      "Лучшие параметры для final.output.recovery: {'fit_intercept': True, 'normalize': True}\n",
      "Лучшая средняя sMAPE для final.output.recovery: 12.4468\n",
      "\n",
      "\u001b[1mЛучшая итоговая sMAPE: 12.2781\u001b[0m\n",
      "\n",
      "\u001b[1mГраница корреляции:\u001b[0m 0.5000000000000001\n",
      "\u001b[1mРазмерность признаков для предсказания:\u001b[0m (15585, 9)\n",
      "Лучшие параметры для rougher.output.recovery: {'fit_intercept': False, 'normalize': True}\n",
      "Лучшая средняя sMAPE для rougher.output.recovery: 13.9927\n",
      "\n",
      "Лучшие параметры для final.output.recovery: {'fit_intercept': False, 'normalize': True}\n",
      "Лучшая средняя sMAPE для final.output.recovery: 14.3261\n",
      "\n",
      "\u001b[1mЛучшая итоговая sMAPE: 14.2428\u001b[0m\n",
      "\n",
      "\u001b[1mГраница корреляции:\u001b[0m 0.40000000000000013\n",
      "\u001b[1mРазмерность признаков для предсказания:\u001b[0m (15585, 4)\n",
      "Лучшие параметры для rougher.output.recovery: {'fit_intercept': False, 'normalize': True}\n",
      "Лучшая средняя sMAPE для rougher.output.recovery: 13.2953\n",
      "\n",
      "Лучшие параметры для final.output.recovery: {'fit_intercept': False, 'normalize': True}\n",
      "Лучшая средняя sMAPE для final.output.recovery: 13.2262\n",
      "\n",
      "\u001b[1mЛучшая итоговая sMAPE: 13.2435\u001b[0m\n",
      "\n",
      "\u001b[1mГраница корреляции:\u001b[0m 0.30000000000000016\n",
      "\u001b[1mРазмерность признаков для предсказания:\u001b[0m (15585, 2)\n",
      "Лучшие параметры для rougher.output.recovery: {'fit_intercept': False, 'normalize': True}\n",
      "Лучшая средняя sMAPE для rougher.output.recovery: 14.8149\n",
      "\n",
      "Лучшие параметры для final.output.recovery: {'fit_intercept': False, 'normalize': True}\n",
      "Лучшая средняя sMAPE для final.output.recovery: 13.9765\n",
      "\n",
      "\u001b[1mЛучшая итоговая sMAPE: 14.1861\u001b[0m\n",
      "\n"
     ]
    }
   ],
   "source": [
    "for corr_treshold in np.arange(1, 0.2, -0.1):\n",
    "    \n",
    "    collinear_series = get_collinear(collinear_features, corr_treshold)\n",
    "    \n",
    "    try:\n",
    "        features_train = full_features_train.drop(collinear_series.to_list(), axis = 1)\n",
    "    \n",
    "    #если в список корр. попадает таргет, удалим его\n",
    "    except:\n",
    "        collinear_series_list = collinear_series.to_list()\n",
    "        collinear_series_list.remove('rougher.output.recovery')\n",
    "        collinear_series_list.remove('final.output.recovery')\n",
    "        \n",
    "        features_train = (full_features_train.drop(collinear_series_list, axis = 1)\n",
    "                         )\n",
    "    finally:\n",
    "        print(\"\\033[1m\" + 'Граница корреляции:' + \"\\033[0m\", str(corr_treshold))\n",
    "        print(\"\\033[1m\" + 'Размерность признаков для предсказания:' + \"\\033[0m\" , str(features_train.shape))\n",
    "\n",
    "        print(smape_final_score())\n",
    "        print()\n",
    "        \n"
   ]
  },
  {
   "cell_type": "markdown",
   "metadata": {},
   "source": [
    "После перебора параметров наилучший результат получаем при: \n",
    "\n",
    "Граница корреляции: 1.0  \n",
    "Размерность признаков для предсказания: (15585, 52)  \n",
    "Лучшие параметры для rougher.output.recovery: {'fit_intercept': False, 'normalize': True}  \n",
    "Лучшая средняя sMAPE для rougher.output.recovery: 12.2384  \n",
    "\n",
    "Лучшие параметры для final.output.recovery: {'fit_intercept': True, 'normalize': False}  \n",
    "Лучшая средняя sMAPE для final.output.recovery: 12.0316  \n",
    "\n",
    "Лучшая итоговая sMAPE: 12.0833"
   ]
  },
  {
   "cell_type": "markdown",
   "metadata": {},
   "source": [
    "#### 3.2.2. Дерево решений"
   ]
  },
  {
   "cell_type": "code",
   "execution_count": 65,
   "metadata": {},
   "outputs": [],
   "source": [
    "model = DecisionTreeRegressor(random_state = RS)\n",
    "parameters = {'max_depth': range (1, 13, 2),\n",
    "              }\n",
    "\n",
    "grid = GridSearchCVProgressBar(model, parameters, cv=5, n_jobs = -1, \n",
    "                    scoring = make_scorer(smape, greater_is_better=True), \n",
    "                    verbose = 0)\n"
   ]
  },
  {
   "cell_type": "code",
   "execution_count": 66,
   "metadata": {
    "scrolled": true
   },
   "outputs": [
    {
     "name": "stdout",
     "output_type": "stream",
     "text": [
      "\u001b[1mГраница корреляции:\u001b[0m 1.0\n",
      "\u001b[1mРазмерность признаков для предсказания:\u001b[0m (15585, 52)\n",
      "Лучшие параметры для rougher.output.recovery: {'max_depth': 11}\n",
      "Лучшая средняя sMAPE для rougher.output.recovery: 18.8451\n",
      "\n",
      "Лучшие параметры для final.output.recovery: {'max_depth': 11}\n",
      "Лучшая средняя sMAPE для final.output.recovery: 18.2360\n",
      "\n",
      "\u001b[1mЛучшая итоговая sMAPE: 18.3883\u001b[0m\n",
      "\n",
      "\u001b[1mГраница корреляции:\u001b[0m 0.9\n",
      "\u001b[1mРазмерность признаков для предсказания:\u001b[0m (15585, 42)\n",
      "Лучшие параметры для rougher.output.recovery: {'max_depth': 11}\n",
      "Лучшая средняя sMAPE для rougher.output.recovery: 18.5497\n",
      "\n",
      "Лучшие параметры для final.output.recovery: {'max_depth': 11}\n",
      "Лучшая средняя sMAPE для final.output.recovery: 17.2666\n",
      "\n",
      "\u001b[1mЛучшая итоговая sMAPE: 17.5874\u001b[0m\n",
      "\n",
      "\u001b[1mГраница корреляции:\u001b[0m 0.8\n",
      "\u001b[1mРазмерность признаков для предсказания:\u001b[0m (15585, 29)\n",
      "Лучшие параметры для rougher.output.recovery: {'max_depth': 3}\n",
      "Лучшая средняя sMAPE для rougher.output.recovery: 20.9812\n",
      "\n",
      "Лучшие параметры для final.output.recovery: {'max_depth': 11}\n",
      "Лучшая средняя sMAPE для final.output.recovery: 16.2990\n",
      "\n",
      "\u001b[1mЛучшая итоговая sMAPE: 17.4696\u001b[0m\n",
      "\n",
      "\u001b[1mГраница корреляции:\u001b[0m 0.7000000000000001\n",
      "\u001b[1mРазмерность признаков для предсказания:\u001b[0m (15585, 26)\n",
      "Лучшие параметры для rougher.output.recovery: {'max_depth': 11}\n",
      "Лучшая средняя sMAPE для rougher.output.recovery: 24.9749\n",
      "\n",
      "Лучшие параметры для final.output.recovery: {'max_depth': 11}\n",
      "Лучшая средняя sMAPE для final.output.recovery: 15.7844\n",
      "\n",
      "\u001b[1mЛучшая итоговая sMAPE: 18.0820\u001b[0m\n",
      "\n",
      "\u001b[1mГраница корреляции:\u001b[0m 0.6000000000000001\n",
      "\u001b[1mРазмерность признаков для предсказания:\u001b[0m (15585, 21)\n",
      "Лучшие параметры для rougher.output.recovery: {'max_depth': 11}\n",
      "Лучшая средняя sMAPE для rougher.output.recovery: 24.3914\n",
      "\n",
      "Лучшие параметры для final.output.recovery: {'max_depth': 11}\n",
      "Лучшая средняя sMAPE для final.output.recovery: 14.6037\n",
      "\n",
      "\u001b[1mЛучшая итоговая sMAPE: 17.0506\u001b[0m\n",
      "\n",
      "\u001b[1mГраница корреляции:\u001b[0m 0.5000000000000001\n",
      "\u001b[1mРазмерность признаков для предсказания:\u001b[0m (15585, 9)\n",
      "Лучшие параметры для rougher.output.recovery: {'max_depth': 11}\n",
      "Лучшая средняя sMAPE для rougher.output.recovery: 28.2206\n",
      "\n",
      "Лучшие параметры для final.output.recovery: {'max_depth': 11}\n",
      "Лучшая средняя sMAPE для final.output.recovery: 19.7637\n",
      "\n",
      "\u001b[1mЛучшая итоговая sMAPE: 21.8779\u001b[0m\n",
      "\n",
      "\u001b[1mГраница корреляции:\u001b[0m 0.40000000000000013\n",
      "\u001b[1mРазмерность признаков для предсказания:\u001b[0m (15585, 4)\n",
      "Лучшие параметры для rougher.output.recovery: {'max_depth': 11}\n",
      "Лучшая средняя sMAPE для rougher.output.recovery: 16.1743\n",
      "\n",
      "Лучшие параметры для final.output.recovery: {'max_depth': 11}\n",
      "Лучшая средняя sMAPE для final.output.recovery: 16.2515\n",
      "\n",
      "\u001b[1mЛучшая итоговая sMAPE: 16.2322\u001b[0m\n",
      "\n",
      "\u001b[1mГраница корреляции:\u001b[0m 0.30000000000000016\n",
      "\u001b[1mРазмерность признаков для предсказания:\u001b[0m (15585, 2)\n",
      "Лучшие параметры для rougher.output.recovery: {'max_depth': 11}\n",
      "Лучшая средняя sMAPE для rougher.output.recovery: 14.4260\n",
      "\n",
      "Лучшие параметры для final.output.recovery: {'max_depth': 11}\n",
      "Лучшая средняя sMAPE для final.output.recovery: 13.7551\n",
      "\n",
      "\u001b[1mЛучшая итоговая sMAPE: 13.9228\u001b[0m\n",
      "\n"
     ]
    }
   ],
   "source": [
    "for corr_treshold in np.arange(1, 0.2, -0.1):\n",
    "    \n",
    "    collinear_series = get_collinear(collinear_features, corr_treshold)\n",
    "    \n",
    "    try:\n",
    "        features_train = full_features_train.drop(collinear_series.to_list(), axis = 1)\n",
    "    \n",
    "    #если в список корр. попадает таргет, удалим его\n",
    "    except:\n",
    "        collinear_series_list = collinear_series.to_list()\n",
    "        collinear_series_list.remove('rougher.output.recovery')\n",
    "        collinear_series_list.remove('final.output.recovery')\n",
    "        \n",
    "        features_train = (full_features_train.drop(collinear_series_list, axis = 1)\n",
    "                         )\n",
    "    finally:\n",
    "        print(\"\\033[1m\" + 'Граница корреляции:' + \"\\033[0m\", str(corr_treshold))\n",
    "        print(\"\\033[1m\" + 'Размерность признаков для предсказания:' + \"\\033[0m\" , str(features_train.shape))\n",
    "\n",
    "        print(smape_final_score())\n",
    "        print()\n",
    "        "
   ]
  },
  {
   "cell_type": "markdown",
   "metadata": {},
   "source": [
    "Как видим, поведение дерева решений нестабильно, не наблюдается однозначной направленности улучшения результатов в зависимости от трешхолда корелляции. Однако наилучшие результаты мы получаем при:\n",
    "\n",
    "Граница корреляции: 0.3\n",
    "Размерность признаков для предсказания: (15585, 2)\n",
    "\n",
    "Лучшая итоговая sMAPE: 13.9228"
   ]
  },
  {
   "cell_type": "markdown",
   "metadata": {},
   "source": [
    "#### 3.2.3. Случайный лес"
   ]
  },
  {
   "cell_type": "code",
   "execution_count": 67,
   "metadata": {},
   "outputs": [],
   "source": [
    "model = RandomForestRegressor(random_state = RS)\n",
    "parameters = {'n_estimators': range (10, 31, 20),\n",
    "              'max_depth': range (1, 12, 5),\n",
    "              }\n",
    "\n",
    "grid = GridSearchCV(model, parameters, cv=5, n_jobs = -1, \n",
    "                    scoring = make_scorer(smape, greater_is_better=True), \n",
    "                    verbose = 0)\n"
   ]
  },
  {
   "cell_type": "code",
   "execution_count": 68,
   "metadata": {
    "scrolled": true
   },
   "outputs": [
    {
     "name": "stdout",
     "output_type": "stream",
     "text": [
      "\u001b[1mГраница корреляции:\u001b[0m 1.0\n",
      "\u001b[1mРазмерность признаков для предсказания:\u001b[0m (15585, 52)\n",
      "Лучшие параметры для rougher.output.recovery: {'max_depth': 11, 'n_estimators': 10}\n",
      "Лучшая средняя sMAPE для rougher.output.recovery: 13.6549\n",
      "\n",
      "Лучшие параметры для final.output.recovery: {'max_depth': 11, 'n_estimators': 10}\n",
      "Лучшая средняя sMAPE для final.output.recovery: 13.2061\n",
      "\n",
      "\u001b[1mЛучшая итоговая sMAPE: 13.3183\u001b[0m\n",
      "\n",
      "\u001b[1mГраница корреляции:\u001b[0m 0.9\n",
      "\u001b[1mРазмерность признаков для предсказания:\u001b[0m (15585, 42)\n",
      "Лучшие параметры для rougher.output.recovery: {'max_depth': 11, 'n_estimators': 10}\n",
      "Лучшая средняя sMAPE для rougher.output.recovery: 14.3705\n",
      "\n",
      "Лучшие параметры для final.output.recovery: {'max_depth': 11, 'n_estimators': 10}\n",
      "Лучшая средняя sMAPE для final.output.recovery: 13.0306\n",
      "\n",
      "\u001b[1mЛучшая итоговая sMAPE: 13.3656\u001b[0m\n",
      "\n",
      "\u001b[1mГраница корреляции:\u001b[0m 0.8\n",
      "\u001b[1mРазмерность признаков для предсказания:\u001b[0m (15585, 29)\n",
      "Лучшие параметры для rougher.output.recovery: {'max_depth': 11, 'n_estimators': 10}\n",
      "Лучшая средняя sMAPE для rougher.output.recovery: 13.6539\n",
      "\n",
      "Лучшие параметры для final.output.recovery: {'max_depth': 11, 'n_estimators': 10}\n",
      "Лучшая средняя sMAPE для final.output.recovery: 12.3841\n",
      "\n",
      "\u001b[1mЛучшая итоговая sMAPE: 12.7015\u001b[0m\n",
      "\n",
      "\u001b[1mГраница корреляции:\u001b[0m 0.7000000000000001\n",
      "\u001b[1mРазмерность признаков для предсказания:\u001b[0m (15585, 26)\n",
      "Лучшие параметры для rougher.output.recovery: {'max_depth': 11, 'n_estimators': 10}\n",
      "Лучшая средняя sMAPE для rougher.output.recovery: 14.0462\n",
      "\n",
      "Лучшие параметры для final.output.recovery: {'max_depth': 11, 'n_estimators': 10}\n",
      "Лучшая средняя sMAPE для final.output.recovery: 12.3834\n",
      "\n",
      "\u001b[1mЛучшая итоговая sMAPE: 12.7991\u001b[0m\n",
      "\n",
      "\u001b[1mГраница корреляции:\u001b[0m 0.6000000000000001\n",
      "\u001b[1mРазмерность признаков для предсказания:\u001b[0m (15585, 21)\n",
      "Лучшие параметры для rougher.output.recovery: {'max_depth': 11, 'n_estimators': 10}\n",
      "Лучшая средняя sMAPE для rougher.output.recovery: 14.2744\n",
      "\n",
      "Лучшие параметры для final.output.recovery: {'max_depth': 11, 'n_estimators': 10}\n",
      "Лучшая средняя sMAPE для final.output.recovery: 12.5764\n",
      "\n",
      "\u001b[1mЛучшая итоговая sMAPE: 13.0009\u001b[0m\n",
      "\n",
      "\u001b[1mГраница корреляции:\u001b[0m 0.5000000000000001\n",
      "\u001b[1mРазмерность признаков для предсказания:\u001b[0m (15585, 9)\n",
      "Лучшие параметры для rougher.output.recovery: {'max_depth': 11, 'n_estimators': 10}\n",
      "Лучшая средняя sMAPE для rougher.output.recovery: 16.1878\n",
      "\n",
      "Лучшие параметры для final.output.recovery: {'max_depth': 11, 'n_estimators': 10}\n",
      "Лучшая средняя sMAPE для final.output.recovery: 15.2048\n",
      "\n",
      "\u001b[1mЛучшая итоговая sMAPE: 15.4505\u001b[0m\n",
      "\n",
      "\u001b[1mГраница корреляции:\u001b[0m 0.40000000000000013\n",
      "\u001b[1mРазмерность признаков для предсказания:\u001b[0m (15585, 4)\n",
      "Лучшие параметры для rougher.output.recovery: {'max_depth': 11, 'n_estimators': 10}\n",
      "Лучшая средняя sMAPE для rougher.output.recovery: 14.6517\n",
      "\n",
      "Лучшие параметры для final.output.recovery: {'max_depth': 11, 'n_estimators': 10}\n",
      "Лучшая средняя sMAPE для final.output.recovery: 13.8755\n",
      "\n",
      "\u001b[1mЛучшая итоговая sMAPE: 14.0695\u001b[0m\n",
      "\n",
      "\u001b[1mГраница корреляции:\u001b[0m 0.30000000000000016\n",
      "\u001b[1mРазмерность признаков для предсказания:\u001b[0m (15585, 2)\n",
      "Лучшие параметры для rougher.output.recovery: {'max_depth': 11, 'n_estimators': 10}\n",
      "Лучшая средняя sMAPE для rougher.output.recovery: 13.6662\n",
      "\n",
      "Лучшие параметры для final.output.recovery: {'max_depth': 11, 'n_estimators': 10}\n",
      "Лучшая средняя sMAPE для final.output.recovery: 13.0935\n",
      "\n",
      "\u001b[1mЛучшая итоговая sMAPE: 13.2367\u001b[0m\n",
      "\n"
     ]
    }
   ],
   "source": [
    "for corr_treshold in np.arange(1, 0.2, -0.1):\n",
    "    \n",
    "    collinear_series = get_collinear(collinear_features, corr_treshold)\n",
    "    \n",
    "    try:\n",
    "        features_train = full_features_train.drop(collinear_series.to_list(), axis = 1)\n",
    "    \n",
    "    except:\n",
    "        collinear_series_list = collinear_series.to_list()\n",
    "        collinear_series_list.remove('rougher.output.recovery')\n",
    "        collinear_series_list.remove('final.output.recovery')\n",
    "        \n",
    "        features_train = (full_features_train.drop(collinear_series_list, axis = 1)\n",
    "                         )\n",
    "    finally:\n",
    "        print(\"\\033[1m\" + 'Граница корреляции:' + \"\\033[0m\", str(corr_treshold))\n",
    "        print(\"\\033[1m\" + 'Размерность признаков для предсказания:' + \"\\033[0m\" , str(features_train.shape))\n",
    "\n",
    "        print(smape_final_score())\n",
    "        print()\n",
    "        "
   ]
  },
  {
   "cell_type": "markdown",
   "metadata": {},
   "source": [
    "Случайный лес показывает более стабильные результаты: самый хороший результат мы получаем при наибольшем количестве признаков. \n",
    "\n",
    "Граница корреляции: 0.8\n",
    "Размерность признаков для предсказания: (15585, 29)\n",
    "\n",
    "Лучшая итоговая sMAPE: 12.7015"
   ]
  },
  {
   "cell_type": "markdown",
   "metadata": {},
   "source": [
    "#### 3.2.4. Lasso regression"
   ]
  },
  {
   "cell_type": "markdown",
   "metadata": {},
   "source": [
    "Из предсказательных моделей лучше всего пока себя показывает Линейная регрессия. Попробуем улучшить её результаты добавив регуляризацию Lasso.\n",
    "\n",
    "*Пока модель обучается сделаем небольшое отступление:\n",
    "По сути мы делаем предсказания не для отдельных объектов, а для одной системы. Поэтому все признаки скорее всего будут находиться в тесной взаимосвязи друг с другом. В этом случае как раз может помочь регуляризация. Посмотрим как она себя показывает:"
   ]
  },
  {
   "cell_type": "code",
   "execution_count": 69,
   "metadata": {},
   "outputs": [],
   "source": [
    "model = Lasso(random_state=RS)\n",
    "parameters = {'alpha': np.arange(0.1, 2, 0.8),\n",
    "              'fit_intercept': [True, False],\n",
    "              'normalize':[True, False] \n",
    "             }\n",
    "              \n",
    "\n",
    "grid = RandomizedSearchCV(model, parameters, n_iter=5, random_state=RS, cv=5, n_jobs = -1, \n",
    "                    scoring = make_scorer(smape, greater_is_better=True), \n",
    "                    verbose = 0)\n"
   ]
  },
  {
   "cell_type": "code",
   "execution_count": 70,
   "metadata": {},
   "outputs": [
    {
     "name": "stdout",
     "output_type": "stream",
     "text": [
      "\u001b[1mГраница корреляции:\u001b[0m 1.0\n",
      "\u001b[1mРазмерность признаков для предсказания:\u001b[0m (15585, 52)\n",
      "Лучшие параметры для rougher.output.recovery: {'normalize': False, 'fit_intercept': True, 'alpha': 0.1}\n",
      "Лучшая средняя sMAPE для rougher.output.recovery: 11.9030\n",
      "\n",
      "Лучшие параметры для final.output.recovery: {'normalize': True, 'fit_intercept': False, 'alpha': 0.1}\n",
      "Лучшая средняя sMAPE для final.output.recovery: 12.4275\n",
      "\n",
      "\u001b[1mЛучшая итоговая sMAPE: 12.2964\u001b[0m\n",
      "\n",
      "\u001b[1mГраница корреляции:\u001b[0m 0.8\n",
      "\u001b[1mРазмерность признаков для предсказания:\u001b[0m (15585, 29)\n",
      "Лучшие параметры для rougher.output.recovery: {'normalize': True, 'fit_intercept': True, 'alpha': 1.7000000000000002}\n",
      "Лучшая средняя sMAPE для rougher.output.recovery: 11.8999\n",
      "\n",
      "Лучшие параметры для final.output.recovery: {'normalize': False, 'fit_intercept': True, 'alpha': 0.1}\n",
      "Лучшая средняя sMAPE для final.output.recovery: 12.1945\n",
      "\n",
      "\u001b[1mЛучшая итоговая sMAPE: 12.1209\u001b[0m\n",
      "\n",
      "CPU times: user 4min 51s, sys: 6min 9s, total: 11min 1s\n",
      "Wall time: 11min 7s\n"
     ]
    }
   ],
   "source": [
    "%%time\n",
    "for corr_treshold in np.arange(1, 0.7, -0.2):\n",
    "    \n",
    "    collinear_series = get_collinear(collinear_features, corr_treshold)\n",
    "    features_train = full_features_train.drop(collinear_series.to_list(), axis = 1)\n",
    "\n",
    "    print(\"\\033[1m\" + 'Граница корреляции:' + \"\\033[0m\", str(corr_treshold))\n",
    "    print(\"\\033[1m\" + 'Размерность признаков для предсказания:' + \"\\033[0m\" , str(features_train.shape))\n",
    "\n",
    "    print(smape_final_score())\n",
    "    print()"
   ]
  },
  {
   "cell_type": "markdown",
   "metadata": {},
   "source": [
    "Линейная регрессия с регуляризацией Lasso работает очень медленно и показывает результаты не лучше чем обычная линейная регрессия. Лучшая итоговая sMAPE которой удалось достичь на данном этапе: 12.1209 (при границе корреляции 0.8). Скорее всего можно улучшить результат, но для этого потребуется сильно больше времени и ресурсов."
   ]
  },
  {
   "cell_type": "markdown",
   "metadata": {},
   "source": [
    "##### 3.2. Вывод \n",
    "\n",
    "Таким образом, лучшая модель для предсказания: Линейная регрессия.  \n",
    "\n",
    "Гиперпараметры:  \n",
    "Граница корреляции: 1.0 \n",
    "Размерность признаков для предсказания: (15585, 52)   \n",
    "Лучшие параметры для rougher.output.recovery: {'fit_intercept': False, 'normalize': True}    \n",
    "Лучшие параметры для final.output.recovery: {'fit_intercept': True, 'normalize': False}  \n",
    "\n",
    "Лучшая итоговая sMAPE: 12.0833\n",
    "\n",
    "Проверим её на тестовой выборке."
   ]
  },
  {
   "cell_type": "markdown",
   "metadata": {},
   "source": [
    "### Проверка лучшей модели на тестовой выборке"
   ]
  },
  {
   "cell_type": "markdown",
   "metadata": {},
   "source": [
    "Подготовим тестовую выборку:"
   ]
  },
  {
   "cell_type": "code",
   "execution_count": 71,
   "metadata": {},
   "outputs": [],
   "source": [
    "full_features_test = gold_test_new.drop(['date', 'rougher.output.recovery', 'final.output.recovery'], axis = 1)\n",
    "target_rougher_test = gold_test_new['rougher.output.recovery']\n",
    "target_final_test = gold_test_new['final.output.recovery']\n",
    "\n",
    "corr_treshold = 1\n",
    "collinear_series = get_collinear(collinear_features, corr_treshold)\n",
    "\n",
    "features_train = full_features_train.drop(collinear_series.to_list(), axis = 1)\n",
    "features_test = full_features_test.drop(collinear_series.to_list(), axis = 1)"
   ]
  },
  {
   "cell_type": "markdown",
   "metadata": {},
   "source": [
    "Модель для `rougher`"
   ]
  },
  {
   "cell_type": "code",
   "execution_count": 72,
   "metadata": {},
   "outputs": [],
   "source": [
    "model = LinearRegression(fit_intercept= False, normalize = True, copy_X = True)\n",
    "model.fit(features_train, target_rougher_train)\n",
    "predictions = model.predict(features_test)\n",
    "\n",
    "rougher_smape = smape(target_rougher_test, predictions)"
   ]
  },
  {
   "cell_type": "markdown",
   "metadata": {},
   "source": [
    "Модель для `final`"
   ]
  },
  {
   "cell_type": "code",
   "execution_count": 73,
   "metadata": {},
   "outputs": [],
   "source": [
    "model = LinearRegression(fit_intercept= True, normalize = False, copy_X = True)\n",
    "model.fit(features_train, target_final_train)\n",
    "predictions = model.predict(features_test)\n",
    "\n",
    "final_smape = smape(target_final_test, predictions)"
   ]
  },
  {
   "cell_type": "markdown",
   "metadata": {},
   "source": [
    "Итоговая sMAPE:"
   ]
  },
  {
   "cell_type": "code",
   "execution_count": 74,
   "metadata": {},
   "outputs": [
    {
     "data": {
      "text/plain": [
       "8.620282104838402"
      ]
     },
     "execution_count": 74,
     "metadata": {},
     "output_type": "execute_result"
    }
   ],
   "source": [
    "0.25 * rougher_smape + 0.75 * final_smape"
   ]
  },
  {
   "cell_type": "markdown",
   "metadata": {},
   "source": [
    "Получили что итоговая sMAPE для тестовой выборки: 8.6203."
   ]
  },
  {
   "cell_type": "markdown",
   "metadata": {},
   "source": [
    "### Проверка лучшей модели на адекватность"
   ]
  },
  {
   "cell_type": "code",
   "execution_count": 75,
   "metadata": {},
   "outputs": [],
   "source": [
    "model = DummyRegressor(strategy = 'median')\n",
    "model.fit(features_train, target_rougher_train)\n",
    "predictions = model.predict(features_test)\n",
    "\n",
    "rougher_smape = smape(target_rougher_test, predictions)"
   ]
  },
  {
   "cell_type": "code",
   "execution_count": 76,
   "metadata": {},
   "outputs": [],
   "source": [
    "model = DummyRegressor(strategy = 'median')\n",
    "model.fit(features_train, target_final_train)\n",
    "predictions = model.predict(features_test)\n",
    "\n",
    "final_smape = smape(target_final_test, predictions)"
   ]
  },
  {
   "cell_type": "markdown",
   "metadata": {},
   "source": [
    "Итоговая sMAPE:"
   ]
  },
  {
   "cell_type": "code",
   "execution_count": 77,
   "metadata": {},
   "outputs": [
    {
     "data": {
      "text/plain": [
       "11.0404747305626"
      ]
     },
     "execution_count": 77,
     "metadata": {},
     "output_type": "execute_result"
    }
   ],
   "source": [
    "0.25 * rougher_smape + 0.75 * final_smape"
   ]
  },
  {
   "cell_type": "markdown",
   "metadata": {},
   "source": [
    "Итоговая sMAPE dummy модели, не использующей машинное обучение, составила 11.0404. Как видим, наши модели линейной регрессии построены не зря – они имеют большую точность (около 8.62)."
   ]
  },
  {
   "cell_type": "markdown",
   "metadata": {},
   "source": [
    "### Вывод"
   ]
  },
  {
   "cell_type": "markdown",
   "metadata": {},
   "source": [
    "На последнем этапе мы обучали и выбирали наилучшую модель для нашей ситуации.  \n",
    "3.1. Сначала мы создали функцию для вычисления итоговой метрики `sMAPE`.  \n",
    "3.2. После мы перешли к обучению моделей и оценке их качества кросс-валидацией.\n",
    "\n",
    "Поскольку у нас 2 целевых признака, для каждого мы обучали и искали наилучшую модель отдельно.\n",
    "Модели мы запускали с перебором трешхолда корреляции и удалением коллинеарных признаков.\n",
    "\n",
    "3.2.1. **Линейная регрессия**\n",
    "После перебора параметров наилучший результат получаем при:\n",
    "\n",
    "    Границе корреляции: 1 \n",
    "    Размерность признаков для предсказания: (15585, 52) \n",
    "    Лучшая итоговая sMAPE: 12.0833\n",
    "\n",
    "3.2.2. **Дерево решений**\n",
    "После обучения моделей было обнаружено, что поведение (качество предсказаний) дерева решений нестабильно, не наблюдается однозначной направленности улучшения результатов в зависимости от трешхолда корелляции. Однако наилучшие результаты мы получаем при:\n",
    "\n",
    "    Граница корреляции: 0.3\n",
    "    Размерность признаков для предсказания: (15585, 2)\n",
    "    Лучшая итоговая sMAPE: 13.9228\n",
    "\n",
    "3.2.3. **Случайный лес**\n",
    "Случайный лес показывает более стабильные результаты: самый хороший результат мы получаем при наибольшем количестве признаков. \n",
    "\n",
    "    Граница корреляции: 0.8\n",
    "    Размерность признаков для предсказания: (15585, 29)\n",
    "    Лучшая итоговая sMAPE: 12.7015\n",
    "\n",
    "3.2.4  **Lasso regression**\n",
    "Поскольку из предсказательных моделей лучше всего себя показывала Линейная регрессия, мы попробовали улучшить её результаты добавив регуляризацию Lasso.\n",
    "\n",
    "Линейная регрессия с регуляризацией Lasso работает очень медленно и показывает результаты не лучше чем обычная линейная регрессия. Лучшая итоговая sMAPE которой удалось достичь на данном этапе: 12.1209. Скорее всего можно улучшить результат, но для этого потребуется сильно больше времени и ресурсов.\n",
    "\n",
    "3.2.5. Таким образом, мы пришли к выводу что **лучшая модель для предсказания: Линейная регрессия**.\n",
    "\n",
    "    Гиперпараметры:  \n",
    "    Граница корреляции: 1.0 \n",
    "    Размерность признаков для предсказания: (15585, 52)   \n",
    "    Лучшие параметры для rougher.output.recovery: {'fit_intercept': False, 'normalize': True}    \n",
    "    Лучшие параметры для final.output.recovery: {'fit_intercept': True, 'normalize': False}  \n",
    "\n",
    "Лучшая итоговая sMAPE: 12.0833\n",
    "3.3. Далее мы выполнили проверку лучшей модели на тестовой выборке.\n",
    "\n",
    "Получили что итоговая sMAPE для тестовой выборки: 8.6203.\n",
    "\n",
    "3.4. В конце была проведена проверка лучшей модели на адекватность.\n",
    "\n",
    "Итоговая sMAPE dummy модели, не использующей машинное обучение, составила 11.0404. Наши построенные модели машинного обучения имеют большую точность (около 8.93)."
   ]
  },
  {
   "cell_type": "markdown",
   "metadata": {},
   "source": [
    "## Общий вывод"
   ]
  },
  {
   "cell_type": "markdown",
   "metadata": {},
   "source": [
    "**1.** На первом этапе мы подготовили данные к дальнейшему анализу.\n",
    "\n",
    "1.1. Загрузили файлы и получили информацию о них.  \n",
    "\n",
    "1.2. Далее на обучающей выборке проверили, что эффективность обогащения рассчитана правильно. MAE между расчётами и значением признака составляло 1.09e-14, расчеты проведены верно.  \n",
    "\n",
    "1.3. Провели анализ признаков, недоступных в тестовой выборке.  \n",
    "\n",
    "1.4. Провели предобработку данных    \n",
    "\n",
    "- Сформировали обучающая и тестовая выборки.  \n",
    "\n",
    "- Обработали пропуски (16208 пропущенных значений). \n",
    "\n",
    "- Восстановление данных  \n",
    "Были восстановлены новые train и test из полных данных.  \n",
    "\n",
    "<ins> Возможная причина появления пропусков:</ins>  \n",
    "Поскольку один замер (наша дата) это состояние всей очистительной системы, пропущенные значения могут появляться на старте производства, когда сырьё поступило на обработку; в конце дня, когда сырьё уже не поступает, но некоторые из установок работают, и в схожих ситуациях.\n",
    "Оставшиеся пропуски мы заменили с помощью KNNImputer, который заполняет значения по n ближайшим соседям.\n",
    "\n",
    "- Проверка дубликатов показала что полных дубликатов нет."
   ]
  },
  {
   "cell_type": "markdown",
   "metadata": {},
   "source": [
    "**2.** На втором этапе мы проводили исследовательский анализ данных.  \n",
    "\n",
    "2.1. В начале были рассмотрены процессы изменения концентрации металлов (Au, Ag, Pb) на различных этапах очистки.\n",
    "\n",
    "`Au Золото` Судя по графикам, концентрация золота в сырье увеличивается с каждой очисткой. \n",
    "\n",
    "`Ag Серебро` Серебро начинает вести себя совсем по-другому: после флотации (первой очистки) его концентрация повышается, но после 2 этапа очистки она падает ниже начального уровня. \n",
    "\n",
    "`Pb Свинец` Концентрация свинца последовательно уменьшается на всех этапах обработки. Опять наблюдаем нулевые значения.\n",
    "\n",
    "2.2. Далее было проведено сравнение распределения размеров гранул сырья на обучающей и тестовой выборках.  \n",
    "Распределение размеров гранул в выборках было одинаковым. \n",
    "\n",
    "2.3. Мы исследовали суммарную концентрацию всех веществ на разных стадиях. \n",
    "\n",
    "1) Сырьё. Распределение близко к нормальному, со смещением вправо. Пик значений около 57. Аномальных значений не было. \n",
    "\n",
    "2) Черновой и финальный концентрат. На этих этапах обработки мы наблюдали большое количество нулевых значений, остальное распределение было близко к нормальному, со смещением вправо и длинным хвостом слева.\n",
    "\n",
    "2.4. В конце была оценена корреляция признаков.\n",
    "После построения матрицы корреляции мы нашли что между некоторыми признками есть сильная корреляция (больше 0.8). \n",
    "Была создана функция, позволяющая задать трешхолд и получить список из коррелирующих признаков для удаления."
   ]
  },
  {
   "cell_type": "markdown",
   "metadata": {},
   "source": [
    "**3.** На последнем этапе мы обучали и выбирали наилучшую модель. \n",
    "\n",
    "3.1. Сначала мы создали функцию для вычисления итоговой метрики `sMAPE`.  \n",
    "3.2. После мы перешли к обучению моделей и оценке их качества кросс-валидацией.\n",
    "\n",
    "Поскольку у нас 2 целевых признака, для каждого мы обучали и искали наилучшую модель отдельно.\n",
    "Модели мы запускали с перебором трешхолда корреляции и удалением коллинеарных признаков.\n",
    "\n",
    "Результаты обучения моделей:\n",
    "\n",
    "Название модели | Граница корр. | Кол-во признаков | Лучшая итоговая **sMAPE**\n",
    ":---|---|---|---\n",
    "**Линейная регрессия** | 1 | 52 | 12.0833\n",
    "**Дерево решений** | 0.3 | 2 | 13.9228\n",
    "**Случайный лес** | 0.8 | 29 | 12.7015\n",
    "**Lasso регрессия** | 0.8 | 29 | 12.1209\n",
    "\n",
    "3.2.5. Таким образом, мы пришли к выводу что **лучшая модель для предсказания: Линейная регрессия**.\n",
    "\n",
    "    Гиперпараметры:  \n",
    "    Граница корреляции: 1.0 \n",
    "    Размерность признаков для предсказания: (15585, 52)   \n",
    "    Лучшие параметры для rougher.output.recovery: {'fit_intercept': False, 'normalize': True}    \n",
    "    Лучшие параметры для final.output.recovery: {'fit_intercept': True, 'normalize': False}  \n",
    "    Лучшая итоговая sMAPE: 12.0833\n",
    "\n",
    "3.3. Далее мы выполнили проверку лучшей модели на тестовой выборке.\n",
    "\n",
    "Получили что итоговая sMAPE для тестовой выборки: 8.6203.\n",
    "\n",
    "3.4. В конце была проведена проверка лучшей модели на адекватность.\n",
    "\n",
    "Итоговая sMAPE dummy модели, не использующей машинное обучение, составила 11.0404. Наши построенные модели машинного обучения имеют большую точность (около 8.93)."
   ]
  },
  {
   "cell_type": "code",
   "execution_count": null,
   "metadata": {},
   "outputs": [],
   "source": []
  }
 ],
 "metadata": {
  "kernelspec": {
   "display_name": "Python 3",
   "language": "python",
   "name": "python3"
  },
  "language_info": {
   "codemirror_mode": {
    "name": "ipython",
    "version": 3
   },
   "file_extension": ".py",
   "mimetype": "text/x-python",
   "name": "python",
   "nbconvert_exporter": "python",
   "pygments_lexer": "ipython3",
   "version": "3.7.8"
  },
  "toc": {
   "base_numbering": 1,
   "nav_menu": {},
   "number_sections": true,
   "sideBar": true,
   "skip_h1_title": true,
   "title_cell": "Содержание",
   "title_sidebar": "Contents",
   "toc_cell": true,
   "toc_position": {
    "height": "calc(100% - 180px)",
    "left": "10px",
    "top": "150px",
    "width": "192px"
   },
   "toc_section_display": true,
   "toc_window_display": true
  }
 },
 "nbformat": 4,
 "nbformat_minor": 2
}
