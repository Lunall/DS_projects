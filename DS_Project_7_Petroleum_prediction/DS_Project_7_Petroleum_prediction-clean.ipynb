{
 "cells": [
  {
   "cell_type": "markdown",
   "metadata": {},
   "source": [
    "# Предсказание самого прибыльного месторождения"
   ]
  },
  {
   "cell_type": "markdown",
   "metadata": {},
   "source": [
    "##### Вводная: <a class=\"tocSkip\">\n",
    "    \n",
    "Увидев ваш сильный результат на прошедших соревнованиях с вами связалась крупная нефтедобывающая компания \"Vankor Petroleum\". В компании хотят автоматизировать процесс выбора скважин и региона для добычи нефти. В рамках пилотного проекта вам предстоит проанализировать синтетические данные о трех регионах и построить модель машинного обучения, которая определит тот регион, где добыча принесёт наибольшую прибыль. "
   ]
  },
  {
   "cell_type": "markdown",
   "metadata": {},
   "source": [
    "### Цель <a class=\"tocSkip\">\n",
    "    \n",
    "Построить модель для определения региона, где добыча принесёт наибольшую прибыль. Проанализировать возможную прибыль и риски."
   ]
  },
  {
   "cell_type": "markdown",
   "metadata": {},
   "source": [
    "### Условия задачи: <a class=\"tocSkip\">\n",
    "\n",
    "- Для обучения модели требуется использовать линейную регрессию (остальные модели недостаточно предсказуемые).  \n",
    "- При разведке региона исследуются 500 точек, из которых с помощью машинного обучения выбирают 200 лучших для разработки.  \n",
    "- Бюджет на разработку скважин в регионе — 10 млрд рублей.  \n",
    "- При нынешних ценах один баррель сырья приносит 450 рублей дохода. Доход с каждой единицы продукта составляет 450 тыс. рублей, т.к. объём указан в тысячах баррелей.  \n",
    "- После оценки рисков оставляют лишь те регионы, в которых вероятность убытков меньше 2.5%. Среди них выбирают регион с наибольшей средней прибылью."
   ]
  },
  {
   "cell_type": "markdown",
   "metadata": {},
   "source": [
    "### Описание данных <a class=\"tocSkip\">"
   ]
  },
  {
   "cell_type": "markdown",
   "metadata": {},
   "source": [
    "Данные геологоразведки трёх регионов находятся в трёх файлах.  \n",
    "`id` — уникальный идентификатор скважины;  \n",
    "`f0, f1, f2` — три признака точек (неизвестно что они означают, но сами признаки значимы);  \n",
    "`product` — объём запасов в скважине (тыс. баррелей).\n",
    "\n",
    "Данные синтетические: детали контрактов и характеристики месторождений не разглашаются."
   ]
  },
  {
   "cell_type": "markdown",
   "metadata": {},
   "source": [
    "### План <a class=\"tocSkip\">"
   ]
  },
  {
   "cell_type": "markdown",
   "metadata": {},
   "source": [
    "    1. Загрузка и подготовка данных. \n",
    "    2. Обучение и проверка модели для каждого региона.\n",
    "    3. Подготовка к расчёту прибыли:  \n",
    "        3.1. Создание переменных с ключевыми значениями.  \n",
    "        3.2. Рассчёт достаточного объёма сырья для безубыточной разработки новой скважины. Сравнение полученного объёма сырья со средним запасом в каждом регионе.  \n",
    "        3.3. Выводы по этапу подготовки расчёта прибыли.  \n",
    "    4. Расчёт прибыли по выбранным скважинам и предсказаниям модели.  \n",
    "    5. Риски и прибыль для каждого региона:  \n",
    "        5.1. Поиск распределения прибыли техникой Bootstrap с 1000 выборок.  \n",
    "        5.2. Средняя прибыль, 95%-й доверительный интервал и риск убытков.  \n",
    "        5.3. Выводы: выбор региона для разработки скважин и его обоснование.  \n",
    "    6. Общий вывод."
   ]
  },
  {
   "cell_type": "markdown",
   "metadata": {},
   "source": [
    "## 0. Установка библиотек <a class=\"tocSkip\">"
   ]
  },
  {
   "cell_type": "code",
   "execution_count": 1,
   "metadata": {},
   "outputs": [],
   "source": [
    "%%capture\n",
    "%pip install --upgrade ipykernel\n",
    "%pip install dill\n",
    "%pip install seaborn>=0.11 -U\n",
    "%pip install scikit-learn -U"
   ]
  },
  {
   "cell_type": "code",
   "execution_count": 2,
   "metadata": {},
   "outputs": [],
   "source": [
    "import dill \n",
    "\n",
    "import pandas as pd\n",
    "import numpy as np\n",
    "\n",
    "from sklearn.model_selection import train_test_split, GridSearchCV\n",
    "from sklearn.preprocessing import MinMaxScaler\n",
    "from sklearn.utils import shuffle\n",
    "\n",
    "from sklearn.linear_model import LinearRegression\n",
    "\n",
    "from sklearn.metrics import (mean_squared_error as mse, \n",
    "                             mean_absolute_error as mae)\n",
    "\n",
    "from tqdm import tqdm\n",
    "\n",
    "import matplotlib.pyplot as plt\n",
    "import seaborn as sns\n",
    "sns.set_style(\"darkgrid\")\n",
    "\n",
    "#фильтр предупреждений\n",
    "import warnings\n",
    "#warnings.simplefilter(\"ignore\")"
   ]
  },
  {
   "cell_type": "code",
   "execution_count": 3,
   "metadata": {},
   "outputs": [],
   "source": [
    "#зададим ramdom seed\n",
    "RS = 2021"
   ]
  },
  {
   "cell_type": "markdown",
   "metadata": {},
   "source": [
    "## 1. Загрузка и подготовка данных"
   ]
  },
  {
   "cell_type": "code",
   "execution_count": 4,
   "metadata": {},
   "outputs": [
    {
     "data": {
      "text/html": [
       "<div>\n",
       "<style scoped>\n",
       "    .dataframe tbody tr th:only-of-type {\n",
       "        vertical-align: middle;\n",
       "    }\n",
       "\n",
       "    .dataframe tbody tr th {\n",
       "        vertical-align: top;\n",
       "    }\n",
       "\n",
       "    .dataframe thead th {\n",
       "        text-align: right;\n",
       "    }\n",
       "</style>\n",
       "<table border=\"1\" class=\"dataframe\">\n",
       "  <thead>\n",
       "    <tr style=\"text-align: right;\">\n",
       "      <th></th>\n",
       "      <th>id</th>\n",
       "      <th>f0</th>\n",
       "      <th>f1</th>\n",
       "      <th>f2</th>\n",
       "      <th>product</th>\n",
       "    </tr>\n",
       "  </thead>\n",
       "  <tbody>\n",
       "    <tr>\n",
       "      <td>0</td>\n",
       "      <td>txEyH</td>\n",
       "      <td>0.705745</td>\n",
       "      <td>-0.497823</td>\n",
       "      <td>1.221170</td>\n",
       "      <td>105.280062</td>\n",
       "    </tr>\n",
       "    <tr>\n",
       "      <td>1</td>\n",
       "      <td>2acmU</td>\n",
       "      <td>1.334711</td>\n",
       "      <td>-0.340164</td>\n",
       "      <td>4.365080</td>\n",
       "      <td>73.037750</td>\n",
       "    </tr>\n",
       "    <tr>\n",
       "      <td>2</td>\n",
       "      <td>409Wp</td>\n",
       "      <td>1.022732</td>\n",
       "      <td>0.151990</td>\n",
       "      <td>1.419926</td>\n",
       "      <td>85.265647</td>\n",
       "    </tr>\n",
       "    <tr>\n",
       "      <td>3</td>\n",
       "      <td>iJLyR</td>\n",
       "      <td>-0.032172</td>\n",
       "      <td>0.139033</td>\n",
       "      <td>2.978566</td>\n",
       "      <td>168.620776</td>\n",
       "    </tr>\n",
       "    <tr>\n",
       "      <td>4</td>\n",
       "      <td>Xdl7t</td>\n",
       "      <td>1.988431</td>\n",
       "      <td>0.155413</td>\n",
       "      <td>4.751769</td>\n",
       "      <td>154.036647</td>\n",
       "    </tr>\n",
       "  </tbody>\n",
       "</table>\n",
       "</div>"
      ],
      "text/plain": [
       "      id        f0        f1        f2     product\n",
       "0  txEyH  0.705745 -0.497823  1.221170  105.280062\n",
       "1  2acmU  1.334711 -0.340164  4.365080   73.037750\n",
       "2  409Wp  1.022732  0.151990  1.419926   85.265647\n",
       "3  iJLyR -0.032172  0.139033  2.978566  168.620776\n",
       "4  Xdl7t  1.988431  0.155413  4.751769  154.036647"
      ]
     },
     "execution_count": 4,
     "metadata": {},
     "output_type": "execute_result"
    }
   ],
   "source": [
    "data_region_0 = pd.read_csv('/datasets/geo_data_0.csv')\n",
    "data_region_0.name = 'data_region_0'\n",
    "\n",
    "data_region_0.head()"
   ]
  },
  {
   "cell_type": "code",
   "execution_count": 5,
   "metadata": {},
   "outputs": [
    {
     "data": {
      "text/html": [
       "<div>\n",
       "<style scoped>\n",
       "    .dataframe tbody tr th:only-of-type {\n",
       "        vertical-align: middle;\n",
       "    }\n",
       "\n",
       "    .dataframe tbody tr th {\n",
       "        vertical-align: top;\n",
       "    }\n",
       "\n",
       "    .dataframe thead th {\n",
       "        text-align: right;\n",
       "    }\n",
       "</style>\n",
       "<table border=\"1\" class=\"dataframe\">\n",
       "  <thead>\n",
       "    <tr style=\"text-align: right;\">\n",
       "      <th></th>\n",
       "      <th>id</th>\n",
       "      <th>f0</th>\n",
       "      <th>f1</th>\n",
       "      <th>f2</th>\n",
       "      <th>product</th>\n",
       "    </tr>\n",
       "  </thead>\n",
       "  <tbody>\n",
       "    <tr>\n",
       "      <td>0</td>\n",
       "      <td>kBEdx</td>\n",
       "      <td>-15.001348</td>\n",
       "      <td>-8.276000</td>\n",
       "      <td>-0.005876</td>\n",
       "      <td>3.179103</td>\n",
       "    </tr>\n",
       "    <tr>\n",
       "      <td>1</td>\n",
       "      <td>62mP7</td>\n",
       "      <td>14.272088</td>\n",
       "      <td>-3.475083</td>\n",
       "      <td>0.999183</td>\n",
       "      <td>26.953261</td>\n",
       "    </tr>\n",
       "    <tr>\n",
       "      <td>2</td>\n",
       "      <td>vyE1P</td>\n",
       "      <td>6.263187</td>\n",
       "      <td>-5.948386</td>\n",
       "      <td>5.001160</td>\n",
       "      <td>134.766305</td>\n",
       "    </tr>\n",
       "  </tbody>\n",
       "</table>\n",
       "</div>"
      ],
      "text/plain": [
       "      id         f0        f1        f2     product\n",
       "0  kBEdx -15.001348 -8.276000 -0.005876    3.179103\n",
       "1  62mP7  14.272088 -3.475083  0.999183   26.953261\n",
       "2  vyE1P   6.263187 -5.948386  5.001160  134.766305"
      ]
     },
     "execution_count": 5,
     "metadata": {},
     "output_type": "execute_result"
    }
   ],
   "source": [
    "data_region_1 = pd.read_csv('/datasets/geo_data_1.csv')\n",
    "data_region_1.name = 'data_region_1'\n",
    "\n",
    "data_region_1.head(3)"
   ]
  },
  {
   "cell_type": "code",
   "execution_count": 6,
   "metadata": {},
   "outputs": [
    {
     "data": {
      "text/html": [
       "<div>\n",
       "<style scoped>\n",
       "    .dataframe tbody tr th:only-of-type {\n",
       "        vertical-align: middle;\n",
       "    }\n",
       "\n",
       "    .dataframe tbody tr th {\n",
       "        vertical-align: top;\n",
       "    }\n",
       "\n",
       "    .dataframe thead th {\n",
       "        text-align: right;\n",
       "    }\n",
       "</style>\n",
       "<table border=\"1\" class=\"dataframe\">\n",
       "  <thead>\n",
       "    <tr style=\"text-align: right;\">\n",
       "      <th></th>\n",
       "      <th>id</th>\n",
       "      <th>f0</th>\n",
       "      <th>f1</th>\n",
       "      <th>f2</th>\n",
       "      <th>product</th>\n",
       "    </tr>\n",
       "  </thead>\n",
       "  <tbody>\n",
       "    <tr>\n",
       "      <td>0</td>\n",
       "      <td>fwXo0</td>\n",
       "      <td>-1.146987</td>\n",
       "      <td>0.963328</td>\n",
       "      <td>-0.828965</td>\n",
       "      <td>27.758673</td>\n",
       "    </tr>\n",
       "    <tr>\n",
       "      <td>1</td>\n",
       "      <td>WJtFt</td>\n",
       "      <td>0.262778</td>\n",
       "      <td>0.269839</td>\n",
       "      <td>-2.530187</td>\n",
       "      <td>56.069697</td>\n",
       "    </tr>\n",
       "    <tr>\n",
       "      <td>2</td>\n",
       "      <td>ovLUW</td>\n",
       "      <td>0.194587</td>\n",
       "      <td>0.289035</td>\n",
       "      <td>-5.586433</td>\n",
       "      <td>62.871910</td>\n",
       "    </tr>\n",
       "  </tbody>\n",
       "</table>\n",
       "</div>"
      ],
      "text/plain": [
       "      id        f0        f1        f2    product\n",
       "0  fwXo0 -1.146987  0.963328 -0.828965  27.758673\n",
       "1  WJtFt  0.262778  0.269839 -2.530187  56.069697\n",
       "2  ovLUW  0.194587  0.289035 -5.586433  62.871910"
      ]
     },
     "execution_count": 6,
     "metadata": {},
     "output_type": "execute_result"
    }
   ],
   "source": [
    "data_region_2 = pd.read_csv('/datasets/geo_data_2.csv')\n",
    "data_region_2.name = 'data_region_2'\n",
    "\n",
    "data_region_2.head(3)"
   ]
  },
  {
   "cell_type": "code",
   "execution_count": 7,
   "metadata": {},
   "outputs": [
    {
     "name": "stdout",
     "output_type": "stream",
     "text": [
      "\u001b[1mdata_region_0\u001b[0m\n",
      "<class 'pandas.core.frame.DataFrame'>\n",
      "RangeIndex: 100000 entries, 0 to 99999\n",
      "Data columns (total 5 columns):\n",
      "id         100000 non-null object\n",
      "f0         100000 non-null float64\n",
      "f1         100000 non-null float64\n",
      "f2         100000 non-null float64\n",
      "product    100000 non-null float64\n",
      "dtypes: float64(4), object(1)\n",
      "memory usage: 3.8+ MB\n",
      "None\n",
      "\n",
      "\u001b[1mdata_region_1\u001b[0m\n",
      "<class 'pandas.core.frame.DataFrame'>\n",
      "RangeIndex: 100000 entries, 0 to 99999\n",
      "Data columns (total 5 columns):\n",
      "id         100000 non-null object\n",
      "f0         100000 non-null float64\n",
      "f1         100000 non-null float64\n",
      "f2         100000 non-null float64\n",
      "product    100000 non-null float64\n",
      "dtypes: float64(4), object(1)\n",
      "memory usage: 3.8+ MB\n",
      "None\n",
      "\n",
      "\u001b[1mdata_region_2\u001b[0m\n",
      "<class 'pandas.core.frame.DataFrame'>\n",
      "RangeIndex: 100000 entries, 0 to 99999\n",
      "Data columns (total 5 columns):\n",
      "id         100000 non-null object\n",
      "f0         100000 non-null float64\n",
      "f1         100000 non-null float64\n",
      "f2         100000 non-null float64\n",
      "product    100000 non-null float64\n",
      "dtypes: float64(4), object(1)\n",
      "memory usage: 3.8+ MB\n",
      "None\n",
      "\n"
     ]
    }
   ],
   "source": [
    "data_list = [data_region_0, data_region_1, data_region_2]\n",
    "\n",
    "\n",
    "def process_all_df(function_name, data_list):\n",
    "    for df in data_list:\n",
    "        print(\"\\033[1m\" + df.name + \"\\033[0m\" )\n",
    "        function_name(df)\n",
    "        print()\n",
    "        \n",
    "        \n",
    "def df_info(df):\n",
    "    return print(df.info())\n",
    "    \n",
    "\n",
    "process_all_df(df_info, data_list)"
   ]
  },
  {
   "cell_type": "markdown",
   "metadata": {},
   "source": [
    "Пропусков в таблицах нет. Все типы данных определились адекватно задаче."
   ]
  },
  {
   "cell_type": "markdown",
   "metadata": {},
   "source": [
    "#### Обработка дубликатов"
   ]
  },
  {
   "cell_type": "code",
   "execution_count": 8,
   "metadata": {},
   "outputs": [
    {
     "name": "stdout",
     "output_type": "stream",
     "text": [
      "\u001b[1mdata_region_0\u001b[0m\n",
      "0\n",
      "\n",
      "\u001b[1mdata_region_1\u001b[0m\n",
      "0\n",
      "\n",
      "\u001b[1mdata_region_2\u001b[0m\n",
      "0\n",
      "\n"
     ]
    }
   ],
   "source": [
    "def df_duplicated(df):\n",
    "    return print(df.duplicated().sum())\n",
    "    \n",
    "\n",
    "process_all_df(df_duplicated, data_list)"
   ]
  },
  {
   "cell_type": "markdown",
   "metadata": {},
   "source": [
    "Полных дубликатов нет. Посмотрим есть ли дубликаты-скважины:"
   ]
  },
  {
   "cell_type": "code",
   "execution_count": 9,
   "metadata": {},
   "outputs": [
    {
     "name": "stdout",
     "output_type": "stream",
     "text": [
      "\u001b[1mdata_region_0\u001b[0m\n",
      "10\n",
      "\n",
      "\u001b[1mdata_region_1\u001b[0m\n",
      "4\n",
      "\n",
      "\u001b[1mdata_region_2\u001b[0m\n",
      "4\n",
      "\n"
     ]
    }
   ],
   "source": [
    "def df_duplicated_id(df):\n",
    "    return print(df['id'].duplicated().sum())\n",
    "    \n",
    "\n",
    "process_all_df(df_duplicated_id, data_list)"
   ]
  },
  {
   "cell_type": "code",
   "execution_count": 10,
   "metadata": {},
   "outputs": [
    {
     "name": "stdout",
     "output_type": "stream",
     "text": [
      "\u001b[1mdata_region_0\u001b[0m\n",
      "          id        f0        f1         f2     product\n",
      "931    HZww2  0.755284  0.368511   1.863211   30.681774\n",
      "1364   bxg6G  0.411645  0.856830  -3.653440   73.604260\n",
      "1949   QcMuo  0.506563 -0.323775  -2.215583   75.496502\n",
      "3389   A5aEY -0.039949  0.156872   0.209861   89.249364\n",
      "7530   HZww2  1.061194 -0.373969  10.430210  158.828695\n",
      "16633  fiKDv  0.157341  1.028359   5.585586   95.817889\n",
      "21426  Tdehs  0.829407  0.298807  -0.049563   96.035308\n",
      "41724  bxg6G -0.823752  0.546319   3.630479   93.007798\n",
      "42529  AGS9W  1.454747 -0.479651   0.683380  126.370504\n",
      "51970  A5aEY -0.180335  0.935548  -2.094773   33.020205\n",
      "60140  TtcGQ  0.569276 -0.104876   6.440215   85.350186\n",
      "63593  QcMuo  0.635635 -0.473422   0.862670   64.578675\n",
      "64022  74z30  0.741456  0.459229   5.153109  140.771492\n",
      "66136  74z30  1.084962 -0.312358   6.990771  127.643327\n",
      "69163  AGS9W -0.933795  0.116194  -3.655896   19.230453\n",
      "75715  Tdehs  0.112079  0.430296   3.218993   60.964018\n",
      "89582  bsk9y  0.398908 -0.400253  10.122376  163.433078\n",
      "90815  fiKDv  0.049883  0.841313   6.394613  137.346586\n",
      "92341  TtcGQ  0.110711  1.022689   0.911381  101.318008\n",
      "97785  bsk9y  0.378429  0.005837   0.160827  160.637302\n",
      "\n",
      "\u001b[1mdata_region_1\u001b[0m\n",
      "          id         f0         f1        f2     product\n",
      "1305   LHZR0  11.170835  -1.945066  3.002872   80.859783\n",
      "2721   bfPNe  -9.494442  -5.463692  4.006042  110.992147\n",
      "5849   5ltQ6  -3.435401 -12.296043  1.999796   57.085625\n",
      "41906  LHZR0  -8.989672  -4.286607  2.009139   57.085625\n",
      "47591  wt4Uk  -9.091098  -8.109279 -0.002314    3.179103\n",
      "82178  bfPNe  -6.202799  -4.820045  2.995107   84.038886\n",
      "82873  wt4Uk  10.259972  -9.376355  4.994297  134.766305\n",
      "84461  5ltQ6  18.213839   2.191999  3.993869  107.813044\n",
      "\n",
      "\u001b[1mdata_region_2\u001b[0m\n",
      "          id        f0        f1        f2     product\n",
      "11449  VF7Jo  2.122656 -0.858275  5.746001  181.716817\n",
      "28039  xCHr8  1.633027  0.368135 -2.378367    6.120525\n",
      "43233  xCHr8 -0.847066  2.101796  5.597130  184.388641\n",
      "44378  Vcm5J -1.229484 -2.439204  1.222909  137.968290\n",
      "45404  KUPhW  0.231846 -1.698941  4.990775   11.716299\n",
      "49564  VF7Jo -0.883115  0.560537  0.723601  136.233420\n",
      "55967  KUPhW  1.211150  3.176408  5.543540  132.831802\n",
      "95090  Vcm5J  2.587702  1.986875  2.482245   92.327572\n",
      "\n"
     ]
    }
   ],
   "source": [
    "#выведем дублирующиеся строки\n",
    "def df_duplicated_id(df):\n",
    "    return print(df[df['id'].duplicated(keep=False) == True])\n",
    "    \n",
    "\n",
    "process_all_df(df_duplicated_id, data_list)"
   ]
  },
  {
   "cell_type": "markdown",
   "metadata": {},
   "source": [
    "Как видим, некоторые скважины появляются по 2 раза, при этом с разными признаками. Какой-либо временной связи в данных, упорядоченных изначальным способом, не наблюдается – количество продукта может как и расти, так и падать от наблюдения к наблюдению. \n",
    "\n",
    "Возможная причина появления дубликатов – были произведены повторные замеры признаков и старые данные по какой-либо причине не удалены. \n",
    "\n",
    "Так как мы не можем определить актуальные значения признаков, будем удалять обе записи о скважинах. Во-первых этим действием мы скореее всего улучшим качество нашей модели, во-вторых доля таких скважин очень мала, поэтому их удаление не должно сильно повлиять на конечный результат."
   ]
  },
  {
   "cell_type": "code",
   "execution_count": 11,
   "metadata": {},
   "outputs": [
    {
     "name": "stdout",
     "output_type": "stream",
     "text": [
      "\u001b[1mdata_region_0\u001b[0m\n",
      "\n",
      "\u001b[1mdata_region_1\u001b[0m\n",
      "\n",
      "\u001b[1mdata_region_2\u001b[0m\n",
      "\n"
     ]
    }
   ],
   "source": [
    "def df_drop_duplicated_id(df):\n",
    "    return df.drop_duplicates(subset=['id'], keep=False, inplace=True)\n",
    "\n",
    "process_all_df(df_drop_duplicated_id, data_list)"
   ]
  },
  {
   "cell_type": "markdown",
   "metadata": {},
   "source": [
    "Исследуем корреляцию признаков."
   ]
  },
  {
   "cell_type": "code",
   "execution_count": 12,
   "metadata": {},
   "outputs": [
    {
     "name": "stdout",
     "output_type": "stream",
     "text": [
      "\u001b[1mdata_region_0\u001b[0m\n",
      "          f0        f1        f2\n",
      "f0  1.000000 -0.440724 -0.003204\n",
      "f1 -0.440724  1.000000  0.001783\n",
      "f2 -0.003204  0.001783  1.000000\n",
      "\n",
      "\u001b[1mdata_region_1\u001b[0m\n",
      "          f0        f1        f2\n",
      "f0  1.000000  0.182263 -0.001821\n",
      "f1  0.182263  1.000000 -0.002608\n",
      "f2 -0.001821 -0.002608  1.000000\n",
      "\n",
      "\u001b[1mdata_region_2\u001b[0m\n",
      "          f0        f1        f2\n",
      "f0  1.000000  0.000501 -0.000454\n",
      "f1  0.000501  1.000000  0.000763\n",
      "f2 -0.000454  0.000763  1.000000\n",
      "\n"
     ]
    }
   ],
   "source": [
    "def corr_martix(df):\n",
    "    return print(df.loc[:, ['f0','f1','f2']].corr())\n",
    "\n",
    "process_all_df(corr_martix, data_list)"
   ]
  },
  {
   "cell_type": "code",
   "execution_count": 13,
   "metadata": {},
   "outputs": [
    {
     "name": "stdout",
     "output_type": "stream",
     "text": [
      "\u001b[1mdata_region_0\u001b[0m\n",
      "\n",
      "\u001b[1mdata_region_1\u001b[0m\n",
      "\n",
      "\u001b[1mdata_region_2\u001b[0m\n",
      "\n"
     ]
    },
    {
     "data": {
      "image/png": "[encoded data removed]",
      "text/plain": [
       "<Figure size 360x360 with 2 Axes>"
      ]
     },
     "metadata": {},
     "output_type": "display_data"
    },
    {
     "data": {
      "image/png": "[encoded data removed]",
      "text/plain": [
       "<Figure size 360x360 with 2 Axes>"
      ]
     },
     "metadata": {},
     "output_type": "display_data"
    },
    {
     "data": {
      "image/png": "[encoded data removed]",
      "text/plain": [
       "<Figure size 360x360 with 2 Axes>"
      ]
     },
     "metadata": {},
     "output_type": "display_data"
    }
   ],
   "source": [
    "def corr_martix_plot(df):\n",
    "    sns.set_theme(style=\"white\")\n",
    "\n",
    "    # Compute the correlation matrix\n",
    "    corr = df.loc[:, ['f0','f1','f2']].corr()\n",
    "\n",
    "    # Generate a mask for the upper triangle\n",
    "    mask = np.triu(np.ones_like(corr, dtype=bool))\n",
    "\n",
    "    # Set up the matplotlib figure\n",
    "    f, ax = plt.subplots(figsize=(5, 5))\n",
    "\n",
    "    # Generate a custom diverging colormap\n",
    "    cmap = sns.diverging_palette(230, 20, as_cmap=True)\n",
    "\n",
    "    # Draw the heatmap with the mask and correct aspect ratio\n",
    "    sns.heatmap(corr, mask=mask, cmap=cmap, center=0,\n",
    "                square=True, linewidths=.5, vmax = 0.3, cbar_kws={\"shrink\": .5})\n",
    "    plt.title(f'Корреляция признаков в {df.name}')\n",
    "\n",
    "process_all_df(corr_martix_plot, data_list)"
   ]
  },
  {
   "cell_type": "markdown",
   "metadata": {},
   "source": [
    "Матрицы корреляции показывают, что в регионе 0 наблюдается отрицательная зависимость признака f0 и f1 на уровне -0.44.\n",
    "При построении модели в этом регионе попробуем убрать один из этих признаков."
   ]
  },
  {
   "cell_type": "markdown",
   "metadata": {},
   "source": [
    "Перед дальнейшим анализом посмотрим на распределение целевого признака в регионах:"
   ]
  },
  {
   "cell_type": "code",
   "execution_count": 14,
   "metadata": {},
   "outputs": [
    {
     "data": {
      "text/plain": [
       "<matplotlib.axes._subplots.AxesSubplot at 0x7f3877150cd0>"
      ]
     },
     "execution_count": 14,
     "metadata": {},
     "output_type": "execute_result"
    },
    {
     "data": {
      "image/png": "[encoded data removed]",
      "text/plain": [
       "<Figure size 432x288 with 1 Axes>"
      ]
     },
     "metadata": {},
     "output_type": "display_data"
    }
   ],
   "source": [
    "data_region_0['product'].hist(bins=100)"
   ]
  },
  {
   "cell_type": "code",
   "execution_count": 15,
   "metadata": {},
   "outputs": [
    {
     "data": {
      "text/plain": [
       "<matplotlib.axes._subplots.AxesSubplot at 0x7f38771ca3d0>"
      ]
     },
     "execution_count": 15,
     "metadata": {},
     "output_type": "execute_result"
    },
    {
     "data": {
      "image/png": "[encoded data removed]",
      "text/plain": [
       "<Figure size 432x288 with 1 Axes>"
      ]
     },
     "metadata": {},
     "output_type": "display_data"
    }
   ],
   "source": [
    "data_region_1['product'].hist(bins=100)"
   ]
  },
  {
   "cell_type": "markdown",
   "metadata": {},
   "source": [
    "Скорее всего мы наблюдаем такое распределение поскольку данные синтетические. В реальности такое распределение означало бы что мы просто много раз замерили значения в маленьком наборе скважин – в нашем случае в 12-и. "
   ]
  },
  {
   "cell_type": "code",
   "execution_count": 16,
   "metadata": {},
   "outputs": [
    {
     "data": {
      "text/plain": [
       "<matplotlib.axes._subplots.AxesSubplot at 0x7f3877339e10>"
      ]
     },
     "execution_count": 16,
     "metadata": {},
     "output_type": "execute_result"
    },
    {
     "data": {
      "image/png": "[encoded data removed]",
      "text/plain": [
       "<Figure size 432x288 with 1 Axes>"
      ]
     },
     "metadata": {},
     "output_type": "display_data"
    }
   ],
   "source": [
    "data_region_2['product'].hist(bins=100)"
   ]
  },
  {
   "cell_type": "markdown",
   "metadata": {},
   "source": [
    "### Вывод"
   ]
  },
  {
   "cell_type": "markdown",
   "metadata": {},
   "source": [
    "На данном этапе мы загрузили, проверили и обработали данные для дальнейшей работы с ними.\n",
    "\n",
    "1. Проверили пропуски в таблицах. \n",
    "2. Проверили типы данных – все типы определились адекватно задаче.\n",
    "\n",
    "3. Обработали дубликаты скважин.  \n",
    "    Некоторые скважины появляются по 2 раза, при этом с разными признаками. Какой-либо временной связи в упорядоченных изначальным способом не наблюдается – количество продукта может как и расти, так и падать от наблюдения к наблюдению.  \n",
    "    <ins>Возможная причина появления дубликатов</ins> – были произведены повторные замеры признаков и старые данные по какой-либо причине не были удалены.  \n",
    "    Так как мы не можем определить актуальные значения признаков, мы удаляли обе записи о скважинах. \n",
    "\n",
    "4. Исследовали корреляцию признаков.\n",
    "Матрицы корреляции показывают, что в регионе 0 наблюдается отрицательная зависимость признака f0 и f1 на уровне -0.44. При построении модели в этом регионе попробуем убрать один из этих признаков."
   ]
  },
  {
   "cell_type": "markdown",
   "metadata": {},
   "source": [
    "## 2. Обучение и проверка модели"
   ]
  },
  {
   "cell_type": "markdown",
   "metadata": {},
   "source": [
    "Для обучения модели и её валидации нам необходимы два типа выборок: обучающая и валидационная. Исходные данные будем разбивать в соотношении 75:25."
   ]
  },
  {
   "cell_type": "markdown",
   "metadata": {},
   "source": [
    "Обычно перед обучением лейной модели используется нормализация признаков для придания им одинакового веса, однако в модели `LinearRegression` из библиотеки `scikit-learn` уже встроен инструмент, позволяющий нормализовать признаки, поэтому будем пользоваться им."
   ]
  },
  {
   "cell_type": "code",
   "execution_count": 17,
   "metadata": {},
   "outputs": [],
   "source": [
    "def full_model(data):\n",
    "    #разделим признаки\n",
    "    features = data.drop(['id', 'product'], axis = 1)\n",
    "    target = data['product']\n",
    "    \n",
    "    #разделим выборки\n",
    "    features_train, features_valid, target_train, target_valid = train_test_split(features, \n",
    "                                                                              target, \n",
    "                                                                              test_size=0.25, \n",
    "                                                                              #stratify=target, \n",
    "                                                                              random_state=RS)\n",
    "\n",
    "    #инициируем модель\n",
    "    model = LinearRegression(fit_intercept=True, normalize=False, copy_X=True, n_jobs=-1, positive=False)\n",
    "    model.fit(features_train, target_train)\n",
    "    predictions = model.predict(features_valid)\n",
    "    predictions_series = pd.Series(data = predictions, index = features_valid.index)\n",
    "    \n",
    "    model_rmse = mse(target_valid, predictions) ** 0.5\n",
    "    mean_product_predicted = predictions.mean()\n",
    "    model_mae = mae(target_valid, predictions)\n",
    "    \n",
    "\n",
    "    try:\n",
    "        print(\"\\033[1m\" + data.name + \"\\033[0m\" )\n",
    "    except AttributeError:\n",
    "        print(\"Измененная таблица\")\n",
    "        \n",
    "    finally:\n",
    "        print('Средний запас предсказанного сырья: {:.4f}'.format(mean_product_predicted))\n",
    "        print('RMSE модели: {:.4f}'.format(model_rmse))\n",
    "        print('MAE модели: {:.4f}'.format(model_mae))\n",
    "        return predictions_series, target_valid"
   ]
  },
  {
   "cell_type": "markdown",
   "metadata": {},
   "source": [
    "Поскольку у нас только 2 логических гиперпараметра: `fit_intercept` и `normalize`, они переберались вручную. Наилучшие результаты были получены при центрировании прямых через `fit_intercept=True` (когда True, параметр `normalize` не используется). "
   ]
  },
  {
   "cell_type": "markdown",
   "metadata": {},
   "source": [
    "При вызове модели также будем сохранять предсказания модели и реальные значения признаков в соответствующие переменные."
   ]
  },
  {
   "cell_type": "code",
   "execution_count": 18,
   "metadata": {},
   "outputs": [
    {
     "name": "stdout",
     "output_type": "stream",
     "text": [
      "\u001b[1mdata_region_0\u001b[0m\n",
      "Средний запас предсказанного сырья: 92.5731\n",
      "RMSE модели: 37.7414\n",
      "MAE модели: 31.0814\n"
     ]
    }
   ],
   "source": [
    "#построим модель по всем признакам:\n",
    "data_region_0_predict, data_region_0_target_valid = full_model(data_region_0)"
   ]
  },
  {
   "cell_type": "code",
   "execution_count": 19,
   "metadata": {},
   "outputs": [
    {
     "name": "stdout",
     "output_type": "stream",
     "text": [
      "Измененная таблица\n",
      "Средний запас предсказанного сырья: 92.5160\n",
      "RMSE модели: 38.2898\n",
      "MAE модели: 31.4715\n"
     ]
    }
   ],
   "source": [
    "#уберем 1-й признак\n",
    "data_region_0_predict, data_region_0_target_valid = full_model(data_region_0.drop('f1', axis = 1))"
   ]
  },
  {
   "cell_type": "code",
   "execution_count": 20,
   "metadata": {},
   "outputs": [
    {
     "name": "stdout",
     "output_type": "stream",
     "text": [
      "Измененная таблица\n",
      "Средний запас предсказанного сырья: 92.6012\n",
      "RMSE модели: 37.8541\n",
      "MAE модели: 31.1646\n"
     ]
    }
   ],
   "source": [
    "#уберем 0-й признак\n",
    "data_region_0_predict, data_region_0_target_valid = full_model(data_region_0.drop('f0', axis = 1))"
   ]
  },
  {
   "cell_type": "markdown",
   "metadata": {},
   "source": [
    "При удалении одного из признаков модель начинает предсказывать хуже. \n",
    "\n",
    "Мы наблюдали корреляцию признаков на уровне -0.44, это граничное значение. Нам кажется, что в задаче с высоким риском, когда предсказание можно сделать только один раз, лучше избавиться от одного из таких признаков для того, чтобы минимизировать случайность в наших будущих предсказаниях.\n",
    "\n",
    "Удалять будем признак f0 – без него мы получили более высокую точность на валидаиционной выборке чем без f1. "
   ]
  },
  {
   "cell_type": "code",
   "execution_count": 21,
   "metadata": {},
   "outputs": [
    {
     "name": "stdout",
     "output_type": "stream",
     "text": [
      "\u001b[1mdata_region_1\u001b[0m\n",
      "Средний запас предсказанного сырья: 68.9174\n",
      "RMSE модели: 0.8922\n",
      "MAE модели: 0.7201\n"
     ]
    }
   ],
   "source": [
    "data_region_1_predict, data_region_1_target_valid = full_model(data_region_1)"
   ]
  },
  {
   "cell_type": "code",
   "execution_count": 22,
   "metadata": {},
   "outputs": [
    {
     "name": "stdout",
     "output_type": "stream",
     "text": [
      "\u001b[1mdata_region_2\u001b[0m\n",
      "Средний запас предсказанного сырья: 95.1765\n",
      "RMSE модели: 40.0905\n",
      "MAE модели: 32.8385\n"
     ]
    }
   ],
   "source": [
    "data_region_2_predict, data_region_2_target_valid = full_model(data_region_2)"
   ]
  },
  {
   "cell_type": "markdown",
   "metadata": {},
   "source": [
    "### Вывод"
   ]
  },
  {
   "cell_type": "markdown",
   "metadata": {},
   "source": [
    "На данном этапе мы:  \n",
    "Выбрали наилучшую модель, предсказывающую количество продукта в скважине.  \n",
    "Предсказали средний запас сырья для каждого региона.\n",
    "\n",
    "После анализа для региона 0 было решено исключить признак f0.\n",
    "\n",
    "Результаты предсказаний модели:\n",
    "\n",
    "Регион | Средний запас предсказанного сырья | RMSE | MAE модели\n",
    ":---|---|---|---\n",
    "region_0 | 92.6012 | 37.8541 | 31.1646\n",
    "region_1 | 68.9174 | 0.8922 | 0.7201\n",
    "region_2 | 95.1765 | 40.0905 | 32.8385"
   ]
  },
  {
   "cell_type": "markdown",
   "metadata": {},
   "source": [
    "## 3. Подготовка к расчёту прибыли"
   ]
  },
  {
   "cell_type": "markdown",
   "metadata": {},
   "source": [
    "###  Создание переменных с ключевыми значениями."
   ]
  },
  {
   "cell_type": "code",
   "execution_count": 23,
   "metadata": {},
   "outputs": [],
   "source": [
    "#При разведке региона исследуют 500 точек, из которых с помощью машинного обучения выбирают 200 лучших для разработки.\n",
    "ALL_WELLS = 500 \n",
    "N_WELLS = 200\n",
    "\n",
    "#Бюджет на разработку скважин в регионе — 10 млрд рублей\n",
    "BUDGET = 10_000_000_000\n",
    "\n",
    "#Доход с каждой единицы продукта составляет 450 тыс. рублей, поскольку объём указан в тысячах баррелей.\n",
    "PROFIT_PER_UNIT = 450_000\n",
    "\n",
    "#После оценки рисков нужно оставить лишь те регионы, в которых вероятность убытков меньше 2.5%.\n",
    "LOSS_TRESHOLD = 0.025"
   ]
  },
  {
   "cell_type": "markdown",
   "metadata": {},
   "source": [
    "### Рассчёт достаточного объёма сырья для безубыточной разработки новой скважины. Сравнение полученного объёма сырья со средним запасом в каждом регионе."
   ]
  },
  {
   "cell_type": "markdown",
   "metadata": {},
   "source": [
    "Мы хотим чтобы доход со скважины был больше чем выделенный на нее бюджет:\n",
    "\n",
    "Формула для одной скважины:\n",
    "\n",
    "`Бюджет на скважину <= Количество продукта в скважине * Доход с единицы продукта`"
   ]
  },
  {
   "cell_type": "code",
   "execution_count": 24,
   "metadata": {},
   "outputs": [
    {
     "name": "stdout",
     "output_type": "stream",
     "text": [
      "Бюджет на скважину, руб.:  50000000.0\n",
      "Минимальное среднее количество продукта в скважине: 111.11\n"
     ]
    }
   ],
   "source": [
    "budget_per_well = BUDGET / N_WELLS\n",
    "print('Бюджет на скважину, руб.: ', budget_per_well) \n",
    "\n",
    "product_min_value = budget_per_well / PROFIT_PER_UNIT\n",
    "print('Минимальное среднее количество продукта в скважине: {:.2f}'.format(product_min_value))"
   ]
  },
  {
   "cell_type": "markdown",
   "metadata": {},
   "source": [
    "Мы получили что в среднем в скважине должно быть как минимум 111.11 единиц продукта.\n",
    "Сравним полученный объём сырья со средним запасом в каждом регионе:\n",
    "\n",
    "Регион | Средний запас сырья | MAE модели\n",
    ":---|---|---\n",
    "region_0 | 92.6012 | 31.1646\n",
    "region_1 | 68.9174 | 0.7201\n",
    "region_2 | 95.1765 | 32.8385\n",
    "\n",
    "Как становится видно, средний запас сырья не составляет 111 ни в одном из регионов. Однако так как мы будем брать топ 200 скважин из 500, вполне возможно что один из регионов подойдет для разработки."
   ]
  },
  {
   "cell_type": "markdown",
   "metadata": {},
   "source": [
    "### Выводы по этапу подготовки расчёта прибыли."
   ]
  },
  {
   "cell_type": "markdown",
   "metadata": {},
   "source": [
    "Бюджет на скважину, руб.: 50000000  \n",
    "Минимальное среднее количество продукта в скважине: 111.11\n",
    "\n",
    "Мы получили, что в среднем в скважине должно быть как минимум 111.11 единиц продукта.\n",
    "Средний запас сырья не составляет 111 ни в одном из регионов. Однако так как мы будем брать топ 200 скважин из 500, вполне возможно что один из регионов подойдет для разработки."
   ]
  },
  {
   "cell_type": "markdown",
   "metadata": {},
   "source": [
    "## 4. Функция для расчёта прибыли"
   ]
  },
  {
   "cell_type": "code",
   "execution_count": 25,
   "metadata": {},
   "outputs": [],
   "source": [
    "def predicted_profit_for_n_wells(target, predictions, n_wells):\n",
    "    #выбор n скважин с максимальными значениями предсказаний\n",
    "    chosen_wells = predictions.sort_values(ascending = False).head(n_wells)\n",
    "    real_product_in_chosen_wells = target[chosen_wells.index]\n",
    "    \n",
    "    #расчет суммарного целевого значения объёма сырья\n",
    "    summ_product = real_product_in_chosen_wells.sum()\n",
    "    \n",
    "    #чистая прибыль для полученного объёма сырья\n",
    "    summ_profit = (summ_product * PROFIT_PER_UNIT) - BUDGET\n",
    "    return summ_profit"
   ]
  },
  {
   "cell_type": "markdown",
   "metadata": {},
   "source": [
    "## 5. Риски и прибыль для каждого региона"
   ]
  },
  {
   "cell_type": "markdown",
   "metadata": {},
   "source": [
    "### Поиск распределения прибыли техникой Bootstrap с 1000 выборок."
   ]
  },
  {
   "cell_type": "markdown",
   "metadata": {},
   "source": [
    "Для проверки нашей модели будем использовать технику Bootstrap с 1000 выборок.\n",
    "Как это будет выглядеть:\n",
    "1. 1000 раз модель отобрёт 200 самых прибыльных скважин из случайных 500 \n",
    "2. Для каждой выборки мы посчитаем реальную прибыль\n",
    "3. Для полученных значений мы найдем среднее, доверительный интервал и риски."
   ]
  },
  {
   "cell_type": "code",
   "execution_count": 26,
   "metadata": {},
   "outputs": [],
   "source": [
    "state = np.random.RandomState(RS)\n",
    "\n",
    "def bootstrap_k_times(predictions, target, k):\n",
    "    values = []\n",
    "    for i in tqdm(range(k)):\n",
    "        target_subsample = target.sample(n = ALL_WELLS, replace = True, random_state = state)\n",
    "        probs_subsample = predictions[target_subsample.index]\n",
    "\n",
    "        values.append(predicted_profit_for_n_wells(target_subsample, probs_subsample, N_WELLS))\n",
    "        \n",
    "    values = pd.Series(values)\n",
    "    return values\n"
   ]
  },
  {
   "cell_type": "code",
   "execution_count": 27,
   "metadata": {},
   "outputs": [
    {
     "name": "stderr",
     "output_type": "stream",
     "text": [
      "100%|██████████| 1000/1000 [00:04<00:00, 200.47it/s]\n",
      "100%|██████████| 1000/1000 [00:05<00:00, 195.68it/s]\n",
      "100%|██████████| 1000/1000 [00:05<00:00, 175.03it/s]\n"
     ]
    }
   ],
   "source": [
    "profit_values_reg_0 = bootstrap_k_times(data_region_0_predict, data_region_0_target_valid, 1000)\n",
    "profit_values_reg_1 = bootstrap_k_times(data_region_1_predict, data_region_1_target_valid, 1000)\n",
    "profit_values_reg_2 = bootstrap_k_times(data_region_2_predict, data_region_2_target_valid, 1000)"
   ]
  },
  {
   "cell_type": "code",
   "execution_count": 28,
   "metadata": {},
   "outputs": [
    {
     "data": {
      "text/plain": [
       "0   171,850,201.88\n",
       "1   868,354,287.78\n",
       "2   460,678,339.59\n",
       "3   844,481,563.26\n",
       "4   624,365,217.91\n",
       "dtype: float64"
      ]
     },
     "execution_count": 28,
     "metadata": {},
     "output_type": "execute_result"
    }
   ],
   "source": [
    "pd.options.display.float_format = '{:,.2f}'.format\n",
    "profit_values_reg_0.head()"
   ]
  },
  {
   "cell_type": "markdown",
   "metadata": {},
   "source": [
    "### Средняя прибыль, 95%-й доверительный интервал и риск убытков."
   ]
  },
  {
   "cell_type": "markdown",
   "metadata": {},
   "source": [
    "#### Регион 0"
   ]
  },
  {
   "cell_type": "code",
   "execution_count": 29,
   "metadata": {},
   "outputs": [
    {
     "data": {
      "text/plain": [
       "Text(0.5, 1.0, 'Распределение предсказаний прибыли в регионе')"
      ]
     },
     "execution_count": 29,
     "metadata": {},
     "output_type": "execute_result"
    },
    {
     "data": {
      "image/png": "[encoded data removed]",
      "text/plain": [
       "<Figure size 432x288 with 1 Axes>"
      ]
     },
     "metadata": {},
     "output_type": "display_data"
    }
   ],
   "source": [
    "profit_values_reg_0.hist(bins=100)\n",
    "plt.title('Распределение предсказаний прибыли в регионе')"
   ]
  },
  {
   "cell_type": "code",
   "execution_count": 30,
   "metadata": {},
   "outputs": [
    {
     "name": "stdout",
     "output_type": "stream",
     "text": [
      "Средняя прибыль для региона: 643117581.33 руб.\n"
     ]
    }
   ],
   "source": [
    "def mean_profit(profit_values):\n",
    "    print('Средняя прибыль для региона: {:.2f} руб.'.format(profit_values.mean()))\n",
    "    \n",
    "mean_profit(profit_values_reg_0)"
   ]
  },
  {
   "cell_type": "markdown",
   "metadata": {},
   "source": [
    "Найдем 95%-й доверительный интервал:"
   ]
  },
  {
   "cell_type": "code",
   "execution_count": 31,
   "metadata": {},
   "outputs": [
    {
     "name": "stdout",
     "output_type": "stream",
     "text": [
      "Нижняя граница: 8353161.01 руб.\n",
      "Верхняя граница: 1286166993.35 руб.\n"
     ]
    }
   ],
   "source": [
    "def confidence_interval(profit_values):\n",
    "    lower = profit_values.quantile(0.025)\n",
    "    upper = profit_values.quantile(0.975)\n",
    "\n",
    "    print('Нижняя граница: {:.2f} руб.'.format(lower))\n",
    "    print('Верхняя граница: {:.2f} руб.'.format(upper))\n",
    "    \n",
    "confidence_interval(profit_values_reg_0)"
   ]
  },
  {
   "cell_type": "markdown",
   "metadata": {},
   "source": [
    "Риск убытков. Убыток — это отрицательная прибыль."
   ]
  },
  {
   "cell_type": "code",
   "execution_count": 32,
   "metadata": {},
   "outputs": [
    {
     "name": "stdout",
     "output_type": "stream",
     "text": [
      "Риск убытков: 2.40%\n"
     ]
    }
   ],
   "source": [
    "def loss_count(profit_values):   \n",
    "    losses = profit_values.pipe(lambda x: x[x<0])\n",
    "    losses_amount = losses.count()\n",
    "    all_values = profit_values.count()\n",
    "\n",
    "    chance_of_loss = losses_amount / all_values\n",
    "    print('Риск убытков: {:.2%}'.format(chance_of_loss))\n",
    "\n",
    "loss_count(profit_values_reg_0)"
   ]
  },
  {
   "cell_type": "markdown",
   "metadata": {},
   "source": [
    "Таким образом для **региона 0**:  \n",
    "Средняя прибыль для региона: 643 117 581 руб.\n",
    "\n",
    "Найдем 95%-й доверительный интервал:\n",
    "Нижняя граница: 8 353 161 руб.\n",
    "Верхняя граница: 1 286 166 993 руб.\n",
    "\n",
    "Риск убытков: 2.40%"
   ]
  },
  {
   "cell_type": "markdown",
   "metadata": {},
   "source": [
    "#### Регион 1"
   ]
  },
  {
   "cell_type": "code",
   "execution_count": 33,
   "metadata": {},
   "outputs": [
    {
     "data": {
      "text/plain": [
       "Text(0.5, 1.0, 'Распределение предсказаний прибыли в регионе')"
      ]
     },
     "execution_count": 33,
     "metadata": {},
     "output_type": "execute_result"
    },
    {
     "data": {
      "image/png": "[encoded data removed]",
      "text/plain": [
       "<Figure size 432x288 with 1 Axes>"
      ]
     },
     "metadata": {},
     "output_type": "display_data"
    }
   ],
   "source": [
    "profit_values_reg_1.hist(bins=100)\n",
    "plt.title('Распределение предсказаний прибыли в регионе')"
   ]
  },
  {
   "cell_type": "markdown",
   "metadata": {},
   "source": [
    "Найдем среднюю прибыль для региона, 95%-й доверительный интервал и риск убытков:"
   ]
  },
  {
   "cell_type": "code",
   "execution_count": 34,
   "metadata": {},
   "outputs": [
    {
     "name": "stdout",
     "output_type": "stream",
     "text": [
      "Средняя прибыль для региона: 657662257.35 руб.\n",
      "Нижняя граница: 170958701.53 руб.\n",
      "Верхняя граница: 1191199239.74 руб.\n",
      "Риск убытков: 0.20%\n"
     ]
    }
   ],
   "source": [
    "mean_profit(profit_values_reg_1)\n",
    "confidence_interval(profit_values_reg_1)\n",
    "loss_count(profit_values_reg_1)"
   ]
  },
  {
   "cell_type": "markdown",
   "metadata": {},
   "source": [
    "#### Регион 2"
   ]
  },
  {
   "cell_type": "code",
   "execution_count": 35,
   "metadata": {},
   "outputs": [
    {
     "data": {
      "text/plain": [
       "Text(0.5, 1.0, 'Распределение предсказаний прибыли в регионе')"
      ]
     },
     "execution_count": 35,
     "metadata": {},
     "output_type": "execute_result"
    },
    {
     "data": {
      "image/png": "[encoded data removed]",
      "text/plain": [
       "<Figure size 432x288 with 1 Axes>"
      ]
     },
     "metadata": {},
     "output_type": "display_data"
    }
   ],
   "source": [
    "profit_values_reg_2.hist(bins=100)\n",
    "plt.title('Распределение предсказаний прибыли в регионе')"
   ]
  },
  {
   "cell_type": "code",
   "execution_count": 36,
   "metadata": {},
   "outputs": [
    {
     "name": "stdout",
     "output_type": "stream",
     "text": [
      "Средняя прибыль для региона: 614662404.41 руб.\n",
      "Нижняя граница: 32413225.09 руб.\n",
      "Верхняя граница: 1277386124.57 руб.\n",
      "Риск убытков: 2.00%\n"
     ]
    }
   ],
   "source": [
    "mean_profit(profit_values_reg_2)\n",
    "confidence_interval(profit_values_reg_2)\n",
    "loss_count(profit_values_reg_2)"
   ]
  },
  {
   "cell_type": "markdown",
   "metadata": {},
   "source": [
    "### Выводы: выбор региона для разработки скважин и его обоснование."
   ]
  },
  {
   "cell_type": "markdown",
   "metadata": {},
   "source": [
    "Согласно поставленной задаче, после оценки рисков необходимо оставить лишь те регионы, в которых вероятность убытков меньше 2.5%. Среди них выбириается регион с наибольшей средней прибылью."
   ]
  },
  {
   "cell_type": "markdown",
   "metadata": {},
   "source": [
    "Оценка рисков в регионах показала, что при использовании модели вероятность убытков меньше 2.5% во всех регионах. \n",
    "Из них самая высокая средняя прибыль предсказана в регионе 1. \n",
    "\n",
    "<ins>Статистика по региону 1:</ins>  \n",
    "\n",
    "Средняя прибыль для региона: 657 662 257 руб.\n",
    "\n",
    "95%-й доверительный интервал:   \n",
    "Нижняя граница: 170 958 701.53 руб.  \n",
    "Верхняя граница: 1 191 199 239 руб.\n",
    "\n",
    "Риск убытков: 0.20%\n",
    "\n",
    "Таким образом, рекомендованный для разработки регион: **Регион 1.**"
   ]
  },
  {
   "cell_type": "markdown",
   "metadata": {},
   "source": [
    "## Общий вывод"
   ]
  },
  {
   "cell_type": "markdown",
   "metadata": {},
   "source": [
    "**1.** На первом шаге мы загрузили, проверили и обработали данные для дальнейшей работы с ними.\n",
    "\n",
    "    1). Проверили пропуски в таблицах. \n",
    "    2). Проверили типы данных.\n",
    "    3). Обработали дубликаты скважин.  \n",
    "    Возможная причина появления дубликатов – были произведены повторные замеры признаков и старые данные по какой-либо причине не были удалены.  \n",
    "    Так как мы не можем определить актуальные значения признаков, мы удаляли обе записи о скважинах. \n",
    "    4). Исследовали корреляцию признаков.\n",
    "    В регионе 0 наблюдается отрицательная зависимость признаков \"f0\" и \"f1\" на уровне -0.44. При построении модели в этом регионе мы учли эту корреляцию."
   ]
  },
  {
   "cell_type": "markdown",
   "metadata": {},
   "source": [
    "**2.** На втором шаге мы выбрали наилучшую модель, предсказывающую количество продукта в скважине, а также предсказали средний запас сырья для каждого региона.\n",
    "\n",
    "Результаты предсказаний модели:\n",
    "\n",
    "Регион | Средний запас предсказанного сырья | RMSE | MAE модели\n",
    ":---|---|---|---\n",
    "Регион 0 | 92.6012 | 37.8541 | 31.1646\n",
    "Регион 1 | 68.9174 | 0.8922 | 0.7201\n",
    "Регион 2 | 95.1765 | 40.0905 | 32.8385"
   ]
  },
  {
   "cell_type": "markdown",
   "metadata": {},
   "source": [
    "**3.** Далее мы провели подготовку к расчёту прибыли. \n",
    "\n",
    "Создали переменные с ключевыми значениями и составили формулу прибыльности для одной скважины:\n",
    "\n",
    "`Бюджет на скважину <= Количество продукта в скважине * Доход с единицы продукта`\n",
    "\n",
    "Мы получили, что в среднем в скважине должно быть как минимум 111 единиц продукта, бюджет на одну скважину составил 50 000 000 руб. Средний запас сырья не составлял 111 единиц ни в одном из регионов. Но поскольку мы будем брать 200 лучших скважин из 500, мы продолжили наши расчёты."
   ]
  },
  {
   "cell_type": "markdown",
   "metadata": {},
   "source": [
    "**4.** После мы написали функцию для расчёта прибыли по выбранным скважинам и предсказаниям модели."
   ]
  },
  {
   "cell_type": "markdown",
   "metadata": {},
   "source": [
    "**5.** На последнем этапе были подсчитаны риски и прибыль для каждого региона.\n",
    "\n",
    "Для этого мы построили распределение прибыли техникой Bootstrap с 1000 выборок по предсказаниям нашей модели.\n",
    "\n",
    "1. 1000 раз модель отобрала 200 самых прибыльных скважин из случайных 500; \n",
    "2. Для каждого набора была расчитана суммарная прибыль;\n",
    "3. Для полученного распределения значений прибыли мы нашли среднее, 95%-й доверительный интервал и риски.\n",
    "\n",
    "Оценка рисков в регионах показала, что при использовании модели вероятность убытков меньше 2.5% во всех регионах. \n",
    "Из них самая высокая средняя прибыль предсказана в регионе 1. \n",
    "\n",
    "<ins>Статистика по региону 1:</ins>  \n",
    "\n",
    "Средняя прибыль для региона: 657 662 257 руб.\n",
    "\n",
    "95%-й доверительный интервал:   \n",
    "Нижняя граница: 170 958 701.53 руб.  \n",
    "Верхняя граница: 1 191 199 239 руб.\n",
    "\n",
    "Риск убытков: 0.20%\n",
    "\n",
    "Таким образом был выбран рекомендованный для разработки регион: **Регион 1.**"
   ]
  },
  {
   "cell_type": "code",
   "execution_count": null,
   "metadata": {},
   "outputs": [],
   "source": []
  }
 ],
 "metadata": {
  "kernelspec": {
   "display_name": "Python 3",
   "language": "python",
   "name": "python3"
  },
  "language_info": {
   "codemirror_mode": {
    "name": "ipython",
    "version": 3
   },
   "file_extension": ".py",
   "mimetype": "text/x-python",
   "name": "python",
   "nbconvert_exporter": "python",
   "pygments_lexer": "ipython3",
   "version": "3.7.8"
  },
  "toc": {
   "base_numbering": 1,
   "nav_menu": {},
   "number_sections": false,
   "sideBar": true,
   "skip_h1_title": true,
   "title_cell": "Table of Contents",
   "title_sidebar": "Contents",
   "toc_cell": false,
   "toc_position": {},
   "toc_section_display": true,
   "toc_window_display": false
  }
 },
 "nbformat": 4,
 "nbformat_minor": 2
}
