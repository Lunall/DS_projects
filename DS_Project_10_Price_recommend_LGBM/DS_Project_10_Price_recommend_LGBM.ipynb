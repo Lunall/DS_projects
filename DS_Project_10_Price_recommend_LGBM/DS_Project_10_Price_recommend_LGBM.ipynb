{
 "cells": [
  {
   "cell_type": "markdown",
   "metadata": {},
   "source": [
    "# Определение стоимости автомобилей"
   ]
  },
  {
   "cell_type": "markdown",
   "metadata": {},
   "source": [
    "### Вводная <a class=\"tocSkip\">\n",
    "\n",
    "Платформа по продаже автомобилей \"AB-и-ТО\" хочет дать возможнсть своим клиентам быстро узнать рыночную стоимость своего автомобиля. Для построения модели вам предоставили датасет объявлений, который содержит информацию о технических характеристиках, датах активности пользователя и ценах на автомобили.  \n",
    "\n",
    "При выборе модели необходимо рассмотреть:\n",
    "\n",
    "- качество предсказания;\n",
    "- скорость предсказания;\n",
    "- время обучения."
   ]
  },
  {
   "cell_type": "markdown",
   "metadata": {},
   "source": [
    "### Цель <a class=\"tocSkip\">\n",
    "    Построить модель для определения рыночной стоимости автомобиля по его признакам."
   ]
  },
  {
   "cell_type": "markdown",
   "metadata": {},
   "source": [
    "### Описание данных <a class=\"tocSkip\">\n",
    "\n",
    "Данные находятся в файле /datasets/autos.csv.\n",
    "\n",
    "    DateCrawled — дата скачивания анкеты из базы\n",
    "    VehicleType — тип автомобильного кузова\n",
    "    RegistrationYear — год регистрации автомобиля\n",
    "    Gearbox — тип коробки передач\n",
    "    Power — мощность (л. с.)\n",
    "    Model — модель автомобиля\n",
    "    Kilometer — пробег (км)\n",
    "    RegistrationMonth — месяц регистрации автомобиля\n",
    "    FuelType — тип топлива\n",
    "    Brand — марка автомобиля\n",
    "    NotRepaired — была машина в ремонте или нет\n",
    "    DateCreated — дата создания анкеты\n",
    "    NumberOfPictures — количество фотографий автомобиля\n",
    "    PostalCode — почтовый индекс владельца анкеты (пользователя)\n",
    "    LastSeen — дата последней активности пользователя\n",
    "  Целевой признак\n",
    "  \n",
    "    Price — цена (евро)"
   ]
  },
  {
   "cell_type": "markdown",
   "metadata": {},
   "source": [
    "### План <a class=\"tocSkip\">\n",
    "\n",
    "    \n",
    "    1. Подготовка данных  \n",
    "         1.1. Загрузка файлов и получение информации.  \n",
    "         1.2. Предобработка данных.  \n",
    "    2. Исследовательский анализ данных  \n",
    "         2.1. Распределения признаков. Оценка аномальных значений.\n",
    "         2.2. Оценка корреляции признаков.\n",
    "    3. Построение моделей  \n",
    "         3.1. Выбор метрики для оценки качества моделей.  \n",
    "         3.2. Обучение моделей и оценка их качества кросс-валидацией. \n",
    "    4. Анализ моделей \n",
    "         4.1. Проверка лучшей модели на тестовой выборке.\n",
    "         4.2. Проверка лучшей модели на адеватность.\n",
    "         4.3. Сравнение характеристик моделей: скорость работы и качество предсказаний.\n",
    "    5. Общий вывод   "
   ]
  },
  {
   "cell_type": "markdown",
   "metadata": {},
   "source": [
    "## 0. Установка библиотек <a class=\"tocSkip\">"
   ]
  },
  {
   "cell_type": "code",
   "execution_count": 2,
   "metadata": {
    "scrolled": true
   },
   "outputs": [
    {
     "name": "stdout",
     "output_type": "stream",
     "text": [
      "Defaulting to user installation because normal site-packages is not writeable\n",
      "Requirement already up-to-date: ipykernel in /home/jovyan/.local/lib/python3.7/site-packages (5.5.5)\n",
      "Requirement already satisfied, skipping upgrade: ipython>=5.0.0 in /opt/conda/lib/python3.7/site-packages (from ipykernel) (7.20.0)\n",
      "Requirement already satisfied, skipping upgrade: traitlets>=4.1.0 in /opt/conda/lib/python3.7/site-packages (from ipykernel) (5.0.5)\n",
      "Requirement already satisfied, skipping upgrade: tornado>=4.2 in /opt/conda/lib/python3.7/site-packages (from ipykernel) (6.1)\n",
      "Requirement already satisfied, skipping upgrade: jupyter-client in /opt/conda/lib/python3.7/site-packages (from ipykernel) (5.3.4)\n",
      "Requirement already satisfied, skipping upgrade: pexpect>4.3; sys_platform != \"win32\" in /opt/conda/lib/python3.7/site-packages (from ipython>=5.0.0->ipykernel) (4.8.0)\n",
      "Requirement already satisfied, skipping upgrade: jedi>=0.16 in /opt/conda/lib/python3.7/site-packages (from ipython>=5.0.0->ipykernel) (0.18.0)\n",
      "Requirement already satisfied, skipping upgrade: pickleshare in /opt/conda/lib/python3.7/site-packages (from ipython>=5.0.0->ipykernel) (0.7.5)\n",
      "Requirement already satisfied, skipping upgrade: setuptools>=18.5 in /opt/conda/lib/python3.7/site-packages (from ipython>=5.0.0->ipykernel) (49.6.0.post20210108)\n",
      "Requirement already satisfied, skipping upgrade: pygments in /opt/conda/lib/python3.7/site-packages (from ipython>=5.0.0->ipykernel) (2.6.1)\n",
      "Requirement already satisfied, skipping upgrade: prompt-toolkit!=3.0.0,!=3.0.1,<3.1.0,>=2.0.0 in /opt/conda/lib/python3.7/site-packages (from ipython>=5.0.0->ipykernel) (3.0.5)\n",
      "Requirement already satisfied, skipping upgrade: backcall in /opt/conda/lib/python3.7/site-packages (from ipython>=5.0.0->ipykernel) (0.2.0)\n",
      "Requirement already satisfied, skipping upgrade: decorator in /opt/conda/lib/python3.7/site-packages (from ipython>=5.0.0->ipykernel) (4.4.2)\n",
      "Requirement already satisfied, skipping upgrade: ipython-genutils in /opt/conda/lib/python3.7/site-packages (from traitlets>=4.1.0->ipykernel) (0.2.0)\n",
      "Requirement already satisfied, skipping upgrade: python-dateutil>=2.1 in /opt/conda/lib/python3.7/site-packages (from jupyter-client->ipykernel) (2.8.1)\n",
      "Requirement already satisfied, skipping upgrade: pyzmq>=13 in /opt/conda/lib/python3.7/site-packages (from jupyter-client->ipykernel) (19.0.1)\n",
      "Requirement already satisfied, skipping upgrade: jupyter-core>=4.6.0 in /opt/conda/lib/python3.7/site-packages (from jupyter-client->ipykernel) (4.6.2)\n",
      "Requirement already satisfied, skipping upgrade: ptyprocess>=0.5 in /opt/conda/lib/python3.7/site-packages (from pexpect>4.3; sys_platform != \"win32\"->ipython>=5.0.0->ipykernel) (0.6.0)\n",
      "Requirement already satisfied, skipping upgrade: parso<0.9.0,>=0.8.0 in /opt/conda/lib/python3.7/site-packages (from jedi>=0.16->ipython>=5.0.0->ipykernel) (0.8.1)\n",
      "Requirement already satisfied, skipping upgrade: wcwidth in /opt/conda/lib/python3.7/site-packages (from prompt-toolkit!=3.0.0,!=3.0.1,<3.1.0,>=2.0.0->ipython>=5.0.0->ipykernel) (0.2.5)\n",
      "Requirement already satisfied, skipping upgrade: six>=1.5 in /opt/conda/lib/python3.7/site-packages (from python-dateutil>=2.1->jupyter-client->ipykernel) (1.15.0)\n",
      "Note: you may need to restart the kernel to use updated packages.\n",
      "Note: you may need to restart the kernel to use updated packages.\n",
      "Defaulting to user installation because normal site-packages is not writeable\n",
      "Requirement already up-to-date: scikit-learn in /home/jovyan/.local/lib/python3.7/site-packages (0.24.2)\n",
      "Requirement already satisfied, skipping upgrade: joblib>=0.11 in /opt/conda/lib/python3.7/site-packages (from scikit-learn) (1.0.1)\n",
      "Requirement already satisfied, skipping upgrade: scipy>=0.19.1 in /opt/conda/lib/python3.7/site-packages (from scikit-learn) (1.4.1)\n",
      "Requirement already satisfied, skipping upgrade: numpy>=1.13.3 in /opt/conda/lib/python3.7/site-packages (from scikit-learn) (1.19.5)\n",
      "Requirement already satisfied, skipping upgrade: threadpoolctl>=2.0.0 in /home/jovyan/.local/lib/python3.7/site-packages (from scikit-learn) (2.1.0)\n",
      "Note: you may need to restart the kernel to use updated packages.\n",
      "Defaulting to user installation because normal site-packages is not writeable\n",
      "Requirement already satisfied: dill in /home/jovyan/.local/lib/python3.7/site-packages (0.3.3)\n",
      "Note: you may need to restart the kernel to use updated packages.\n"
     ]
    }
   ],
   "source": [
    "%%capture\n",
    "\n",
    "%pip install --upgrade ipykernel\n",
    "%pip install seaborn>=0.11 -U\n",
    "%pip install scikit-learn -U\n",
    "%pip install dill"
   ]
  },
  {
   "cell_type": "code",
   "execution_count": 66,
   "metadata": {},
   "outputs": [],
   "source": [
    "import pandas as pd\n",
    "import numpy as np\n",
    "import dill\n",
    "\n",
    "from datetime import datetime\n",
    "\n",
    "from sklearn.impute import KNNImputer\n",
    "from sklearn.preprocessing import MinMaxScaler, OrdinalEncoder\n",
    "import scipy.stats as ss\n",
    "\n",
    "from sklearn.model_selection import train_test_split, GridSearchCV, RandomizedSearchCV\n",
    "\n",
    "from sklearn.linear_model import LinearRegression\n",
    "from sklearn.ensemble import RandomForestRegressor\n",
    "from sklearn.dummy import DummyRegressor\n",
    "\n",
    "from sklearn.metrics import (make_scorer, \n",
    "                            mean_squared_error as mse,\n",
    "                            mean_absolute_error as mae)\n",
    "\n",
    "import lightgbm as lgb\n",
    "\n",
    "from tqdm import tqdm\n",
    "\n",
    "import matplotlib.pyplot as plt\n",
    "import seaborn as sns\n",
    "sns.set_theme(style=\"darkgrid\")\n",
    "\n",
    "#фильтр предупреждений\n",
    "import warnings\n",
    "warnings.simplefilter(\"ignore\")"
   ]
  },
  {
   "cell_type": "code",
   "execution_count": 4,
   "metadata": {},
   "outputs": [],
   "source": [
    "#зададим ramdom seed\n",
    "RS = 2021"
   ]
  },
  {
   "cell_type": "markdown",
   "metadata": {},
   "source": [
    "## Подготовка данных"
   ]
  },
  {
   "cell_type": "markdown",
   "metadata": {},
   "source": [
    "### Загрузка файлов и получение информации"
   ]
  },
  {
   "cell_type": "code",
   "execution_count": 5,
   "metadata": {},
   "outputs": [],
   "source": [
    "#сделаем парсер для колонок с датой\n",
    "my_date_parser = lambda x: datetime.strptime(x, \"%Y-%m-%d %H:%M:%S\")"
   ]
  },
  {
   "cell_type": "code",
   "execution_count": 6,
   "metadata": {},
   "outputs": [
    {
     "data": {
      "text/html": [
       "<div>\n",
       "<style scoped>\n",
       "    .dataframe tbody tr th:only-of-type {\n",
       "        vertical-align: middle;\n",
       "    }\n",
       "\n",
       "    .dataframe tbody tr th {\n",
       "        vertical-align: top;\n",
       "    }\n",
       "\n",
       "    .dataframe thead th {\n",
       "        text-align: right;\n",
       "    }\n",
       "</style>\n",
       "<table border=\"1\" class=\"dataframe\">\n",
       "  <thead>\n",
       "    <tr style=\"text-align: right;\">\n",
       "      <th></th>\n",
       "      <th>DateCrawled</th>\n",
       "      <th>Price</th>\n",
       "      <th>VehicleType</th>\n",
       "      <th>RegistrationYear</th>\n",
       "      <th>Gearbox</th>\n",
       "      <th>Power</th>\n",
       "      <th>Model</th>\n",
       "      <th>Kilometer</th>\n",
       "      <th>RegistrationMonth</th>\n",
       "      <th>FuelType</th>\n",
       "      <th>Brand</th>\n",
       "      <th>NotRepaired</th>\n",
       "      <th>DateCreated</th>\n",
       "      <th>NumberOfPictures</th>\n",
       "      <th>PostalCode</th>\n",
       "      <th>LastSeen</th>\n",
       "    </tr>\n",
       "  </thead>\n",
       "  <tbody>\n",
       "    <tr>\n",
       "      <td>0</td>\n",
       "      <td>2016-03-24 11:52:17</td>\n",
       "      <td>480</td>\n",
       "      <td>NaN</td>\n",
       "      <td>1993</td>\n",
       "      <td>manual</td>\n",
       "      <td>0</td>\n",
       "      <td>golf</td>\n",
       "      <td>150000</td>\n",
       "      <td>0</td>\n",
       "      <td>petrol</td>\n",
       "      <td>volkswagen</td>\n",
       "      <td>NaN</td>\n",
       "      <td>2016-03-24</td>\n",
       "      <td>0</td>\n",
       "      <td>70435</td>\n",
       "      <td>2016-04-07 03:16:57</td>\n",
       "    </tr>\n",
       "    <tr>\n",
       "      <td>1</td>\n",
       "      <td>2016-03-24 10:58:45</td>\n",
       "      <td>18300</td>\n",
       "      <td>coupe</td>\n",
       "      <td>2011</td>\n",
       "      <td>manual</td>\n",
       "      <td>190</td>\n",
       "      <td>NaN</td>\n",
       "      <td>125000</td>\n",
       "      <td>5</td>\n",
       "      <td>gasoline</td>\n",
       "      <td>audi</td>\n",
       "      <td>yes</td>\n",
       "      <td>2016-03-24</td>\n",
       "      <td>0</td>\n",
       "      <td>66954</td>\n",
       "      <td>2016-04-07 01:46:50</td>\n",
       "    </tr>\n",
       "    <tr>\n",
       "      <td>2</td>\n",
       "      <td>2016-03-14 12:52:21</td>\n",
       "      <td>9800</td>\n",
       "      <td>suv</td>\n",
       "      <td>2004</td>\n",
       "      <td>auto</td>\n",
       "      <td>163</td>\n",
       "      <td>grand</td>\n",
       "      <td>125000</td>\n",
       "      <td>8</td>\n",
       "      <td>gasoline</td>\n",
       "      <td>jeep</td>\n",
       "      <td>NaN</td>\n",
       "      <td>2016-03-14</td>\n",
       "      <td>0</td>\n",
       "      <td>90480</td>\n",
       "      <td>2016-04-05 12:47:46</td>\n",
       "    </tr>\n",
       "    <tr>\n",
       "      <td>3</td>\n",
       "      <td>2016-03-17 16:54:04</td>\n",
       "      <td>1500</td>\n",
       "      <td>small</td>\n",
       "      <td>2001</td>\n",
       "      <td>manual</td>\n",
       "      <td>75</td>\n",
       "      <td>golf</td>\n",
       "      <td>150000</td>\n",
       "      <td>6</td>\n",
       "      <td>petrol</td>\n",
       "      <td>volkswagen</td>\n",
       "      <td>no</td>\n",
       "      <td>2016-03-17</td>\n",
       "      <td>0</td>\n",
       "      <td>91074</td>\n",
       "      <td>2016-03-17 17:40:17</td>\n",
       "    </tr>\n",
       "    <tr>\n",
       "      <td>4</td>\n",
       "      <td>2016-03-31 17:25:20</td>\n",
       "      <td>3600</td>\n",
       "      <td>small</td>\n",
       "      <td>2008</td>\n",
       "      <td>manual</td>\n",
       "      <td>69</td>\n",
       "      <td>fabia</td>\n",
       "      <td>90000</td>\n",
       "      <td>7</td>\n",
       "      <td>gasoline</td>\n",
       "      <td>skoda</td>\n",
       "      <td>no</td>\n",
       "      <td>2016-03-31</td>\n",
       "      <td>0</td>\n",
       "      <td>60437</td>\n",
       "      <td>2016-04-06 10:17:21</td>\n",
       "    </tr>\n",
       "  </tbody>\n",
       "</table>\n",
       "</div>"
      ],
      "text/plain": [
       "          DateCrawled  Price VehicleType  RegistrationYear Gearbox  Power  \\\n",
       "0 2016-03-24 11:52:17    480         NaN              1993  manual      0   \n",
       "1 2016-03-24 10:58:45  18300       coupe              2011  manual    190   \n",
       "2 2016-03-14 12:52:21   9800         suv              2004    auto    163   \n",
       "3 2016-03-17 16:54:04   1500       small              2001  manual     75   \n",
       "4 2016-03-31 17:25:20   3600       small              2008  manual     69   \n",
       "\n",
       "   Model  Kilometer  RegistrationMonth  FuelType       Brand NotRepaired  \\\n",
       "0   golf     150000                  0    petrol  volkswagen         NaN   \n",
       "1    NaN     125000                  5  gasoline        audi         yes   \n",
       "2  grand     125000                  8  gasoline        jeep         NaN   \n",
       "3   golf     150000                  6    petrol  volkswagen          no   \n",
       "4  fabia      90000                  7  gasoline       skoda          no   \n",
       "\n",
       "  DateCreated  NumberOfPictures  PostalCode            LastSeen  \n",
       "0  2016-03-24                 0       70435 2016-04-07 03:16:57  \n",
       "1  2016-03-24                 0       66954 2016-04-07 01:46:50  \n",
       "2  2016-03-14                 0       90480 2016-04-05 12:47:46  \n",
       "3  2016-03-17                 0       91074 2016-03-17 17:40:17  \n",
       "4  2016-03-31                 0       60437 2016-04-06 10:17:21  "
      ]
     },
     "execution_count": 6,
     "metadata": {},
     "output_type": "execute_result"
    }
   ],
   "source": [
    "data = pd.read_csv('/datasets/autos.csv', parse_dates=['DateCrawled', 'DateCreated', 'LastSeen'],\n",
    "                date_parser=my_date_parser)\n",
    "\n",
    "data.head(5)"
   ]
  },
  {
   "cell_type": "code",
   "execution_count": 7,
   "metadata": {},
   "outputs": [
    {
     "name": "stdout",
     "output_type": "stream",
     "text": [
      "<class 'pandas.core.frame.DataFrame'>\n",
      "RangeIndex: 354369 entries, 0 to 354368\n",
      "Data columns (total 16 columns):\n",
      "DateCrawled          354369 non-null datetime64[ns]\n",
      "Price                354369 non-null int64\n",
      "VehicleType          316879 non-null object\n",
      "RegistrationYear     354369 non-null int64\n",
      "Gearbox              334536 non-null object\n",
      "Power                354369 non-null int64\n",
      "Model                334664 non-null object\n",
      "Kilometer            354369 non-null int64\n",
      "RegistrationMonth    354369 non-null int64\n",
      "FuelType             321474 non-null object\n",
      "Brand                354369 non-null object\n",
      "NotRepaired          283215 non-null object\n",
      "DateCreated          354369 non-null datetime64[ns]\n",
      "NumberOfPictures     354369 non-null int64\n",
      "PostalCode           354369 non-null int64\n",
      "LastSeen             354369 non-null datetime64[ns]\n",
      "dtypes: datetime64[ns](3), int64(7), object(6)\n",
      "memory usage: 43.3+ MB\n"
     ]
    }
   ],
   "source": [
    "data.info()"
   ]
  },
  {
   "cell_type": "markdown",
   "metadata": {},
   "source": [
    "В данных всего 354369 объявлений. В 5и строках есть пропуски. Также можно заметить нулевое значение мощности у 1й записи. Нулевого значения здесь быть не может, поэтому будем смотреть что делать с такими объявлениями."
   ]
  },
  {
   "cell_type": "markdown",
   "metadata": {},
   "source": [
    "### Предобработка данных"
   ]
  },
  {
   "cell_type": "markdown",
   "metadata": {},
   "source": [
    "#### Проверка дубликатов:"
   ]
  },
  {
   "cell_type": "code",
   "execution_count": 8,
   "metadata": {},
   "outputs": [
    {
     "data": {
      "text/plain": [
       "4"
      ]
     },
     "execution_count": 8,
     "metadata": {},
     "output_type": "execute_result"
    }
   ],
   "source": [
    "data.duplicated().sum()"
   ]
  },
  {
   "cell_type": "markdown",
   "metadata": {},
   "source": [
    "Так как это полные дубликаты где совпадает даже время, то они скорее всего появляются при создании финального датасета, например при склеивании таблиц. Удалим дубликаты."
   ]
  },
  {
   "cell_type": "code",
   "execution_count": 9,
   "metadata": {},
   "outputs": [
    {
     "data": {
      "text/plain": [
       "0"
      ]
     },
     "execution_count": 9,
     "metadata": {},
     "output_type": "execute_result"
    }
   ],
   "source": [
    "data.drop_duplicates(keep='first', inplace=True)\n",
    "data.reset_index(drop=True, inplace=True)\n",
    "\n",
    "data.duplicated().sum()"
   ]
  },
  {
   "cell_type": "markdown",
   "metadata": {},
   "source": [
    "#### Кодировка признаков"
   ]
  },
  {
   "cell_type": "markdown",
   "metadata": {},
   "source": [
    "Послкольку мы работаем с категориальными данными, нам необходимо провести кодировку признаков в численный вид.\n",
    "\n",
    "Можно использовать one-hot encoding или ordinal encoding.\n",
    "Какой из них выбрать? \n",
    " - one-hot encoding будет занимать больше оперативной памяти и модели будут медленее работать. \n",
    " - ordinal encoding будет занимать мало памяти, однако с ним будет плохо работать модель линейной регресии (т.к. она не умеет отличать категориальные переменные от числовых)\n",
    " \n",
    "Посмотрим на количество категорий в признаках:"
   ]
  },
  {
   "cell_type": "code",
   "execution_count": 10,
   "metadata": {},
   "outputs": [
    {
     "data": {
      "text/plain": [
       "DateCrawled          271174\n",
       "Price                  3731\n",
       "VehicleType               8\n",
       "RegistrationYear        151\n",
       "Gearbox                   2\n",
       "Power                   712\n",
       "Model                   250\n",
       "Kilometer                13\n",
       "RegistrationMonth        13\n",
       "FuelType                  7\n",
       "Brand                    40\n",
       "NotRepaired               2\n",
       "DateCreated             109\n",
       "NumberOfPictures          1\n",
       "PostalCode             8143\n",
       "LastSeen             179150\n",
       "dtype: int64"
      ]
     },
     "execution_count": 10,
     "metadata": {},
     "output_type": "execute_result"
    }
   ],
   "source": [
    "data.nunique()"
   ]
  },
  {
   "cell_type": "markdown",
   "metadata": {},
   "source": [
    "Во-первых, мы видим странные значения в признаках:\n",
    " - RegistrationMonth - месяцов всего 12, а не 13;\n",
    " - Kilometer - очень малая вариативность значений; скорее всего это связано с тем, что значение синтетическое.\n",
    " - FuelType - много различных видов топлива, нужно их проверить;\n",
    " - NumberOfPictures - всего одно значение и это 0. "
   ]
  },
  {
   "cell_type": "markdown",
   "metadata": {},
   "source": [
    "Во-второых, становится видно, что в некоторых, на наш взгляд важных, переменных есть очень много разных категорий. Например в признаке \"Модель\" их целых 250. Помимо того что мы создадим очень большое количество дополнительных стлбцов с признаками, когда категорий очень много, при OHE могут возникнуть многочисленные dummy-ловушки, которые мы можем не отследить. Поэтому в данной ситуации будем использовать Ordinal encoding."
   ]
  },
  {
   "cell_type": "markdown",
   "metadata": {},
   "source": [
    "#### Анализ значений"
   ]
  },
  {
   "cell_type": "code",
   "execution_count": 11,
   "metadata": {},
   "outputs": [
    {
     "data": {
      "text/plain": [
       "array([ 0,  5,  8,  6,  7, 10, 12, 11,  2,  3,  1,  4,  9])"
      ]
     },
     "execution_count": 11,
     "metadata": {},
     "output_type": "execute_result"
    }
   ],
   "source": [
    "data[\"RegistrationMonth\"].unique()"
   ]
  },
  {
   "cell_type": "code",
   "execution_count": 12,
   "metadata": {},
   "outputs": [
    {
     "data": {
      "text/plain": [
       "37352"
      ]
     },
     "execution_count": 12,
     "metadata": {},
     "output_type": "execute_result"
    }
   ],
   "source": [
    "data[data['RegistrationMonth'] == 0 ]['RegistrationMonth'].count()"
   ]
  },
  {
   "cell_type": "code",
   "execution_count": 13,
   "metadata": {},
   "outputs": [
    {
     "data": {
      "text/plain": [
       "<matplotlib.axes._subplots.AxesSubplot at 0x7feaabec7750>"
      ]
     },
     "execution_count": 13,
     "metadata": {},
     "output_type": "execute_result"
    },
    {
     "data": {
      "image/png": "[encoded data removed]",
      "text/plain": [
       "<Figure size 432x288 with 1 Axes>"
      ]
     },
     "metadata": {},
     "output_type": "display_data"
    }
   ],
   "source": [
    "data['RegistrationMonth'].plot(kind = 'hist', bins = 13)"
   ]
  },
  {
   "cell_type": "markdown",
   "metadata": {},
   "source": [
    "Появляется нулевой месяц. В целом можно сказать что 0 появляются примерно также как и остальные месяца. Есть два возможных объяснения: 1. этот признак сформирован автоматически, при его формировании случайно добавили \"нулевой месяц\"; 2. так записывали пропущенные значения. Поскольку признаки категориальные, можем оставить все как есть, работу моделей это не изменит, информацию можно будет получить."
   ]
  },
  {
   "cell_type": "code",
   "execution_count": 14,
   "metadata": {},
   "outputs": [
    {
     "data": {
      "text/plain": [
       "array(['petrol', 'gasoline', nan, 'lpg', 'other', 'hybrid', 'cng',\n",
       "       'electric'], dtype=object)"
      ]
     },
     "execution_count": 14,
     "metadata": {},
     "output_type": "execute_result"
    }
   ],
   "source": [
    "data['FuelType'].unique()"
   ]
  },
  {
   "cell_type": "markdown",
   "metadata": {},
   "source": [
    "В целом список реалистичный. "
   ]
  },
  {
   "cell_type": "code",
   "execution_count": 15,
   "metadata": {},
   "outputs": [
    {
     "data": {
      "text/plain": [
       "array([0])"
      ]
     },
     "execution_count": 15,
     "metadata": {},
     "output_type": "execute_result"
    }
   ],
   "source": [
    "data['NumberOfPictures'].unique()"
   ]
  },
  {
   "cell_type": "markdown",
   "metadata": {},
   "source": [
    "Этот признак состоит только из нулей. Скорее всего эти данные были потеряны при формировании датасета. Поскольку эти данные мы восстановить никак не можем, признак придется удалить. "
   ]
  },
  {
   "cell_type": "code",
   "execution_count": 16,
   "metadata": {},
   "outputs": [],
   "source": [
    "data.drop(['NumberOfPictures'], axis=1, inplace=True)"
   ]
  },
  {
   "cell_type": "markdown",
   "metadata": {},
   "source": [
    "#### Ordinal encoding"
   ]
  },
  {
   "cell_type": "markdown",
   "metadata": {},
   "source": [
    "Сделаем список категориальных переменных. Это VehicleType, Gearbox, Model, RegistrationMonth, FuelType, Brand, NotRepaired."
   ]
  },
  {
   "cell_type": "code",
   "execution_count": 17,
   "metadata": {},
   "outputs": [],
   "source": [
    "categorical_features = [\"VehicleType\", \"Gearbox\", \"Model\", \"RegistrationMonth\", \"FuelType\", \"Brand\", \"NotRepaired\"]"
   ]
  },
  {
   "cell_type": "code",
   "execution_count": 18,
   "metadata": {},
   "outputs": [
    {
     "data": {
      "text/html": [
       "<div>\n",
       "<style scoped>\n",
       "    .dataframe tbody tr th:only-of-type {\n",
       "        vertical-align: middle;\n",
       "    }\n",
       "\n",
       "    .dataframe tbody tr th {\n",
       "        vertical-align: top;\n",
       "    }\n",
       "\n",
       "    .dataframe thead th {\n",
       "        text-align: right;\n",
       "    }\n",
       "</style>\n",
       "<table border=\"1\" class=\"dataframe\">\n",
       "  <thead>\n",
       "    <tr style=\"text-align: right;\">\n",
       "      <th></th>\n",
       "      <th>DateCrawled</th>\n",
       "      <th>Price</th>\n",
       "      <th>VehicleType</th>\n",
       "      <th>RegistrationYear</th>\n",
       "      <th>Gearbox</th>\n",
       "      <th>Power</th>\n",
       "      <th>Model</th>\n",
       "      <th>Kilometer</th>\n",
       "      <th>RegistrationMonth</th>\n",
       "      <th>FuelType</th>\n",
       "      <th>Brand</th>\n",
       "      <th>NotRepaired</th>\n",
       "      <th>DateCreated</th>\n",
       "      <th>PostalCode</th>\n",
       "      <th>LastSeen</th>\n",
       "    </tr>\n",
       "  </thead>\n",
       "  <tbody>\n",
       "    <tr>\n",
       "      <td>0</td>\n",
       "      <td>2016-03-24 11:52:17</td>\n",
       "      <td>480</td>\n",
       "      <td>NaN</td>\n",
       "      <td>1993</td>\n",
       "      <td>1</td>\n",
       "      <td>0</td>\n",
       "      <td>116</td>\n",
       "      <td>150000</td>\n",
       "      <td>0.0</td>\n",
       "      <td>6</td>\n",
       "      <td>38</td>\n",
       "      <td>NaN</td>\n",
       "      <td>2016-03-24</td>\n",
       "      <td>70435</td>\n",
       "      <td>2016-04-07 03:16:57</td>\n",
       "    </tr>\n",
       "    <tr>\n",
       "      <td>1</td>\n",
       "      <td>2016-03-24 10:58:45</td>\n",
       "      <td>18300</td>\n",
       "      <td>2</td>\n",
       "      <td>2011</td>\n",
       "      <td>1</td>\n",
       "      <td>190</td>\n",
       "      <td>NaN</td>\n",
       "      <td>125000</td>\n",
       "      <td>5.0</td>\n",
       "      <td>2</td>\n",
       "      <td>1</td>\n",
       "      <td>1</td>\n",
       "      <td>2016-03-24</td>\n",
       "      <td>66954</td>\n",
       "      <td>2016-04-07 01:46:50</td>\n",
       "    </tr>\n",
       "    <tr>\n",
       "      <td>2</td>\n",
       "      <td>2016-03-14 12:52:21</td>\n",
       "      <td>9800</td>\n",
       "      <td>6</td>\n",
       "      <td>2004</td>\n",
       "      <td>0</td>\n",
       "      <td>163</td>\n",
       "      <td>117</td>\n",
       "      <td>125000</td>\n",
       "      <td>8.0</td>\n",
       "      <td>2</td>\n",
       "      <td>14</td>\n",
       "      <td>NaN</td>\n",
       "      <td>2016-03-14</td>\n",
       "      <td>90480</td>\n",
       "      <td>2016-04-05 12:47:46</td>\n",
       "    </tr>\n",
       "    <tr>\n",
       "      <td>3</td>\n",
       "      <td>2016-03-17 16:54:04</td>\n",
       "      <td>1500</td>\n",
       "      <td>5</td>\n",
       "      <td>2001</td>\n",
       "      <td>1</td>\n",
       "      <td>75</td>\n",
       "      <td>116</td>\n",
       "      <td>150000</td>\n",
       "      <td>6.0</td>\n",
       "      <td>6</td>\n",
       "      <td>38</td>\n",
       "      <td>0</td>\n",
       "      <td>2016-03-17</td>\n",
       "      <td>91074</td>\n",
       "      <td>2016-03-17 17:40:17</td>\n",
       "    </tr>\n",
       "    <tr>\n",
       "      <td>4</td>\n",
       "      <td>2016-03-31 17:25:20</td>\n",
       "      <td>3600</td>\n",
       "      <td>5</td>\n",
       "      <td>2008</td>\n",
       "      <td>1</td>\n",
       "      <td>69</td>\n",
       "      <td>101</td>\n",
       "      <td>90000</td>\n",
       "      <td>7.0</td>\n",
       "      <td>2</td>\n",
       "      <td>31</td>\n",
       "      <td>0</td>\n",
       "      <td>2016-03-31</td>\n",
       "      <td>60437</td>\n",
       "      <td>2016-04-06 10:17:21</td>\n",
       "    </tr>\n",
       "  </tbody>\n",
       "</table>\n",
       "</div>"
      ],
      "text/plain": [
       "          DateCrawled  Price VehicleType  RegistrationYear Gearbox  Power  \\\n",
       "0 2016-03-24 11:52:17    480         NaN              1993       1      0   \n",
       "1 2016-03-24 10:58:45  18300           2              2011       1    190   \n",
       "2 2016-03-14 12:52:21   9800           6              2004       0    163   \n",
       "3 2016-03-17 16:54:04   1500           5              2001       1     75   \n",
       "4 2016-03-31 17:25:20   3600           5              2008       1     69   \n",
       "\n",
       "  Model  Kilometer  RegistrationMonth FuelType  Brand NotRepaired DateCreated  \\\n",
       "0   116     150000                0.0        6     38         NaN  2016-03-24   \n",
       "1   NaN     125000                5.0        2      1           1  2016-03-24   \n",
       "2   117     125000                8.0        2     14         NaN  2016-03-14   \n",
       "3   116     150000                6.0        6     38           0  2016-03-17   \n",
       "4   101      90000                7.0        2     31           0  2016-03-31   \n",
       "\n",
       "   PostalCode            LastSeen  \n",
       "0       70435 2016-04-07 03:16:57  \n",
       "1       66954 2016-04-07 01:46:50  \n",
       "2       90480 2016-04-05 12:47:46  \n",
       "3       91074 2016-03-17 17:40:17  \n",
       "4       60437 2016-04-06 10:17:21  "
      ]
     },
     "execution_count": 18,
     "metadata": {},
     "output_type": "execute_result"
    }
   ],
   "source": [
    "encoder = OrdinalEncoder()\n",
    "\n",
    "def encode(data):\n",
    "    real_data = np.array(data.dropna())\n",
    "    impute_reshape = real_data.reshape(-1,1)\n",
    "    impute_ordinal = encoder.fit_transform(impute_reshape)\n",
    "    data.loc[data.notnull()] = np.squeeze(impute_ordinal)\n",
    "    return data\n",
    "\n",
    "for column in categorical_features:\n",
    "    encode(data[column])\n",
    "    \n",
    "data.head()"
   ]
  },
  {
   "cell_type": "markdown",
   "metadata": {},
   "source": [
    "Признаки закодированы."
   ]
  },
  {
   "cell_type": "markdown",
   "metadata": {},
   "source": [
    "####  Обработка пропусков"
   ]
  },
  {
   "cell_type": "code",
   "execution_count": 19,
   "metadata": {},
   "outputs": [
    {
     "data": {
      "text/plain": [
       "DateCrawled              0\n",
       "Price                    0\n",
       "VehicleType          37490\n",
       "RegistrationYear         0\n",
       "Gearbox              19833\n",
       "Power                    0\n",
       "Model                19705\n",
       "Kilometer                0\n",
       "RegistrationMonth        0\n",
       "FuelType             32895\n",
       "Brand                    0\n",
       "NotRepaired          71154\n",
       "DateCreated              0\n",
       "PostalCode               0\n",
       "LastSeen                 0\n",
       "dtype: int64"
      ]
     },
     "execution_count": 19,
     "metadata": {},
     "output_type": "execute_result"
    }
   ],
   "source": [
    "data.isna().sum()"
   ]
  },
  {
   "cell_type": "markdown",
   "metadata": {},
   "source": [
    "`VehicleType`"
   ]
  },
  {
   "cell_type": "markdown",
   "metadata": {},
   "source": [
    "VehicleType - тип автомобильного кузова. Если подумать логически, то вообще вся информация о типе кузова уже содержится в признаке `Model` – модель автомобиля описывает его внешний вид и кузов. \n",
    "Как известно, коллинеарные признаки уходшают работу моделей. Поэтому мы считаем что можно сразу сделать небольшой feature engineering и удалить этот признак."
   ]
  },
  {
   "cell_type": "markdown",
   "metadata": {},
   "source": [
    "Заполнять пропуски будем помощью KNNImputer, который заполняет значения по n ближайшим соседям.\n",
    "Заполнение будем оценивать по признаку `NotRepaired`, где самое большое количество пропусков.          "
   ]
  },
  {
   "cell_type": "markdown",
   "metadata": {},
   "source": [
    "Спрячем наши признаки, содержащие дату, целевой признак (чтобы избежать утечки данных), а также почтовый адрес клиента."
   ]
  },
  {
   "cell_type": "code",
   "execution_count": 20,
   "metadata": {},
   "outputs": [],
   "source": [
    "drop_columns = ['DateCrawled', 'Price', 'DateCreated', 'PostalCode', 'LastSeen']\n",
    "data_4_imputation = data.drop(drop_columns, axis=1)"
   ]
  },
  {
   "cell_type": "code",
   "execution_count": 21,
   "metadata": {},
   "outputs": [
    {
     "data": {
      "text/html": [
       "<div>\n",
       "<style scoped>\n",
       "    .dataframe tbody tr th:only-of-type {\n",
       "        vertical-align: middle;\n",
       "    }\n",
       "\n",
       "    .dataframe tbody tr th {\n",
       "        vertical-align: top;\n",
       "    }\n",
       "\n",
       "    .dataframe thead th {\n",
       "        text-align: right;\n",
       "    }\n",
       "</style>\n",
       "<table border=\"1\" class=\"dataframe\">\n",
       "  <thead>\n",
       "    <tr style=\"text-align: right;\">\n",
       "      <th></th>\n",
       "      <th>VehicleType</th>\n",
       "      <th>RegistrationYear</th>\n",
       "      <th>Gearbox</th>\n",
       "      <th>Power</th>\n",
       "      <th>Model</th>\n",
       "      <th>Kilometer</th>\n",
       "      <th>RegistrationMonth</th>\n",
       "      <th>FuelType</th>\n",
       "      <th>Brand</th>\n",
       "      <th>NotRepaired</th>\n",
       "    </tr>\n",
       "  </thead>\n",
       "  <tbody>\n",
       "    <tr>\n",
       "      <td>0</td>\n",
       "      <td>NaN</td>\n",
       "      <td>1993</td>\n",
       "      <td>1</td>\n",
       "      <td>0</td>\n",
       "      <td>116</td>\n",
       "      <td>150000</td>\n",
       "      <td>0.0</td>\n",
       "      <td>6</td>\n",
       "      <td>38</td>\n",
       "      <td>NaN</td>\n",
       "    </tr>\n",
       "    <tr>\n",
       "      <td>1</td>\n",
       "      <td>2</td>\n",
       "      <td>2011</td>\n",
       "      <td>1</td>\n",
       "      <td>190</td>\n",
       "      <td>NaN</td>\n",
       "      <td>125000</td>\n",
       "      <td>5.0</td>\n",
       "      <td>2</td>\n",
       "      <td>1</td>\n",
       "      <td>1</td>\n",
       "    </tr>\n",
       "    <tr>\n",
       "      <td>2</td>\n",
       "      <td>6</td>\n",
       "      <td>2004</td>\n",
       "      <td>0</td>\n",
       "      <td>163</td>\n",
       "      <td>117</td>\n",
       "      <td>125000</td>\n",
       "      <td>8.0</td>\n",
       "      <td>2</td>\n",
       "      <td>14</td>\n",
       "      <td>NaN</td>\n",
       "    </tr>\n",
       "  </tbody>\n",
       "</table>\n",
       "</div>"
      ],
      "text/plain": [
       "  VehicleType  RegistrationYear Gearbox  Power Model  Kilometer  \\\n",
       "0         NaN              1993       1      0   116     150000   \n",
       "1           2              2011       1    190   NaN     125000   \n",
       "2           6              2004       0    163   117     125000   \n",
       "\n",
       "   RegistrationMonth FuelType  Brand NotRepaired  \n",
       "0                0.0        6     38         NaN  \n",
       "1                5.0        2      1           1  \n",
       "2                8.0        2     14         NaN  "
      ]
     },
     "execution_count": 21,
     "metadata": {},
     "output_type": "execute_result"
    }
   ],
   "source": [
    "small_data = data_4_imputation.iloc[0:30000, :]\n",
    "small_data.head(3)"
   ]
  },
  {
   "cell_type": "code",
   "execution_count": 22,
   "metadata": {},
   "outputs": [
    {
     "name": "stdout",
     "output_type": "stream",
     "text": [
      "CPU times: user 30.6 s, sys: 7.4 s, total: 38 s\n",
      "Wall time: 38.6 s\n"
     ]
    }
   ],
   "source": [
    "%%time\n",
    "\n",
    "#проведем замену\n",
    "temp_data = small_data\n",
    "imputer = KNNImputer(n_neighbors=3)\n",
    "\n",
    "encode_data = pd.DataFrame(np.round(imputer.fit_transform(temp_data)), columns = temp_data.columns)"
   ]
  },
  {
   "cell_type": "markdown",
   "metadata": {},
   "source": [
    "KNNImputer с таким объемом данных справляется тяжело, поскольку у него квадратичная сложность. Уже на 30т. строк время работы около 36 секунд. Можно попробовать заполнить пропуски batch-ами, разделив выборку на несколько."
   ]
  },
  {
   "cell_type": "code",
   "execution_count": 23,
   "metadata": {},
   "outputs": [
    {
     "data": {
      "text/plain": [
       "(354365, 10)"
      ]
     },
     "execution_count": 23,
     "metadata": {},
     "output_type": "execute_result"
    }
   ],
   "source": [
    "data_4_imputation.shape"
   ]
  },
  {
   "cell_type": "code",
   "execution_count": 24,
   "metadata": {},
   "outputs": [
    {
     "name": "stderr",
     "output_type": "stream",
     "text": [
      "  0%|          | 0/57 [00:00<?, ?it/s]"
     ]
    },
    {
     "name": "stdout",
     "output_type": "stream",
     "text": [
      "Batch size: 6217\n"
     ]
    },
    {
     "name": "stderr",
     "output_type": "stream",
     "text": [
      "100%|██████████| 57/57 [01:59<00:00,  2.10s/it]"
     ]
    },
    {
     "name": "stdout",
     "output_type": "stream",
     "text": [
      "<class 'pandas.core.frame.DataFrame'>\n",
      "RangeIndex: 354365 entries, 0 to 354364\n",
      "Data columns (total 10 columns):\n",
      "VehicleType          354365 non-null float64\n",
      "RegistrationYear     354365 non-null float64\n",
      "Gearbox              354365 non-null float64\n",
      "Power                354365 non-null float64\n",
      "Model                354365 non-null float64\n",
      "Kilometer            354365 non-null float64\n",
      "RegistrationMonth    354365 non-null float64\n",
      "FuelType             354365 non-null float64\n",
      "Brand                354365 non-null float64\n",
      "NotRepaired          354365 non-null float64\n",
      "dtypes: float64(10)\n",
      "memory usage: 27.0 MB\n",
      "CPU times: user 1min 32s, sys: 26.6 s, total: 1min 59s\n",
      "Wall time: 1min 59s\n"
     ]
    },
    {
     "name": "stderr",
     "output_type": "stream",
     "text": [
      "\n"
     ]
    }
   ],
   "source": [
    "%%time\n",
    "\n",
    "#создадим пустой df\n",
    "imputed_data = pd.DataFrame(columns = data_4_imputation.columns)\n",
    "\n",
    "imputer = KNNImputer(n_neighbors=5)\n",
    "\n",
    "n_batches = 57 \n",
    "batch_size = int(np.ceil(len(data_4_imputation) / n_batches))\n",
    "print('Batch size:', batch_size)\n",
    "\n",
    "for batch_n in tqdm(range(0, n_batches)):\n",
    "    begin = batch_n * batch_size\n",
    "    end = (batch_n + 1) * batch_size\n",
    "    batch_of_data = data_4_imputation.iloc[begin:end, :]\n",
    "    imputed_batch = pd.DataFrame(np.round(imputer.fit_transform(batch_of_data)), columns = data_4_imputation.columns)\n",
    "    imputed_data = imputed_data.append(imputed_batch, ignore_index=True)\n",
    "    \n",
    "imputed_data.info()"
   ]
  },
  {
   "cell_type": "markdown",
   "metadata": {},
   "source": [
    "Размерность сохранилась, просмотрим получившиеся таблицы:"
   ]
  },
  {
   "cell_type": "code",
   "execution_count": 25,
   "metadata": {},
   "outputs": [
    {
     "data": {
      "text/html": [
       "<div>\n",
       "<style scoped>\n",
       "    .dataframe tbody tr th:only-of-type {\n",
       "        vertical-align: middle;\n",
       "    }\n",
       "\n",
       "    .dataframe tbody tr th {\n",
       "        vertical-align: top;\n",
       "    }\n",
       "\n",
       "    .dataframe thead th {\n",
       "        text-align: right;\n",
       "    }\n",
       "</style>\n",
       "<table border=\"1\" class=\"dataframe\">\n",
       "  <thead>\n",
       "    <tr style=\"text-align: right;\">\n",
       "      <th></th>\n",
       "      <th>VehicleType</th>\n",
       "      <th>RegistrationYear</th>\n",
       "      <th>Gearbox</th>\n",
       "      <th>Power</th>\n",
       "      <th>Model</th>\n",
       "      <th>Kilometer</th>\n",
       "      <th>RegistrationMonth</th>\n",
       "      <th>FuelType</th>\n",
       "      <th>Brand</th>\n",
       "      <th>NotRepaired</th>\n",
       "    </tr>\n",
       "  </thead>\n",
       "  <tbody>\n",
       "    <tr>\n",
       "      <td>0</td>\n",
       "      <td>NaN</td>\n",
       "      <td>1993</td>\n",
       "      <td>1</td>\n",
       "      <td>0</td>\n",
       "      <td>116</td>\n",
       "      <td>150000</td>\n",
       "      <td>0.0</td>\n",
       "      <td>6</td>\n",
       "      <td>38</td>\n",
       "      <td>NaN</td>\n",
       "    </tr>\n",
       "    <tr>\n",
       "      <td>1</td>\n",
       "      <td>2</td>\n",
       "      <td>2011</td>\n",
       "      <td>1</td>\n",
       "      <td>190</td>\n",
       "      <td>NaN</td>\n",
       "      <td>125000</td>\n",
       "      <td>5.0</td>\n",
       "      <td>2</td>\n",
       "      <td>1</td>\n",
       "      <td>1</td>\n",
       "    </tr>\n",
       "    <tr>\n",
       "      <td>2</td>\n",
       "      <td>6</td>\n",
       "      <td>2004</td>\n",
       "      <td>0</td>\n",
       "      <td>163</td>\n",
       "      <td>117</td>\n",
       "      <td>125000</td>\n",
       "      <td>8.0</td>\n",
       "      <td>2</td>\n",
       "      <td>14</td>\n",
       "      <td>NaN</td>\n",
       "    </tr>\n",
       "    <tr>\n",
       "      <td>3</td>\n",
       "      <td>5</td>\n",
       "      <td>2001</td>\n",
       "      <td>1</td>\n",
       "      <td>75</td>\n",
       "      <td>116</td>\n",
       "      <td>150000</td>\n",
       "      <td>6.0</td>\n",
       "      <td>6</td>\n",
       "      <td>38</td>\n",
       "      <td>0</td>\n",
       "    </tr>\n",
       "    <tr>\n",
       "      <td>4</td>\n",
       "      <td>5</td>\n",
       "      <td>2008</td>\n",
       "      <td>1</td>\n",
       "      <td>69</td>\n",
       "      <td>101</td>\n",
       "      <td>90000</td>\n",
       "      <td>7.0</td>\n",
       "      <td>2</td>\n",
       "      <td>31</td>\n",
       "      <td>0</td>\n",
       "    </tr>\n",
       "    <tr>\n",
       "      <td>...</td>\n",
       "      <td>...</td>\n",
       "      <td>...</td>\n",
       "      <td>...</td>\n",
       "      <td>...</td>\n",
       "      <td>...</td>\n",
       "      <td>...</td>\n",
       "      <td>...</td>\n",
       "      <td>...</td>\n",
       "      <td>...</td>\n",
       "      <td>...</td>\n",
       "    </tr>\n",
       "    <tr>\n",
       "      <td>354360</td>\n",
       "      <td>NaN</td>\n",
       "      <td>2005</td>\n",
       "      <td>1</td>\n",
       "      <td>0</td>\n",
       "      <td>78</td>\n",
       "      <td>150000</td>\n",
       "      <td>7.0</td>\n",
       "      <td>6</td>\n",
       "      <td>22</td>\n",
       "      <td>1</td>\n",
       "    </tr>\n",
       "    <tr>\n",
       "      <td>354361</td>\n",
       "      <td>NaN</td>\n",
       "      <td>2005</td>\n",
       "      <td>NaN</td>\n",
       "      <td>0</td>\n",
       "      <td>NaN</td>\n",
       "      <td>20000</td>\n",
       "      <td>1.0</td>\n",
       "      <td>NaN</td>\n",
       "      <td>33</td>\n",
       "      <td>NaN</td>\n",
       "    </tr>\n",
       "    <tr>\n",
       "      <td>354362</td>\n",
       "      <td>1</td>\n",
       "      <td>2000</td>\n",
       "      <td>0</td>\n",
       "      <td>101</td>\n",
       "      <td>106</td>\n",
       "      <td>125000</td>\n",
       "      <td>3.0</td>\n",
       "      <td>6</td>\n",
       "      <td>32</td>\n",
       "      <td>0</td>\n",
       "    </tr>\n",
       "    <tr>\n",
       "      <td>354363</td>\n",
       "      <td>0</td>\n",
       "      <td>1996</td>\n",
       "      <td>1</td>\n",
       "      <td>102</td>\n",
       "      <td>224</td>\n",
       "      <td>150000</td>\n",
       "      <td>3.0</td>\n",
       "      <td>2</td>\n",
       "      <td>38</td>\n",
       "      <td>0</td>\n",
       "    </tr>\n",
       "    <tr>\n",
       "      <td>354364</td>\n",
       "      <td>7</td>\n",
       "      <td>2002</td>\n",
       "      <td>1</td>\n",
       "      <td>100</td>\n",
       "      <td>116</td>\n",
       "      <td>150000</td>\n",
       "      <td>6.0</td>\n",
       "      <td>2</td>\n",
       "      <td>38</td>\n",
       "      <td>NaN</td>\n",
       "    </tr>\n",
       "  </tbody>\n",
       "</table>\n",
       "<p>354365 rows × 10 columns</p>\n",
       "</div>"
      ],
      "text/plain": [
       "       VehicleType  RegistrationYear Gearbox  Power Model  Kilometer  \\\n",
       "0              NaN              1993       1      0   116     150000   \n",
       "1                2              2011       1    190   NaN     125000   \n",
       "2                6              2004       0    163   117     125000   \n",
       "3                5              2001       1     75   116     150000   \n",
       "4                5              2008       1     69   101      90000   \n",
       "...            ...               ...     ...    ...   ...        ...   \n",
       "354360         NaN              2005       1      0    78     150000   \n",
       "354361         NaN              2005     NaN      0   NaN      20000   \n",
       "354362           1              2000       0    101   106     125000   \n",
       "354363           0              1996       1    102   224     150000   \n",
       "354364           7              2002       1    100   116     150000   \n",
       "\n",
       "        RegistrationMonth FuelType  Brand NotRepaired  \n",
       "0                     0.0        6     38         NaN  \n",
       "1                     5.0        2      1           1  \n",
       "2                     8.0        2     14         NaN  \n",
       "3                     6.0        6     38           0  \n",
       "4                     7.0        2     31           0  \n",
       "...                   ...      ...    ...         ...  \n",
       "354360                7.0        6     22           1  \n",
       "354361                1.0      NaN     33         NaN  \n",
       "354362                3.0        6     32           0  \n",
       "354363                3.0        2     38           0  \n",
       "354364                6.0        2     38         NaN  \n",
       "\n",
       "[354365 rows x 10 columns]"
      ]
     },
     "execution_count": 25,
     "metadata": {},
     "output_type": "execute_result"
    }
   ],
   "source": [
    "data_4_imputation"
   ]
  },
  {
   "cell_type": "code",
   "execution_count": 26,
   "metadata": {},
   "outputs": [
    {
     "data": {
      "text/html": [
       "<div>\n",
       "<style scoped>\n",
       "    .dataframe tbody tr th:only-of-type {\n",
       "        vertical-align: middle;\n",
       "    }\n",
       "\n",
       "    .dataframe tbody tr th {\n",
       "        vertical-align: top;\n",
       "    }\n",
       "\n",
       "    .dataframe thead th {\n",
       "        text-align: right;\n",
       "    }\n",
       "</style>\n",
       "<table border=\"1\" class=\"dataframe\">\n",
       "  <thead>\n",
       "    <tr style=\"text-align: right;\">\n",
       "      <th></th>\n",
       "      <th>VehicleType</th>\n",
       "      <th>RegistrationYear</th>\n",
       "      <th>Gearbox</th>\n",
       "      <th>Power</th>\n",
       "      <th>Model</th>\n",
       "      <th>Kilometer</th>\n",
       "      <th>RegistrationMonth</th>\n",
       "      <th>FuelType</th>\n",
       "      <th>Brand</th>\n",
       "      <th>NotRepaired</th>\n",
       "    </tr>\n",
       "  </thead>\n",
       "  <tbody>\n",
       "    <tr>\n",
       "      <td>0</td>\n",
       "      <td>4.0</td>\n",
       "      <td>1993.0</td>\n",
       "      <td>1.0</td>\n",
       "      <td>0.0</td>\n",
       "      <td>116.0</td>\n",
       "      <td>150000.0</td>\n",
       "      <td>0.0</td>\n",
       "      <td>6.0</td>\n",
       "      <td>38.0</td>\n",
       "      <td>0.0</td>\n",
       "    </tr>\n",
       "    <tr>\n",
       "      <td>1</td>\n",
       "      <td>2.0</td>\n",
       "      <td>2011.0</td>\n",
       "      <td>1.0</td>\n",
       "      <td>190.0</td>\n",
       "      <td>43.0</td>\n",
       "      <td>125000.0</td>\n",
       "      <td>5.0</td>\n",
       "      <td>2.0</td>\n",
       "      <td>1.0</td>\n",
       "      <td>1.0</td>\n",
       "    </tr>\n",
       "    <tr>\n",
       "      <td>2</td>\n",
       "      <td>6.0</td>\n",
       "      <td>2004.0</td>\n",
       "      <td>0.0</td>\n",
       "      <td>163.0</td>\n",
       "      <td>117.0</td>\n",
       "      <td>125000.0</td>\n",
       "      <td>8.0</td>\n",
       "      <td>2.0</td>\n",
       "      <td>14.0</td>\n",
       "      <td>0.0</td>\n",
       "    </tr>\n",
       "    <tr>\n",
       "      <td>3</td>\n",
       "      <td>5.0</td>\n",
       "      <td>2001.0</td>\n",
       "      <td>1.0</td>\n",
       "      <td>75.0</td>\n",
       "      <td>116.0</td>\n",
       "      <td>150000.0</td>\n",
       "      <td>6.0</td>\n",
       "      <td>6.0</td>\n",
       "      <td>38.0</td>\n",
       "      <td>0.0</td>\n",
       "    </tr>\n",
       "    <tr>\n",
       "      <td>4</td>\n",
       "      <td>5.0</td>\n",
       "      <td>2008.0</td>\n",
       "      <td>1.0</td>\n",
       "      <td>69.0</td>\n",
       "      <td>101.0</td>\n",
       "      <td>90000.0</td>\n",
       "      <td>7.0</td>\n",
       "      <td>2.0</td>\n",
       "      <td>31.0</td>\n",
       "      <td>0.0</td>\n",
       "    </tr>\n",
       "    <tr>\n",
       "      <td>...</td>\n",
       "      <td>...</td>\n",
       "      <td>...</td>\n",
       "      <td>...</td>\n",
       "      <td>...</td>\n",
       "      <td>...</td>\n",
       "      <td>...</td>\n",
       "      <td>...</td>\n",
       "      <td>...</td>\n",
       "      <td>...</td>\n",
       "      <td>...</td>\n",
       "    </tr>\n",
       "    <tr>\n",
       "      <td>354360</td>\n",
       "      <td>3.0</td>\n",
       "      <td>2005.0</td>\n",
       "      <td>1.0</td>\n",
       "      <td>0.0</td>\n",
       "      <td>78.0</td>\n",
       "      <td>150000.0</td>\n",
       "      <td>7.0</td>\n",
       "      <td>6.0</td>\n",
       "      <td>22.0</td>\n",
       "      <td>1.0</td>\n",
       "    </tr>\n",
       "    <tr>\n",
       "      <td>354361</td>\n",
       "      <td>4.0</td>\n",
       "      <td>2005.0</td>\n",
       "      <td>1.0</td>\n",
       "      <td>0.0</td>\n",
       "      <td>154.0</td>\n",
       "      <td>20000.0</td>\n",
       "      <td>1.0</td>\n",
       "      <td>4.0</td>\n",
       "      <td>33.0</td>\n",
       "      <td>0.0</td>\n",
       "    </tr>\n",
       "    <tr>\n",
       "      <td>354362</td>\n",
       "      <td>1.0</td>\n",
       "      <td>2000.0</td>\n",
       "      <td>0.0</td>\n",
       "      <td>101.0</td>\n",
       "      <td>106.0</td>\n",
       "      <td>125000.0</td>\n",
       "      <td>3.0</td>\n",
       "      <td>6.0</td>\n",
       "      <td>32.0</td>\n",
       "      <td>0.0</td>\n",
       "    </tr>\n",
       "    <tr>\n",
       "      <td>354363</td>\n",
       "      <td>0.0</td>\n",
       "      <td>1996.0</td>\n",
       "      <td>1.0</td>\n",
       "      <td>102.0</td>\n",
       "      <td>224.0</td>\n",
       "      <td>150000.0</td>\n",
       "      <td>3.0</td>\n",
       "      <td>2.0</td>\n",
       "      <td>38.0</td>\n",
       "      <td>0.0</td>\n",
       "    </tr>\n",
       "    <tr>\n",
       "      <td>354364</td>\n",
       "      <td>7.0</td>\n",
       "      <td>2002.0</td>\n",
       "      <td>1.0</td>\n",
       "      <td>100.0</td>\n",
       "      <td>116.0</td>\n",
       "      <td>150000.0</td>\n",
       "      <td>6.0</td>\n",
       "      <td>2.0</td>\n",
       "      <td>38.0</td>\n",
       "      <td>0.0</td>\n",
       "    </tr>\n",
       "  </tbody>\n",
       "</table>\n",
       "<p>354365 rows × 10 columns</p>\n",
       "</div>"
      ],
      "text/plain": [
       "        VehicleType  RegistrationYear  Gearbox  Power  Model  Kilometer  \\\n",
       "0               4.0            1993.0      1.0    0.0  116.0   150000.0   \n",
       "1               2.0            2011.0      1.0  190.0   43.0   125000.0   \n",
       "2               6.0            2004.0      0.0  163.0  117.0   125000.0   \n",
       "3               5.0            2001.0      1.0   75.0  116.0   150000.0   \n",
       "4               5.0            2008.0      1.0   69.0  101.0    90000.0   \n",
       "...             ...               ...      ...    ...    ...        ...   \n",
       "354360          3.0            2005.0      1.0    0.0   78.0   150000.0   \n",
       "354361          4.0            2005.0      1.0    0.0  154.0    20000.0   \n",
       "354362          1.0            2000.0      0.0  101.0  106.0   125000.0   \n",
       "354363          0.0            1996.0      1.0  102.0  224.0   150000.0   \n",
       "354364          7.0            2002.0      1.0  100.0  116.0   150000.0   \n",
       "\n",
       "        RegistrationMonth  FuelType  Brand  NotRepaired  \n",
       "0                     0.0       6.0   38.0          0.0  \n",
       "1                     5.0       2.0    1.0          1.0  \n",
       "2                     8.0       2.0   14.0          0.0  \n",
       "3                     6.0       6.0   38.0          0.0  \n",
       "4                     7.0       2.0   31.0          0.0  \n",
       "...                   ...       ...    ...          ...  \n",
       "354360                7.0       6.0   22.0          1.0  \n",
       "354361                1.0       4.0   33.0          0.0  \n",
       "354362                3.0       6.0   32.0          0.0  \n",
       "354363                3.0       2.0   38.0          0.0  \n",
       "354364                6.0       2.0   38.0          0.0  \n",
       "\n",
       "[354365 rows x 10 columns]"
      ]
     },
     "execution_count": 26,
     "metadata": {},
     "output_type": "execute_result"
    }
   ],
   "source": [
    "imputed_data"
   ]
  },
  {
   "cell_type": "markdown",
   "metadata": {},
   "source": [
    "Пропуски заполнились, проверим изменились ли распределения:"
   ]
  },
  {
   "cell_type": "markdown",
   "metadata": {},
   "source": [
    "`NotRepaired`"
   ]
  },
  {
   "cell_type": "code",
   "execution_count": 27,
   "metadata": {},
   "outputs": [
    {
     "data": {
      "text/plain": [
       "0.14587025303651915"
      ]
     },
     "execution_count": 27,
     "metadata": {},
     "output_type": "execute_result"
    }
   ],
   "source": [
    "data['NotRepaired'].value_counts()[1] / data['NotRepaired'].value_counts()[0]"
   ]
  },
  {
   "cell_type": "code",
   "execution_count": 28,
   "metadata": {},
   "outputs": [
    {
     "data": {
      "text/plain": [
       "0.13114827358361078"
      ]
     },
     "execution_count": 28,
     "metadata": {},
     "output_type": "execute_result"
    }
   ],
   "source": [
    "imputed_data['NotRepaired'].value_counts()[1] / imputed_data['NotRepaired'].value_counts()[0]"
   ]
  },
  {
   "cell_type": "markdown",
   "metadata": {},
   "source": [
    "Отношение изменилось на 1.5%. В целом это хороший результат для заполнения."
   ]
  },
  {
   "cell_type": "markdown",
   "metadata": {},
   "source": [
    "`FuelType`"
   ]
  },
  {
   "cell_type": "code",
   "execution_count": 29,
   "metadata": {},
   "outputs": [
    {
     "data": {
      "text/plain": [
       "7"
      ]
     },
     "execution_count": 29,
     "metadata": {},
     "output_type": "execute_result"
    }
   ],
   "source": [
    "data['FuelType'].nunique()"
   ]
  },
  {
   "cell_type": "code",
   "execution_count": 30,
   "metadata": {},
   "outputs": [
    {
     "data": {
      "image/png": "[encoded data removed]",
      "text/plain": [
       "<Figure size 432x432 with 1 Axes>"
      ]
     },
     "metadata": {},
     "output_type": "display_data"
    }
   ],
   "source": [
    "#создадим график до замены\n",
    "ax = data['FuelType'].plot(kind = 'hist', bins = 8, label= 'before imputation')\n",
    "mean_before = data['FuelType'].mean()\n",
    "\n",
    "#создадим график после замены\n",
    "imputed_data['FuelType'].plot(ax = ax, \n",
    "                                alpha = 0.3,\n",
    "                                kind = 'hist', \n",
    "                                label= 'after imputation', \n",
    "                                bins = 8,\n",
    "                                figsize =(6, 6),\n",
    "                                grid = True)\n",
    "\n",
    "plt.xlabel('Значение выбранного признака')\n",
    "plt.ylabel('Частота')\n",
    "plt.title('Распределения до и после замены')\n",
    "plt.legend(loc='upper left');"
   ]
  },
  {
   "cell_type": "markdown",
   "metadata": {},
   "source": [
    "Можно сказать что визуально распределения похожи. Поскольку это категориальные переменные, среднее и дисперсию считать смысла нет. Будем считать что заполнение проведено успешно."
   ]
  },
  {
   "cell_type": "code",
   "execution_count": 31,
   "metadata": {},
   "outputs": [
    {
     "data": {
      "text/plain": [
       "((354365,), (354365, 10))"
      ]
     },
     "execution_count": 31,
     "metadata": {},
     "output_type": "execute_result"
    }
   ],
   "source": [
    "data['Price'].shape, imputed_data.shape"
   ]
  },
  {
   "cell_type": "code",
   "execution_count": 32,
   "metadata": {},
   "outputs": [
    {
     "data": {
      "text/html": [
       "<div>\n",
       "<style scoped>\n",
       "    .dataframe tbody tr th:only-of-type {\n",
       "        vertical-align: middle;\n",
       "    }\n",
       "\n",
       "    .dataframe tbody tr th {\n",
       "        vertical-align: top;\n",
       "    }\n",
       "\n",
       "    .dataframe thead th {\n",
       "        text-align: right;\n",
       "    }\n",
       "</style>\n",
       "<table border=\"1\" class=\"dataframe\">\n",
       "  <thead>\n",
       "    <tr style=\"text-align: right;\">\n",
       "      <th></th>\n",
       "      <th>VehicleType</th>\n",
       "      <th>RegistrationYear</th>\n",
       "      <th>Gearbox</th>\n",
       "      <th>Power</th>\n",
       "      <th>Model</th>\n",
       "      <th>Kilometer</th>\n",
       "      <th>RegistrationMonth</th>\n",
       "      <th>FuelType</th>\n",
       "      <th>Brand</th>\n",
       "      <th>NotRepaired</th>\n",
       "      <th>Price</th>\n",
       "    </tr>\n",
       "  </thead>\n",
       "  <tbody>\n",
       "    <tr>\n",
       "      <td>0</td>\n",
       "      <td>4.0</td>\n",
       "      <td>1993.0</td>\n",
       "      <td>1.0</td>\n",
       "      <td>0.0</td>\n",
       "      <td>116.0</td>\n",
       "      <td>150000.0</td>\n",
       "      <td>0.0</td>\n",
       "      <td>6.0</td>\n",
       "      <td>38.0</td>\n",
       "      <td>0.0</td>\n",
       "      <td>480</td>\n",
       "    </tr>\n",
       "    <tr>\n",
       "      <td>1</td>\n",
       "      <td>2.0</td>\n",
       "      <td>2011.0</td>\n",
       "      <td>1.0</td>\n",
       "      <td>190.0</td>\n",
       "      <td>43.0</td>\n",
       "      <td>125000.0</td>\n",
       "      <td>5.0</td>\n",
       "      <td>2.0</td>\n",
       "      <td>1.0</td>\n",
       "      <td>1.0</td>\n",
       "      <td>18300</td>\n",
       "    </tr>\n",
       "    <tr>\n",
       "      <td>2</td>\n",
       "      <td>6.0</td>\n",
       "      <td>2004.0</td>\n",
       "      <td>0.0</td>\n",
       "      <td>163.0</td>\n",
       "      <td>117.0</td>\n",
       "      <td>125000.0</td>\n",
       "      <td>8.0</td>\n",
       "      <td>2.0</td>\n",
       "      <td>14.0</td>\n",
       "      <td>0.0</td>\n",
       "      <td>9800</td>\n",
       "    </tr>\n",
       "    <tr>\n",
       "      <td>3</td>\n",
       "      <td>5.0</td>\n",
       "      <td>2001.0</td>\n",
       "      <td>1.0</td>\n",
       "      <td>75.0</td>\n",
       "      <td>116.0</td>\n",
       "      <td>150000.0</td>\n",
       "      <td>6.0</td>\n",
       "      <td>6.0</td>\n",
       "      <td>38.0</td>\n",
       "      <td>0.0</td>\n",
       "      <td>1500</td>\n",
       "    </tr>\n",
       "    <tr>\n",
       "      <td>4</td>\n",
       "      <td>5.0</td>\n",
       "      <td>2008.0</td>\n",
       "      <td>1.0</td>\n",
       "      <td>69.0</td>\n",
       "      <td>101.0</td>\n",
       "      <td>90000.0</td>\n",
       "      <td>7.0</td>\n",
       "      <td>2.0</td>\n",
       "      <td>31.0</td>\n",
       "      <td>0.0</td>\n",
       "      <td>3600</td>\n",
       "    </tr>\n",
       "    <tr>\n",
       "      <td>...</td>\n",
       "      <td>...</td>\n",
       "      <td>...</td>\n",
       "      <td>...</td>\n",
       "      <td>...</td>\n",
       "      <td>...</td>\n",
       "      <td>...</td>\n",
       "      <td>...</td>\n",
       "      <td>...</td>\n",
       "      <td>...</td>\n",
       "      <td>...</td>\n",
       "      <td>...</td>\n",
       "    </tr>\n",
       "    <tr>\n",
       "      <td>354360</td>\n",
       "      <td>3.0</td>\n",
       "      <td>2005.0</td>\n",
       "      <td>1.0</td>\n",
       "      <td>0.0</td>\n",
       "      <td>78.0</td>\n",
       "      <td>150000.0</td>\n",
       "      <td>7.0</td>\n",
       "      <td>6.0</td>\n",
       "      <td>22.0</td>\n",
       "      <td>1.0</td>\n",
       "      <td>0</td>\n",
       "    </tr>\n",
       "    <tr>\n",
       "      <td>354361</td>\n",
       "      <td>4.0</td>\n",
       "      <td>2005.0</td>\n",
       "      <td>1.0</td>\n",
       "      <td>0.0</td>\n",
       "      <td>154.0</td>\n",
       "      <td>20000.0</td>\n",
       "      <td>1.0</td>\n",
       "      <td>4.0</td>\n",
       "      <td>33.0</td>\n",
       "      <td>0.0</td>\n",
       "      <td>2200</td>\n",
       "    </tr>\n",
       "    <tr>\n",
       "      <td>354362</td>\n",
       "      <td>1.0</td>\n",
       "      <td>2000.0</td>\n",
       "      <td>0.0</td>\n",
       "      <td>101.0</td>\n",
       "      <td>106.0</td>\n",
       "      <td>125000.0</td>\n",
       "      <td>3.0</td>\n",
       "      <td>6.0</td>\n",
       "      <td>32.0</td>\n",
       "      <td>0.0</td>\n",
       "      <td>1199</td>\n",
       "    </tr>\n",
       "    <tr>\n",
       "      <td>354363</td>\n",
       "      <td>0.0</td>\n",
       "      <td>1996.0</td>\n",
       "      <td>1.0</td>\n",
       "      <td>102.0</td>\n",
       "      <td>224.0</td>\n",
       "      <td>150000.0</td>\n",
       "      <td>3.0</td>\n",
       "      <td>2.0</td>\n",
       "      <td>38.0</td>\n",
       "      <td>0.0</td>\n",
       "      <td>9200</td>\n",
       "    </tr>\n",
       "    <tr>\n",
       "      <td>354364</td>\n",
       "      <td>7.0</td>\n",
       "      <td>2002.0</td>\n",
       "      <td>1.0</td>\n",
       "      <td>100.0</td>\n",
       "      <td>116.0</td>\n",
       "      <td>150000.0</td>\n",
       "      <td>6.0</td>\n",
       "      <td>2.0</td>\n",
       "      <td>38.0</td>\n",
       "      <td>0.0</td>\n",
       "      <td>3400</td>\n",
       "    </tr>\n",
       "  </tbody>\n",
       "</table>\n",
       "<p>354365 rows × 11 columns</p>\n",
       "</div>"
      ],
      "text/plain": [
       "        VehicleType  RegistrationYear  Gearbox  Power  Model  Kilometer  \\\n",
       "0               4.0            1993.0      1.0    0.0  116.0   150000.0   \n",
       "1               2.0            2011.0      1.0  190.0   43.0   125000.0   \n",
       "2               6.0            2004.0      0.0  163.0  117.0   125000.0   \n",
       "3               5.0            2001.0      1.0   75.0  116.0   150000.0   \n",
       "4               5.0            2008.0      1.0   69.0  101.0    90000.0   \n",
       "...             ...               ...      ...    ...    ...        ...   \n",
       "354360          3.0            2005.0      1.0    0.0   78.0   150000.0   \n",
       "354361          4.0            2005.0      1.0    0.0  154.0    20000.0   \n",
       "354362          1.0            2000.0      0.0  101.0  106.0   125000.0   \n",
       "354363          0.0            1996.0      1.0  102.0  224.0   150000.0   \n",
       "354364          7.0            2002.0      1.0  100.0  116.0   150000.0   \n",
       "\n",
       "        RegistrationMonth  FuelType  Brand  NotRepaired  Price  \n",
       "0                     0.0       6.0   38.0          0.0    480  \n",
       "1                     5.0       2.0    1.0          1.0  18300  \n",
       "2                     8.0       2.0   14.0          0.0   9800  \n",
       "3                     6.0       6.0   38.0          0.0   1500  \n",
       "4                     7.0       2.0   31.0          0.0   3600  \n",
       "...                   ...       ...    ...          ...    ...  \n",
       "354360                7.0       6.0   22.0          1.0      0  \n",
       "354361                1.0       4.0   33.0          0.0   2200  \n",
       "354362                3.0       6.0   32.0          0.0   1199  \n",
       "354363                3.0       2.0   38.0          0.0   9200  \n",
       "354364                6.0       2.0   38.0          0.0   3400  \n",
       "\n",
       "[354365 rows x 11 columns]"
      ]
     },
     "execution_count": 32,
     "metadata": {},
     "output_type": "execute_result"
    }
   ],
   "source": [
    "imputed_data = imputed_data.join(data['Price'])\n",
    "imputed_data"
   ]
  },
  {
   "cell_type": "markdown",
   "metadata": {},
   "source": [
    "### Вывод"
   ]
  },
  {
   "cell_type": "markdown",
   "metadata": {},
   "source": [
    "В изначальных данных мы получили всего 354369 объявлений. В 5и строках наблюдались пропуски. Также можно было заметить нулевые значения мощности `Power`.\n",
    "\n",
    "1.2 Далее была проведена предобработка данных:  \n",
    "1.2.1  Проверка дубликатов\n",
    "\n",
    "Так как это полные дубликаты где совпадает даже время, то они скорее всего появляются при создании финального датасета, например при склеивании таблиц. Дубликаты были удалены.\n",
    "\n",
    "1.2.2  Кодировка признаков  \n",
    "Был выбран и обоснован способ кодировки категориальных данных. Было решено использовать Ordinal encoding.  \n",
    "Также на данном этапе были обнаружены следующие проблемы в признаках:\n",
    "\n",
    "    RegistrationMonth - месяцов всего 12, а не 13;\n",
    "    Kilometer - очень малая вариативность значений; скорее всего это связано с тем, что значение синтетическое.\n",
    "    FuelType - много различных видов топлива;\n",
    "    NumberOfPictures - всего одно значение и это 0.\n",
    "\n",
    "1.2.3  Анализ значений\n",
    "\n",
    "    RegistrationMonth: Появляется нулевой месяц. В целом можно сказать что 0 появляются примерно также как и остальные месяца. Есть два возможных объяснения: \n",
    "    1. этот признак сформирован автоматически, при его формировании случайно добавили \"нулевой месяц\"; \n",
    "    2. так записывали пропущенные значения. Поскольку признаки категориальные, можем оставить все как есть, работу моделей это не изменит, информацию можно будет получить.\n",
    "    FuelType: Был проверен список уникальных значений.\n",
    "    NumberOfPictures: Этот признак состоял только из нулей. Скорее всего эти данные были потеряны при формировании датасета. Поскольку эти данные мы восстановить никак не можем, признак был удален.\n",
    "\n",
    "1.2.4  Ordinal encoding  \n",
    "После создания списка категориальных переменных мы их закодировали.\n",
    "\n",
    "1.2.5  Обработка пропусков  \n",
    "Заполнение пропусков было проведено с помощью KNNImputer, который заполняет значения по n ближайшим соседям. Алгоритм реализовывался batch-ами, которые разделяли выборку на несколько подвыборок. Заполнение мы оценивали по признаку NotRepaired, где самое большое количество пропусков и FuelType.  \n",
    "\n",
    "    NotRepaired: Отношение изменилось на 1.5%. В целом это хороший результат для заполнения.  \n",
    "    FuelType: Распределения были визуально похожи. Поскольку это категориальные переменные, среднее и дисперсию мы не считали. Мы пришли к выводу, что заполнение проведено успешно."
   ]
  },
  {
   "cell_type": "markdown",
   "metadata": {},
   "source": [
    "## Исследовательский анализ данных"
   ]
  },
  {
   "cell_type": "markdown",
   "metadata": {},
   "source": [
    "### Распределения признаков. Оценка аномальных значений."
   ]
  },
  {
   "cell_type": "markdown",
   "metadata": {},
   "source": [
    "`Kilometer`"
   ]
  },
  {
   "cell_type": "code",
   "execution_count": 33,
   "metadata": {},
   "outputs": [
    {
     "data": {
      "image/png": "[encoded data removed]",
      "text/plain": [
       "<Figure size 432x288 with 1 Axes>"
      ]
     },
     "metadata": {},
     "output_type": "display_data"
    }
   ],
   "source": [
    "(imputed_data['Kilometer'] / 1000).plot(kind = 'hist', bins = 13)\n",
    "plt.xlabel('тыс. км')\n",
    "plt.ylabel('Частота')\n",
    "plt.title('Распределение километража');"
   ]
  },
  {
   "cell_type": "markdown",
   "metadata": {},
   "source": [
    "Обнаруживаем ещё одну проблему: очень много максимальных значений 150 тыс. км. Среднестатистический автомобиль проезжает около 15 тыс. км в год. Получается у нас большинство автомобилей возрастом около 10 лет.   \n",
    "Скорее всего возникла ошибка при создании датасета. При обучении наших моделей такой столбец будет ухудшать их работу, а значит скорее всего его придется удалить."
   ]
  },
  {
   "cell_type": "markdown",
   "metadata": {},
   "source": [
    "`Price`"
   ]
  },
  {
   "cell_type": "code",
   "execution_count": 34,
   "metadata": {},
   "outputs": [
    {
     "data": {
      "image/png": "[encoded data removed]",
      "text/plain": [
       "<Figure size 432x288 with 1 Axes>"
      ]
     },
     "metadata": {},
     "output_type": "display_data"
    }
   ],
   "source": [
    "imputed_data['Price'].plot(kind = 'hist', bins = 37);\n",
    "plt.xlabel('Цена, евро')\n",
    "plt.ylabel('Частота')\n",
    "plt.title('Распределение цен');"
   ]
  },
  {
   "cell_type": "markdown",
   "metadata": {},
   "source": [
    "Распределение похоже на распределения Пуассона - видим пик значений около 1500 евро и длинный хвост справа."
   ]
  },
  {
   "cell_type": "markdown",
   "metadata": {},
   "source": [
    "`Power`"
   ]
  },
  {
   "cell_type": "markdown",
   "metadata": {},
   "source": [
    "Разберем нулевые значения в этом столбце и посмотрим на распределение признака."
   ]
  },
  {
   "cell_type": "code",
   "execution_count": 35,
   "metadata": {},
   "outputs": [
    {
     "data": {
      "text/plain": [
       "count    354365.000000\n",
       "mean        110.093816\n",
       "std         189.851330\n",
       "min           0.000000\n",
       "25%          69.000000\n",
       "50%         105.000000\n",
       "75%         143.000000\n",
       "max       20000.000000\n",
       "Name: Power, dtype: float64"
      ]
     },
     "execution_count": 35,
     "metadata": {},
     "output_type": "execute_result"
    }
   ],
   "source": [
    "imputed_data['Power'].describe()"
   ]
  },
  {
   "cell_type": "code",
   "execution_count": 36,
   "metadata": {},
   "outputs": [
    {
     "data": {
      "image/png": "[encoded data removed]",
      "text/plain": [
       "<Figure size 432x288 with 1 Axes>"
      ]
     },
     "metadata": {},
     "output_type": "display_data"
    }
   ],
   "source": [
    "g = sns.histplot(data=imputed_data, x=\"Power\") \n",
    "\n",
    "plt.xlim(1, 500)\n",
    "plt.xlabel('Мощность (л. с.)')\n",
    "plt.ylabel('Частота')\n",
    "plt.title('Распределение мощности');"
   ]
  },
  {
   "cell_type": "markdown",
   "metadata": {},
   "source": [
    "Посмотрим сколько у нас нулевых значений:"
   ]
  },
  {
   "cell_type": "code",
   "execution_count": 37,
   "metadata": {},
   "outputs": [
    {
     "data": {
      "text/plain": [
       "40225"
      ]
     },
     "execution_count": 37,
     "metadata": {},
     "output_type": "execute_result"
    }
   ],
   "source": [
    "imputed_data[imputed_data['Power'] == 0]['Power'].count()"
   ]
  },
  {
   "cell_type": "markdown",
   "metadata": {},
   "source": [
    "Их действительно много. Почему могут возникать нулевые значения?  \n",
    "Первый вариант: люди таким образом указывают то что автомобиль не на ходу.  \n",
    "Второй вариант: пропущенные значения в датасете были заполнены нулями.  \n",
    "Могут быть и другие варианты, однако неоднозначность в объяснении склоняет нас к тому, что эти значения не могут быть восстановлены или заменены на другие и их придется удалить."
   ]
  },
  {
   "cell_type": "code",
   "execution_count": 38,
   "metadata": {},
   "outputs": [
    {
     "data": {
      "text/plain": [
       "(314140, 11)"
      ]
     },
     "execution_count": 38,
     "metadata": {},
     "output_type": "execute_result"
    }
   ],
   "source": [
    "imputed_data.drop(imputed_data[imputed_data['Power'] == 0].index, axis=0, inplace = True)\n",
    "imputed_data.shape"
   ]
  },
  {
   "cell_type": "markdown",
   "metadata": {},
   "source": [
    "На 2021 год самая мощная машина в мире имеет около 2012 лошадиных сил. Вполне возможно что люди иногда продают суперкары, однако все что выше этого значания можно считать выбросами и также удалить. "
   ]
  },
  {
   "cell_type": "code",
   "execution_count": 39,
   "metadata": {},
   "outputs": [
    {
     "data": {
      "text/plain": [
       "116"
      ]
     },
     "execution_count": 39,
     "metadata": {},
     "output_type": "execute_result"
    }
   ],
   "source": [
    "imputed_data[imputed_data['Power'] > 2012]['Power'].count()"
   ]
  },
  {
   "cell_type": "code",
   "execution_count": 40,
   "metadata": {},
   "outputs": [
    {
     "data": {
      "text/plain": [
       "(314024, 11)"
      ]
     },
     "execution_count": 40,
     "metadata": {},
     "output_type": "execute_result"
    }
   ],
   "source": [
    "imputed_data.drop(imputed_data[imputed_data['Power'] > 2012].index, axis=0, inplace = True)\n",
    "imputed_data.shape"
   ]
  },
  {
   "cell_type": "markdown",
   "metadata": {},
   "source": [
    "### Оценка корреляции признаков."
   ]
  },
  {
   "cell_type": "markdown",
   "metadata": {},
   "source": [
    "Для категориальных признаков воспользуемся коэффициентом коррелияции V Крамера. Количественная переменная у нас только `Power`, так как километры в нашем датасете представлены как категории."
   ]
  },
  {
   "cell_type": "code",
   "execution_count": 41,
   "metadata": {},
   "outputs": [],
   "source": [
    "def cramers_v(x, y):\n",
    "    confusion_matrix = pd.crosstab(x,y)\n",
    "    chi2 = ss.chi2_contingency(confusion_matrix)[0]\n",
    "    n = confusion_matrix.sum().sum()\n",
    "    phi2 = chi2/n\n",
    "    r,k = confusion_matrix.shape\n",
    "    phi2corr = max(0, phi2-((k-1)*(r-1))/(n-1))\n",
    "    rcorr = r-((r-1)**2)/(n-1)\n",
    "    kcorr = k-((k-1)**2)/(n-1)\n",
    "    return np.sqrt(phi2corr/min((kcorr-1),(rcorr-1)))"
   ]
  },
  {
   "cell_type": "code",
   "execution_count": 42,
   "metadata": {},
   "outputs": [
    {
     "data": {
      "image/png": "[encoded data removed]",
      "text/plain": [
       "<Figure size 648x648 with 2 Axes>"
      ]
     },
     "metadata": {},
     "output_type": "display_data"
    }
   ],
   "source": [
    "sns.set_theme(style=\"white\")\n",
    "\n",
    "#Вычислим матрицу кореляции\n",
    "corr = imputed_data.drop(['Power'], axis = 1).corr(method=cramers_v)\n",
    "\n",
    "#Зададим маску\n",
    "mask = np.triu(np.ones_like(corr, dtype=bool))\n",
    "\n",
    "f, ax = plt.subplots(figsize=(9, 9))\n",
    "\n",
    "#Зададим colormap\n",
    "cmap = sns.diverging_palette(230, 20, as_cmap=True)\n",
    "\n",
    "sns.heatmap(corr, mask=mask, cmap=cmap, center=0,\n",
    "                square=True, linewidths=.5, cbar_kws={\"shrink\": .5})\n",
    "\n",
    "plt.title(f'Корреляция признаков');"
   ]
  },
  {
   "cell_type": "markdown",
   "metadata": {},
   "source": [
    "Видим что самая большая корреляция присутствует у `Brand` и `Model`, а также, как мы и ожидали, обнаруживается корреляция между `VehicleType` и `Model`."
   ]
  },
  {
   "cell_type": "code",
   "execution_count": 43,
   "metadata": {},
   "outputs": [
    {
     "data": {
      "text/plain": [
       "0.7935614185274869"
      ]
     },
     "execution_count": 43,
     "metadata": {},
     "output_type": "execute_result"
    }
   ],
   "source": [
    "corr['Brand']['Model']"
   ]
  },
  {
   "cell_type": "code",
   "execution_count": 44,
   "metadata": {},
   "outputs": [
    {
     "data": {
      "text/plain": [
       "0.5708330853626837"
      ]
     },
     "execution_count": 44,
     "metadata": {},
     "output_type": "execute_result"
    }
   ],
   "source": [
    "corr['VehicleType']['Model']"
   ]
  },
  {
   "cell_type": "markdown",
   "metadata": {},
   "source": [
    "Коэффициент корреляции V Крамера может принимать знчения от 0 до 1. 0.79 это довольно большое значение. К тому же признак Модель `Model` попарно коррелирует с двумя другими. Для борьбы с мультиколлинеарностью можно либо удалять один из признаков, либо добавлять в модели регуляризяцию. \n",
    "Удалим признак `Model` и посмотрим на работу моделей."
   ]
  },
  {
   "cell_type": "code",
   "execution_count": 45,
   "metadata": {},
   "outputs": [],
   "source": [
    "imputed_data.drop(['Model'], axis = 1, inplace = True)"
   ]
  },
  {
   "cell_type": "markdown",
   "metadata": {},
   "source": [
    "### Вывод"
   ]
  },
  {
   "cell_type": "markdown",
   "metadata": {},
   "source": [
    "На данном этапе мы проводили исследовательский анализ данных.  \n",
    "2.1 В начале были рассмотрены распределения признаков и проведена оценка аномальных значений.\n",
    "\n",
    "- `Kilometer`: Обнаруживаем ещё одну проблему: очень много максимальных значений 150 тыс. км. Среднестатистический автомобиль проезжает около 15 тыс. км в год. Получается у нас большинство автомобилей возрастом около 10 лет.\n",
    "Скорее всего возникла ошибка при создании датасета. При обучении наших моделей такой столбец будет ухудшать их работу.\n",
    "\n",
    "- `Price`: Распределение похоже на распределения Пуассона – наблюдался пик значений около 1500 евро и длинный хвост справа.\n",
    "\n",
    "- `Power`: Количество нулевых значений: 40225  \n",
    "    Почему могут возникать нулевые значения?  \n",
    "    Первый вариант: люди таким образом указывают то что автомобиль не на ходу.  \n",
    "    Второй вариант: пропущенные значения в датасете были заполнены нулями.  \n",
    "    Могут быть и другие варианты, однако неоднозначность в объяснении склоняет нас к тому, что эти значения не могут быть восстановлены или заменены на другие и их придется удалить.\n",
    "\n",
    "    На 2021 год самая мощная машина в мире имеет около 2012 лошадиных сил. Вполне возможно что люди иногда продают суперкары, однако все что выше этого значания мы считали выбросами (116 объявлений) и удаляли. \n",
    "\n",
    "2.2 Была проведена оценка корреляции признаков.  \n",
    "Для категориальных признаков мы использовали коэффициент коррелияции V Крамера. \n",
    "\n",
    "Самая большая корреляция наблюдалась у `Brand` и `Model` (0.79), а также, как мы и ожидали, обнаруживается корреляция между `VehicleType` и `Model` (0.57).\n",
    "\n",
    "Коэффициент корреляции V Крамера может принимать знчения от 0 до 1. 0.79 это довольно большое значение. К тому же признак Модель попарно коррелирует с двумя другими. На данном этапе мы решили удалить признак `Model` и оценить на работу моделей."
   ]
  },
  {
   "cell_type": "markdown",
   "metadata": {},
   "source": [
    "## Построение моделей  "
   ]
  },
  {
   "cell_type": "markdown",
   "metadata": {},
   "source": [
    "### Выбор метрики для оценки качества моделей.  "
   ]
  },
  {
   "cell_type": "markdown",
   "metadata": {},
   "source": [
    "Для оценки моделей на этапе обучений будем использовать метрику RMSE. Она легко считается, а также придаёт больший вес большим ошибкам.  \n",
    "На этапе анализа моделей можно добавить MAE для лучшей интерпретируемости оценки."
   ]
  },
  {
   "cell_type": "markdown",
   "metadata": {},
   "source": [
    "### Обучение моделей и оценка их качества кросс-валидацией. "
   ]
  },
  {
   "cell_type": "markdown",
   "metadata": {},
   "source": [
    "Зададим признаки `features` и целевой признак `target`:"
   ]
  },
  {
   "cell_type": "code",
   "execution_count": 46,
   "metadata": {},
   "outputs": [
    {
     "data": {
      "text/plain": [
       "((314024, 9), (314024,))"
      ]
     },
     "execution_count": 46,
     "metadata": {},
     "output_type": "execute_result"
    }
   ],
   "source": [
    "features = imputed_data.drop(['Price'], axis = 1)\n",
    "target = imputed_data['Price']\n",
    "\n",
    "features.shape, target.shape"
   ]
  },
  {
   "cell_type": "markdown",
   "metadata": {},
   "source": [
    "Поскольку у нас нет тестовой выборки, зададим её сами. Для того, чтобы получить из данных как можно больше информации, делить выборки будем в соотношении 4:1. "
   ]
  },
  {
   "cell_type": "code",
   "execution_count": 47,
   "metadata": {},
   "outputs": [],
   "source": [
    "#разделим выборки\n",
    "features_train, features_test, target_train, target_test = train_test_split(features, \n",
    "                                                                              target, \n",
    "                                                                              test_size=0.2,      \n",
    "                                                                              random_state=RS)"
   ]
  },
  {
   "cell_type": "code",
   "execution_count": 48,
   "metadata": {},
   "outputs": [],
   "source": [
    "#категориальные признаки\n",
    "categorical_features = features.drop(['Power'], axis = 1).columns.tolist()"
   ]
  },
  {
   "cell_type": "code",
   "execution_count": 49,
   "metadata": {},
   "outputs": [],
   "source": [
    "#расчет RMSE\n",
    "def rmse(validation, predictions):\n",
    "    return mse(validation, predictions) ** 0.5"
   ]
  },
  {
   "cell_type": "markdown",
   "metadata": {},
   "source": [
    "### Light GBM"
   ]
  },
  {
   "cell_type": "code",
   "execution_count": 51,
   "metadata": {},
   "outputs": [
    {
     "name": "stdout",
     "output_type": "stream",
     "text": [
      "Fitting 5 folds for each of 7 candidates, totalling 35 fits\n",
      "best_params: {'num_leaves': 70, 'min_child_samples': 30, 'max_depth': 10, 'learning_rate': 0.01}\n",
      "best_score: -2579.2203959204935\n",
      "CPU times: user 9min 43s, sys: 3.54 s, total: 9min 47s\n",
      "Wall time: 9min 53s\n"
     ]
    }
   ],
   "source": [
    "%%time\n",
    "model = lgb.LGBMRegressor(objective='regression', num_round = 100, random_state=RS)\n",
    "\n",
    "grid_params = {\n",
    "             'learning_rate': [0.005, 0.01], #рейт обучения\n",
    "             'num_leaves': range(10, 71, 20),  #макс. количество листьев\n",
    "             'min_child_samples': [10, 20, 30], #минимальный размер для нового листа\n",
    "             'max_depth': range(10, 201, 50), #максимальная глубина дерева\n",
    "             }\n",
    "        \n",
    "grid = RandomizedSearchCV(model, grid_params, \n",
    "                    cv=5, n_jobs = -1, \n",
    "                    n_iter=7,\n",
    "                    scoring = make_scorer(rmse, greater_is_better=False), \n",
    "                    verbose=1)\n",
    "\n",
    "grid.fit(features_train, target_train, \n",
    "         categorical_feature = categorical_features\n",
    "        )\n",
    "\n",
    "print('best_params:', grid.best_params_)\n",
    "print('best_score:', grid.best_score_)"
   ]
  },
  {
   "cell_type": "markdown",
   "metadata": {},
   "source": [
    "Лучшие параметры: {'num_leaves': 70, 'min_child_samples': 30, 'max_depth': 10, 'learning_rate': 0.01}  \n",
    "Лучший RMSE: 2579.22"
   ]
  },
  {
   "cell_type": "markdown",
   "metadata": {},
   "source": [
    "### RandomForestRegressor"
   ]
  },
  {
   "cell_type": "code",
   "execution_count": 52,
   "metadata": {},
   "outputs": [
    {
     "name": "stdout",
     "output_type": "stream",
     "text": [
      "best_params: {'max_depth': 11, 'n_estimators': 30}\n",
      "best_score: -1947.9425018017585\n",
      "CPU times: user 2min 12s, sys: 0 ns, total: 2min 12s\n",
      "Wall time: 2min 12s\n"
     ]
    }
   ],
   "source": [
    "%%time\n",
    "model = RandomForestRegressor(random_state = RS)\n",
    "parameters = {'n_estimators': range (10, 31, 20),\n",
    "              'max_depth': range (1, 12, 5),\n",
    "              }\n",
    "\n",
    "grid = GridSearchCV(model, parameters, cv=5, n_jobs = -1, \n",
    "                    scoring = make_scorer(rmse, greater_is_better=False), \n",
    "                    verbose = 0)\n",
    "\n",
    "grid.fit(features_train, target_train)\n",
    "\n",
    "print('best_params:', grid.best_params_)\n",
    "print('best_score:', grid.best_score_)"
   ]
  },
  {
   "cell_type": "markdown",
   "metadata": {},
   "source": [
    "Лучшие параметры: {'max_depth': 11, 'n_estimators': 30}  \n",
    "Лучший RMSE: 1947.94\n",
    "\n",
    "Как видим, простая модель случайного леса показывает лучшие результаты чем LGBM. \n",
    "На этапе анализа моделей можно добавить MAE для лучшей интерпретируемости оценки. \n",
    "\n",
    "В теории можно было бы ещё попробовать использовать линейную регрессию, однако для этого необходимо перекодировать категориальные признаки в one hot encoding, а также нормализовать количественные признаки."
   ]
  },
  {
   "cell_type": "markdown",
   "metadata": {},
   "source": [
    "### Вывод"
   ]
  },
  {
   "cell_type": "markdown",
   "metadata": {},
   "source": [
    "Этот этап был посвящен обучению моделей.  \n",
    "\n",
    "3.1. Мы выбрали метрики для оценки качества моделей.  \n",
    "Для оценки моделей на этапе обучений мы решили использовать метрику RMSE, поскольку она легко считается, а также придаёт больший вес большим ошибкам. Также, для лучшей интерпретируемости оценки, мы решили добавить MAE на этап анализа моделей.\n",
    "\n",
    "3.2. Обучали модели и оценивали их качество кросс-валидацией.\n",
    "Случайным образом, в соотношении 4:1, создали тестовую выборку. \n",
    "\n",
    "3.3. Рассмотрели работу модели Light GBM\n",
    "\n",
    "    Wall time поиска лучшей модели: 9min 53s  \n",
    "    Лучшие параметры: {'num_leaves': 70, 'min_child_samples': 30, 'max_depth': 10, 'learning_rate': 0.01}  \n",
    "    Лучший RMSE: 2579.22  \n",
    "\n",
    "3.4. RandomForestRegressor\n",
    "\n",
    "    Wall time поиска лучшей модели: 2min 12s  \n",
    "    Лучшие параметры: {'max_depth': 11, 'n_estimators': 30}  \n",
    "    Лучший RMSE: 1947.94\n",
    "\n",
    "Модель случайного леса показывала лучшие результаты чем LGBM, однако для дальнейшего анализа мы взяли обе модели. "
   ]
  },
  {
   "cell_type": "markdown",
   "metadata": {},
   "source": [
    "## Анализ моделей"
   ]
  },
  {
   "cell_type": "markdown",
   "metadata": {},
   "source": [
    "### Проверка моделей на тестовой выборке"
   ]
  },
  {
   "cell_type": "markdown",
   "metadata": {},
   "source": [
    "`LGBMRegressor`"
   ]
  },
  {
   "cell_type": "code",
   "execution_count": 75,
   "metadata": {},
   "outputs": [
    {
     "name": "stdout",
     "output_type": "stream",
     "text": [
      "CPU times: user 21 s, sys: 159 ms, total: 21.1 s\n",
      "Wall time: 21.5 s\n"
     ]
    },
    {
     "data": {
      "text/plain": [
       "''"
      ]
     },
     "execution_count": 75,
     "metadata": {},
     "output_type": "execute_result"
    }
   ],
   "source": [
    "%%time\n",
    "\n",
    "model = lgb.LGBMRegressor(objective='regression', \n",
    "                          num_round = 100, \n",
    "                          learning_rate= 0.01, \n",
    "                          num_leaves= 70,  \n",
    "                          min_child_samples= 30,\n",
    "                          max_depth= 10,\n",
    "                          random_state=RS)\n",
    "\n",
    "model.fit(features_train, target_train, \n",
    "         categorical_feature = categorical_features\n",
    "        )\n",
    ";  "
   ]
  },
  {
   "cell_type": "code",
   "execution_count": 76,
   "metadata": {},
   "outputs": [
    {
     "name": "stdout",
     "output_type": "stream",
     "text": [
      "CPU times: user 1.79 s, sys: 5.48 ms, total: 1.8 s\n",
      "Wall time: 1.8 s\n"
     ]
    }
   ],
   "source": [
    "%%time\n",
    "precictions = model.predict(features_test)     "
   ]
  },
  {
   "cell_type": "code",
   "execution_count": 77,
   "metadata": {},
   "outputs": [
    {
     "name": "stdout",
     "output_type": "stream",
     "text": [
      "RMSE на тестовой выборке: 2584.71\n",
      "MAE на тестовой выборке: 1886.49\n"
     ]
    }
   ],
   "source": [
    "test_rmse = rmse(target_test, precictions)\n",
    "test_mae = mae(target_test, precictions)\n",
    "print('RMSE на тестовой выборке: {:.2f}'.format(test_rmse))\n",
    "print('MAE на тестовой выборке: {:.2f}'.format(test_mae))"
   ]
  },
  {
   "cell_type": "markdown",
   "metadata": {},
   "source": [
    "`RandomForestRegressor`"
   ]
  },
  {
   "cell_type": "code",
   "execution_count": 78,
   "metadata": {},
   "outputs": [
    {
     "name": "stdout",
     "output_type": "stream",
     "text": [
      "CPU times: user 12.6 s, sys: 0 ns, total: 12.6 s\n",
      "Wall time: 12.8 s\n"
     ]
    },
    {
     "data": {
      "text/plain": [
       "''"
      ]
     },
     "execution_count": 78,
     "metadata": {},
     "output_type": "execute_result"
    }
   ],
   "source": [
    "%%time\n",
    "\n",
    "model = RandomForestRegressor(random_state = RS,\n",
    "                              max_depth= 11, \n",
    "                              n_estimators= 30\n",
    "                              )\n",
    "\n",
    "model.fit(features_train, target_train)\n",
    ";"
   ]
  },
  {
   "cell_type": "code",
   "execution_count": 79,
   "metadata": {},
   "outputs": [
    {
     "name": "stdout",
     "output_type": "stream",
     "text": [
      "CPU times: user 261 ms, sys: 0 ns, total: 261 ms\n",
      "Wall time: 279 ms\n"
     ]
    }
   ],
   "source": [
    "%%time\n",
    "precictions = model.predict(features_test)"
   ]
  },
  {
   "cell_type": "code",
   "execution_count": 80,
   "metadata": {},
   "outputs": [
    {
     "name": "stdout",
     "output_type": "stream",
     "text": [
      "RMSE на тестовой выборке: 1959.02\n",
      "MAE на тестовой выборке: 1237.97\n"
     ]
    }
   ],
   "source": [
    "test_rmse = rmse(target_test, precictions)\n",
    "test_mae = mae(target_test, precictions)\n",
    "print('RMSE на тестовой выборке: {:.2f}'.format(test_rmse))\n",
    "print('MAE на тестовой выборке: {:.2f}'.format(test_mae))"
   ]
  },
  {
   "cell_type": "markdown",
   "metadata": {},
   "source": [
    "### Проверка моделей на адеватность"
   ]
  },
  {
   "cell_type": "code",
   "execution_count": 81,
   "metadata": {},
   "outputs": [
    {
     "name": "stdout",
     "output_type": "stream",
     "text": [
      "RMSE dummmy модели: 4881.56\n",
      "MAE dummmy модели: 3360.31\n"
     ]
    }
   ],
   "source": [
    "dummy_model = DummyRegressor(strategy = 'median')\n",
    "dummy_model.fit(features_train, target_train)\n",
    "dummy_model_predictions = dummy_model.predict(features_test)\n",
    "\n",
    "dummy_rmse = rmse(target_test, dummy_model_predictions)\n",
    "dummy_mae = mae(target_test, dummy_model_predictions)\n",
    "print('RMSE dummmy модели: {:.2f}'.format(dummy_rmse))\n",
    "print('MAE dummmy модели: {:.2f}'.format(dummy_mae))"
   ]
  },
  {
   "cell_type": "markdown",
   "metadata": {},
   "source": [
    "Итоговая RMSE dummy модели, не использующей машинное обучение, составила 4881.56. Как видим, наши модели построены не зря – они имеют большую точность (около 1959 у случайного леса)."
   ]
  },
  {
   "cell_type": "markdown",
   "metadata": {},
   "source": [
    "### Сравнение характеристик моделей: скорость работы и качество предсказаний"
   ]
  },
  {
   "cell_type": "markdown",
   "metadata": {},
   "source": [
    "Запишем результаты работы наших моделей:\n",
    "\n",
    "Модель | Время обучения | Время предсказания | **RMSE** | **MAE**\n",
    ":---|---|---|---|---\n",
    "**Light GBM** | 21.5 c | 1.8 с | 2584.71 | 1886.49\n",
    "**Случайный лес** | 12.8 c | 0.28 с | 1959.02 | 1237.97\n",
    "\n",
    "Как видим, по всем параметрам модель случайного леса работает лучше Light GBM. Её средняя абсолютная ошибка равняется 1237.97.\n",
    "Случайный лес сделал предсказания для ≈ 60 тысяч объявлений за 300 милисекунд. \n",
    "\n",
    "Самая главная проблема – ошибка в ≈ тысячу двести евро это довольно плохой результат с точки зрения бизнеса, ведь клиенты хотят узнать максимально точную оценку для своего автомобиля. Для того, чтобы улучшить предсказания необходимо разобраться с первоначальными данными. \n",
    "В первую очередь: получить реальные значения километража, понять откуда появляются нулевые значения в столбце с мощностью. "
   ]
  },
  {
   "cell_type": "markdown",
   "metadata": {},
   "source": [
    "### Вывод"
   ]
  },
  {
   "cell_type": "markdown",
   "metadata": {},
   "source": [
    "На данном этапе мы провели анализ построенных моделей.\n",
    "\n",
    "4.1. Модели были проверены на тестовой выборке, для каждой были оценены время работы и точность их предсказаний.\n",
    "\n",
    "4.2. Потом мы проверили модели на адеватность  \n",
    "\n",
    "Итоговая RMSE dummy модели, не использующей машинное обучение, составила 4881.56. Как оказалось, наши модели были построены не зря – они имеют большую точность (около 1959 у модели случайного леса).\n",
    "\n",
    "4.3.  Сравнение характеристик моделей: скорость работы и качество предсказаний\n",
    "Результаты работы наших моделей:\n",
    "\n",
    "Модель | Время обучения | Время предсказания | **RMSE** | **MAE**\n",
    ":---|---|---|---|---\n",
    "**Light GBM** | 21.5 c | 1.8 с | 2584.71 | 1886.49\n",
    "**Случайный лес** | 12.8 c | 0.28 с | 1959.02 | 1237.97\n",
    "\n",
    "Как видим, по всем параметрам модель случайного леса работает лучше Light GBM. Её средняя абсолютная ошибка равняется 1237.97. Случайный лес сделал предсказания для ≈ 60 тысяч объявлений за 300 милисекунд.\n",
    "\n",
    "Самая главная проблема – ошибка в примерно тысячу двести евро это довольно плохой результат с точки зрения бизнеса, ведь клиенты хотят узнать максимально точную оценку для своего автомобиля. Для того, чтобы улучшить предсказания необходимо разобраться с первоначальными данными. В первую очередь, для этого нужно получить реальные значения километража, а также понять, откуда появляются нулевые значения в столбце с мощностью."
   ]
  },
  {
   "cell_type": "markdown",
   "metadata": {},
   "source": [
    "## Общий вывод"
   ]
  },
  {
   "cell_type": "markdown",
   "metadata": {},
   "source": [
    "**1.** На первом этапе мы подготовили данные к дальнейшему анализу.\n",
    "\n",
    "В изначальных данных мы получили информацию о 354369 объявлениях. В 5и строках наблюдались пропуски. \n",
    "\n",
    "1.2 Была проведена предобработка данных:  \n",
    "\n",
    "1.2.1. Мы нашли и удалили дубликаты\n",
    "\n",
    "1.2.2. Был выбран метод кодировки признаков  \n",
    "Было решено использовать Ordinal encoding.  \n",
    "Также на данном этапе были обнаружены проблемы в признаках `RegistrationMonth`, `Kilometer`, `FuelType`, `NumberOfPictures`. \n",
    "\n",
    "1.2.3. Далее мы проанализировали значения \"проблемных\" признаков\n",
    "\n",
    "    RegistrationMonth: Появляется нулевой месяц. В целом, 0 появляются примерно также как и остальные месяца. \n",
    "    Есть два возможных объяснения: \n",
    "    1. Этот признак сформирован автоматически, при его формировании случайно добавили \"нулевой месяц\"; \n",
    "    2. Так записывали пропущенные значения. Поскольку признаки категориальные, можем оставить все как есть, работу моделей это не изменит, информацию можно будет получить.\n",
    "    FuelType: Был проверен и одобрен список уникальных значений.\n",
    "    NumberOfPictures: Этот признак состоял только из нулей. Скорее всего эти данные были потеряны при формировании датасета. Поскольку эти данные мы восстановить никак не можем, признак был удален.\n",
    "\n",
    "1.2.4. Ordinal encoding  \n",
    "После создания списка категориальных переменных мы их закодировали.\n",
    "\n",
    "1.2.5.  Обработка пропусков  \n",
    "Заполнение пропусков было проведено с помощью KNNImputer, который заполняет значения по n ближайшим соседям. Алгоритм реализовывался batch-ами, которые разделяли выборку на несколько подвыборок. Заполнение мы оценивали по признаку `NotRepaired`, где самое большое количество пропусков и признаку `FuelType`. После оценки мы пришли к выводу, что заполнение было проведено успешно."
   ]
  },
  {
   "cell_type": "markdown",
   "metadata": {},
   "source": [
    "**2.** На данном этапе мы проводили исследовательский анализ данных.  \n",
    "2.1 В начале были рассмотрены распределения признаков и проведена оценка аномальных значений.\n",
    "\n",
    "- `Kilometer`: Обнаруживаем ещё одну проблему: очень много максимальных значений 150 тыс. км. Среднестатистический автомобиль проезжает около 15 тыс. км в год. Получается у нас большинство автомобилей возрастом около 10 лет.\n",
    "Скорее всего возникла ошибка при создании датасета, это потенциально проблемное место.\n",
    "\n",
    "- `Price`: Распределение похоже на распределения Пуассона – наблюдался пик значений около 1500 евро и длинный хвост справа.\n",
    "\n",
    "- `Power`: Было обнаружено большое количество нулевых значений (40225). Почему могут возникать нулевые значения?  \n",
    "    Первый вариант: люди таким образом указывают то что автомобиль не на ходу.  \n",
    "    Второй вариант: пропущенные значения в датасете были заполнены нулями.  \n",
    "    Могут быть и другие варианты, однако неоднозначность в объяснении склоняет нас к тому, что эти значения не могут быть восстановлены или заменены на другие и их придется удалить. Также были удалены слишком большие значения. \n",
    "\n",
    "2.2 Была проведена оценка корреляции признаков.  \n",
    "Для категориальных признаков мы использовали коэффициент коррелияции V Крамера. \n",
    "\n",
    "Самая большая корреляция наблюдалась у `Brand` и `Model` (0.79), а также, как мы и ожидали, обнаруживается корреляция между `VehicleType` и `Model` (0.57). На данном этапе мы решили удалить признак `Model`."
   ]
  },
  {
   "cell_type": "markdown",
   "metadata": {},
   "source": [
    "**3.** Третий этап был посвящен обучению моделей.  \n",
    "\n",
    "3.1. Мы выбрали метрики для оценки качества моделей.  \n",
    "Для оценки моделей на этапе обучений мы решили использовать метрику RMSE, поскольку она легко считается, а также придаёт больший вес большим ошибкам. Также, для лучшей интерпретируемости оценки, мы решили добавить MAE на этап анализа моделей.\n",
    "\n",
    "3.2. Обучали модели и оценивали их качество кросс-валидацией.\n",
    "Случайным образом, в соотношении 4:1, создали тестовую выборку. \n",
    "\n",
    "3.3. Рассмотрели работу модели Light GBM\n",
    "\n",
    "    Wall time поиска лучшей модели: 9min 53s  \n",
    "    Лучшие параметры: {'num_leaves': 70, 'min_child_samples': 30, 'max_depth': 10, 'learning_rate': 0.01}  \n",
    "    Лучший RMSE: 2579.22  \n",
    "\n",
    "3.4. Модель RandomForestRegressor\n",
    "\n",
    "    Wall time поиска лучшей модели: 2min 12s  \n",
    "    Лучшие параметры: {'max_depth': 11, 'n_estimators': 30}  \n",
    "    Лучший RMSE: 1947.94\n",
    "\n",
    "Модель случайного леса показывала лучшие результаты чем LGBM, однако для дальнейшего анализа мы взяли обе модели. "
   ]
  },
  {
   "cell_type": "markdown",
   "metadata": {},
   "source": [
    "**4.** На последнем этапе мы провели анализ построенных моделей.\n",
    "\n",
    "4.1. Модели были проверены на тестовой выборке, для каждой были оценены время работы и точность их предсказаний.\n",
    "\n",
    "4.2. Все модели были проверены на адеватность  \n",
    "\n",
    "Итоговая RMSE dummy модели, не использующей машинное обучение, составила 4881.56. Как оказалось, наши модели были построены не зря – они имеют большую точность (около 1959 у модели случайного леса).\n",
    "\n",
    "4.3.  Сравнение характеристик моделей: скорость работы и качество предсказаний\n",
    "Результаты работы наших моделей:\n",
    "\n",
    "Модель | Время обучения | Время предсказания | **RMSE** | **MAE**\n",
    ":---|---|---|---|---\n",
    "**Light GBM** | 21.5 c | 1.8 с | 2584.71 | 1886.49\n",
    "**Случайный лес** | 12.8 c | 0.28 с | 1959.02 | 1237.97\n",
    "\n",
    "Как видим, по всем параметрам модель случайного леса работает лучше Light GBM. Её средняя абсолютная ошибка равняется 1237.97. Случайный лес сделал предсказания для ≈ 60 тысяч объявлений за 300 милисекунд.\n",
    "\n",
    "Самая главная проблема – ошибка примерно в 1200 евро у лучшей модели. Это довольно плохой результат с точки зрения бизнеса, ведь клиенты хотят узнать максимально точную оценку для своего автомобиля. Для того, чтобы улучшить предсказания необходимо разобраться с первоначальными данными. В первую очередь, для этого нужно получить реальные значения километража, а также понять, откуда появляются нулевые значения в столбце с мощностью."
   ]
  },
  {
   "cell_type": "code",
   "execution_count": null,
   "metadata": {},
   "outputs": [],
   "source": []
  }
 ],
 "metadata": {
  "kernelspec": {
   "display_name": "Python 3",
   "language": "python",
   "name": "python3"
  },
  "language_info": {
   "codemirror_mode": {
    "name": "ipython",
    "version": 3
   },
   "file_extension": ".py",
   "mimetype": "text/x-python",
   "name": "python",
   "nbconvert_exporter": "python",
   "pygments_lexer": "ipython3",
   "version": "3.7.8"
  },
  "toc": {
   "base_numbering": 1,
   "nav_menu": {},
   "number_sections": true,
   "sideBar": true,
   "skip_h1_title": true,
   "title_cell": "Table of Contents",
   "title_sidebar": "Contents",
   "toc_cell": false,
   "toc_position": {},
   "toc_section_display": true,
   "toc_window_display": false
  }
 },
 "nbformat": 4,
 "nbformat_minor": 2
}
