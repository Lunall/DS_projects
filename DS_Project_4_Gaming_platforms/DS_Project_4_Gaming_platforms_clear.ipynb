{
 "cells": [
  {
   "cell_type": "markdown",
   "metadata": {},
   "source": [
    "# Сборный проект 1. Предсказание популярности игр и игровых платформ <a class=\"tocSkip\">"
   ]
  },
  {
   "cell_type": "markdown",
   "metadata": {},
   "source": [
    "##### Вводная: <a class=\"tocSkip\">\n",
    "    \n",
    "Представьте что вы Data Scientist в магазине \"Bombastic Games\" и продаете игры по всему миру. На носу 2017 год и вашей команде поступил запрос: необходимо предсказать что будет популярно в следующем году и спланировать рекламные компании. Также необходимо отработать принцип работы с данными, чтобы наработками можно было пользоваться и в следующих сезонах.\n",
    "    \n",
    "Для анализа вам предоставлены данные из открытых источников. Информация о продажах игр, оценки пользователей и экспертов, жанры и платформы (например, Xbox или PlayStation). Собраны данные до 2016 года, но данные за последний год могут быть неполными.\n",
    "\n",
    "Основные вопросы:    \n",
    "Есть ли какие-либо закономерности, определяющие успешность игры и платформы?   \n",
    "Можно ли составить портрет пользователя для каждого региона?\n",
    "\n",
    "Кроме всего, руководство попросило вас проверить следующие продуктовые гипотезы:\n",
    "1. Средние пользовательские рейтинги платформ Xbox One и PC одинаковые;\n",
    "2. Средние пользовательские рейтинги жанров Action (англ. «действие», экшен-игры) и Sports (англ. «спортивные соревнования») разные."
   ]
  },
  {
   "cell_type": "markdown",
   "metadata": {},
   "source": [
    "### Цель проекта <a class=\"tocSkip\">\n",
    "\n",
    "    По представленным данным распланировать кампанию следующий год. Отработать принцип работы с данными.\n"
   ]
  },
  {
   "cell_type": "markdown",
   "metadata": {},
   "source": [
    "### Описание данных <a class=\"tocSkip\">\n",
    "\n",
    "Название признака | Содержание \n",
    "---|:---\n",
    "Name | Название игры\n",
    "Platform | Платформа\n",
    "Year_of_Release | Год выпуска\n",
    "Genre | Жанр игры\n",
    "NA_sales | Продажи в Северной Америке (миллионы проданных копий)\n",
    "EU_sales | Продажи в Европе (миллионы проданных копий)\n",
    "JP_sales | Продажи в Японии (миллионы проданных копий)\n",
    "Other_sales | Продажи в других странах (миллионы проданных копий)\n",
    "Critic_Score | Оценка критиков (максимум 100)\n",
    "User_Score | Оценка пользователей (максимум 10)\n",
    "Rating | Рейтинг от организации ESRB (англ. Entertainment Software Rating Board)\n",
    "\n",
    "*Данные за 2016 год могут быть неполными."
   ]
  },
  {
   "cell_type": "markdown",
   "metadata": {},
   "source": [
    "### План по выполнению проекта: <a class=\"tocSkip\">\n",
    "\n",
    "[Шаг 1.  Открытие файла с данными и изучение общей информации](#step1)\n",
    "\n",
    "[Шаг 2. Подготовка данных](#step2)\n",
    "- Исправление названий столбцов;\n",
    "- Приведение данных к нужным типам;\n",
    "- Обработка пропусков;\n",
    "- Обработка аббревиатуры 'tbd' в столбцах с рейтингом.\n",
    "- Расчет суммарных продаж во всех регионах.\n",
    "\n",
    "[Шаг 3. Исследовательский анализ данных](#step3)\n",
    "- Оценка количества игр в разные годы;\n",
    "- Сравнение продаж по платформам;\n",
    "- Выбор актуального периода для построения прогноза на 2017 год;\n",
    "- Выбор потенциально прибыльных платформ;\n",
    "- Построение диаграммы размаха по глобальным продажам игр в разбивке по платформам. \n",
    "- Оценка влияния отзывов пользователей и критиков на продажи внутри одной популярной платформы. \n",
    "- Соотнесение выводов с продажами игр на других платформах.\n",
    "- Оценка общего распределения игр по жанрам. \n",
    "\n",
    "[Шаг 4. Составление портрета пользователя каждого региона](#step4)\n",
    "\n",
    "Определить для пользователя каждого региона (NA, EU, JP):\n",
    "* Самые популярные платформы (топ-5); \n",
    "* Самые популярные жанры (топ-5). \n",
    "* Выявить влияние рейтинга ESRB на продажи в отдельном регионе.\n",
    "\n",
    "[Шаг 5. Проверка гипотез](#step5)\n",
    "* Средние пользовательские рейтинги платформ Xbox One и PC одинаковые;\n",
    "* Средние пользовательские рейтинги жанров Action (англ. «действие», экшен-игры) и Sports (англ. «спортивные соревнования») разные.\n",
    "\n",
    "[Шаг 6. Общий вывод и рекомендации](#step6)"
   ]
  },
  {
   "cell_type": "markdown",
   "metadata": {},
   "source": [
    "## 0. Установка библиотек <a class=\"tocSkip\">"
   ]
  },
  {
   "cell_type": "code",
   "execution_count": 1,
   "metadata": {},
   "outputs": [
    {
     "name": "stdout",
     "output_type": "stream",
     "text": [
      "Defaulting to user installation because normal site-packages is not writeable\n",
      "Collecting dill\n",
      "  Downloading dill-0.3.3-py2.py3-none-any.whl (81 kB)\n",
      "\u001b[K     |████████████████████████████████| 81 kB 1.1 MB/s eta 0:00:01\n",
      "\u001b[?25hInstalling collected packages: dill\n",
      "Successfully installed dill-0.3.3\n",
      "Note: you may need to restart the kernel to use updated packages.\n",
      "Note: you may need to restart the kernel to use updated packages.\n"
     ]
    }
   ],
   "source": [
    "#установим возможность сохранять состояние\n",
    "%pip install dill\n",
    "\n",
    "%pip install seaborn>=0.11 -U"
   ]
  },
  {
   "cell_type": "code",
   "execution_count": 2,
   "metadata": {},
   "outputs": [],
   "source": [
    "import dill \n",
    "import pandas as pd\n",
    "import numpy as np\n",
    "import matplotlib.pyplot as plt\n",
    "import seaborn as sns\n",
    "sns.set_style(\"darkgrid\")\n",
    "\n",
    "from scipy import stats as st\n",
    "\n",
    "#библиотека warnings для работы с предупреждениями\n",
    "import warnings\n",
    "warnings.simplefilter(\"ignore\")"
   ]
  },
  {
   "cell_type": "markdown",
   "metadata": {},
   "source": [
    "## 1. Открытие файла с данными и изучение общей информации<a id='step1'></a>"
   ]
  },
  {
   "cell_type": "code",
   "execution_count": 3,
   "metadata": {},
   "outputs": [
    {
     "data": {
      "text/html": [
       "<div>\n",
       "<style scoped>\n",
       "    .dataframe tbody tr th:only-of-type {\n",
       "        vertical-align: middle;\n",
       "    }\n",
       "\n",
       "    .dataframe tbody tr th {\n",
       "        vertical-align: top;\n",
       "    }\n",
       "\n",
       "    .dataframe thead th {\n",
       "        text-align: right;\n",
       "    }\n",
       "</style>\n",
       "<table border=\"1\" class=\"dataframe\">\n",
       "  <thead>\n",
       "    <tr style=\"text-align: right;\">\n",
       "      <th></th>\n",
       "      <th>Name</th>\n",
       "      <th>Platform</th>\n",
       "      <th>Year_of_Release</th>\n",
       "      <th>Genre</th>\n",
       "      <th>NA_sales</th>\n",
       "      <th>EU_sales</th>\n",
       "      <th>JP_sales</th>\n",
       "      <th>Other_sales</th>\n",
       "      <th>Critic_Score</th>\n",
       "      <th>User_Score</th>\n",
       "      <th>Rating</th>\n",
       "    </tr>\n",
       "  </thead>\n",
       "  <tbody>\n",
       "    <tr>\n",
       "      <td>0</td>\n",
       "      <td>Wii Sports</td>\n",
       "      <td>Wii</td>\n",
       "      <td>2006.0</td>\n",
       "      <td>Sports</td>\n",
       "      <td>41.36</td>\n",
       "      <td>28.96</td>\n",
       "      <td>3.77</td>\n",
       "      <td>8.45</td>\n",
       "      <td>76.0</td>\n",
       "      <td>8</td>\n",
       "      <td>E</td>\n",
       "    </tr>\n",
       "    <tr>\n",
       "      <td>1</td>\n",
       "      <td>Super Mario Bros.</td>\n",
       "      <td>NES</td>\n",
       "      <td>1985.0</td>\n",
       "      <td>Platform</td>\n",
       "      <td>29.08</td>\n",
       "      <td>3.58</td>\n",
       "      <td>6.81</td>\n",
       "      <td>0.77</td>\n",
       "      <td>NaN</td>\n",
       "      <td>NaN</td>\n",
       "      <td>NaN</td>\n",
       "    </tr>\n",
       "    <tr>\n",
       "      <td>2</td>\n",
       "      <td>Mario Kart Wii</td>\n",
       "      <td>Wii</td>\n",
       "      <td>2008.0</td>\n",
       "      <td>Racing</td>\n",
       "      <td>15.68</td>\n",
       "      <td>12.76</td>\n",
       "      <td>3.79</td>\n",
       "      <td>3.29</td>\n",
       "      <td>82.0</td>\n",
       "      <td>8.3</td>\n",
       "      <td>E</td>\n",
       "    </tr>\n",
       "    <tr>\n",
       "      <td>3</td>\n",
       "      <td>Wii Sports Resort</td>\n",
       "      <td>Wii</td>\n",
       "      <td>2009.0</td>\n",
       "      <td>Sports</td>\n",
       "      <td>15.61</td>\n",
       "      <td>10.93</td>\n",
       "      <td>3.28</td>\n",
       "      <td>2.95</td>\n",
       "      <td>80.0</td>\n",
       "      <td>8</td>\n",
       "      <td>E</td>\n",
       "    </tr>\n",
       "    <tr>\n",
       "      <td>4</td>\n",
       "      <td>Pokemon Red/Pokemon Blue</td>\n",
       "      <td>GB</td>\n",
       "      <td>1996.0</td>\n",
       "      <td>Role-Playing</td>\n",
       "      <td>11.27</td>\n",
       "      <td>8.89</td>\n",
       "      <td>10.22</td>\n",
       "      <td>1.00</td>\n",
       "      <td>NaN</td>\n",
       "      <td>NaN</td>\n",
       "      <td>NaN</td>\n",
       "    </tr>\n",
       "    <tr>\n",
       "      <td>5</td>\n",
       "      <td>Tetris</td>\n",
       "      <td>GB</td>\n",
       "      <td>1989.0</td>\n",
       "      <td>Puzzle</td>\n",
       "      <td>23.20</td>\n",
       "      <td>2.26</td>\n",
       "      <td>4.22</td>\n",
       "      <td>0.58</td>\n",
       "      <td>NaN</td>\n",
       "      <td>NaN</td>\n",
       "      <td>NaN</td>\n",
       "    </tr>\n",
       "    <tr>\n",
       "      <td>6</td>\n",
       "      <td>New Super Mario Bros.</td>\n",
       "      <td>DS</td>\n",
       "      <td>2006.0</td>\n",
       "      <td>Platform</td>\n",
       "      <td>11.28</td>\n",
       "      <td>9.14</td>\n",
       "      <td>6.50</td>\n",
       "      <td>2.88</td>\n",
       "      <td>89.0</td>\n",
       "      <td>8.5</td>\n",
       "      <td>E</td>\n",
       "    </tr>\n",
       "    <tr>\n",
       "      <td>7</td>\n",
       "      <td>Wii Play</td>\n",
       "      <td>Wii</td>\n",
       "      <td>2006.0</td>\n",
       "      <td>Misc</td>\n",
       "      <td>13.96</td>\n",
       "      <td>9.18</td>\n",
       "      <td>2.93</td>\n",
       "      <td>2.84</td>\n",
       "      <td>58.0</td>\n",
       "      <td>6.6</td>\n",
       "      <td>E</td>\n",
       "    </tr>\n",
       "    <tr>\n",
       "      <td>8</td>\n",
       "      <td>New Super Mario Bros. Wii</td>\n",
       "      <td>Wii</td>\n",
       "      <td>2009.0</td>\n",
       "      <td>Platform</td>\n",
       "      <td>14.44</td>\n",
       "      <td>6.94</td>\n",
       "      <td>4.70</td>\n",
       "      <td>2.24</td>\n",
       "      <td>87.0</td>\n",
       "      <td>8.4</td>\n",
       "      <td>E</td>\n",
       "    </tr>\n",
       "    <tr>\n",
       "      <td>9</td>\n",
       "      <td>Duck Hunt</td>\n",
       "      <td>NES</td>\n",
       "      <td>1984.0</td>\n",
       "      <td>Shooter</td>\n",
       "      <td>26.93</td>\n",
       "      <td>0.63</td>\n",
       "      <td>0.28</td>\n",
       "      <td>0.47</td>\n",
       "      <td>NaN</td>\n",
       "      <td>NaN</td>\n",
       "      <td>NaN</td>\n",
       "    </tr>\n",
       "  </tbody>\n",
       "</table>\n",
       "</div>"
      ],
      "text/plain": [
       "                        Name Platform  Year_of_Release         Genre  \\\n",
       "0                 Wii Sports      Wii           2006.0        Sports   \n",
       "1          Super Mario Bros.      NES           1985.0      Platform   \n",
       "2             Mario Kart Wii      Wii           2008.0        Racing   \n",
       "3          Wii Sports Resort      Wii           2009.0        Sports   \n",
       "4   Pokemon Red/Pokemon Blue       GB           1996.0  Role-Playing   \n",
       "5                     Tetris       GB           1989.0        Puzzle   \n",
       "6      New Super Mario Bros.       DS           2006.0      Platform   \n",
       "7                   Wii Play      Wii           2006.0          Misc   \n",
       "8  New Super Mario Bros. Wii      Wii           2009.0      Platform   \n",
       "9                  Duck Hunt      NES           1984.0       Shooter   \n",
       "\n",
       "   NA_sales  EU_sales  JP_sales  Other_sales  Critic_Score User_Score Rating  \n",
       "0     41.36     28.96      3.77         8.45          76.0          8      E  \n",
       "1     29.08      3.58      6.81         0.77           NaN        NaN    NaN  \n",
       "2     15.68     12.76      3.79         3.29          82.0        8.3      E  \n",
       "3     15.61     10.93      3.28         2.95          80.0          8      E  \n",
       "4     11.27      8.89     10.22         1.00           NaN        NaN    NaN  \n",
       "5     23.20      2.26      4.22         0.58           NaN        NaN    NaN  \n",
       "6     11.28      9.14      6.50         2.88          89.0        8.5      E  \n",
       "7     13.96      9.18      2.93         2.84          58.0        6.6      E  \n",
       "8     14.44      6.94      4.70         2.24          87.0        8.4      E  \n",
       "9     26.93      0.63      0.28         0.47           NaN        NaN    NaN  "
      ]
     },
     "execution_count": 3,
     "metadata": {},
     "output_type": "execute_result"
    }
   ],
   "source": [
    "data = pd.read_csv('/datasets/games.csv')\n",
    "data.head(10)"
   ]
  },
  {
   "cell_type": "code",
   "execution_count": 4,
   "metadata": {},
   "outputs": [
    {
     "name": "stdout",
     "output_type": "stream",
     "text": [
      "<class 'pandas.core.frame.DataFrame'>\n",
      "RangeIndex: 16715 entries, 0 to 16714\n",
      "Data columns (total 11 columns):\n",
      "Name               16713 non-null object\n",
      "Platform           16715 non-null object\n",
      "Year_of_Release    16446 non-null float64\n",
      "Genre              16713 non-null object\n",
      "NA_sales           16715 non-null float64\n",
      "EU_sales           16715 non-null float64\n",
      "JP_sales           16715 non-null float64\n",
      "Other_sales        16715 non-null float64\n",
      "Critic_Score       8137 non-null float64\n",
      "User_Score         10014 non-null object\n",
      "Rating             9949 non-null object\n",
      "dtypes: float64(6), object(5)\n",
      "memory usage: 1.4+ MB\n"
     ]
    }
   ],
   "source": [
    "data.info()"
   ]
  },
  {
   "cell_type": "code",
   "execution_count": 5,
   "metadata": {},
   "outputs": [
    {
     "data": {
      "text/plain": [
       "0"
      ]
     },
     "execution_count": 5,
     "metadata": {},
     "output_type": "execute_result"
    }
   ],
   "source": [
    "data.duplicated().sum()"
   ]
  },
  {
   "cell_type": "markdown",
   "metadata": {},
   "source": [
    "### Вывод"
   ]
  },
  {
   "cell_type": "markdown",
   "metadata": {},
   "source": [
    "Для дальнейшего анализа была получена таблица из 11 столбцов и 16715 игр-строк. Названия всех столбцов соответствуют документации, однако написаны с заглавной буквы. Полных дубликатов нет. \n",
    "\n",
    "Первичный взгляд на данные позволил выявить следующие проблемы:\n",
    "\n",
    "1. В данных большое количство пропущенных значений (в 6 столбцах), их можно обработать.\n",
    "2. Названия столбцов можно привести к нижнему регистру.\n",
    "3. Год выпуска `Year_of_Release` имеет тип float64, его можно привести к int.\n",
    "4. `User_Score` определился как object, хотя должен быть float."
   ]
  },
  {
   "cell_type": "markdown",
   "metadata": {},
   "source": [
    "## 2. Подготовка данных<a id='step2'></a>"
   ]
  },
  {
   "cell_type": "markdown",
   "metadata": {},
   "source": [
    "### Исправление названий столбцов"
   ]
  },
  {
   "cell_type": "code",
   "execution_count": 6,
   "metadata": {},
   "outputs": [
    {
     "data": {
      "text/html": [
       "<div>\n",
       "<style scoped>\n",
       "    .dataframe tbody tr th:only-of-type {\n",
       "        vertical-align: middle;\n",
       "    }\n",
       "\n",
       "    .dataframe tbody tr th {\n",
       "        vertical-align: top;\n",
       "    }\n",
       "\n",
       "    .dataframe thead th {\n",
       "        text-align: right;\n",
       "    }\n",
       "</style>\n",
       "<table border=\"1\" class=\"dataframe\">\n",
       "  <thead>\n",
       "    <tr style=\"text-align: right;\">\n",
       "      <th></th>\n",
       "      <th>name</th>\n",
       "      <th>platform</th>\n",
       "      <th>year_of_release</th>\n",
       "      <th>genre</th>\n",
       "      <th>na_sales</th>\n",
       "      <th>eu_sales</th>\n",
       "      <th>jp_sales</th>\n",
       "      <th>other_sales</th>\n",
       "      <th>critic_score</th>\n",
       "      <th>user_score</th>\n",
       "      <th>rating</th>\n",
       "    </tr>\n",
       "  </thead>\n",
       "  <tbody>\n",
       "    <tr>\n",
       "      <td>0</td>\n",
       "      <td>Wii Sports</td>\n",
       "      <td>Wii</td>\n",
       "      <td>2006.0</td>\n",
       "      <td>Sports</td>\n",
       "      <td>41.36</td>\n",
       "      <td>28.96</td>\n",
       "      <td>3.77</td>\n",
       "      <td>8.45</td>\n",
       "      <td>76.0</td>\n",
       "      <td>8</td>\n",
       "      <td>E</td>\n",
       "    </tr>\n",
       "    <tr>\n",
       "      <td>1</td>\n",
       "      <td>Super Mario Bros.</td>\n",
       "      <td>NES</td>\n",
       "      <td>1985.0</td>\n",
       "      <td>Platform</td>\n",
       "      <td>29.08</td>\n",
       "      <td>3.58</td>\n",
       "      <td>6.81</td>\n",
       "      <td>0.77</td>\n",
       "      <td>NaN</td>\n",
       "      <td>NaN</td>\n",
       "      <td>NaN</td>\n",
       "    </tr>\n",
       "    <tr>\n",
       "      <td>2</td>\n",
       "      <td>Mario Kart Wii</td>\n",
       "      <td>Wii</td>\n",
       "      <td>2008.0</td>\n",
       "      <td>Racing</td>\n",
       "      <td>15.68</td>\n",
       "      <td>12.76</td>\n",
       "      <td>3.79</td>\n",
       "      <td>3.29</td>\n",
       "      <td>82.0</td>\n",
       "      <td>8.3</td>\n",
       "      <td>E</td>\n",
       "    </tr>\n",
       "    <tr>\n",
       "      <td>3</td>\n",
       "      <td>Wii Sports Resort</td>\n",
       "      <td>Wii</td>\n",
       "      <td>2009.0</td>\n",
       "      <td>Sports</td>\n",
       "      <td>15.61</td>\n",
       "      <td>10.93</td>\n",
       "      <td>3.28</td>\n",
       "      <td>2.95</td>\n",
       "      <td>80.0</td>\n",
       "      <td>8</td>\n",
       "      <td>E</td>\n",
       "    </tr>\n",
       "    <tr>\n",
       "      <td>4</td>\n",
       "      <td>Pokemon Red/Pokemon Blue</td>\n",
       "      <td>GB</td>\n",
       "      <td>1996.0</td>\n",
       "      <td>Role-Playing</td>\n",
       "      <td>11.27</td>\n",
       "      <td>8.89</td>\n",
       "      <td>10.22</td>\n",
       "      <td>1.00</td>\n",
       "      <td>NaN</td>\n",
       "      <td>NaN</td>\n",
       "      <td>NaN</td>\n",
       "    </tr>\n",
       "  </tbody>\n",
       "</table>\n",
       "</div>"
      ],
      "text/plain": [
       "                       name platform  year_of_release         genre  na_sales  \\\n",
       "0                Wii Sports      Wii           2006.0        Sports     41.36   \n",
       "1         Super Mario Bros.      NES           1985.0      Platform     29.08   \n",
       "2            Mario Kart Wii      Wii           2008.0        Racing     15.68   \n",
       "3         Wii Sports Resort      Wii           2009.0        Sports     15.61   \n",
       "4  Pokemon Red/Pokemon Blue       GB           1996.0  Role-Playing     11.27   \n",
       "\n",
       "   eu_sales  jp_sales  other_sales  critic_score user_score rating  \n",
       "0     28.96      3.77         8.45          76.0          8      E  \n",
       "1      3.58      6.81         0.77           NaN        NaN    NaN  \n",
       "2     12.76      3.79         3.29          82.0        8.3      E  \n",
       "3     10.93      3.28         2.95          80.0          8      E  \n",
       "4      8.89     10.22         1.00           NaN        NaN    NaN  "
      ]
     },
     "execution_count": 6,
     "metadata": {},
     "output_type": "execute_result"
    }
   ],
   "source": [
    "data.columns = data.columns.str.lower()\n",
    "data.head()"
   ]
  },
  {
   "cell_type": "markdown",
   "metadata": {},
   "source": [
    "### Обработка пропусков"
   ]
  },
  {
   "cell_type": "markdown",
   "metadata": {},
   "source": [
    "`name`"
   ]
  },
  {
   "cell_type": "code",
   "execution_count": 7,
   "metadata": {},
   "outputs": [
    {
     "data": {
      "text/html": [
       "<div>\n",
       "<style scoped>\n",
       "    .dataframe tbody tr th:only-of-type {\n",
       "        vertical-align: middle;\n",
       "    }\n",
       "\n",
       "    .dataframe tbody tr th {\n",
       "        vertical-align: top;\n",
       "    }\n",
       "\n",
       "    .dataframe thead th {\n",
       "        text-align: right;\n",
       "    }\n",
       "</style>\n",
       "<table border=\"1\" class=\"dataframe\">\n",
       "  <thead>\n",
       "    <tr style=\"text-align: right;\">\n",
       "      <th></th>\n",
       "      <th>name</th>\n",
       "      <th>platform</th>\n",
       "      <th>year_of_release</th>\n",
       "      <th>genre</th>\n",
       "      <th>na_sales</th>\n",
       "      <th>eu_sales</th>\n",
       "      <th>jp_sales</th>\n",
       "      <th>other_sales</th>\n",
       "      <th>critic_score</th>\n",
       "      <th>user_score</th>\n",
       "      <th>rating</th>\n",
       "    </tr>\n",
       "  </thead>\n",
       "  <tbody>\n",
       "    <tr>\n",
       "      <td>659</td>\n",
       "      <td>NaN</td>\n",
       "      <td>GEN</td>\n",
       "      <td>1993.0</td>\n",
       "      <td>NaN</td>\n",
       "      <td>1.78</td>\n",
       "      <td>0.53</td>\n",
       "      <td>0.00</td>\n",
       "      <td>0.08</td>\n",
       "      <td>NaN</td>\n",
       "      <td>NaN</td>\n",
       "      <td>NaN</td>\n",
       "    </tr>\n",
       "    <tr>\n",
       "      <td>14244</td>\n",
       "      <td>NaN</td>\n",
       "      <td>GEN</td>\n",
       "      <td>1993.0</td>\n",
       "      <td>NaN</td>\n",
       "      <td>0.00</td>\n",
       "      <td>0.00</td>\n",
       "      <td>0.03</td>\n",
       "      <td>0.00</td>\n",
       "      <td>NaN</td>\n",
       "      <td>NaN</td>\n",
       "      <td>NaN</td>\n",
       "    </tr>\n",
       "  </tbody>\n",
       "</table>\n",
       "</div>"
      ],
      "text/plain": [
       "      name platform  year_of_release genre  na_sales  eu_sales  jp_sales  \\\n",
       "659    NaN      GEN           1993.0   NaN      1.78      0.53      0.00   \n",
       "14244  NaN      GEN           1993.0   NaN      0.00      0.00      0.03   \n",
       "\n",
       "       other_sales  critic_score user_score rating  \n",
       "659           0.08           NaN        NaN    NaN  \n",
       "14244         0.00           NaN        NaN    NaN  "
      ]
     },
     "execution_count": 7,
     "metadata": {},
     "output_type": "execute_result"
    }
   ],
   "source": [
    "#отобразим пропуски\n",
    "data.query('name.isna()')"
   ]
  },
  {
   "cell_type": "markdown",
   "metadata": {},
   "source": [
    "2 пропуска возникают для одной консоли - Sega Genesis. Причем здесь же вознкают пропуски в столбце с жанром.  \n",
    "Взглянем сколько всего учтено игр этой консоли:"
   ]
  },
  {
   "cell_type": "code",
   "execution_count": 8,
   "metadata": {},
   "outputs": [
    {
     "data": {
      "text/plain": [
       "29"
      ]
     },
     "execution_count": 8,
     "metadata": {},
     "output_type": "execute_result"
    }
   ],
   "source": [
    "#посчитаем по столбцу platform так как в нём нету пропоусков\n",
    "data.query('platform == \"GEN\"').count()['platform']"
   ]
  },
  {
   "cell_type": "markdown",
   "metadata": {},
   "source": [
    "Игр всего 29, поэтому значения лучше не удалять – заменим их имена на GEN_game_1 и 2, а жанры на `unknown`:"
   ]
  },
  {
   "cell_type": "code",
   "execution_count": 9,
   "metadata": {},
   "outputs": [
    {
     "data": {
      "text/plain": [
       "0"
      ]
     },
     "execution_count": 9,
     "metadata": {},
     "output_type": "execute_result"
    }
   ],
   "source": [
    "data.loc[659, 'name'] = 'GEN_game_1'\n",
    "data.loc[14244, 'name'] = 'GEN_game_2'\n",
    "data.loc[659, 'genre'] = 'unknown'\n",
    "data.loc[14244, 'genre'] = 'unknown'\n",
    "\n",
    "data[data['name'].isna()].count()['name']"
   ]
  },
  {
   "cell_type": "markdown",
   "metadata": {},
   "source": [
    "Пропущенные значения могли возникнуть если названия игр и жанров были написаны иероглифами, либо в таблицу молги попасть платные дополнения к играм."
   ]
  },
  {
   "cell_type": "markdown",
   "metadata": {},
   "source": [
    "`year_of_release`"
   ]
  },
  {
   "cell_type": "code",
   "execution_count": 10,
   "metadata": {},
   "outputs": [
    {
     "data": {
      "text/html": [
       "<div>\n",
       "<style scoped>\n",
       "    .dataframe tbody tr th:only-of-type {\n",
       "        vertical-align: middle;\n",
       "    }\n",
       "\n",
       "    .dataframe tbody tr th {\n",
       "        vertical-align: top;\n",
       "    }\n",
       "\n",
       "    .dataframe thead th {\n",
       "        text-align: right;\n",
       "    }\n",
       "</style>\n",
       "<table border=\"1\" class=\"dataframe\">\n",
       "  <thead>\n",
       "    <tr style=\"text-align: right;\">\n",
       "      <th></th>\n",
       "      <th>name</th>\n",
       "      <th>platform</th>\n",
       "      <th>year_of_release</th>\n",
       "      <th>genre</th>\n",
       "      <th>na_sales</th>\n",
       "      <th>eu_sales</th>\n",
       "      <th>jp_sales</th>\n",
       "      <th>other_sales</th>\n",
       "      <th>critic_score</th>\n",
       "      <th>user_score</th>\n",
       "      <th>rating</th>\n",
       "    </tr>\n",
       "  </thead>\n",
       "  <tbody>\n",
       "    <tr>\n",
       "      <td>183</td>\n",
       "      <td>Madden NFL 2004</td>\n",
       "      <td>PS2</td>\n",
       "      <td>NaN</td>\n",
       "      <td>Sports</td>\n",
       "      <td>4.26</td>\n",
       "      <td>0.26</td>\n",
       "      <td>0.01</td>\n",
       "      <td>0.71</td>\n",
       "      <td>94.0</td>\n",
       "      <td>8.5</td>\n",
       "      <td>E</td>\n",
       "    </tr>\n",
       "    <tr>\n",
       "      <td>377</td>\n",
       "      <td>FIFA Soccer 2004</td>\n",
       "      <td>PS2</td>\n",
       "      <td>NaN</td>\n",
       "      <td>Sports</td>\n",
       "      <td>0.59</td>\n",
       "      <td>2.36</td>\n",
       "      <td>0.04</td>\n",
       "      <td>0.51</td>\n",
       "      <td>84.0</td>\n",
       "      <td>6.4</td>\n",
       "      <td>E</td>\n",
       "    </tr>\n",
       "    <tr>\n",
       "      <td>456</td>\n",
       "      <td>LEGO Batman: The Videogame</td>\n",
       "      <td>Wii</td>\n",
       "      <td>NaN</td>\n",
       "      <td>Action</td>\n",
       "      <td>1.80</td>\n",
       "      <td>0.97</td>\n",
       "      <td>0.00</td>\n",
       "      <td>0.29</td>\n",
       "      <td>74.0</td>\n",
       "      <td>7.9</td>\n",
       "      <td>E10+</td>\n",
       "    </tr>\n",
       "    <tr>\n",
       "      <td>475</td>\n",
       "      <td>wwe Smackdown vs. Raw 2006</td>\n",
       "      <td>PS2</td>\n",
       "      <td>NaN</td>\n",
       "      <td>Fighting</td>\n",
       "      <td>1.57</td>\n",
       "      <td>1.02</td>\n",
       "      <td>0.00</td>\n",
       "      <td>0.41</td>\n",
       "      <td>NaN</td>\n",
       "      <td>NaN</td>\n",
       "      <td>NaN</td>\n",
       "    </tr>\n",
       "    <tr>\n",
       "      <td>609</td>\n",
       "      <td>Space Invaders</td>\n",
       "      <td>2600</td>\n",
       "      <td>NaN</td>\n",
       "      <td>Shooter</td>\n",
       "      <td>2.36</td>\n",
       "      <td>0.14</td>\n",
       "      <td>0.00</td>\n",
       "      <td>0.03</td>\n",
       "      <td>NaN</td>\n",
       "      <td>NaN</td>\n",
       "      <td>NaN</td>\n",
       "    </tr>\n",
       "  </tbody>\n",
       "</table>\n",
       "</div>"
      ],
      "text/plain": [
       "                           name platform  year_of_release     genre  na_sales  \\\n",
       "183             Madden NFL 2004      PS2              NaN    Sports      4.26   \n",
       "377            FIFA Soccer 2004      PS2              NaN    Sports      0.59   \n",
       "456  LEGO Batman: The Videogame      Wii              NaN    Action      1.80   \n",
       "475  wwe Smackdown vs. Raw 2006      PS2              NaN  Fighting      1.57   \n",
       "609              Space Invaders     2600              NaN   Shooter      2.36   \n",
       "\n",
       "     eu_sales  jp_sales  other_sales  critic_score user_score rating  \n",
       "183      0.26      0.01         0.71          94.0        8.5      E  \n",
       "377      2.36      0.04         0.51          84.0        6.4      E  \n",
       "456      0.97      0.00         0.29          74.0        7.9   E10+  \n",
       "475      1.02      0.00         0.41           NaN        NaN    NaN  \n",
       "609      0.14      0.00         0.03           NaN        NaN    NaN  "
      ]
     },
     "execution_count": 10,
     "metadata": {},
     "output_type": "execute_result"
    }
   ],
   "source": [
    "data.query('year_of_release.isna()').head()"
   ]
  },
  {
   "cell_type": "code",
   "execution_count": 11,
   "metadata": {},
   "outputs": [
    {
     "data": {
      "text/plain": [
       "0.01609332934489979"
      ]
     },
     "execution_count": 11,
     "metadata": {},
     "output_type": "execute_result"
    }
   ],
   "source": [
    "#доля пропущенных значений:\n",
    "missing_part_year = (data.query('year_of_release.isna()').count()['platform'] / \n",
    "                    data.count()['platform'])\n",
    "\n",
    "missing_part_year"
   ]
  },
  {
   "cell_type": "markdown",
   "metadata": {},
   "source": [
    "Пропуски появляются на разных платформах, играх и разных жанрах. Причины возникновения пропусков пока не ясны.\n",
    "\n",
    "В некоторых названиях игр содержится год, однако если обрататься к поисковым источникам, он не соответствует реальному году выпуска (часто игра выпускается годом ранее). Поэтому частично восстановить год выпуска по названию не получится. \n",
    "\n",
    "Доля пропущенных значений – 1.6%, что кажется довольно малым значением.\n",
    "\n",
    "Если пропущенных данных нам будет нехватать, можно будет попробовать распарсить информацию о дате выпуска в интернете.\n",
    "А пока отфильтруем пропущенные значения:"
   ]
  },
  {
   "cell_type": "code",
   "execution_count": 12,
   "metadata": {},
   "outputs": [],
   "source": [
    "data = data.query('year_of_release.isna() != True')"
   ]
  },
  {
   "cell_type": "markdown",
   "metadata": {},
   "source": [
    "`critic_score`"
   ]
  },
  {
   "cell_type": "code",
   "execution_count": 13,
   "metadata": {},
   "outputs": [
    {
     "data": {
      "text/html": [
       "<div>\n",
       "<style scoped>\n",
       "    .dataframe tbody tr th:only-of-type {\n",
       "        vertical-align: middle;\n",
       "    }\n",
       "\n",
       "    .dataframe tbody tr th {\n",
       "        vertical-align: top;\n",
       "    }\n",
       "\n",
       "    .dataframe thead th {\n",
       "        text-align: right;\n",
       "    }\n",
       "</style>\n",
       "<table border=\"1\" class=\"dataframe\">\n",
       "  <thead>\n",
       "    <tr style=\"text-align: right;\">\n",
       "      <th></th>\n",
       "      <th>name</th>\n",
       "      <th>platform</th>\n",
       "      <th>year_of_release</th>\n",
       "      <th>genre</th>\n",
       "      <th>na_sales</th>\n",
       "      <th>eu_sales</th>\n",
       "      <th>jp_sales</th>\n",
       "      <th>other_sales</th>\n",
       "      <th>critic_score</th>\n",
       "      <th>user_score</th>\n",
       "      <th>rating</th>\n",
       "    </tr>\n",
       "  </thead>\n",
       "  <tbody>\n",
       "    <tr>\n",
       "      <td>1</td>\n",
       "      <td>Super Mario Bros.</td>\n",
       "      <td>NES</td>\n",
       "      <td>1985.0</td>\n",
       "      <td>Platform</td>\n",
       "      <td>29.08</td>\n",
       "      <td>3.58</td>\n",
       "      <td>6.81</td>\n",
       "      <td>0.77</td>\n",
       "      <td>NaN</td>\n",
       "      <td>NaN</td>\n",
       "      <td>NaN</td>\n",
       "    </tr>\n",
       "    <tr>\n",
       "      <td>4</td>\n",
       "      <td>Pokemon Red/Pokemon Blue</td>\n",
       "      <td>GB</td>\n",
       "      <td>1996.0</td>\n",
       "      <td>Role-Playing</td>\n",
       "      <td>11.27</td>\n",
       "      <td>8.89</td>\n",
       "      <td>10.22</td>\n",
       "      <td>1.00</td>\n",
       "      <td>NaN</td>\n",
       "      <td>NaN</td>\n",
       "      <td>NaN</td>\n",
       "    </tr>\n",
       "    <tr>\n",
       "      <td>5</td>\n",
       "      <td>Tetris</td>\n",
       "      <td>GB</td>\n",
       "      <td>1989.0</td>\n",
       "      <td>Puzzle</td>\n",
       "      <td>23.20</td>\n",
       "      <td>2.26</td>\n",
       "      <td>4.22</td>\n",
       "      <td>0.58</td>\n",
       "      <td>NaN</td>\n",
       "      <td>NaN</td>\n",
       "      <td>NaN</td>\n",
       "    </tr>\n",
       "    <tr>\n",
       "      <td>9</td>\n",
       "      <td>Duck Hunt</td>\n",
       "      <td>NES</td>\n",
       "      <td>1984.0</td>\n",
       "      <td>Shooter</td>\n",
       "      <td>26.93</td>\n",
       "      <td>0.63</td>\n",
       "      <td>0.28</td>\n",
       "      <td>0.47</td>\n",
       "      <td>NaN</td>\n",
       "      <td>NaN</td>\n",
       "      <td>NaN</td>\n",
       "    </tr>\n",
       "    <tr>\n",
       "      <td>10</td>\n",
       "      <td>Nintendogs</td>\n",
       "      <td>DS</td>\n",
       "      <td>2005.0</td>\n",
       "      <td>Simulation</td>\n",
       "      <td>9.05</td>\n",
       "      <td>10.95</td>\n",
       "      <td>1.93</td>\n",
       "      <td>2.74</td>\n",
       "      <td>NaN</td>\n",
       "      <td>NaN</td>\n",
       "      <td>NaN</td>\n",
       "    </tr>\n",
       "  </tbody>\n",
       "</table>\n",
       "</div>"
      ],
      "text/plain": [
       "                        name platform  year_of_release         genre  \\\n",
       "1          Super Mario Bros.      NES           1985.0      Platform   \n",
       "4   Pokemon Red/Pokemon Blue       GB           1996.0  Role-Playing   \n",
       "5                     Tetris       GB           1989.0        Puzzle   \n",
       "9                  Duck Hunt      NES           1984.0       Shooter   \n",
       "10                Nintendogs       DS           2005.0    Simulation   \n",
       "\n",
       "    na_sales  eu_sales  jp_sales  other_sales  critic_score user_score rating  \n",
       "1      29.08      3.58      6.81         0.77           NaN        NaN    NaN  \n",
       "4      11.27      8.89     10.22         1.00           NaN        NaN    NaN  \n",
       "5      23.20      2.26      4.22         0.58           NaN        NaN    NaN  \n",
       "9      26.93      0.63      0.28         0.47           NaN        NaN    NaN  \n",
       "10      9.05     10.95      1.93         2.74           NaN        NaN    NaN  "
      ]
     },
     "execution_count": 13,
     "metadata": {},
     "output_type": "execute_result"
    }
   ],
   "source": [
    "data.query('critic_score.isna()').head()"
   ]
  },
  {
   "cell_type": "code",
   "execution_count": 14,
   "metadata": {},
   "outputs": [
    {
     "data": {
      "text/plain": [
       "0.5145932141554177"
      ]
     },
     "execution_count": 14,
     "metadata": {},
     "output_type": "execute_result"
    }
   ],
   "source": [
    "missing_part_critiq = (data.query('critic_score.isna()').count()['platform'] / \n",
    "                       data.count()['platform'])\n",
    "missing_part_critiq"
   ]
  },
  {
   "cell_type": "code",
   "execution_count": 15,
   "metadata": {},
   "outputs": [
    {
     "data": {
      "text/plain": [
       "year_of_release    0.011411\n",
       "na_sales           0.240083\n",
       "eu_sales           0.221276\n",
       "jp_sales           0.153474\n",
       "other_sales        0.198410\n",
       "critic_score       1.000000\n",
       "Name: critic_score, dtype: float64"
      ]
     },
     "execution_count": 15,
     "metadata": {},
     "output_type": "execute_result"
    }
   ],
   "source": [
    "data.corr()['critic_score']"
   ]
  },
  {
   "cell_type": "markdown",
   "metadata": {},
   "source": [
    "Доля пропущенных значений 51% что довольно много, однако это вполне реальное значение – критики довольно часто пропускают различные непопулярные или старые игры. Поэтому пропущенные значения будем заменять на `unrated`:"
   ]
  },
  {
   "cell_type": "code",
   "execution_count": 16,
   "metadata": {},
   "outputs": [
    {
     "data": {
      "text/plain": [
       "0"
      ]
     },
     "execution_count": 16,
     "metadata": {},
     "output_type": "execute_result"
    }
   ],
   "source": [
    "data['critic_score'] = data['critic_score'].fillna('unrated')\n",
    "\n",
    "data.query('critic_score.isna()').count()['platform']"
   ]
  },
  {
   "cell_type": "markdown",
   "metadata": {},
   "source": [
    "`user_score`"
   ]
  },
  {
   "cell_type": "code",
   "execution_count": 17,
   "metadata": {},
   "outputs": [
    {
     "data": {
      "text/html": [
       "<div>\n",
       "<style scoped>\n",
       "    .dataframe tbody tr th:only-of-type {\n",
       "        vertical-align: middle;\n",
       "    }\n",
       "\n",
       "    .dataframe tbody tr th {\n",
       "        vertical-align: top;\n",
       "    }\n",
       "\n",
       "    .dataframe thead th {\n",
       "        text-align: right;\n",
       "    }\n",
       "</style>\n",
       "<table border=\"1\" class=\"dataframe\">\n",
       "  <thead>\n",
       "    <tr style=\"text-align: right;\">\n",
       "      <th></th>\n",
       "      <th>name</th>\n",
       "      <th>platform</th>\n",
       "      <th>year_of_release</th>\n",
       "      <th>genre</th>\n",
       "      <th>na_sales</th>\n",
       "      <th>eu_sales</th>\n",
       "      <th>jp_sales</th>\n",
       "      <th>other_sales</th>\n",
       "      <th>critic_score</th>\n",
       "      <th>user_score</th>\n",
       "      <th>rating</th>\n",
       "    </tr>\n",
       "  </thead>\n",
       "  <tbody>\n",
       "    <tr>\n",
       "      <td>1</td>\n",
       "      <td>Super Mario Bros.</td>\n",
       "      <td>NES</td>\n",
       "      <td>1985.0</td>\n",
       "      <td>Platform</td>\n",
       "      <td>29.08</td>\n",
       "      <td>3.58</td>\n",
       "      <td>6.81</td>\n",
       "      <td>0.77</td>\n",
       "      <td>unrated</td>\n",
       "      <td>NaN</td>\n",
       "      <td>NaN</td>\n",
       "    </tr>\n",
       "    <tr>\n",
       "      <td>4</td>\n",
       "      <td>Pokemon Red/Pokemon Blue</td>\n",
       "      <td>GB</td>\n",
       "      <td>1996.0</td>\n",
       "      <td>Role-Playing</td>\n",
       "      <td>11.27</td>\n",
       "      <td>8.89</td>\n",
       "      <td>10.22</td>\n",
       "      <td>1.00</td>\n",
       "      <td>unrated</td>\n",
       "      <td>NaN</td>\n",
       "      <td>NaN</td>\n",
       "    </tr>\n",
       "    <tr>\n",
       "      <td>5</td>\n",
       "      <td>Tetris</td>\n",
       "      <td>GB</td>\n",
       "      <td>1989.0</td>\n",
       "      <td>Puzzle</td>\n",
       "      <td>23.20</td>\n",
       "      <td>2.26</td>\n",
       "      <td>4.22</td>\n",
       "      <td>0.58</td>\n",
       "      <td>unrated</td>\n",
       "      <td>NaN</td>\n",
       "      <td>NaN</td>\n",
       "    </tr>\n",
       "    <tr>\n",
       "      <td>9</td>\n",
       "      <td>Duck Hunt</td>\n",
       "      <td>NES</td>\n",
       "      <td>1984.0</td>\n",
       "      <td>Shooter</td>\n",
       "      <td>26.93</td>\n",
       "      <td>0.63</td>\n",
       "      <td>0.28</td>\n",
       "      <td>0.47</td>\n",
       "      <td>unrated</td>\n",
       "      <td>NaN</td>\n",
       "      <td>NaN</td>\n",
       "    </tr>\n",
       "    <tr>\n",
       "      <td>10</td>\n",
       "      <td>Nintendogs</td>\n",
       "      <td>DS</td>\n",
       "      <td>2005.0</td>\n",
       "      <td>Simulation</td>\n",
       "      <td>9.05</td>\n",
       "      <td>10.95</td>\n",
       "      <td>1.93</td>\n",
       "      <td>2.74</td>\n",
       "      <td>unrated</td>\n",
       "      <td>NaN</td>\n",
       "      <td>NaN</td>\n",
       "    </tr>\n",
       "  </tbody>\n",
       "</table>\n",
       "</div>"
      ],
      "text/plain": [
       "                        name platform  year_of_release         genre  \\\n",
       "1          Super Mario Bros.      NES           1985.0      Platform   \n",
       "4   Pokemon Red/Pokemon Blue       GB           1996.0  Role-Playing   \n",
       "5                     Tetris       GB           1989.0        Puzzle   \n",
       "9                  Duck Hunt      NES           1984.0       Shooter   \n",
       "10                Nintendogs       DS           2005.0    Simulation   \n",
       "\n",
       "    na_sales  eu_sales  jp_sales  other_sales critic_score user_score rating  \n",
       "1      29.08      3.58      6.81         0.77      unrated        NaN    NaN  \n",
       "4      11.27      8.89     10.22         1.00      unrated        NaN    NaN  \n",
       "5      23.20      2.26      4.22         0.58      unrated        NaN    NaN  \n",
       "9      26.93      0.63      0.28         0.47      unrated        NaN    NaN  \n",
       "10      9.05     10.95      1.93         2.74      unrated        NaN    NaN  "
      ]
     },
     "execution_count": 17,
     "metadata": {},
     "output_type": "execute_result"
    }
   ],
   "source": [
    "data.query('user_score.isna()').head()"
   ]
  },
  {
   "cell_type": "code",
   "execution_count": 18,
   "metadata": {},
   "outputs": [
    {
     "data": {
      "text/plain": [
       "0.40173902468685396"
      ]
     },
     "execution_count": 18,
     "metadata": {},
     "output_type": "execute_result"
    }
   ],
   "source": [
    "missing_part_user_score = (data.query('user_score.isna()').count()['platform'] / \n",
    "                       data.count()['platform'])\n",
    "missing_part_user_score"
   ]
  },
  {
   "cell_type": "markdown",
   "metadata": {},
   "source": [
    "Снова видим большую долю пропущенных значений – 40%, это значение также приближено к реальности – на многие игры довольно часто не собирается статистика. Поэтому пропущенные значения также будем заменять на `unrated`:"
   ]
  },
  {
   "cell_type": "code",
   "execution_count": 19,
   "metadata": {},
   "outputs": [
    {
     "data": {
      "text/plain": [
       "0"
      ]
     },
     "execution_count": 19,
     "metadata": {},
     "output_type": "execute_result"
    }
   ],
   "source": [
    "data['user_score'] = data['user_score'].fillna('unrated')\n",
    "\n",
    "data.query('user_score.isna()').count()['platform']"
   ]
  },
  {
   "cell_type": "markdown",
   "metadata": {},
   "source": [
    "`rating`"
   ]
  },
  {
   "cell_type": "markdown",
   "metadata": {},
   "source": [
    "Для начала уточним, что рейтинг ESRB определяет рейтинги для компьютерных видеоигр в США и Канаде (https://ru.wikipedia.org/wiki/Entertainment_Software_Rating_Board). Мы же имеем дело с играми, выпущенными по всему миру. Поэтому будем ожидать встретить значительную долю пропусков в этом столбце. "
   ]
  },
  {
   "cell_type": "code",
   "execution_count": 20,
   "metadata": {},
   "outputs": [
    {
     "data": {
      "text/html": [
       "<div>\n",
       "<style scoped>\n",
       "    .dataframe tbody tr th:only-of-type {\n",
       "        vertical-align: middle;\n",
       "    }\n",
       "\n",
       "    .dataframe tbody tr th {\n",
       "        vertical-align: top;\n",
       "    }\n",
       "\n",
       "    .dataframe thead th {\n",
       "        text-align: right;\n",
       "    }\n",
       "</style>\n",
       "<table border=\"1\" class=\"dataframe\">\n",
       "  <thead>\n",
       "    <tr style=\"text-align: right;\">\n",
       "      <th></th>\n",
       "      <th>name</th>\n",
       "      <th>platform</th>\n",
       "      <th>year_of_release</th>\n",
       "      <th>genre</th>\n",
       "      <th>na_sales</th>\n",
       "      <th>eu_sales</th>\n",
       "      <th>jp_sales</th>\n",
       "      <th>other_sales</th>\n",
       "      <th>critic_score</th>\n",
       "      <th>user_score</th>\n",
       "      <th>rating</th>\n",
       "    </tr>\n",
       "  </thead>\n",
       "  <tbody>\n",
       "    <tr>\n",
       "      <td>1</td>\n",
       "      <td>Super Mario Bros.</td>\n",
       "      <td>NES</td>\n",
       "      <td>1985.0</td>\n",
       "      <td>Platform</td>\n",
       "      <td>29.08</td>\n",
       "      <td>3.58</td>\n",
       "      <td>6.81</td>\n",
       "      <td>0.77</td>\n",
       "      <td>unrated</td>\n",
       "      <td>unrated</td>\n",
       "      <td>NaN</td>\n",
       "    </tr>\n",
       "    <tr>\n",
       "      <td>4</td>\n",
       "      <td>Pokemon Red/Pokemon Blue</td>\n",
       "      <td>GB</td>\n",
       "      <td>1996.0</td>\n",
       "      <td>Role-Playing</td>\n",
       "      <td>11.27</td>\n",
       "      <td>8.89</td>\n",
       "      <td>10.22</td>\n",
       "      <td>1.00</td>\n",
       "      <td>unrated</td>\n",
       "      <td>unrated</td>\n",
       "      <td>NaN</td>\n",
       "    </tr>\n",
       "    <tr>\n",
       "      <td>5</td>\n",
       "      <td>Tetris</td>\n",
       "      <td>GB</td>\n",
       "      <td>1989.0</td>\n",
       "      <td>Puzzle</td>\n",
       "      <td>23.20</td>\n",
       "      <td>2.26</td>\n",
       "      <td>4.22</td>\n",
       "      <td>0.58</td>\n",
       "      <td>unrated</td>\n",
       "      <td>unrated</td>\n",
       "      <td>NaN</td>\n",
       "    </tr>\n",
       "    <tr>\n",
       "      <td>9</td>\n",
       "      <td>Duck Hunt</td>\n",
       "      <td>NES</td>\n",
       "      <td>1984.0</td>\n",
       "      <td>Shooter</td>\n",
       "      <td>26.93</td>\n",
       "      <td>0.63</td>\n",
       "      <td>0.28</td>\n",
       "      <td>0.47</td>\n",
       "      <td>unrated</td>\n",
       "      <td>unrated</td>\n",
       "      <td>NaN</td>\n",
       "    </tr>\n",
       "    <tr>\n",
       "      <td>10</td>\n",
       "      <td>Nintendogs</td>\n",
       "      <td>DS</td>\n",
       "      <td>2005.0</td>\n",
       "      <td>Simulation</td>\n",
       "      <td>9.05</td>\n",
       "      <td>10.95</td>\n",
       "      <td>1.93</td>\n",
       "      <td>2.74</td>\n",
       "      <td>unrated</td>\n",
       "      <td>unrated</td>\n",
       "      <td>NaN</td>\n",
       "    </tr>\n",
       "  </tbody>\n",
       "</table>\n",
       "</div>"
      ],
      "text/plain": [
       "                        name platform  year_of_release         genre  \\\n",
       "1          Super Mario Bros.      NES           1985.0      Platform   \n",
       "4   Pokemon Red/Pokemon Blue       GB           1996.0  Role-Playing   \n",
       "5                     Tetris       GB           1989.0        Puzzle   \n",
       "9                  Duck Hunt      NES           1984.0       Shooter   \n",
       "10                Nintendogs       DS           2005.0    Simulation   \n",
       "\n",
       "    na_sales  eu_sales  jp_sales  other_sales critic_score user_score rating  \n",
       "1      29.08      3.58      6.81         0.77      unrated    unrated    NaN  \n",
       "4      11.27      8.89     10.22         1.00      unrated    unrated    NaN  \n",
       "5      23.20      2.26      4.22         0.58      unrated    unrated    NaN  \n",
       "9      26.93      0.63      0.28         0.47      unrated    unrated    NaN  \n",
       "10      9.05     10.95      1.93         2.74      unrated    unrated    NaN  "
      ]
     },
     "execution_count": 20,
     "metadata": {},
     "output_type": "execute_result"
    }
   ],
   "source": [
    "data.query('rating.isna()').head()"
   ]
  },
  {
   "cell_type": "code",
   "execution_count": 21,
   "metadata": {},
   "outputs": [
    {
     "data": {
      "text/plain": [
       "0.4060561838744984"
      ]
     },
     "execution_count": 21,
     "metadata": {},
     "output_type": "execute_result"
    }
   ],
   "source": [
    "missing_part_rating = (data.query('rating.isna()').count()['platform'] / \n",
    "                       data.count()['platform'])\n",
    "missing_part_rating"
   ]
  },
  {
   "cell_type": "markdown",
   "metadata": {},
   "source": [
    "Как и ожидалось, видим большую долю пропущенных значений – 41%. Пропущенные значения также будем заменять на `unrated`:"
   ]
  },
  {
   "cell_type": "code",
   "execution_count": 22,
   "metadata": {},
   "outputs": [
    {
     "data": {
      "text/plain": [
       "0"
      ]
     },
     "execution_count": 22,
     "metadata": {},
     "output_type": "execute_result"
    }
   ],
   "source": [
    "data['rating'] = data['rating'].fillna('unrated')\n",
    "\n",
    "data.query('rating.isna()').count()['platform']"
   ]
  },
  {
   "cell_type": "markdown",
   "metadata": {},
   "source": [
    "### Обработка аббревиатуры 'tbd' в столбцах с рейтингом"
   ]
  },
  {
   "cell_type": "code",
   "execution_count": 23,
   "metadata": {},
   "outputs": [
    {
     "data": {
      "text/html": [
       "<div>\n",
       "<style scoped>\n",
       "    .dataframe tbody tr th:only-of-type {\n",
       "        vertical-align: middle;\n",
       "    }\n",
       "\n",
       "    .dataframe tbody tr th {\n",
       "        vertical-align: top;\n",
       "    }\n",
       "\n",
       "    .dataframe thead th {\n",
       "        text-align: right;\n",
       "    }\n",
       "</style>\n",
       "<table border=\"1\" class=\"dataframe\">\n",
       "  <thead>\n",
       "    <tr style=\"text-align: right;\">\n",
       "      <th></th>\n",
       "      <th>name</th>\n",
       "      <th>platform</th>\n",
       "      <th>year_of_release</th>\n",
       "      <th>genre</th>\n",
       "      <th>na_sales</th>\n",
       "      <th>eu_sales</th>\n",
       "      <th>jp_sales</th>\n",
       "      <th>other_sales</th>\n",
       "      <th>critic_score</th>\n",
       "      <th>user_score</th>\n",
       "      <th>rating</th>\n",
       "    </tr>\n",
       "  </thead>\n",
       "  <tbody>\n",
       "  </tbody>\n",
       "</table>\n",
       "</div>"
      ],
      "text/plain": [
       "Empty DataFrame\n",
       "Columns: [name, platform, year_of_release, genre, na_sales, eu_sales, jp_sales, other_sales, critic_score, user_score, rating]\n",
       "Index: []"
      ]
     },
     "execution_count": 23,
     "metadata": {},
     "output_type": "execute_result"
    }
   ],
   "source": [
    "data[data['critic_score'] == 'tbd'].head()"
   ]
  },
  {
   "cell_type": "code",
   "execution_count": 24,
   "metadata": {},
   "outputs": [
    {
     "data": {
      "text/html": [
       "<div>\n",
       "<style scoped>\n",
       "    .dataframe tbody tr th:only-of-type {\n",
       "        vertical-align: middle;\n",
       "    }\n",
       "\n",
       "    .dataframe tbody tr th {\n",
       "        vertical-align: top;\n",
       "    }\n",
       "\n",
       "    .dataframe thead th {\n",
       "        text-align: right;\n",
       "    }\n",
       "</style>\n",
       "<table border=\"1\" class=\"dataframe\">\n",
       "  <thead>\n",
       "    <tr style=\"text-align: right;\">\n",
       "      <th></th>\n",
       "      <th>name</th>\n",
       "      <th>platform</th>\n",
       "      <th>year_of_release</th>\n",
       "      <th>genre</th>\n",
       "      <th>na_sales</th>\n",
       "      <th>eu_sales</th>\n",
       "      <th>jp_sales</th>\n",
       "      <th>other_sales</th>\n",
       "      <th>critic_score</th>\n",
       "      <th>user_score</th>\n",
       "      <th>rating</th>\n",
       "    </tr>\n",
       "  </thead>\n",
       "  <tbody>\n",
       "    <tr>\n",
       "      <td>119</td>\n",
       "      <td>Zumba Fitness</td>\n",
       "      <td>Wii</td>\n",
       "      <td>2010.0</td>\n",
       "      <td>Sports</td>\n",
       "      <td>3.45</td>\n",
       "      <td>2.59</td>\n",
       "      <td>0.0</td>\n",
       "      <td>0.66</td>\n",
       "      <td>unrated</td>\n",
       "      <td>tbd</td>\n",
       "      <td>E</td>\n",
       "    </tr>\n",
       "    <tr>\n",
       "      <td>301</td>\n",
       "      <td>Namco Museum: 50th Anniversary</td>\n",
       "      <td>PS2</td>\n",
       "      <td>2005.0</td>\n",
       "      <td>Misc</td>\n",
       "      <td>2.08</td>\n",
       "      <td>1.35</td>\n",
       "      <td>0.0</td>\n",
       "      <td>0.54</td>\n",
       "      <td>61</td>\n",
       "      <td>tbd</td>\n",
       "      <td>E10+</td>\n",
       "    </tr>\n",
       "    <tr>\n",
       "      <td>520</td>\n",
       "      <td>Zumba Fitness 2</td>\n",
       "      <td>Wii</td>\n",
       "      <td>2011.0</td>\n",
       "      <td>Sports</td>\n",
       "      <td>1.51</td>\n",
       "      <td>1.03</td>\n",
       "      <td>0.0</td>\n",
       "      <td>0.27</td>\n",
       "      <td>unrated</td>\n",
       "      <td>tbd</td>\n",
       "      <td>T</td>\n",
       "    </tr>\n",
       "    <tr>\n",
       "      <td>645</td>\n",
       "      <td>uDraw Studio</td>\n",
       "      <td>Wii</td>\n",
       "      <td>2010.0</td>\n",
       "      <td>Misc</td>\n",
       "      <td>1.65</td>\n",
       "      <td>0.57</td>\n",
       "      <td>0.0</td>\n",
       "      <td>0.20</td>\n",
       "      <td>71</td>\n",
       "      <td>tbd</td>\n",
       "      <td>E</td>\n",
       "    </tr>\n",
       "    <tr>\n",
       "      <td>718</td>\n",
       "      <td>Just Dance Kids</td>\n",
       "      <td>Wii</td>\n",
       "      <td>2010.0</td>\n",
       "      <td>Misc</td>\n",
       "      <td>1.52</td>\n",
       "      <td>0.54</td>\n",
       "      <td>0.0</td>\n",
       "      <td>0.18</td>\n",
       "      <td>unrated</td>\n",
       "      <td>tbd</td>\n",
       "      <td>E</td>\n",
       "    </tr>\n",
       "  </tbody>\n",
       "</table>\n",
       "</div>"
      ],
      "text/plain": [
       "                               name platform  year_of_release   genre  \\\n",
       "119                   Zumba Fitness      Wii           2010.0  Sports   \n",
       "301  Namco Museum: 50th Anniversary      PS2           2005.0    Misc   \n",
       "520                 Zumba Fitness 2      Wii           2011.0  Sports   \n",
       "645                    uDraw Studio      Wii           2010.0    Misc   \n",
       "718                 Just Dance Kids      Wii           2010.0    Misc   \n",
       "\n",
       "     na_sales  eu_sales  jp_sales  other_sales critic_score user_score rating  \n",
       "119      3.45      2.59       0.0         0.66      unrated        tbd      E  \n",
       "301      2.08      1.35       0.0         0.54           61        tbd   E10+  \n",
       "520      1.51      1.03       0.0         0.27      unrated        tbd      T  \n",
       "645      1.65      0.57       0.0         0.20           71        tbd      E  \n",
       "718      1.52      0.54       0.0         0.18      unrated        tbd      E  "
      ]
     },
     "execution_count": 24,
     "metadata": {},
     "output_type": "execute_result"
    }
   ],
   "source": [
    "data[data['user_score'] == 'tbd'].head()"
   ]
  },
  {
   "cell_type": "code",
   "execution_count": 25,
   "metadata": {},
   "outputs": [
    {
     "data": {
      "text/html": [
       "<div>\n",
       "<style scoped>\n",
       "    .dataframe tbody tr th:only-of-type {\n",
       "        vertical-align: middle;\n",
       "    }\n",
       "\n",
       "    .dataframe tbody tr th {\n",
       "        vertical-align: top;\n",
       "    }\n",
       "\n",
       "    .dataframe thead th {\n",
       "        text-align: right;\n",
       "    }\n",
       "</style>\n",
       "<table border=\"1\" class=\"dataframe\">\n",
       "  <thead>\n",
       "    <tr style=\"text-align: right;\">\n",
       "      <th></th>\n",
       "      <th>name</th>\n",
       "      <th>platform</th>\n",
       "      <th>year_of_release</th>\n",
       "      <th>genre</th>\n",
       "      <th>na_sales</th>\n",
       "      <th>eu_sales</th>\n",
       "      <th>jp_sales</th>\n",
       "      <th>other_sales</th>\n",
       "      <th>critic_score</th>\n",
       "      <th>user_score</th>\n",
       "      <th>rating</th>\n",
       "    </tr>\n",
       "  </thead>\n",
       "  <tbody>\n",
       "  </tbody>\n",
       "</table>\n",
       "</div>"
      ],
      "text/plain": [
       "Empty DataFrame\n",
       "Columns: [name, platform, year_of_release, genre, na_sales, eu_sales, jp_sales, other_sales, critic_score, user_score, rating]\n",
       "Index: []"
      ]
     },
     "execution_count": 25,
     "metadata": {},
     "output_type": "execute_result"
    }
   ],
   "source": [
    "data[data['rating'] == 'tbd'].head()"
   ]
  },
  {
   "cell_type": "markdown",
   "metadata": {},
   "source": [
    "Значение `tbd` встречается только в столбце `user_score`.  \n",
    "Расшифруем значение \"tbd\" – To Be Determined (Ещё не определен). Чтобы гарантировать, что оценки точно отражают отзывы критиков о какой-либо игре, задается нижний порог количества оценок, пока этот порог не достигнут, игра имеет статус \"tbd\".\n",
    "\n",
    "Поскольку рейтинг еще не определен, его можно указать как `unrated`:"
   ]
  },
  {
   "cell_type": "code",
   "execution_count": 26,
   "metadata": {},
   "outputs": [],
   "source": [
    "data['user_score'].replace('tbd', 'unrated', inplace= True)"
   ]
  },
  {
   "cell_type": "markdown",
   "metadata": {},
   "source": [
    "### Приведение данных к нужным типам"
   ]
  },
  {
   "cell_type": "code",
   "execution_count": 27,
   "metadata": {},
   "outputs": [],
   "source": [
    "#приведем год к формату int\n",
    "data['year_of_release'] = data['year_of_release'].astype('int')"
   ]
  },
  {
   "cell_type": "markdown",
   "metadata": {},
   "source": [
    "`user_scores` сейчас имеет смешанный тип данных, поскольку значения были заменены на `unrated`. Будем внимательны с этим столбцом во время дальнейшей работы."
   ]
  },
  {
   "cell_type": "markdown",
   "metadata": {},
   "source": [
    "### Расчет суммарных продаж во всех регионах"
   ]
  },
  {
   "cell_type": "code",
   "execution_count": 28,
   "metadata": {},
   "outputs": [
    {
     "data": {
      "text/html": [
       "<div>\n",
       "<style scoped>\n",
       "    .dataframe tbody tr th:only-of-type {\n",
       "        vertical-align: middle;\n",
       "    }\n",
       "\n",
       "    .dataframe tbody tr th {\n",
       "        vertical-align: top;\n",
       "    }\n",
       "\n",
       "    .dataframe thead th {\n",
       "        text-align: right;\n",
       "    }\n",
       "</style>\n",
       "<table border=\"1\" class=\"dataframe\">\n",
       "  <thead>\n",
       "    <tr style=\"text-align: right;\">\n",
       "      <th></th>\n",
       "      <th>name</th>\n",
       "      <th>platform</th>\n",
       "      <th>year_of_release</th>\n",
       "      <th>genre</th>\n",
       "      <th>na_sales</th>\n",
       "      <th>eu_sales</th>\n",
       "      <th>jp_sales</th>\n",
       "      <th>other_sales</th>\n",
       "      <th>critic_score</th>\n",
       "      <th>user_score</th>\n",
       "      <th>rating</th>\n",
       "      <th>summary_sales</th>\n",
       "    </tr>\n",
       "  </thead>\n",
       "  <tbody>\n",
       "    <tr>\n",
       "      <td>0</td>\n",
       "      <td>Wii Sports</td>\n",
       "      <td>Wii</td>\n",
       "      <td>2006</td>\n",
       "      <td>Sports</td>\n",
       "      <td>41.36</td>\n",
       "      <td>28.96</td>\n",
       "      <td>3.77</td>\n",
       "      <td>8.45</td>\n",
       "      <td>76</td>\n",
       "      <td>8</td>\n",
       "      <td>E</td>\n",
       "      <td>82.54</td>\n",
       "    </tr>\n",
       "    <tr>\n",
       "      <td>1</td>\n",
       "      <td>Super Mario Bros.</td>\n",
       "      <td>NES</td>\n",
       "      <td>1985</td>\n",
       "      <td>Platform</td>\n",
       "      <td>29.08</td>\n",
       "      <td>3.58</td>\n",
       "      <td>6.81</td>\n",
       "      <td>0.77</td>\n",
       "      <td>unrated</td>\n",
       "      <td>unrated</td>\n",
       "      <td>unrated</td>\n",
       "      <td>40.24</td>\n",
       "    </tr>\n",
       "    <tr>\n",
       "      <td>2</td>\n",
       "      <td>Mario Kart Wii</td>\n",
       "      <td>Wii</td>\n",
       "      <td>2008</td>\n",
       "      <td>Racing</td>\n",
       "      <td>15.68</td>\n",
       "      <td>12.76</td>\n",
       "      <td>3.79</td>\n",
       "      <td>3.29</td>\n",
       "      <td>82</td>\n",
       "      <td>8.3</td>\n",
       "      <td>E</td>\n",
       "      <td>35.52</td>\n",
       "    </tr>\n",
       "    <tr>\n",
       "      <td>3</td>\n",
       "      <td>Wii Sports Resort</td>\n",
       "      <td>Wii</td>\n",
       "      <td>2009</td>\n",
       "      <td>Sports</td>\n",
       "      <td>15.61</td>\n",
       "      <td>10.93</td>\n",
       "      <td>3.28</td>\n",
       "      <td>2.95</td>\n",
       "      <td>80</td>\n",
       "      <td>8</td>\n",
       "      <td>E</td>\n",
       "      <td>32.77</td>\n",
       "    </tr>\n",
       "    <tr>\n",
       "      <td>4</td>\n",
       "      <td>Pokemon Red/Pokemon Blue</td>\n",
       "      <td>GB</td>\n",
       "      <td>1996</td>\n",
       "      <td>Role-Playing</td>\n",
       "      <td>11.27</td>\n",
       "      <td>8.89</td>\n",
       "      <td>10.22</td>\n",
       "      <td>1.00</td>\n",
       "      <td>unrated</td>\n",
       "      <td>unrated</td>\n",
       "      <td>unrated</td>\n",
       "      <td>31.38</td>\n",
       "    </tr>\n",
       "  </tbody>\n",
       "</table>\n",
       "</div>"
      ],
      "text/plain": [
       "                       name platform  year_of_release         genre  na_sales  \\\n",
       "0                Wii Sports      Wii             2006        Sports     41.36   \n",
       "1         Super Mario Bros.      NES             1985      Platform     29.08   \n",
       "2            Mario Kart Wii      Wii             2008        Racing     15.68   \n",
       "3         Wii Sports Resort      Wii             2009        Sports     15.61   \n",
       "4  Pokemon Red/Pokemon Blue       GB             1996  Role-Playing     11.27   \n",
       "\n",
       "   eu_sales  jp_sales  other_sales critic_score user_score   rating  \\\n",
       "0     28.96      3.77         8.45           76          8        E   \n",
       "1      3.58      6.81         0.77      unrated    unrated  unrated   \n",
       "2     12.76      3.79         3.29           82        8.3        E   \n",
       "3     10.93      3.28         2.95           80          8        E   \n",
       "4      8.89     10.22         1.00      unrated    unrated  unrated   \n",
       "\n",
       "   summary_sales  \n",
       "0          82.54  \n",
       "1          40.24  \n",
       "2          35.52  \n",
       "3          32.77  \n",
       "4          31.38  "
      ]
     },
     "execution_count": 28,
     "metadata": {},
     "output_type": "execute_result"
    }
   ],
   "source": [
    "data['summary_sales'] = (data['na_sales'] + \n",
    "                         data['eu_sales'] + \n",
    "                         data['jp_sales'] + \n",
    "                         data['other_sales'])\n",
    "data.head()"
   ]
  },
  {
   "cell_type": "markdown",
   "metadata": {},
   "source": [
    "### Вывод"
   ]
  },
  {
   "cell_type": "markdown",
   "metadata": {},
   "source": [
    "На данном этапе мы подготовили данные для дальнейшего анализа.\n",
    "\n",
    "**1.** Исправлены названия столбцов.\n",
    "\n",
    "\n",
    "**2.** Обработаны пропуски в столбцах:\n",
    "- **name**:  2 пропуска возникают для одной консоли - Sega Genesis.  значения были замены на GEN_game_1 и 2, а жанры на unknown.\n",
    "Пропущенные значения могли возникнуть если названия игр и жанров были написаны иероглифами, также в таблицу молги случайно попасть платные дополнения к играм.\n",
    "\n",
    "- **year_of_release**: Пропуски появляются на разных платформах, играх и разных жанрах. Причины возникновения пропусков пока не ясны. В некоторых названиях игр содержится год, однако если обрататься к поисковым источникам, он не соответствует реальному году выпуска (часто игра выпускается годом ранее). Поэтому частично восстановить год выпуска по названию не получится.\n",
    "Доля пропущенных значений – 1.6%, поэтому пропущенные значения были отфильтрованы.\n",
    "\n",
    "- **critic_score**: Доля пропущенных значений 51% что довольно много, однако это вполне реальное значение – критики довольно часто пропускают различные непопулярные или старые игры. Поэтому пропущенные значения \n",
    "\n",
    "- **user_score**: Доля пропущенных значений – 40%, это значение также приближено к реальности – на многие игры довольно часто не собирается статистика. Поэтому пропущенные значения также заменялись на `unrated`.\n",
    "\n",
    "- **rating**: Поскольку рейтинг ESRB определяет рейтинги для компьютерных видеоигр в США и Канаде, мы обнаружили большую долю пропущенных значений – 41%. Пропущенные значения заменялись на `unrated`.\n",
    "\n",
    "\n",
    "**3.**  Обработана аббревиатура \"tbd\" в столбцах с рейтингом.\n",
    "\n",
    "\"tbd\" – To Be Determined (Ещё не определен). Чтобы гарантировать, что оценки точно отражают отзывы критиков о какой-либо игре, задается нижний порог количества оценок, пока этот порог не достигнут, игра имеет статус \"tbd\".\n",
    "Поскольку рейтинг еще не определен, мы его указывали как `unrated`.\n",
    "\n",
    "**4.** Данные приведены  к нужным типам.  \n",
    "Год приведен к формату `int`. `user_scores` было решено оставить как смешанный тип данных.\n",
    "\n",
    "**5.** Был проведен расчет суммарных продаж во всех регионах."
   ]
  },
  {
   "cell_type": "markdown",
   "metadata": {},
   "source": [
    "## 3. Исследовательский анализ данных<a id='step3'></a>"
   ]
  },
  {
   "cell_type": "markdown",
   "metadata": {},
   "source": [
    "### Оценка количества игр в разные годы"
   ]
  },
  {
   "cell_type": "code",
   "execution_count": 29,
   "metadata": {},
   "outputs": [
    {
     "data": {
      "text/plain": [
       "Text(0.5, 0.98, 'Количество игр в год')"
      ]
     },
     "execution_count": 29,
     "metadata": {},
     "output_type": "execute_result"
    },
    {
     "data": {
      "image/png": "[encoded data removed]",
      "text/plain": [
       "<Figure size 360x360 with 1 Axes>"
      ]
     },
     "metadata": {},
     "output_type": "display_data"
    }
   ],
   "source": [
    "g = sns.displot(data, x=\"year_of_release\", \n",
    "            kind='hist',\n",
    "            discrete=True\n",
    "            )\n",
    "\n",
    "g.fig.suptitle('Количество игр в год')"
   ]
  },
  {
   "cell_type": "code",
   "execution_count": 30,
   "metadata": {},
   "outputs": [
    {
     "data": {
      "text/plain": [
       "Text(0.5, 1.0, 'Количество игр в год')"
      ]
     },
     "execution_count": 30,
     "metadata": {},
     "output_type": "execute_result"
    },
    {
     "data": {
      "image/png": "[encoded data removed]",
      "text/plain": [
       "<Figure size 432x288 with 1 Axes>"
      ]
     },
     "metadata": {},
     "output_type": "display_data"
    }
   ],
   "source": [
    "g = sns.boxplot(x=data[\"year_of_release\"])\n",
    "plt.title('Количество игр в год')"
   ]
  },
  {
   "cell_type": "markdown",
   "metadata": {},
   "source": [
    "И на гистограмме и на диаграмме размаха видно, что игры начинают активно выпускаться только с 1993 года, пик количества игр приходится на 2008-2009 год, после чего значение идет на спад. \n",
    "\n",
    "Обозначим актуальный период как 1993 - 2016 года."
   ]
  },
  {
   "cell_type": "markdown",
   "metadata": {},
   "source": [
    "### Сравнение продаж по платформам;"
   ]
  },
  {
   "cell_type": "markdown",
   "metadata": {},
   "source": [
    "Рассмотрим, как менялись продажи по платформам. Выберем платформы с наибольшими суммарными продажами и построим распределение по годам. За какой характерный срок появляются новые и исчезают старые платформы?"
   ]
  },
  {
   "cell_type": "code",
   "execution_count": 32,
   "metadata": {},
   "outputs": [
    {
     "data": {
      "text/html": [
       "<div>\n",
       "<style scoped>\n",
       "    .dataframe tbody tr th:only-of-type {\n",
       "        vertical-align: middle;\n",
       "    }\n",
       "\n",
       "    .dataframe tbody tr th {\n",
       "        vertical-align: top;\n",
       "    }\n",
       "\n",
       "    .dataframe thead th {\n",
       "        text-align: right;\n",
       "    }\n",
       "</style>\n",
       "<table border=\"1\" class=\"dataframe\">\n",
       "  <thead>\n",
       "    <tr style=\"text-align: right;\">\n",
       "      <th></th>\n",
       "      <th>summary_sales</th>\n",
       "    </tr>\n",
       "    <tr>\n",
       "      <th>platform</th>\n",
       "      <th></th>\n",
       "    </tr>\n",
       "  </thead>\n",
       "  <tbody>\n",
       "    <tr>\n",
       "      <td>PS2</td>\n",
       "      <td>1233.56</td>\n",
       "    </tr>\n",
       "    <tr>\n",
       "      <td>X360</td>\n",
       "      <td>961.24</td>\n",
       "    </tr>\n",
       "    <tr>\n",
       "      <td>PS3</td>\n",
       "      <td>931.34</td>\n",
       "    </tr>\n",
       "    <tr>\n",
       "      <td>Wii</td>\n",
       "      <td>891.18</td>\n",
       "    </tr>\n",
       "    <tr>\n",
       "      <td>DS</td>\n",
       "      <td>802.78</td>\n",
       "    </tr>\n",
       "    <tr>\n",
       "      <td>PS</td>\n",
       "      <td>727.58</td>\n",
       "    </tr>\n",
       "    <tr>\n",
       "      <td>PS4</td>\n",
       "      <td>314.14</td>\n",
       "    </tr>\n",
       "    <tr>\n",
       "      <td>GBA</td>\n",
       "      <td>312.88</td>\n",
       "    </tr>\n",
       "    <tr>\n",
       "      <td>PSP</td>\n",
       "      <td>289.53</td>\n",
       "    </tr>\n",
       "    <tr>\n",
       "      <td>3DS</td>\n",
       "      <td>257.81</td>\n",
       "    </tr>\n",
       "  </tbody>\n",
       "</table>\n",
       "</div>"
      ],
      "text/plain": [
       "          summary_sales\n",
       "platform               \n",
       "PS2             1233.56\n",
       "X360             961.24\n",
       "PS3              931.34\n",
       "Wii              891.18\n",
       "DS               802.78\n",
       "PS               727.58\n",
       "PS4              314.14\n",
       "GBA              312.88\n",
       "PSP              289.53\n",
       "3DS              257.81"
      ]
     },
     "execution_count": 32,
     "metadata": {},
     "output_type": "execute_result"
    }
   ],
   "source": [
    "#соберем топ платформ по продажам\n",
    "top_sales_platforms = (data\n",
    "                    .pivot_table(index='platform', values='summary_sales', aggfunc='sum')\n",
    "                    .sort_values(by='summary_sales', ascending=False)\n",
    "                    )\n",
    "top_sales_platforms.head(10)"
   ]
  },
  {
   "cell_type": "code",
   "execution_count": 33,
   "metadata": {},
   "outputs": [
    {
     "data": {
      "image/png": "[encoded data removed]",
      "text/plain": [
       "<Figure size 288x144 with 1 Axes>"
      ]
     },
     "metadata": {},
     "output_type": "display_data"
    },
    {
     "data": {
      "image/png": "[encoded data removed]",
      "text/plain": [
       "<Figure size 288x144 with 1 Axes>"
      ]
     },
     "metadata": {},
     "output_type": "display_data"
    },
    {
     "data": {
      "image/png": "[encoded data removed]",
      "text/plain": [
       "<Figure size 288x144 with 1 Axes>"
      ]
     },
     "metadata": {},
     "output_type": "display_data"
    },
    {
     "data": {
      "image/png": "[encoded data removed]",
      "text/plain": [
       "<Figure size 288x144 with 1 Axes>"
      ]
     },
     "metadata": {},
     "output_type": "display_data"
    },
    {
     "data": {
      "image/png": "[encoded data removed]",
      "text/plain": [
       "<Figure size 288x144 with 1 Axes>"
      ]
     },
     "metadata": {},
     "output_type": "display_data"
    }
   ],
   "source": [
    "#функция которая будет строить гистограммы по переданной платформе\n",
    "def build_hist(set_platform):\n",
    "    \n",
    "    data_for_platform = data.query('platform == @set_platform')\n",
    "\n",
    "    g = sns.displot(data_for_platform,\n",
    "            x= \"year_of_release\", \n",
    "            kind= 'hist',\n",
    "            discrete= True,\n",
    "            height= 2,          \n",
    "            aspect= 2\n",
    "            )\n",
    "\n",
    "    g.fig.suptitle(f'{set_platform}')\n",
    "    \n",
    "#построим графики для топ 5 платформ  \n",
    "for index in range (0, 5):\n",
    "    build_hist(top_sales_platforms.index[index])"
   ]
  },
  {
   "cell_type": "markdown",
   "metadata": {},
   "source": [
    "На гистограммах видно, что у PS2, PS3, XBOX 360 и DS основной стак игр выходит и активно продается в промежуток около 10 лет, у Wii промежуток оказался меньше - около 6 лет. Также зафиксируем что распределения стремятся к нормальному.\n",
    "\n",
    "Примем, что характерный срок за который появляются новые и исчезают старые платформы – 10 лет."
   ]
  },
  {
   "cell_type": "markdown",
   "metadata": {},
   "source": [
    "### Выбор актуального периода для построения прогноза на 2017 год"
   ]
  },
  {
   "cell_type": "markdown",
   "metadata": {},
   "source": [
    "При выборе актуального периода для построения прогноза на 2017 год можно поступить двумя способами:  \n",
    " 1. Взять как можно больше данных за все время;  \n",
    " 2. Ограничиться периодом в 10 лет.\n",
    "\n",
    "Поскольку дальнейший анализ будет в основном фокусироваться на анализе платформ, а также из-за того, что для предсказания будущего спроса лучше всего использовать \"живые\" платформы, выберем период в последние 10 лет: данные за 2006 - 2016 год.\n",
    "\n",
    "Если во время анализа нам будет нехватать данных по какому-либо признаку, можно будет рассмотреть более продолжительный период."
   ]
  },
  {
   "cell_type": "code",
   "execution_count": 34,
   "metadata": {},
   "outputs": [],
   "source": [
    "data = data.query('year_of_release >= 2006')"
   ]
  },
  {
   "cell_type": "markdown",
   "metadata": {},
   "source": [
    "### Выбор потенциально прибыльных платформ"
   ]
  },
  {
   "cell_type": "markdown",
   "metadata": {},
   "source": [
    "Рассмотрим какие платформы лидируют по продажам, растут по ним или падают, и выберем несколько потенциально прибыльных платформ."
   ]
  },
  {
   "cell_type": "code",
   "execution_count": 35,
   "metadata": {},
   "outputs": [
    {
     "data": {
      "text/plain": [
       "Text(0.5, 0.98, 'Проданные игры на платформе')"
      ]
     },
     "execution_count": 35,
     "metadata": {},
     "output_type": "execute_result"
    },
    {
     "data": {
      "image/png": "[encoded data removed]",
      "text/plain": [
       "<Figure size 495.125x432 with 1 Axes>"
      ]
     },
     "metadata": {},
     "output_type": "display_data"
    }
   ],
   "source": [
    "g = sns.displot(data,\n",
    "            x= \"year_of_release\", \n",
    "            kind='hist',\n",
    "            hue='platform',    \n",
    "            discrete= True,\n",
    "            height= 6,          \n",
    "            aspect= 1\n",
    "            )\n",
    "\n",
    "g.fig.suptitle('Проданные игры на платформе')"
   ]
  },
  {
   "cell_type": "markdown",
   "metadata": {},
   "source": [
    "На этом графике становится видно, что мы взяли слишком большой промежуток для анализа – сюда попадают платформы, которые имели большой успех в 2006 - 2010, однако сейчас непопулярны. Они будут мешать выявить актуальных лидеров по продажам.\n",
    "\n",
    "Поэтому поставим более жесткий фильтр: 2013 - 2016"
   ]
  },
  {
   "cell_type": "code",
   "execution_count": 36,
   "metadata": {},
   "outputs": [],
   "source": [
    "data = data.query('year_of_release >= 2013')"
   ]
  },
  {
   "cell_type": "code",
   "execution_count": 37,
   "metadata": {},
   "outputs": [
    {
     "data": {
      "text/plain": [
       "Text(0.5, 0.98, 'Проданные игры на платформе')"
      ]
     },
     "execution_count": 37,
     "metadata": {},
     "output_type": "execute_result"
    },
    {
     "data": {
      "image/png": "[encoded data removed]",
      "text/plain": [
       "<Figure size 423.125x360 with 1 Axes>"
      ]
     },
     "metadata": {},
     "output_type": "display_data"
    }
   ],
   "source": [
    "g = sns.displot(data,\n",
    "            x= \"year_of_release\", \n",
    "            kind='hist',\n",
    "            hue='platform',    \n",
    "            discrete= True,\n",
    "            height= 5,          \n",
    "            aspect= 1\n",
    "            )\n",
    "\n",
    "g.fig.suptitle('Проданные игры на платформе')"
   ]
  },
  {
   "cell_type": "code",
   "execution_count": 38,
   "metadata": {},
   "outputs": [
    {
     "data": {
      "text/html": [
       "<div>\n",
       "<style scoped>\n",
       "    .dataframe tbody tr th:only-of-type {\n",
       "        vertical-align: middle;\n",
       "    }\n",
       "\n",
       "    .dataframe tbody tr th {\n",
       "        vertical-align: top;\n",
       "    }\n",
       "\n",
       "    .dataframe thead th {\n",
       "        text-align: right;\n",
       "    }\n",
       "</style>\n",
       "<table border=\"1\" class=\"dataframe\">\n",
       "  <thead>\n",
       "    <tr style=\"text-align: right;\">\n",
       "      <th>platform</th>\n",
       "      <th>3DS</th>\n",
       "      <th>DS</th>\n",
       "      <th>PC</th>\n",
       "      <th>PS3</th>\n",
       "      <th>PS4</th>\n",
       "      <th>PSP</th>\n",
       "      <th>PSV</th>\n",
       "      <th>Wii</th>\n",
       "      <th>WiiU</th>\n",
       "      <th>X360</th>\n",
       "      <th>XOne</th>\n",
       "    </tr>\n",
       "    <tr>\n",
       "      <th>year_of_release</th>\n",
       "      <th></th>\n",
       "      <th></th>\n",
       "      <th></th>\n",
       "      <th></th>\n",
       "      <th></th>\n",
       "      <th></th>\n",
       "      <th></th>\n",
       "      <th></th>\n",
       "      <th></th>\n",
       "      <th></th>\n",
       "      <th></th>\n",
       "    </tr>\n",
       "  </thead>\n",
       "  <tbody>\n",
       "    <tr>\n",
       "      <td>2013</td>\n",
       "      <td>56.57</td>\n",
       "      <td>1.54</td>\n",
       "      <td>12.38</td>\n",
       "      <td>113.25</td>\n",
       "      <td>25.99</td>\n",
       "      <td>3.14</td>\n",
       "      <td>10.59</td>\n",
       "      <td>8.59</td>\n",
       "      <td>21.65</td>\n",
       "      <td>88.58</td>\n",
       "      <td>18.96</td>\n",
       "    </tr>\n",
       "    <tr>\n",
       "      <td>2014</td>\n",
       "      <td>43.76</td>\n",
       "      <td>NaN</td>\n",
       "      <td>13.28</td>\n",
       "      <td>47.76</td>\n",
       "      <td>100.00</td>\n",
       "      <td>0.24</td>\n",
       "      <td>11.90</td>\n",
       "      <td>3.75</td>\n",
       "      <td>22.03</td>\n",
       "      <td>34.74</td>\n",
       "      <td>54.07</td>\n",
       "    </tr>\n",
       "    <tr>\n",
       "      <td>2015</td>\n",
       "      <td>27.78</td>\n",
       "      <td>NaN</td>\n",
       "      <td>8.52</td>\n",
       "      <td>16.82</td>\n",
       "      <td>118.90</td>\n",
       "      <td>0.12</td>\n",
       "      <td>6.25</td>\n",
       "      <td>1.14</td>\n",
       "      <td>16.35</td>\n",
       "      <td>11.96</td>\n",
       "      <td>60.14</td>\n",
       "    </tr>\n",
       "    <tr>\n",
       "      <td>2016</td>\n",
       "      <td>15.14</td>\n",
       "      <td>NaN</td>\n",
       "      <td>5.25</td>\n",
       "      <td>3.60</td>\n",
       "      <td>69.25</td>\n",
       "      <td>NaN</td>\n",
       "      <td>4.25</td>\n",
       "      <td>0.18</td>\n",
       "      <td>4.60</td>\n",
       "      <td>1.52</td>\n",
       "      <td>26.15</td>\n",
       "    </tr>\n",
       "  </tbody>\n",
       "</table>\n",
       "</div>"
      ],
      "text/plain": [
       "platform           3DS    DS     PC     PS3     PS4   PSP    PSV   Wii   WiiU  \\\n",
       "year_of_release                                                                 \n",
       "2013             56.57  1.54  12.38  113.25   25.99  3.14  10.59  8.59  21.65   \n",
       "2014             43.76   NaN  13.28   47.76  100.00  0.24  11.90  3.75  22.03   \n",
       "2015             27.78   NaN   8.52   16.82  118.90  0.12   6.25  1.14  16.35   \n",
       "2016             15.14   NaN   5.25    3.60   69.25   NaN   4.25  0.18   4.60   \n",
       "\n",
       "platform          X360   XOne  \n",
       "year_of_release                \n",
       "2013             88.58  18.96  \n",
       "2014             34.74  54.07  \n",
       "2015             11.96  60.14  \n",
       "2016              1.52  26.15  "
      ]
     },
     "execution_count": 38,
     "metadata": {},
     "output_type": "execute_result"
    }
   ],
   "source": [
    "#соберем таблицу по продажам платформ в год\n",
    "platforms_actual = (data\n",
    "                    .pivot_table(index='year_of_release', columns='platform', values='summary_sales', aggfunc='sum')\n",
    "                                        )\n",
    "platforms_actual"
   ]
  },
  {
   "cell_type": "markdown",
   "metadata": {},
   "source": [
    "Перед анализом ещё раз уточним, что одна из проблем данных в том, что данные за 2016 год неполные. \n",
    "\n",
    "Так как распределения ведут себя как нормальное, условимся что растущие платформы – это те платформы, у которых пик (максимальное значение) приходится на 2016 или 2015 год.\n",
    "\n",
    "Выделим растущие платформы:"
   ]
  },
  {
   "cell_type": "code",
   "execution_count": 39,
   "metadata": {},
   "outputs": [
    {
     "data": {
      "text/plain": [
       "['PS4', 'XOne']"
      ]
     },
     "execution_count": 39,
     "metadata": {},
     "output_type": "execute_result"
    }
   ],
   "source": [
    "growing_platforms = []\n",
    "\n",
    "for platform in platforms_actual.columns:\n",
    "    if ((platforms_actual[f'{platform}'].max() == platforms_actual.loc[2016, f'{platform}']) or\n",
    "        (platforms_actual[f'{platform}'].max() == platforms_actual.loc[2015, f'{platform}'])):\n",
    "        growing_platforms.append(platform)\n",
    "\n",
    "growing_platforms"
   ]
  },
  {
   "cell_type": "markdown",
   "metadata": {},
   "source": [
    "И лидеров по продажам:"
   ]
  },
  {
   "cell_type": "code",
   "execution_count": 40,
   "metadata": {},
   "outputs": [
    {
     "data": {
      "text/html": [
       "<div>\n",
       "<style scoped>\n",
       "    .dataframe tbody tr th:only-of-type {\n",
       "        vertical-align: middle;\n",
       "    }\n",
       "\n",
       "    .dataframe tbody tr th {\n",
       "        vertical-align: top;\n",
       "    }\n",
       "\n",
       "    .dataframe thead th {\n",
       "        text-align: right;\n",
       "    }\n",
       "</style>\n",
       "<table border=\"1\" class=\"dataframe\">\n",
       "  <thead>\n",
       "    <tr style=\"text-align: right;\">\n",
       "      <th></th>\n",
       "      <th>2013</th>\n",
       "      <th>2014</th>\n",
       "      <th>2015</th>\n",
       "      <th>2016</th>\n",
       "      <th>summary_sales</th>\n",
       "    </tr>\n",
       "    <tr>\n",
       "      <th>platform</th>\n",
       "      <th></th>\n",
       "      <th></th>\n",
       "      <th></th>\n",
       "      <th></th>\n",
       "      <th></th>\n",
       "    </tr>\n",
       "  </thead>\n",
       "  <tbody>\n",
       "    <tr>\n",
       "      <td>PS4</td>\n",
       "      <td>25.99</td>\n",
       "      <td>100.00</td>\n",
       "      <td>118.90</td>\n",
       "      <td>69.25</td>\n",
       "      <td>314.14</td>\n",
       "    </tr>\n",
       "    <tr>\n",
       "      <td>PS3</td>\n",
       "      <td>113.25</td>\n",
       "      <td>47.76</td>\n",
       "      <td>16.82</td>\n",
       "      <td>3.60</td>\n",
       "      <td>181.43</td>\n",
       "    </tr>\n",
       "    <tr>\n",
       "      <td>XOne</td>\n",
       "      <td>18.96</td>\n",
       "      <td>54.07</td>\n",
       "      <td>60.14</td>\n",
       "      <td>26.15</td>\n",
       "      <td>159.32</td>\n",
       "    </tr>\n",
       "    <tr>\n",
       "      <td>3DS</td>\n",
       "      <td>56.57</td>\n",
       "      <td>43.76</td>\n",
       "      <td>27.78</td>\n",
       "      <td>15.14</td>\n",
       "      <td>143.25</td>\n",
       "    </tr>\n",
       "    <tr>\n",
       "      <td>X360</td>\n",
       "      <td>88.58</td>\n",
       "      <td>34.74</td>\n",
       "      <td>11.96</td>\n",
       "      <td>1.52</td>\n",
       "      <td>136.80</td>\n",
       "    </tr>\n",
       "    <tr>\n",
       "      <td>WiiU</td>\n",
       "      <td>21.65</td>\n",
       "      <td>22.03</td>\n",
       "      <td>16.35</td>\n",
       "      <td>4.60</td>\n",
       "      <td>64.63</td>\n",
       "    </tr>\n",
       "    <tr>\n",
       "      <td>PC</td>\n",
       "      <td>12.38</td>\n",
       "      <td>13.28</td>\n",
       "      <td>8.52</td>\n",
       "      <td>5.25</td>\n",
       "      <td>39.43</td>\n",
       "    </tr>\n",
       "    <tr>\n",
       "      <td>PSV</td>\n",
       "      <td>10.59</td>\n",
       "      <td>11.90</td>\n",
       "      <td>6.25</td>\n",
       "      <td>4.25</td>\n",
       "      <td>32.99</td>\n",
       "    </tr>\n",
       "    <tr>\n",
       "      <td>Wii</td>\n",
       "      <td>8.59</td>\n",
       "      <td>3.75</td>\n",
       "      <td>1.14</td>\n",
       "      <td>0.18</td>\n",
       "      <td>13.66</td>\n",
       "    </tr>\n",
       "    <tr>\n",
       "      <td>PSP</td>\n",
       "      <td>3.14</td>\n",
       "      <td>0.24</td>\n",
       "      <td>0.12</td>\n",
       "      <td>NaN</td>\n",
       "      <td>3.50</td>\n",
       "    </tr>\n",
       "    <tr>\n",
       "      <td>DS</td>\n",
       "      <td>1.54</td>\n",
       "      <td>NaN</td>\n",
       "      <td>NaN</td>\n",
       "      <td>NaN</td>\n",
       "      <td>1.54</td>\n",
       "    </tr>\n",
       "  </tbody>\n",
       "</table>\n",
       "</div>"
      ],
      "text/plain": [
       "            2013    2014    2015   2016  summary_sales\n",
       "platform                                              \n",
       "PS4        25.99  100.00  118.90  69.25         314.14\n",
       "PS3       113.25   47.76   16.82   3.60         181.43\n",
       "XOne       18.96   54.07   60.14  26.15         159.32\n",
       "3DS        56.57   43.76   27.78  15.14         143.25\n",
       "X360       88.58   34.74   11.96   1.52         136.80\n",
       "WiiU       21.65   22.03   16.35   4.60          64.63\n",
       "PC         12.38   13.28    8.52   5.25          39.43\n",
       "PSV        10.59   11.90    6.25   4.25          32.99\n",
       "Wii         8.59    3.75    1.14   0.18          13.66\n",
       "PSP         3.14    0.24    0.12    NaN           3.50\n",
       "DS          1.54     NaN     NaN    NaN           1.54"
      ]
     },
     "execution_count": 40,
     "metadata": {},
     "output_type": "execute_result"
    }
   ],
   "source": [
    "#для удобства транспонируем таблицу\n",
    "platforms_actual_t = platforms_actual.transpose(copy= True)\n",
    "\n",
    "platforms_actual_t.columns = ['2013', '2014', '2015', '2016']\n",
    "\n",
    "#посчитаем общие продажи за выбранный период\n",
    "platforms_actual_t['summary_sales'] = platforms_actual_t.sum(axis=1)\n",
    "\n",
    "platforms_actual_t.sort_values(by='summary_sales', ascending=False)"
   ]
  },
  {
   "cell_type": "markdown",
   "metadata": {},
   "source": [
    "Теперь становится видно, что у платформы **PS4** самые большие продажи за выбранный период, к тому же мы выяснили что они растут.  \n",
    "К растущим платформам мы также отнесли **Xbox One**, которая занимает 3 место по объему продаж. Это две потенциально самые прибыльные платформы в 2017 году.\n",
    "\n",
    "**PS3 и Xbox 360** – предыдущие версии платформ, занимают 2 и 4 место соответственно, однако у них продажи стремительно падают.\n",
    "\n",
    "Также выделим **Nintendo 3DS, ПК и PS Vita**. Несмотря на то, что продажи у них падают, падение не такое стремительное и от них можно ожидать определенного уровня продаж в следующем году. \n",
    "\n",
    "**WiiU** на 6 месте по объему продаж, является самой рискованной для того чтобы вкладываться в её реализацию и рекламную кампанию: видим резкое падение её продаж в 2016 году по сравнению с поведением остальных платформ.\n",
    "\n",
    "Продажи оставшихся платформ – **Wii, PSP и DS** уже совсем сошли или сходят на нет.\t"
   ]
  },
  {
   "cell_type": "markdown",
   "metadata": {},
   "source": [
    "### Диаграмма размаха по глобальным продажам игр в разбивке по платформам. "
   ]
  },
  {
   "cell_type": "code",
   "execution_count": 41,
   "metadata": {},
   "outputs": [
    {
     "data": {
      "text/plain": [
       "Text(0.5, 0.98, 'Продажи на платформе')"
      ]
     },
     "execution_count": 41,
     "metadata": {},
     "output_type": "execute_result"
    },
    {
     "data": {
      "image/png": "[encoded data removed]",
      "text/plain": [
       "<Figure size 864x432 with 1 Axes>"
      ]
     },
     "metadata": {},
     "output_type": "display_data"
    }
   ],
   "source": [
    "g = sns.catplot(x=\"platform\", \n",
    "                y=\"summary_sales\", \n",
    "                kind=\"boxen\",\n",
    "                data=data,\n",
    "                height= 6,          \n",
    "                aspect= 2)\n",
    "\n",
    "g.set(ylim=(0, 10))\n",
    "g.fig.suptitle('Продажи на платформе')"
   ]
  },
  {
   "cell_type": "markdown",
   "metadata": {},
   "source": [
    "График отображает объемы продаж и в целом визуализирует результаты из предыдущего пункта анализа.\n",
    "\n",
    "Можно обратить внимание на интересное распределение продаж у платформы Wii – относительно широкий ящик говорит о большой диспресии продаж игр. \n",
    "\n",
    "Также отметим распределения PSVita, и в некоторой степени 3DS и PC. На платформы выходят игры в основном с одинаковыми продажами, что говорит о стабильности платформы. (PSP также стабильно, однако объемы продаж очень маленькие)"
   ]
  },
  {
   "cell_type": "markdown",
   "metadata": {},
   "source": [
    "### Как влияют на продажи внутри одной популярной платформы отзывы пользователей и критиков. "
   ]
  },
  {
   "cell_type": "markdown",
   "metadata": {},
   "source": [
    "Будем оценивать влияние оценок критиков для платформы PS4."
   ]
  },
  {
   "cell_type": "code",
   "execution_count": 42,
   "metadata": {},
   "outputs": [
    {
     "data": {
      "text/html": [
       "<div>\n",
       "<style scoped>\n",
       "    .dataframe tbody tr th:only-of-type {\n",
       "        vertical-align: middle;\n",
       "    }\n",
       "\n",
       "    .dataframe tbody tr th {\n",
       "        vertical-align: top;\n",
       "    }\n",
       "\n",
       "    .dataframe thead th {\n",
       "        text-align: right;\n",
       "    }\n",
       "</style>\n",
       "<table border=\"1\" class=\"dataframe\">\n",
       "  <thead>\n",
       "    <tr style=\"text-align: right;\">\n",
       "      <th></th>\n",
       "      <th>name</th>\n",
       "      <th>platform</th>\n",
       "      <th>year_of_release</th>\n",
       "      <th>genre</th>\n",
       "      <th>na_sales</th>\n",
       "      <th>eu_sales</th>\n",
       "      <th>jp_sales</th>\n",
       "      <th>other_sales</th>\n",
       "      <th>critic_score</th>\n",
       "      <th>user_score</th>\n",
       "      <th>rating</th>\n",
       "      <th>summary_sales</th>\n",
       "    </tr>\n",
       "  </thead>\n",
       "  <tbody>\n",
       "    <tr>\n",
       "      <td>42</td>\n",
       "      <td>Grand Theft Auto V</td>\n",
       "      <td>PS4</td>\n",
       "      <td>2014</td>\n",
       "      <td>Action</td>\n",
       "      <td>3.96</td>\n",
       "      <td>6.31</td>\n",
       "      <td>0.38</td>\n",
       "      <td>1.97</td>\n",
       "      <td>97</td>\n",
       "      <td>8.3</td>\n",
       "      <td>M</td>\n",
       "      <td>12.62</td>\n",
       "    </tr>\n",
       "    <tr>\n",
       "      <td>77</td>\n",
       "      <td>FIFA 16</td>\n",
       "      <td>PS4</td>\n",
       "      <td>2015</td>\n",
       "      <td>Sports</td>\n",
       "      <td>1.12</td>\n",
       "      <td>6.12</td>\n",
       "      <td>0.06</td>\n",
       "      <td>1.28</td>\n",
       "      <td>82</td>\n",
       "      <td>4.3</td>\n",
       "      <td>E</td>\n",
       "      <td>8.58</td>\n",
       "    </tr>\n",
       "    <tr>\n",
       "      <td>92</td>\n",
       "      <td>Call of Duty: Advanced Warfare</td>\n",
       "      <td>PS4</td>\n",
       "      <td>2014</td>\n",
       "      <td>Shooter</td>\n",
       "      <td>2.81</td>\n",
       "      <td>3.48</td>\n",
       "      <td>0.14</td>\n",
       "      <td>1.23</td>\n",
       "      <td>83</td>\n",
       "      <td>5.7</td>\n",
       "      <td>M</td>\n",
       "      <td>7.66</td>\n",
       "    </tr>\n",
       "    <tr>\n",
       "      <td>94</td>\n",
       "      <td>FIFA 17</td>\n",
       "      <td>PS4</td>\n",
       "      <td>2016</td>\n",
       "      <td>Sports</td>\n",
       "      <td>0.66</td>\n",
       "      <td>5.75</td>\n",
       "      <td>0.08</td>\n",
       "      <td>1.11</td>\n",
       "      <td>85</td>\n",
       "      <td>5</td>\n",
       "      <td>E</td>\n",
       "      <td>7.60</td>\n",
       "    </tr>\n",
       "    <tr>\n",
       "      <td>105</td>\n",
       "      <td>Fallout 4</td>\n",
       "      <td>PS4</td>\n",
       "      <td>2015</td>\n",
       "      <td>Role-Playing</td>\n",
       "      <td>2.53</td>\n",
       "      <td>3.27</td>\n",
       "      <td>0.24</td>\n",
       "      <td>1.13</td>\n",
       "      <td>87</td>\n",
       "      <td>6.5</td>\n",
       "      <td>M</td>\n",
       "      <td>7.17</td>\n",
       "    </tr>\n",
       "  </tbody>\n",
       "</table>\n",
       "</div>"
      ],
      "text/plain": [
       "                               name platform  year_of_release         genre  \\\n",
       "42               Grand Theft Auto V      PS4             2014        Action   \n",
       "77                          FIFA 16      PS4             2015        Sports   \n",
       "92   Call of Duty: Advanced Warfare      PS4             2014       Shooter   \n",
       "94                          FIFA 17      PS4             2016        Sports   \n",
       "105                       Fallout 4      PS4             2015  Role-Playing   \n",
       "\n",
       "     na_sales  eu_sales  jp_sales  other_sales critic_score user_score rating  \\\n",
       "42       3.96      6.31      0.38         1.97           97        8.3      M   \n",
       "77       1.12      6.12      0.06         1.28           82        4.3      E   \n",
       "92       2.81      3.48      0.14         1.23           83        5.7      M   \n",
       "94       0.66      5.75      0.08         1.11           85          5      E   \n",
       "105      2.53      3.27      0.24         1.13           87        6.5      M   \n",
       "\n",
       "     summary_sales  \n",
       "42           12.62  \n",
       "77            8.58  \n",
       "92            7.66  \n",
       "94            7.60  \n",
       "105           7.17  "
      ]
     },
     "execution_count": 42,
     "metadata": {},
     "output_type": "execute_result"
    }
   ],
   "source": [
    "#выберем платформу и игры с рейтингом\n",
    "ps4_data = data.query('(platform == \"PS4\") and (user_score != \"unrated\") and (critic_score != \"unrated\")')\n",
    "ps4_data.head()"
   ]
  },
  {
   "cell_type": "code",
   "execution_count": 43,
   "metadata": {},
   "outputs": [
    {
     "name": "stdout",
     "output_type": "stream",
     "text": [
      "<class 'pandas.core.frame.DataFrame'>\n",
      "Int64Index: 249 entries, 42 to 16530\n",
      "Data columns (total 12 columns):\n",
      "name               249 non-null object\n",
      "platform           249 non-null object\n",
      "year_of_release    249 non-null int64\n",
      "genre              249 non-null object\n",
      "na_sales           249 non-null float64\n",
      "eu_sales           249 non-null float64\n",
      "jp_sales           249 non-null float64\n",
      "other_sales        249 non-null float64\n",
      "critic_score       249 non-null object\n",
      "user_score         249 non-null object\n",
      "rating             249 non-null object\n",
      "summary_sales      249 non-null float64\n",
      "dtypes: float64(5), int64(1), object(6)\n",
      "memory usage: 25.3+ KB\n"
     ]
    }
   ],
   "source": [
    "ps4_data.info()"
   ]
  },
  {
   "cell_type": "markdown",
   "metadata": {},
   "source": [
    "осталось 249 игр, \n",
    "оценки приведем к числовому формату:"
   ]
  },
  {
   "cell_type": "code",
   "execution_count": 44,
   "metadata": {},
   "outputs": [],
   "source": [
    "ps4_data['critic_score'] = ps4_data['critic_score'].astype('float64')\n",
    "ps4_data['user_score'] = ps4_data['user_score'].astype('float64')"
   ]
  },
  {
   "cell_type": "code",
   "execution_count": 45,
   "metadata": {},
   "outputs": [
    {
     "data": {
      "text/plain": [
       "year_of_release   -0.234400\n",
       "na_sales           0.893807\n",
       "eu_sales           0.951656\n",
       "jp_sales           0.592214\n",
       "other_sales        0.997798\n",
       "critic_score       0.405895\n",
       "user_score        -0.033625\n",
       "summary_sales      1.000000\n",
       "Name: summary_sales, dtype: float64"
      ]
     },
     "execution_count": 45,
     "metadata": {},
     "output_type": "execute_result"
    }
   ],
   "source": [
    "ps4_data.corr()['summary_sales']"
   ]
  },
  {
   "cell_type": "markdown",
   "metadata": {},
   "source": [
    "Наблюдаем корреляцию продаж и оценок критиков на уровне 0.4, корреляции оценок пользователей и продаж не обнаружено.\n",
    "Построим диаграммы рассеяния:"
   ]
  },
  {
   "cell_type": "code",
   "execution_count": 46,
   "metadata": {},
   "outputs": [
    {
     "data": {
      "text/plain": [
       "Text(0.5, 1.0, 'Зависимость продаж от оценки критиков')"
      ]
     },
     "execution_count": 46,
     "metadata": {},
     "output_type": "execute_result"
    },
    {
     "data": {
      "image/png": "[encoded data removed]",
      "text/plain": [
       "<Figure size 432x288 with 1 Axes>"
      ]
     },
     "metadata": {},
     "output_type": "display_data"
    }
   ],
   "source": [
    "g = sns.scatterplot(data=ps4_data, x=\"summary_sales\", y=\"critic_score\")\n",
    "\n",
    "plt.title('Зависимость продаж от оценки критиков')"
   ]
  },
  {
   "cell_type": "markdown",
   "metadata": {},
   "source": [
    "Видно положительную зависимость, причем чем больше у игры продаж, тем выше оценка критиков (например, если у игры суммарные продажи больше 2 миллионов, то оценки критиков не падают ниже 70). \n",
    "\n",
    "Рецензенты обычно имеют возможность поиграть в игру раньше чем обычные пользователи, таким образом на релизе оценка критиков значительно влияет на решение о покупке."
   ]
  },
  {
   "cell_type": "code",
   "execution_count": 47,
   "metadata": {},
   "outputs": [
    {
     "data": {
      "text/plain": [
       "Text(0.5, 1.0, 'Зависимость продаж от пользовательской оценки')"
      ]
     },
     "execution_count": 47,
     "metadata": {},
     "output_type": "execute_result"
    },
    {
     "data": {
      "image/png": "[encoded data removed]",
      "text/plain": [
       "<Figure size 432x288 with 1 Axes>"
      ]
     },
     "metadata": {},
     "output_type": "display_data"
    }
   ],
   "source": [
    "g = sns.scatterplot(data=ps4_data, x=\"summary_sales\", y=\"user_score\")\n",
    "\n",
    "plt.title('Зависимость продаж от пользовательской оценки')"
   ]
  },
  {
   "cell_type": "markdown",
   "metadata": {},
   "source": [
    "Здесь какой-либо связи не просматривается. Видим что большая часть игр и оценок смещена к оценкам 6-8 и продажам около 0.\n",
    "\n",
    "Скорее всего это объясняется тем, что в основном игры покупаются на релизе и решение о покупке делается до того как игре вынесена оценка."
   ]
  },
  {
   "cell_type": "markdown",
   "metadata": {},
   "source": [
    "### Соотнесение выводов с продажами игр на других платформах."
   ]
  },
  {
   "cell_type": "markdown",
   "metadata": {},
   "source": [
    "Взглянем на распределение по всем платформам:"
   ]
  },
  {
   "cell_type": "code",
   "execution_count": 48,
   "metadata": {},
   "outputs": [
    {
     "data": {
      "text/plain": [
       "year_of_release   -0.135866\n",
       "na_sales           0.910940\n",
       "eu_sales           0.933210\n",
       "jp_sales           0.379603\n",
       "other_sales        0.944049\n",
       "critic_score       0.311692\n",
       "user_score        -0.004064\n",
       "summary_sales      1.000000\n",
       "Name: summary_sales, dtype: float64"
      ]
     },
     "execution_count": 48,
     "metadata": {},
     "output_type": "execute_result"
    }
   ],
   "source": [
    "#подготовим таблицы\n",
    "scored_data = data.query('(user_score != \"unrated\") and (critic_score != \"unrated\")')\n",
    "scored_data['critic_score'] = scored_data['critic_score'].astype('float64')\n",
    "scored_data['user_score'] = scored_data['user_score'].astype('float64')\n",
    "scored_data.corr()['summary_sales']"
   ]
  },
  {
   "cell_type": "code",
   "execution_count": 49,
   "metadata": {},
   "outputs": [
    {
     "data": {
      "text/plain": [
       "Text(0.5, 1.0, 'Зависимость продаж от оценки критиков')"
      ]
     },
     "execution_count": 49,
     "metadata": {},
     "output_type": "execute_result"
    },
    {
     "data": {
      "image/png": "[encoded data removed]",
      "text/plain": [
       "<Figure size 432x288 with 1 Axes>"
      ]
     },
     "metadata": {},
     "output_type": "display_data"
    }
   ],
   "source": [
    "g = sns.scatterplot(data=scored_data, x=\"summary_sales\", y=\"critic_score\")\n",
    "\n",
    "plt.title('Зависимость продаж от оценки критиков')"
   ]
  },
  {
   "cell_type": "code",
   "execution_count": 50,
   "metadata": {},
   "outputs": [
    {
     "data": {
      "text/plain": [
       "Text(0.5, 1.0, 'Зависимость продаж от пользовательской оценки')"
      ]
     },
     "execution_count": 50,
     "metadata": {},
     "output_type": "execute_result"
    },
    {
     "data": {
      "image/png": "[encoded data removed]",
      "text/plain": [
       "<Figure size 432x288 with 1 Axes>"
      ]
     },
     "metadata": {},
     "output_type": "display_data"
    }
   ],
   "source": [
    "g = sns.scatterplot(data=scored_data, x=\"summary_sales\", y=\"user_score\")\n",
    "\n",
    "plt.title('Зависимость продаж от пользовательской оценки')"
   ]
  },
  {
   "cell_type": "markdown",
   "metadata": {},
   "source": [
    "Для всех оцененных игр взятых вместе ситуация схожая – есть зависимость для оценок критиков, а для оценок игроков зависимости с продажами нет."
   ]
  },
  {
   "cell_type": "markdown",
   "metadata": {},
   "source": [
    "### Общее распределение игр по жанрам. "
   ]
  },
  {
   "cell_type": "code",
   "execution_count": 51,
   "metadata": {},
   "outputs": [
    {
     "data": {
      "text/plain": [
       "Text(0.5, 0.98, 'Продажи по жанрам')"
      ]
     },
     "execution_count": 51,
     "metadata": {},
     "output_type": "execute_result"
    },
    {
     "data": {
      "image/png": "[encoded data removed]",
      "text/plain": [
       "<Figure size 864x432 with 1 Axes>"
      ]
     },
     "metadata": {},
     "output_type": "display_data"
    }
   ],
   "source": [
    "g = sns.catplot(x=\"genre\", \n",
    "                y=\"summary_sales\", \n",
    "                kind=\"boxen\",\n",
    "                data=data,\n",
    "                height= 6,          \n",
    "                aspect= 2)\n",
    "\n",
    "g.set(ylim=(0, 10))\n",
    "g.fig.suptitle('Продажи по жанрам')"
   ]
  },
  {
   "cell_type": "markdown",
   "metadata": {},
   "source": [
    "Самые прибыльные жанры: Shooter, Sports и Platform.  \n",
    "Жанр Action имеет в среднем не очень большие продажи, однако имеет самые продаваемые игры по выборке (одна из них достигает более 20 млн. проданных копий). ## можно убрать ylim и увидеть график полностью\n",
    "\n",
    "Продажи жанров Strategy, Adventure и Puzzle, как видим, не превышают 2 млн. проданных копий.  "
   ]
  },
  {
   "cell_type": "markdown",
   "metadata": {},
   "source": [
    "### Вывод"
   ]
  },
  {
   "cell_type": "markdown",
   "metadata": {},
   "source": [
    "На данном шаге был проведен исследовательский анализ данных.\n",
    "\n",
    "**3.1.**  Дана оценка количества игр в разные годы.\n",
    "После визуализации данных стало видно, что игры начинают активно выпускаться только с 1993 года, пик количества игр приходится на 2008-2009 год, после чего значения идут на спад. На данном этапе мы обозначили актуальный период выпуска игр как 1993 - 2016 года.\n",
    "\n",
    "**3.2.**  Проведено сравнение продаж по платформам. \n",
    "После того, как мы построили графики для топ 5 платформ по продажам, мы наблюдали что у PS2, PS3, XBOX 360 и DS основной стак игр выходит и активно продается в промежуток около 10 лет, у Wii промежуток оказался меньше - около 6 лет. \n",
    "Также распределения были схожи с нормальным.\n",
    "\n",
    "Таким образом было установлено, что характерный срок за который появляются новые и исчезают старые платформы – 10 лет.\n",
    "\n",
    "**3.3.**  Был выбран актуальный период для построения прогноза на 2017 год.\n",
    "Поскольку дальнейший анализ будет в основном фокусироваться на анализе платформ, а также из-за того, что для предсказания будущего спроса лучше всего использовать \"живые\" платформы, мы выбрали период в последние 10 лет: данные за 2006 - 2016 год.\n",
    "\n",
    "Если во время дальнейшего анализа нам будет нехватать данных по какому-либо признаку, можно будет рассмотреть более продолжительный период.\n",
    "\n",
    "**3.4.**  Отобраны потенциально прибыльные платформы.  \n",
    "После построения графика для всех платформ стало видно, что мы взяли слишком большой промежуток для анализа – мы охватывали платформы, которые имели большой успех в 2006 - 2010, однако сейчас непопулярны. \n",
    "Поэтому мы установили более жесткий фильтр: 2013 - 2016г.\n",
    "\n",
    "После анализ данных мы выявили, что у платформы **PS4** самые большие продажи за выбранный период, к тому же мы выяснили что они растут. К растущим платформам мы также отнесли **Xbox One**, которая занимает 3 место по объему продаж. Это две потенциально самые прибыльные платформы в 2017 году.\n",
    "\n",
    "**PS3 и Xbox 360** – предыдущие версии платформ, занимают 2 и 4 место соответственно, однако у них продажи стремительно падают.\n",
    "\n",
    "Также выделим **Nintendo 3DS, ПК и PS Vita**. Несмотря на то, что продажи у них падают, падение не такое стремительное и от них можно ожидать определенного уровня продаж в следующем году.\n",
    "\n",
    "**WiiU** на 6 месте по объему продаж, является самой рискованной для того чтобы вкладываться в её реализацию и рекламную кампанию: видим резкое падение её продаж в 2016 году по сравнению с поведением остальных платформ.\n",
    "\n",
    "Продажи оставшихся платформ – Wii, PSP и DS уже совсем сошли или сходят на нет.\n",
    "\n",
    "**3.5.** Построили диаграмму размаха по глобальным продажам игр в разбивке по платформам.\n",
    "\n",
    "Диаграмма размаха отображала объемы продаж и в визуализировала результаты из предыдущего пункта анализа.\n",
    "\n",
    "Мы обратили внимание на интересное распределение продаж у платформы Wii – относительно широкий ящик говорит о большой диспресии продаж игр.\n",
    "Также отметили распределения PSVita, и в некоторой степени 3DS и PC. На платформы выходят игры в основном с одинаковыми продажами, что говорит о стабильности платформы. (PSP также стабильно, однако объемы продаж очень маленькие)\n",
    "\n",
    "**3.6.**  Оценили влияние отзывов пользователей и критиков на продажи внутри платформы PS4.\n",
    "\n",
    "Была найдена положительная корреляция продаж и оценок критиков на уровне 0.4, причем чем больше у игры продаж, тем выше оценка критиков (например, если у игры суммарные продажи больше 2 миллионов, то оценки критиков не падают ниже 70).\n",
    "Рецензенты обычно имеют возможность поиграть в игру раньше чем обычные пользователи, таким образом на релизе оценка критиков значительно влияет на решение о покупке.\n",
    "\n",
    "Корреляции оценок пользователей и продаж не обнаружено. Большая часть игр и оценок смещена к оценкам 6-8 и продажам около 0.\n",
    "Скорее всего это объясняется тем, что в основном игры покупаются на релизе и решение о покупке делается до того как игре вынесена пользовательская оценка.\n",
    "\n",
    "**3.7.**  Соотнесли выводы с продажами игр на других платформах.\n",
    "\n",
    "После анализа распределения продаж по всем платформам мы выявили, что для всех игр взятых вместе ситуация схожая – есть зависимость для оценок критиков, а для оценок игроков зависимости с продажами нет.\n",
    "\n",
    "**3.8.**  Рассмотрели общее распределение игр по жанрам.\n",
    "\n",
    "Самые прибыльные жанры: Shooter, Sports и Platform.\n",
    "Жанр Action имеет в среднем не очень большие продажи, однако имеет самые продаваемые игры по выборке (одна из них достигает более 20 млн. проданных копий). \n",
    "\n",
    "Продажи жанров Strategy, Adventure и Puzzle, как оказалось, не превышают 2 млн. проданных копий за выбранный период."
   ]
  },
  {
   "cell_type": "markdown",
   "metadata": {},
   "source": [
    "## 4. Составление портрета пользователя каждого региона<a id='step4'></a>"
   ]
  },
  {
   "cell_type": "code",
   "execution_count": 52,
   "metadata": {},
   "outputs": [
    {
     "data": {
      "text/html": [
       "<div>\n",
       "<style scoped>\n",
       "    .dataframe tbody tr th:only-of-type {\n",
       "        vertical-align: middle;\n",
       "    }\n",
       "\n",
       "    .dataframe tbody tr th {\n",
       "        vertical-align: top;\n",
       "    }\n",
       "\n",
       "    .dataframe thead th {\n",
       "        text-align: right;\n",
       "    }\n",
       "</style>\n",
       "<table border=\"1\" class=\"dataframe\">\n",
       "  <thead>\n",
       "    <tr style=\"text-align: right;\">\n",
       "      <th></th>\n",
       "      <th>name</th>\n",
       "      <th>platform</th>\n",
       "      <th>year_of_release</th>\n",
       "      <th>genre</th>\n",
       "      <th>na_sales</th>\n",
       "      <th>eu_sales</th>\n",
       "      <th>jp_sales</th>\n",
       "      <th>other_sales</th>\n",
       "      <th>critic_score</th>\n",
       "      <th>user_score</th>\n",
       "      <th>rating</th>\n",
       "      <th>summary_sales</th>\n",
       "    </tr>\n",
       "  </thead>\n",
       "  <tbody>\n",
       "    <tr>\n",
       "      <td>16</td>\n",
       "      <td>Grand Theft Auto V</td>\n",
       "      <td>PS3</td>\n",
       "      <td>2013</td>\n",
       "      <td>Action</td>\n",
       "      <td>7.02</td>\n",
       "      <td>9.09</td>\n",
       "      <td>0.98</td>\n",
       "      <td>3.96</td>\n",
       "      <td>97</td>\n",
       "      <td>8.2</td>\n",
       "      <td>M</td>\n",
       "      <td>21.05</td>\n",
       "    </tr>\n",
       "    <tr>\n",
       "      <td>23</td>\n",
       "      <td>Grand Theft Auto V</td>\n",
       "      <td>X360</td>\n",
       "      <td>2013</td>\n",
       "      <td>Action</td>\n",
       "      <td>9.66</td>\n",
       "      <td>5.14</td>\n",
       "      <td>0.06</td>\n",
       "      <td>1.41</td>\n",
       "      <td>97</td>\n",
       "      <td>8.1</td>\n",
       "      <td>M</td>\n",
       "      <td>16.27</td>\n",
       "    </tr>\n",
       "    <tr>\n",
       "      <td>31</td>\n",
       "      <td>Call of Duty: Black Ops 3</td>\n",
       "      <td>PS4</td>\n",
       "      <td>2015</td>\n",
       "      <td>Shooter</td>\n",
       "      <td>6.03</td>\n",
       "      <td>5.86</td>\n",
       "      <td>0.36</td>\n",
       "      <td>2.38</td>\n",
       "      <td>unrated</td>\n",
       "      <td>unrated</td>\n",
       "      <td>unrated</td>\n",
       "      <td>14.63</td>\n",
       "    </tr>\n",
       "  </tbody>\n",
       "</table>\n",
       "</div>"
      ],
      "text/plain": [
       "                         name platform  year_of_release    genre  na_sales  \\\n",
       "16         Grand Theft Auto V      PS3             2013   Action      7.02   \n",
       "23         Grand Theft Auto V     X360             2013   Action      9.66   \n",
       "31  Call of Duty: Black Ops 3      PS4             2015  Shooter      6.03   \n",
       "\n",
       "    eu_sales  jp_sales  other_sales critic_score user_score   rating  \\\n",
       "16      9.09      0.98         3.96           97        8.2        M   \n",
       "23      5.14      0.06         1.41           97        8.1        M   \n",
       "31      5.86      0.36         2.38      unrated    unrated  unrated   \n",
       "\n",
       "    summary_sales  \n",
       "16          21.05  \n",
       "23          16.27  \n",
       "31          14.63  "
      ]
     },
     "execution_count": 52,
     "metadata": {},
     "output_type": "execute_result"
    }
   ],
   "source": [
    "data.head(3)"
   ]
  },
  {
   "cell_type": "markdown",
   "metadata": {},
   "source": [
    "### Самые популярные платформы (топ-5)"
   ]
  },
  {
   "cell_type": "markdown",
   "metadata": {},
   "source": [
    "**NA**"
   ]
  },
  {
   "cell_type": "code",
   "execution_count": 53,
   "metadata": {},
   "outputs": [
    {
     "data": {
      "text/html": [
       "<div>\n",
       "<style scoped>\n",
       "    .dataframe tbody tr th:only-of-type {\n",
       "        vertical-align: middle;\n",
       "    }\n",
       "\n",
       "    .dataframe tbody tr th {\n",
       "        vertical-align: top;\n",
       "    }\n",
       "\n",
       "    .dataframe thead th {\n",
       "        text-align: right;\n",
       "    }\n",
       "</style>\n",
       "<table border=\"1\" class=\"dataframe\">\n",
       "  <thead>\n",
       "    <tr style=\"text-align: right;\">\n",
       "      <th></th>\n",
       "      <th>na_sales</th>\n",
       "    </tr>\n",
       "    <tr>\n",
       "      <th>platform</th>\n",
       "      <th></th>\n",
       "    </tr>\n",
       "  </thead>\n",
       "  <tbody>\n",
       "    <tr>\n",
       "      <td>PS4</td>\n",
       "      <td>108.74</td>\n",
       "    </tr>\n",
       "    <tr>\n",
       "      <td>XOne</td>\n",
       "      <td>93.12</td>\n",
       "    </tr>\n",
       "    <tr>\n",
       "      <td>X360</td>\n",
       "      <td>81.66</td>\n",
       "    </tr>\n",
       "    <tr>\n",
       "      <td>PS3</td>\n",
       "      <td>63.50</td>\n",
       "    </tr>\n",
       "    <tr>\n",
       "      <td>3DS</td>\n",
       "      <td>38.20</td>\n",
       "    </tr>\n",
       "  </tbody>\n",
       "</table>\n",
       "</div>"
      ],
      "text/plain": [
       "          na_sales\n",
       "platform          \n",
       "PS4         108.74\n",
       "XOne         93.12\n",
       "X360         81.66\n",
       "PS3          63.50\n",
       "3DS          38.20"
      ]
     },
     "execution_count": 53,
     "metadata": {},
     "output_type": "execute_result"
    }
   ],
   "source": [
    "(data\n",
    "    .pivot_table(index='platform', values='na_sales', aggfunc='sum')\n",
    "    .sort_values(by='na_sales', ascending=False)\n",
    "    .head()\n",
    ")"
   ]
  },
  {
   "cell_type": "markdown",
   "metadata": {},
   "source": [
    "В Северной Америке самые высокие позиции с небольшим отрывом друг от друга занимают консоли последнего поколения PS4 и Xbox One (108 и 93 млн.).   \n",
    "Nintendo 3DS находится на последней позиции с 38 млн проданных копий."
   ]
  },
  {
   "cell_type": "markdown",
   "metadata": {},
   "source": [
    "**EU**"
   ]
  },
  {
   "cell_type": "code",
   "execution_count": 54,
   "metadata": {},
   "outputs": [
    {
     "data": {
      "text/html": [
       "<div>\n",
       "<style scoped>\n",
       "    .dataframe tbody tr th:only-of-type {\n",
       "        vertical-align: middle;\n",
       "    }\n",
       "\n",
       "    .dataframe tbody tr th {\n",
       "        vertical-align: top;\n",
       "    }\n",
       "\n",
       "    .dataframe thead th {\n",
       "        text-align: right;\n",
       "    }\n",
       "</style>\n",
       "<table border=\"1\" class=\"dataframe\">\n",
       "  <thead>\n",
       "    <tr style=\"text-align: right;\">\n",
       "      <th></th>\n",
       "      <th>eu_sales</th>\n",
       "    </tr>\n",
       "    <tr>\n",
       "      <th>platform</th>\n",
       "      <th></th>\n",
       "    </tr>\n",
       "  </thead>\n",
       "  <tbody>\n",
       "    <tr>\n",
       "      <td>PS4</td>\n",
       "      <td>141.09</td>\n",
       "    </tr>\n",
       "    <tr>\n",
       "      <td>PS3</td>\n",
       "      <td>67.81</td>\n",
       "    </tr>\n",
       "    <tr>\n",
       "      <td>XOne</td>\n",
       "      <td>51.59</td>\n",
       "    </tr>\n",
       "    <tr>\n",
       "      <td>X360</td>\n",
       "      <td>42.52</td>\n",
       "    </tr>\n",
       "    <tr>\n",
       "      <td>3DS</td>\n",
       "      <td>30.96</td>\n",
       "    </tr>\n",
       "  </tbody>\n",
       "</table>\n",
       "</div>"
      ],
      "text/plain": [
       "          eu_sales\n",
       "platform          \n",
       "PS4         141.09\n",
       "PS3          67.81\n",
       "XOne         51.59\n",
       "X360         42.52\n",
       "3DS          30.96"
      ]
     },
     "execution_count": 54,
     "metadata": {},
     "output_type": "execute_result"
    }
   ],
   "source": [
    "(data\n",
    "    .pivot_table(index='platform', values='eu_sales', aggfunc='sum')\n",
    "    .sort_values(by='eu_sales', ascending=False)\n",
    "    .head()\n",
    ")"
   ]
  },
  {
   "cell_type": "markdown",
   "metadata": {},
   "source": [
    "В Европе с большим отрывом лидирует PS4 с 141 млн проданных игр. На втором месте PS3, и только после нее идут консоли Xbox.\n",
    "\n",
    "Nintendo 3DS опять закрывает топ 5. "
   ]
  },
  {
   "cell_type": "markdown",
   "metadata": {},
   "source": [
    "**JP**"
   ]
  },
  {
   "cell_type": "code",
   "execution_count": 55,
   "metadata": {},
   "outputs": [
    {
     "data": {
      "text/html": [
       "<div>\n",
       "<style scoped>\n",
       "    .dataframe tbody tr th:only-of-type {\n",
       "        vertical-align: middle;\n",
       "    }\n",
       "\n",
       "    .dataframe tbody tr th {\n",
       "        vertical-align: top;\n",
       "    }\n",
       "\n",
       "    .dataframe thead th {\n",
       "        text-align: right;\n",
       "    }\n",
       "</style>\n",
       "<table border=\"1\" class=\"dataframe\">\n",
       "  <thead>\n",
       "    <tr style=\"text-align: right;\">\n",
       "      <th></th>\n",
       "      <th>jp_sales</th>\n",
       "    </tr>\n",
       "    <tr>\n",
       "      <th>platform</th>\n",
       "      <th></th>\n",
       "    </tr>\n",
       "  </thead>\n",
       "  <tbody>\n",
       "    <tr>\n",
       "      <td>3DS</td>\n",
       "      <td>67.81</td>\n",
       "    </tr>\n",
       "    <tr>\n",
       "      <td>PS3</td>\n",
       "      <td>23.35</td>\n",
       "    </tr>\n",
       "    <tr>\n",
       "      <td>PSV</td>\n",
       "      <td>18.59</td>\n",
       "    </tr>\n",
       "    <tr>\n",
       "      <td>PS4</td>\n",
       "      <td>15.96</td>\n",
       "    </tr>\n",
       "    <tr>\n",
       "      <td>WiiU</td>\n",
       "      <td>10.88</td>\n",
       "    </tr>\n",
       "  </tbody>\n",
       "</table>\n",
       "</div>"
      ],
      "text/plain": [
       "          jp_sales\n",
       "platform          \n",
       "3DS          67.81\n",
       "PS3          23.35\n",
       "PSV          18.59\n",
       "PS4          15.96\n",
       "WiiU         10.88"
      ]
     },
     "execution_count": 55,
     "metadata": {},
     "output_type": "execute_result"
    }
   ],
   "source": [
    "(data\n",
    "    .pivot_table(index='platform', values='jp_sales', aggfunc='sum')\n",
    "    .sort_values(by='jp_sales', ascending=False)\n",
    "    .head()\n",
    ")"
   ]
  },
  {
   "cell_type": "markdown",
   "metadata": {},
   "source": [
    "В Японии же ситуация совершенно другая. Здесь лидируют игры для Нинтендо 3DS c 67 млн проданных игр. На втором месте игры для PS3 – вполне возможно игроки еще не успели обновиться до следующего поколения консоли, которая находится на 4 месте. \n",
    "\n",
    "На 3 и 5 местах теперь расположились ещё 2 портативные консоли – PSVita с 18 млн и WiiU с 10 млн проданных копий."
   ]
  },
  {
   "cell_type": "markdown",
   "metadata": {},
   "source": [
    "Таким образом в целом PS лидирует на всех рынках, но особенно ярко это проявляется в Европе.  \n",
    "В Японии же отдают предпочтение играм для портативных консолей."
   ]
  },
  {
   "cell_type": "markdown",
   "metadata": {},
   "source": [
    "### Самые популярные жанры (топ-5)"
   ]
  },
  {
   "cell_type": "markdown",
   "metadata": {},
   "source": [
    "**NA**"
   ]
  },
  {
   "cell_type": "code",
   "execution_count": 56,
   "metadata": {},
   "outputs": [
    {
     "data": {
      "text/html": [
       "<div>\n",
       "<style scoped>\n",
       "    .dataframe tbody tr th:only-of-type {\n",
       "        vertical-align: middle;\n",
       "    }\n",
       "\n",
       "    .dataframe tbody tr th {\n",
       "        vertical-align: top;\n",
       "    }\n",
       "\n",
       "    .dataframe thead th {\n",
       "        text-align: right;\n",
       "    }\n",
       "</style>\n",
       "<table border=\"1\" class=\"dataframe\">\n",
       "  <thead>\n",
       "    <tr style=\"text-align: right;\">\n",
       "      <th></th>\n",
       "      <th>na_sales</th>\n",
       "    </tr>\n",
       "    <tr>\n",
       "      <th>genre</th>\n",
       "      <th></th>\n",
       "    </tr>\n",
       "  </thead>\n",
       "  <tbody>\n",
       "    <tr>\n",
       "      <td>Action</td>\n",
       "      <td>126.05</td>\n",
       "    </tr>\n",
       "    <tr>\n",
       "      <td>Shooter</td>\n",
       "      <td>109.74</td>\n",
       "    </tr>\n",
       "    <tr>\n",
       "      <td>Sports</td>\n",
       "      <td>65.27</td>\n",
       "    </tr>\n",
       "    <tr>\n",
       "      <td>Role-Playing</td>\n",
       "      <td>46.40</td>\n",
       "    </tr>\n",
       "    <tr>\n",
       "      <td>Misc</td>\n",
       "      <td>27.49</td>\n",
       "    </tr>\n",
       "  </tbody>\n",
       "</table>\n",
       "</div>"
      ],
      "text/plain": [
       "              na_sales\n",
       "genre                 \n",
       "Action          126.05\n",
       "Shooter         109.74\n",
       "Sports           65.27\n",
       "Role-Playing     46.40\n",
       "Misc             27.49"
      ]
     },
     "execution_count": 56,
     "metadata": {},
     "output_type": "execute_result"
    }
   ],
   "source": [
    "(data\n",
    "    .pivot_table(index='genre', values='na_sales', aggfunc='sum')\n",
    "    .sort_values(by='na_sales', ascending=False)\n",
    "    .head()\n",
    ")"
   ]
  },
  {
   "cell_type": "markdown",
   "metadata": {},
   "source": [
    "В Америке больше всего любят жанры Action (126 млн.) и Shooter (109 млн.). "
   ]
  },
  {
   "cell_type": "markdown",
   "metadata": {},
   "source": [
    "**EU**"
   ]
  },
  {
   "cell_type": "code",
   "execution_count": 57,
   "metadata": {},
   "outputs": [
    {
     "data": {
      "text/html": [
       "<div>\n",
       "<style scoped>\n",
       "    .dataframe tbody tr th:only-of-type {\n",
       "        vertical-align: middle;\n",
       "    }\n",
       "\n",
       "    .dataframe tbody tr th {\n",
       "        vertical-align: top;\n",
       "    }\n",
       "\n",
       "    .dataframe thead th {\n",
       "        text-align: right;\n",
       "    }\n",
       "</style>\n",
       "<table border=\"1\" class=\"dataframe\">\n",
       "  <thead>\n",
       "    <tr style=\"text-align: right;\">\n",
       "      <th></th>\n",
       "      <th>eu_sales</th>\n",
       "    </tr>\n",
       "    <tr>\n",
       "      <th>genre</th>\n",
       "      <th></th>\n",
       "    </tr>\n",
       "  </thead>\n",
       "  <tbody>\n",
       "    <tr>\n",
       "      <td>Action</td>\n",
       "      <td>118.13</td>\n",
       "    </tr>\n",
       "    <tr>\n",
       "      <td>Shooter</td>\n",
       "      <td>87.86</td>\n",
       "    </tr>\n",
       "    <tr>\n",
       "      <td>Sports</td>\n",
       "      <td>60.52</td>\n",
       "    </tr>\n",
       "    <tr>\n",
       "      <td>Role-Playing</td>\n",
       "      <td>36.97</td>\n",
       "    </tr>\n",
       "    <tr>\n",
       "      <td>Racing</td>\n",
       "      <td>20.19</td>\n",
       "    </tr>\n",
       "  </tbody>\n",
       "</table>\n",
       "</div>"
      ],
      "text/plain": [
       "              eu_sales\n",
       "genre                 \n",
       "Action          118.13\n",
       "Shooter          87.86\n",
       "Sports           60.52\n",
       "Role-Playing     36.97\n",
       "Racing           20.19"
      ]
     },
     "execution_count": 57,
     "metadata": {},
     "output_type": "execute_result"
    }
   ],
   "source": [
    "(data\n",
    "    .pivot_table(index='genre', values='eu_sales', aggfunc='sum')\n",
    "    .sort_values(by='eu_sales', ascending=False)\n",
    "    .head()\n",
    ")"
   ]
  },
  {
   "cell_type": "markdown",
   "metadata": {},
   "source": [
    "В Европе игроки любят практически те же жанры что и в Северной Америке – топы различаются только последней позицией, где жанр Misc заменился на Racing."
   ]
  },
  {
   "cell_type": "markdown",
   "metadata": {},
   "source": [
    "**JP**"
   ]
  },
  {
   "cell_type": "code",
   "execution_count": 58,
   "metadata": {},
   "outputs": [
    {
     "data": {
      "text/html": [
       "<div>\n",
       "<style scoped>\n",
       "    .dataframe tbody tr th:only-of-type {\n",
       "        vertical-align: middle;\n",
       "    }\n",
       "\n",
       "    .dataframe tbody tr th {\n",
       "        vertical-align: top;\n",
       "    }\n",
       "\n",
       "    .dataframe thead th {\n",
       "        text-align: right;\n",
       "    }\n",
       "</style>\n",
       "<table border=\"1\" class=\"dataframe\">\n",
       "  <thead>\n",
       "    <tr style=\"text-align: right;\">\n",
       "      <th></th>\n",
       "      <th>jp_sales</th>\n",
       "    </tr>\n",
       "    <tr>\n",
       "      <th>genre</th>\n",
       "      <th></th>\n",
       "    </tr>\n",
       "  </thead>\n",
       "  <tbody>\n",
       "    <tr>\n",
       "      <td>Role-Playing</td>\n",
       "      <td>51.04</td>\n",
       "    </tr>\n",
       "    <tr>\n",
       "      <td>Action</td>\n",
       "      <td>40.49</td>\n",
       "    </tr>\n",
       "    <tr>\n",
       "      <td>Misc</td>\n",
       "      <td>9.20</td>\n",
       "    </tr>\n",
       "    <tr>\n",
       "      <td>Fighting</td>\n",
       "      <td>7.65</td>\n",
       "    </tr>\n",
       "    <tr>\n",
       "      <td>Shooter</td>\n",
       "      <td>6.61</td>\n",
       "    </tr>\n",
       "  </tbody>\n",
       "</table>\n",
       "</div>"
      ],
      "text/plain": [
       "              jp_sales\n",
       "genre                 \n",
       "Role-Playing     51.04\n",
       "Action           40.49\n",
       "Misc              9.20\n",
       "Fighting          7.65\n",
       "Shooter           6.61"
      ]
     },
     "execution_count": 58,
     "metadata": {},
     "output_type": "execute_result"
    }
   ],
   "source": [
    "(data\n",
    "    .pivot_table(index='genre', values='jp_sales', aggfunc='sum')\n",
    "    .sort_values(by='jp_sales', ascending=False)\n",
    "    .head()\n",
    ")"
   ]
  },
  {
   "cell_type": "markdown",
   "metadata": {},
   "source": [
    "Япония опять сильно отличается от западных стран: здесь на вершину топа поднимается жанр Role-Playing с 51 млн и жанр Action с 40 млн. на втором месте. Остальные жанры менее популярны: Misc 9.20млн., Fighting 7.65млн., Shooter 6.61млн. –\n",
    "в шутеры на портативной консоли не поиграть."
   ]
  },
  {
   "cell_type": "markdown",
   "metadata": {},
   "source": [
    "### Влияние рейтинга ESRB на продажи в отдельном регионе."
   ]
  },
  {
   "cell_type": "code",
   "execution_count": 59,
   "metadata": {},
   "outputs": [
    {
     "data": {
      "text/plain": [
       "array(['M', 'E', 'T', 'E10+'], dtype=object)"
      ]
     },
     "execution_count": 59,
     "metadata": {},
     "output_type": "execute_result"
    }
   ],
   "source": [
    "#отфильтруем игры без рейтинга\n",
    "rated_games = data.query('rating != \"unrated\"')\n",
    "\n",
    "rated_games['rating'].unique()"
   ]
  },
  {
   "cell_type": "markdown",
   "metadata": {},
   "source": [
    "Всего представлено 4 градации рейтинга ESRB:\n",
    "\n",
    "E («Everyone») — «Для всех»  \n",
    "E10+ («Everyone 10 and older») — «Для всех от 10 лет и старше»  \n",
    "T («Teen») — «Подросткам»  \n",
    "M («Mature») — «Для взрослых»  "
   ]
  },
  {
   "cell_type": "code",
   "execution_count": 60,
   "metadata": {},
   "outputs": [
    {
     "data": {
      "text/html": [
       "<div>\n",
       "<style scoped>\n",
       "    .dataframe tbody tr th:only-of-type {\n",
       "        vertical-align: middle;\n",
       "    }\n",
       "\n",
       "    .dataframe tbody tr th {\n",
       "        vertical-align: top;\n",
       "    }\n",
       "\n",
       "    .dataframe thead th {\n",
       "        text-align: right;\n",
       "    }\n",
       "</style>\n",
       "<table border=\"1\" class=\"dataframe\">\n",
       "  <thead>\n",
       "    <tr style=\"text-align: right;\">\n",
       "      <th></th>\n",
       "      <th>name</th>\n",
       "      <th>platform</th>\n",
       "      <th>year_of_release</th>\n",
       "      <th>genre</th>\n",
       "      <th>na_sales</th>\n",
       "      <th>eu_sales</th>\n",
       "      <th>jp_sales</th>\n",
       "      <th>other_sales</th>\n",
       "      <th>critic_score</th>\n",
       "      <th>user_score</th>\n",
       "      <th>rating</th>\n",
       "      <th>summary_sales</th>\n",
       "    </tr>\n",
       "  </thead>\n",
       "  <tbody>\n",
       "    <tr>\n",
       "      <td>16</td>\n",
       "      <td>Grand Theft Auto V</td>\n",
       "      <td>PS3</td>\n",
       "      <td>2013</td>\n",
       "      <td>Action</td>\n",
       "      <td>7.02</td>\n",
       "      <td>9.09</td>\n",
       "      <td>0.98</td>\n",
       "      <td>3.96</td>\n",
       "      <td>97</td>\n",
       "      <td>8.2</td>\n",
       "      <td>M</td>\n",
       "      <td>21.05</td>\n",
       "    </tr>\n",
       "    <tr>\n",
       "      <td>23</td>\n",
       "      <td>Grand Theft Auto V</td>\n",
       "      <td>X360</td>\n",
       "      <td>2013</td>\n",
       "      <td>Action</td>\n",
       "      <td>9.66</td>\n",
       "      <td>5.14</td>\n",
       "      <td>0.06</td>\n",
       "      <td>1.41</td>\n",
       "      <td>97</td>\n",
       "      <td>8.1</td>\n",
       "      <td>M</td>\n",
       "      <td>16.27</td>\n",
       "    </tr>\n",
       "    <tr>\n",
       "      <td>42</td>\n",
       "      <td>Grand Theft Auto V</td>\n",
       "      <td>PS4</td>\n",
       "      <td>2014</td>\n",
       "      <td>Action</td>\n",
       "      <td>3.96</td>\n",
       "      <td>6.31</td>\n",
       "      <td>0.38</td>\n",
       "      <td>1.97</td>\n",
       "      <td>97</td>\n",
       "      <td>8.3</td>\n",
       "      <td>M</td>\n",
       "      <td>12.62</td>\n",
       "    </tr>\n",
       "  </tbody>\n",
       "</table>\n",
       "</div>"
      ],
      "text/plain": [
       "                  name platform  year_of_release   genre  na_sales  eu_sales  \\\n",
       "16  Grand Theft Auto V      PS3             2013  Action      7.02      9.09   \n",
       "23  Grand Theft Auto V     X360             2013  Action      9.66      5.14   \n",
       "42  Grand Theft Auto V      PS4             2014  Action      3.96      6.31   \n",
       "\n",
       "    jp_sales  other_sales critic_score user_score rating  summary_sales  \n",
       "16      0.98         3.96           97        8.2      M          21.05  \n",
       "23      0.06         1.41           97        8.1      M          16.27  \n",
       "42      0.38         1.97           97        8.3      M          12.62  "
      ]
     },
     "execution_count": 60,
     "metadata": {},
     "output_type": "execute_result"
    }
   ],
   "source": [
    "rated_games.head(3)"
   ]
  },
  {
   "cell_type": "code",
   "execution_count": 61,
   "metadata": {},
   "outputs": [
    {
     "data": {
      "text/html": [
       "<div>\n",
       "<style scoped>\n",
       "    .dataframe tbody tr th:only-of-type {\n",
       "        vertical-align: middle;\n",
       "    }\n",
       "\n",
       "    .dataframe tbody tr th {\n",
       "        vertical-align: top;\n",
       "    }\n",
       "\n",
       "    .dataframe thead th {\n",
       "        text-align: right;\n",
       "    }\n",
       "</style>\n",
       "<table border=\"1\" class=\"dataframe\">\n",
       "  <thead>\n",
       "    <tr style=\"text-align: right;\">\n",
       "      <th></th>\n",
       "      <th>rating</th>\n",
       "      <th>region</th>\n",
       "      <th>region_sales</th>\n",
       "    </tr>\n",
       "  </thead>\n",
       "  <tbody>\n",
       "    <tr>\n",
       "      <td>0</td>\n",
       "      <td>M</td>\n",
       "      <td>na_sales</td>\n",
       "      <td>7.02</td>\n",
       "    </tr>\n",
       "    <tr>\n",
       "      <td>1</td>\n",
       "      <td>M</td>\n",
       "      <td>na_sales</td>\n",
       "      <td>9.66</td>\n",
       "    </tr>\n",
       "    <tr>\n",
       "      <td>2</td>\n",
       "      <td>M</td>\n",
       "      <td>na_sales</td>\n",
       "      <td>3.96</td>\n",
       "    </tr>\n",
       "    <tr>\n",
       "      <td>3</td>\n",
       "      <td>M</td>\n",
       "      <td>na_sales</td>\n",
       "      <td>6.73</td>\n",
       "    </tr>\n",
       "    <tr>\n",
       "      <td>4</td>\n",
       "      <td>M</td>\n",
       "      <td>na_sales</td>\n",
       "      <td>4.10</td>\n",
       "    </tr>\n",
       "  </tbody>\n",
       "</table>\n",
       "</div>"
      ],
      "text/plain": [
       "  rating    region  region_sales\n",
       "0      M  na_sales          7.02\n",
       "1      M  na_sales          9.66\n",
       "2      M  na_sales          3.96\n",
       "3      M  na_sales          6.73\n",
       "4      M  na_sales          4.10"
      ]
     },
     "execution_count": 61,
     "metadata": {},
     "output_type": "execute_result"
    }
   ],
   "source": [
    "#сгруппируем данные для визуализации\n",
    "rated_games = pd.melt(rated_games, id_vars=['rating'], value_vars=['na_sales', 'eu_sales', 'jp_sales'],\n",
    "                         var_name='region', value_name='region_sales')\n",
    "rated_games.head()"
   ]
  },
  {
   "cell_type": "code",
   "execution_count": 62,
   "metadata": {},
   "outputs": [
    {
     "data": {
      "text/plain": [
       "Text(0.5, 1, 'Зависимость продаж в регионе от рейтинга ESRB')"
      ]
     },
     "execution_count": 62,
     "metadata": {},
     "output_type": "execute_result"
    },
    {
     "data": {
      "image/png": "[encoded data removed]",
      "text/plain": [
       "<Figure size 423.25x360 with 1 Axes>"
      ]
     },
     "metadata": {},
     "output_type": "display_data"
    }
   ],
   "source": [
    "g = sns.catplot(x=\"region\", \n",
    "                y=\"region_sales\", \n",
    "                hue='rating', \n",
    "                data=rated_games, \n",
    "                kind='bar'\n",
    "               )\n",
    "\n",
    "plt.title('Зависимость продаж в регионе от рейтинга ESRB')"
   ]
  },
  {
   "cell_type": "markdown",
   "metadata": {},
   "source": [
    "После группировки и визуализации данных становится видно, что NA и EU регионы по влиянию рейтинга ESRB очень похожи между собой – идентичные распределения, только у EU меньше продаж в целом. И в NA и в EU самые продающиеся игры имеют рейтинг M («Mature»).\n",
    "Далее идут игры для всех, на третьем месте по продажам игры 10+, а на последнем – игры для подростков. \n",
    "Вероятно, такая картина связана с тем, что во-первых платящая аудитория это взрослые (для них делаются игры М), которые могут покупать игры и для своих детей (с рейтингом E). Во-вторых подростковая аудитория слишком мала по объему чтобы выпускать под неё большие проекты.\n",
    "\n",
    "Перейдем к продажам в Японском секторе. Здесь ситуация совершенно иная – лидируют игры для подростков и для людей всех возрастов.\n",
    "Это можно попробовать объяснить политикой государства по отношению к \"mature content\", а также популярностью портативных консолей, на которые в основном выходят игры только определенных жанров. "
   ]
  },
  {
   "cell_type": "markdown",
   "metadata": {},
   "source": [
    "### Вывод"
   ]
  },
  {
   "cell_type": "markdown",
   "metadata": {},
   "source": [
    "На данном этапе анлиза мы пытались составить портрет пользователя каждого региона.\n",
    "\n",
    "\n",
    "**4.1**  Самые популярные платформы (топ-5)\n",
    "- NA: В Северной Америке самые высокие позиции с небольшим отрывом друг от друга занимают консоли последнего поколения PS4 и Xbox One (108 и 93 млн.). Nintendo 3DS находится на последней позиции с 38 млн проданных копий.\n",
    "- EU: В Европе с большим отрывом лидирует PS4 с 141 млн проданных игр. На втором месте PS3, и только после нее идут консоли Xbox.\n",
    "Nintendo 3DS опять закрывает топ 5.\n",
    "- JP: В Японии же ситуация совершенно другая. Здесь лидируют игры для Нинтендо 3DS c 67 млн проданных игр. На втором месте игры для PS3 – вполне возможно игроки еще не успели обновиться до следующего поколения консоли, которая находится на 4 месте. На 3 и 5 местах теперь расположились ещё 2 портативные консоли – PSVita с 18 млн и WiiU с 10 млн проданных копий.\n",
    "\n",
    "В целом PS лидирует на всех рынках, но особенно ярко это проявляется в Европе. В Японии же отдают предпочтение играм для портативных консолей.\n",
    "\n",
    "\n",
    "**4.2**  Самые популярные жанры (топ-5)\n",
    "- NA: В Америке больше всего любят жанры Action (126 млн.) и Shooter (109 млн.). \n",
    "- EU: В Европе игроки любят практически те же жанры что и в Северной Америке – топы различаются только последней позицией, где жанр Misc заменился на Racing.\n",
    "- JP: Япония опять сильно отличается от западных стран. Здесь на вершину топа поднимается жанр Role-Playing с 51 млн и жанр Action с 40 млн. на втором месте. Остальные жанры менее популярны: Misc 9.20млн., Fighting 7.65млн., Shooter 6.61млн.\n",
    "\n",
    "**4.3**  Влияние рейтинга ESRB на продажи в отдельном регионе.\n",
    "\n",
    "Всего было представлено 4 градации рейтинга ESRB:\n",
    "\n",
    "• E («Everyone») — «Для всех»  \n",
    "• E10+ («Everyone 10 and older») — «Для всех от 10 лет и старше»  \n",
    "• T («Teen») — «Подросткам»  \n",
    "• M («Mature») — «Для взрослых»\n",
    "\n",
    "После группировки и визуализации данных стало видно, что NA и EU регионы по влиянию рейтинга ESRB очень похожи между собой – идентичные распределения, только у EU меньше продаж в целом. И в NA и в EU самые продающиеся игры имеют рейтинг M («Mature»). Далее идут игры для всех, на третьем месте по продажам игры 10+, а на последнем – игры для подростков. Вероятно, такая картина связана с тем, что во-первых платящая аудитория это взрослые (для них делаются игры М), которые могут покупать игры и для своих детей (с рейтингом E). Во-вторых подростковая аудитория слишком мала по объему чтобы выпускать под неё большие проекты.\n",
    "\n",
    "Перейдем к продажам в Японском секторе. Здесь ситуация совершенно иная – лидируют игры для подростков и для людей всех возрастов. Это можно попробовать объяснить политикой государства по отношению к \"mature content\", а также популярностью портативных консолей, на которые в основном выходят игры только определенных жанров."
   ]
  },
  {
   "cell_type": "code",
   "execution_count": 63,
   "metadata": {},
   "outputs": [],
   "source": [
    "#ячейка для работы с состоянием\n",
    "#dill.dump_session('4th_project_env.db')\n",
    "#dill.load_session('4th_project_env.db')"
   ]
  },
  {
   "cell_type": "markdown",
   "metadata": {},
   "source": [
    "## 5. Проверка гипотез<a id='step5'></a>"
   ]
  },
  {
   "cell_type": "markdown",
   "metadata": {},
   "source": [
    "### Средние пользовательские рейтинги платформ Xbox One и PC одинаковые"
   ]
  },
  {
   "cell_type": "markdown",
   "metadata": {},
   "source": [
    "Сформируем нулевую \\\\(H_0\\\\) и альтернативную гипотезу \\\\(H_1\\\\):\n",
    "\n",
    "\\\\(H_0\\\\): Средние пользовательские рейтинги платформ Xbox One и PC равны.\n",
    "\n",
    "\\\\(H_1\\\\): Средние пользовательские рейтинги платформ Xbox One и PC различаются."
   ]
  },
  {
   "cell_type": "code",
   "execution_count": 64,
   "metadata": {},
   "outputs": [
    {
     "name": "stdout",
     "output_type": "stream",
     "text": [
      "<class 'pandas.core.frame.DataFrame'>\n",
      "Int64Index: 1192 entries, 16 to 16692\n",
      "Data columns (total 12 columns):\n",
      "name               1192 non-null object\n",
      "platform           1192 non-null object\n",
      "year_of_release    1192 non-null int64\n",
      "genre              1192 non-null object\n",
      "na_sales           1192 non-null float64\n",
      "eu_sales           1192 non-null float64\n",
      "jp_sales           1192 non-null float64\n",
      "other_sales        1192 non-null float64\n",
      "critic_score       1192 non-null object\n",
      "user_score         1192 non-null float64\n",
      "rating             1192 non-null object\n",
      "summary_sales      1192 non-null float64\n",
      "dtypes: float64(6), int64(1), object(5)\n",
      "memory usage: 121.1+ KB\n"
     ]
    }
   ],
   "source": [
    "user_rated_games = data.query('user_score != \"unrated\"')\n",
    "\n",
    "user_rated_games['user_score'] = user_rated_games['user_score'].astype('float64')\n",
    "user_rated_games.info()"
   ]
  },
  {
   "cell_type": "markdown",
   "metadata": {},
   "source": [
    "#### Выбор метода"
   ]
  },
  {
   "cell_type": "markdown",
   "metadata": {},
   "source": [
    "Проверим распределение признаков в каждой выборке"
   ]
  },
  {
   "cell_type": "code",
   "execution_count": 65,
   "metadata": {},
   "outputs": [],
   "source": [
    "#выберем нужные платформы\n",
    "user_r_pc_xbox = user_rated_games.query('(platform == \"XOne\") or (platform == \"PC\")')"
   ]
  },
  {
   "cell_type": "code",
   "execution_count": 66,
   "metadata": {},
   "outputs": [
    {
     "data": {
      "text/plain": [
       "Text(0.5, 1, 'Нормализованные пользовательские оценки XOne и PC')"
      ]
     },
     "execution_count": 66,
     "metadata": {},
     "output_type": "execute_result"
    },
    {
     "data": {
      "image/png": "[encoded data removed]",
      "text/plain": [
       "<Figure size 423.125x360 with 1 Axes>"
      ]
     },
     "metadata": {},
     "output_type": "display_data"
    }
   ],
   "source": [
    "#построем нормализованные гистограммы\n",
    "g = sns.displot(user_r_pc_xbox, \n",
    "                x=\"user_score\",  \n",
    "                hue=\"platform\",\n",
    "                stat=\"density\", \n",
    "                element=\"step\", \n",
    "                common_norm=False \n",
    "               )\n",
    "\n",
    "plt.title('Нормализованные пользовательские оценки XOne и PC')"
   ]
  },
  {
   "cell_type": "markdown",
   "metadata": {},
   "source": [
    "Распределения похожи на нормальные, со смещением вправо. \n",
    "\n",
    "Для того, чтобы сравнить средние двух генеральных совокупностей будем использовать Т-критерией Стьюдента.\n",
    "\n",
    "Посчитаем среднее и дисперсию:"
   ]
  },
  {
   "cell_type": "markdown",
   "metadata": {},
   "source": [
    "**PC**"
   ]
  },
  {
   "cell_type": "code",
   "execution_count": 67,
   "metadata": {},
   "outputs": [
    {
     "name": "stdout",
     "output_type": "stream",
     "text": [
      "Среднее:  6.2696774193548395\n",
      "Дисперсия:  3.0358927524088815\n"
     ]
    }
   ],
   "source": [
    "print('Среднее: ', user_rated_games.query('platform == \"PC\"')['user_score'].mean())\n",
    "print('Дисперсия: ', user_rated_games.query('platform == \"PC\"')['user_score'].std() **2)"
   ]
  },
  {
   "cell_type": "markdown",
   "metadata": {},
   "source": [
    "**XOne**"
   ]
  },
  {
   "cell_type": "code",
   "execution_count": 68,
   "metadata": {},
   "outputs": [
    {
     "name": "stdout",
     "output_type": "stream",
     "text": [
      "Среднее:  6.521428571428572\n",
      "Дисперсия:  1.9069968429360693\n"
     ]
    }
   ],
   "source": [
    "print('Среднее: ', user_rated_games.query('platform == \"XOne\"')['user_score'].mean())\n",
    "print('Дисперсия: ', user_rated_games.query('platform == \"XOne\"')['user_score'].std() **2)"
   ]
  },
  {
   "cell_type": "markdown",
   "metadata": {},
   "source": [
    "#### Применение Т-критерия Стьюдента\n",
    "Чтобы проверить гипотезу о равенстве среднего двух генеральных совокупностей по взятым из них выборкам, будем применять метод scipy.stats.ttest_ind(array1, array2, equal_var).\n",
    "\n",
    "equal_var — параметр, задающий считать ли равными дисперсии выборок, установим как `False`, поскольку дисперсии не равны."
   ]
  },
  {
   "cell_type": "code",
   "execution_count": 69,
   "metadata": {},
   "outputs": [
    {
     "name": "stdout",
     "output_type": "stream",
     "text": [
      "p-значение: 0.14759594013430463\n",
      "Не получилось отвергнуть нулевую гипотезу\n"
     ]
    }
   ],
   "source": [
    "sample_1 = user_rated_games.query('platform == \"XOne\"')['user_score']\n",
    "sample_2 = user_rated_games.query('platform == \"PC\"')['user_score']\n",
    "\n",
    "alpha = .05 # критический уровень статистической значимости\n",
    "            # если p-value окажется меньше него - отвергнем гипотезу\n",
    "\n",
    "results = st.ttest_ind(\n",
    "    sample_1, \n",
    "    sample_2, \n",
    "    equal_var = False\n",
    ")\n",
    "\n",
    "print('p-значение:', results.pvalue)\n",
    "\n",
    "if (results.pvalue < alpha):\n",
    "    print(\"Отвергаем нулевую гипотезу\")\n",
    "else:\n",
    "    print(\"Не получилось отвергнуть нулевую гипотезу\") "
   ]
  },
  {
   "cell_type": "markdown",
   "metadata": {},
   "source": [
    "Согласно т-тесту отвергнуть нулевую гипотезу не удалось.\n",
    "\n",
    "Таким образом остается принятой гипотеза:\n",
    "\\\\(H_0\\\\): Средние пользовательские рейтинги платформ Xbox One и PC равны.\n",
    "\n",
    "Обычно содержание игр гораздо больше зависит от того, что туда закладывают разработчики, чем от платформы на которой вышла эта игра."
   ]
  },
  {
   "cell_type": "markdown",
   "metadata": {},
   "source": [
    "### Средние пользовательские рейтинги жанров Action (англ. «действие», экшен-игры) и Sports (англ. «спортивные соревнования») разные"
   ]
  },
  {
   "cell_type": "markdown",
   "metadata": {},
   "source": [
    "Сформируем нулевую \\\\(H_0\\\\) и альтернативную гипотезу \\\\(H_1\\\\):\n",
    "\n",
    "\\\\(H_0\\\\): Средние пользовательские рейтинги жанров Action и Sports равны.\n",
    "\n",
    "\\\\(H_1\\\\): Средние пользовательские рейтинги жанров Action и Sports различаются."
   ]
  },
  {
   "cell_type": "markdown",
   "metadata": {},
   "source": [
    "#### Выбор метода"
   ]
  },
  {
   "cell_type": "markdown",
   "metadata": {},
   "source": [
    "Проверим распределение признаков в каждой выборке"
   ]
  },
  {
   "cell_type": "code",
   "execution_count": 70,
   "metadata": {},
   "outputs": [
    {
     "data": {
      "text/plain": [
       "Text(0.5, 1, 'Нормализованные пользовательские оценки жарнов Action и Sports')"
      ]
     },
     "execution_count": 70,
     "metadata": {},
     "output_type": "execute_result"
    },
    {
     "data": {
      "image/png": "[encoded data removed]",
      "text/plain": [
       "<Figure size 427.75x360 with 1 Axes>"
      ]
     },
     "metadata": {},
     "output_type": "display_data"
    }
   ],
   "source": [
    "#выберем нужные жанры\n",
    "user_r_AS = user_rated_games.query('(genre == \"Action\") or (genre == \"Sports\")')\n",
    "\n",
    "#построем нормализованные гистограммы\n",
    "g = sns.displot(user_r_AS, \n",
    "                x=\"user_score\",  \n",
    "                hue=\"genre\",\n",
    "                stat=\"density\", \n",
    "                element=\"step\", \n",
    "                common_norm=False \n",
    "               )\n",
    "\n",
    "plt.title('Нормализованные пользовательские оценки жарнов Action и Sports')"
   ]
  },
  {
   "cell_type": "markdown",
   "metadata": {},
   "source": [
    "Оба распределения схожи с нормальным, однако жанр Sport имеет более плоское распределение, оценки жанра Action имеют сдвиг вправо и сильнее сгруппированы возле среднего. \n",
    "\n",
    "Для того, чтобы сравнить средние двух генеральных совокупностей будем использовать Т-критерией Стьюдента.\n",
    "\n",
    "Посчитаем среднее и дисперсию:"
   ]
  },
  {
   "cell_type": "markdown",
   "metadata": {},
   "source": [
    "**Action**"
   ]
  },
  {
   "cell_type": "code",
   "execution_count": 71,
   "metadata": {},
   "outputs": [
    {
     "name": "stdout",
     "output_type": "stream",
     "text": [
      "Среднее:  6.837532133676092\n",
      "Дисперсия:  1.7693609042482703\n"
     ]
    }
   ],
   "source": [
    "print('Среднее: ', user_rated_games.query('genre == \"Action\"')['user_score'].mean())\n",
    "print('Дисперсия: ', user_rated_games.query('genre == \"Action\"')['user_score'].std() **2)"
   ]
  },
  {
   "cell_type": "markdown",
   "metadata": {},
   "source": [
    "**Sports**"
   ]
  },
  {
   "cell_type": "code",
   "execution_count": 72,
   "metadata": {},
   "outputs": [
    {
     "name": "stdout",
     "output_type": "stream",
     "text": [
      "Среднее:  5.238124999999999\n",
      "Дисперсия:  3.180612814465409\n"
     ]
    }
   ],
   "source": [
    "print('Среднее: ', user_rated_games.query('genre == \"Sports\"')['user_score'].mean())\n",
    "print('Дисперсия: ', user_rated_games.query('genre == \"Sports\"')['user_score'].std() **2)"
   ]
  },
  {
   "cell_type": "markdown",
   "metadata": {},
   "source": [
    "#### Применение Т-критерия Стьюдента\n",
    "Чтобы проверить гипотезу о равенстве среднего двух генеральных совокупностей по взятым из них выборкам, будем применять метод scipy.stats.ttest_ind(array1, array2, equal_var).\n",
    "\n",
    "equal_var — параметр, задающий считать ли равными дисперсии выборок, установим как `False`, поскольку дисперсии не равны."
   ]
  },
  {
   "cell_type": "code",
   "execution_count": 73,
   "metadata": {},
   "outputs": [
    {
     "name": "stdout",
     "output_type": "stream",
     "text": [
      "p-значение: 1.4460039700704315e-20\n",
      "Отвергаем нулевую гипотезу\n"
     ]
    }
   ],
   "source": [
    "sample_1 = user_rated_games.query('genre == \"Sports\"')['user_score']\n",
    "sample_2 = user_rated_games.query('genre == \"Action\"')['user_score']\n",
    "\n",
    "alpha = .05 # критический уровень статистической значимости\n",
    "            # если p-value окажется меньше него - отвергнем гипотезу\n",
    "\n",
    "results = st.ttest_ind(\n",
    "    sample_1, \n",
    "    sample_2, \n",
    "    equal_var = False\n",
    ")\n",
    "\n",
    "print('p-значение:', results.pvalue)\n",
    "\n",
    "if (results.pvalue < alpha):\n",
    "    print(\"Отвергаем нулевую гипотезу\")\n",
    "else:\n",
    "    print(\"Не получилось отвергнуть нулевую гипотезу\") "
   ]
  },
  {
   "cell_type": "markdown",
   "metadata": {},
   "source": [
    "Согласно т-тесту отвергаем нулевую гипотезу.  \n",
    "Р-значение очень мало, поэтому вероятность того, что мы получили наблюдаемую разницу средних случайно, крайне мала.  \n",
    "Таким образом принимаем\n",
    "\\\\(H_1\\\\): Средние пользовательские рейтинги жанров Action и Sports различаются.\n",
    "\n",
    "Согласно данным по нашей выборке, жанр Action в среднем получает более высокие оценки чем жанр Sports – у жанра Action средняя оценка 6.8, что больше чем у жанра Sports со средним значением 5.2. "
   ]
  },
  {
   "cell_type": "markdown",
   "metadata": {},
   "source": [
    "### Вывод"
   ]
  },
  {
   "cell_type": "markdown",
   "metadata": {},
   "source": [
    "На данном шаге мы проверяли следующие продуктовые гипотезы:\n",
    "\n",
    "**5.1 Средние пользовательские рейтинги платформ Xbox One и PC одинаковые**\n",
    "\n",
    "Сначала мы сформировали нулевую и альтернативную гипотезу:\n",
    "<br>\\\\(H_0\\\\): Средние пользовательские рейтинги платформ Xbox One и PC равны.\n",
    "<br>\\\\(H_1\\\\): Средние пользовательские рейтинги платформ Xbox One и PC различаются.\n",
    "\n",
    "Далее проверили распределение признаков в каждой выборке построив нормализованные гистограммы.\n",
    "Распределения похожи на нормальные, со смещением вправо.\n",
    "\n",
    "Для того, чтобы сравнить средние двух генеральных совокупностей мы использовали Т-критерией Стьюдента.\n",
    "После расчета среднего и дисперсии был проведен т-тест.\n",
    "\n",
    "Согласно т-тесту отвергнуть нулевую гипотезу не удалось. (p-значение: 0.15)\n",
    "Таким образом остается принятой гипотеза: \\\\(H_0\\\\): Средние пользовательские рейтинги платформ Xbox One и PC равны.\n",
    "\n",
    "Обычно содержание игр гораздо больше зависит от того, что туда закладывают разработчики, чем от платформы на которой вышла эта игра.\n",
    "\n",
    "**5.2  Средние пользовательские рейтинги жанров Action (англ. «действие», экшен-игры) и Sports (англ. «спортивные соревнования») разные**\n",
    "\n",
    "На данном этапе мы сформировали следующие статистические гипотезы:\n",
    "<br>\\\\(H_0\\\\): Средние пользовательские рейтинги жанров Action и Sports равны.\n",
    "<br>\\\\(H_1\\\\): Средние пользовательские рейтинги жанров Action и Sports различаются.\n",
    "\n",
    "После небольшой обработки данных мы проверили распределение – оба распределения схожи с нормальным, однако жанр Sport имеет более плоское распределение, оценки жанра Action имеют сдвиг вправо и сильнее сгруппированы возле среднего.\n",
    "\n",
    "После применения Т-критерия Стьюдента мы получили \\\\(p =  1.45e-20\\\\)\n",
    "\n",
    "Р-значение очень мало, поэтому вероятность того, что мы получили наблюдаемую разницу средних случайно, крайне мала.\n",
    "Таким образом принимаем \\\\(H_1\\\\): Средние пользовательские рейтинги жанров Action и Sports различаются.\n",
    "\n",
    "Отметим, что в нашей выборке жанр Action в среднем получает более высокие оценки чем жанр Sports – у жанра Action средняя оценка 6.8, что больше чем у жанра Sports со средним значением 5.2.\n"
   ]
  },
  {
   "cell_type": "markdown",
   "metadata": {},
   "source": [
    "## 6. Общий вывод<a id='step6'></a>"
   ]
  },
  {
   "cell_type": "markdown",
   "metadata": {},
   "source": [
    "### 1.\n",
    "Мы обработали и проанализировали информацию о таблице из 11 столбцов и 16715 игр-строк. В процессе работы были решены следующие проблемы:"
   ]
  },
  {
   "cell_type": "markdown",
   "metadata": {},
   "source": [
    "### 2. \n",
    "\n",
    "**2.1.** Исправлены названия столбцов.\n",
    "\n",
    "\n",
    "**2.2.** Обработаны пропуски в столбцах:\n",
    "- **name**:  2 пропуска возникают для одной консоли - Sega Genesis.  значения были замены на GEN_game_1 и 2, а жанры на unknown.\n",
    "Пропущенные значения могли возникнуть если названия игр и жанров были написаны иероглифами, также в таблицу молги случайно попасть платные дополнения к играм.\n",
    "\n",
    "- **year_of_release**: Пропуски появляются на разных платформах, играх и разных жанрах. Причины возникновения пропусков пока не ясны. В некоторых названиях игр содержится год, однако если обрататься к поисковым источникам, он не соответствует реальному году выпуска (часто игра выпускается годом ранее). Поэтому частично восстановить год выпуска по названию не получится.\n",
    "Доля пропущенных значений – 1.6%, поэтому пропущенные значения были отфильтрованы.\n",
    "\n",
    "- **critic_score**: Доля пропущенных значений 51% что довольно много, однако это вполне реальное значение – критики довольно часто пропускают различные непопулярные или старые игры. Поэтому пропущенные значения \n",
    "\n",
    "- **user_score**: Доля пропущенных значений – 40%, это значение также приближено к реальности – на многие игры довольно часто не собирается статистика. Поэтому пропущенные значения также заменялись на `unrated`.\n",
    "\n",
    "- **rating**: Поскольку рейтинг ESRB определяет рейтинги для компьютерных видеоигр в США и Канаде, мы обнаружили большую долю пропущенных значений – 41%. Пропущенные значения заменялись на `unrated`.\n",
    "\n",
    "\n",
    "**2.3.**  Обработана аббревиатура \"tbd\" в столбцах с рейтингом.\n",
    "\n",
    "\"tbd\" – To Be Determined (Ещё не определен). Чтобы гарантировать, что оценки точно отражают отзывы критиков о какой-либо игре, задается нижний порог количества оценок, пока этот порог не достигнут, игра имеет статус \"tbd\".\n",
    "Поскольку рейтинг еще не определен, мы его указывали как `unrated`.\n",
    "\n",
    "**2.4.** Данные приведены  к нужным типам.  \n",
    "Год приведен к формату `int`. `user_scores` было решено оставить как смешанный тип данных.\n",
    "\n",
    "**2.5.** Был проведен расчет суммарных продаж во всех регионах."
   ]
  },
  {
   "cell_type": "markdown",
   "metadata": {},
   "source": [
    "### 3. \n",
    "Проведен исследовательский анализ данных.\n",
    "\n",
    "**3.1.**  Дана оценка количества игр в разные годы.\n",
    "После визуализации данных стало видно, что игры начинают активно выпускаться только с 1993 года, пик количества игр приходится на 2008-2009 год, после чего значения идут на спад. На данном этапе мы обозначили актуальный период выпуска игр как 1993 - 2016 года.\n",
    "\n",
    "**3.2.**  Проведено сравнение продаж по платформам. \n",
    "После того, как мы построили графики для топ 5 платформ по продажам, мы наблюдали что у PS2, PS3, XBOX 360 и DS основной стак игр выходит и активно продается в промежуток около 10 лет, у Wii промежуток оказался меньше - около 6 лет. \n",
    "Также распределения были схожи с нормальным.\n",
    "\n",
    "Таким образом было установлено, что характерный срок за который появляются новые и исчезают старые платформы – 10 лет.\n",
    "\n",
    "**3.3.**  Был выбран актуальный период для построения прогноза на 2017 год.\n",
    "Поскольку дальнейший анализ будет в основном фокусироваться на анализе платформ, а также из-за того, что для предсказания будущего спроса лучше всего использовать \"живые\" платформы, мы выбрали период в последние 10 лет: данные за 2006 - 2016 год.\n",
    "\n",
    "Если во время дальнейшего анализа нам будет нехватать данных по какому-либо признаку, можно будет рассмотреть более продолжительный период.\n",
    "\n",
    "**3.4.**  Отобраны потенциально прибыльные платформы.  \n",
    "После построения графика для всех платформ стало видно, что мы взяли слишком большой промежуток для анализа – мы охватывали платформы, которые имели большой успех в 2006 - 2010, однако сейчас непопулярны. \n",
    "Поэтому мы установили более жесткий фильтр: 2013 - 2016г.\n",
    "\n",
    "После анализа данных мы выявили, что у платформы **PS4** самые большие продажи за выбранный период, к тому же мы выяснили что они растут. К растущим платформам мы также отнесли **Xbox One**, которая занимает 3 место по объему продаж. Это две потенциально самые прибыльные платформы в 2017 году.\n",
    "\n",
    "**PS3 и Xbox 360** – предыдущие версии платформ, занимают 2 и 4 место соответственно, однако у них продажи стремительно падают.\n",
    "\n",
    "Также выделим **Nintendo 3DS, ПК и PS Vita**. Несмотря на то, что продажи у них падают, падение не такое стремительное и от них можно ожидать определенного уровня продаж в следующем году.\n",
    "\n",
    "**WiiU** на 6 месте по объему продаж, является самой рискованной для того чтобы вкладываться в её реализацию и рекламную кампанию: видим резкое падение её продаж в 2016 году по сравнению с поведением остальных платформ.\n",
    "\n",
    "Продажи оставшихся платформ – Wii, PSP и DS уже совсем сошли или сходят на нет.\n",
    "\n",
    "**3.5.** Построили диаграмму размаха по глобальным продажам игр в разбивке по платформам.\n",
    "\n",
    "Диаграмма размаха отображала объемы продаж и в визуализировала результаты из предыдущего пункта анализа.\n",
    "\n",
    "Мы обратили внимание на интересное распределение продаж у платформы Wii – относительно широкий ящик говорит о большой диспресии продаж игр.\n",
    "Также отметили распределения PSVita, и в некоторой степени 3DS и PC. На платформы выходят игры в основном с одинаковыми продажами, что говорит о стабильности платформы. (PSP также стабильно, однако объемы продаж очень маленькие)\n",
    "\n",
    "**3.6.**  Оценили влияние отзывов пользователей и критиков на продажи внутри платформы PS4.\n",
    "\n",
    "Была найдена положительная корреляция продаж и оценок критиков на уровне 0.4, причем чем больше у игры продаж, тем выше оценка критиков (например, если у игры суммарные продажи больше 2 миллионов, то оценки критиков не падают ниже 70).\n",
    "Рецензенты обычно имеют возможность поиграть в игру раньше чем обычные пользователи, таким образом на релизе оценка критиков значительно влияет на решение о покупке.\n",
    "\n",
    "Корреляции оценок пользователей и продаж не обнаружено. Большая часть игр и оценок смещена к оценкам 6-8 и продажам около 0.\n",
    "Скорее всего это объясняется тем, что в основном игры покупаются на релизе и решение о покупке делается до того как игре вынесена пользовательская оценка.\n",
    "\n",
    "**3.7.**  Соотнесли выводы с продажами игр на других платформах.\n",
    "\n",
    "После анализа распределения продаж по всем платформам мы выявили, что для всех игр взятых вместе ситуация схожая – есть зависимость для оценок критиков, а для оценок игроков зависимости с продажами нет.\n",
    "\n",
    "**3.8.**  Рассмотрели общее распределение игр по жанрам.\n",
    "\n",
    "Самые прибыльные жанры: Shooter, Sports и Platform.\n",
    "Жанр Action имеет в среднем не очень большие продажи, однако имеет самые продаваемые игры по выборке (одна из них достигает более 20 млн. проданных копий). \n",
    "\n",
    "Продажи жанров Strategy, Adventure и Puzzle, как оказалось, не превышают 2 млн. проданных копий за выбранный период."
   ]
  },
  {
   "cell_type": "markdown",
   "metadata": {},
   "source": [
    "### 4.\n",
    "\n",
    "На данном этапе анлиза мы пытались составить портрет пользователя каждого региона.\n",
    "\n",
    "\n",
    "**4.1**  Самые популярные платформы (топ-5)\n",
    "- NA: В Северной Америке самые высокие позиции с небольшим отрывом друг от друга занимают консоли последнего поколения PS4 и Xbox One (108 и 93 млн.). Nintendo 3DS находится на последней позиции с 38 млн проданных копий.\n",
    "- EU: В Европе с большим отрывом лидирует PS4 с 141 млн проданных игр. На втором месте PS3, и только после нее идут консоли Xbox.\n",
    "Nintendo 3DS опять закрывает топ 5.\n",
    "- JP: В Японии же ситуация совершенно другая. Здесь лидируют игры для Нинтендо 3DS c 67 млн проданных игр. На втором месте игры для PS3 – вполне возможно игроки еще не успели обновиться до следующего поколения консоли, которая находится на 4 месте. На 3 и 5 местах теперь расположились ещё 2 портативные консоли – PSVita с 18 млн и WiiU с 10 млн проданных копий.\n",
    "\n",
    "В целом PS лидирует на всех рынках, но особенно ярко это проявляется в Европе. В Японии же отдают предпочтение играм для портативных консолей.\n",
    "\n",
    "\n",
    "**4.2**  Самые популярные жанры (топ-5)\n",
    "- NA: В Америке больше всего любят жанры Action (126 млн.) и Shooter (109 млн.). \n",
    "- EU: В Европе игроки любят практически те же жанры что и в Северной Америке – топы различаются только последней позицией, где жанр Misc заменился на Racing.\n",
    "- JP: Япония опять сильно отличается от западных стран. Здесь на вершину топа поднимается жанр Role-Playing с 51 млн и жанр Action с 40 млн. на втором месте. Остальные жанры менее популярны: Misc 9.20млн., Fighting 7.65млн., Shooter 6.61млн.\n",
    "\n",
    "**4.3**  Влияние рейтинга ESRB на продажи в отдельном регионе.\n",
    "\n",
    "Всего было представлено 4 градации рейтинга ESRB:\n",
    "\n",
    "• E («Everyone») — «Для всех»  \n",
    "• E10+ («Everyone 10 and older») — «Для всех от 10 лет и старше»  \n",
    "• T («Teen») — «Подросткам»  \n",
    "• M («Mature») — «Для взрослых»\n",
    "\n",
    "После группировки и визуализации данных стало видно, что NA и EU регионы по влиянию рейтинга ESRB очень похожи между собой – идентичные распределения, только у EU меньше продаж в целом. И в NA и в EU самые продающиеся игры имеют рейтинг M («Mature»). Далее идут игры для всех, на третьем месте по продажам игры 10+, а на последнем – игры для подростков. Вероятно, такая картина связана с тем, что во-первых платящая аудитория это взрослые (для них делаются игры М), которые могут покупать игры и для своих детей (с рейтингом E). Во-вторых подростковая аудитория слишком мала по объему чтобы выпускать под неё большие проекты.\n",
    "\n",
    "Перейдем к продажам в Японском секторе. Здесь ситуация совершенно иная – лидируют игры для подростков и для людей всех возрастов. Это можно попробовать объяснить политикой государства по отношению к \"mature content\", а также популярностью портативных консолей, на которые в основном выходят игры только определенных жанров."
   ]
  },
  {
   "cell_type": "markdown",
   "metadata": {},
   "source": [
    "### 5.\n",
    "\n",
    "На данном шаге мы проверяли следующие продуктовые гипотезы:\n",
    "\n",
    "**5.1 Средние пользовательские рейтинги платформ Xbox One и PC одинаковые**\n",
    "\n",
    "Сначала мы сформировали нулевую и альтернативную гипотезу:\n",
    "<br>\\\\(H_0\\\\): Средние пользовательские рейтинги платформ Xbox One и PC равны.\n",
    "<br>\\\\(H_1\\\\): Средние пользовательские рейтинги платформ Xbox One и PC различаются.\n",
    "\n",
    "Далее проверили распределение признаков в каждой выборке построив нормализованные гистограммы.\n",
    "Распределения похожи на нормальные, со смещением вправо.\n",
    "\n",
    "Для того, чтобы сравнить средние двух генеральных совокупностей мы использовали Т-критерией Стьюдента.\n",
    "После расчета среднего и дисперсии был проведен т-тест.\n",
    "\n",
    "Согласно т-тесту отвергнуть нулевую гипотезу не удалось. (p-значение: 0.15)\n",
    "Таким образом остается принятой гипотеза: \\\\(H_0\\\\): Средние пользовательские рейтинги платформ Xbox One и PC равны.\n",
    "\n",
    "Обычно содержание игр гораздо больше зависит от того, что туда закладывают разработчики, чем от платформы на которой вышла эта игра.\n",
    "\n",
    "**5.2  Средние пользовательские рейтинги жанров Action (англ. «действие», экшен-игры) и Sports (англ. «спортивные соревнования») разные**\n",
    "\n",
    "На данном этапе мы сформировали следующие статистические гипотезы:\n",
    "<br>\\\\(H_0\\\\): Средние пользовательские рейтинги жанров Action и Sports равны.\n",
    "<br>\\\\(H_1\\\\): Средние пользовательские рейтинги жанров Action и Sports различаются.\n",
    "\n",
    "После небольшой обработки данных мы проверили распределение – оба распределения схожи с нормальным, однако жанр Sport имеет более плоское распределение, оценки жанра Action имеют сдвиг вправо и сильнее сгруппированы возле среднего.\n",
    "\n",
    "После применения Т-критерия Стьюдента мы получили \\\\(p =  1.45e-20\\\\)\n",
    "\n",
    "Р-значение очень мало, поэтому вероятность того, что мы получили наблюдаемую разницу средних случайно, крайне мала.\n",
    "Таким образом принимаем \\\\(H_1\\\\): Средние пользовательские рейтинги жанров Action и Sports различаются.\n",
    "\n",
    "Отметим, что в нашей выборке жанр Action в среднем получает более высокие оценки чем жанр Sports – у жанра Action средняя оценка 6.8, что больше чем у жанра Sports со средним значением 5.2.\n"
   ]
  },
  {
   "cell_type": "markdown",
   "metadata": {},
   "source": [
    "### Рекомендации"
   ]
  },
  {
   "cell_type": "markdown",
   "metadata": {},
   "source": [
    "На основе полученных данных, при построении плана на следующий год компании следует фокусироваться на следующих секторах:\n",
    "\n",
    "1. Потенциально прибыльные **платформы**.\n",
    "\n",
    "    У платформы PS4 самые большие продажи за выбранный период, к тому же мы выяснили что они растут. К растущим платформам мы также отнесли Xbox One, которая занимает 3 место по объему продаж. Это две потенциально самые прибыльные платформы в 2017 году.\n",
    "\n",
    "    PS3 и Xbox 360 – предыдущие версии платформ, занимают 2 и 4 место соответственно, однако у них продажи стремительно падают.\n",
    "\n",
    "    Также выделим Nintendo 3DS, ПК и PS Vita. Несмотря на то, что продажи у них падают, падение не такое стремительное и от них можно ожидать определенного уровня продаж в следующем году.\n",
    "\n",
    "    WiiU на 6 месте по объему продаж, является самой рискованной для того чтобы вкладываться в её реализацию и рекламную кампанию: видим резкое падение её продаж в 2016 году по сравнению с поведением остальных платформ.\n",
    "    \n",
    "\n",
    "2. Самые прибыльные **жанры**: Shooter, Sports и Platform.  \n",
    "    Жанр Action имеет в среднем не очень большие продажи, однако имеет самые продаваемые игры по выборке (одна из них достигает более 20 млн. проданных копий). Продажи жанров Strategy, Adventure и Puzzle, судя по актуальным данным, не превышают 2 млн. проданных копий за выбранный период.\n",
    "\n",
    "\n",
    "3. Оценки критиков.  \n",
    "    Найдена положительная корреляция продаж и оценок критиков (на уровне 0.4) – таким образом следует фокусироваться на играх, которые высоко оценены критиками.\n",
    "\n",
    "\n",
    "4. Особенности регионов.  \n",
    "    При планировании следует учитывать отличия в поведении покупателей в различных регионах."
   ]
  }
 ],
 "metadata": {
  "kernelspec": {
   "display_name": "Python 3",
   "language": "python",
   "name": "python3"
  },
  "language_info": {
   "codemirror_mode": {
    "name": "ipython",
    "version": 3
   },
   "file_extension": ".py",
   "mimetype": "text/x-python",
   "name": "python",
   "nbconvert_exporter": "python",
   "pygments_lexer": "ipython3",
   "version": "3.7.8"
  },
  "toc": {
   "base_numbering": 1,
   "nav_menu": {
    "height": "271px",
    "width": "477px"
   },
   "number_sections": true,
   "sideBar": true,
   "skip_h1_title": false,
   "title_cell": "Table of Contents",
   "title_sidebar": "Contents",
   "toc_cell": false,
   "toc_position": {},
   "toc_section_display": true,
   "toc_window_display": false
  }
 },
 "nbformat": 4,
 "nbformat_minor": 2
}
